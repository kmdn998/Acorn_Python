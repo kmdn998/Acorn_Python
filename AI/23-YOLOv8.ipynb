{
 "cells": [
  {
   "cell_type": "markdown",
   "id": "65f10c78",
   "metadata": {},
   "source": [
    "# YOLOv8 설치\n",
    "- pip install ultralytics"
   ]
  },
  {
   "cell_type": "code",
   "execution_count": 2,
   "id": "452726ff",
   "metadata": {},
   "outputs": [
    {
     "name": "stderr",
     "output_type": "stream",
     "text": [
      "Ultralytics YOLOv8.0.117  Python-3.9.13 torch-2.0.1+cpu CPU\n",
      "Setup complete  (12 CPUs, 15.9 GB RAM, 183.7/474.6 GB disk)\n"
     ]
    }
   ],
   "source": [
    "import ultralytics\n",
    "\n",
    "ultralytics.checks()"
   ]
  },
  {
   "cell_type": "markdown",
   "id": "ced1e95f",
   "metadata": {},
   "source": [
    "## Test Image 확인"
   ]
  },
  {
   "cell_type": "code",
   "execution_count": 3,
   "id": "441d891d",
   "metadata": {},
   "outputs": [],
   "source": [
    "import os\n",
    "import zipfile\n",
    "\n",
    "with zipfile.ZipFile('content/Basic_test_image_dir.zip') as target_file:\n",
    "    target_file.extractall('content/test_image_dir')"
   ]
  },
  {
   "cell_type": "code",
   "execution_count": 4,
   "id": "4ab5251c",
   "metadata": {},
   "outputs": [
    {
     "name": "stdout",
     "output_type": "stream",
     "text": [
      "['test1.jpg', 'test2.jpg', 'test3.jpg', 'test4.jpg']\n"
     ]
    }
   ],
   "source": [
    "print(os.listdir('content/test_image_dir'))"
   ]
  },
  {
   "cell_type": "code",
   "execution_count": 5,
   "id": "eb70593d",
   "metadata": {},
   "outputs": [],
   "source": [
    "from PIL import Image\n",
    "\n",
    "with Image.open('content/test_image_dir/test1.jpg') as test_image:\n",
    "    test_image.show()"
   ]
  },
  {
   "cell_type": "code",
   "execution_count": 6,
   "id": "f7ce16f6",
   "metadata": {},
   "outputs": [],
   "source": [
    "with Image.open('content/test_image_dir/test2.jpg') as test_image:\n",
    "    test_image.show()"
   ]
  },
  {
   "cell_type": "code",
   "execution_count": 7,
   "id": "5ecdac0d",
   "metadata": {},
   "outputs": [],
   "source": [
    "with Image.open('content/test_image_dir/test3.jpg') as test_image:\n",
    "    test_image.show()"
   ]
  },
  {
   "cell_type": "code",
   "execution_count": 8,
   "id": "001628f3",
   "metadata": {},
   "outputs": [],
   "source": [
    "with Image.open('content/test_image_dir/test4.jpg') as test_image:\n",
    "    test_image.show()"
   ]
  },
  {
   "cell_type": "markdown",
   "id": "da2bbb15",
   "metadata": {},
   "source": [
    "## Detection"
   ]
  },
  {
   "cell_type": "code",
   "execution_count": 9,
   "id": "5e23a5b8",
   "metadata": {},
   "outputs": [
    {
     "name": "stderr",
     "output_type": "stream",
     "text": [
      "Downloading https:\\github.com\\ultralytics\\assets\\releases\\download\\v0.0.0\\yolov8n.pt to yolov8n.pt...\n",
      "100%|█████████████████████████████████████████████████████████████████████████████| 6.23M/6.23M [00:00<00:00, 54.9MB/s]\n"
     ]
    }
   ],
   "source": [
    "from ultralytics import YOLO # coco dataset으로 학습됨\n",
    "\n",
    "model= YOLO('yolov8n.pt')"
   ]
  },
  {
   "cell_type": "code",
   "execution_count": 11,
   "id": "cfdcc705",
   "metadata": {},
   "outputs": [
    {
     "name": "stdout",
     "output_type": "stream",
     "text": [
      "80\n",
      "{0: 'person', 1: 'bicycle', 2: 'car', 3: 'motorcycle', 4: 'airplane', 5: 'bus', 6: 'train', 7: 'truck', 8: 'boat', 9: 'traffic light', 10: 'fire hydrant', 11: 'stop sign', 12: 'parking meter', 13: 'bench', 14: 'bird', 15: 'cat', 16: 'dog', 17: 'horse', 18: 'sheep', 19: 'cow', 20: 'elephant', 21: 'bear', 22: 'zebra', 23: 'giraffe', 24: 'backpack', 25: 'umbrella', 26: 'handbag', 27: 'tie', 28: 'suitcase', 29: 'frisbee', 30: 'skis', 31: 'snowboard', 32: 'sports ball', 33: 'kite', 34: 'baseball bat', 35: 'baseball glove', 36: 'skateboard', 37: 'surfboard', 38: 'tennis racket', 39: 'bottle', 40: 'wine glass', 41: 'cup', 42: 'fork', 43: 'knife', 44: 'spoon', 45: 'bowl', 46: 'banana', 47: 'apple', 48: 'sandwich', 49: 'orange', 50: 'broccoli', 51: 'carrot', 52: 'hot dog', 53: 'pizza', 54: 'donut', 55: 'cake', 56: 'chair', 57: 'couch', 58: 'potted plant', 59: 'bed', 60: 'dining table', 61: 'toilet', 62: 'tv', 63: 'laptop', 64: 'mouse', 65: 'remote', 66: 'keyboard', 67: 'cell phone', 68: 'microwave', 69: 'oven', 70: 'toaster', 71: 'sink', 72: 'refrigerator', 73: 'book', 74: 'clock', 75: 'vase', 76: 'scissors', 77: 'teddy bear', 78: 'hair drier', 79: 'toothbrush'}\n"
     ]
    }
   ],
   "source": [
    "print(len(model.names)) # coco dataset으로 학습됨\n",
    "print(model.names)"
   ]
  },
  {
   "cell_type": "markdown",
   "id": "def31140",
   "metadata": {},
   "source": [
    "## Prediction"
   ]
  },
  {
   "cell_type": "code",
   "execution_count": 21,
   "id": "3e281a57",
   "metadata": {},
   "outputs": [
    {
     "name": "stderr",
     "output_type": "stream",
     "text": [
      "\n",
      "image 1/4 C:\\kim\\python\\AI\\content\\test_image_dir\\test1.jpg: 544x640 1 laptop, 1 mouse, 2 keyboards, 1 cell phone, 114.7ms\n",
      "image 2/4 C:\\kim\\python\\AI\\content\\test_image_dir\\test2.jpg: 448x640 4 zebras, 1 giraffe, 85.8ms\n",
      "image 3/4 C:\\kim\\python\\AI\\content\\test_image_dir\\test3.jpg: 640x640 2 cups, 1 bowl, 2 sandwichs, 1 dining table, 112.7ms\n",
      "image 4/4 C:\\kim\\python\\AI\\content\\test_image_dir\\test4.jpg: 480x640 2 persons, 1 truck, 1 horse, 92.8ms\n",
      "Speed: 3.0ms preprocess, 101.5ms inference, 1.0ms postprocess per image at shape (1, 3, 640, 640)\n",
      "Results saved to \u001b[1mruns\\detect\\predict\u001b[0m\n"
     ]
    }
   ],
   "source": [
    "result= model.predict(source='content/test_image_dir/*.jpg', save=True)"
   ]
  },
  {
   "cell_type": "code",
   "execution_count": 22,
   "id": "6eba12e2",
   "metadata": {},
   "outputs": [],
   "source": [
    "with Image.open('runs/detect/predict/test3.jpg') as pred_image:\n",
    "    pred_image.show()"
   ]
  },
  {
   "cell_type": "markdown",
   "id": "c41e539f",
   "metadata": {},
   "source": [
    "## Custom Data 사용\n",
    "- fine tunning"
   ]
  },
  {
   "cell_type": "code",
   "execution_count": null,
   "id": "7e3a4b95",
   "metadata": {},
   "outputs": [],
   "source": []
  }
 ],
 "metadata": {
  "kernelspec": {
   "display_name": "Python 3 (ipykernel)",
   "language": "python",
   "name": "python3"
  },
  "language_info": {
   "codemirror_mode": {
    "name": "ipython",
    "version": 3
   },
   "file_extension": ".py",
   "mimetype": "text/x-python",
   "name": "python",
   "nbconvert_exporter": "python",
   "pygments_lexer": "ipython3",
   "version": "3.9.13"
  }
 },
 "nbformat": 4,
 "nbformat_minor": 5
}
