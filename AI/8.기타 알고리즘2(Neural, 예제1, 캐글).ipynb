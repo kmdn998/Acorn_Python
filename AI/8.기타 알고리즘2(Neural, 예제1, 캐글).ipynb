{
 "cells": [
  {
   "cell_type": "code",
   "execution_count": 2,
   "id": "f80e7119",
   "metadata": {},
   "outputs": [],
   "source": [
    "import numpy as np\n",
    "import pandas as pd\n",
    "import matplotlib.pyplot as plt\n",
    "import seaborn as sns\n",
    "\n",
    "import matplotlib.font_manager as fm\n",
    "font_name=fm.FontProperties(fname='C:\\\\Windows\\\\Fonts\\\\malgun.ttf').get_name()\n",
    "plt.rc('font',family=font_name)\n",
    "import matplotlib as mlp\n",
    "mlp.rcParams['axes.unicode_minus'] = False"
   ]
  },
  {
   "cell_type": "code",
   "execution_count": 3,
   "id": "c029451c",
   "metadata": {},
   "outputs": [],
   "source": [
    "import mglearn\n",
    "\n",
    "from sklearn.linear_model import Perceptron\n",
    "from sklearn.neural_network import MLPClassifier\n",
    "\n",
    "from sklearn.model_selection import train_test_split, cross_val_score, cross_validate, GridSearchCV, RandomizedSearchCV\n",
    "from sklearn.preprocessing import MinMaxScaler, StandardScaler, LabelEncoder\n",
    "from sklearn.metrics import accuracy_score, confusion_matrix\n",
    "from sklearn.metrics import classification_report, roc_curve\n",
    "\n",
    "from sklearn.datasets import load_iris, load_boston, load_breast_cancer\n",
    "from sklearn.datasets import fetch_california_housing"
   ]
  },
  {
   "cell_type": "code",
   "execution_count": 231,
   "id": "b8129d9b",
   "metadata": {},
   "outputs": [],
   "source": [
    "import warnings\n",
    "warnings.filterwarnings('ignore')"
   ]
  },
  {
   "cell_type": "markdown",
   "id": "ff8cab18",
   "metadata": {},
   "source": [
    "# 1. 인공 신경망(Artificail Neural Network)\n",
    "- 은닉층의 유무"
   ]
  },
  {
   "cell_type": "code",
   "execution_count": null,
   "id": "cda63a52",
   "metadata": {},
   "outputs": [],
   "source": [
    "mglearn.plots.plot_logistic_regression_graph() # 머신러닝"
   ]
  },
  {
   "cell_type": "code",
   "execution_count": null,
   "id": "04d940bf",
   "metadata": {},
   "outputs": [],
   "source": [
    "mglearn.plots.plot_single_hidden_layer_graph() # 인공신경망, 딥러닝"
   ]
  },
  {
   "cell_type": "code",
   "execution_count": null,
   "id": "582c6dd9",
   "metadata": {},
   "outputs": [],
   "source": [
    "mglearn.plots.plot_two_hidden_layer_graph() # 인공신경망, 딥러닝"
   ]
  },
  {
   "cell_type": "markdown",
   "id": "02289891",
   "metadata": {},
   "source": [
    "## (1) Perceptrin (Node)\n",
    "- 다수의 신호를 입력으로 받아 하나의 신호로 출력"
   ]
  },
  {
   "cell_type": "markdown",
   "id": "2d2456ad",
   "metadata": {},
   "source": [
    "### 1) AND gate"
   ]
  },
  {
   "cell_type": "code",
   "execution_count": null,
   "id": "7498662b",
   "metadata": {},
   "outputs": [],
   "source": [
    "def AND(x1, x2): # 입력변수\n",
    "    x= np.array([x1, x2])\n",
    "    w= np.array([0.5, 0.5]) # 원래 모델이 찾아야하는 값\n",
    "    b= -0.7\n",
    "    \n",
    "    result= np.sum(w*x) +b\n",
    "    if result <=0:\n",
    "        return 0\n",
    "    else:\n",
    "        return 1"
   ]
  },
  {
   "cell_type": "code",
   "execution_count": null,
   "id": "9f256b8f",
   "metadata": {},
   "outputs": [],
   "source": [
    "inputs= [(0,0), (1,0), (0,1), (1,1)]\n",
    "for x1, x2 in inputs:\n",
    "    y= AND(x1, x2)\n",
    "    print('{},{} -> {}'.format(x1, x2, y))"
   ]
  },
  {
   "cell_type": "markdown",
   "id": "ac2c6201",
   "metadata": {},
   "source": [
    "### 2) OR gate"
   ]
  },
  {
   "cell_type": "code",
   "execution_count": null,
   "id": "00ed3ca5",
   "metadata": {},
   "outputs": [],
   "source": [
    "def OR(x1, x2): # 입력변수\n",
    "    x= np.array([x1, x2])\n",
    "    w= np.array([0.5, 0.5]) # 원래 모델이 찾아야하는 값\n",
    "    b= -0.2\n",
    "    \n",
    "    result= np.sum(w*x) +b\n",
    "    if result <=0:\n",
    "        return 0\n",
    "    else:\n",
    "        return 1"
   ]
  },
  {
   "cell_type": "code",
   "execution_count": null,
   "id": "aa7c62f8",
   "metadata": {},
   "outputs": [],
   "source": [
    "inputs= [(0,0), (1,0), (0,1), (1,1)]\n",
    "for x1, x2 in inputs:\n",
    "    y= OR(x1, x2)\n",
    "    print('{},{} -> {}'.format(x1, x2, y))"
   ]
  },
  {
   "cell_type": "code",
   "execution_count": null,
   "id": "67a70fbd",
   "metadata": {},
   "outputs": [],
   "source": [
    "'''\n",
    "XOR(Exclusive OR)          \n",
    "===================\n",
    "x1   x2    and    or   XOR\n",
    "-----------------------------\n",
    "T     T      T     T     F\n",
    "T     F      F     T     T\n",
    "F     T      F     T     T\n",
    "F     F      F     F     F\n",
    "\n",
    "XOR: 둘이 다르면 T, 같으면 F\n",
    "비트연산자에서 주로 사용. 데이터 암호화/복호화\n",
    "'''"
   ]
  },
  {
   "cell_type": "code",
   "execution_count": null,
   "id": "f0f3c53d",
   "metadata": {},
   "outputs": [],
   "source": [
    "data= 12 # 00001100\n",
    "key= 25346 # 11000110\n",
    "\n",
    "# data와 key를 비교하여 XOR 연산(암호화, 복호화)\n",
    "result= data ^ key\n",
    "print('암호화된 결과:', result)\n",
    "print('복호화된 결과:', result ^ key)"
   ]
  },
  {
   "cell_type": "markdown",
   "id": "b512bc90",
   "metadata": {},
   "source": [
    "### 3) NAND gate"
   ]
  },
  {
   "cell_type": "code",
   "execution_count": null,
   "id": "1fcfa2e7",
   "metadata": {},
   "outputs": [],
   "source": [
    "def NAND(x1, x2): # 입력변수\n",
    "    x= np.array([x1, x2])\n",
    "    w= np.array([-0.5, -0.5]) # 원래 모델이 찾아야하는 값\n",
    "    b= 0.7\n",
    "    \n",
    "    result= np.sum(w*x) +b\n",
    "    if result <=0:\n",
    "        return 0\n",
    "    else:\n",
    "        return 1"
   ]
  },
  {
   "cell_type": "code",
   "execution_count": null,
   "id": "b26c4f64",
   "metadata": {},
   "outputs": [],
   "source": [
    "inputs= [(0,0), (1,0), (0,1), (1,1)]\n",
    "for x1, x2 in inputs:\n",
    "    y= NAND(x1, x2)\n",
    "    print('{},{} -> {}'.format(x1, x2, y))"
   ]
  },
  {
   "cell_type": "markdown",
   "id": "27ee38ad",
   "metadata": {},
   "source": [
    "###  4) XOR gate"
   ]
  },
  {
   "attachments": {
    "image.png": {
     "image/png": "[encoded data removed]"
    }
   },
   "cell_type": "markdown",
   "id": "c4b05401",
   "metadata": {},
   "source": [
    "![image.png](attachment:image.png)"
   ]
  },
  {
   "cell_type": "code",
   "execution_count": null,
   "id": "684c68da",
   "metadata": {},
   "outputs": [],
   "source": [
    "def XOR(x1, x2):\n",
    "    s1= OR(x1, x2)\n",
    "    s2= NAND(x1, x2)\n",
    "    y= AND(s1, s2)\n",
    "    \n",
    "    return y"
   ]
  },
  {
   "cell_type": "code",
   "execution_count": null,
   "id": "ab0b0149",
   "metadata": {},
   "outputs": [],
   "source": [
    "inputs= [(0,0), (1,0), (0,1), (1,1)]\n",
    "for x1, x2 in inputs:\n",
    "    y= XOR(x1, x2)\n",
    "    print('{},{} -> {}'.format(x1, x2, y))"
   ]
  },
  {
   "cell_type": "markdown",
   "id": "2a024d77",
   "metadata": {},
   "source": [
    "## (2) 사이킷런에서의 인공신경망 구현\n",
    "- Scikit Learn: Preceptron(), MLPClassifier()\n",
    "- ML, DL Framework: Theano, Tensorflow, Pytorch, ..."
   ]
  },
  {
   "cell_type": "markdown",
   "id": "f51fc10d",
   "metadata": {},
   "source": [
    "### 1) Perceptron(): layer 1개"
   ]
  },
  {
   "cell_type": "code",
   "execution_count": null,
   "id": "ba9daeef",
   "metadata": {},
   "outputs": [],
   "source": [
    "iris= load_iris()\n",
    "X_train, X_test, y_train, y_test= train_test_split(iris.data, iris.target, test_size=0.3)"
   ]
  },
  {
   "cell_type": "code",
   "execution_count": null,
   "id": "638cfb04",
   "metadata": {},
   "outputs": [],
   "source": [
    "scaler= StandardScaler()\n",
    "scaler.fit(X_train)\n",
    "\n",
    "X_train= scaler.transform(X_train)\n",
    "X_test= scaler.transform(X_test)"
   ]
  },
  {
   "cell_type": "code",
   "execution_count": null,
   "id": "b87da3c4",
   "metadata": {},
   "outputs": [],
   "source": [
    "model= Perceptron(max_iter=40, eta0=0.1, random_state=0)\n",
    "model.fit(X_train, y_train)"
   ]
  },
  {
   "cell_type": "code",
   "execution_count": null,
   "id": "535fd90d",
   "metadata": {},
   "outputs": [],
   "source": [
    "pred= model.predict(X_test)\n",
    "print(accuracy_score(y_test, pred))"
   ]
  },
  {
   "cell_type": "markdown",
   "id": "912b9c3f",
   "metadata": {},
   "source": [
    "### 2) MLPClassifier()"
   ]
  },
  {
   "cell_type": "code",
   "execution_count": null,
   "id": "ea2cfeb3",
   "metadata": {},
   "outputs": [],
   "source": [
    "iris= load_iris()\n",
    "X_train, X_test, y_train, y_test= train_test_split(iris.data, iris.target, test_size=0.3)"
   ]
  },
  {
   "cell_type": "code",
   "execution_count": null,
   "id": "6d0c24a2",
   "metadata": {},
   "outputs": [],
   "source": [
    "# 입력층은 4개 (X의 columns)\n",
    "# 200개의 노드가 있는 레이어 3개\n",
    "model= MLPClassifier(max_iter=100, hidden_layer_sizes=(200,200,200))\n",
    "model.fit(X_train, y_train)"
   ]
  },
  {
   "cell_type": "code",
   "execution_count": null,
   "id": "75190f38",
   "metadata": {},
   "outputs": [],
   "source": [
    "pred= model.predict(X_test)\n",
    "print(accuracy_score(y_test, pred))"
   ]
  },
  {
   "cell_type": "markdown",
   "id": "b9581ab7",
   "metadata": {},
   "source": [
    "# 2. 종합 예제 1\n",
    "- 여행자 보험 가입여부"
   ]
  },
  {
   "cell_type": "code",
   "execution_count": null,
   "id": "7ea3d7b0",
   "metadata": {},
   "outputs": [],
   "source": [
    "data= pd.read_csv('data/TravelInsurance.csv')\n",
    "data.head()"
   ]
  },
  {
   "cell_type": "markdown",
   "id": "15b2c4f2",
   "metadata": {},
   "source": [
    "## (1) X, y 나누기"
   ]
  },
  {
   "cell_type": "code",
   "execution_count": null,
   "id": "4ed3c070",
   "metadata": {},
   "outputs": [],
   "source": [
    "X = data[data.columns[:-1]]\n",
    "y = data[data.columns[-1]]"
   ]
  },
  {
   "cell_type": "markdown",
   "id": "5956c2a1",
   "metadata": {},
   "source": [
    "## (2) train, test 나누기"
   ]
  },
  {
   "cell_type": "code",
   "execution_count": null,
   "id": "ff0b8195",
   "metadata": {},
   "outputs": [],
   "source": [
    "X_train, X_test, y_train, y_test= train_test_split(X, y, random_state=42, test_size=0.3, stratify=y)"
   ]
  },
  {
   "cell_type": "markdown",
   "id": "f45806f5",
   "metadata": {},
   "source": [
    "## (3) Preprocessing"
   ]
  },
  {
   "cell_type": "code",
   "execution_count": null,
   "id": "7f2bb6e2",
   "metadata": {},
   "outputs": [],
   "source": [
    "#### 연속변수끼리 나누기\n",
    "X_num = X_train[X_train.columns[0:4]]\n",
    "\n",
    "#### 범주형 변수끼리 나누기\n",
    "X_cat = X_train[X_train.columns[4:]]\n",
    "\n",
    "#### 범주형 변수 원핫인코딩\n",
    "X_cat = pd.get_dummies(X_cat)\n",
    "\n",
    "#### 인덱스 재조정\n",
    "X_cat= X_cat.reset_index(drop=True)\n",
    "\n",
    "#### 테스트데이터에서도 동일하게 진행\n",
    "test_num = X_test[X_test.columns[0:4]]\n",
    "test_cat = X_test[X_test.columns[4:]]\n",
    "test_cat = pd.get_dummies(test_cat)\n",
    "test_cat= test_cat.reset_index(drop=True)"
   ]
  },
  {
   "cell_type": "code",
   "execution_count": null,
   "id": "1a394c91",
   "metadata": {},
   "outputs": [],
   "source": [
    "#### 범주형 변수를 동일하게 통합\n",
    "X_cat.info()\n",
    "test_cat.info()\n",
    "# 변수 개수가 다르면 align\n",
    "X_cat, test_cat= X_cat.align(test_cat, join='outer',axis=1)"
   ]
  },
  {
   "cell_type": "code",
   "execution_count": null,
   "id": "9888bfa3",
   "metadata": {},
   "outputs": [],
   "source": [
    "#### 연속형 변수에서 정규화\n",
    "std = StandardScaler()\n",
    "std.fit(X_num)\n",
    "X_scaled = std.transform(X_num)\n",
    "test_scaled = std.transform(test_num)\n",
    "\n",
    "#### 통합\n",
    "X_final = pd.concat([pd.DataFrame(X_scaled), X_cat], axis=1, ignore_index=True)\n",
    "test_final = pd.concat([pd.DataFrame(test_scaled), test_cat], axis=1, ignore_index=True)"
   ]
  },
  {
   "cell_type": "code",
   "execution_count": null,
   "id": "456fe919",
   "metadata": {},
   "outputs": [],
   "source": [
    "X_final #1390\n",
    "test_final #597"
   ]
  },
  {
   "cell_type": "markdown",
   "id": "6098f793",
   "metadata": {},
   "source": [
    "## (4) 모델 학습"
   ]
  },
  {
   "cell_type": "code",
   "execution_count": 61,
   "id": "07c8e116",
   "metadata": {},
   "outputs": [],
   "source": [
    "from sklearn.neighbors import KNeighborsClassifier\n",
    "from sklearn.linear_model import LogisticRegression\n",
    "from sklearn.tree import DecisionTreeClassifier\n",
    "from sklearn. ensemble import RandomForestClassifier\n",
    "from sklearn. svm import SVC\n",
    "from sklearn. naive_bayes import GaussianNB\n",
    "from sklearn. neural_network import MLPClassifier"
   ]
  },
  {
   "cell_type": "markdown",
   "id": "3db24628",
   "metadata": {},
   "source": [
    "### 1) KNN"
   ]
  },
  {
   "cell_type": "code",
   "execution_count": null,
   "id": "2c37a7b5",
   "metadata": {},
   "outputs": [],
   "source": [
    "model= KNeighborsClassifier()\n",
    "\n",
    "params= {'n_neighbors': [1,3,5,7,9,11]}\n",
    "grid_search= GridSearchCV(model, params, cv=5)\n",
    "grid_search.fit(X_final, y_train)"
   ]
  },
  {
   "cell_type": "code",
   "execution_count": null,
   "id": "0884c05a",
   "metadata": {},
   "outputs": [],
   "source": [
    "print('Best Parameter:', grid_search.best_params_)\n",
    "print('Best Score:', grid_search.best_score_)\n",
    "print('Test Score:', grid_search.score(test_final, y_test))"
   ]
  },
  {
   "cell_type": "code",
   "execution_count": null,
   "id": "dbdb1a87",
   "metadata": {},
   "outputs": [],
   "source": [
    "model= KNeighborsClassifier(n_neighbors=11).fit(X_final, y_train)\n",
    "print('훈련점수:', model.score(X_final, y_train))\n",
    "pred= model.predict(test_final)\n",
    "print('테스트점수:', accuracy_score(y_test, pred))"
   ]
  },
  {
   "cell_type": "markdown",
   "id": "4e3af36b",
   "metadata": {},
   "source": [
    "### 2) LogisticRegression"
   ]
  },
  {
   "cell_type": "code",
   "execution_count": null,
   "id": "2eba2a4a",
   "metadata": {},
   "outputs": [],
   "source": [
    "model= LogisticRegression()\n",
    "params= {'C':[1, 10, 100, 0.1, 0.01, 0.001]}\n",
    "grid_search= GridSearchCV(model, params, cv=5)\n",
    "grid_search.fit(X_final, y_train)"
   ]
  },
  {
   "cell_type": "code",
   "execution_count": null,
   "id": "80e34c56",
   "metadata": {},
   "outputs": [],
   "source": [
    "print('Best Parameter:', grid_search.best_params_)\n",
    "print('Best Score:', grid_search.best_score_)\n",
    "print('Test Score:', grid_search.score(test_final, y_test))"
   ]
  },
  {
   "cell_type": "code",
   "execution_count": null,
   "id": "f236bc81",
   "metadata": {},
   "outputs": [],
   "source": [
    "model= LogisticRegression(C=0.01).fit(X_final, y_train)\n",
    "print('훈련점수:', model.score(X_final, y_train))\n",
    "pred= model.predict(test_final)\n",
    "print('테스트점수:', accuracy_score(y_test, pred))"
   ]
  },
  {
   "cell_type": "markdown",
   "id": "506b186c",
   "metadata": {},
   "source": [
    "### 3) DecisionTree"
   ]
  },
  {
   "cell_type": "code",
   "execution_count": null,
   "id": "d6d70f92",
   "metadata": {},
   "outputs": [],
   "source": [
    "model= DecisionTreeClassifier()\n",
    "\n",
    "params={'max_depth':range(2, 10, 2), 'min_samples_leaf':range(1, 50, 2)}\n",
    "grid_search= GridSearchCV(model, params, cv=5)\n",
    "grid_search.fit(X_final, y_train)"
   ]
  },
  {
   "cell_type": "code",
   "execution_count": null,
   "id": "11977249",
   "metadata": {},
   "outputs": [],
   "source": [
    "print('Best Parameter:', grid_search.best_params_)\n",
    "print('Best Score:', grid_search.best_score_)\n",
    "print('Test Score:', grid_search.score(test_final, y_test))"
   ]
  },
  {
   "cell_type": "code",
   "execution_count": null,
   "id": "d030f218",
   "metadata": {},
   "outputs": [],
   "source": [
    "model= DecisionTreeClassifier(max_depth=4, min_samples_leaf=3).fit(X_final, y_train)\n",
    "print('훈련점수:', model.score(X_final, y_train))\n",
    "pred= model.predict(test_final)\n",
    "print('테스트점수:', accuracy_score(y_test, pred))"
   ]
  },
  {
   "cell_type": "markdown",
   "id": "e74fcd79",
   "metadata": {},
   "source": [
    "### 4) RandomForest"
   ]
  },
  {
   "cell_type": "code",
   "execution_count": null,
   "id": "bcbcd13b",
   "metadata": {},
   "outputs": [],
   "source": [
    "model= RandomForestClassifier()\n",
    "\n",
    "params={'n_estimators': range(100, 1000, 100), 'max_features': ['auto','sqrt','log2']}\n",
    "grid_search= GridSearchCV(model, params, cv=5)\n",
    "grid_search.fit(X_final, y_train)"
   ]
  },
  {
   "cell_type": "code",
   "execution_count": null,
   "id": "6c906dd5",
   "metadata": {},
   "outputs": [],
   "source": [
    "print('Best Parameter:', grid_search.best_params_)\n",
    "print('Best Score:', grid_search.best_score_)\n",
    "print('Test Score:', grid_search.score(test_final, y_test))"
   ]
  },
  {
   "cell_type": "code",
   "execution_count": null,
   "id": "2481686f",
   "metadata": {
    "scrolled": true
   },
   "outputs": [],
   "source": [
    "model= RandomForestClassifier(max_features='sqrt', n_estimators=800).fit(X_final, y_train)\n",
    "print('훈련점수:', model.score(X_final, y_train))\n",
    "pred= model.predict(test_final)\n",
    "print('테스트점수:', accuracy_score(y_test, pred))"
   ]
  },
  {
   "cell_type": "markdown",
   "id": "0255cfc6",
   "metadata": {},
   "source": [
    "### 4-2) Boosting"
   ]
  },
  {
   "cell_type": "markdown",
   "id": "880b4135",
   "metadata": {},
   "source": [
    "### 5) Suport Vector Machine"
   ]
  },
  {
   "cell_type": "code",
   "execution_count": null,
   "id": "77796f70",
   "metadata": {},
   "outputs": [],
   "source": [
    "model= SVC().fit(X_final, y_train)\n",
    "\n",
    "print('훈련점수:', model.score(X_final, y_train))\n",
    "pred= model.predict(test_final)\n",
    "print('테스트점수:', accuracy_score(y_test, pred))\n",
    "\n",
    "params={'C':[0.001, 0.01, 0.1, 1, 10, 100], 'kernel':['rbf','linear'], 'gamma':[0.001, 0.01, 0.1, 1, 10, 100]}\n",
    "grid_search= GridSearchCV(model, params, cv=5)\n",
    "grid_search.fit(X_final, y_train)"
   ]
  },
  {
   "cell_type": "code",
   "execution_count": null,
   "id": "240cd108",
   "metadata": {},
   "outputs": [],
   "source": [
    "print('Best Parameter:', grid_search.best_params_)\n",
    "print('Best Score:', grid_search.best_score_)\n",
    "print('Test Score:', grid_search.score(test_final, y_test))"
   ]
  },
  {
   "cell_type": "code",
   "execution_count": null,
   "id": "9e7cdb47",
   "metadata": {
    "scrolled": false
   },
   "outputs": [],
   "source": [
    "model= SVC(C=10, gamma=0.1, kernel='rbf').fit(X_final, y_train)\n",
    "print('훈련점수:', model.score(X_final, y_train))\n",
    "pred= model.predict(test_final)\n",
    "print('테스트점수:', accuracy_score(y_test, pred))"
   ]
  },
  {
   "cell_type": "markdown",
   "id": "628925d9",
   "metadata": {},
   "source": [
    "### 6) Naive-Bayes (GaussianNB)"
   ]
  },
  {
   "cell_type": "code",
   "execution_count": null,
   "id": "03d6734a",
   "metadata": {},
   "outputs": [],
   "source": [
    "model= GaussianNB().fit(X_final, y_train)\n",
    "\n",
    "print('훈련점수:', model.score(X_final, y_train))\n",
    "pred= model.predict(test_final)\n",
    "print('테스트점수:', accuracy_score(y_test, pred))\n",
    "\n",
    "params={'var_smoothing':[0.0001,0.001, 0.01, 0.1, 0,1,2,3,4,5,6,7,8]}\n",
    "grid_search= GridSearchCV(model, params, cv=5)\n",
    "grid_search.fit(X_final, y_train)"
   ]
  },
  {
   "cell_type": "code",
   "execution_count": null,
   "id": "c78e6fcd",
   "metadata": {},
   "outputs": [],
   "source": [
    "print('Best Parameter:', grid_search.best_params_)\n",
    "print('Best Score:', grid_search.best_score_)\n",
    "print('Test Score:', grid_search.score(test_final, y_test))"
   ]
  },
  {
   "cell_type": "code",
   "execution_count": null,
   "id": "0aa8968b",
   "metadata": {
    "scrolled": false
   },
   "outputs": [],
   "source": [
    "model= GaussianNB(var_smoothing=1).fit(X_final, y_train)\n",
    "print('훈련점수:', model.score(X_final, y_train))\n",
    "pred= model.predict(test_final)\n",
    "print('테스트점수:', accuracy_score(y_test, pred))"
   ]
  },
  {
   "cell_type": "code",
   "execution_count": null,
   "id": "f7dd70c5",
   "metadata": {},
   "outputs": [],
   "source": [
    "model= SVC().fit(X_final, y_train)\n",
    "\n",
    "print('훈련점수:', model.score(X_final, y_train))\n",
    "pred= model.predict(test_final)\n",
    "print('테스트점수:', accuracy_score(y_test, pred))\n",
    "\n",
    "params={'C':[0.001, 0.01, 0.1, 1, 10, 100], 'kernel':['rbf','linear'], 'gamma':[0.001, 0.01, 0.1, 1, 10, 100]}\n",
    "grid_search= GridSearchCV(model, params, cv=5)\n",
    "grid_search.fit(X_final, y_train)\n",
    "\n",
    "print('Best Parameter:', grid_search.best_params_)\n",
    "print('Best Score:', grid_search.best_score_)\n",
    "print('Test Score:', grid_search.score(test_final, y_test))\n",
    "\n",
    "model= SVC(C=10, gamma=0.1, kernel='rbf').fit(X_final, y_train)\n",
    "print('훈련점수:', model.score(X_final, y_train))\n",
    "pred= model.predict(test_final)\n",
    "print('테스트점수:', accuracy_score(y_test, pred))model= SVC().fit(X_final, y_train)\n",
    "\n",
    "print('훈련점수:', model.score(X_final, y_train))\n",
    "pred= model.predict(test_final)\n",
    "print('테스트점수:', accuracy_score(y_test, pred))\n",
    "\n",
    "params={'C':[0.001, 0.01, 0.1, 1, 10, 100], 'kernel':['rbf','linear'], 'gamma':[0.001, 0.01, 0.1, 1, 10, 100]}\n",
    "grid_search= GridSearchCV(model, params, cv=5)\n",
    "grid_search.fit(X_final, y_train)\n",
    "\n",
    "print('Best Parameter:', grid_search.best_params_)\n",
    "print('Best Score:', grid_search.best_score_)\n",
    "print('Test Score:', grid_search.score(test_final, y_test))\n",
    "\n",
    "model= SVC(C=10, gamma=0.1, kernel='rbf').fit(X_final, y_train)\n",
    "print('훈련점수:', model.score(X_final, y_train))\n",
    "pred= model.predict(test_final)\n",
    "print('테스트점수:', accuracy_score(y_test, pred))"
   ]
  },
  {
   "cell_type": "markdown",
   "id": "e849d5ce",
   "metadata": {},
   "source": [
    "### 7) Artificial Neural Network 인공신경망: MLPClassifier"
   ]
  },
  {
   "cell_type": "code",
   "execution_count": null,
   "id": "41caa95a",
   "metadata": {},
   "outputs": [],
   "source": [
    "model= MLPClassifier().fit(X_final, y_train)\n",
    "\n",
    "print('훈련점수:', model.score(X_final, y_train))\n",
    "pred= model.predict(test_final)\n",
    "print('테스트점수:', accuracy_score(y_test, pred))\n",
    "\n",
    "params={'hidden_layer_sizes':[(200,200,200), (200,200,200,200)], 'max_iter':[100,500]}\n",
    "grid_search= GridSearchCV(model, params, cv=5)\n",
    "grid_search.fit(X_final, y_train)"
   ]
  },
  {
   "cell_type": "code",
   "execution_count": null,
   "id": "67583a1b",
   "metadata": {},
   "outputs": [],
   "source": [
    "print('Best Parameter:', grid_search.best_params_)\n",
    "print('Best Score:', grid_search.best_score_)\n",
    "print('Test Score:', grid_search.score(test_final, y_test))"
   ]
  },
  {
   "cell_type": "code",
   "execution_count": null,
   "id": "9be29f47",
   "metadata": {
    "scrolled": false
   },
   "outputs": [],
   "source": [
    "model= MLPClassifier(hidden_layer_sizes=(200,200,200,200), max_iter=100).fit(X_final, y_train)\n",
    "print('훈련점수:', model.score(X_final, y_train))\n",
    "pred= model.predict(test_final)\n",
    "print('테스트점수:', accuracy_score(y_test, pred))"
   ]
  },
  {
   "cell_type": "markdown",
   "id": "354109d9",
   "metadata": {},
   "source": [
    "#### 왜 은닉층이 증가해도 결과가 나아지지 않는가?"
   ]
  },
  {
   "cell_type": "markdown",
   "id": "28c7d7db",
   "metadata": {},
   "source": [
    "# 3. 종합예제2: 캐글 경진대회\n",
    "- https://www.kaggle.com/competitions/titanic"
   ]
  },
  {
   "cell_type": "markdown",
   "id": "3749edce",
   "metadata": {},
   "source": [
    "## (1) prepare data"
   ]
  },
  {
   "cell_type": "code",
   "execution_count": 175,
   "id": "ec26e199",
   "metadata": {},
   "outputs": [],
   "source": [
    "train= pd.read_csv('data/titanic/train.csv')\n",
    "test= pd.read_csv('data/titanic/test.csv')"
   ]
  },
  {
   "cell_type": "code",
   "execution_count": 176,
   "id": "044d96f7",
   "metadata": {},
   "outputs": [
    {
     "name": "stdout",
     "output_type": "stream",
     "text": [
      "<class 'pandas.core.frame.DataFrame'>\n",
      "RangeIndex: 891 entries, 0 to 890\n",
      "Data columns (total 12 columns):\n",
      " #   Column       Non-Null Count  Dtype  \n",
      "---  ------       --------------  -----  \n",
      " 0   PassengerId  891 non-null    int64  \n",
      " 1   Survived     891 non-null    int64  \n",
      " 2   Pclass       891 non-null    int64  \n",
      " 3   Name         891 non-null    object \n",
      " 4   Sex          891 non-null    object \n",
      " 5   Age          714 non-null    float64\n",
      " 6   SibSp        891 non-null    int64  \n",
      " 7   Parch        891 non-null    int64  \n",
      " 8   Ticket       891 non-null    object \n",
      " 9   Fare         891 non-null    float64\n",
      " 10  Cabin        204 non-null    object \n",
      " 11  Embarked     889 non-null    object \n",
      "dtypes: float64(2), int64(5), object(5)\n",
      "memory usage: 83.7+ KB\n"
     ]
    }
   ],
   "source": [
    "train.info()"
   ]
  },
  {
   "cell_type": "markdown",
   "id": "bd9b3d37",
   "metadata": {},
   "source": [
    "## (2) EDA\n",
    "- python/analysis/3-Matplotlib 참고"
   ]
  },
  {
   "cell_type": "code",
   "execution_count": 177,
   "id": "66810dce",
   "metadata": {},
   "outputs": [],
   "source": [
    "def bar_chart(column):\n",
    "    survived= train[train['Survived']==1][column].value_counts()\n",
    "    dead= train[train['Survived']==0][column].value_counts()\n",
    "    df= pd.DataFrame([survived, dead])\n",
    "    df.index= ['Survived','Dead']\n",
    "    df.plot.bar(stacked=True, figsize=(5,3))\n",
    "#     df.plot(kind='bar',stacked=True, figsize=(5,3))"
   ]
  },
  {
   "cell_type": "markdown",
   "id": "12260278",
   "metadata": {},
   "source": [
    "## (3) Feature Engineering"
   ]
  },
  {
   "cell_type": "code",
   "execution_count": 178,
   "id": "3324cb2e",
   "metadata": {},
   "outputs": [],
   "source": [
    "train_test_data= [train, test]"
   ]
  },
  {
   "cell_type": "markdown",
   "id": "b6c15f84",
   "metadata": {},
   "source": [
    "### 1) Name에서 호칭 추출(Mr, Mrs, Miss)"
   ]
  },
  {
   "cell_type": "code",
   "execution_count": 179,
   "id": "3f3cc9ca",
   "metadata": {},
   "outputs": [],
   "source": [
    "# Lady 안뽑힘;;;\n",
    "for dataset in train_test_data:\n",
    "    dataset['Title']= dataset['Name'].str.extract(' ([a-xA-Z]+)\\.')"
   ]
  },
  {
   "cell_type": "code",
   "execution_count": 182,
   "id": "c4ff1ccc",
   "metadata": {},
   "outputs": [],
   "source": [
    "for dataset in train_test_data:\n",
    "    dataset[\"Title\"] = dataset[\"Name\"].str.extract(\" ([a-zA-Z]+)\\.\")"
   ]
  },
  {
   "cell_type": "code",
   "execution_count": 183,
   "id": "6529b753",
   "metadata": {},
   "outputs": [
    {
     "name": "stdout",
     "output_type": "stream",
     "text": [
      "Mr          517\n",
      "Miss        182\n",
      "Mrs         125\n",
      "Master       40\n",
      "Dr            7\n",
      "Rev           6\n",
      "Mlle          2\n",
      "Major         2\n",
      "Col           2\n",
      "Countess      1\n",
      "Capt          1\n",
      "Ms            1\n",
      "Sir           1\n",
      "Lady          1\n",
      "Mme           1\n",
      "Don           1\n",
      "Jonkheer      1\n",
      "Name: Title, dtype: int64\n",
      "Mr        240\n",
      "Miss       78\n",
      "Mrs        72\n",
      "Master     21\n",
      "Col         2\n",
      "Rev         2\n",
      "Ms          1\n",
      "Dr          1\n",
      "Dona        1\n",
      "Name: Title, dtype: int64\n"
     ]
    }
   ],
   "source": [
    "print(train[\"Title\"].value_counts())\n",
    "print(test[\"Title\"].value_counts())"
   ]
  },
  {
   "cell_type": "code",
   "execution_count": 184,
   "id": "84c58827",
   "metadata": {
    "scrolled": true
   },
   "outputs": [
    {
     "data": {
      "text/plain": [
       "PassengerId      0\n",
       "Survived         0\n",
       "Pclass           0\n",
       "Name             0\n",
       "Sex              0\n",
       "Age            177\n",
       "SibSp            0\n",
       "Parch            0\n",
       "Ticket           0\n",
       "Fare             0\n",
       "Cabin          687\n",
       "Embarked         2\n",
       "Title            0\n",
       "dtype: int64"
      ]
     },
     "execution_count": 184,
     "metadata": {},
     "output_type": "execute_result"
    }
   ],
   "source": [
    "train.isnull().sum()"
   ]
  },
  {
   "cell_type": "code",
   "execution_count": 169,
   "id": "9dc293aa",
   "metadata": {
    "scrolled": true
   },
   "outputs": [
    {
     "data": {
      "text/html": [
       "<div>\n",
       "<style scoped>\n",
       "    .dataframe tbody tr th:only-of-type {\n",
       "        vertical-align: middle;\n",
       "    }\n",
       "\n",
       "    .dataframe tbody tr th {\n",
       "        vertical-align: top;\n",
       "    }\n",
       "\n",
       "    .dataframe thead th {\n",
       "        text-align: right;\n",
       "    }\n",
       "</style>\n",
       "<table border=\"1\" class=\"dataframe\">\n",
       "  <thead>\n",
       "    <tr style=\"text-align: right;\">\n",
       "      <th></th>\n",
       "      <th>PassengerId</th>\n",
       "      <th>Survived</th>\n",
       "      <th>Pclass</th>\n",
       "      <th>Name</th>\n",
       "      <th>Sex</th>\n",
       "      <th>Age</th>\n",
       "      <th>SibSp</th>\n",
       "      <th>Parch</th>\n",
       "      <th>Ticket</th>\n",
       "      <th>Fare</th>\n",
       "      <th>Cabin</th>\n",
       "      <th>Embarked</th>\n",
       "      <th>Title</th>\n",
       "      <th>Title1</th>\n",
       "      <th>Age1</th>\n",
       "      <th>Fare1</th>\n",
       "    </tr>\n",
       "  </thead>\n",
       "  <tbody>\n",
       "    <tr>\n",
       "      <th>556</th>\n",
       "      <td>557</td>\n",
       "      <td>1</td>\n",
       "      <td>1</td>\n",
       "      <td>Duff Gordon, Lady. (Lucille Christiana Sutherl...</td>\n",
       "      <td>female</td>\n",
       "      <td>48.0</td>\n",
       "      <td>1</td>\n",
       "      <td>0</td>\n",
       "      <td>11755</td>\n",
       "      <td>39.6</td>\n",
       "      <td>A16</td>\n",
       "      <td>1</td>\n",
       "      <td>NaN</td>\n",
       "      <td>NaN</td>\n",
       "      <td>3.0</td>\n",
       "      <td>2.0</td>\n",
       "    </tr>\n",
       "  </tbody>\n",
       "</table>\n",
       "</div>"
      ],
      "text/plain": [
       "     PassengerId  Survived  Pclass  \\\n",
       "556          557         1       1   \n",
       "\n",
       "                                                  Name     Sex   Age  SibSp  \\\n",
       "556  Duff Gordon, Lady. (Lucille Christiana Sutherl...  female  48.0      1   \n",
       "\n",
       "     Parch Ticket  Fare Cabin  Embarked Title  Title1  Age1  Fare1  \n",
       "556      0  11755  39.6   A16         1   NaN     NaN   3.0    2.0  "
      ]
     },
     "execution_count": 169,
     "metadata": {},
     "output_type": "execute_result"
    }
   ],
   "source": [
    "train[train['Title'].isnull()==True]"
   ]
  },
  {
   "cell_type": "code",
   "execution_count": 185,
   "id": "8c3994fa",
   "metadata": {
    "scrolled": false
   },
   "outputs": [
    {
     "name": "stdout",
     "output_type": "stream",
     "text": [
      "Mr          517\n",
      "Miss        182\n",
      "Mrs         125\n",
      "Master       40\n",
      "Dr            7\n",
      "Rev           6\n",
      "Mlle          2\n",
      "Major         2\n",
      "Col           2\n",
      "Countess      1\n",
      "Capt          1\n",
      "Ms            1\n",
      "Sir           1\n",
      "Lady          1\n",
      "Mme           1\n",
      "Don           1\n",
      "Jonkheer      1\n",
      "Name: Title, dtype: int64\n",
      "Mr        240\n",
      "Miss       78\n",
      "Mrs        72\n",
      "Master     21\n",
      "Col         2\n",
      "Rev         2\n",
      "Ms          1\n",
      "Dr          1\n",
      "Dona        1\n",
      "Name: Title, dtype: int64\n"
     ]
    }
   ],
   "source": [
    "print(train['Title'].value_counts())\n",
    "print(test['Title'].value_counts())"
   ]
  },
  {
   "cell_type": "code",
   "execution_count": 186,
   "id": "caf392c2",
   "metadata": {},
   "outputs": [],
   "source": [
    "# 이름을 숫자 카테고리로 바꾸기\n",
    "title_map= {'Mr':0, 'Mrs':1, 'Miss':2, 'Master':3, 'Don':3, 'Rev':3, 'Dr':3, 'Mme':3, 'Ms':3,\n",
    "       'Major':3, 'Lady':3, 'Sir':3, 'Mlle':3, 'Col':3, 'Capt':3, 'Countess':3,\n",
    "       'Jonkheer':3, 'Dona':3}\n",
    "\n",
    "for dataset in train_test_data:\n",
    "    dataset['Title1']= dataset['Title'].map(title_map)"
   ]
  },
  {
   "cell_type": "code",
   "execution_count": 187,
   "id": "157e86a4",
   "metadata": {},
   "outputs": [],
   "source": [
    "train.drop('Name', axis=1, inplace=True)\n",
    "train.drop('Title', axis=1, inplace=True)\n",
    "test.drop('Name', axis=1, inplace=True)\n",
    "test.drop('Title', axis=1, inplace=True)"
   ]
  },
  {
   "cell_type": "markdown",
   "id": "2b8ca03e",
   "metadata": {},
   "source": [
    "### 2) Age의 Binning\n",
    "- child:0, young:1, adult:2, mid:3, senior:4"
   ]
  },
  {
   "cell_type": "code",
   "execution_count": 188,
   "id": "456efd74",
   "metadata": {},
   "outputs": [
    {
     "data": {
      "text/plain": [
       "0      30.0\n",
       "1      35.0\n",
       "2      21.0\n",
       "3      35.0\n",
       "4      30.0\n",
       "       ... \n",
       "886     9.0\n",
       "887    21.0\n",
       "888    21.0\n",
       "889    30.0\n",
       "890    30.0\n",
       "Name: Age, Length: 891, dtype: float64"
      ]
     },
     "execution_count": 188,
     "metadata": {},
     "output_type": "execute_result"
    }
   ],
   "source": [
    "train.groupby('Title1')['Age'].transform('median') # 전체값이 그룹에 따라 중앙값으로 대체됨"
   ]
  },
  {
   "cell_type": "code",
   "execution_count": 189,
   "id": "5a38bb19",
   "metadata": {},
   "outputs": [],
   "source": [
    "#### 결측치 처리 (중앙값으로 채우기)\n",
    "\n",
    "train['Age'].fillna(train.groupby('Title1')['Age'].transform('median'), inplace=True)\n",
    "test['Age'].fillna(test.groupby('Title1')['Age'].transform('median'), inplace=True)"
   ]
  },
  {
   "cell_type": "code",
   "execution_count": 190,
   "id": "a6436f12",
   "metadata": {},
   "outputs": [
    {
     "name": "stdout",
     "output_type": "stream",
     "text": [
      "PassengerId      0\n",
      "Survived         0\n",
      "Pclass           0\n",
      "Sex              0\n",
      "Age              0\n",
      "SibSp            0\n",
      "Parch            0\n",
      "Ticket           0\n",
      "Fare             0\n",
      "Cabin          687\n",
      "Embarked         2\n",
      "Title1           0\n",
      "dtype: int64\n",
      "PassengerId      0\n",
      "Pclass           0\n",
      "Sex              0\n",
      "Age              0\n",
      "SibSp            0\n",
      "Parch            0\n",
      "Ticket           0\n",
      "Fare             1\n",
      "Cabin          327\n",
      "Embarked         0\n",
      "Title1           0\n",
      "dtype: int64\n"
     ]
    }
   ],
   "source": [
    "print(train.isnull().sum())\n",
    "print(test.isnull().sum())"
   ]
  },
  {
   "cell_type": "code",
   "execution_count": 191,
   "id": "e53bbc56",
   "metadata": {},
   "outputs": [],
   "source": [
    "for dataset in train_test_data:\n",
    "    dataset.loc[dataset['Age']<16, 'Age1']=0\n",
    "    dataset.loc[(dataset['Age']>=16) & (dataset['Age']<26), 'Age1'] =1\n",
    "    dataset.loc[(dataset['Age']>=26) & (dataset['Age']<36), 'Age1'] =2\n",
    "    dataset.loc[(dataset['Age']>=36) & (dataset['Age']<62), 'Age1'] =3\n",
    "    dataset.loc[dataset['Age']>=62, 'Age1'] =4"
   ]
  },
  {
   "cell_type": "code",
   "execution_count": 192,
   "id": "e54cef31",
   "metadata": {},
   "outputs": [
    {
     "data": {
      "text/html": [
       "<div>\n",
       "<style scoped>\n",
       "    .dataframe tbody tr th:only-of-type {\n",
       "        vertical-align: middle;\n",
       "    }\n",
       "\n",
       "    .dataframe tbody tr th {\n",
       "        vertical-align: top;\n",
       "    }\n",
       "\n",
       "    .dataframe thead th {\n",
       "        text-align: right;\n",
       "    }\n",
       "</style>\n",
       "<table border=\"1\" class=\"dataframe\">\n",
       "  <thead>\n",
       "    <tr style=\"text-align: right;\">\n",
       "      <th></th>\n",
       "      <th>PassengerId</th>\n",
       "      <th>Survived</th>\n",
       "      <th>Pclass</th>\n",
       "      <th>Sex</th>\n",
       "      <th>Age</th>\n",
       "      <th>SibSp</th>\n",
       "      <th>Parch</th>\n",
       "      <th>Ticket</th>\n",
       "      <th>Fare</th>\n",
       "      <th>Cabin</th>\n",
       "      <th>Embarked</th>\n",
       "      <th>Title1</th>\n",
       "      <th>Age1</th>\n",
       "    </tr>\n",
       "  </thead>\n",
       "  <tbody>\n",
       "    <tr>\n",
       "      <th>0</th>\n",
       "      <td>1</td>\n",
       "      <td>0</td>\n",
       "      <td>3</td>\n",
       "      <td>male</td>\n",
       "      <td>22.0</td>\n",
       "      <td>1</td>\n",
       "      <td>0</td>\n",
       "      <td>A/5 21171</td>\n",
       "      <td>7.2500</td>\n",
       "      <td>NaN</td>\n",
       "      <td>S</td>\n",
       "      <td>0</td>\n",
       "      <td>1.0</td>\n",
       "    </tr>\n",
       "    <tr>\n",
       "      <th>1</th>\n",
       "      <td>2</td>\n",
       "      <td>1</td>\n",
       "      <td>1</td>\n",
       "      <td>female</td>\n",
       "      <td>38.0</td>\n",
       "      <td>1</td>\n",
       "      <td>0</td>\n",
       "      <td>PC 17599</td>\n",
       "      <td>71.2833</td>\n",
       "      <td>C85</td>\n",
       "      <td>C</td>\n",
       "      <td>1</td>\n",
       "      <td>3.0</td>\n",
       "    </tr>\n",
       "    <tr>\n",
       "      <th>2</th>\n",
       "      <td>3</td>\n",
       "      <td>1</td>\n",
       "      <td>3</td>\n",
       "      <td>female</td>\n",
       "      <td>26.0</td>\n",
       "      <td>0</td>\n",
       "      <td>0</td>\n",
       "      <td>STON/O2. 3101282</td>\n",
       "      <td>7.9250</td>\n",
       "      <td>NaN</td>\n",
       "      <td>S</td>\n",
       "      <td>2</td>\n",
       "      <td>2.0</td>\n",
       "    </tr>\n",
       "    <tr>\n",
       "      <th>3</th>\n",
       "      <td>4</td>\n",
       "      <td>1</td>\n",
       "      <td>1</td>\n",
       "      <td>female</td>\n",
       "      <td>35.0</td>\n",
       "      <td>1</td>\n",
       "      <td>0</td>\n",
       "      <td>113803</td>\n",
       "      <td>53.1000</td>\n",
       "      <td>C123</td>\n",
       "      <td>S</td>\n",
       "      <td>1</td>\n",
       "      <td>2.0</td>\n",
       "    </tr>\n",
       "    <tr>\n",
       "      <th>4</th>\n",
       "      <td>5</td>\n",
       "      <td>0</td>\n",
       "      <td>3</td>\n",
       "      <td>male</td>\n",
       "      <td>35.0</td>\n",
       "      <td>0</td>\n",
       "      <td>0</td>\n",
       "      <td>373450</td>\n",
       "      <td>8.0500</td>\n",
       "      <td>NaN</td>\n",
       "      <td>S</td>\n",
       "      <td>0</td>\n",
       "      <td>2.0</td>\n",
       "    </tr>\n",
       "  </tbody>\n",
       "</table>\n",
       "</div>"
      ],
      "text/plain": [
       "   PassengerId  Survived  Pclass     Sex   Age  SibSp  Parch  \\\n",
       "0            1         0       3    male  22.0      1      0   \n",
       "1            2         1       1  female  38.0      1      0   \n",
       "2            3         1       3  female  26.0      0      0   \n",
       "3            4         1       1  female  35.0      1      0   \n",
       "4            5         0       3    male  35.0      0      0   \n",
       "\n",
       "             Ticket     Fare Cabin Embarked  Title1  Age1  \n",
       "0         A/5 21171   7.2500   NaN        S       0   1.0  \n",
       "1          PC 17599  71.2833   C85        C       1   3.0  \n",
       "2  STON/O2. 3101282   7.9250   NaN        S       2   2.0  \n",
       "3            113803  53.1000  C123        S       1   2.0  \n",
       "4            373450   8.0500   NaN        S       0   2.0  "
      ]
     },
     "execution_count": 192,
     "metadata": {},
     "output_type": "execute_result"
    }
   ],
   "source": [
    "train.head()"
   ]
  },
  {
   "cell_type": "markdown",
   "id": "4edb064d",
   "metadata": {},
   "source": [
    "###  3) Embarked 결측치 처리와 숫자 인코딩"
   ]
  },
  {
   "cell_type": "code",
   "execution_count": 193,
   "id": "0377ca13",
   "metadata": {},
   "outputs": [
    {
     "data": {
      "text/plain": [
       "S    644\n",
       "C    168\n",
       "Q     77\n",
       "Name: Embarked, dtype: int64"
      ]
     },
     "execution_count": 193,
     "metadata": {},
     "output_type": "execute_result"
    }
   ],
   "source": [
    "train['Embarked'].value_counts()"
   ]
  },
  {
   "cell_type": "code",
   "execution_count": 194,
   "id": "c54e2aca",
   "metadata": {},
   "outputs": [],
   "source": [
    "# 결측치 최빈값 S로 채우기\n",
    "train['Embarked'].fillna('S', inplace=True)"
   ]
  },
  {
   "cell_type": "code",
   "execution_count": 195,
   "id": "f0e263d6",
   "metadata": {},
   "outputs": [],
   "source": [
    "for dataset in train_test_data:\n",
    "    dataset['Embarked']= dataset['Embarked'].map({'S':0, 'C':1, 'Q':2})"
   ]
  },
  {
   "cell_type": "code",
   "execution_count": 159,
   "id": "6bfa357a",
   "metadata": {},
   "outputs": [
    {
     "data": {
      "text/html": [
       "<div>\n",
       "<style scoped>\n",
       "    .dataframe tbody tr th:only-of-type {\n",
       "        vertical-align: middle;\n",
       "    }\n",
       "\n",
       "    .dataframe tbody tr th {\n",
       "        vertical-align: top;\n",
       "    }\n",
       "\n",
       "    .dataframe thead th {\n",
       "        text-align: right;\n",
       "    }\n",
       "</style>\n",
       "<table border=\"1\" class=\"dataframe\">\n",
       "  <thead>\n",
       "    <tr style=\"text-align: right;\">\n",
       "      <th></th>\n",
       "      <th>PassengerId</th>\n",
       "      <th>Survived</th>\n",
       "      <th>Pclass</th>\n",
       "      <th>Name</th>\n",
       "      <th>Sex</th>\n",
       "      <th>Age</th>\n",
       "      <th>SibSp</th>\n",
       "      <th>Parch</th>\n",
       "      <th>Ticket</th>\n",
       "      <th>Fare</th>\n",
       "      <th>Cabin</th>\n",
       "      <th>Embarked</th>\n",
       "      <th>Title</th>\n",
       "      <th>Title1</th>\n",
       "      <th>Age1</th>\n",
       "    </tr>\n",
       "  </thead>\n",
       "  <tbody>\n",
       "    <tr>\n",
       "      <th>0</th>\n",
       "      <td>1</td>\n",
       "      <td>0</td>\n",
       "      <td>3</td>\n",
       "      <td>Braund, Mr. Owen Harris</td>\n",
       "      <td>male</td>\n",
       "      <td>22.0</td>\n",
       "      <td>1</td>\n",
       "      <td>0</td>\n",
       "      <td>A/5 21171</td>\n",
       "      <td>7.2500</td>\n",
       "      <td>NaN</td>\n",
       "      <td>0</td>\n",
       "      <td>Mr</td>\n",
       "      <td>0.0</td>\n",
       "      <td>1.0</td>\n",
       "    </tr>\n",
       "    <tr>\n",
       "      <th>1</th>\n",
       "      <td>2</td>\n",
       "      <td>1</td>\n",
       "      <td>1</td>\n",
       "      <td>Cumings, Mrs. John Bradley (Florence Briggs Th...</td>\n",
       "      <td>female</td>\n",
       "      <td>38.0</td>\n",
       "      <td>1</td>\n",
       "      <td>0</td>\n",
       "      <td>PC 17599</td>\n",
       "      <td>71.2833</td>\n",
       "      <td>C85</td>\n",
       "      <td>1</td>\n",
       "      <td>Mrs</td>\n",
       "      <td>1.0</td>\n",
       "      <td>3.0</td>\n",
       "    </tr>\n",
       "    <tr>\n",
       "      <th>2</th>\n",
       "      <td>3</td>\n",
       "      <td>1</td>\n",
       "      <td>3</td>\n",
       "      <td>Heikkinen, Miss. Laina</td>\n",
       "      <td>female</td>\n",
       "      <td>26.0</td>\n",
       "      <td>0</td>\n",
       "      <td>0</td>\n",
       "      <td>STON/O2. 3101282</td>\n",
       "      <td>7.9250</td>\n",
       "      <td>NaN</td>\n",
       "      <td>0</td>\n",
       "      <td>Miss</td>\n",
       "      <td>2.0</td>\n",
       "      <td>2.0</td>\n",
       "    </tr>\n",
       "    <tr>\n",
       "      <th>3</th>\n",
       "      <td>4</td>\n",
       "      <td>1</td>\n",
       "      <td>1</td>\n",
       "      <td>Futrelle, Mrs. Jacques Heath (Lily May Peel)</td>\n",
       "      <td>female</td>\n",
       "      <td>35.0</td>\n",
       "      <td>1</td>\n",
       "      <td>0</td>\n",
       "      <td>113803</td>\n",
       "      <td>53.1000</td>\n",
       "      <td>C123</td>\n",
       "      <td>0</td>\n",
       "      <td>Mrs</td>\n",
       "      <td>1.0</td>\n",
       "      <td>2.0</td>\n",
       "    </tr>\n",
       "    <tr>\n",
       "      <th>4</th>\n",
       "      <td>5</td>\n",
       "      <td>0</td>\n",
       "      <td>3</td>\n",
       "      <td>Allen, Mr. William Henry</td>\n",
       "      <td>male</td>\n",
       "      <td>35.0</td>\n",
       "      <td>0</td>\n",
       "      <td>0</td>\n",
       "      <td>373450</td>\n",
       "      <td>8.0500</td>\n",
       "      <td>NaN</td>\n",
       "      <td>0</td>\n",
       "      <td>Mr</td>\n",
       "      <td>0.0</td>\n",
       "      <td>2.0</td>\n",
       "    </tr>\n",
       "  </tbody>\n",
       "</table>\n",
       "</div>"
      ],
      "text/plain": [
       "   PassengerId  Survived  Pclass  \\\n",
       "0            1         0       3   \n",
       "1            2         1       1   \n",
       "2            3         1       3   \n",
       "3            4         1       1   \n",
       "4            5         0       3   \n",
       "\n",
       "                                                Name     Sex   Age  SibSp  \\\n",
       "0                            Braund, Mr. Owen Harris    male  22.0      1   \n",
       "1  Cumings, Mrs. John Bradley (Florence Briggs Th...  female  38.0      1   \n",
       "2                             Heikkinen, Miss. Laina  female  26.0      0   \n",
       "3       Futrelle, Mrs. Jacques Heath (Lily May Peel)  female  35.0      1   \n",
       "4                           Allen, Mr. William Henry    male  35.0      0   \n",
       "\n",
       "   Parch            Ticket     Fare Cabin  Embarked Title  Title1  Age1  \n",
       "0      0         A/5 21171   7.2500   NaN         0    Mr     0.0   1.0  \n",
       "1      0          PC 17599  71.2833   C85         1   Mrs     1.0   3.0  \n",
       "2      0  STON/O2. 3101282   7.9250   NaN         0  Miss     2.0   2.0  \n",
       "3      0            113803  53.1000  C123         0   Mrs     1.0   2.0  \n",
       "4      0            373450   8.0500   NaN         0    Mr     0.0   2.0  "
      ]
     },
     "execution_count": 159,
     "metadata": {},
     "output_type": "execute_result"
    }
   ],
   "source": [
    "train.head()"
   ]
  },
  {
   "cell_type": "markdown",
   "id": "7890b284",
   "metadata": {},
   "source": [
    "#### 4) Fare의 결측치 처리와 Binning\n",
    "- 결측치는 Pclass의 Fare를 median으로 처리해서 넣어준다\n",
    "- 17 이하면 0, 18~39은 1, 31 ~100은 2, 100이상은 3"
   ]
  },
  {
   "cell_type": "code",
   "execution_count": 198,
   "id": "d32b8c60",
   "metadata": {},
   "outputs": [],
   "source": [
    "train['Fare'].fillna(train.groupby('Pclass')['Fare'].transform('median'), inplace=True)\n",
    "test['Fare'].fillna(test.groupby('Pclass')['Fare'].transform('median'), inplace=True)"
   ]
  },
  {
   "cell_type": "code",
   "execution_count": 199,
   "id": "f002da22",
   "metadata": {},
   "outputs": [
    {
     "name": "stdout",
     "output_type": "stream",
     "text": [
      "<class 'pandas.core.frame.DataFrame'>\n",
      "RangeIndex: 891 entries, 0 to 890\n",
      "Data columns (total 13 columns):\n",
      " #   Column       Non-Null Count  Dtype  \n",
      "---  ------       --------------  -----  \n",
      " 0   PassengerId  891 non-null    int64  \n",
      " 1   Survived     891 non-null    int64  \n",
      " 2   Pclass       891 non-null    int64  \n",
      " 3   Sex          891 non-null    object \n",
      " 4   Age          891 non-null    float64\n",
      " 5   SibSp        891 non-null    int64  \n",
      " 6   Parch        891 non-null    int64  \n",
      " 7   Ticket       891 non-null    object \n",
      " 8   Fare         891 non-null    float64\n",
      " 9   Cabin        204 non-null    object \n",
      " 10  Embarked     891 non-null    int64  \n",
      " 11  Title1       891 non-null    int64  \n",
      " 12  Age1         891 non-null    float64\n",
      "dtypes: float64(3), int64(7), object(3)\n",
      "memory usage: 90.6+ KB\n",
      "<class 'pandas.core.frame.DataFrame'>\n",
      "RangeIndex: 418 entries, 0 to 417\n",
      "Data columns (total 12 columns):\n",
      " #   Column       Non-Null Count  Dtype  \n",
      "---  ------       --------------  -----  \n",
      " 0   PassengerId  418 non-null    int64  \n",
      " 1   Pclass       418 non-null    int64  \n",
      " 2   Sex          418 non-null    object \n",
      " 3   Age          418 non-null    float64\n",
      " 4   SibSp        418 non-null    int64  \n",
      " 5   Parch        418 non-null    int64  \n",
      " 6   Ticket       418 non-null    object \n",
      " 7   Fare         418 non-null    float64\n",
      " 8   Cabin        91 non-null     object \n",
      " 9   Embarked     418 non-null    int64  \n",
      " 10  Title1       418 non-null    int64  \n",
      " 11  Age1         418 non-null    float64\n",
      "dtypes: float64(3), int64(6), object(3)\n",
      "memory usage: 39.3+ KB\n"
     ]
    }
   ],
   "source": [
    "train.info()\n",
    "test.info()"
   ]
  },
  {
   "cell_type": "code",
   "execution_count": 205,
   "id": "2fbae6e4",
   "metadata": {},
   "outputs": [],
   "source": [
    "for dataset in train_test_data:\n",
    "    dataset.loc[dataset['Fare']<=17, 'Fare1']=0\n",
    "    dataset.loc[(dataset['Fare']>17) & (dataset['Fare']<=30), 'Fare1'] =1\n",
    "    dataset.loc[(dataset['Fare']>30) & (dataset['Fare']<=100), 'Fare1'] =2\n",
    "    dataset.loc[dataset['Fare']>100, 'Fare1'] =4"
   ]
  },
  {
   "cell_type": "code",
   "execution_count": 206,
   "id": "b979f5c7",
   "metadata": {
    "scrolled": true
   },
   "outputs": [
    {
     "data": {
      "image/png": "[encoded data removed]",
      "text/plain": [
       "<Figure size 500x300 with 1 Axes>"
      ]
     },
     "metadata": {},
     "output_type": "display_data"
    }
   ],
   "source": [
    "bar_chart('Fare1')"
   ]
  },
  {
   "cell_type": "code",
   "execution_count": 207,
   "id": "8201823c",
   "metadata": {},
   "outputs": [
    {
     "data": {
      "text/plain": [
       "0.0    496\n",
       "2.0    181\n",
       "1.0    161\n",
       "4.0     53\n",
       "Name: Fare1, dtype: int64"
      ]
     },
     "execution_count": 207,
     "metadata": {},
     "output_type": "execute_result"
    }
   ],
   "source": [
    "train['Fare1'].value_counts()"
   ]
  },
  {
   "cell_type": "code",
   "execution_count": 208,
   "id": "06806f03",
   "metadata": {
    "scrolled": true
   },
   "outputs": [
    {
     "name": "stdout",
     "output_type": "stream",
     "text": [
      "PassengerId      0\n",
      "Survived         0\n",
      "Pclass           0\n",
      "Sex              0\n",
      "Age              0\n",
      "SibSp            0\n",
      "Parch            0\n",
      "Ticket           0\n",
      "Fare             0\n",
      "Cabin          687\n",
      "Embarked         0\n",
      "Title1           0\n",
      "Age1             0\n",
      "Fare1            0\n",
      "dtype: int64\n",
      "PassengerId      0\n",
      "Pclass           0\n",
      "Sex              0\n",
      "Age              0\n",
      "SibSp            0\n",
      "Parch            0\n",
      "Ticket           0\n",
      "Fare             0\n",
      "Cabin          327\n",
      "Embarked         0\n",
      "Title1           0\n",
      "Age1             0\n",
      "Fare1            0\n",
      "dtype: int64\n"
     ]
    }
   ],
   "source": [
    "print(train.isnull().sum())\n",
    "print(test.isnull().sum())"
   ]
  },
  {
   "cell_type": "code",
   "execution_count": 209,
   "id": "08d6b446",
   "metadata": {},
   "outputs": [
    {
     "data": {
      "text/html": [
       "<div>\n",
       "<style scoped>\n",
       "    .dataframe tbody tr th:only-of-type {\n",
       "        vertical-align: middle;\n",
       "    }\n",
       "\n",
       "    .dataframe tbody tr th {\n",
       "        vertical-align: top;\n",
       "    }\n",
       "\n",
       "    .dataframe thead th {\n",
       "        text-align: right;\n",
       "    }\n",
       "</style>\n",
       "<table border=\"1\" class=\"dataframe\">\n",
       "  <thead>\n",
       "    <tr style=\"text-align: right;\">\n",
       "      <th></th>\n",
       "      <th>PassengerId</th>\n",
       "      <th>Survived</th>\n",
       "      <th>Pclass</th>\n",
       "      <th>Sex</th>\n",
       "      <th>Age</th>\n",
       "      <th>SibSp</th>\n",
       "      <th>Parch</th>\n",
       "      <th>Ticket</th>\n",
       "      <th>Fare</th>\n",
       "      <th>Cabin</th>\n",
       "      <th>Embarked</th>\n",
       "      <th>Title1</th>\n",
       "      <th>Age1</th>\n",
       "      <th>Fare1</th>\n",
       "    </tr>\n",
       "  </thead>\n",
       "  <tbody>\n",
       "  </tbody>\n",
       "</table>\n",
       "</div>"
      ],
      "text/plain": [
       "Empty DataFrame\n",
       "Columns: [PassengerId, Survived, Pclass, Sex, Age, SibSp, Parch, Ticket, Fare, Cabin, Embarked, Title1, Age1, Fare1]\n",
       "Index: []"
      ]
     },
     "execution_count": 209,
     "metadata": {},
     "output_type": "execute_result"
    }
   ],
   "source": [
    "train[train['Fare1'].isnull()==True]"
   ]
  },
  {
   "cell_type": "markdown",
   "id": "1439d697",
   "metadata": {},
   "source": [
    "### 5) Cabin 처리\n",
    "- 알파벳만 남긴 후 bar_chart로 유의미한지 확인"
   ]
  },
  {
   "cell_type": "code",
   "execution_count": 210,
   "id": "5b4091ef",
   "metadata": {},
   "outputs": [],
   "source": [
    "for dataset in train_test_data:\n",
    "    dataset['Cabin']= dataset['Cabin'].str[:1]"
   ]
  },
  {
   "cell_type": "code",
   "execution_count": 211,
   "id": "d3eb3c6a",
   "metadata": {},
   "outputs": [
    {
     "data": {
      "image/png": "[encoded data removed]",
      "text/plain": [
       "<Figure size 500x300 with 1 Axes>"
      ]
     },
     "metadata": {},
     "output_type": "display_data"
    }
   ],
   "source": [
    "bar_chart('Cabin')"
   ]
  },
  {
   "cell_type": "code",
   "execution_count": 212,
   "id": "e16db0e9",
   "metadata": {},
   "outputs": [
    {
     "data": {
      "text/plain": [
       "<AxesSubplot:>"
      ]
     },
     "execution_count": 212,
     "metadata": {},
     "output_type": "execute_result"
    },
    {
     "data": {
      "image/png": "[encoded data removed]",
      "text/plain": [
       "<Figure size 640x480 with 1 Axes>"
      ]
     },
     "metadata": {},
     "output_type": "display_data"
    }
   ],
   "source": [
    "# 객실 번호와 등급의 관계\n",
    "Pclass1= train[train['Pclass']==1]['Cabin'].value_counts()\n",
    "Pclass2= train[train['Pclass']==2]['Cabin'].value_counts()\n",
    "Pclass3= train[train['Pclass']==3]['Cabin'].value_counts()\n",
    "\n",
    "pd.DataFrame([Pclass1, Pclass2, Pclass3], index=['1st','2nd','3rd']).plot(kind='bar',stacked=True)"
   ]
  },
  {
   "cell_type": "code",
   "execution_count": 213,
   "id": "9e49dc4c",
   "metadata": {},
   "outputs": [],
   "source": [
    "for dataset in train_test_data:\n",
    "    dataset['Cabin']= dataset['Cabin'].map({'A':0,'B':0.4,'C':0.8,'D':1.2,'E':1.6,'F':2,'G':2.4,'T':2.8})"
   ]
  },
  {
   "cell_type": "code",
   "execution_count": 214,
   "id": "c13fde69",
   "metadata": {},
   "outputs": [
    {
     "data": {
      "text/plain": [
       "0.8    35\n",
       "0.4    18\n",
       "1.2    13\n",
       "1.6     9\n",
       "2.0     8\n",
       "0.0     7\n",
       "2.4     1\n",
       "Name: Cabin, dtype: int64"
      ]
     },
     "execution_count": 214,
     "metadata": {},
     "output_type": "execute_result"
    }
   ],
   "source": [
    "test.Cabin.value_counts()"
   ]
  },
  {
   "cell_type": "markdown",
   "id": "9e9e14da",
   "metadata": {},
   "source": [
    "##### 특성중요도 검사해보기"
   ]
  },
  {
   "cell_type": "code",
   "execution_count": 215,
   "id": "c339b00a",
   "metadata": {},
   "outputs": [],
   "source": [
    "train['Cabin'].fillna(train.groupby('Pclass')['Cabin'].transform('median'), inplace=True)\n",
    "test['Cabin'].fillna(test.groupby('Pclass')['Cabin'].transform('median'), inplace=True)"
   ]
  },
  {
   "cell_type": "markdown",
   "id": "4d30c40c",
   "metadata": {},
   "source": [
    "### 6) 성별 숫자 인코딩"
   ]
  },
  {
   "cell_type": "code",
   "execution_count": 216,
   "id": "1b02187c",
   "metadata": {},
   "outputs": [],
   "source": [
    "for dataset in train_test_data:\n",
    "    dataset['Sex']= dataset['Sex'].map({'male':0, 'female':2})"
   ]
  },
  {
   "cell_type": "markdown",
   "id": "303e9a98",
   "metadata": {},
   "source": [
    "### 7) 동승자 컬럼 합치기"
   ]
  },
  {
   "cell_type": "code",
   "execution_count": 217,
   "id": "3b93bcc3",
   "metadata": {},
   "outputs": [],
   "source": [
    "train['FamilySize']= train['SibSp']+train['Parch']+1\n",
    "test['FamilySize']= test['SibSp']+test['Parch']+1"
   ]
  },
  {
   "cell_type": "code",
   "execution_count": 218,
   "id": "5d4083c6",
   "metadata": {},
   "outputs": [
    {
     "data": {
      "text/plain": [
       "1     537\n",
       "2     161\n",
       "3     102\n",
       "4      29\n",
       "6      22\n",
       "5      15\n",
       "7      12\n",
       "11      7\n",
       "8       6\n",
       "Name: FamilySize, dtype: int64"
      ]
     },
     "execution_count": 218,
     "metadata": {},
     "output_type": "execute_result"
    }
   ],
   "source": [
    "train['FamilySize'].value_counts()"
   ]
  },
  {
   "cell_type": "markdown",
   "id": "ff1e5db8",
   "metadata": {},
   "source": [
    "### 8) 필요없는 특성 제거 및 모델링 데이터 준비"
   ]
  },
  {
   "cell_type": "code",
   "execution_count": 219,
   "id": "40bd15c7",
   "metadata": {},
   "outputs": [],
   "source": [
    "for dataset in train_test_data:\n",
    "    dataset.drop('Age', axis=1, inplace=True)\n",
    "    dataset.drop('Fare', axis=1, inplace=True)"
   ]
  },
  {
   "cell_type": "code",
   "execution_count": 220,
   "id": "aef4360b",
   "metadata": {},
   "outputs": [],
   "source": [
    "features_drop=['Ticket','SibSp','Parch']\n",
    "\n",
    "train= train.drop(features_drop, axis=1)\n",
    "test= test.drop(features_drop, axis=1)"
   ]
  },
  {
   "cell_type": "code",
   "execution_count": 221,
   "id": "819241b2",
   "metadata": {},
   "outputs": [],
   "source": [
    "train= train.drop('PassengerId', axis=1)"
   ]
  },
  {
   "cell_type": "code",
   "execution_count": 222,
   "id": "e9b23909",
   "metadata": {},
   "outputs": [],
   "source": [
    "X= train.drop('Survived', axis=1)\n",
    "y= train['Survived']"
   ]
  },
  {
   "cell_type": "code",
   "execution_count": 223,
   "id": "3733f6e5",
   "metadata": {},
   "outputs": [
    {
     "name": "stdout",
     "output_type": "stream",
     "text": [
      "(891, 8) (891,)\n"
     ]
    }
   ],
   "source": [
    "print(X.shape, y.shape)"
   ]
  },
  {
   "cell_type": "code",
   "execution_count": 224,
   "id": "3cbcc8f1",
   "metadata": {},
   "outputs": [
    {
     "data": {
      "text/html": [
       "<div>\n",
       "<style scoped>\n",
       "    .dataframe tbody tr th:only-of-type {\n",
       "        vertical-align: middle;\n",
       "    }\n",
       "\n",
       "    .dataframe tbody tr th {\n",
       "        vertical-align: top;\n",
       "    }\n",
       "\n",
       "    .dataframe thead th {\n",
       "        text-align: right;\n",
       "    }\n",
       "</style>\n",
       "<table border=\"1\" class=\"dataframe\">\n",
       "  <thead>\n",
       "    <tr style=\"text-align: right;\">\n",
       "      <th></th>\n",
       "      <th>Pclass</th>\n",
       "      <th>Sex</th>\n",
       "      <th>Cabin</th>\n",
       "      <th>Embarked</th>\n",
       "      <th>Title1</th>\n",
       "      <th>Age1</th>\n",
       "      <th>Fare1</th>\n",
       "      <th>FamilySize</th>\n",
       "    </tr>\n",
       "  </thead>\n",
       "  <tbody>\n",
       "    <tr>\n",
       "      <th>0</th>\n",
       "      <td>3</td>\n",
       "      <td>0</td>\n",
       "      <td>2.0</td>\n",
       "      <td>0</td>\n",
       "      <td>0</td>\n",
       "      <td>1.0</td>\n",
       "      <td>0.0</td>\n",
       "      <td>2</td>\n",
       "    </tr>\n",
       "    <tr>\n",
       "      <th>1</th>\n",
       "      <td>1</td>\n",
       "      <td>2</td>\n",
       "      <td>0.8</td>\n",
       "      <td>1</td>\n",
       "      <td>1</td>\n",
       "      <td>3.0</td>\n",
       "      <td>2.0</td>\n",
       "      <td>2</td>\n",
       "    </tr>\n",
       "    <tr>\n",
       "      <th>2</th>\n",
       "      <td>3</td>\n",
       "      <td>2</td>\n",
       "      <td>2.0</td>\n",
       "      <td>0</td>\n",
       "      <td>2</td>\n",
       "      <td>2.0</td>\n",
       "      <td>0.0</td>\n",
       "      <td>1</td>\n",
       "    </tr>\n",
       "    <tr>\n",
       "      <th>3</th>\n",
       "      <td>1</td>\n",
       "      <td>2</td>\n",
       "      <td>0.8</td>\n",
       "      <td>0</td>\n",
       "      <td>1</td>\n",
       "      <td>2.0</td>\n",
       "      <td>2.0</td>\n",
       "      <td>2</td>\n",
       "    </tr>\n",
       "    <tr>\n",
       "      <th>4</th>\n",
       "      <td>3</td>\n",
       "      <td>0</td>\n",
       "      <td>2.0</td>\n",
       "      <td>0</td>\n",
       "      <td>0</td>\n",
       "      <td>2.0</td>\n",
       "      <td>0.0</td>\n",
       "      <td>1</td>\n",
       "    </tr>\n",
       "  </tbody>\n",
       "</table>\n",
       "</div>"
      ],
      "text/plain": [
       "   Pclass  Sex  Cabin  Embarked  Title1  Age1  Fare1  FamilySize\n",
       "0       3    0    2.0         0       0   1.0    0.0           2\n",
       "1       1    2    0.8         1       1   3.0    2.0           2\n",
       "2       3    2    2.0         0       2   2.0    0.0           1\n",
       "3       1    2    0.8         0       1   2.0    2.0           2\n",
       "4       3    0    2.0         0       0   2.0    0.0           1"
      ]
     },
     "execution_count": 224,
     "metadata": {},
     "output_type": "execute_result"
    }
   ],
   "source": [
    "X.head()"
   ]
  },
  {
   "cell_type": "code",
   "execution_count": 225,
   "id": "0243113d",
   "metadata": {},
   "outputs": [],
   "source": [
    "X.to_csv('data/titanic/train_data.csv', index=False)\n",
    "y.to_csv('data/titanic/target.csv', index=False)\n",
    "test.to_csv('data/titanic/test_data.csv', index=False)"
   ]
  },
  {
   "cell_type": "markdown",
   "id": "5a946924",
   "metadata": {},
   "source": [
    "## (2) Model Training\n",
    "- KNN\n",
    "- DecisionTree\n",
    "- RandomForest\n",
    "- SVM\n",
    "- NaiveBayes\n",
    "- NeuralNetwork"
   ]
  },
  {
   "cell_type": "code",
   "execution_count": 226,
   "id": "aca1a39a",
   "metadata": {},
   "outputs": [],
   "source": [
    "from sklearn.model_selection import KFold\n",
    "\n",
    "kfold= KFold(n_splits=10, shuffle=True, random_state=0)"
   ]
  },
  {
   "cell_type": "markdown",
   "id": "9b836401",
   "metadata": {},
   "source": [
    "### KNN"
   ]
  },
  {
   "cell_type": "code",
   "execution_count": 232,
   "id": "c973423d",
   "metadata": {},
   "outputs": [
    {
     "name": "stdout",
     "output_type": "stream",
     "text": [
      "[0.83333333 0.79775281 0.82022472 0.83146067 0.82022472 0.84269663\n",
      " 0.82022472 0.80898876 0.82022472 0.84269663]\n",
      "82.38\n"
     ]
    }
   ],
   "source": [
    "knnclf= KNeighborsClassifier(n_neighbors=20)\n",
    "score= cross_val_score(knnclf, X, y, cv=kfold, scoring='accuracy')\n",
    "print(score)\n",
    "print(round(np.mean(score)*100, 2))"
   ]
  },
  {
   "cell_type": "code",
   "execution_count": 228,
   "id": "b09b3368",
   "metadata": {},
   "outputs": [
    {
     "data": {
      "text/html": [
       "<div>\n",
       "<style scoped>\n",
       "    .dataframe tbody tr th:only-of-type {\n",
       "        vertical-align: middle;\n",
       "    }\n",
       "\n",
       "    .dataframe tbody tr th {\n",
       "        vertical-align: top;\n",
       "    }\n",
       "\n",
       "    .dataframe thead th {\n",
       "        text-align: right;\n",
       "    }\n",
       "</style>\n",
       "<table border=\"1\" class=\"dataframe\">\n",
       "  <thead>\n",
       "    <tr style=\"text-align: right;\">\n",
       "      <th></th>\n",
       "      <th>Pclass</th>\n",
       "      <th>Sex</th>\n",
       "      <th>Cabin</th>\n",
       "      <th>Embarked</th>\n",
       "      <th>Title1</th>\n",
       "      <th>Age1</th>\n",
       "      <th>Fare1</th>\n",
       "      <th>FamilySize</th>\n",
       "    </tr>\n",
       "  </thead>\n",
       "  <tbody>\n",
       "    <tr>\n",
       "      <th>0</th>\n",
       "      <td>3</td>\n",
       "      <td>0</td>\n",
       "      <td>2.0</td>\n",
       "      <td>0</td>\n",
       "      <td>0</td>\n",
       "      <td>1.0</td>\n",
       "      <td>0.0</td>\n",
       "      <td>2</td>\n",
       "    </tr>\n",
       "    <tr>\n",
       "      <th>1</th>\n",
       "      <td>1</td>\n",
       "      <td>2</td>\n",
       "      <td>0.8</td>\n",
       "      <td>1</td>\n",
       "      <td>1</td>\n",
       "      <td>3.0</td>\n",
       "      <td>2.0</td>\n",
       "      <td>2</td>\n",
       "    </tr>\n",
       "    <tr>\n",
       "      <th>2</th>\n",
       "      <td>3</td>\n",
       "      <td>2</td>\n",
       "      <td>2.0</td>\n",
       "      <td>0</td>\n",
       "      <td>2</td>\n",
       "      <td>2.0</td>\n",
       "      <td>0.0</td>\n",
       "      <td>1</td>\n",
       "    </tr>\n",
       "    <tr>\n",
       "      <th>3</th>\n",
       "      <td>1</td>\n",
       "      <td>2</td>\n",
       "      <td>0.8</td>\n",
       "      <td>0</td>\n",
       "      <td>1</td>\n",
       "      <td>2.0</td>\n",
       "      <td>2.0</td>\n",
       "      <td>2</td>\n",
       "    </tr>\n",
       "    <tr>\n",
       "      <th>4</th>\n",
       "      <td>3</td>\n",
       "      <td>0</td>\n",
       "      <td>2.0</td>\n",
       "      <td>0</td>\n",
       "      <td>0</td>\n",
       "      <td>2.0</td>\n",
       "      <td>0.0</td>\n",
       "      <td>1</td>\n",
       "    </tr>\n",
       "    <tr>\n",
       "      <th>...</th>\n",
       "      <td>...</td>\n",
       "      <td>...</td>\n",
       "      <td>...</td>\n",
       "      <td>...</td>\n",
       "      <td>...</td>\n",
       "      <td>...</td>\n",
       "      <td>...</td>\n",
       "      <td>...</td>\n",
       "    </tr>\n",
       "    <tr>\n",
       "      <th>886</th>\n",
       "      <td>2</td>\n",
       "      <td>0</td>\n",
       "      <td>1.8</td>\n",
       "      <td>0</td>\n",
       "      <td>3</td>\n",
       "      <td>2.0</td>\n",
       "      <td>0.0</td>\n",
       "      <td>1</td>\n",
       "    </tr>\n",
       "    <tr>\n",
       "      <th>887</th>\n",
       "      <td>1</td>\n",
       "      <td>2</td>\n",
       "      <td>0.4</td>\n",
       "      <td>0</td>\n",
       "      <td>2</td>\n",
       "      <td>1.0</td>\n",
       "      <td>1.0</td>\n",
       "      <td>1</td>\n",
       "    </tr>\n",
       "    <tr>\n",
       "      <th>888</th>\n",
       "      <td>3</td>\n",
       "      <td>2</td>\n",
       "      <td>2.0</td>\n",
       "      <td>0</td>\n",
       "      <td>2</td>\n",
       "      <td>1.0</td>\n",
       "      <td>1.0</td>\n",
       "      <td>4</td>\n",
       "    </tr>\n",
       "    <tr>\n",
       "      <th>889</th>\n",
       "      <td>1</td>\n",
       "      <td>0</td>\n",
       "      <td>0.8</td>\n",
       "      <td>1</td>\n",
       "      <td>0</td>\n",
       "      <td>2.0</td>\n",
       "      <td>1.0</td>\n",
       "      <td>1</td>\n",
       "    </tr>\n",
       "    <tr>\n",
       "      <th>890</th>\n",
       "      <td>3</td>\n",
       "      <td>0</td>\n",
       "      <td>2.0</td>\n",
       "      <td>2</td>\n",
       "      <td>0</td>\n",
       "      <td>2.0</td>\n",
       "      <td>0.0</td>\n",
       "      <td>1</td>\n",
       "    </tr>\n",
       "  </tbody>\n",
       "</table>\n",
       "<p>891 rows × 8 columns</p>\n",
       "</div>"
      ],
      "text/plain": [
       "     Pclass  Sex  Cabin  Embarked  Title1  Age1  Fare1  FamilySize\n",
       "0         3    0    2.0         0       0   1.0    0.0           2\n",
       "1         1    2    0.8         1       1   3.0    2.0           2\n",
       "2         3    2    2.0         0       2   2.0    0.0           1\n",
       "3         1    2    0.8         0       1   2.0    2.0           2\n",
       "4         3    0    2.0         0       0   2.0    0.0           1\n",
       "..      ...  ...    ...       ...     ...   ...    ...         ...\n",
       "886       2    0    1.8         0       3   2.0    0.0           1\n",
       "887       1    2    0.4         0       2   1.0    1.0           1\n",
       "888       3    2    2.0         0       2   1.0    1.0           4\n",
       "889       1    0    0.8         1       0   2.0    1.0           1\n",
       "890       3    0    2.0         2       0   2.0    0.0           1\n",
       "\n",
       "[891 rows x 8 columns]"
      ]
     },
     "execution_count": 228,
     "metadata": {},
     "output_type": "execute_result"
    }
   ],
   "source": [
    "X"
   ]
  },
  {
   "cell_type": "markdown",
   "id": "d34788e3",
   "metadata": {},
   "source": [
    "### DecisionTree"
   ]
  },
  {
   "cell_type": "code",
   "execution_count": 51,
   "id": "5e6f03c9",
   "metadata": {
    "scrolled": true
   },
   "outputs": [
    {
     "name": "stdout",
     "output_type": "stream",
     "text": [
      "[0.8        0.87640449 0.79775281 0.82022472 0.87640449 0.78651685\n",
      " 0.84269663 0.83146067 0.79775281 0.83146067]\n",
      "82.61\n"
     ]
    }
   ],
   "source": [
    "#### DecisionTree\n",
    "\n",
    "dtclf= DecisionTreeClassifier(max_depth=6)\n",
    "score = cross_val_score(dtclf, X, y, cv=kfold, scoring=\"accuracy\")\n",
    "print(score)\n",
    "print(round(np.mean(score)*100, 2))"
   ]
  },
  {
   "cell_type": "markdown",
   "id": "7d5ce3eb",
   "metadata": {},
   "source": [
    "### RandomForest"
   ]
  },
  {
   "cell_type": "code",
   "execution_count": 52,
   "id": "ad9ff718",
   "metadata": {},
   "outputs": [
    {
     "name": "stdout",
     "output_type": "stream",
     "text": [
      "[0.8        0.86516854 0.80898876 0.79775281 0.88764045 0.84269663\n",
      " 0.82022472 0.80898876 0.7752809  0.82022472]\n",
      "82.27\n"
     ]
    }
   ],
   "source": [
    "#### RandomForest\n",
    "rfclf= RandomForestClassifier(n_estimators=200)\n",
    "score = cross_val_score(rfclf, X, y, cv=kfold, scoring=\"accuracy\")\n",
    "print(score)\n",
    "print(round(np.mean(score)*100, 2))"
   ]
  },
  {
   "cell_type": "markdown",
   "id": "a1d2dea3",
   "metadata": {},
   "source": [
    "### NaiveBayes"
   ]
  },
  {
   "cell_type": "code",
   "execution_count": 53,
   "id": "37470dbd",
   "metadata": {},
   "outputs": [
    {
     "name": "stdout",
     "output_type": "stream",
     "text": [
      "[0.77777778 0.76404494 0.82022472 0.76404494 0.7752809  0.78651685\n",
      " 0.75280899 0.7752809  0.80898876 0.83146067]\n",
      "78.56\n"
     ]
    }
   ],
   "source": [
    "#### NaiveBayes\n",
    "from sklearn.naive_bayes import BernoulliNB\n",
    "\n",
    "nbclf= BernoulliNB()\n",
    "score = cross_val_score(nbclf, X, y, cv=kfold, scoring=\"accuracy\")\n",
    "print(score)\n",
    "print(round(np.mean(score)*100, 2))"
   ]
  },
  {
   "cell_type": "markdown",
   "id": "a3c8a15f",
   "metadata": {},
   "source": [
    "### SupportVector"
   ]
  },
  {
   "cell_type": "code",
   "execution_count": 55,
   "id": "9694294a",
   "metadata": {},
   "outputs": [
    {
     "name": "stdout",
     "output_type": "stream",
     "text": [
      "[0.81111111 0.84269663 0.79775281 0.83146067 0.85393258 0.82022472\n",
      " 0.83146067 0.82022472 0.79775281 0.82022472]\n",
      "82.27\n"
     ]
    }
   ],
   "source": [
    "#### SupportVector\n",
    "\n",
    "scaler= MinMaxScaler()\n",
    "scaler.fit(X)\n",
    "\n",
    "X_scaled= scaler.transform(X)\n",
    "\n",
    "svmclf= SVC()\n",
    "score = cross_val_score(svmclf, X_scaled, y, cv=kfold, scoring=\"accuracy\")\n",
    "print(score)\n",
    "print(round(np.mean(score)*100, 2))"
   ]
  },
  {
   "cell_type": "markdown",
   "id": "8a556f57",
   "metadata": {},
   "source": [
    "### Neural"
   ]
  },
  {
   "cell_type": "code",
   "execution_count": 58,
   "id": "616012c8",
   "metadata": {},
   "outputs": [
    {
     "name": "stdout",
     "output_type": "stream",
     "text": [
      "[0.82222222 0.78651685 0.79775281 0.82022472 0.8988764  0.80898876\n",
      " 0.83146067 0.82022472 0.84269663 0.86516854]\n",
      "82.94\n"
     ]
    }
   ],
   "source": [
    "#### Neural\n",
    "\n",
    "mlclf= MLPClassifier(hidden_layer_sizes=(300,300,300))\n",
    "score = cross_val_score(mlclf, X_scaled, y, cv=kfold, scoring=\"accuracy\")\n",
    "print(score)\n",
    "print(round(np.mean(score)*100, 2))"
   ]
  },
  {
   "cell_type": "markdown",
   "id": "3092ebc3",
   "metadata": {},
   "source": [
    "## (5) Testing"
   ]
  },
  {
   "cell_type": "code",
   "execution_count": 68,
   "id": "c3bc3ff7",
   "metadata": {},
   "outputs": [
    {
     "data": {
      "text/plain": [
       "SVC()"
      ]
     },
     "execution_count": 68,
     "metadata": {},
     "output_type": "execute_result"
    }
   ],
   "source": [
    "model= SVC()\n",
    "model.fit(X_scaled, y)"
   ]
  },
  {
   "cell_type": "code",
   "execution_count": 69,
   "id": "d91fa7dc",
   "metadata": {},
   "outputs": [],
   "source": [
    "test_copy= test.drop('PassengerId', axis=1).copy()\n",
    "test_copy= scaler.transform(test_copy)"
   ]
  },
  {
   "cell_type": "code",
   "execution_count": 70,
   "id": "2edd39ab",
   "metadata": {},
   "outputs": [],
   "source": [
    "preds= model.predict(test_copy)"
   ]
  },
  {
   "cell_type": "code",
   "execution_count": 71,
   "id": "d1859e43",
   "metadata": {},
   "outputs": [
    {
     "data": {
      "text/html": [
       "<div>\n",
       "<style scoped>\n",
       "    .dataframe tbody tr th:only-of-type {\n",
       "        vertical-align: middle;\n",
       "    }\n",
       "\n",
       "    .dataframe tbody tr th {\n",
       "        vertical-align: top;\n",
       "    }\n",
       "\n",
       "    .dataframe thead th {\n",
       "        text-align: right;\n",
       "    }\n",
       "</style>\n",
       "<table border=\"1\" class=\"dataframe\">\n",
       "  <thead>\n",
       "    <tr style=\"text-align: right;\">\n",
       "      <th></th>\n",
       "      <th>PassengerId</th>\n",
       "      <th>Survived</th>\n",
       "    </tr>\n",
       "  </thead>\n",
       "  <tbody>\n",
       "    <tr>\n",
       "      <th>0</th>\n",
       "      <td>892</td>\n",
       "      <td>0</td>\n",
       "    </tr>\n",
       "    <tr>\n",
       "      <th>1</th>\n",
       "      <td>893</td>\n",
       "      <td>0</td>\n",
       "    </tr>\n",
       "    <tr>\n",
       "      <th>2</th>\n",
       "      <td>894</td>\n",
       "      <td>0</td>\n",
       "    </tr>\n",
       "    <tr>\n",
       "      <th>3</th>\n",
       "      <td>895</td>\n",
       "      <td>0</td>\n",
       "    </tr>\n",
       "    <tr>\n",
       "      <th>4</th>\n",
       "      <td>896</td>\n",
       "      <td>0</td>\n",
       "    </tr>\n",
       "    <tr>\n",
       "      <th>...</th>\n",
       "      <td>...</td>\n",
       "      <td>...</td>\n",
       "    </tr>\n",
       "    <tr>\n",
       "      <th>413</th>\n",
       "      <td>1305</td>\n",
       "      <td>0</td>\n",
       "    </tr>\n",
       "    <tr>\n",
       "      <th>414</th>\n",
       "      <td>1306</td>\n",
       "      <td>1</td>\n",
       "    </tr>\n",
       "    <tr>\n",
       "      <th>415</th>\n",
       "      <td>1307</td>\n",
       "      <td>0</td>\n",
       "    </tr>\n",
       "    <tr>\n",
       "      <th>416</th>\n",
       "      <td>1308</td>\n",
       "      <td>0</td>\n",
       "    </tr>\n",
       "    <tr>\n",
       "      <th>417</th>\n",
       "      <td>1309</td>\n",
       "      <td>1</td>\n",
       "    </tr>\n",
       "  </tbody>\n",
       "</table>\n",
       "<p>418 rows × 2 columns</p>\n",
       "</div>"
      ],
      "text/plain": [
       "     PassengerId  Survived\n",
       "0            892         0\n",
       "1            893         0\n",
       "2            894         0\n",
       "3            895         0\n",
       "4            896         0\n",
       "..           ...       ...\n",
       "413         1305         0\n",
       "414         1306         1\n",
       "415         1307         0\n",
       "416         1308         0\n",
       "417         1309         1\n",
       "\n",
       "[418 rows x 2 columns]"
      ]
     },
     "execution_count": 71,
     "metadata": {},
     "output_type": "execute_result"
    }
   ],
   "source": [
    "submission= pd.DataFrame({'PassengerId':test['PassengerId'], 'Survived':preds})\n",
    "submission"
   ]
  },
  {
   "cell_type": "code",
   "execution_count": 72,
   "id": "b6a90fd8",
   "metadata": {},
   "outputs": [],
   "source": [
    "submission.to_csv('data/titanic/submission.csv', index=False)"
   ]
  },
  {
   "cell_type": "code",
   "execution_count": null,
   "id": "ac606022",
   "metadata": {},
   "outputs": [],
   "source": []
  },
  {
   "cell_type": "code",
   "execution_count": null,
   "id": "5f367961",
   "metadata": {},
   "outputs": [],
   "source": []
  }
 ],
 "metadata": {
  "kernelspec": {
   "display_name": "Python 3 (ipykernel)",
   "language": "python",
   "name": "python3"
  },
  "language_info": {
   "codemirror_mode": {
    "name": "ipython",
    "version": 3
   },
   "file_extension": ".py",
   "mimetype": "text/x-python",
   "name": "python",
   "nbconvert_exporter": "python",
   "pygments_lexer": "ipython3",
   "version": "3.9.13"
  }
 },
 "nbformat": 4,
 "nbformat_minor": 5
}
