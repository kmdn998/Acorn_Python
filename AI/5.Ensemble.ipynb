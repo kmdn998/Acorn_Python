{
 "cells": [
  {
   "cell_type": "code",
   "execution_count": 1,
   "id": "f80e7119",
   "metadata": {},
   "outputs": [],
   "source": [
    "import numpy as np\n",
    "import pandas as pd\n",
    "import matplotlib.pyplot as plt\n",
    "import seaborn as sns\n",
    "\n",
    "import matplotlib.font_manager as fm\n",
    "font_name=fm.FontProperties(fname='C:\\\\Windows\\\\Fonts\\\\malgun.ttf').get_name()\n",
    "plt.rc('font',family=font_name)\n",
    "import matplotlib as mlp\n",
    "mlp.rcParams['axes.unicode_minus'] = False"
   ]
  },
  {
   "cell_type": "code",
   "execution_count": 2,
   "id": "c029451c",
   "metadata": {},
   "outputs": [],
   "source": [
    "import mglearn\n",
    "\n",
    "from sklearn.linear_model import LinearRegression\n",
    "from sklearn.neighbors import KNeighborsClassifier\n",
    "from sklearn.svm import LinearSVC\n",
    "from sklearn.linear_model import LogisticRegression\n",
    "from sklearn.metrics import confusion_matrix\n",
    "from sklearn.metrics import classification_report\n",
    "from sklearn.metrics import classification_report, roc_curve\n",
    "\n",
    "from sklearn.tree import DecisionTreeClassifier\n",
    "from sklearn.ensemble import RandomForestClassifier\n",
    "from sklearn.ensemble import VotingClassifier\n",
    "from sklearn.svm import SVC\n",
    "\n",
    "from sklearn.neighbors import KNeighborsClassifier\n",
    "\n",
    "from sklearn.model_selection import train_test_split, cross_val_score, cross_validate, GridSearchCV, RandomizedSearchCV\n",
    "from sklearn.preprocessing import MinMaxScaler, StandardScaler, LabelEncoder\n",
    "from sklearn.metrics import accuracy_score\n",
    "\n",
    "from sklearn.datasets import load_iris, load_boston, load_breast_cancer"
   ]
  },
  {
   "cell_type": "code",
   "execution_count": 3,
   "id": "b0673ea0",
   "metadata": {},
   "outputs": [],
   "source": [
    "from sklearn.tree import export_graphviz\n",
    "import graphviz"
   ]
  },
  {
   "cell_type": "code",
   "execution_count": 4,
   "id": "36e8134c",
   "metadata": {},
   "outputs": [],
   "source": [
    "import warnings\n",
    "warnings.filterwarnings('ignore')"
   ]
  },
  {
   "cell_type": "markdown",
   "id": "eb175a42",
   "metadata": {},
   "source": [
    "# 1. 투표(Voting)의 유형\n",
    "- XAI: 설명가능한 인공지능. 왜 예측이 틀렸는지를 설명\n",
    "- Soft Voting\n",
    "    - 각 분류기의 0과 1의 예측 확률을 평균을 내어 그 평균 값으로 최종 결과를 산출\n",
    "    \n",
    "- Hard Voting\n",
    "    - 각 분류기의 예측 결과만을 참고하여 최종 예측 값을 산출"
   ]
  },
  {
   "cell_type": "markdown",
   "id": "347c4f67",
   "metadata": {},
   "source": [
    "# 2. 종류\n",
    "- Bagging\n",
    "    - Bootstrap Aggregating\n",
    "    - 중첩될 수 있는 서로 다른 데이터셋에서 각각의 분류기가 모두 같은 유형의 알고리즘을 기반으로 사용되는 방식\n",
    "    - 분류기? 알고리즘?\n",
    "    - 학습 데이터에 대해 여러개의 Bootstrap 데이터를 생성하고 각 부트스트랩 데이터에 여러 알고리즘을 학습시킨 후 산출된 결과 중 투표방식에 의해 최종 결과를 선정\n",
    "    - RandomForest는 일반화된 Bagging 방식이다.\n",
    "- Boosting\n",
    "    - 학습기를 순차적으로 학습-예측을 진행한다.\n",
    "    - 여러개의 분류기(DecisionTree)가 순차적으로 학습을 하되 학습한 분류기가 틀린 데이터에 대해서 올바르게 예측할 수 있도록 다음 분류기에서 가중치를 부여\n",
    "    - 단점\n",
    "        - 과적합으로 인해 일반화가 어렵다.\n",
    "        - 파라미터 튜닝이 까다롭다\n",
    "        - 수행시간이 오래 걸린다\n",
    "    - 종류\n",
    "        - AdaBoost\n",
    "        - GradientBoost( * )\n",
    "            - GradientBoostMachine(GBM)\n",
    "            - XGBoost\n",
    "            - LightGBM\n",
    "- Stacking\n",
    "    - 여러 학습기에서 예측한 예측값(Predict Value)을 다시 학습 데이터로 하여 일반화된 최종 모델을 구성하는 방법"
   ]
  },
  {
   "cell_type": "markdown",
   "id": "b536fe93",
   "metadata": {},
   "source": [
    "# 3. Voting 실습\n",
    "## (1) Classification\n",
    "### 1) 예제 1"
   ]
  },
  {
   "cell_type": "code",
   "execution_count": 6,
   "id": "b9f79403",
   "metadata": {},
   "outputs": [],
   "source": [
    "X_train= pd.read_csv('data/X_final_C.csv')\n",
    "X_test= pd.read_csv('data/test_final_C.csv')\n",
    "y_train= pd.read_csv('data/y_train_C.csv')\n",
    "y_test= pd.read_csv('data/y_test_C.csv')"
   ]
  },
  {
   "cell_type": "code",
   "execution_count": 7,
   "id": "e532d981",
   "metadata": {},
   "outputs": [
    {
     "data": {
      "text/html": [
       "<div>\n",
       "<style scoped>\n",
       "    .dataframe tbody tr th:only-of-type {\n",
       "        vertical-align: middle;\n",
       "    }\n",
       "\n",
       "    .dataframe tbody tr th {\n",
       "        vertical-align: top;\n",
       "    }\n",
       "\n",
       "    .dataframe thead th {\n",
       "        text-align: right;\n",
       "    }\n",
       "</style>\n",
       "<table border=\"1\" class=\"dataframe\">\n",
       "  <thead>\n",
       "    <tr style=\"text-align: right;\">\n",
       "      <th></th>\n",
       "      <th>0</th>\n",
       "      <th>1</th>\n",
       "      <th>2</th>\n",
       "      <th>3</th>\n",
       "      <th>4</th>\n",
       "      <th>5</th>\n",
       "      <th>6</th>\n",
       "      <th>7</th>\n",
       "      <th>8</th>\n",
       "      <th>9</th>\n",
       "      <th>10</th>\n",
       "      <th>11</th>\n",
       "    </tr>\n",
       "  </thead>\n",
       "  <tbody>\n",
       "    <tr>\n",
       "      <th>0</th>\n",
       "      <td>0.0</td>\n",
       "      <td>0.566667</td>\n",
       "      <td>0.428571</td>\n",
       "      <td>0.0</td>\n",
       "      <td>0</td>\n",
       "      <td>1</td>\n",
       "      <td>1</td>\n",
       "      <td>0</td>\n",
       "      <td>0</td>\n",
       "      <td>1</td>\n",
       "      <td>1</td>\n",
       "      <td>0</td>\n",
       "    </tr>\n",
       "    <tr>\n",
       "      <th>1</th>\n",
       "      <td>0.4</td>\n",
       "      <td>0.200000</td>\n",
       "      <td>0.285714</td>\n",
       "      <td>0.0</td>\n",
       "      <td>0</td>\n",
       "      <td>1</td>\n",
       "      <td>0</td>\n",
       "      <td>1</td>\n",
       "      <td>0</td>\n",
       "      <td>1</td>\n",
       "      <td>1</td>\n",
       "      <td>0</td>\n",
       "    </tr>\n",
       "    <tr>\n",
       "      <th>2</th>\n",
       "      <td>0.3</td>\n",
       "      <td>0.600000</td>\n",
       "      <td>0.714286</td>\n",
       "      <td>0.0</td>\n",
       "      <td>0</td>\n",
       "      <td>1</td>\n",
       "      <td>0</td>\n",
       "      <td>1</td>\n",
       "      <td>1</td>\n",
       "      <td>0</td>\n",
       "      <td>1</td>\n",
       "      <td>0</td>\n",
       "    </tr>\n",
       "    <tr>\n",
       "      <th>3</th>\n",
       "      <td>0.4</td>\n",
       "      <td>0.500000</td>\n",
       "      <td>0.428571</td>\n",
       "      <td>1.0</td>\n",
       "      <td>0</td>\n",
       "      <td>1</td>\n",
       "      <td>0</td>\n",
       "      <td>1</td>\n",
       "      <td>1</td>\n",
       "      <td>0</td>\n",
       "      <td>1</td>\n",
       "      <td>0</td>\n",
       "    </tr>\n",
       "    <tr>\n",
       "      <th>4</th>\n",
       "      <td>0.0</td>\n",
       "      <td>0.566667</td>\n",
       "      <td>0.285714</td>\n",
       "      <td>0.0</td>\n",
       "      <td>0</td>\n",
       "      <td>1</td>\n",
       "      <td>1</td>\n",
       "      <td>0</td>\n",
       "      <td>1</td>\n",
       "      <td>0</td>\n",
       "      <td>1</td>\n",
       "      <td>0</td>\n",
       "    </tr>\n",
       "    <tr>\n",
       "      <th>...</th>\n",
       "      <td>...</td>\n",
       "      <td>...</td>\n",
       "      <td>...</td>\n",
       "      <td>...</td>\n",
       "      <td>...</td>\n",
       "      <td>...</td>\n",
       "      <td>...</td>\n",
       "      <td>...</td>\n",
       "      <td>...</td>\n",
       "      <td>...</td>\n",
       "      <td>...</td>\n",
       "      <td>...</td>\n",
       "    </tr>\n",
       "    <tr>\n",
       "      <th>1385</th>\n",
       "      <td>0.6</td>\n",
       "      <td>0.900000</td>\n",
       "      <td>0.714286</td>\n",
       "      <td>1.0</td>\n",
       "      <td>0</td>\n",
       "      <td>1</td>\n",
       "      <td>0</td>\n",
       "      <td>1</td>\n",
       "      <td>0</td>\n",
       "      <td>1</td>\n",
       "      <td>1</td>\n",
       "      <td>0</td>\n",
       "    </tr>\n",
       "    <tr>\n",
       "      <th>1386</th>\n",
       "      <td>0.8</td>\n",
       "      <td>0.733333</td>\n",
       "      <td>0.857143</td>\n",
       "      <td>0.0</td>\n",
       "      <td>0</td>\n",
       "      <td>1</td>\n",
       "      <td>0</td>\n",
       "      <td>1</td>\n",
       "      <td>1</td>\n",
       "      <td>0</td>\n",
       "      <td>0</td>\n",
       "      <td>1</td>\n",
       "    </tr>\n",
       "    <tr>\n",
       "      <th>1387</th>\n",
       "      <td>0.4</td>\n",
       "      <td>0.500000</td>\n",
       "      <td>0.428571</td>\n",
       "      <td>0.0</td>\n",
       "      <td>0</td>\n",
       "      <td>1</td>\n",
       "      <td>0</td>\n",
       "      <td>1</td>\n",
       "      <td>1</td>\n",
       "      <td>0</td>\n",
       "      <td>1</td>\n",
       "      <td>0</td>\n",
       "    </tr>\n",
       "    <tr>\n",
       "      <th>1388</th>\n",
       "      <td>0.5</td>\n",
       "      <td>0.766667</td>\n",
       "      <td>0.428571</td>\n",
       "      <td>0.0</td>\n",
       "      <td>0</td>\n",
       "      <td>1</td>\n",
       "      <td>1</td>\n",
       "      <td>0</td>\n",
       "      <td>0</td>\n",
       "      <td>1</td>\n",
       "      <td>0</td>\n",
       "      <td>1</td>\n",
       "    </tr>\n",
       "    <tr>\n",
       "      <th>1389</th>\n",
       "      <td>0.1</td>\n",
       "      <td>0.733333</td>\n",
       "      <td>0.428571</td>\n",
       "      <td>0.0</td>\n",
       "      <td>0</td>\n",
       "      <td>1</td>\n",
       "      <td>0</td>\n",
       "      <td>1</td>\n",
       "      <td>0</td>\n",
       "      <td>1</td>\n",
       "      <td>0</td>\n",
       "      <td>1</td>\n",
       "    </tr>\n",
       "  </tbody>\n",
       "</table>\n",
       "<p>1390 rows × 12 columns</p>\n",
       "</div>"
      ],
      "text/plain": [
       "        0         1         2    3  4  5  6  7  8  9  10  11\n",
       "0     0.0  0.566667  0.428571  0.0  0  1  1  0  0  1   1   0\n",
       "1     0.4  0.200000  0.285714  0.0  0  1  0  1  0  1   1   0\n",
       "2     0.3  0.600000  0.714286  0.0  0  1  0  1  1  0   1   0\n",
       "3     0.4  0.500000  0.428571  1.0  0  1  0  1  1  0   1   0\n",
       "4     0.0  0.566667  0.285714  0.0  0  1  1  0  1  0   1   0\n",
       "...   ...       ...       ...  ... .. .. .. .. .. ..  ..  ..\n",
       "1385  0.6  0.900000  0.714286  1.0  0  1  0  1  0  1   1   0\n",
       "1386  0.8  0.733333  0.857143  0.0  0  1  0  1  1  0   0   1\n",
       "1387  0.4  0.500000  0.428571  0.0  0  1  0  1  1  0   1   0\n",
       "1388  0.5  0.766667  0.428571  0.0  0  1  1  0  0  1   0   1\n",
       "1389  0.1  0.733333  0.428571  0.0  0  1  0  1  0  1   0   1\n",
       "\n",
       "[1390 rows x 12 columns]"
      ]
     },
     "execution_count": 7,
     "metadata": {},
     "output_type": "execute_result"
    }
   ],
   "source": [
    "X_train"
   ]
  },
  {
   "cell_type": "markdown",
   "id": "b88e5b95",
   "metadata": {},
   "source": [
    "#### Hard Voting"
   ]
  },
  {
   "cell_type": "code",
   "execution_count": 11,
   "id": "b4e3ad0e",
   "metadata": {},
   "outputs": [
    {
     "name": "stderr",
     "output_type": "stream",
     "text": [
      "C:\\Users\\acorn\\anaconda3\\lib\\site-packages\\sklearn\\preprocessing\\_label.py:98: DataConversionWarning: A column-vector y was passed when a 1d array was expected. Please change the shape of y to (n_samples, ), for example using ravel().\n",
      "  y = column_or_1d(y, warn=True)\n",
      "C:\\Users\\acorn\\anaconda3\\lib\\site-packages\\sklearn\\preprocessing\\_label.py:133: DataConversionWarning: A column-vector y was passed when a 1d array was expected. Please change the shape of y to (n_samples, ), for example using ravel().\n",
      "  y = column_or_1d(y, warn=True)\n"
     ]
    },
    {
     "data": {
      "text/plain": [
       "VotingClassifier(estimators=[('lr', LogisticRegression(random_state=42)),\n",
       "                             ('rf', RandomForestClassifier(random_state=42)),\n",
       "                             ('svc', SVC(random_state=42))])"
      ]
     },
     "execution_count": 11,
     "metadata": {},
     "output_type": "execute_result"
    }
   ],
   "source": [
    "logit_model= LogisticRegression(random_state=42)\n",
    "rnf_model= RandomForestClassifier(random_state=42)\n",
    "svm_model= SVC(random_state=42)\n",
    "\n",
    "voting_hard= VotingClassifier(estimators=[('lr',logit_model),('rf', rnf_model), ('svc', svm_model)], voting= 'hard')\n",
    "\n",
    "voting_hard.fit(X_train, y_train)"
   ]
  },
  {
   "cell_type": "code",
   "execution_count": 14,
   "id": "8fba0493",
   "metadata": {},
   "outputs": [
    {
     "name": "stderr",
     "output_type": "stream",
     "text": [
      "C:\\Users\\acorn\\anaconda3\\lib\\site-packages\\sklearn\\utils\\validation.py:993: DataConversionWarning: A column-vector y was passed when a 1d array was expected. Please change the shape of y to (n_samples, ), for example using ravel().\n",
      "  y = column_or_1d(y, warn=True)\n",
      "C:\\Users\\acorn\\AppData\\Local\\Temp\\ipykernel_76100\\1047911803.py:2: DataConversionWarning: A column-vector y was passed when a 1d array was expected. Please change the shape of y to (n_samples,), for example using ravel().\n",
      "  clf.fit(X_train, y_train)\n",
      "C:\\Users\\acorn\\anaconda3\\lib\\site-packages\\sklearn\\utils\\validation.py:993: DataConversionWarning: A column-vector y was passed when a 1d array was expected. Please change the shape of y to (n_samples, ), for example using ravel().\n",
      "  y = column_or_1d(y, warn=True)\n"
     ]
    },
    {
     "name": "stdout",
     "output_type": "stream",
     "text": [
      "LogisticRegression 0.7638190954773869\n",
      "RandomForestClassifier 0.7721943048576214\n",
      "SVC 0.7688442211055276\n"
     ]
    },
    {
     "name": "stderr",
     "output_type": "stream",
     "text": [
      "C:\\Users\\acorn\\anaconda3\\lib\\site-packages\\sklearn\\preprocessing\\_label.py:98: DataConversionWarning: A column-vector y was passed when a 1d array was expected. Please change the shape of y to (n_samples, ), for example using ravel().\n",
      "  y = column_or_1d(y, warn=True)\n",
      "C:\\Users\\acorn\\anaconda3\\lib\\site-packages\\sklearn\\preprocessing\\_label.py:133: DataConversionWarning: A column-vector y was passed when a 1d array was expected. Please change the shape of y to (n_samples, ), for example using ravel().\n",
      "  y = column_or_1d(y, warn=True)\n"
     ]
    },
    {
     "name": "stdout",
     "output_type": "stream",
     "text": [
      "VotingClassifier 0.7738693467336684\n"
     ]
    }
   ],
   "source": [
    "for clf in (logit_model, rnf_model, svm_model, voting_hard):\n",
    "    clf.fit(X_train, y_train)\n",
    "    y_pred= clf.predict(X_test)\n",
    "    print(clf.__class__.__name__, accuracy_score(y_test, y_pred))"
   ]
  },
  {
   "cell_type": "code",
   "execution_count": 19,
   "id": "b1e5bb0a",
   "metadata": {},
   "outputs": [],
   "source": [
    "?confusion_matrix\n",
    "# TN FN\n",
    "# FP TP"
   ]
  },
  {
   "cell_type": "code",
   "execution_count": 15,
   "id": "a0801da9",
   "metadata": {},
   "outputs": [
    {
     "name": "stdout",
     "output_type": "stream",
     "text": [
      "[[832  61]\n",
      " [255 242]]\n"
     ]
    }
   ],
   "source": [
    "#### LogisticRegression 훈련 데이터 오차 행렬\n",
    "print(confusion_matrix(y_train, logit_model.predict(X_train)))\n",
    "#### LogisticRegression 테스트 데이터 오차 행렬\n",
    "print(confusion_matrix(y_test, logit_model.predict(X_test)))"
   ]
  },
  {
   "cell_type": "code",
   "execution_count": 17,
   "id": "d9536888",
   "metadata": {},
   "outputs": [
    {
     "name": "stdout",
     "output_type": "stream",
     "text": [
      "[[867  26]\n",
      " [ 74 423]]\n",
      "[[334  50]\n",
      " [ 86 127]]\n"
     ]
    }
   ],
   "source": [
    "#### RandomForest 훈련 데이터 오차 행렬\n",
    "print(confusion_matrix(y_train, rnf_model.predict(X_train)))\n",
    "#### RandomForest 테스트 데이터 오차 행렬\n",
    "print(confusion_matrix(y_test, rnf_model.predict(X_test)))"
   ]
  },
  {
   "cell_type": "code",
   "execution_count": 18,
   "id": "5094d5a6",
   "metadata": {},
   "outputs": [
    {
     "name": "stdout",
     "output_type": "stream",
     "text": [
      "[[860  33]\n",
      " [253 244]]\n",
      "[[362  22]\n",
      " [116  97]]\n"
     ]
    }
   ],
   "source": [
    "#### SVC 훈련 데이터 오차 행렬\n",
    "print(confusion_matrix(y_train, svm_model.predict(X_train)))\n",
    "#### SVC 테스트 데이터 오차 행렬\n",
    "print(confusion_matrix(y_test, svm_model.predict(X_test)))"
   ]
  },
  {
   "cell_type": "code",
   "execution_count": 20,
   "id": "192ad005",
   "metadata": {},
   "outputs": [
    {
     "name": "stdout",
     "output_type": "stream",
     "text": [
      "[[862  31]\n",
      " [242 255]]\n",
      "[[362  22]\n",
      " [113 100]]\n"
     ]
    }
   ],
   "source": [
    "#### Voting 훈련 데이터 오차 행렬\n",
    "print(confusion_matrix(y_train, voting_hard.predict(X_train)))\n",
    "#### Voting 테스트 데이터 오차 행렬\n",
    "print(confusion_matrix(y_test, voting_hard.predict(X_test)))"
   ]
  },
  {
   "cell_type": "markdown",
   "id": "e7117073",
   "metadata": {},
   "source": [
    "#### - Soft Voting"
   ]
  },
  {
   "cell_type": "code",
   "execution_count": 5,
   "id": "9d063ba6",
   "metadata": {},
   "outputs": [],
   "source": [
    "X_train= pd.read_csv('data/X_final_C.csv')\n",
    "X_test= pd.read_csv('data/test_final_C.csv')\n",
    "y_train= pd.read_csv('data/y_train_C.csv')\n",
    "y_test= pd.read_csv('data/y_test_C.csv')"
   ]
  },
  {
   "cell_type": "code",
   "execution_count": 9,
   "id": "78459684",
   "metadata": {},
   "outputs": [
    {
     "data": {
      "text/plain": [
       "VotingClassifier(estimators=[('lr', LogisticRegression(random_state=42)),\n",
       "                             ('rf', RandomForestClassifier(random_state=42)),\n",
       "                             ('svc', SVC(probability=True, random_state=42))],\n",
       "                 voting='soft')"
      ]
     },
     "execution_count": 9,
     "metadata": {},
     "output_type": "execute_result"
    }
   ],
   "source": [
    "logit_model= LogisticRegression(random_state=42)\n",
    "rnf_model= RandomForestClassifier(random_state=42)\n",
    "svm_model= SVC(probability=True, random_state=42)\n",
    "\n",
    "voting_soft= VotingClassifier(estimators=[('lr',logit_model),('rf', rnf_model), ('svc', svm_model)], voting= 'soft')\n",
    "\n",
    "voting_soft.fit(X_train, y_train)"
   ]
  },
  {
   "cell_type": "code",
   "execution_count": 10,
   "id": "f7c99473",
   "metadata": {},
   "outputs": [
    {
     "name": "stdout",
     "output_type": "stream",
     "text": [
      "LogisticRegression 0.7638190954773869\n",
      "RandomForestClassifier 0.7721943048576214\n",
      "SVC 0.7688442211055276\n",
      "VotingClassifier 0.7839195979899497\n"
     ]
    }
   ],
   "source": [
    "for clf in (logit_model, rnf_model, svm_model, voting_soft):\n",
    "    clf.fit(X_train, y_train)\n",
    "    y_pred= clf.predict(X_test)\n",
    "    print(clf.__class__.__name__, accuracy_score(y_test, y_pred))"
   ]
  },
  {
   "cell_type": "code",
   "execution_count": 12,
   "id": "cdebb73b",
   "metadata": {},
   "outputs": [
    {
     "name": "stdout",
     "output_type": "stream",
     "text": [
      "[[867  26]\n",
      " [194 303]]\n",
      "[[354  30]\n",
      " [ 99 114]]\n"
     ]
    }
   ],
   "source": [
    "#### Voting 훈련 데이터 오차 행렬\n",
    "print(confusion_matrix(y_train, voting_soft.predict(X_train)))\n",
    "#### Voting 테스트 데이터 오차 행렬\n",
    "print(confusion_matrix(y_test, voting_soft.predict(X_test)))"
   ]
  },
  {
   "cell_type": "markdown",
   "id": "7cb8c135",
   "metadata": {},
   "source": [
    "## (2) Regression\n",
    "### 1) 예제 1"
   ]
  },
  {
   "cell_type": "code",
   "execution_count": 13,
   "id": "22d9b416",
   "metadata": {},
   "outputs": [],
   "source": [
    "from sklearn.linear_model import LinearRegression\n",
    "from sklearn.ensemble import RandomForestRegressor\n",
    "from sklearn.ensemble import VotingRegressor"
   ]
  },
  {
   "cell_type": "code",
   "execution_count": 16,
   "id": "79da7066",
   "metadata": {},
   "outputs": [],
   "source": [
    "X_train= pd.read_csv('data/X_final_R.csv')\n",
    "X_test= pd.read_csv('data/test_final_R.csv')\n",
    "y_train= pd.read_csv('data/y_train_R.csv')\n",
    "y_test= pd.read_csv('data/y_test_R.csv')"
   ]
  },
  {
   "cell_type": "code",
   "execution_count": 17,
   "id": "79ad3645",
   "metadata": {},
   "outputs": [
    {
     "data": {
      "text/plain": [
       "VotingRegressor(estimators=[('lr', LinearRegression()),\n",
       "                            ('rf', RandomForestRegressor(random_state=42))])"
      ]
     },
     "execution_count": 17,
     "metadata": {},
     "output_type": "execute_result"
    }
   ],
   "source": [
    "linear_model= LinearRegression()\n",
    "rnf_model= RandomForestRegressor(random_state=42)\n",
    "voting_regressor= VotingRegressor(estimators=[('lr',linear_model),('rf', rnf_model)])\n",
    "# hard, soft 없음\n",
    "voting_regressor.fit(X_train, y_train)"
   ]
  },
  {
   "cell_type": "code",
   "execution_count": 18,
   "id": "616d6f54",
   "metadata": {},
   "outputs": [
    {
     "data": {
      "text/plain": [
       "0.6239084076325578"
      ]
     },
     "execution_count": 18,
     "metadata": {},
     "output_type": "execute_result"
    }
   ],
   "source": [
    "# 설명력\n",
    "voting_regressor.score(X_train, y_train)\n",
    "voting_regressor.score(X_test, y_test)"
   ]
  },
  {
   "cell_type": "code",
   "execution_count": 20,
   "id": "5dfe7053",
   "metadata": {},
   "outputs": [
    {
     "name": "stdout",
     "output_type": "stream",
     "text": [
      "훈련데이터 평균오차:  53.046634874015865\n",
      "테스트데이터 평균오차:  77.53831029380439\n"
     ]
    }
   ],
   "source": [
    "# RMSE\n",
    "from sklearn.metrics import mean_squared_error\n",
    "\n",
    "pred_train= voting_regressor.predict(X_train)\n",
    "MSE_train= mean_squared_error(y_train, pred_train)\n",
    "print('훈련데이터 평균오차: ', np.sqrt(MSE_train))\n",
    "\n",
    "pred_test= voting_regressor.predict(X_test)\n",
    "MSE_test= mean_squared_error(y_test, pred_test)\n",
    "print('테스트데이터 평균오차: ', np.sqrt(MSE_test))"
   ]
  },
  {
   "cell_type": "markdown",
   "id": "bde91f3e",
   "metadata": {},
   "source": [
    "# 4. Bagging 실습\n",
    "- 전체 데이터 중 임의로 추출된 데이터를 각각 알고리즘에서 학습\n",
    "- RandomForest"
   ]
  },
  {
   "cell_type": "code",
   "execution_count": 21,
   "id": "bae403ca",
   "metadata": {},
   "outputs": [],
   "source": [
    "X_train= pd.read_csv('data/X_final_C.csv')\n",
    "X_test= pd.read_csv('data/test_final_C.csv')\n",
    "y_train= pd.read_csv('data/y_train_C.csv')\n",
    "y_test= pd.read_csv('data/y_test_C.csv')"
   ]
  },
  {
   "cell_type": "code",
   "execution_count": 22,
   "id": "54560aeb",
   "metadata": {},
   "outputs": [],
   "source": [
    "from sklearn.svm import SVC\n",
    "from sklearn.ensemble import BaggingClassifier"
   ]
  },
  {
   "cell_type": "code",
   "execution_count": 24,
   "id": "3081247d",
   "metadata": {},
   "outputs": [
    {
     "data": {
      "text/plain": [
       "BaggingClassifier(base_estimator=SVC(), random_state=0)"
      ]
     },
     "execution_count": 24,
     "metadata": {},
     "output_type": "execute_result"
    }
   ],
   "source": [
    "model= BaggingClassifier(base_estimator=SVC(), n_estimators=10, random_state=0)\n",
    "model.fit(X_train, y_train)"
   ]
  },
  {
   "cell_type": "code",
   "execution_count": 25,
   "id": "edb072af",
   "metadata": {
    "scrolled": true
   },
   "outputs": [
    {
     "name": "stdout",
     "output_type": "stream",
     "text": [
      "0.7942446043165468\n",
      "0.7654941373534339\n"
     ]
    }
   ],
   "source": [
    "print(model.score(X_train, y_train))\n",
    "print(model.score(X_test, y_test))"
   ]
  },
  {
   "cell_type": "code",
   "execution_count": 26,
   "id": "62c3880f",
   "metadata": {},
   "outputs": [],
   "source": [
    "pred_train= model.predict(X_train)\n",
    "pred_test= model.predict(X_test)"
   ]
  },
  {
   "cell_type": "code",
   "execution_count": 28,
   "id": "de9b6bbe",
   "metadata": {},
   "outputs": [
    {
     "name": "stdout",
     "output_type": "stream",
     "text": [
      "훈련 데이터의 오차행렬\n",
      " [[861  32]\n",
      " [254 243]]\n",
      "--------------\n",
      "테스트 데이터의 오차행렬\n",
      " [[361  23]\n",
      " [117  96]]\n"
     ]
    }
   ],
   "source": [
    "print('훈련 데이터의 오차행렬\\n', confusion_matrix(y_train, pred_train))\n",
    "print('--------------')\n",
    "print('테스트 데이터의 오차행렬\\n', confusion_matrix(y_test, pred_test))"
   ]
  },
  {
   "cell_type": "code",
   "execution_count": 29,
   "id": "4fe1b2a7",
   "metadata": {},
   "outputs": [
    {
     "name": "stdout",
     "output_type": "stream",
     "text": [
      "훈련데이터의 분류예측 레포트\n",
      "               precision    recall  f1-score   support\n",
      "\n",
      "           0       0.77      0.96      0.86       893\n",
      "           1       0.88      0.49      0.63       497\n",
      "\n",
      "    accuracy                           0.79      1390\n",
      "   macro avg       0.83      0.73      0.74      1390\n",
      "weighted avg       0.81      0.79      0.78      1390\n",
      "\n"
     ]
    }
   ],
   "source": [
    "print('훈련데이터의 분류예측 레포트\\n', classification_report(y_train, pred_train))"
   ]
  },
  {
   "cell_type": "code",
   "execution_count": 31,
   "id": "0638a58e",
   "metadata": {},
   "outputs": [
    {
     "name": "stdout",
     "output_type": "stream",
     "text": [
      "테스트데이터의 분류예측 레포트\n",
      "               precision    recall  f1-score   support\n",
      "\n",
      "           0       0.76      0.94      0.84       384\n",
      "           1       0.81      0.45      0.58       213\n",
      "\n",
      "    accuracy                           0.77       597\n",
      "   macro avg       0.78      0.70      0.71       597\n",
      "weighted avg       0.77      0.77      0.75       597\n",
      "\n"
     ]
    }
   ],
   "source": [
    "print('테스트데이터의 분류예측 레포트\\n', classification_report(y_test, pred_test))"
   ]
  },
  {
   "cell_type": "markdown",
   "id": "07b498b8",
   "metadata": {},
   "source": [
    "## (2) Regression"
   ]
  },
  {
   "cell_type": "code",
   "execution_count": 32,
   "id": "ce22e2ce",
   "metadata": {},
   "outputs": [],
   "source": [
    "X_train= pd.read_csv('data/X_final_R.csv')\n",
    "X_test= pd.read_csv('data/test_final_R.csv')\n",
    "y_train= pd.read_csv('data/y_train_R.csv')\n",
    "y_test= pd.read_csv('data/y_test_R.csv')"
   ]
  },
  {
   "cell_type": "code",
   "execution_count": 33,
   "id": "2fa7e095",
   "metadata": {},
   "outputs": [],
   "source": [
    "from sklearn.neighbors import KNeighborsRegressor\n",
    "from sklearn.ensemble import BaggingRegressor"
   ]
  },
  {
   "cell_type": "code",
   "execution_count": 34,
   "id": "a85a74d7",
   "metadata": {},
   "outputs": [
    {
     "data": {
      "text/plain": [
       "BaggingRegressor(base_estimator=KNeighborsRegressor(), random_state=0)"
      ]
     },
     "execution_count": 34,
     "metadata": {},
     "output_type": "execute_result"
    }
   ],
   "source": [
    "model= BaggingRegressor(base_estimator=KNeighborsRegressor(), n_estimators=10, random_state= 0)\n",
    "\n",
    "model.fit(X_train, y_train)"
   ]
  },
  {
   "cell_type": "code",
   "execution_count": 35,
   "id": "1e4ee072",
   "metadata": {},
   "outputs": [
    {
     "name": "stdout",
     "output_type": "stream",
     "text": [
      "0.7096875846630044\n",
      "0.5833223330736411\n"
     ]
    }
   ],
   "source": [
    "print(model.score(X_train, y_train))\n",
    "print(model.score(X_test, y_test))"
   ]
  },
  {
   "cell_type": "code",
   "execution_count": 36,
   "id": "53674ee4",
   "metadata": {},
   "outputs": [
    {
     "name": "stdout",
     "output_type": "stream",
     "text": [
      "훈련데이터 평균오차:  67.55627570570738\n",
      "테스트데이터 평균오차:  81.61493370530255\n"
     ]
    }
   ],
   "source": [
    "pred_train= model.predict(X_train)\n",
    "MSE_train= mean_squared_error(y_train, pred_train)\n",
    "print('훈련데이터 평균오차: ', np.sqrt(MSE_train))\n",
    "\n",
    "pred_test= model.predict(X_test)\n",
    "MSE_test= mean_squared_error(y_test, pred_test)\n",
    "print('테스트데이터 평균오차: ', np.sqrt(MSE_test))"
   ]
  },
  {
   "cell_type": "markdown",
   "id": "2a3d05fc",
   "metadata": {},
   "source": [
    "# 5. Boosting 실습\n",
    "## (1) Classitication"
   ]
  },
  {
   "cell_type": "code",
   "execution_count": 37,
   "id": "c8ea87a1",
   "metadata": {},
   "outputs": [],
   "source": [
    "X_train= pd.read_csv('data/X_final_C.csv')\n",
    "X_test= pd.read_csv('data/test_final_C.csv')\n",
    "y_train= pd.read_csv('data/y_train_C.csv')\n",
    "y_test= pd.read_csv('data/y_test_C.csv')"
   ]
  },
  {
   "cell_type": "markdown",
   "id": "e14b9182",
   "metadata": {},
   "source": [
    "### 1) AdaBoosting"
   ]
  },
  {
   "cell_type": "code",
   "execution_count": 38,
   "id": "849107c3",
   "metadata": {},
   "outputs": [],
   "source": [
    "from sklearn.ensemble import AdaBoostClassifier"
   ]
  },
  {
   "cell_type": "code",
   "execution_count": 39,
   "id": "7b2c5a2f",
   "metadata": {},
   "outputs": [
    {
     "data": {
      "text/plain": [
       "AdaBoostClassifier(n_estimators=100, random_state=0)"
      ]
     },
     "execution_count": 39,
     "metadata": {},
     "output_type": "execute_result"
    }
   ],
   "source": [
    "model= AdaBoostClassifier(n_estimators=100, random_state=0)\n",
    "model.fit(X_train, y_train)"
   ]
  },
  {
   "cell_type": "code",
   "execution_count": 40,
   "id": "13beb246",
   "metadata": {
    "scrolled": true
   },
   "outputs": [
    {
     "name": "stdout",
     "output_type": "stream",
     "text": [
      "0.8201438848920863\n",
      "0.7989949748743719\n"
     ]
    }
   ],
   "source": [
    "print(model.score(X_train, y_train))\n",
    "print(model.score(X_test, y_test))"
   ]
  },
  {
   "cell_type": "code",
   "execution_count": 41,
   "id": "ec489f09",
   "metadata": {},
   "outputs": [],
   "source": [
    "pred_train= model.predict(X_train)\n",
    "pred_test= model.predict(X_test)"
   ]
  },
  {
   "cell_type": "code",
   "execution_count": 42,
   "id": "63705684",
   "metadata": {},
   "outputs": [
    {
     "name": "stdout",
     "output_type": "stream",
     "text": [
      "훈련 데이터의 오차행렬\n",
      " [[873  20]\n",
      " [230 267]]\n",
      "--------------\n",
      "테스트 데이터의 오차행렬\n",
      " [[372  12]\n",
      " [108 105]]\n"
     ]
    }
   ],
   "source": [
    "print('훈련 데이터의 오차행렬\\n', confusion_matrix(y_train, pred_train))\n",
    "print('--------------')\n",
    "print('테스트 데이터의 오차행렬\\n', confusion_matrix(y_test, pred_test))"
   ]
  },
  {
   "cell_type": "code",
   "execution_count": 43,
   "id": "813cf0d1",
   "metadata": {
    "scrolled": true
   },
   "outputs": [
    {
     "name": "stdout",
     "output_type": "stream",
     "text": [
      "훈련데이터의 분류예측 레포트\n",
      "               precision    recall  f1-score   support\n",
      "\n",
      "           0       0.79      0.98      0.87       893\n",
      "           1       0.93      0.54      0.68       497\n",
      "\n",
      "    accuracy                           0.82      1390\n",
      "   macro avg       0.86      0.76      0.78      1390\n",
      "weighted avg       0.84      0.82      0.81      1390\n",
      "\n"
     ]
    }
   ],
   "source": [
    "print('훈련데이터의 분류예측 레포트\\n', classification_report(y_train, pred_train))"
   ]
  },
  {
   "cell_type": "code",
   "execution_count": 44,
   "id": "3f2f7eeb",
   "metadata": {
    "scrolled": false
   },
   "outputs": [
    {
     "name": "stdout",
     "output_type": "stream",
     "text": [
      "테스트데이터의 분류예측 레포트\n",
      "               precision    recall  f1-score   support\n",
      "\n",
      "           0       0.78      0.97      0.86       384\n",
      "           1       0.90      0.49      0.64       213\n",
      "\n",
      "    accuracy                           0.80       597\n",
      "   macro avg       0.84      0.73      0.75       597\n",
      "weighted avg       0.82      0.80      0.78       597\n",
      "\n"
     ]
    }
   ],
   "source": [
    "print('테스트데이터의 분류예측 레포트\\n', classification_report(y_test, pred_test))"
   ]
  },
  {
   "cell_type": "markdown",
   "id": "ebd48388",
   "metadata": {},
   "source": [
    "### 2) GradientBoosting"
   ]
  },
  {
   "cell_type": "code",
   "execution_count": 45,
   "id": "61fb73ad",
   "metadata": {},
   "outputs": [],
   "source": [
    "from sklearn.ensemble import GradientBoostingClassifier"
   ]
  },
  {
   "cell_type": "code",
   "execution_count": 46,
   "id": "333e42cc",
   "metadata": {},
   "outputs": [
    {
     "data": {
      "text/plain": [
       "GradientBoostingClassifier(learning_rate=1.0, max_depth=1, random_state=0)"
      ]
     },
     "execution_count": 46,
     "metadata": {},
     "output_type": "execute_result"
    }
   ],
   "source": [
    "model= GradientBoostingClassifier(n_estimators=100, learning_rate=1.0, max_depth=1, random_state=0)\n",
    "model.fit(X_train, y_train)"
   ]
  },
  {
   "cell_type": "code",
   "execution_count": 47,
   "id": "d3652a7c",
   "metadata": {
    "scrolled": true
   },
   "outputs": [
    {
     "name": "stdout",
     "output_type": "stream",
     "text": [
      "0.8244604316546763\n",
      "0.8056951423785594\n"
     ]
    }
   ],
   "source": [
    "print(model.score(X_train, y_train))\n",
    "print(model.score(X_test, y_test))"
   ]
  },
  {
   "cell_type": "code",
   "execution_count": 48,
   "id": "da8b1312",
   "metadata": {},
   "outputs": [],
   "source": [
    "pred_train= model.predict(X_train)\n",
    "pred_test= model.predict(X_test)"
   ]
  },
  {
   "cell_type": "code",
   "execution_count": 49,
   "id": "7c27a9bc",
   "metadata": {},
   "outputs": [
    {
     "name": "stdout",
     "output_type": "stream",
     "text": [
      "훈련 데이터의 오차행렬\n",
      " [[871  22]\n",
      " [222 275]]\n",
      "--------------\n",
      "테스트 데이터의 오차행렬\n",
      " [[371  13]\n",
      " [103 110]]\n"
     ]
    }
   ],
   "source": [
    "print('훈련 데이터의 오차행렬\\n', confusion_matrix(y_train, pred_train))\n",
    "print('--------------')\n",
    "print('테스트 데이터의 오차행렬\\n', confusion_matrix(y_test, pred_test))"
   ]
  },
  {
   "cell_type": "code",
   "execution_count": 50,
   "id": "6b1bc85f",
   "metadata": {
    "scrolled": true
   },
   "outputs": [
    {
     "name": "stdout",
     "output_type": "stream",
     "text": [
      "훈련데이터의 분류예측 레포트\n",
      "               precision    recall  f1-score   support\n",
      "\n",
      "           0       0.80      0.98      0.88       893\n",
      "           1       0.93      0.55      0.69       497\n",
      "\n",
      "    accuracy                           0.82      1390\n",
      "   macro avg       0.86      0.76      0.78      1390\n",
      "weighted avg       0.84      0.82      0.81      1390\n",
      "\n"
     ]
    }
   ],
   "source": [
    "print('훈련데이터의 분류예측 레포트\\n', classification_report(y_train, pred_train))"
   ]
  },
  {
   "cell_type": "code",
   "execution_count": 51,
   "id": "ba4e7974",
   "metadata": {
    "scrolled": true
   },
   "outputs": [
    {
     "name": "stdout",
     "output_type": "stream",
     "text": [
      "테스트데이터의 분류예측 레포트\n",
      "               precision    recall  f1-score   support\n",
      "\n",
      "           0       0.78      0.97      0.86       384\n",
      "           1       0.89      0.52      0.65       213\n",
      "\n",
      "    accuracy                           0.81       597\n",
      "   macro avg       0.84      0.74      0.76       597\n",
      "weighted avg       0.82      0.81      0.79       597\n",
      "\n"
     ]
    }
   ],
   "source": [
    "print('테스트데이터의 분류예측 레포트\\n', classification_report(y_test, pred_test))"
   ]
  },
  {
   "cell_type": "markdown",
   "id": "df912f66",
   "metadata": {},
   "source": [
    "## (2) Regression"
   ]
  },
  {
   "cell_type": "code",
   "execution_count": 58,
   "id": "230eaeb8",
   "metadata": {},
   "outputs": [],
   "source": [
    "X_train= pd.read_csv('data/X_final_R.csv')\n",
    "X_test= pd.read_csv('data/test_final_R.csv')\n",
    "y_train= pd.read_csv('data/y_train_R.csv')\n",
    "y_test= pd.read_csv('data/y_test_R.csv')"
   ]
  },
  {
   "cell_type": "markdown",
   "id": "aeb144e6",
   "metadata": {},
   "source": [
    "### 1) AdaBoosting"
   ]
  },
  {
   "cell_type": "code",
   "execution_count": 53,
   "id": "a84f5937",
   "metadata": {},
   "outputs": [],
   "source": [
    "from sklearn.ensemble import AdaBoostRegressor"
   ]
  },
  {
   "cell_type": "code",
   "execution_count": 59,
   "id": "a699e70c",
   "metadata": {},
   "outputs": [
    {
     "data": {
      "text/plain": [
       "AdaBoostRegressor(n_estimators=100, random_state=0)"
      ]
     },
     "execution_count": 59,
     "metadata": {},
     "output_type": "execute_result"
    }
   ],
   "source": [
    "model= AdaBoostRegressor(n_estimators=100, random_state=0)\n",
    "model.fit(X_train, y_train)"
   ]
  },
  {
   "cell_type": "code",
   "execution_count": 60,
   "id": "6a20a0e4",
   "metadata": {
    "scrolled": false
   },
   "outputs": [
    {
     "name": "stdout",
     "output_type": "stream",
     "text": [
      "0.29695728654825215\n",
      "0.27200565799961796\n"
     ]
    }
   ],
   "source": [
    "print(model.score(X_train, y_train))\n",
    "print(model.score(X_test, y_test))"
   ]
  },
  {
   "cell_type": "code",
   "execution_count": 61,
   "id": "9ba2d9bd",
   "metadata": {},
   "outputs": [
    {
     "name": "stdout",
     "output_type": "stream",
     "text": [
      "훈련데이터 평균오차:  105.12929466476501\n",
      "테스트데이터 평균오차:  107.87815798537731\n"
     ]
    }
   ],
   "source": [
    "pred_train= model.predict(X_train)\n",
    "MSE_train= mean_squared_error(y_train, pred_train)\n",
    "print('훈련데이터 평균오차: ', np.sqrt(MSE_train))\n",
    "\n",
    "pred_test= model.predict(X_test)\n",
    "MSE_test= mean_squared_error(y_test, pred_test)\n",
    "print('테스트데이터 평균오차: ', np.sqrt(MSE_test))"
   ]
  },
  {
   "cell_type": "markdown",
   "id": "8b1ebf8d",
   "metadata": {},
   "source": [
    "### 2) GradientBoosting"
   ]
  },
  {
   "cell_type": "code",
   "execution_count": 66,
   "id": "c7ee96d3",
   "metadata": {},
   "outputs": [],
   "source": [
    "from sklearn.ensemble import GradientBoostingRegressor\n",
    "?GradientBoostingRegressor"
   ]
  },
  {
   "cell_type": "code",
   "execution_count": 63,
   "id": "77d50fbe",
   "metadata": {},
   "outputs": [
    {
     "data": {
      "text/plain": [
       "GradientBoostingRegressor(random_state=0)"
      ]
     },
     "execution_count": 63,
     "metadata": {},
     "output_type": "execute_result"
    }
   ],
   "source": [
    "model= GradientBoostingRegressor(n_estimators=100, random_state=0)\n",
    "model.fit(X_train, y_train)"
   ]
  },
  {
   "cell_type": "code",
   "execution_count": 64,
   "id": "6df26f4f",
   "metadata": {
    "scrolled": true
   },
   "outputs": [
    {
     "name": "stdout",
     "output_type": "stream",
     "text": [
      "0.6971712683907527\n",
      "0.6168063010725628\n"
     ]
    }
   ],
   "source": [
    "print(model.score(X_train, y_train))\n",
    "print(model.score(X_test, y_test))"
   ]
  },
  {
   "cell_type": "code",
   "execution_count": 65,
   "id": "dabfa8ac",
   "metadata": {},
   "outputs": [
    {
     "name": "stdout",
     "output_type": "stream",
     "text": [
      "훈련데이터 평균오차:  68.99719473408665\n",
      "테스트데이터 평균오차:  78.26700222894027\n"
     ]
    }
   ],
   "source": [
    "pred_train= model.predict(X_train)\n",
    "MSE_train= mean_squared_error(y_train, pred_train)\n",
    "print('훈련데이터 평균오차: ', np.sqrt(MSE_train))\n",
    "\n",
    "pred_test= model.predict(X_test)\n",
    "MSE_test= mean_squared_error(y_test, pred_test)\n",
    "print('테스트데이터 평균오차: ', np.sqrt(MSE_test))"
   ]
  },
  {
   "cell_type": "markdown",
   "id": "6941cd71",
   "metadata": {},
   "source": [
    "## (3) Breast Cancer Sample\n",
    "분류"
   ]
  },
  {
   "cell_type": "code",
   "execution_count": 67,
   "id": "36701545",
   "metadata": {},
   "outputs": [],
   "source": [
    "cancer= load_breast_cancer()\n",
    "X_train, X_test, y_train, y_test= train_test_split(cancer.data, cancer.target, random_state=42)"
   ]
  },
  {
   "cell_type": "markdown",
   "id": "d5a93857",
   "metadata": {},
   "source": [
    "### 1) GradientBoostingClassifier"
   ]
  },
  {
   "cell_type": "code",
   "execution_count": 68,
   "id": "774ae021",
   "metadata": {},
   "outputs": [
    {
     "name": "stdout",
     "output_type": "stream",
     "text": [
      "1.0\n",
      "0.958041958041958\n"
     ]
    }
   ],
   "source": [
    "model= GradientBoostingClassifier(random_state=0).fit(X_train, y_train)\n",
    "\n",
    "print(model.score(X_train, y_train))\n",
    "print(model.score(X_test, y_test))"
   ]
  },
  {
   "cell_type": "code",
   "execution_count": 69,
   "id": "02ed1339",
   "metadata": {},
   "outputs": [
    {
     "name": "stdout",
     "output_type": "stream",
     "text": [
      "0.9906103286384976\n",
      "0.965034965034965\n"
     ]
    }
   ],
   "source": [
    "model= GradientBoostingClassifier(random_state=0, max_depth=1).fit(X_train, y_train)\n",
    "\n",
    "print(model.score(X_train, y_train))\n",
    "print(model.score(X_test, y_test))"
   ]
  },
  {
   "cell_type": "code",
   "execution_count": 70,
   "id": "855e1149",
   "metadata": {},
   "outputs": [
    {
     "name": "stdout",
     "output_type": "stream",
     "text": [
      "0.9929577464788732\n",
      "0.958041958041958\n"
     ]
    }
   ],
   "source": [
    "model= GradientBoostingClassifier(random_state=0, learning_rate=0.01).fit(X_train, y_train)\n",
    "\n",
    "print(model.score(X_train, y_train))\n",
    "print(model.score(X_test, y_test))"
   ]
  },
  {
   "cell_type": "code",
   "execution_count": 71,
   "id": "42d6920c",
   "metadata": {},
   "outputs": [
    {
     "data": {
      "text/plain": [
       "<AxesSubplot:>"
      ]
     },
     "execution_count": 71,
     "metadata": {},
     "output_type": "execute_result"
    },
    {
     "data": {
      "image/png": "[encoded data removed]",
      "text/plain": [
       "<Figure size 640x480 with 1 Axes>"
      ]
     },
     "metadata": {},
     "output_type": "display_data"
    }
   ],
   "source": [
    "# 특성 중요도\n",
    "model= GradientBoostingClassifier(random_state=0, max_depth=1).fit(X_train, y_train)\n",
    "\n",
    "sns.barplot(x=model.feature_importances_, y= cancer.feature_names)"
   ]
  },
  {
   "cell_type": "code",
   "execution_count": 74,
   "id": "5a2ee648",
   "metadata": {},
   "outputs": [
    {
     "data": {
      "text/plain": [
       "GridSearchCV(cv=3,\n",
       "             estimator=GradientBoostingClassifier(max_depth=1, random_state=0),\n",
       "             n_jobs=-1,\n",
       "             param_grid={'learning_rate': [0.1, 0.01, 0.001, 1.0],\n",
       "                         'max_depth': [2, 3, 4, 5, 6, 7, 8, 9],\n",
       "                         'min_samples_leaf': [1, 2, 3, 4, 5],\n",
       "                         'min_samples_split': [4, 8, 10, 11, 12, 13, 14],\n",
       "                         'n_estimators': [100, 200, 300]})"
      ]
     },
     "execution_count": 74,
     "metadata": {},
     "output_type": "execute_result"
    }
   ],
   "source": [
    "params={\n",
    "    'n_estimators':[100, 200, 300],\n",
    "    'max_depth':[2,3,4,5,6,7,8,9],\n",
    "    'min_samples_leaf':[1,2,3,4,5],\n",
    "    'min_samples_split':[4,8,10,11,12,13,14],\n",
    "    'learning_rate':[0.1, 0.01, 0.001, 1.0]\n",
    "}\n",
    "grid_clf= GridSearchCV(model, param_grid=params, cv=3, n_jobs=-1)\n",
    "grid_clf.fit(X_train, y_train)"
   ]
  },
  {
   "cell_type": "code",
   "execution_count": 77,
   "id": "cd59e01c",
   "metadata": {
    "scrolled": false
   },
   "outputs": [
    {
     "data": {
      "text/plain": [
       "{'learning_rate': 1.0,\n",
       " 'max_depth': 2,\n",
       " 'min_samples_leaf': 4,\n",
       " 'min_samples_split': 10,\n",
       " 'n_estimators': 100}"
      ]
     },
     "execution_count": 77,
     "metadata": {},
     "output_type": "execute_result"
    }
   ],
   "source": [
    "grid_clf.best_params_"
   ]
  },
  {
   "cell_type": "code",
   "execution_count": 78,
   "id": "ac56e6f3",
   "metadata": {},
   "outputs": [
    {
     "name": "stdout",
     "output_type": "stream",
     "text": [
      "1.0\n",
      "0.965034965034965\n"
     ]
    }
   ],
   "source": [
    "print(grid_clf.score(X_train, y_train))\n",
    "print(grid_clf.score(X_test, y_test))"
   ]
  },
  {
   "cell_type": "markdown",
   "id": "647a5ec1",
   "metadata": {},
   "source": [
    "### 2) XGBoost\n",
    "\n",
    "- 트리 기반의 앙상블 방식\n",
    "- 분류에 있어서는 다른 알고리즘보다 좋은 예측 성능\n",
    "- GBM 기반이지만,GBM의 단점인 느린 수행과 과적합 규제 부재 등의 문제를 해결 \n",
    "- 병렬 CPU환경에서는 빠르게 학습이 가능\n",
    "- conda install -c anaconda py-xgboost"
   ]
  },
  {
   "cell_type": "code",
   "execution_count": 80,
   "id": "b3076898",
   "metadata": {},
   "outputs": [],
   "source": [
    "import xgboost as xgb\n",
    "from xgboost import XGBClassifier, XGBRegressor\n",
    "from xgboost import plot_importance, plot_tree\n",
    "?XGBClassifier"
   ]
  },
  {
   "cell_type": "code",
   "execution_count": 81,
   "id": "909841ed",
   "metadata": {},
   "outputs": [
    {
     "name": "stdout",
     "output_type": "stream",
     "text": [
      "1.0\n",
      "0.965034965034965\n"
     ]
    }
   ],
   "source": [
    "model= XGBClassifier(random_state=0, learning_rate=0.1, max_depth=3).fit(X_train, y_train)\n",
    "\n",
    "print(model.score(X_train, y_train))\n",
    "print(model.score(X_test, y_test))"
   ]
  },
  {
   "cell_type": "code",
   "execution_count": 83,
   "id": "2a497981",
   "metadata": {},
   "outputs": [
    {
     "data": {
      "text/plain": [
       "<AxesSubplot:title={'center':'Feature importance'}, xlabel='F score', ylabel='Features'>"
      ]
     },
     "execution_count": 83,
     "metadata": {},
     "output_type": "execute_result"
    },
    {
     "data": {
      "image/png": "[encoded data removed]",
      "text/plain": [
       "<Figure size 1000x1200 with 1 Axes>"
      ]
     },
     "metadata": {},
     "output_type": "display_data"
    }
   ],
   "source": [
    "_, ax=plt.subplots(figsize=(10,12))\n",
    "plot_importance(model, ax= ax)"
   ]
  },
  {
   "cell_type": "code",
   "execution_count": 86,
   "id": "b91d94a3",
   "metadata": {},
   "outputs": [
    {
     "name": "stdout",
     "output_type": "stream",
     "text": [
      "0.9647606019151846 0.010584240153747287\n"
     ]
    }
   ],
   "source": [
    "#### 적합도 검정\n",
    "\n",
    "cross_val= cross_validate(estimator=model, X=X_train, y=y_train, cv=5)\n",
    "cross_val\n",
    "\n",
    "print(cross_val['test_score'].mean(), cross_val['test_score'].std())"
   ]
  },
  {
   "cell_type": "markdown",
   "id": "96dbd929",
   "metadata": {},
   "source": [
    "### California 주택"
   ]
  },
  {
   "cell_type": "code",
   "execution_count": 87,
   "id": "11572279",
   "metadata": {},
   "outputs": [],
   "source": [
    "from sklearn.datasets import fetch_california_housing"
   ]
  },
  {
   "cell_type": "code",
   "execution_count": 88,
   "id": "4ab9bf1c",
   "metadata": {},
   "outputs": [],
   "source": [
    "california= fetch_california_housing()\n",
    "X_train, X_test, y_train, y_test= train_test_split(california.data, california.target, random_state=42)"
   ]
  },
  {
   "cell_type": "code",
   "execution_count": 89,
   "id": "d7ba221d",
   "metadata": {},
   "outputs": [
    {
     "name": "stdout",
     "output_type": "stream",
     "text": [
      "<class 'pandas.core.frame.DataFrame'>\n",
      "RangeIndex: 20640 entries, 0 to 20639\n",
      "Data columns (total 8 columns):\n",
      " #   Column  Non-Null Count  Dtype  \n",
      "---  ------  --------------  -----  \n",
      " 0   0       20640 non-null  float64\n",
      " 1   1       20640 non-null  float64\n",
      " 2   2       20640 non-null  float64\n",
      " 3   3       20640 non-null  float64\n",
      " 4   4       20640 non-null  float64\n",
      " 5   5       20640 non-null  float64\n",
      " 6   6       20640 non-null  float64\n",
      " 7   7       20640 non-null  float64\n",
      "dtypes: float64(8)\n",
      "memory usage: 1.3 MB\n"
     ]
    }
   ],
   "source": [
    "pd.DataFrame(california.data).info()"
   ]
  },
  {
   "cell_type": "code",
   "execution_count": 90,
   "id": "952cf657",
   "metadata": {},
   "outputs": [
    {
     "name": "stdout",
     "output_type": "stream",
     "text": [
      "0.609873031052925\n",
      "0.5910509795491352\n"
     ]
    }
   ],
   "source": [
    "model1= LinearRegression().fit(X_train, y_train)\n",
    "\n",
    "print(model1.score(X_train, y_train))\n",
    "print(model1.score(X_test, y_test))"
   ]
  },
  {
   "cell_type": "code",
   "execution_count": 93,
   "id": "680b15e6",
   "metadata": {
    "scrolled": true
   },
   "outputs": [
    {
     "name": "stdout",
     "output_type": "stream",
     "text": [
      "0.8055193255064026\n",
      "0.781331812032128\n"
     ]
    }
   ],
   "source": [
    "model2= XGBRegressor(n_estimators=100, learning_rate=0.1, max_depth=3, objective='reg:squarederror')\n",
    "model2.fit(X_train, y_train)\n",
    "\n",
    "print(model2.score(X_train, y_train))\n",
    "print(model2.score(X_test, y_test))"
   ]
  },
  {
   "cell_type": "markdown",
   "id": "a51bfc20",
   "metadata": {},
   "source": [
    "### 당뇨병"
   ]
  },
  {
   "cell_type": "code",
   "execution_count": 94,
   "id": "f42a7c9c",
   "metadata": {},
   "outputs": [],
   "source": [
    "from sklearn.datasets import load_diabetes"
   ]
  },
  {
   "cell_type": "code",
   "execution_count": 101,
   "id": "308cbb22",
   "metadata": {},
   "outputs": [
    {
     "name": "stdout",
     "output_type": "stream",
     "text": [
      "['age', 'sex', 'bmi', 'bp', 's1', 's2', 's3', 's4', 's5', 's6']\n",
      "[151.  75. 141. 206. 135.  97. 138.  63. 110. 310. 101.  69. 179. 185.\n",
      " 118. 171. 166. 144.  97. 168.  68.  49.  68. 245. 184. 202. 137.  85.\n",
      " 131. 283. 129.  59. 341.  87.  65. 102. 265. 276. 252.  90. 100.  55.\n",
      "  61.  92. 259.  53. 190. 142.  75. 142. 155. 225.  59. 104. 182. 128.\n",
      "  52.  37. 170. 170.  61. 144.  52. 128.  71. 163. 150.  97. 160. 178.\n",
      "  48. 270. 202. 111.  85.  42. 170. 200. 252. 113. 143.  51.  52. 210.\n",
      "  65. 141.  55. 134.  42. 111.  98. 164.  48.  96.  90. 162. 150. 279.\n",
      "  92.  83. 128. 102. 302. 198.  95.  53. 134. 144. 232.  81. 104.  59.\n",
      " 246. 297. 258. 229. 275. 281. 179. 200. 200. 173. 180.  84. 121. 161.\n",
      "  99. 109. 115. 268. 274. 158. 107.  83. 103. 272.  85. 280. 336. 281.\n",
      " 118. 317. 235.  60. 174. 259. 178. 128.  96. 126. 288.  88. 292.  71.\n",
      " 197. 186.  25.  84.  96. 195.  53. 217. 172. 131. 214.  59.  70. 220.\n",
      " 268. 152.  47.  74. 295. 101. 151. 127. 237. 225.  81. 151. 107.  64.\n",
      " 138. 185. 265. 101. 137. 143. 141.  79. 292. 178.  91. 116.  86. 122.\n",
      "  72. 129. 142.  90. 158.  39. 196. 222. 277.  99. 196. 202. 155.  77.\n",
      " 191.  70.  73.  49.  65. 263. 248. 296. 214. 185.  78.  93. 252. 150.\n",
      "  77. 208.  77. 108. 160.  53. 220. 154. 259.  90. 246. 124.  67.  72.\n",
      " 257. 262. 275. 177.  71.  47. 187. 125.  78.  51. 258. 215. 303. 243.\n",
      "  91. 150. 310. 153. 346.  63.  89.  50.  39. 103. 308. 116. 145.  74.\n",
      "  45. 115. 264.  87. 202. 127. 182. 241.  66.  94. 283.  64. 102. 200.\n",
      " 265.  94. 230. 181. 156. 233.  60. 219.  80.  68. 332. 248.  84. 200.\n",
      "  55.  85.  89.  31. 129.  83. 275.  65. 198. 236. 253. 124.  44. 172.\n",
      " 114. 142. 109. 180. 144. 163. 147.  97. 220. 190. 109. 191. 122. 230.\n",
      " 242. 248. 249. 192. 131. 237.  78. 135. 244. 199. 270. 164.  72.  96.\n",
      " 306.  91. 214.  95. 216. 263. 178. 113. 200. 139. 139.  88. 148.  88.\n",
      " 243.  71.  77. 109. 272.  60.  54. 221.  90. 311. 281. 182. 321.  58.\n",
      " 262. 206. 233. 242. 123. 167.  63. 197.  71. 168. 140. 217. 121. 235.\n",
      " 245.  40.  52. 104. 132.  88.  69. 219.  72. 201. 110.  51. 277.  63.\n",
      " 118.  69. 273. 258.  43. 198. 242. 232. 175.  93. 168. 275. 293. 281.\n",
      "  72. 140. 189. 181. 209. 136. 261. 113. 131. 174. 257.  55.  84.  42.\n",
      " 146. 212. 233.  91. 111. 152. 120.  67. 310.  94. 183.  66. 173.  72.\n",
      "  49.  64.  48. 178. 104. 132. 220.  57.]\n"
     ]
    }
   ],
   "source": [
    "diabetes= load_diabetes()\n",
    "print(diabetes.feature_names)\n",
    "print(diabetes.target)"
   ]
  },
  {
   "cell_type": "code",
   "execution_count": 111,
   "id": "8f15ca9c",
   "metadata": {},
   "outputs": [],
   "source": [
    "X_train, X_test, y_train, y_test= train_test_split(diabetes.data, diabetes.target, random_state=42)"
   ]
  },
  {
   "cell_type": "code",
   "execution_count": 112,
   "id": "a9a2adac",
   "metadata": {},
   "outputs": [
    {
     "name": "stdout",
     "output_type": "stream",
     "text": [
      "0.5190348343200994\n",
      "0.48490866359058016\n"
     ]
    }
   ],
   "source": [
    "model1= LinearRegression().fit(X_train, y_train)\n",
    "\n",
    "print(model1.score(X_train, y_train))\n",
    "print(model1.score(X_test, y_test))"
   ]
  },
  {
   "cell_type": "code",
   "execution_count": 115,
   "id": "160f607b",
   "metadata": {
    "scrolled": true
   },
   "outputs": [
    {
     "name": "stdout",
     "output_type": "stream",
     "text": [
      "0.988300783671347\n",
      "0.3705746492466916\n"
     ]
    }
   ],
   "source": [
    "model2= XGBRegressor(n_estimators=500, learning_rate=00.1, max_depth=3, objective='reg:squarederror')\n",
    "model2.fit(X_train, y_train)\n",
    "\n",
    "print(model2.score(X_train, y_train))\n",
    "print(model2.score(X_test, y_test))"
   ]
  },
  {
   "cell_type": "code",
   "execution_count": 116,
   "id": "2bc17a0d",
   "metadata": {},
   "outputs": [
    {
     "name": "stdout",
     "output_type": "stream",
     "text": [
      "0.0030303030303030303 0.006060606060606061\n"
     ]
    }
   ],
   "source": [
    "### 적합도 검정\n",
    "\n",
    "cross_val= cross_validate(estimator=model, X=X_train, y=y_train, cv=5)\n",
    "cross_val\n",
    "\n",
    "print(cross_val['test_score'].mean(), cross_val['test_score'].std())"
   ]
  },
  {
   "cell_type": "markdown",
   "id": "6b855ed6",
   "metadata": {},
   "source": [
    "### 3) LightGBM"
   ]
  },
  {
   "cell_type": "markdown",
   "id": "337ea42f",
   "metadata": {},
   "source": [
    "- 빠른 학습시간과 예측 시간\n",
    "- 더 적은 메모리\n",
    "- pip install lightgbm"
   ]
  },
  {
   "cell_type": "code",
   "execution_count": 117,
   "id": "8edb4afb",
   "metadata": {},
   "outputs": [],
   "source": [
    "from lightgbm import LGBMClassifier, LGBMRegressor\n",
    "from lightgbm import plot_importance, plot_metric"
   ]
  },
  {
   "cell_type": "markdown",
   "id": "68b5dc9c",
   "metadata": {},
   "source": [
    "#### iris sample"
   ]
  },
  {
   "cell_type": "code",
   "execution_count": 118,
   "id": "3d94e5f5",
   "metadata": {},
   "outputs": [],
   "source": [
    "iris= load_iris()"
   ]
  },
  {
   "cell_type": "code",
   "execution_count": 119,
   "id": "e1fa3836",
   "metadata": {},
   "outputs": [],
   "source": [
    "X_train, X_test, y_train, y_test= train_test_split(iris.data, iris.target, random_state=123, test_size=0.2)"
   ]
  },
  {
   "cell_type": "code",
   "execution_count": 122,
   "id": "0076ee9b",
   "metadata": {
    "scrolled": true
   },
   "outputs": [
    {
     "name": "stdout",
     "output_type": "stream",
     "text": [
      "[1]\tvalid_0's multi_logloss: 0.95847\n",
      "[2]\tvalid_0's multi_logloss: 0.832184\n",
      "[3]\tvalid_0's multi_logloss: 0.731164\n",
      "[4]\tvalid_0's multi_logloss: 0.641056\n",
      "[5]\tvalid_0's multi_logloss: 0.571726\n",
      "[6]\tvalid_0's multi_logloss: 0.507286\n",
      "[7]\tvalid_0's multi_logloss: 0.454933\n",
      "[8]\tvalid_0's multi_logloss: 0.410205\n",
      "[9]\tvalid_0's multi_logloss: 0.372194\n",
      "[10]\tvalid_0's multi_logloss: 0.333919\n",
      "[11]\tvalid_0's multi_logloss: 0.310212\n",
      "[12]\tvalid_0's multi_logloss: 0.282326\n",
      "[13]\tvalid_0's multi_logloss: 0.257165\n",
      "[14]\tvalid_0's multi_logloss: 0.240836\n",
      "[15]\tvalid_0's multi_logloss: 0.225383\n",
      "[16]\tvalid_0's multi_logloss: 0.211583\n",
      "[17]\tvalid_0's multi_logloss: 0.199289\n",
      "[18]\tvalid_0's multi_logloss: 0.186269\n",
      "[19]\tvalid_0's multi_logloss: 0.171556\n",
      "[20]\tvalid_0's multi_logloss: 0.168245\n",
      "[21]\tvalid_0's multi_logloss: 0.161065\n",
      "[22]\tvalid_0's multi_logloss: 0.151371\n",
      "[23]\tvalid_0's multi_logloss: 0.148081\n",
      "[24]\tvalid_0's multi_logloss: 0.143843\n",
      "[25]\tvalid_0's multi_logloss: 0.140169\n",
      "[26]\tvalid_0's multi_logloss: 0.138303\n",
      "[27]\tvalid_0's multi_logloss: 0.134058\n",
      "[28]\tvalid_0's multi_logloss: 0.130884\n",
      "[29]\tvalid_0's multi_logloss: 0.128082\n",
      "[30]\tvalid_0's multi_logloss: 0.124975\n",
      "[31]\tvalid_0's multi_logloss: 0.122225\n",
      "[32]\tvalid_0's multi_logloss: 0.120298\n",
      "[33]\tvalid_0's multi_logloss: 0.117257\n",
      "[34]\tvalid_0's multi_logloss: 0.115021\n",
      "[35]\tvalid_0's multi_logloss: 0.115037\n",
      "[36]\tvalid_0's multi_logloss: 0.115831\n",
      "[37]\tvalid_0's multi_logloss: 0.113318\n",
      "[38]\tvalid_0's multi_logloss: 0.115651\n",
      "[39]\tvalid_0's multi_logloss: 0.115772\n",
      "[40]\tvalid_0's multi_logloss: 0.114953\n",
      "[41]\tvalid_0's multi_logloss: 0.117056\n",
      "[42]\tvalid_0's multi_logloss: 0.115412\n",
      "[43]\tvalid_0's multi_logloss: 0.118359\n",
      "[44]\tvalid_0's multi_logloss: 0.117129\n",
      "[45]\tvalid_0's multi_logloss: 0.119174\n",
      "[46]\tvalid_0's multi_logloss: 0.117789\n",
      "[47]\tvalid_0's multi_logloss: 0.121333\n",
      "[48]\tvalid_0's multi_logloss: 0.120375\n",
      "[49]\tvalid_0's multi_logloss: 0.124128\n",
      "[50]\tvalid_0's multi_logloss: 0.123394\n",
      "[51]\tvalid_0's multi_logloss: 0.126631\n",
      "[52]\tvalid_0's multi_logloss: 0.129833\n",
      "[53]\tvalid_0's multi_logloss: 0.129069\n",
      "[54]\tvalid_0's multi_logloss: 0.135166\n",
      "[55]\tvalid_0's multi_logloss: 0.134996\n",
      "[56]\tvalid_0's multi_logloss: 0.13912\n",
      "[57]\tvalid_0's multi_logloss: 0.138818\n",
      "[58]\tvalid_0's multi_logloss: 0.142758\n",
      "[59]\tvalid_0's multi_logloss: 0.142228\n",
      "[60]\tvalid_0's multi_logloss: 0.142928\n",
      "[61]\tvalid_0's multi_logloss: 0.142513\n",
      "[62]\tvalid_0's multi_logloss: 0.143485\n",
      "[63]\tvalid_0's multi_logloss: 0.143408\n",
      "[64]\tvalid_0's multi_logloss: 0.148199\n",
      "[65]\tvalid_0's multi_logloss: 0.148074\n",
      "[66]\tvalid_0's multi_logloss: 0.156199\n",
      "[67]\tvalid_0's multi_logloss: 0.15898\n",
      "[68]\tvalid_0's multi_logloss: 0.157612\n",
      "[69]\tvalid_0's multi_logloss: 0.162526\n",
      "[70]\tvalid_0's multi_logloss: 0.166269\n",
      "[71]\tvalid_0's multi_logloss: 0.168114\n",
      "[72]\tvalid_0's multi_logloss: 0.173203\n",
      "[73]\tvalid_0's multi_logloss: 0.181871\n",
      "[74]\tvalid_0's multi_logloss: 0.181307\n",
      "[75]\tvalid_0's multi_logloss: 0.186251\n",
      "[76]\tvalid_0's multi_logloss: 0.185765\n",
      "[77]\tvalid_0's multi_logloss: 0.190847\n",
      "[78]\tvalid_0's multi_logloss: 0.190228\n",
      "[79]\tvalid_0's multi_logloss: 0.195371\n",
      "[80]\tvalid_0's multi_logloss: 0.199459\n",
      "[81]\tvalid_0's multi_logloss: 0.198517\n",
      "[82]\tvalid_0's multi_logloss: 0.203972\n",
      "[83]\tvalid_0's multi_logloss: 0.213262\n",
      "[84]\tvalid_0's multi_logloss: 0.212185\n",
      "[85]\tvalid_0's multi_logloss: 0.217603\n",
      "[86]\tvalid_0's multi_logloss: 0.227068\n",
      "[87]\tvalid_0's multi_logloss: 0.225914\n",
      "[88]\tvalid_0's multi_logloss: 0.230099\n",
      "[89]\tvalid_0's multi_logloss: 0.229018\n",
      "[90]\tvalid_0's multi_logloss: 0.23464\n",
      "[91]\tvalid_0's multi_logloss: 0.24434\n",
      "[92]\tvalid_0's multi_logloss: 0.243782\n",
      "[93]\tvalid_0's multi_logloss: 0.24814\n",
      "[94]\tvalid_0's multi_logloss: 0.25793\n",
      "[95]\tvalid_0's multi_logloss: 0.257366\n",
      "[96]\tvalid_0's multi_logloss: 0.261762\n",
      "[97]\tvalid_0's multi_logloss: 0.260774\n",
      "[98]\tvalid_0's multi_logloss: 0.270632\n",
      "[99]\tvalid_0's multi_logloss: 0.269316\n",
      "[100]\tvalid_0's multi_logloss: 0.269535\n"
     ]
    },
    {
     "data": {
      "text/plain": [
       "LGBMClassifier()"
      ]
     },
     "execution_count": 122,
     "metadata": {},
     "output_type": "execute_result"
    }
   ],
   "source": [
    "model= LGBMClassifier(n_estimators=100)\n",
    "model.fit(X_train, y_train, early_stopping_rounds=100, eval_metric='logloss',eval_set=[(X_test, y_test)], verbose=True)"
   ]
  },
  {
   "cell_type": "code",
   "execution_count": 124,
   "id": "e2a098b7",
   "metadata": {},
   "outputs": [
    {
     "name": "stdout",
     "output_type": "stream",
     "text": [
      "0.9833333333333333\n",
      "0.9666666666666667\n"
     ]
    }
   ],
   "source": [
    "print(model.score(X_train, y_train))\n",
    "print(model.score(X_test, y_test))"
   ]
  },
  {
   "cell_type": "code",
   "execution_count": 123,
   "id": "fedb9159",
   "metadata": {},
   "outputs": [
    {
     "data": {
      "text/plain": [
       "<AxesSubplot:title={'center':'Metric during training'}, xlabel='Iterations', ylabel='multi_logloss'>"
      ]
     },
     "execution_count": 123,
     "metadata": {},
     "output_type": "execute_result"
    },
    {
     "data": {
      "image/png": "[encoded data removed]",
      "text/plain": [
       "<Figure size 640x480 with 1 Axes>"
      ]
     },
     "metadata": {},
     "output_type": "display_data"
    }
   ],
   "source": [
    "plot_metric(model)"
   ]
  },
  {
   "cell_type": "markdown",
   "id": "a1a3561d",
   "metadata": {},
   "source": [
    "#### California Sample"
   ]
  },
  {
   "cell_type": "code",
   "execution_count": 126,
   "id": "bea0d2ec",
   "metadata": {},
   "outputs": [],
   "source": [
    "california= fetch_california_housing()\n",
    "X_train, X_test, y_train, y_test= train_test_split(california.data, california.target, random_state=42)"
   ]
  },
  {
   "cell_type": "code",
   "execution_count": 128,
   "id": "0c5b1db2",
   "metadata": {
    "scrolled": true
   },
   "outputs": [
    {
     "name": "stdout",
     "output_type": "stream",
     "text": [
      "[1]\tvalid_0's l2: 1.16283\n",
      "[2]\tvalid_0's l2: 1.02756\n",
      "[3]\tvalid_0's l2: 0.916963\n",
      "[4]\tvalid_0's l2: 0.821253\n",
      "[5]\tvalid_0's l2: 0.746683\n",
      "[6]\tvalid_0's l2: 0.681512\n",
      "[7]\tvalid_0's l2: 0.622827\n",
      "[8]\tvalid_0's l2: 0.574682\n",
      "[9]\tvalid_0's l2: 0.534902\n",
      "[10]\tvalid_0's l2: 0.50245\n",
      "[11]\tvalid_0's l2: 0.472656\n",
      "[12]\tvalid_0's l2: 0.448665\n",
      "[13]\tvalid_0's l2: 0.427001\n",
      "[14]\tvalid_0's l2: 0.407672\n",
      "[15]\tvalid_0's l2: 0.393788\n",
      "[16]\tvalid_0's l2: 0.379775\n",
      "[17]\tvalid_0's l2: 0.3662\n",
      "[18]\tvalid_0's l2: 0.355743\n",
      "[19]\tvalid_0's l2: 0.345494\n",
      "[20]\tvalid_0's l2: 0.337253\n",
      "[21]\tvalid_0's l2: 0.327643\n",
      "[22]\tvalid_0's l2: 0.319412\n",
      "[23]\tvalid_0's l2: 0.311759\n",
      "[24]\tvalid_0's l2: 0.305131\n",
      "[25]\tvalid_0's l2: 0.297484\n",
      "[26]\tvalid_0's l2: 0.292113\n",
      "[27]\tvalid_0's l2: 0.285865\n",
      "[28]\tvalid_0's l2: 0.280194\n",
      "[29]\tvalid_0's l2: 0.275744\n",
      "[30]\tvalid_0's l2: 0.271333\n",
      "[31]\tvalid_0's l2: 0.267862\n",
      "[32]\tvalid_0's l2: 0.265065\n",
      "[33]\tvalid_0's l2: 0.262503\n",
      "[34]\tvalid_0's l2: 0.260544\n",
      "[35]\tvalid_0's l2: 0.259157\n",
      "[36]\tvalid_0's l2: 0.256226\n",
      "[37]\tvalid_0's l2: 0.254265\n",
      "[38]\tvalid_0's l2: 0.252514\n",
      "[39]\tvalid_0's l2: 0.250886\n",
      "[40]\tvalid_0's l2: 0.249102\n",
      "[41]\tvalid_0's l2: 0.246318\n",
      "[42]\tvalid_0's l2: 0.245322\n",
      "[43]\tvalid_0's l2: 0.244199\n",
      "[44]\tvalid_0's l2: 0.241773\n",
      "[45]\tvalid_0's l2: 0.240554\n",
      "[46]\tvalid_0's l2: 0.239985\n",
      "[47]\tvalid_0's l2: 0.239478\n",
      "[48]\tvalid_0's l2: 0.238691\n",
      "[49]\tvalid_0's l2: 0.237911\n",
      "[50]\tvalid_0's l2: 0.236544\n",
      "[51]\tvalid_0's l2: 0.235931\n",
      "[52]\tvalid_0's l2: 0.234666\n",
      "[53]\tvalid_0's l2: 0.232748\n",
      "[54]\tvalid_0's l2: 0.23212\n",
      "[55]\tvalid_0's l2: 0.231392\n",
      "[56]\tvalid_0's l2: 0.230497\n",
      "[57]\tvalid_0's l2: 0.229821\n",
      "[58]\tvalid_0's l2: 0.229223\n",
      "[59]\tvalid_0's l2: 0.228649\n",
      "[60]\tvalid_0's l2: 0.228213\n",
      "[61]\tvalid_0's l2: 0.227908\n",
      "[62]\tvalid_0's l2: 0.227141\n",
      "[63]\tvalid_0's l2: 0.22646\n",
      "[64]\tvalid_0's l2: 0.225836\n",
      "[65]\tvalid_0's l2: 0.22527\n",
      "[66]\tvalid_0's l2: 0.224432\n",
      "[67]\tvalid_0's l2: 0.223384\n",
      "[68]\tvalid_0's l2: 0.222955\n",
      "[69]\tvalid_0's l2: 0.22283\n",
      "[70]\tvalid_0's l2: 0.221819\n",
      "[71]\tvalid_0's l2: 0.22136\n",
      "[72]\tvalid_0's l2: 0.220973\n",
      "[73]\tvalid_0's l2: 0.220824\n",
      "[74]\tvalid_0's l2: 0.220008\n",
      "[75]\tvalid_0's l2: 0.219367\n",
      "[76]\tvalid_0's l2: 0.219139\n",
      "[77]\tvalid_0's l2: 0.218918\n",
      "[78]\tvalid_0's l2: 0.218187\n",
      "[79]\tvalid_0's l2: 0.217988\n",
      "[80]\tvalid_0's l2: 0.217894\n",
      "[81]\tvalid_0's l2: 0.21747\n",
      "[82]\tvalid_0's l2: 0.21745\n",
      "[83]\tvalid_0's l2: 0.216846\n",
      "[84]\tvalid_0's l2: 0.216209\n",
      "[85]\tvalid_0's l2: 0.215929\n",
      "[86]\tvalid_0's l2: 0.21564\n",
      "[87]\tvalid_0's l2: 0.215549\n",
      "[88]\tvalid_0's l2: 0.21548\n",
      "[89]\tvalid_0's l2: 0.215189\n",
      "[90]\tvalid_0's l2: 0.21502\n",
      "[91]\tvalid_0's l2: 0.214264\n",
      "[92]\tvalid_0's l2: 0.21428\n",
      "[93]\tvalid_0's l2: 0.214142\n",
      "[94]\tvalid_0's l2: 0.214241\n",
      "[95]\tvalid_0's l2: 0.213919\n",
      "[96]\tvalid_0's l2: 0.213931\n",
      "[97]\tvalid_0's l2: 0.213916\n",
      "[98]\tvalid_0's l2: 0.213526\n",
      "[99]\tvalid_0's l2: 0.213515\n",
      "[100]\tvalid_0's l2: 0.213293\n"
     ]
    },
    {
     "data": {
      "text/plain": [
       "LGBMRegressor()"
      ]
     },
     "execution_count": 128,
     "metadata": {},
     "output_type": "execute_result"
    }
   ],
   "source": [
    "model= LGBMRegressor(n_estimators=100)\n",
    "model.fit(X_train, y_train, early_stopping_rounds=100, eval_metric='logloss',eval_set=[(X_test, y_test)], verbose=True)\n"
   ]
  },
  {
   "cell_type": "code",
   "execution_count": 129,
   "id": "1dd2483e",
   "metadata": {},
   "outputs": [
    {
     "data": {
      "text/plain": [
       "<AxesSubplot:title={'center':'Metric during training'}, xlabel='Iterations', ylabel='l2'>"
      ]
     },
     "execution_count": 129,
     "metadata": {},
     "output_type": "execute_result"
    },
    {
     "data": {
      "image/png": "[encoded data removed]",
      "text/plain": [
       "<Figure size 640x480 with 1 Axes>"
      ]
     },
     "metadata": {},
     "output_type": "display_data"
    }
   ],
   "source": [
    "plot_metric(model)"
   ]
  },
  {
   "cell_type": "markdown",
   "id": "731e1405",
   "metadata": {},
   "source": [
    "#### 당뇨병 샘플"
   ]
  },
  {
   "cell_type": "code",
   "execution_count": 130,
   "id": "d01faa31",
   "metadata": {},
   "outputs": [],
   "source": [
    "diabetes= load_diabetes()\n",
    "X_train, X_test, y_train, y_test= train_test_split(diabetes.data, diabetes.target, random_state=42)"
   ]
  },
  {
   "cell_type": "code",
   "execution_count": 131,
   "id": "c9e5a25c",
   "metadata": {
    "scrolled": true
   },
   "outputs": [
    {
     "name": "stdout",
     "output_type": "stream",
     "text": [
      "[1]\tvalid_0's l2: 5191.36\n",
      "[2]\tvalid_0's l2: 4864.92\n",
      "[3]\tvalid_0's l2: 4511.2\n",
      "[4]\tvalid_0's l2: 4254.74\n",
      "[5]\tvalid_0's l2: 4037.41\n",
      "[6]\tvalid_0's l2: 3811.27\n",
      "[7]\tvalid_0's l2: 3665.43\n",
      "[8]\tvalid_0's l2: 3504.05\n",
      "[9]\tvalid_0's l2: 3417.61\n",
      "[10]\tvalid_0's l2: 3296.34\n",
      "[11]\tvalid_0's l2: 3227.1\n",
      "[12]\tvalid_0's l2: 3133.17\n",
      "[13]\tvalid_0's l2: 3115.54\n",
      "[14]\tvalid_0's l2: 3031.15\n",
      "[15]\tvalid_0's l2: 3014.51\n",
      "[16]\tvalid_0's l2: 2986.93\n",
      "[17]\tvalid_0's l2: 2943.4\n",
      "[18]\tvalid_0's l2: 2909.59\n",
      "[19]\tvalid_0's l2: 2914\n",
      "[20]\tvalid_0's l2: 2914.83\n",
      "[21]\tvalid_0's l2: 2869.06\n",
      "[22]\tvalid_0's l2: 2866.2\n",
      "[23]\tvalid_0's l2: 2837.45\n",
      "[24]\tvalid_0's l2: 2814.37\n",
      "[25]\tvalid_0's l2: 2817.53\n",
      "[26]\tvalid_0's l2: 2820.99\n",
      "[27]\tvalid_0's l2: 2811.85\n",
      "[28]\tvalid_0's l2: 2795.42\n",
      "[29]\tvalid_0's l2: 2780.58\n",
      "[30]\tvalid_0's l2: 2752\n",
      "[31]\tvalid_0's l2: 2755.84\n",
      "[32]\tvalid_0's l2: 2755.21\n",
      "[33]\tvalid_0's l2: 2755.6\n",
      "[34]\tvalid_0's l2: 2743.86\n",
      "[35]\tvalid_0's l2: 2742.14\n",
      "[36]\tvalid_0's l2: 2725.46\n",
      "[37]\tvalid_0's l2: 2720.37\n",
      "[38]\tvalid_0's l2: 2706.03\n",
      "[39]\tvalid_0's l2: 2714.19\n",
      "[40]\tvalid_0's l2: 2704.99\n",
      "[41]\tvalid_0's l2: 2708.24\n",
      "[42]\tvalid_0's l2: 2714.22\n",
      "[43]\tvalid_0's l2: 2702.58\n",
      "[44]\tvalid_0's l2: 2684.2\n",
      "[45]\tvalid_0's l2: 2693.72\n",
      "[46]\tvalid_0's l2: 2696.97\n",
      "[47]\tvalid_0's l2: 2696.24\n",
      "[48]\tvalid_0's l2: 2690.74\n",
      "[49]\tvalid_0's l2: 2668.3\n",
      "[50]\tvalid_0's l2: 2662.26\n",
      "[51]\tvalid_0's l2: 2664.24\n",
      "[52]\tvalid_0's l2: 2657.81\n",
      "[53]\tvalid_0's l2: 2669.74\n",
      "[54]\tvalid_0's l2: 2670.13\n",
      "[55]\tvalid_0's l2: 2661.81\n",
      "[56]\tvalid_0's l2: 2652.19\n",
      "[57]\tvalid_0's l2: 2647.83\n",
      "[58]\tvalid_0's l2: 2667.01\n",
      "[59]\tvalid_0's l2: 2679.26\n",
      "[60]\tvalid_0's l2: 2681.13\n",
      "[61]\tvalid_0's l2: 2684.41\n",
      "[62]\tvalid_0's l2: 2710.98\n",
      "[63]\tvalid_0's l2: 2709.55\n",
      "[64]\tvalid_0's l2: 2712.82\n",
      "[65]\tvalid_0's l2: 2720.91\n",
      "[66]\tvalid_0's l2: 2706.57\n",
      "[67]\tvalid_0's l2: 2703.25\n",
      "[68]\tvalid_0's l2: 2706.7\n",
      "[69]\tvalid_0's l2: 2709.58\n",
      "[70]\tvalid_0's l2: 2709.28\n",
      "[71]\tvalid_0's l2: 2705.7\n",
      "[72]\tvalid_0's l2: 2702.12\n",
      "[73]\tvalid_0's l2: 2708.88\n",
      "[74]\tvalid_0's l2: 2712.36\n",
      "[75]\tvalid_0's l2: 2726.08\n",
      "[76]\tvalid_0's l2: 2742.42\n",
      "[77]\tvalid_0's l2: 2746.39\n",
      "[78]\tvalid_0's l2: 2743.76\n",
      "[79]\tvalid_0's l2: 2753.09\n",
      "[80]\tvalid_0's l2: 2742.38\n",
      "[81]\tvalid_0's l2: 2747.7\n",
      "[82]\tvalid_0's l2: 2751.73\n",
      "[83]\tvalid_0's l2: 2748.37\n",
      "[84]\tvalid_0's l2: 2745.72\n",
      "[85]\tvalid_0's l2: 2744.61\n",
      "[86]\tvalid_0's l2: 2740.38\n",
      "[87]\tvalid_0's l2: 2744.45\n",
      "[88]\tvalid_0's l2: 2735.83\n",
      "[89]\tvalid_0's l2: 2733.46\n",
      "[90]\tvalid_0's l2: 2731.4\n",
      "[91]\tvalid_0's l2: 2731.21\n",
      "[92]\tvalid_0's l2: 2738.26\n",
      "[93]\tvalid_0's l2: 2761.04\n",
      "[94]\tvalid_0's l2: 2769.16\n",
      "[95]\tvalid_0's l2: 2772.05\n",
      "[96]\tvalid_0's l2: 2776.45\n",
      "[97]\tvalid_0's l2: 2780.51\n",
      "[98]\tvalid_0's l2: 2788.46\n",
      "[99]\tvalid_0's l2: 2787.24\n",
      "[100]\tvalid_0's l2: 2786.99\n",
      "0.6376263350783249\n",
      "0.521161229211471\n"
     ]
    }
   ],
   "source": [
    "model= LGBMRegressor(n_estimators=100, max_depth=2, learning_rate=0.1)\n",
    "model.fit(X_train, y_train, early_stopping_rounds=100, eval_metric='logloss',eval_set=[(X_test, y_test)], verbose=True)\n",
    "\n",
    "print(model.score(X_train, y_train))\n",
    "print(model.score(X_test, y_test))"
   ]
  },
  {
   "cell_type": "markdown",
   "id": "c808f11e",
   "metadata": {},
   "source": [
    "# 6. Stacking 실습\n",
    "## (1) Classification"
   ]
  },
  {
   "cell_type": "code",
   "execution_count": 132,
   "id": "66f85758",
   "metadata": {},
   "outputs": [],
   "source": [
    "X_train= pd.read_csv('data/X_final_C.csv')\n",
    "X_test= pd.read_csv('data/test_final_C.csv')\n",
    "y_train= pd.read_csv('data/y_train_C.csv')\n",
    "y_test= pd.read_csv('data/y_test_C.csv')"
   ]
  },
  {
   "cell_type": "code",
   "execution_count": 134,
   "id": "f70d4521",
   "metadata": {},
   "outputs": [],
   "source": [
    "from sklearn.ensemble import RandomForestClassifier\n",
    "from sklearn.svm import SVC\n",
    "from sklearn.linear_model import LogisticRegression\n",
    "from sklearn.ensemble import StackingClassifier"
   ]
  },
  {
   "cell_type": "code",
   "execution_count": 136,
   "id": "58673e1d",
   "metadata": {},
   "outputs": [
    {
     "data": {
      "text/plain": [
       "StackingClassifier(estimators=[('rf',\n",
       "                                RandomForestClassifier(n_estimators=10,\n",
       "                                                       random_state=42)),\n",
       "                               ('svr', SVC(random_state=42))],\n",
       "                   final_estimator=LogisticRegression())"
      ]
     },
     "execution_count": 136,
     "metadata": {},
     "output_type": "execute_result"
    }
   ],
   "source": [
    "estimators=[('rf',RandomForestClassifier(n_estimators=10, random_state= 42)), ('svm',SVC(random_state=42))]\n",
    "\n",
    "model= StackingClassifier(estimators= estimators, final_estimator=LogisticRegression())\n",
    "\n",
    "model.fit(X_train, y_train)"
   ]
  },
  {
   "cell_type": "code",
   "execution_count": 137,
   "id": "6cf8d879",
   "metadata": {},
   "outputs": [
    {
     "name": "stdout",
     "output_type": "stream",
     "text": [
      "0.8690647482014389\n",
      "0.7788944723618091\n"
     ]
    }
   ],
   "source": [
    "print(model.score(X_train, y_train))\n",
    "print(model.score(X_test, y_test))"
   ]
  },
  {
   "cell_type": "code",
   "execution_count": null,
   "id": "6f4b482a",
   "metadata": {},
   "outputs": [],
   "source": []
  }
 ],
 "metadata": {
  "kernelspec": {
   "display_name": "Python 3 (ipykernel)",
   "language": "python",
   "name": "python3"
  },
  "language_info": {
   "codemirror_mode": {
    "name": "ipython",
    "version": 3
   },
   "file_extension": ".py",
   "mimetype": "text/x-python",
   "name": "python",
   "nbconvert_exporter": "python",
   "pygments_lexer": "ipython3",
   "version": "3.9.13"
  }
 },
 "nbformat": 4,
 "nbformat_minor": 5
}
