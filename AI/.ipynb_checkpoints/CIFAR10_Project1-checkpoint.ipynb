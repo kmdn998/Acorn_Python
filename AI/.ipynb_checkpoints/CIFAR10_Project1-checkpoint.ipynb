{
 "cells": [
  {
   "cell_type": "code",
   "execution_count": 3,
   "metadata": {
    "id": "nWhPUUnPveS3"
   },
   "outputs": [],
   "source": [
    "import numpy as np\n",
    "import tensorflow as tf\n",
    "from tensorflow.keras.datasets import cifar10\n",
    "from tensorflow.keras.models import Sequential\n",
    "from tensorflow.keras.layers import Conv2D, MaxPool2D\n",
    "from tensorflow.keras.layers import Flatten, Dense, Dropout"
   ]
  },
  {
   "cell_type": "code",
   "execution_count": 4,
   "metadata": {
    "colab": {
     "base_uri": "https://localhost:8080/"
    },
    "id": "Q4Xh-9FkvsKE",
    "outputId": "f2357a46-9c09-4890-df5c-4014e0e60b8d"
   },
   "outputs": [
    {
     "name": "stdout",
     "output_type": "stream",
     "text": [
      "(50000, 32, 32, 3) (10000, 32, 32, 3)\n",
      "(50000, 1) (10000, 1)\n"
     ]
    }
   ],
   "source": [
    "(x_train, y_train),(x_test, y_test) = cifar10.load_data()\n",
    "\n",
    "x_train=x_train.reshape(-1, 32, 32, 3)\n",
    "x_test=x_test.reshape(-1, 32, 32, 3)\n",
    "\n",
    "print(x_train.shape, x_test.shape)\n",
    "print(y_train.shape, y_test.shape)\n",
    "\n",
    "x_train = x_train.astype(np.float32) / 255.0\n",
    "x_test = x_test.astype(np.float32) / 255.0"
   ]
  },
  {
   "cell_type": "code",
   "execution_count": 5,
   "metadata": {
    "id": "ISOTB0okwnAc"
   },
   "outputs": [],
   "source": [
    "cnn = Sequential()\n",
    "\n",
    "cnn.add(Conv2D(input_shape=(32,32,3), kernel_size=(3,3),\n",
    "               filters=32, activation='relu', padding='same'))\n",
    "cnn.add(Conv2D(kernel_size=(3,3), filters=32, activation='relu', padding='same'))\n",
    "cnn.add(MaxPool2D(pool_size=(2,2)))\n",
    "cnn.add(Dropout(0.25))\n",
    "\n",
    "cnn.add(Conv2D(kernel_size=(3,3), filters=64, activation='relu', padding='same'))\n",
    "cnn.add(Conv2D(kernel_size=(3,3), filters=64, activation='relu', padding='same'))\n",
    "cnn.add(MaxPool2D(pool_size=(2,2)))\n",
    "cnn.add(Dropout(0.25))\n",
    "\n",
    "cnn.add(Conv2D(kernel_size=(3,3), filters=128, activation='relu', padding='same'))\n",
    "cnn.add(MaxPool2D(pool_size=(2,2)))\n",
    "cnn.add(Dropout(0.25))\n",
    "\n",
    "cnn.add(Conv2D(kernel_size=(3,3), filters=256, activation='relu', padding='same'))\n",
    "cnn.add(MaxPool2D(pool_size=(2,2)))\n",
    "cnn.add(Dropout(0.25))\n",
    "\n",
    "cnn.add(Flatten())\n",
    "\n",
    "cnn.add(Dense(256, activation='relu'))\n",
    "cnn.add(Dropout(0.5))\n",
    "cnn.add(Dense(128, activation='relu'))\n",
    "cnn.add(Dropout(0.5))\n",
    "cnn.add(Dense(10, activation='softmax'))"
   ]
  },
  {
   "cell_type": "code",
   "execution_count": 6,
   "metadata": {
    "colab": {
     "base_uri": "https://localhost:8080/"
    },
    "id": "ndPGvLsXx0XF",
    "outputId": "82f392ee-c08f-40f8-a372-8ece3af0a820"
   },
   "outputs": [
    {
     "name": "stdout",
     "output_type": "stream",
     "text": [
      "Model: \"sequential\"\n",
      "_________________________________________________________________\n",
      "Layer (type)                 Output Shape              Param #   \n",
      "=================================================================\n",
      "conv2d (Conv2D)              (None, 32, 32, 32)        896       \n",
      "_________________________________________________________________\n",
      "conv2d_1 (Conv2D)            (None, 32, 32, 32)        9248      \n",
      "_________________________________________________________________\n",
      "max_pooling2d (MaxPooling2D) (None, 16, 16, 32)        0         \n",
      "_________________________________________________________________\n",
      "dropout (Dropout)            (None, 16, 16, 32)        0         \n",
      "_________________________________________________________________\n",
      "conv2d_2 (Conv2D)            (None, 16, 16, 64)        18496     \n",
      "_________________________________________________________________\n",
      "conv2d_3 (Conv2D)            (None, 16, 16, 64)        36928     \n",
      "_________________________________________________________________\n",
      "max_pooling2d_1 (MaxPooling2 (None, 8, 8, 64)          0         \n",
      "_________________________________________________________________\n",
      "dropout_1 (Dropout)          (None, 8, 8, 64)          0         \n",
      "_________________________________________________________________\n",
      "conv2d_4 (Conv2D)            (None, 8, 8, 128)         73856     \n",
      "_________________________________________________________________\n",
      "max_pooling2d_2 (MaxPooling2 (None, 4, 4, 128)         0         \n",
      "_________________________________________________________________\n",
      "dropout_2 (Dropout)          (None, 4, 4, 128)         0         \n",
      "_________________________________________________________________\n",
      "conv2d_5 (Conv2D)            (None, 4, 4, 256)         295168    \n",
      "_________________________________________________________________\n",
      "max_pooling2d_3 (MaxPooling2 (None, 2, 2, 256)         0         \n",
      "_________________________________________________________________\n",
      "dropout_3 (Dropout)          (None, 2, 2, 256)         0         \n",
      "_________________________________________________________________\n",
      "flatten (Flatten)            (None, 1024)              0         \n",
      "_________________________________________________________________\n",
      "dense (Dense)                (None, 256)               262400    \n",
      "_________________________________________________________________\n",
      "dropout_4 (Dropout)          (None, 256)               0         \n",
      "_________________________________________________________________\n",
      "dense_1 (Dense)              (None, 128)               32896     \n",
      "_________________________________________________________________\n",
      "dropout_5 (Dropout)          (None, 128)               0         \n",
      "_________________________________________________________________\n",
      "dense_2 (Dense)              (None, 10)                1290      \n",
      "=================================================================\n",
      "Total params: 731,178\n",
      "Trainable params: 731,178\n",
      "Non-trainable params: 0\n",
      "_________________________________________________________________\n"
     ]
    }
   ],
   "source": [
    "cnn.compile(loss='sparse_categorical_crossentropy',\n",
    "            optimizer=tf.keras.optimizers.Adam(), metrics=['accuracy'])\n",
    "\n",
    "cnn.summary()"
   ]
  },
  {
   "cell_type": "code",
   "execution_count": 7,
   "metadata": {
    "colab": {
     "base_uri": "https://localhost:8080/"
    },
    "id": "Rsq5HiT5yEA_",
    "outputId": "bcdbb14b-1186-4b2d-b665-664cd5a52068"
   },
   "outputs": [
    {
     "name": "stdout",
     "output_type": "stream",
     "text": [
      "Epoch 1/40\n",
      "391/391 [==============================] - 61s 157ms/step - loss: 1.9617 - accuracy: 0.2469 - val_loss: 1.6085 - val_accuracy: 0.4088\n",
      "Epoch 2/40\n",
      "391/391 [==============================] - 61s 156ms/step - loss: 1.4937 - accuracy: 0.4494 - val_loss: 1.2876 - val_accuracy: 0.5405\n",
      "Epoch 3/40\n",
      "391/391 [==============================] - 60s 155ms/step - loss: 1.2835 - accuracy: 0.5405 - val_loss: 1.2323 - val_accuracy: 0.5664\n",
      "Epoch 4/40\n",
      "391/391 [==============================] - 60s 152ms/step - loss: 1.1570 - accuracy: 0.5912 - val_loss: 1.0294 - val_accuracy: 0.6315\n",
      "Epoch 5/40\n",
      "391/391 [==============================] - 60s 152ms/step - loss: 1.0601 - accuracy: 0.6302 - val_loss: 0.9863 - val_accuracy: 0.6530\n",
      "Epoch 6/40\n",
      "391/391 [==============================] - 60s 153ms/step - loss: 0.9987 - accuracy: 0.6531 - val_loss: 0.8838 - val_accuracy: 0.6933\n",
      "Epoch 7/40\n",
      "391/391 [==============================] - 60s 155ms/step - loss: 0.9334 - accuracy: 0.6773 - val_loss: 0.8560 - val_accuracy: 0.7037\n",
      "Epoch 8/40\n",
      "391/391 [==============================] - 60s 154ms/step - loss: 0.8915 - accuracy: 0.6959 - val_loss: 0.7619 - val_accuracy: 0.7379\n",
      "Epoch 9/40\n",
      "391/391 [==============================] - 60s 153ms/step - loss: 0.8547 - accuracy: 0.7099 - val_loss: 0.7604 - val_accuracy: 0.7388\n",
      "Epoch 10/40\n",
      "391/391 [==============================] - 61s 155ms/step - loss: 0.8204 - accuracy: 0.7201 - val_loss: 0.7285 - val_accuracy: 0.7520\n",
      "Epoch 11/40\n",
      "391/391 [==============================] - 60s 153ms/step - loss: 0.7830 - accuracy: 0.7355 - val_loss: 0.6954 - val_accuracy: 0.7560\n",
      "Epoch 12/40\n",
      "391/391 [==============================] - 60s 153ms/step - loss: 0.7578 - accuracy: 0.7425 - val_loss: 0.7325 - val_accuracy: 0.7548\n",
      "Epoch 13/40\n",
      "391/391 [==============================] - 61s 155ms/step - loss: 0.7461 - accuracy: 0.7504 - val_loss: 0.7029 - val_accuracy: 0.7654\n",
      "Epoch 14/40\n",
      "391/391 [==============================] - 61s 157ms/step - loss: 0.7327 - accuracy: 0.7523 - val_loss: 0.6484 - val_accuracy: 0.7784\n",
      "Epoch 15/40\n",
      "391/391 [==============================] - 62s 159ms/step - loss: 0.7182 - accuracy: 0.7589 - val_loss: 0.6874 - val_accuracy: 0.7668\n",
      "Epoch 16/40\n",
      "391/391 [==============================] - 64s 164ms/step - loss: 0.6917 - accuracy: 0.7665 - val_loss: 0.6468 - val_accuracy: 0.7809\n",
      "Epoch 17/40\n",
      "391/391 [==============================] - 64s 164ms/step - loss: 0.6852 - accuracy: 0.7672 - val_loss: 0.6298 - val_accuracy: 0.7834\n",
      "Epoch 18/40\n",
      "391/391 [==============================] - 63s 162ms/step - loss: 0.6670 - accuracy: 0.7770 - val_loss: 0.6219 - val_accuracy: 0.7874\n",
      "Epoch 19/40\n",
      "391/391 [==============================] - 64s 164ms/step - loss: 0.6653 - accuracy: 0.7746 - val_loss: 0.6192 - val_accuracy: 0.7936\n",
      "Epoch 20/40\n",
      "391/391 [==============================] - 64s 164ms/step - loss: 0.6510 - accuracy: 0.7809 - val_loss: 0.6109 - val_accuracy: 0.7876\n",
      "Epoch 21/40\n",
      "391/391 [==============================] - 63s 160ms/step - loss: 0.6455 - accuracy: 0.7840 - val_loss: 0.6531 - val_accuracy: 0.7745\n",
      "Epoch 22/40\n",
      "391/391 [==============================] - 63s 162ms/step - loss: 0.6294 - accuracy: 0.7902 - val_loss: 0.5998 - val_accuracy: 0.7958\n",
      "Epoch 23/40\n",
      "391/391 [==============================] - 64s 163ms/step - loss: 0.6221 - accuracy: 0.7903 - val_loss: 0.6009 - val_accuracy: 0.7977\n",
      "Epoch 24/40\n",
      "391/391 [==============================] - 64s 163ms/step - loss: 0.6114 - accuracy: 0.7916 - val_loss: 0.6193 - val_accuracy: 0.7847\n",
      "Epoch 25/40\n",
      "391/391 [==============================] - 63s 161ms/step - loss: 0.6099 - accuracy: 0.7937 - val_loss: 0.5781 - val_accuracy: 0.8033\n",
      "Epoch 26/40\n",
      "391/391 [==============================] - 63s 162ms/step - loss: 0.5991 - accuracy: 0.7983 - val_loss: 0.6303 - val_accuracy: 0.7880\n",
      "Epoch 27/40\n",
      "391/391 [==============================] - 64s 162ms/step - loss: 0.5960 - accuracy: 0.7999 - val_loss: 0.5829 - val_accuracy: 0.8044\n",
      "Epoch 28/40\n",
      "391/391 [==============================] - 64s 163ms/step - loss: 0.5864 - accuracy: 0.8022 - val_loss: 0.5625 - val_accuracy: 0.8057\n",
      "Epoch 29/40\n",
      "391/391 [==============================] - 64s 163ms/step - loss: 0.5805 - accuracy: 0.8083 - val_loss: 0.5696 - val_accuracy: 0.8088\n",
      "Epoch 30/40\n",
      "391/391 [==============================] - 64s 163ms/step - loss: 0.5763 - accuracy: 0.8076 - val_loss: 0.5880 - val_accuracy: 0.8028\n",
      "Epoch 31/40\n",
      "391/391 [==============================] - 64s 165ms/step - loss: 0.5688 - accuracy: 0.8089 - val_loss: 0.5787 - val_accuracy: 0.8085\n",
      "Epoch 32/40\n",
      "391/391 [==============================] - 64s 164ms/step - loss: 0.5646 - accuracy: 0.8101 - val_loss: 0.5717 - val_accuracy: 0.8032\n",
      "Epoch 33/40\n",
      "391/391 [==============================] - 64s 163ms/step - loss: 0.5657 - accuracy: 0.8111 - val_loss: 0.5718 - val_accuracy: 0.8084\n",
      "Epoch 34/40\n",
      "391/391 [==============================] - 63s 162ms/step - loss: 0.5511 - accuracy: 0.8163 - val_loss: 0.5832 - val_accuracy: 0.8023\n",
      "Epoch 35/40\n",
      "391/391 [==============================] - 64s 163ms/step - loss: 0.5504 - accuracy: 0.8147 - val_loss: 0.5658 - val_accuracy: 0.8089\n",
      "Epoch 36/40\n",
      "391/391 [==============================] - 64s 164ms/step - loss: 0.5464 - accuracy: 0.8167 - val_loss: 0.5745 - val_accuracy: 0.8071\n",
      "Epoch 37/40\n",
      "391/391 [==============================] - 64s 163ms/step - loss: 0.5494 - accuracy: 0.8167 - val_loss: 0.5416 - val_accuracy: 0.8175\n",
      "Epoch 38/40\n",
      "391/391 [==============================] - 64s 164ms/step - loss: 0.5416 - accuracy: 0.8211 - val_loss: 0.5992 - val_accuracy: 0.8016\n",
      "Epoch 39/40\n",
      "391/391 [==============================] - 64s 163ms/step - loss: 0.5274 - accuracy: 0.8242 - val_loss: 0.5418 - val_accuracy: 0.8243\n",
      "Epoch 40/40\n",
      "391/391 [==============================] - 64s 164ms/step - loss: 0.5349 - accuracy: 0.8222 - val_loss: 0.5698 - val_accuracy: 0.8109\n",
      "elapsed time =>  0:41:47.327320\n"
     ]
    }
   ],
   "source": [
    "from datetime import datetime\n",
    "\n",
    "start_time = datetime.now()\n",
    "\n",
    "hist = cnn.fit(x_train, y_train, batch_size=128, \n",
    "               epochs=40, validation_data=(x_test, y_test))\n",
    "\n",
    "end_time = datetime.now()\n",
    "\n",
    "print('elapsed time => ', end_time-start_time)"
   ]
  },
  {
   "cell_type": "code",
   "execution_count": 8,
   "metadata": {
    "colab": {
     "base_uri": "https://localhost:8080/"
    },
    "id": "TNQbhxp_yOU4",
    "outputId": "6ee86724-ac51-4075-dc8c-7c61eec075a6"
   },
   "outputs": [
    {
     "name": "stdout",
     "output_type": "stream",
     "text": [
      "313/313 [==============================] - 3s 9ms/step - loss: 0.5698 - accuracy: 0.8109\n"
     ]
    },
    {
     "data": {
      "text/plain": [
       "[0.5697997212409973, 0.8108999729156494]"
      ]
     },
     "execution_count": 8,
     "metadata": {},
     "output_type": "execute_result"
    }
   ],
   "source": [
    "cnn.evaluate(x_test, y_test)"
   ]
  },
  {
   "cell_type": "code",
   "execution_count": 9,
   "metadata": {
    "colab": {
     "base_uri": "https://localhost:8080/",
     "height": 295
    },
    "id": "z7hIF36fyR6O",
    "outputId": "5f0c871a-693d-40f8-8a24-4aedf856331a"
   },
   "outputs": [
    {
     "data": {
      "image/png": "[encoded data removed]",
      "text/plain": [
       "<Figure size 432x288 with 1 Axes>"
      ]
     },
     "metadata": {
      "needs_background": "light"
     },
     "output_type": "display_data"
    }
   ],
   "source": [
    "import matplotlib.pyplot as plt\n",
    "\n",
    "plt.plot(hist.history['accuracy'])\n",
    "plt.plot(hist.history['val_accuracy'])\n",
    "plt.title('Accuracy Trend')\n",
    "plt.ylabel('accuracy')\n",
    "plt.xlabel('epoch')\n",
    "plt.legend(['train','validation'], loc='best')\n",
    "plt.grid()\n",
    "plt.show()"
   ]
  },
  {
   "cell_type": "code",
   "execution_count": 10,
   "metadata": {
    "colab": {
     "base_uri": "https://localhost:8080/",
     "height": 295
    },
    "id": "ikuZTLbMybAQ",
    "outputId": "24b64c9e-d0a0-455c-c84d-daaa56de0884"
   },
   "outputs": [
    {
     "data": {
      "image/png": "[encoded data removed]",
      "text/plain": [
       "<Figure size 432x288 with 1 Axes>"
      ]
     },
     "metadata": {
      "needs_background": "light"
     },
     "output_type": "display_data"
    }
   ],
   "source": [
    "plt.plot(hist.history['loss'])\n",
    "plt.plot(hist.history['val_loss'])\n",
    "plt.title('Loss Trend')\n",
    "plt.ylabel('loss')\n",
    "plt.xlabel('epoch')\n",
    "plt.legend(['train','validation'], loc='best')\n",
    "plt.grid()\n",
    "plt.show()"
   ]
  },
  {
   "cell_type": "code",
   "execution_count": 11,
   "metadata": {
    "colab": {
     "base_uri": "https://localhost:8080/"
    },
    "id": "PByUMR0n0Z8B",
    "outputId": "7a7ba413-9ace-4571-ba66-75da5c4fb3e5"
   },
   "outputs": [
    {
     "name": "stdout",
     "output_type": "stream",
     "text": [
      "Done !!!\n"
     ]
    }
   ],
   "source": [
    "# 모델 저장\n",
    "\n",
    "try:\n",
    "    cnn.save('./cifar10_accuracy_81v1.h5')\n",
    "    print('Done !!!')\n",
    "\n",
    "except Exception as err:\n",
    "\n",
    "    print(str(err))"
   ]
  },
  {
   "cell_type": "code",
   "execution_count": null,
   "metadata": {
    "id": "Lv6aur79Ky2L"
   },
   "outputs": [],
   "source": []
  }
 ],
 "metadata": {
  "accelerator": "GPU",
  "colab": {
   "collapsed_sections": [],
   "name": "TF_2_x_CNN_Example_9_CCPCCPCPCP_same.ipynb",
   "provenance": []
  },
  "kernelspec": {
   "display_name": "Python 3 (ipykernel)",
   "language": "python",
   "name": "python3"
  },
  "language_info": {
   "codemirror_mode": {
    "name": "ipython",
    "version": 3
   },
   "file_extension": ".py",
   "mimetype": "text/x-python",
   "name": "python",
   "nbconvert_exporter": "python",
   "pygments_lexer": "ipython3",
   "version": "3.9.13"
  }
 },
 "nbformat": 4,
 "nbformat_minor": 1
}
