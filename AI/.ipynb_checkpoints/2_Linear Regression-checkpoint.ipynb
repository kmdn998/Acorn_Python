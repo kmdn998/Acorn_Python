{
 "cells": [
  {
   "cell_type": "code",
   "execution_count": 1,
   "id": "0364883c",
   "metadata": {},
   "outputs": [],
   "source": [
    "import numpy as np\n",
    "import pandas as pd\n",
    "import matplotlib.pyplot as plt\n",
    "import seaborn as sns\n",
    "\n",
    "import matplotlib.font_manager as fm\n",
    "font_name= fm.FontProperties(fname='C:\\\\Windows\\\\Fonts\\\\malgun.ttf').get_name()\n",
    "plt.rc('font',family=font_name)\n",
    "\n",
    "import matplotlib as mlp\n",
    "mlp.rcParams['axes.unicode_minus']=False"
   ]
  },
  {
   "cell_type": "code",
   "execution_count": 2,
   "id": "e291b0e7",
   "metadata": {},
   "outputs": [],
   "source": [
    "import mglearn\n",
    "from sklearn.neighbors import KNeighborsClassifier\n",
    "# ?KNeighborsClassifier\n",
    "\n",
    "from sklearn.model_selection import train_test_split, cross_val_score, cross_validate\n",
    "from sklearn.model_selection import GridSearchCV, RandomizedSearchCV\n",
    "from sklearn.preprocessing import MinMaxScaler, StandardScaler\n",
    "from sklearn.metrics import accuracy_score # 정확도\n",
    "\n",
    "from sklearn.linear_model import LinearRegression\n",
    "\n",
    "from sklearn.datasets import load_iris"
   ]
  },
  {
   "cell_type": "markdown",
   "id": "78cdf6ba",
   "metadata": {},
   "source": [
    "# 1. 종류\n",
    "\n",
    "[평가지표](https://netsong7.tistory.com/entry/%EC%86%90%EC%8B%A4%ED%95%A8%EC%88%98%EC%99%80-%EB%AF%B8%EB%B6%84-%EA%B3%B5%EC%8B%9D)\n",
    "- 일반 선형회귀 모델: 과적합 발생 가능. 튜닝 불가\n",
    "- 릿지 선형회귀 모델: L2 규제(MSE항(일반선형회귀모델)에 Penalty항 추가)\n",
    "- 라쏘 선형회귀 모델\n",
    "- 엘라스틱넷 선형회귀 모델"
   ]
  },
  {
   "cell_type": "code",
   "execution_count": 4,
   "id": "8e899667",
   "metadata": {},
   "outputs": [
    {
     "name": "stderr",
     "output_type": "stream",
     "text": [
      "C:\\Users\\acorn\\anaconda3\\lib\\site-packages\\sklearn\\utils\\deprecation.py:87: FutureWarning: Function load_boston is deprecated; `load_boston` is deprecated in 1.0 and will be removed in 1.2.\n",
      "\n",
      "    The Boston housing prices dataset has an ethical problem. You can refer to\n",
      "    the documentation of this function for further details.\n",
      "\n",
      "    The scikit-learn maintainers therefore strongly discourage the use of this\n",
      "    dataset unless the purpose of the code is to study and educate about\n",
      "    ethical issues in data science and machine learning.\n",
      "\n",
      "    In this special case, you can fetch the dataset from the original\n",
      "    source::\n",
      "\n",
      "        import pandas as pd\n",
      "        import numpy as np\n",
      "\n",
      "\n",
      "        data_url = \"http://lib.stat.cmu.edu/datasets/boston\"\n",
      "        raw_df = pd.read_csv(data_url, sep=\"\\s+\", skiprows=22, header=None)\n",
      "        data = np.hstack([raw_df.values[::2, :], raw_df.values[1::2, :2]])\n",
      "        target = raw_df.values[1::2, 2]\n",
      "\n",
      "    Alternative datasets include the California housing dataset (i.e.\n",
      "    :func:`~sklearn.datasets.fetch_california_housing`) and the Ames housing\n",
      "    dataset. You can load the datasets as follows::\n",
      "\n",
      "        from sklearn.datasets import fetch_california_housing\n",
      "        housing = fetch_california_housing()\n",
      "\n",
      "    for the California housing dataset and::\n",
      "\n",
      "        from sklearn.datasets import fetch_openml\n",
      "        housing = fetch_openml(name=\"house_prices\", as_frame=True)\n",
      "\n",
      "    for the Ames housing dataset.\n",
      "    \n",
      "  warnings.warn(msg, category=FutureWarning)\n"
     ]
    },
    {
     "data": {
      "text/plain": [
       "array([[6.3200e-03, 1.8000e+01, 2.3100e+00, ..., 1.5300e+01, 3.9690e+02,\n",
       "        4.9800e+00],\n",
       "       [2.7310e-02, 0.0000e+00, 7.0700e+00, ..., 1.7800e+01, 3.9690e+02,\n",
       "        9.1400e+00],\n",
       "       [2.7290e-02, 0.0000e+00, 7.0700e+00, ..., 1.7800e+01, 3.9283e+02,\n",
       "        4.0300e+00],\n",
       "       ...,\n",
       "       [6.0760e-02, 0.0000e+00, 1.1930e+01, ..., 2.1000e+01, 3.9690e+02,\n",
       "        5.6400e+00],\n",
       "       [1.0959e-01, 0.0000e+00, 1.1930e+01, ..., 2.1000e+01, 3.9345e+02,\n",
       "        6.4800e+00],\n",
       "       [4.7410e-02, 0.0000e+00, 1.1930e+01, ..., 2.1000e+01, 3.9690e+02,\n",
       "        7.8800e+00]])"
      ]
     },
     "execution_count": 4,
     "metadata": {},
     "output_type": "execute_result"
    }
   ],
   "source": [
    "from sklearn.datasets import load_boston\n",
    "boston= load_boston()\n",
    "boston.data"
   ]
  },
  {
   "cell_type": "code",
   "execution_count": 5,
   "id": "9c27abde",
   "metadata": {},
   "outputs": [],
   "source": [
    "X_train, X_test, y_train, y_test= train_test_split(boston.data, boston.target, random_state=0)"
   ]
  },
  {
   "cell_type": "code",
   "execution_count": 9,
   "id": "08c35537",
   "metadata": {},
   "outputs": [
    {
     "data": {
      "text/plain": [
       "LinearRegression()"
      ]
     },
     "execution_count": 9,
     "metadata": {},
     "output_type": "execute_result"
    }
   ],
   "source": [
    "model= LinearRegression()\n",
    "model.fit(X_train, y_train)"
   ]
  },
  {
   "cell_type": "code",
   "execution_count": 10,
   "id": "703c2563",
   "metadata": {
    "scrolled": true
   },
   "outputs": [
    {
     "name": "stdout",
     "output_type": "stream",
     "text": [
      "훈련 점수: 0.7697699488741149\n",
      "테스트 점수: 0.6354638433202129\n"
     ]
    }
   ],
   "source": [
    "print('훈련 점수:', model.score(X_train, y_train))\n",
    "print('테스트 점수:', model.score(X_test, y_test))\n",
    "# 훈련 결과만 좋음 -> 과적합"
   ]
  },
  {
   "cell_type": "markdown",
   "id": "6de12797",
   "metadata": {},
   "source": [
    "# 2. 고차원 특성에 대한 과적합\n",
    "[과적합](https://netsong7.tistory.com/entry/II-%EB%A8%B8%EC%8B%A0%EB%9F%AC%EB%8B%9D%EC%9D%98-%EB%B6%84%EB%A5%98%EC%99%80-%EA%B3%BC%EC%A0%81%ED%95%A9)"
   ]
  },
  {
   "cell_type": "code",
   "execution_count": 6,
   "id": "41745635",
   "metadata": {},
   "outputs": [],
   "source": [
    "from mglearn.datasets import load_extended_boston"
   ]
  },
  {
   "cell_type": "code",
   "execution_count": 7,
   "id": "9f119cee",
   "metadata": {},
   "outputs": [
    {
     "name": "stdout",
     "output_type": "stream",
     "text": [
      "(506, 104)\n"
     ]
    }
   ],
   "source": [
    "X, y= load_extended_boston() # 변수 갯수 뻥튀기\n",
    "print(X.shape)"
   ]
  },
  {
   "cell_type": "code",
   "execution_count": 20,
   "id": "d6766b12",
   "metadata": {},
   "outputs": [],
   "source": [
    "X_train, X_test, y_train, y_test= train_test_split(X, y, random_state=0)"
   ]
  },
  {
   "cell_type": "code",
   "execution_count": 21,
   "id": "9999e9bb",
   "metadata": {},
   "outputs": [
    {
     "data": {
      "text/plain": [
       "LinearRegression()"
      ]
     },
     "execution_count": 21,
     "metadata": {},
     "output_type": "execute_result"
    }
   ],
   "source": [
    "model= LinearRegression()\n",
    "model.fit(X_train, y_train)"
   ]
  },
  {
   "cell_type": "code",
   "execution_count": 22,
   "id": "1bde3856",
   "metadata": {},
   "outputs": [
    {
     "name": "stdout",
     "output_type": "stream",
     "text": [
      "훈련 점수: 0.9520519609032729\n",
      "테스트 점수: 0.6074721959665845\n"
     ]
    }
   ],
   "source": [
    "print('훈련 점수:', model.score(X_train, y_train)) # 변수가 늘어나면 설명력 올라감\n",
    "print('테스트 점수:', model.score(X_test, y_test)) # 과적합 문제\n",
    "\n"
   ]
  },
  {
   "cell_type": "markdown",
   "id": "94f9755d",
   "metadata": {},
   "source": [
    "## (1) Ridge Linear Regression\n",
    "\n",
    "과적합을 줄이기 위해 사용. 성능과 별개\n",
    "\n",
    "- L2 규제(Regularization)\n",
    "    - MSE(MeanSquareError)항에 Penalty항을 추가\n",
    "- 학습률(알파, learning rate)을 크게하면 페널티의 효과가 커지고(가중치 감소, 모델 단순), 작게하면 반대가 된다.\n",
    "- 모델을 단순하게 해주고 성능 차이를 절충. 성능 자체에는 영향 없다\n",
    "- 규제를 사용하면 다중 공선성 문제를 방지하기 때문에 모델의 과대적합을 막을 수 있다.\n",
    "\n",
    "L2: 제곱의 합\n",
    "L1: 절댓값"
   ]
  },
  {
   "cell_type": "code",
   "execution_count": 23,
   "id": "ee24c1d4",
   "metadata": {},
   "outputs": [],
   "source": [
    "from sklearn.linear_model import Ridge"
   ]
  },
  {
   "cell_type": "code",
   "execution_count": 28,
   "id": "c3415ed3",
   "metadata": {},
   "outputs": [
    {
     "name": "stdout",
     "output_type": "stream",
     "text": [
      "훈련 점수: 0.885796658517094\n",
      "테스트 점수: 0.7527683481744754\n"
     ]
    }
   ],
   "source": [
    "ridge= Ridge(alpha=1.0).fit(X_train, y_train)\n",
    "\n",
    "print('훈련 점수:', ridge.score(X_train, y_train))\n",
    "print('테스트 점수:', ridge.score(X_test, y_test))"
   ]
  },
  {
   "cell_type": "code",
   "execution_count": 29,
   "id": "aa5ffc68",
   "metadata": {},
   "outputs": [
    {
     "name": "stdout",
     "output_type": "stream",
     "text": [
      "훈련 점수: 0.7882787115369615\n",
      "테스트 점수: 0.6359411489177311\n"
     ]
    }
   ],
   "source": [
    "ridge10= Ridge(alpha=10).fit(X_train, y_train)\n",
    "\n",
    "print('훈련 점수:', ridge10.score(X_train, y_train))\n",
    "print('테스트 점수:', ridge10.score(X_test, y_test))"
   ]
  },
  {
   "cell_type": "code",
   "execution_count": 30,
   "id": "ce99206b",
   "metadata": {},
   "outputs": [
    {
     "name": "stdout",
     "output_type": "stream",
     "text": [
      "훈련 점수: 0.9282273685001986\n",
      "테스트 점수: 0.772206793647982\n"
     ]
    }
   ],
   "source": [
    "ridge01= Ridge(alpha=0.1).fit(X_train, y_train)\n",
    "\n",
    "print('훈련 점수:', ridge01.score(X_train, y_train))\n",
    "print('테스트 점수:', ridge01.score(X_test, y_test))"
   ]
  },
  {
   "cell_type": "code",
   "execution_count": 35,
   "id": "a8068a80",
   "metadata": {},
   "outputs": [
    {
     "data": {
      "text/plain": [
       "(-15.0, 25.0)"
      ]
     },
     "execution_count": 35,
     "metadata": {},
     "output_type": "execute_result"
    },
    {
     "data": {
      "image/png": "[encoded data removed]",
      "text/plain": [
       "<Figure size 640x480 with 1 Axes>"
      ]
     },
     "metadata": {},
     "output_type": "display_data"
    }
   ],
   "source": [
    "plt.plot(ridge10.coef_, '^', label='alpha=10')\n",
    "plt.plot(ridge.coef_, 's', label='alpha=1')\n",
    "plt.plot(ridge10.coef_, 'v', label='alpha=0.1')\n",
    "# 알파가 클수록 모여있음\n",
    "\n",
    "plt.plot(model.coef_, 'o', label='Linear Regression') # 일반 선형회귀모델\n",
    "# 규제가 없으므로 0.1과 가장 비슷\n",
    "\n",
    "plt.legend()\n",
    "plt.xlabel('계수 목록')\n",
    "plt.ylabel('계수 크기')\n",
    "plt.hlines(0,0,len(model.coef_))\n",
    "plt.ylim(-15,25)"
   ]
  },
  {
   "cell_type": "markdown",
   "id": "6cfaec7d",
   "metadata": {},
   "source": [
    "## (2) Lasso Linear Regression\n",
    "\n",
    "- L1 규제 -> 가중치 절댓값 합\n",
    "- 특성 선택이 자동으로 이루어진다\n",
    "- 알파를 크게 하면 페널티의 효과가 커지고(가중치 감소, 모델 단순), 작게하면 반대\n",
    "\n",
    "변수를 없애는 효과\n",
    "Ridge 사용 후 Lasso 쓰기"
   ]
  },
  {
   "cell_type": "code",
   "execution_count": 36,
   "id": "6df45c11",
   "metadata": {},
   "outputs": [],
   "source": [
    "from sklearn.linear_model import Lasso"
   ]
  },
  {
   "cell_type": "code",
   "execution_count": 38,
   "id": "944e2329",
   "metadata": {},
   "outputs": [
    {
     "name": "stdout",
     "output_type": "stream",
     "text": [
      "훈련 점수: 0.29323768991114607\n",
      "테스트 점수: 0.20937503255272294\n",
      "사용한 특성의 수:  4\n"
     ]
    }
   ],
   "source": [
    "lasso= Lasso(alpha=1.0).fit(X_train, y_train)\n",
    "\n",
    "print('훈련 점수:', lasso.score(X_train, y_train))\n",
    "print('테스트 점수:', lasso.score(X_test, y_test))\n",
    "print('사용한 특성의 수: ', np.sum(lasso.coef_ != 0)) # 알파가 0이 아닌 변수"
   ]
  },
  {
   "cell_type": "code",
   "execution_count": 44,
   "id": "f020fd22",
   "metadata": {},
   "outputs": [
    {
     "name": "stdout",
     "output_type": "stream",
     "text": [
      "훈련 점수: 0.8961122320864717\n",
      "테스트 점수: 0.7677995670886713\n",
      "사용한 특성의 수:  32\n"
     ]
    },
    {
     "name": "stderr",
     "output_type": "stream",
     "text": [
      "C:\\Users\\acorn\\anaconda3\\lib\\site-packages\\sklearn\\linear_model\\_coordinate_descent.py:647: ConvergenceWarning: Objective did not converge. You might want to increase the number of iterations, check the scale of the features or consider increasing regularisation. Duality gap: 4.690e+01, tolerance: 3.233e+00\n",
      "  model = cd_fast.enet_coordinate_descent(\n"
     ]
    }
   ],
   "source": [
    "lasso001= Lasso(alpha=0.01).fit(X_train, y_train)\n",
    "\n",
    "print('훈련 점수:', lasso001.score(X_train, y_train))\n",
    "print('테스트 점수:', lasso001.score(X_test, y_test))\n",
    "print('사용한 특성의 수: ', np.sum(lasso001.coef_ != 0)) # 알파가 0이 아닌 변수"
   ]
  },
  {
   "cell_type": "code",
   "execution_count": 45,
   "id": "712f7b5d",
   "metadata": {},
   "outputs": [
    {
     "name": "stderr",
     "output_type": "stream",
     "text": [
      "C:\\Users\\acorn\\anaconda3\\lib\\site-packages\\sklearn\\linear_model\\_coordinate_descent.py:647: ConvergenceWarning: Objective did not converge. You might want to increase the number of iterations, check the scale of the features or consider increasing regularisation. Duality gap: 9.440e+02, tolerance: 3.233e+00\n",
      "  model = cd_fast.enet_coordinate_descent(\n"
     ]
    },
    {
     "name": "stdout",
     "output_type": "stream",
     "text": [
      "훈련 점수: 0.9420931515237063\n",
      "테스트 점수: 0.6976541391663642\n",
      "사용한 특성의 수:  76\n"
     ]
    }
   ],
   "source": [
    "lasso00001= Lasso(alpha=0.0001).fit(X_train, y_train)\n",
    "\n",
    "print('훈련 점수:', lasso00001.score(X_train, y_train))\n",
    "print('테스트 점수:', lasso00001.score(X_test, y_test))\n",
    "print('사용한 특성의 수: ', np.sum(lasso0001.coef_ != 0)) # 알파가 0이 아닌 변수\n",
    "# 과적합 심해짐"
   ]
  },
  {
   "cell_type": "code",
   "execution_count": 47,
   "id": "864fc558",
   "metadata": {
    "scrolled": false
   },
   "outputs": [
    {
     "data": {
      "text/plain": [
       "(-15.0, 25.0)"
      ]
     },
     "execution_count": 47,
     "metadata": {},
     "output_type": "execute_result"
    },
    {
     "data": {
      "image/png": "[encoded data removed]",
      "text/plain": [
       "<Figure size 640x480 with 1 Axes>"
      ]
     },
     "metadata": {},
     "output_type": "display_data"
    }
   ],
   "source": [
    "plt.plot(lasso.coef_, '^', label='alpha=1')\n",
    "plt.plot(lasso001.coef_, 's', label='alpha=0.01')\n",
    "plt.plot(lasso00001.coef_, 'v', label='alpha=0.0001')\n",
    "# 알파가 클수록 모여있음\n",
    "\n",
    "plt.plot(model.coef_, 'o', label='Linear Regression') # 일반 선형회귀모델\n",
    "# 규제가 없으므로 0.1과 가장 비슷\n",
    "\n",
    "plt.legend()\n",
    "plt.xlabel('계수 목록')\n",
    "plt.ylabel('계수 크기')\n",
    "plt.hlines(0,0,len(model.coef_))\n",
    "plt.ylim(-15,25)"
   ]
  },
  {
   "cell_type": "markdown",
   "id": "56d3166e",
   "metadata": {},
   "source": [
    "## (3) ElasticNet Linear Regression(신축망)\n",
    "- L2와 L1 모두 사용. 성능 가장 좋음. 속도 느림\n",
    "- 릿지회귀와 라쏘회귀의 모든 규제를 사용\n",
    "- 데이터 특성이 많거나 서로 상관관계가 높은 특성이 존재할 때 위의 두 모델보다 좋은 성능을 보여준다"
   ]
  },
  {
   "cell_type": "code",
   "execution_count": 48,
   "id": "9e64d298",
   "metadata": {},
   "outputs": [],
   "source": [
    "from sklearn.linear_model import ElasticNet"
   ]
  },
  {
   "cell_type": "code",
   "execution_count": 49,
   "id": "46a828ff",
   "metadata": {},
   "outputs": [
    {
     "name": "stdout",
     "output_type": "stream",
     "text": [
      "훈련 점수: 0.32837814485847916\n",
      "테스트 점수: 0.2217004367773664\n",
      "사용한 특성의 수:  38\n"
     ]
    }
   ],
   "source": [
    "elastic= ElasticNet().fit(X_train, y_train) # alpha=1.0, l1_ratio=0.5\n",
    "\n",
    "print('훈련 점수:', elastic.score(X_train, y_train))\n",
    "print('테스트 점수:', elastic.score(X_test, y_test))\n",
    "print('사용한 특성의 수: ', np.sum(elastic.coef_ != 0))"
   ]
  },
  {
   "cell_type": "code",
   "execution_count": 51,
   "id": "e9cf3720",
   "metadata": {},
   "outputs": [
    {
     "name": "stdout",
     "output_type": "stream",
     "text": [
      "훈련 점수: 0.8553665697077995\n",
      "테스트 점수: 0.7209054027265391\n",
      "사용한 특성의 수:  84\n"
     ]
    }
   ],
   "source": [
    "elastic001= ElasticNet(alpha=0.01).fit(X_train, y_train) # alpha=1.0, l1_ratio=0.5\n",
    "\n",
    "print('훈련 점수:', elastic001.score(X_train, y_train))\n",
    "print('테스트 점수:', elastic001.score(X_test, y_test))\n",
    "print('사용한 특성의 수: ', np.sum(elastic001.coef_ != 0))"
   ]
  },
  {
   "cell_type": "code",
   "execution_count": 53,
   "id": "b92702b6",
   "metadata": {},
   "outputs": [
    {
     "name": "stdout",
     "output_type": "stream",
     "text": [
      "훈련 점수: 0.9374103160789478\n",
      "테스트 점수: 0.7318843811977773\n",
      "사용한 특성의 수:  103\n"
     ]
    },
    {
     "name": "stderr",
     "output_type": "stream",
     "text": [
      "C:\\Users\\acorn\\anaconda3\\lib\\site-packages\\sklearn\\linear_model\\_coordinate_descent.py:647: ConvergenceWarning: Objective did not converge. You might want to increase the number of iterations, check the scale of the features or consider increasing regularisation. Duality gap: 1.141e+03, tolerance: 3.233e+00\n",
      "  model = cd_fast.enet_coordinate_descent(\n"
     ]
    }
   ],
   "source": [
    "elastic00001= ElasticNet(alpha=0.0001).fit(X_train, y_train) # alpha=1.0, l1_ratio=0.5\n",
    "\n",
    "print('훈련 점수:', elastic00001.score(X_train, y_train))\n",
    "print('테스트 점수:', elastic00001.score(X_test, y_test))\n",
    "print('사용한 특성의 수: ', np.sum(elastic00001.coef_ != 0))\n",
    "# 과적합 심해짐. 규제가 약해짐"
   ]
  },
  {
   "cell_type": "markdown",
   "id": "ecbf2b42",
   "metadata": {},
   "source": [
    "## (4) 알파값을 1로 고정한 상태에서 데이터의 크기 조절"
   ]
  },
  {
   "cell_type": "code",
   "execution_count": 54,
   "id": "9ee9b9a4",
   "metadata": {},
   "outputs": [
    {
     "data": {
      "image/png": "[encoded data removed]",
      "text/plain": [
       "<Figure size 640x480 with 1 Axes>"
      ]
     },
     "metadata": {},
     "output_type": "display_data"
    }
   ],
   "source": [
    "mglearn.plots.plot_ridge_n_samples() # y축: 성능\n",
    "# linear는 데이터 수가 적으면 학습조차되지않음\n",
    "# ridge는 데이터 수에 민감하지 않다.\n",
    "# 결국 데이터가 많아지면 결과는 비슷해짐"
   ]
  },
  {
   "cell_type": "markdown",
   "id": "41504129",
   "metadata": {},
   "source": [
    "# 3. 캘리포니아 주택 가격"
   ]
  },
  {
   "cell_type": "markdown",
   "id": "955d08d6",
   "metadata": {},
   "source": [
    "## (1) Data Definition & EDA"
   ]
  },
  {
   "cell_type": "code",
   "execution_count": 55,
   "id": "8275736b",
   "metadata": {},
   "outputs": [],
   "source": [
    "from sklearn.datasets import fetch_california_housing"
   ]
  },
  {
   "cell_type": "code",
   "execution_count": 265,
   "id": "49ba40a9",
   "metadata": {},
   "outputs": [
    {
     "name": "stdout",
     "output_type": "stream",
     "text": [
      "dict_keys(['data', 'target', 'frame', 'target_names', 'feature_names', 'DESCR'])\n",
      ".. _california_housing_dataset:\n",
      "\n",
      "California Housing dataset\n",
      "--------------------------\n",
      "\n",
      "**Data Set Characteristics:**\n",
      "\n",
      "    :Number of Instances: 20640\n",
      "\n",
      "    :Number of Attributes: 8 numeric, predictive attributes and the target\n",
      "\n",
      "    :Attribute Information:\n",
      "        - MedInc        median income in block group\n",
      "        - HouseAge      median house age in block group\n",
      "        - AveRooms      average number of rooms per household\n",
      "        - AveBedrms     average number of bedrooms per household\n",
      "        - Population    block group population\n",
      "        - AveOccup      average number of household members\n",
      "        - Latitude      block group latitude\n",
      "        - Longitude     block group longitude\n",
      "\n",
      "    :Missing Attribute Values: None\n",
      "\n",
      "This dataset was obtained from the StatLib repository.\n",
      "https://www.dcc.fc.up.pt/~ltorgo/Regression/cal_housing.html\n",
      "\n",
      "The target variable is the median house value for California districts,\n",
      "expressed in hundreds of thousands of dollars ($100,000).\n",
      "\n",
      "This dataset was derived from the 1990 U.S. census, using one row per census\n",
      "block group. A block group is the smallest geographical unit for which the U.S.\n",
      "Census Bureau publishes sample data (a block group typically has a population\n",
      "of 600 to 3,000 people).\n",
      "\n",
      "An household is a group of people residing within a home. Since the average\n",
      "number of rooms and bedrooms in this dataset are provided per household, these\n",
      "columns may take surpinsingly large values for block groups with few households\n",
      "and many empty houses, such as vacation resorts.\n",
      "\n",
      "It can be downloaded/loaded using the\n",
      ":func:`sklearn.datasets.fetch_california_housing` function.\n",
      "\n",
      ".. topic:: References\n",
      "\n",
      "    - Pace, R. Kelley and Ronald Barry, Sparse Spatial Autoregressions,\n",
      "      Statistics and Probability Letters, 33 (1997) 291-297\n",
      "\n"
     ]
    }
   ],
   "source": [
    "california= fetch_california_housing()\n",
    "print(california.keys())\n",
    "print(california.DESCR)"
   ]
  },
  {
   "cell_type": "code",
   "execution_count": 266,
   "id": "c0f77c1f",
   "metadata": {},
   "outputs": [
    {
     "data": {
      "text/html": [
       "<div>\n",
       "<style scoped>\n",
       "    .dataframe tbody tr th:only-of-type {\n",
       "        vertical-align: middle;\n",
       "    }\n",
       "\n",
       "    .dataframe tbody tr th {\n",
       "        vertical-align: top;\n",
       "    }\n",
       "\n",
       "    .dataframe thead th {\n",
       "        text-align: right;\n",
       "    }\n",
       "</style>\n",
       "<table border=\"1\" class=\"dataframe\">\n",
       "  <thead>\n",
       "    <tr style=\"text-align: right;\">\n",
       "      <th></th>\n",
       "      <th>MedInc</th>\n",
       "      <th>HouseAge</th>\n",
       "      <th>AveRooms</th>\n",
       "      <th>AveBedrms</th>\n",
       "      <th>Population</th>\n",
       "      <th>AveOccup</th>\n",
       "      <th>Latitude</th>\n",
       "      <th>Longitude</th>\n",
       "      <th>Target</th>\n",
       "    </tr>\n",
       "  </thead>\n",
       "  <tbody>\n",
       "    <tr>\n",
       "      <th>0</th>\n",
       "      <td>8.3252</td>\n",
       "      <td>41.0</td>\n",
       "      <td>6.984127</td>\n",
       "      <td>1.023810</td>\n",
       "      <td>322.0</td>\n",
       "      <td>2.555556</td>\n",
       "      <td>37.88</td>\n",
       "      <td>-122.23</td>\n",
       "      <td>4.526</td>\n",
       "    </tr>\n",
       "    <tr>\n",
       "      <th>1</th>\n",
       "      <td>8.3014</td>\n",
       "      <td>21.0</td>\n",
       "      <td>6.238137</td>\n",
       "      <td>0.971880</td>\n",
       "      <td>2401.0</td>\n",
       "      <td>2.109842</td>\n",
       "      <td>37.86</td>\n",
       "      <td>-122.22</td>\n",
       "      <td>3.585</td>\n",
       "    </tr>\n",
       "    <tr>\n",
       "      <th>2</th>\n",
       "      <td>7.2574</td>\n",
       "      <td>52.0</td>\n",
       "      <td>8.288136</td>\n",
       "      <td>1.073446</td>\n",
       "      <td>496.0</td>\n",
       "      <td>2.802260</td>\n",
       "      <td>37.85</td>\n",
       "      <td>-122.24</td>\n",
       "      <td>3.521</td>\n",
       "    </tr>\n",
       "    <tr>\n",
       "      <th>3</th>\n",
       "      <td>5.6431</td>\n",
       "      <td>52.0</td>\n",
       "      <td>5.817352</td>\n",
       "      <td>1.073059</td>\n",
       "      <td>558.0</td>\n",
       "      <td>2.547945</td>\n",
       "      <td>37.85</td>\n",
       "      <td>-122.25</td>\n",
       "      <td>3.413</td>\n",
       "    </tr>\n",
       "    <tr>\n",
       "      <th>4</th>\n",
       "      <td>3.8462</td>\n",
       "      <td>52.0</td>\n",
       "      <td>6.281853</td>\n",
       "      <td>1.081081</td>\n",
       "      <td>565.0</td>\n",
       "      <td>2.181467</td>\n",
       "      <td>37.85</td>\n",
       "      <td>-122.25</td>\n",
       "      <td>3.422</td>\n",
       "    </tr>\n",
       "  </tbody>\n",
       "</table>\n",
       "</div>"
      ],
      "text/plain": [
       "   MedInc  HouseAge  AveRooms  AveBedrms  Population  AveOccup  Latitude  \\\n",
       "0  8.3252      41.0  6.984127   1.023810       322.0  2.555556     37.88   \n",
       "1  8.3014      21.0  6.238137   0.971880      2401.0  2.109842     37.86   \n",
       "2  7.2574      52.0  8.288136   1.073446       496.0  2.802260     37.85   \n",
       "3  5.6431      52.0  5.817352   1.073059       558.0  2.547945     37.85   \n",
       "4  3.8462      52.0  6.281853   1.081081       565.0  2.181467     37.85   \n",
       "\n",
       "   Longitude  Target  \n",
       "0    -122.23   4.526  \n",
       "1    -122.22   3.585  \n",
       "2    -122.24   3.521  \n",
       "3    -122.25   3.413  \n",
       "4    -122.25   3.422  "
      ]
     },
     "execution_count": 266,
     "metadata": {},
     "output_type": "execute_result"
    }
   ],
   "source": [
    "california_df= pd.DataFrame(california.data, columns=california.feature_names)\n",
    "california_df['Target']= california.target\n",
    "california_df.head()"
   ]
  },
  {
   "cell_type": "code",
   "execution_count": 267,
   "id": "fc6f2e48",
   "metadata": {},
   "outputs": [
    {
     "data": {
      "text/html": [
       "<div>\n",
       "<style scoped>\n",
       "    .dataframe tbody tr th:only-of-type {\n",
       "        vertical-align: middle;\n",
       "    }\n",
       "\n",
       "    .dataframe tbody tr th {\n",
       "        vertical-align: top;\n",
       "    }\n",
       "\n",
       "    .dataframe thead th {\n",
       "        text-align: right;\n",
       "    }\n",
       "</style>\n",
       "<table border=\"1\" class=\"dataframe\">\n",
       "  <thead>\n",
       "    <tr style=\"text-align: right;\">\n",
       "      <th></th>\n",
       "      <th>MedInc</th>\n",
       "      <th>HouseAge</th>\n",
       "      <th>AveRooms</th>\n",
       "      <th>AveBedrms</th>\n",
       "      <th>Population</th>\n",
       "      <th>AveOccup</th>\n",
       "      <th>Latitude</th>\n",
       "      <th>Longitude</th>\n",
       "      <th>Target</th>\n",
       "    </tr>\n",
       "  </thead>\n",
       "  <tbody>\n",
       "    <tr>\n",
       "      <th>count</th>\n",
       "      <td>20640.000000</td>\n",
       "      <td>20640.000000</td>\n",
       "      <td>20640.000000</td>\n",
       "      <td>20640.000000</td>\n",
       "      <td>20640.000000</td>\n",
       "      <td>20640.000000</td>\n",
       "      <td>20640.000000</td>\n",
       "      <td>20640.000000</td>\n",
       "      <td>20640.000000</td>\n",
       "    </tr>\n",
       "    <tr>\n",
       "      <th>mean</th>\n",
       "      <td>3.870671</td>\n",
       "      <td>28.639486</td>\n",
       "      <td>5.429000</td>\n",
       "      <td>1.096675</td>\n",
       "      <td>1425.476744</td>\n",
       "      <td>3.070655</td>\n",
       "      <td>35.631861</td>\n",
       "      <td>-119.569704</td>\n",
       "      <td>2.068558</td>\n",
       "    </tr>\n",
       "    <tr>\n",
       "      <th>std</th>\n",
       "      <td>1.899822</td>\n",
       "      <td>12.585558</td>\n",
       "      <td>2.474173</td>\n",
       "      <td>0.473911</td>\n",
       "      <td>1132.462122</td>\n",
       "      <td>10.386050</td>\n",
       "      <td>2.135952</td>\n",
       "      <td>2.003532</td>\n",
       "      <td>1.153956</td>\n",
       "    </tr>\n",
       "    <tr>\n",
       "      <th>min</th>\n",
       "      <td>0.499900</td>\n",
       "      <td>1.000000</td>\n",
       "      <td>0.846154</td>\n",
       "      <td>0.333333</td>\n",
       "      <td>3.000000</td>\n",
       "      <td>0.692308</td>\n",
       "      <td>32.540000</td>\n",
       "      <td>-124.350000</td>\n",
       "      <td>0.149990</td>\n",
       "    </tr>\n",
       "    <tr>\n",
       "      <th>25%</th>\n",
       "      <td>2.563400</td>\n",
       "      <td>18.000000</td>\n",
       "      <td>4.440716</td>\n",
       "      <td>1.006079</td>\n",
       "      <td>787.000000</td>\n",
       "      <td>2.429741</td>\n",
       "      <td>33.930000</td>\n",
       "      <td>-121.800000</td>\n",
       "      <td>1.196000</td>\n",
       "    </tr>\n",
       "    <tr>\n",
       "      <th>50%</th>\n",
       "      <td>3.534800</td>\n",
       "      <td>29.000000</td>\n",
       "      <td>5.229129</td>\n",
       "      <td>1.048780</td>\n",
       "      <td>1166.000000</td>\n",
       "      <td>2.818116</td>\n",
       "      <td>34.260000</td>\n",
       "      <td>-118.490000</td>\n",
       "      <td>1.797000</td>\n",
       "    </tr>\n",
       "    <tr>\n",
       "      <th>75%</th>\n",
       "      <td>4.743250</td>\n",
       "      <td>37.000000</td>\n",
       "      <td>6.052381</td>\n",
       "      <td>1.099526</td>\n",
       "      <td>1725.000000</td>\n",
       "      <td>3.282261</td>\n",
       "      <td>37.710000</td>\n",
       "      <td>-118.010000</td>\n",
       "      <td>2.647250</td>\n",
       "    </tr>\n",
       "    <tr>\n",
       "      <th>max</th>\n",
       "      <td>15.000100</td>\n",
       "      <td>52.000000</td>\n",
       "      <td>141.909091</td>\n",
       "      <td>34.066667</td>\n",
       "      <td>35682.000000</td>\n",
       "      <td>1243.333333</td>\n",
       "      <td>41.950000</td>\n",
       "      <td>-114.310000</td>\n",
       "      <td>5.000010</td>\n",
       "    </tr>\n",
       "  </tbody>\n",
       "</table>\n",
       "</div>"
      ],
      "text/plain": [
       "             MedInc      HouseAge      AveRooms     AveBedrms    Population  \\\n",
       "count  20640.000000  20640.000000  20640.000000  20640.000000  20640.000000   \n",
       "mean       3.870671     28.639486      5.429000      1.096675   1425.476744   \n",
       "std        1.899822     12.585558      2.474173      0.473911   1132.462122   \n",
       "min        0.499900      1.000000      0.846154      0.333333      3.000000   \n",
       "25%        2.563400     18.000000      4.440716      1.006079    787.000000   \n",
       "50%        3.534800     29.000000      5.229129      1.048780   1166.000000   \n",
       "75%        4.743250     37.000000      6.052381      1.099526   1725.000000   \n",
       "max       15.000100     52.000000    141.909091     34.066667  35682.000000   \n",
       "\n",
       "           AveOccup      Latitude     Longitude        Target  \n",
       "count  20640.000000  20640.000000  20640.000000  20640.000000  \n",
       "mean       3.070655     35.631861   -119.569704      2.068558  \n",
       "std       10.386050      2.135952      2.003532      1.153956  \n",
       "min        0.692308     32.540000   -124.350000      0.149990  \n",
       "25%        2.429741     33.930000   -121.800000      1.196000  \n",
       "50%        2.818116     34.260000   -118.490000      1.797000  \n",
       "75%        3.282261     37.710000   -118.010000      2.647250  \n",
       "max     1243.333333     41.950000   -114.310000      5.000010  "
      ]
     },
     "execution_count": 267,
     "metadata": {},
     "output_type": "execute_result"
    }
   ],
   "source": [
    "california_df.describe()"
   ]
  },
  {
   "cell_type": "code",
   "execution_count": 268,
   "id": "3ad00636",
   "metadata": {
    "scrolled": true
   },
   "outputs": [
    {
     "data": {
      "text/plain": [
       "<AxesSubplot:xlabel='Longitude', ylabel='Latitude'>"
      ]
     },
     "execution_count": 268,
     "metadata": {},
     "output_type": "execute_result"
    },
    {
     "data": {
      "image/png": "[encoded data removed]",
      "text/plain": [
       "<Figure size 1500x1000 with 2 Axes>"
      ]
     },
     "metadata": {},
     "output_type": "display_data"
    }
   ],
   "source": [
    "california_df.plot(kind='scatter', x='Longitude', y='Latitude', alpha=0.2, c='Target', cmap=plt.get_cmap('viridis'),\n",
    "                  figsize=(15,10), s= california_df['Population']/100, label='Population')"
   ]
  },
  {
   "cell_type": "markdown",
   "id": "b45a1a7f",
   "metadata": {},
   "source": [
    "## (2) 선형회귀\n",
    "scikit\n",
    "- fit(), score(), predict()"
   ]
  },
  {
   "cell_type": "code",
   "execution_count": 269,
   "id": "4aa50a6a",
   "metadata": {},
   "outputs": [],
   "source": [
    "X_train, X_test, y_train, y_test= train_test_split(california.data, california.target, random_state=42)"
   ]
  },
  {
   "cell_type": "code",
   "execution_count": 270,
   "id": "0b0499b5",
   "metadata": {
    "scrolled": true
   },
   "outputs": [
    {
     "name": "stdout",
     "output_type": "stream",
     "text": [
      "훈련 점수: 0.609873031052925\n",
      "테스트 점수: 0.5910509795491352\n"
     ]
    }
   ],
   "source": [
    "model= LinearRegression().fit(X_train, y_train) # alpha=1.0, l1_ratio=0.5\n",
    "\n",
    "print('훈련 점수:', model.score(X_train, y_train))\n",
    "print('테스트 점수:', model.score(X_test, y_test))"
   ]
  },
  {
   "cell_type": "code",
   "execution_count": 271,
   "id": "98d1dc97",
   "metadata": {},
   "outputs": [],
   "source": [
    "# 데이터가 편향적인지 확인\n",
    "scores= cross_val_score(model, california.data, california.target, cv=10, scoring='neg_mean_squared_error')"
   ]
  },
  {
   "cell_type": "code",
   "execution_count": 272,
   "id": "9c0eb146",
   "metadata": {},
   "outputs": [
    {
     "name": "stdout",
     "output_type": "stream",
     "text": [
      "-0.5509524296956643\n"
     ]
    }
   ],
   "source": [
    "print(scores.mean()) # 큰 차이 없으므로 골고루 분포해있음"
   ]
  },
  {
   "cell_type": "code",
   "execution_count": 273,
   "id": "45481d5a",
   "metadata": {},
   "outputs": [],
   "source": [
    "r2_scores= cross_val_score(model, california.data, california.target, cv=10, scoring='r2')"
   ]
  },
  {
   "cell_type": "code",
   "execution_count": 274,
   "id": "a54e0011",
   "metadata": {},
   "outputs": [
    {
     "name": "stdout",
     "output_type": "stream",
     "text": [
      "0.5110068610523769\n"
     ]
    }
   ],
   "source": [
    "print(r2_scores.mean())"
   ]
  },
  {
   "cell_type": "code",
   "execution_count": 275,
   "id": "cb8d81d3",
   "metadata": {},
   "outputs": [],
   "source": [
    "from sklearn.metrics import mean_squared_error, r2_score"
   ]
  },
  {
   "cell_type": "code",
   "execution_count": 276,
   "id": "a03cc43e",
   "metadata": {},
   "outputs": [
    {
     "name": "stdout",
     "output_type": "stream",
     "text": [
      "RMSE: 0.7214930466501482\n",
      "R2: 0.609873031052925\n"
     ]
    }
   ],
   "source": [
    "y_train_predict= model.predict(X_train)\n",
    "\n",
    "rmse= np.sqrt(mean_squared_error(y_train, y_train_predict))\n",
    "r2= r2_score(y_train, y_train_predict)\n",
    "\n",
    "print('RMSE:', rmse)\n",
    "print('R2:', r2)\n",
    "# 회귀는 평가지표에따라 결과 다름\n",
    "# 분류는 정확도만 보면됨"
   ]
  },
  {
   "cell_type": "code",
   "execution_count": 277,
   "id": "ba523795",
   "metadata": {},
   "outputs": [
    {
     "name": "stdout",
     "output_type": "stream",
     "text": [
      "[2.35870897 3.14117532 2.2227708  3.17998867 0.85244297 2.10097132\n",
      " 2.32663483 0.61851715 4.1970875  1.30793711]\n",
      "[2.285   2.799   1.83    4.658   1.5     2.509   5.00001 1.208   5.00001\n",
      " 0.993  ]\n"
     ]
    }
   ],
   "source": [
    "print(y_train_predict[:10])\n",
    "print(y_train[:10])"
   ]
  },
  {
   "cell_type": "code",
   "execution_count": 278,
   "id": "aebcaf32",
   "metadata": {},
   "outputs": [
    {
     "name": "stdout",
     "output_type": "stream",
     "text": [
      "RMSE: 0.7356145375446768\n",
      "R2: 0.5910509795491352\n"
     ]
    }
   ],
   "source": [
    "y_test_predict= model.predict(X_test)\n",
    "\n",
    "rmse= np.sqrt(mean_squared_error(y_test, y_test_predict))\n",
    "r2= r2_score(y_test, y_test_predict)\n",
    "\n",
    "print('RMSE:', rmse)\n",
    "print('R2:', r2)"
   ]
  },
  {
   "cell_type": "markdown",
   "id": "eaa3a7de",
   "metadata": {},
   "source": [
    "## (3) 통계적 분석"
   ]
  },
  {
   "cell_type": "code",
   "execution_count": 279,
   "id": "29e71698",
   "metadata": {},
   "outputs": [],
   "source": [
    "import statsmodels.formula.api as sm"
   ]
  },
  {
   "cell_type": "code",
   "execution_count": 280,
   "id": "12c6da01",
   "metadata": {
    "scrolled": true
   },
   "outputs": [
    {
     "name": "stdout",
     "output_type": "stream",
     "text": [
      "                            OLS Regression Results                            \n",
      "==============================================================================\n",
      "Dep. Variable:                 Target   R-squared:                       0.606\n",
      "Model:                            OLS   Adj. R-squared:                  0.606\n",
      "Method:                 Least Squares   F-statistic:                     3970.\n",
      "Date:                Tue, 09 May 2023   Prob (F-statistic):               0.00\n",
      "Time:                        18:15:58   Log-Likelihood:                -22624.\n",
      "No. Observations:               20640   AIC:                         4.527e+04\n",
      "Df Residuals:                   20631   BIC:                         4.534e+04\n",
      "Df Model:                           8                                         \n",
      "Covariance Type:            nonrobust                                         \n",
      "==============================================================================\n",
      "                 coef    std err          t      P>|t|      [0.025      0.975]\n",
      "------------------------------------------------------------------------------\n",
      "Intercept    -36.9419      0.659    -56.067      0.000     -38.233     -35.650\n",
      "MedInc         0.4367      0.004    104.054      0.000       0.428       0.445\n",
      "HouseAge       0.0094      0.000     21.143      0.000       0.009       0.010\n",
      "AveRooms      -0.1073      0.006    -18.235      0.000      -0.119      -0.096\n",
      "AveBedrms      0.6451      0.028     22.928      0.000       0.590       0.700\n",
      "Population -3.976e-06   4.75e-06     -0.837      0.402   -1.33e-05    5.33e-06\n",
      "AveOccup      -0.0038      0.000     -7.769      0.000      -0.005      -0.003\n",
      "Latitude      -0.4213      0.007    -58.541      0.000      -0.435      -0.407\n",
      "Longitude     -0.4345      0.008    -57.682      0.000      -0.449      -0.420\n",
      "==============================================================================\n",
      "Omnibus:                     4393.650   Durbin-Watson:                   0.885\n",
      "Prob(Omnibus):                  0.000   Jarque-Bera (JB):            14087.596\n",
      "Skew:                           1.082   Prob(JB):                         0.00\n",
      "Kurtosis:                       6.420   Cond. No.                     2.38e+05\n",
      "==============================================================================\n",
      "\n",
      "Notes:\n",
      "[1] Standard Errors assume that the covariance matrix of the errors is correctly specified.\n",
      "[2] The condition number is large, 2.38e+05. This might indicate that there are\n",
      "strong multicollinearity or other numerical problems.\n"
     ]
    }
   ],
   "source": [
    "result= sm.ols(formula='Target ~ MedInc +  HouseAge  + AveRooms  + AveBedrms +  Population +  AveOccup + Latitude +  Longitude', \n",
    "      data= california_df).fit()\n",
    "\n",
    "print(result.summary())"
   ]
  },
  {
   "cell_type": "code",
   "execution_count": 101,
   "id": "d827a4bb",
   "metadata": {},
   "outputs": [
    {
     "data": {
      "text/plain": [
       "Index(['MedInc', 'HouseAge', 'AveRooms', 'AveBedrms', 'Population', 'AveOccup',\n",
       "       'Latitude', 'Longitude', 'Target'],\n",
       "      dtype='object')"
      ]
     },
     "execution_count": 101,
     "metadata": {},
     "output_type": "execute_result"
    }
   ],
   "source": [
    "california_df.columns"
   ]
  },
  {
   "cell_type": "markdown",
   "id": "a77c9f20",
   "metadata": {},
   "source": [
    "## (4) Tuning"
   ]
  },
  {
   "cell_type": "markdown",
   "id": "29f3b1b7",
   "metadata": {},
   "source": [
    "### 1) Ridge"
   ]
  },
  {
   "cell_type": "code",
   "execution_count": 281,
   "id": "fbcab810",
   "metadata": {},
   "outputs": [
    {
     "data": {
      "text/plain": [
       "GridSearchCV(cv=10, estimator=Ridge(),\n",
       "             param_grid={'alpha': [1e-05, 0.0001, 0.001, 0.01, 0.1, 0.5, 1.0,\n",
       "                                   5.0, 10.0]})"
      ]
     },
     "execution_count": 281,
     "metadata": {},
     "output_type": "execute_result"
    }
   ],
   "source": [
    "param_grid= {'alpha':[1e-5, 1e-4, 1e-3, 1e-2, 0.1, 0.5, 1.0, 5.0, 10.0]}\n",
    "ridge_grid= GridSearchCV(Ridge(), param_grid, cv=10)\n",
    "ridge_grid.fit(X_train, y_train)"
   ]
  },
  {
   "cell_type": "code",
   "execution_count": 282,
   "id": "471c25f9",
   "metadata": {},
   "outputs": [
    {
     "name": "stdout",
     "output_type": "stream",
     "text": [
      "RMSE: 0.7214930466501481\n",
      "R2: 0.609873031052925\n"
     ]
    }
   ],
   "source": [
    "y_train_predict= ridge_grid.predict(X_train)\n",
    "\n",
    "rmse= np.sqrt(mean_squared_error(y_train, y_train_predict))\n",
    "r2= r2_score(y_train, y_train_predict)\n",
    "\n",
    "print('RMSE:', rmse)\n",
    "print('R2:', r2)"
   ]
  },
  {
   "cell_type": "code",
   "execution_count": 283,
   "id": "8fb0043c",
   "metadata": {},
   "outputs": [
    {
     "name": "stdout",
     "output_type": "stream",
     "text": [
      "RMSE: 0.7356145369857222\n",
      "R2: 0.5910509801706127\n"
     ]
    }
   ],
   "source": [
    "y_test_predict= ridge_grid.predict(X_test)\n",
    "\n",
    "rmse= np.sqrt(mean_squared_error(y_test, y_test_predict))\n",
    "r2= r2_score(y_test, y_test_predict)\n",
    "98\n",
    "print('RMSE:', rmse)\n",
    "print('R2:', r2)"
   ]
  },
  {
   "cell_type": "markdown",
   "id": "79b0b6fb",
   "metadata": {},
   "source": [
    "### 2) Lasso"
   ]
  },
  {
   "cell_type": "code",
   "execution_count": 287,
   "id": "c1be0a5e",
   "metadata": {},
   "outputs": [
    {
     "data": {
      "text/plain": [
       "GridSearchCV(cv=10, estimator=Lasso(),\n",
       "             param_grid={'alpha': [1e-05, 0.0001, 0.001, 0.01, 0.1, 0.5, 1.0,\n",
       "                                   5.0, 10.0]})"
      ]
     },
     "execution_count": 287,
     "metadata": {},
     "output_type": "execute_result"
    }
   ],
   "source": [
    "param_grid= {'alpha':[1e-5, 1e-4, 1e-3, 1e-2, 0.1, 0.5, 1.0, 5.0, 10.0]}\n",
    "lasso_grid= GridSearchCV(Lasso(), param_grid, cv=10)\n",
    "lasso_grid.fit(X_train, y_train)"
   ]
  },
  {
   "cell_type": "code",
   "execution_count": 288,
   "id": "abb30bc1",
   "metadata": {},
   "outputs": [
    {
     "name": "stdout",
     "output_type": "stream",
     "text": [
      "RMSE: 0.7214934395590878\n",
      "R2: 0.6098726061440054\n"
     ]
    }
   ],
   "source": [
    "y_train_predict= lasso_grid.predict(X_train)\n",
    "\n",
    "rmse= np.sqrt(mean_squared_error(y_train, y_train_predict))\n",
    "r2= r2_score(y_train, y_train_predict)\n",
    "\n",
    "print('RMSE:', rmse)\n",
    "print('R2:', r2)"
   ]
  },
  {
   "cell_type": "code",
   "execution_count": 289,
   "id": "6a8054a4",
   "metadata": {},
   "outputs": [
    {
     "name": "stdout",
     "output_type": "stream",
     "text": [
      "RMSE: 0.7354935898449678\n",
      "R2: 0.5911854450188643\n"
     ]
    }
   ],
   "source": [
    "y_test_predict= lasso_grid.predict(X_test)\n",
    "\n",
    "rmse= np.sqrt(mean_squared_error(y_test, y_test_predict))\n",
    "r2= r2_score(y_test, y_test_predict)\n",
    "98\n",
    "print('RMSE:', rmse)\n",
    "print('R2:', r2)"
   ]
  },
  {
   "cell_type": "markdown",
   "id": "8c6d44d4",
   "metadata": {},
   "source": [
    "### 3) ElasticNet"
   ]
  },
  {
   "cell_type": "code",
   "execution_count": 290,
   "id": "67dd5d76",
   "metadata": {},
   "outputs": [
    {
     "data": {
      "text/plain": [
       "GridSearchCV(cv=10, estimator=ElasticNet(),\n",
       "             param_grid={'alpha': [1e-05, 0.0001, 0.001, 0.01, 0.1, 0.5, 1.0,\n",
       "                                   5.0, 10.0]})"
      ]
     },
     "execution_count": 290,
     "metadata": {},
     "output_type": "execute_result"
    }
   ],
   "source": [
    "param_grid= {'alpha':[1e-5, 1e-4, 1e-3, 1e-2, 0.1, 0.5, 1.0, 5.0, 10.0]}\n",
    "ela_grid= GridSearchCV(ElasticNet(), param_grid, cv=10)\n",
    "ela_grid.fit(X_train, y_train)"
   ]
  },
  {
   "cell_type": "code",
   "execution_count": 291,
   "id": "4d10a46c",
   "metadata": {},
   "outputs": [
    {
     "name": "stdout",
     "output_type": "stream",
     "text": [
      "RMSE: 0.7214930493667291\n",
      "R2: 0.6098730281150962\n"
     ]
    }
   ],
   "source": [
    "y_train_predict= ela_grid.predict(X_train)\n",
    "\n",
    "rmse= np.sqrt(mean_squared_error(y_train, y_train_predict))\n",
    "r2= r2_score(y_train, y_train_predict)\n",
    "\n",
    "print('RMSE:', rmse)\n",
    "print('R2:', r2)"
   ]
  },
  {
   "cell_type": "code",
   "execution_count": 292,
   "id": "c8c8aa7f",
   "metadata": {},
   "outputs": [
    {
     "name": "stdout",
     "output_type": "stream",
     "text": [
      "RMSE: 0.7356041405499447\n",
      "R2: 0.591062539436949\n"
     ]
    }
   ],
   "source": [
    "y_test_predict= ela_grid.predict(X_test)\n",
    "\n",
    "rmse= np.sqrt(mean_squared_error(y_test, y_test_predict))\n",
    "r2= r2_score(y_test, y_test_predict)\n",
    "98\n",
    "print('RMSE:', rmse)\n",
    "print('R2:', r2)"
   ]
  },
  {
   "cell_type": "markdown",
   "id": "5b8e05ea",
   "metadata": {},
   "source": [
    "## (5) Service Launching"
   ]
  },
  {
   "cell_type": "code",
   "execution_count": 111,
   "id": "fddfa5fa",
   "metadata": {},
   "outputs": [
    {
     "name": "stdout",
     "output_type": "stream",
     "text": [
      "주택가격은 [4.58350683]입니다\n"
     ]
    }
   ],
   "source": [
    "mydata = [[9.3252, 41.0, 6.984127, 1.013810, 322.0, 2.555556, 37.88, -122.23]]\n",
    "print('주택가격은 {}입니다'.format(model.predict(mydata)))"
   ]
  },
  {
   "cell_type": "markdown",
   "id": "8c9eb31c",
   "metadata": {},
   "source": [
    "# 4. 맨하탄 주택 가격\n",
    "- 변수들의 관계를 시각화\n",
    "- 설명 계수(훈련 결과와 테스트 결과를 비교)\n",
    "- 필요할 경우 릿지, 라소, 엘라스틱넷 사용\n",
    "- 임대료 계산"
   ]
  },
  {
   "cell_type": "code",
   "execution_count": 112,
   "id": "3ee82886",
   "metadata": {},
   "outputs": [],
   "source": [
    "\"\"\"\n",
    "rental_id rental ID\n",
    "rent 임대료 ($)\n",
    "bedrooms 침실수\n",
    "bathrooms 화장실수\n",
    "size_sqft 평수(feet)\n",
    "min_to_subway 지하철과의 거리 (minutes)\n",
    "floor 층수\n",
    "building_age_yrs 건물 연령\n",
    "no_fee 중계수수료 (0 for fee, 1 for no fee)\n",
    "has_roofdeck 옥상 (o for no, 1 for yes)\n",
    "has_washer_dryer 세탁기/건조기 (0/1)\n",
    "has_doorman 도어맨 (0/1)\n",
    "has_elevator 엘리베이터 (0/1)\n",
    "has_dishwasher 식기세척기 (0/1)\n",
    "has_patio 안마당(patio) (0/1)\n",
    "has_gym 헬스장(gym) (0/1)\n",
    "neighborhood 이웃 (ex: 한인타운)\n",
    "submarket submarket (ex: North Brooklyn)\n",
    "borough borough (ex: Brooklyn)\n",
    "\"\"\""
   ]
  },
  {
   "cell_type": "code",
   "execution_count": null,
   "id": "88930651",
   "metadata": {},
   "outputs": [],
   "source": [
    "man= pd.read_csv('data/manhattan.csv')"
   ]
  },
  {
   "cell_type": "code",
   "execution_count": 219,
   "id": "02bc2215",
   "metadata": {},
   "outputs": [
    {
     "data": {
      "text/html": [
       "<div>\n",
       "<style scoped>\n",
       "    .dataframe tbody tr th:only-of-type {\n",
       "        vertical-align: middle;\n",
       "    }\n",
       "\n",
       "    .dataframe tbody tr th {\n",
       "        vertical-align: top;\n",
       "    }\n",
       "\n",
       "    .dataframe thead th {\n",
       "        text-align: right;\n",
       "    }\n",
       "</style>\n",
       "<table border=\"1\" class=\"dataframe\">\n",
       "  <thead>\n",
       "    <tr style=\"text-align: right;\">\n",
       "      <th></th>\n",
       "      <th>rental_id</th>\n",
       "      <th>rent</th>\n",
       "      <th>bedrooms</th>\n",
       "      <th>bathrooms</th>\n",
       "      <th>size_sqft</th>\n",
       "      <th>min_to_subway</th>\n",
       "      <th>floor</th>\n",
       "      <th>building_age_yrs</th>\n",
       "      <th>no_fee</th>\n",
       "      <th>has_roofdeck</th>\n",
       "      <th>has_washer_dryer</th>\n",
       "      <th>has_doorman</th>\n",
       "      <th>has_elevator</th>\n",
       "      <th>has_dishwasher</th>\n",
       "      <th>has_patio</th>\n",
       "      <th>has_gym</th>\n",
       "      <th>neighborhood</th>\n",
       "      <th>borough</th>\n",
       "    </tr>\n",
       "  </thead>\n",
       "  <tbody>\n",
       "    <tr>\n",
       "      <th>0</th>\n",
       "      <td>1545</td>\n",
       "      <td>2550</td>\n",
       "      <td>0.0</td>\n",
       "      <td>1</td>\n",
       "      <td>480</td>\n",
       "      <td>9</td>\n",
       "      <td>2.0</td>\n",
       "      <td>17</td>\n",
       "      <td>1</td>\n",
       "      <td>1</td>\n",
       "      <td>0</td>\n",
       "      <td>0</td>\n",
       "      <td>1</td>\n",
       "      <td>1</td>\n",
       "      <td>0</td>\n",
       "      <td>1</td>\n",
       "      <td>Upper East Side</td>\n",
       "      <td>Manhattan</td>\n",
       "    </tr>\n",
       "    <tr>\n",
       "      <th>1</th>\n",
       "      <td>2472</td>\n",
       "      <td>11500</td>\n",
       "      <td>2.0</td>\n",
       "      <td>2</td>\n",
       "      <td>2000</td>\n",
       "      <td>4</td>\n",
       "      <td>1.0</td>\n",
       "      <td>96</td>\n",
       "      <td>0</td>\n",
       "      <td>0</td>\n",
       "      <td>0</td>\n",
       "      <td>0</td>\n",
       "      <td>0</td>\n",
       "      <td>0</td>\n",
       "      <td>0</td>\n",
       "      <td>0</td>\n",
       "      <td>Greenwich Village</td>\n",
       "      <td>Manhattan</td>\n",
       "    </tr>\n",
       "    <tr>\n",
       "      <th>2</th>\n",
       "      <td>2919</td>\n",
       "      <td>4500</td>\n",
       "      <td>1.0</td>\n",
       "      <td>1</td>\n",
       "      <td>916</td>\n",
       "      <td>2</td>\n",
       "      <td>51.0</td>\n",
       "      <td>29</td>\n",
       "      <td>0</td>\n",
       "      <td>1</td>\n",
       "      <td>0</td>\n",
       "      <td>1</td>\n",
       "      <td>1</td>\n",
       "      <td>1</td>\n",
       "      <td>0</td>\n",
       "      <td>0</td>\n",
       "      <td>Midtown</td>\n",
       "      <td>Manhattan</td>\n",
       "    </tr>\n",
       "    <tr>\n",
       "      <th>3</th>\n",
       "      <td>2790</td>\n",
       "      <td>4795</td>\n",
       "      <td>1.0</td>\n",
       "      <td>1</td>\n",
       "      <td>975</td>\n",
       "      <td>3</td>\n",
       "      <td>8.0</td>\n",
       "      <td>31</td>\n",
       "      <td>0</td>\n",
       "      <td>0</td>\n",
       "      <td>0</td>\n",
       "      <td>1</td>\n",
       "      <td>1</td>\n",
       "      <td>1</td>\n",
       "      <td>0</td>\n",
       "      <td>1</td>\n",
       "      <td>Greenwich Village</td>\n",
       "      <td>Manhattan</td>\n",
       "    </tr>\n",
       "    <tr>\n",
       "      <th>4</th>\n",
       "      <td>3946</td>\n",
       "      <td>17500</td>\n",
       "      <td>2.0</td>\n",
       "      <td>2</td>\n",
       "      <td>4800</td>\n",
       "      <td>3</td>\n",
       "      <td>4.0</td>\n",
       "      <td>136</td>\n",
       "      <td>0</td>\n",
       "      <td>0</td>\n",
       "      <td>0</td>\n",
       "      <td>1</td>\n",
       "      <td>1</td>\n",
       "      <td>1</td>\n",
       "      <td>0</td>\n",
       "      <td>1</td>\n",
       "      <td>Soho</td>\n",
       "      <td>Manhattan</td>\n",
       "    </tr>\n",
       "  </tbody>\n",
       "</table>\n",
       "</div>"
      ],
      "text/plain": [
       "   rental_id   rent  bedrooms  bathrooms  size_sqft  min_to_subway  floor  \\\n",
       "0       1545   2550       0.0          1        480              9    2.0   \n",
       "1       2472  11500       2.0          2       2000              4    1.0   \n",
       "2       2919   4500       1.0          1        916              2   51.0   \n",
       "3       2790   4795       1.0          1        975              3    8.0   \n",
       "4       3946  17500       2.0          2       4800              3    4.0   \n",
       "\n",
       "   building_age_yrs  no_fee  has_roofdeck  has_washer_dryer  has_doorman  \\\n",
       "0                17       1             1                 0            0   \n",
       "1                96       0             0                 0            0   \n",
       "2                29       0             1                 0            1   \n",
       "3                31       0             0                 0            1   \n",
       "4               136       0             0                 0            1   \n",
       "\n",
       "   has_elevator  has_dishwasher  has_patio  has_gym       neighborhood  \\\n",
       "0             1               1          0        1    Upper East Side   \n",
       "1             0               0          0        0  Greenwich Village   \n",
       "2             1               1          0        0            Midtown   \n",
       "3             1               1          0        1  Greenwich Village   \n",
       "4             1               1          0        1               Soho   \n",
       "\n",
       "     borough  \n",
       "0  Manhattan  \n",
       "1  Manhattan  \n",
       "2  Manhattan  \n",
       "3  Manhattan  \n",
       "4  Manhattan  "
      ]
     },
     "execution_count": 219,
     "metadata": {},
     "output_type": "execute_result"
    }
   ],
   "source": [
    "man.head()"
   ]
  },
  {
   "cell_type": "code",
   "execution_count": 293,
   "id": "236d20d5",
   "metadata": {},
   "outputs": [
    {
     "data": {
      "text/html": [
       "<div>\n",
       "<style scoped>\n",
       "    .dataframe tbody tr th:only-of-type {\n",
       "        vertical-align: middle;\n",
       "    }\n",
       "\n",
       "    .dataframe tbody tr th {\n",
       "        vertical-align: top;\n",
       "    }\n",
       "\n",
       "    .dataframe thead th {\n",
       "        text-align: right;\n",
       "    }\n",
       "</style>\n",
       "<table border=\"1\" class=\"dataframe\">\n",
       "  <thead>\n",
       "    <tr style=\"text-align: right;\">\n",
       "      <th></th>\n",
       "      <th>bedrooms</th>\n",
       "      <th>bathrooms</th>\n",
       "      <th>size_sqft</th>\n",
       "      <th>min_to_subway</th>\n",
       "      <th>floor</th>\n",
       "      <th>building_age_yrs</th>\n",
       "      <th>no_fee</th>\n",
       "      <th>has_roofdeck</th>\n",
       "      <th>has_washer_dryer</th>\n",
       "      <th>has_doorman</th>\n",
       "      <th>has_elevator</th>\n",
       "      <th>has_dishwasher</th>\n",
       "      <th>has_patio</th>\n",
       "      <th>has_gym</th>\n",
       "    </tr>\n",
       "  </thead>\n",
       "  <tbody>\n",
       "    <tr>\n",
       "      <th>0</th>\n",
       "      <td>0.0</td>\n",
       "      <td>1</td>\n",
       "      <td>480</td>\n",
       "      <td>9</td>\n",
       "      <td>2.0</td>\n",
       "      <td>17</td>\n",
       "      <td>1</td>\n",
       "      <td>1</td>\n",
       "      <td>0</td>\n",
       "      <td>0</td>\n",
       "      <td>1</td>\n",
       "      <td>1</td>\n",
       "      <td>0</td>\n",
       "      <td>1</td>\n",
       "    </tr>\n",
       "    <tr>\n",
       "      <th>1</th>\n",
       "      <td>2.0</td>\n",
       "      <td>2</td>\n",
       "      <td>2000</td>\n",
       "      <td>4</td>\n",
       "      <td>1.0</td>\n",
       "      <td>96</td>\n",
       "      <td>0</td>\n",
       "      <td>0</td>\n",
       "      <td>0</td>\n",
       "      <td>0</td>\n",
       "      <td>0</td>\n",
       "      <td>0</td>\n",
       "      <td>0</td>\n",
       "      <td>0</td>\n",
       "    </tr>\n",
       "    <tr>\n",
       "      <th>2</th>\n",
       "      <td>1.0</td>\n",
       "      <td>1</td>\n",
       "      <td>916</td>\n",
       "      <td>2</td>\n",
       "      <td>51.0</td>\n",
       "      <td>29</td>\n",
       "      <td>0</td>\n",
       "      <td>1</td>\n",
       "      <td>0</td>\n",
       "      <td>1</td>\n",
       "      <td>1</td>\n",
       "      <td>1</td>\n",
       "      <td>0</td>\n",
       "      <td>0</td>\n",
       "    </tr>\n",
       "    <tr>\n",
       "      <th>3</th>\n",
       "      <td>1.0</td>\n",
       "      <td>1</td>\n",
       "      <td>975</td>\n",
       "      <td>3</td>\n",
       "      <td>8.0</td>\n",
       "      <td>31</td>\n",
       "      <td>0</td>\n",
       "      <td>0</td>\n",
       "      <td>0</td>\n",
       "      <td>1</td>\n",
       "      <td>1</td>\n",
       "      <td>1</td>\n",
       "      <td>0</td>\n",
       "      <td>1</td>\n",
       "    </tr>\n",
       "    <tr>\n",
       "      <th>4</th>\n",
       "      <td>2.0</td>\n",
       "      <td>2</td>\n",
       "      <td>4800</td>\n",
       "      <td>3</td>\n",
       "      <td>4.0</td>\n",
       "      <td>136</td>\n",
       "      <td>0</td>\n",
       "      <td>0</td>\n",
       "      <td>0</td>\n",
       "      <td>1</td>\n",
       "      <td>1</td>\n",
       "      <td>1</td>\n",
       "      <td>0</td>\n",
       "      <td>1</td>\n",
       "    </tr>\n",
       "    <tr>\n",
       "      <th>...</th>\n",
       "      <td>...</td>\n",
       "      <td>...</td>\n",
       "      <td>...</td>\n",
       "      <td>...</td>\n",
       "      <td>...</td>\n",
       "      <td>...</td>\n",
       "      <td>...</td>\n",
       "      <td>...</td>\n",
       "      <td>...</td>\n",
       "      <td>...</td>\n",
       "      <td>...</td>\n",
       "      <td>...</td>\n",
       "      <td>...</td>\n",
       "      <td>...</td>\n",
       "    </tr>\n",
       "    <tr>\n",
       "      <th>3534</th>\n",
       "      <td>1.0</td>\n",
       "      <td>1</td>\n",
       "      <td>532</td>\n",
       "      <td>3</td>\n",
       "      <td>8.0</td>\n",
       "      <td>16</td>\n",
       "      <td>1</td>\n",
       "      <td>1</td>\n",
       "      <td>1</td>\n",
       "      <td>1</td>\n",
       "      <td>1</td>\n",
       "      <td>1</td>\n",
       "      <td>0</td>\n",
       "      <td>1</td>\n",
       "    </tr>\n",
       "    <tr>\n",
       "      <th>3535</th>\n",
       "      <td>2.0</td>\n",
       "      <td>2</td>\n",
       "      <td>988</td>\n",
       "      <td>5</td>\n",
       "      <td>10.0</td>\n",
       "      <td>9</td>\n",
       "      <td>1</td>\n",
       "      <td>1</td>\n",
       "      <td>1</td>\n",
       "      <td>1</td>\n",
       "      <td>1</td>\n",
       "      <td>1</td>\n",
       "      <td>0</td>\n",
       "      <td>1</td>\n",
       "    </tr>\n",
       "    <tr>\n",
       "      <th>3536</th>\n",
       "      <td>0.0</td>\n",
       "      <td>1</td>\n",
       "      <td>250</td>\n",
       "      <td>2</td>\n",
       "      <td>5.0</td>\n",
       "      <td>96</td>\n",
       "      <td>0</td>\n",
       "      <td>0</td>\n",
       "      <td>0</td>\n",
       "      <td>0</td>\n",
       "      <td>0</td>\n",
       "      <td>0</td>\n",
       "      <td>0</td>\n",
       "      <td>0</td>\n",
       "    </tr>\n",
       "    <tr>\n",
       "      <th>3537</th>\n",
       "      <td>1.0</td>\n",
       "      <td>1</td>\n",
       "      <td>651</td>\n",
       "      <td>6</td>\n",
       "      <td>5.0</td>\n",
       "      <td>14</td>\n",
       "      <td>1</td>\n",
       "      <td>0</td>\n",
       "      <td>1</td>\n",
       "      <td>1</td>\n",
       "      <td>1</td>\n",
       "      <td>1</td>\n",
       "      <td>0</td>\n",
       "      <td>1</td>\n",
       "    </tr>\n",
       "    <tr>\n",
       "      <th>3538</th>\n",
       "      <td>1.0</td>\n",
       "      <td>1</td>\n",
       "      <td>816</td>\n",
       "      <td>4</td>\n",
       "      <td>11.0</td>\n",
       "      <td>9</td>\n",
       "      <td>0</td>\n",
       "      <td>1</td>\n",
       "      <td>1</td>\n",
       "      <td>1</td>\n",
       "      <td>1</td>\n",
       "      <td>0</td>\n",
       "      <td>1</td>\n",
       "      <td>1</td>\n",
       "    </tr>\n",
       "  </tbody>\n",
       "</table>\n",
       "<p>3539 rows × 14 columns</p>\n",
       "</div>"
      ],
      "text/plain": [
       "      bedrooms  bathrooms  size_sqft  min_to_subway  floor  building_age_yrs  \\\n",
       "0          0.0          1        480              9    2.0                17   \n",
       "1          2.0          2       2000              4    1.0                96   \n",
       "2          1.0          1        916              2   51.0                29   \n",
       "3          1.0          1        975              3    8.0                31   \n",
       "4          2.0          2       4800              3    4.0               136   \n",
       "...        ...        ...        ...            ...    ...               ...   \n",
       "3534       1.0          1        532              3    8.0                16   \n",
       "3535       2.0          2        988              5   10.0                 9   \n",
       "3536       0.0          1        250              2    5.0                96   \n",
       "3537       1.0          1        651              6    5.0                14   \n",
       "3538       1.0          1        816              4   11.0                 9   \n",
       "\n",
       "      no_fee  has_roofdeck  has_washer_dryer  has_doorman  has_elevator  \\\n",
       "0          1             1                 0            0             1   \n",
       "1          0             0                 0            0             0   \n",
       "2          0             1                 0            1             1   \n",
       "3          0             0                 0            1             1   \n",
       "4          0             0                 0            1             1   \n",
       "...      ...           ...               ...          ...           ...   \n",
       "3534       1             1                 1            1             1   \n",
       "3535       1             1                 1            1             1   \n",
       "3536       0             0                 0            0             0   \n",
       "3537       1             0                 1            1             1   \n",
       "3538       0             1                 1            1             1   \n",
       "\n",
       "      has_dishwasher  has_patio  has_gym  \n",
       "0                  1          0        1  \n",
       "1                  0          0        0  \n",
       "2                  1          0        0  \n",
       "3                  1          0        1  \n",
       "4                  1          0        1  \n",
       "...              ...        ...      ...  \n",
       "3534               1          0        1  \n",
       "3535               1          0        1  \n",
       "3536               0          0        0  \n",
       "3537               1          0        1  \n",
       "3538               0          1        1  \n",
       "\n",
       "[3539 rows x 14 columns]"
      ]
     },
     "execution_count": 293,
     "metadata": {},
     "output_type": "execute_result"
    }
   ],
   "source": [
    "X= man[man.columns[2:-2]]\n",
    "y= man[man.columns[1]]\n",
    "X"
   ]
  },
  {
   "cell_type": "code",
   "execution_count": 294,
   "id": "41cea331",
   "metadata": {},
   "outputs": [
    {
     "name": "stdout",
     "output_type": "stream",
     "text": [
      "(2477, 14) (1062, 14)\n"
     ]
    }
   ],
   "source": [
    "X_train, X_test, y_train, y_test = train_test_split(X, y, test_size=0.3,random_state=42)\n",
    "print(X_train.shape,X_test.shape)"
   ]
  },
  {
   "cell_type": "code",
   "execution_count": 295,
   "id": "8ca1cfd2",
   "metadata": {},
   "outputs": [
    {
     "data": {
      "text/plain": [
       "array([[0.4       , 0.2       , 0.08373626, ..., 0.        , 0.        ,\n",
       "        0.        ],\n",
       "       [0.4       , 0.2       , 0.13186813, ..., 0.        , 0.        ,\n",
       "        0.        ],\n",
       "       [0.4       , 0.2       , 0.12087912, ..., 1.        , 1.        ,\n",
       "        1.        ],\n",
       "       ...,\n",
       "       [0.8       , 0.6       , 0.38461538, ..., 0.        , 0.        ,\n",
       "        0.        ],\n",
       "       [0.4       , 0.2       , 0.0989011 , ..., 0.        , 0.        ,\n",
       "        0.        ],\n",
       "       [0.        , 0.2       , 0.05428571, ..., 0.        , 0.        ,\n",
       "        0.        ]])"
      ]
     },
     "execution_count": 295,
     "metadata": {},
     "output_type": "execute_result"
    }
   ],
   "source": [
    "minmax = MinMaxScaler()\n",
    "minmax.fit(X_train)\n",
    "\n",
    "X_train_scaled = minmax.transform(X_train)\n",
    "X_test_scaled = minmax.transform(X_test)\n",
    "\n",
    "train_scaled"
   ]
  },
  {
   "cell_type": "code",
   "execution_count": 296,
   "id": "5ff95b46",
   "metadata": {},
   "outputs": [
    {
     "name": "stdout",
     "output_type": "stream",
     "text": [
      "훈련 점수: 0.7895700735340144\n",
      "테스트 점수: 0.7527783303692217\n"
     ]
    }
   ],
   "source": [
    "# 정규화 후\n",
    "model2= LinearRegression()\n",
    "model.fit(X_train_scaled, y_train) # alpha=1.0, l1_ratio=0.5\n",
    "\n",
    "print('훈련 점수:', model.score(X_train_scaled, y_train))\n",
    "print('테스트 점수:', model.score(X_test_scaled, y_test))"
   ]
  },
  {
   "cell_type": "code",
   "execution_count": 297,
   "id": "3f9840aa",
   "metadata": {},
   "outputs": [
    {
     "data": {
      "text/plain": [
       "1551.8207637591638"
      ]
     },
     "execution_count": 297,
     "metadata": {},
     "output_type": "execute_result"
    }
   ],
   "source": [
    "#### 오차를 이용한 성능 평가\n",
    "pred= model.predict(X_test_scaled)\n",
    "mse= mean_squared_error(y_test, pred)\n",
    "np.sqrt(mse)"
   ]
  },
  {
   "cell_type": "markdown",
   "id": "85b50935",
   "metadata": {},
   "source": [
    "### 1) Ridge"
   ]
  },
  {
   "cell_type": "code",
   "execution_count": 298,
   "id": "75fc498d",
   "metadata": {},
   "outputs": [
    {
     "data": {
      "text/plain": [
       "GridSearchCV(cv=10, estimator=Ridge(),\n",
       "             param_grid={'alpha': [1e-05, 0.0001, 0.001, 0.01, 0.1, 0.5, 1.0,\n",
       "                                   5.0, 10.0]})"
      ]
     },
     "execution_count": 298,
     "metadata": {},
     "output_type": "execute_result"
    }
   ],
   "source": [
    "param_grid= {'alpha':[1e-5, 1e-4, 1e-3, 1e-2, 0.1, 0.5, 1.0, 5.0, 10.0]}\n",
    "ridge_grid= GridSearchCV(Ridge(), param_grid, cv=10)\n",
    "ridge_grid.fit(X_train_scaled, y_train)"
   ]
  },
  {
   "cell_type": "code",
   "execution_count": 300,
   "id": "e97732cd",
   "metadata": {},
   "outputs": [
    {
     "name": "stdout",
     "output_type": "stream",
     "text": [
      "RMSE: 1458.7595867966736\n",
      "R2: 0.7895464853962377\n"
     ]
    }
   ],
   "source": [
    "y_train_predict= ridge_grid.predict(X_train_scaled)\n",
    "\n",
    "rmse= np.sqrt(mean_squared_error(y_train, y_train_predict))\n",
    "r2= r2_score(y_train, y_train_predict)\n",
    "\n",
    "print('RMSE:', rmse)\n",
    "print('R2:', r2)"
   ]
  },
  {
   "cell_type": "code",
   "execution_count": 301,
   "id": "fd42491a",
   "metadata": {
    "scrolled": true
   },
   "outputs": [
    {
     "name": "stdout",
     "output_type": "stream",
     "text": [
      "훈련 점수: 0.7895698522688053\n",
      "테스트 점수: 0.75275740986352\n"
     ]
    }
   ],
   "source": [
    "ridge = Ridge(alpha= 1.0).fit(X_train, y_train)\n",
    "\n",
    "print(\"훈련 점수:\", ridge.score(X_train, y_train))   # 훈련 점수: 0.7895698522688053\n",
    "print(\"테스트 점수:\", ridge.score(X_test, y_test))   # 테스트 점수: 0.7527574098635202"
   ]
  },
  {
   "cell_type": "markdown",
   "id": "002fc37f",
   "metadata": {},
   "source": [
    "### 2) Lasso"
   ]
  },
  {
   "cell_type": "code",
   "execution_count": 302,
   "id": "1c46d9d4",
   "metadata": {},
   "outputs": [
    {
     "name": "stdout",
     "output_type": "stream",
     "text": [
      "훈련 점수: 0.7895026529976334\n",
      "테스트 점수: 0.7530936381047026\n",
      "사용한 특성의 수: 13\n"
     ]
    }
   ],
   "source": [
    "lasso = Lasso(alpha=1.0).fit(X_train_scaled,y_train)\n",
    "\n",
    "print('훈련 점수:',lasso.score(X_train_scaled,y_train))\n",
    "print('테스트 점수:',lasso.score(X_test_scaled,y_test))\n",
    "print('사용한 특성의 수:', np.sum(lasso.coef_ != 0))"
   ]
  },
  {
   "cell_type": "code",
   "execution_count": 303,
   "id": "13ec0539",
   "metadata": {},
   "outputs": [
    {
     "data": {
      "text/plain": [
       "GridSearchCV(cv=10, estimator=Lasso(),\n",
       "             param_grid={'alpha': [1e-05, 0.0001, 0.001, 0.01, 0.1, 0.5, 1.0,\n",
       "                                   5.0, 10.0]})"
      ]
     },
     "execution_count": 303,
     "metadata": {},
     "output_type": "execute_result"
    }
   ],
   "source": [
    "param_grid= {'alpha':[1e-5, 1e-4, 1e-3, 1e-2, 0.1, 0.5, 1.0, 5.0, 10.0]}\n",
    "lasso_grid= GridSearchCV(Lasso(), param_grid, cv=10)\n",
    "lasso_grid.fit(X_train_scaled, y_train)"
   ]
  },
  {
   "cell_type": "code",
   "execution_count": 306,
   "id": "7cf152e7",
   "metadata": {},
   "outputs": [
    {
     "name": "stdout",
     "output_type": "stream",
     "text": [
      "RMSE: 1458.9114911324227\n",
      "R2: 0.7895026529976334\n"
     ]
    }
   ],
   "source": [
    "y_train_predict= lasso_grid.predict(X_train_scaled)\n",
    "\n",
    "rmse= np.sqrt(mean_squared_error(y_train, y_train_predict))\n",
    "r2= r2_score(y_train, y_train_predict)\n",
    "\n",
    "print('RMSE:', rmse)\n",
    "print('R2:', r2)"
   ]
  },
  {
   "cell_type": "code",
   "execution_count": 307,
   "id": "5995048a",
   "metadata": {},
   "outputs": [
    {
     "name": "stdout",
     "output_type": "stream",
     "text": [
      "RMSE: 24179037.904143713\n",
      "R2: -60017989.46731449\n"
     ]
    },
    {
     "name": "stderr",
     "output_type": "stream",
     "text": [
      "C:\\Users\\acorn\\anaconda3\\lib\\site-packages\\sklearn\\base.py:443: UserWarning: X has feature names, but Lasso was fitted without feature names\n",
      "  warnings.warn(\n"
     ]
    }
   ],
   "source": [
    "y_test_predict= lasso_grid.predict(X_test)\n",
    "\n",
    "rmse= np.sqrt(mean_squared_error(y_test, y_test_predict))\n",
    "r2= r2_score(y_test, y_test_predict)\n",
    "98\n",
    "print('RMSE:', rmse)\n",
    "print('R2:', r2)"
   ]
  },
  {
   "cell_type": "code",
   "execution_count": null,
   "id": "0317cc54",
   "metadata": {},
   "outputs": [],
   "source": []
  },
  {
   "cell_type": "code",
   "execution_count": null,
   "id": "1e99a6b6",
   "metadata": {},
   "outputs": [],
   "source": []
  },
  {
   "cell_type": "code",
   "execution_count": null,
   "id": "801bd15f",
   "metadata": {},
   "outputs": [],
   "source": []
  },
  {
   "cell_type": "code",
   "execution_count": null,
   "id": "bf645f1f",
   "metadata": {},
   "outputs": [],
   "source": []
  },
  {
   "cell_type": "code",
   "execution_count": null,
   "id": "92506f5d",
   "metadata": {},
   "outputs": [],
   "source": []
  },
  {
   "cell_type": "code",
   "execution_count": null,
   "id": "69cadf54",
   "metadata": {},
   "outputs": [],
   "source": []
  },
  {
   "cell_type": "code",
   "execution_count": null,
   "id": "2c1fa4da",
   "metadata": {},
   "outputs": [],
   "source": []
  },
  {
   "cell_type": "code",
   "execution_count": null,
   "id": "dc823633",
   "metadata": {},
   "outputs": [],
   "source": []
  },
  {
   "cell_type": "code",
   "execution_count": null,
   "id": "67a93be2",
   "metadata": {},
   "outputs": [],
   "source": []
  },
  {
   "cell_type": "code",
   "execution_count": 251,
   "id": "3777a952",
   "metadata": {},
   "outputs": [
    {
     "name": "stdout",
     "output_type": "stream",
     "text": [
      "주택가격은 [14188788.84640939]입니다\n"
     ]
    }
   ],
   "source": [
    "my_rent=[[1,1,620, 16,1,98, 1,0,1,0,0,1,1,0]]\n",
    "print('주택가격은 {}입니다'.format(model.predict(my_rent)))"
   ]
  },
  {
   "cell_type": "markdown",
   "id": "9c4af446",
   "metadata": {},
   "source": [
    "# 5. 중고 자동차 가격 예측 모델"
   ]
  },
  {
   "cell_type": "markdown",
   "id": "179421f8",
   "metadata": {},
   "source": [
    "## (1) Data Definition"
   ]
  },
  {
   "cell_type": "code",
   "execution_count": 114,
   "id": "01895390",
   "metadata": {},
   "outputs": [
    {
     "data": {
      "text/html": [
       "<div>\n",
       "<style scoped>\n",
       "    .dataframe tbody tr th:only-of-type {\n",
       "        vertical-align: middle;\n",
       "    }\n",
       "\n",
       "    .dataframe tbody tr th {\n",
       "        vertical-align: top;\n",
       "    }\n",
       "\n",
       "    .dataframe thead th {\n",
       "        text-align: right;\n",
       "    }\n",
       "</style>\n",
       "<table border=\"1\" class=\"dataframe\">\n",
       "  <thead>\n",
       "    <tr style=\"text-align: right;\">\n",
       "      <th></th>\n",
       "      <th>CAR_ID</th>\n",
       "      <th>year</th>\n",
       "      <th>distance</th>\n",
       "      <th>sunroof</th>\n",
       "      <th>navigation</th>\n",
       "      <th>grade</th>\n",
       "      <th>fuel</th>\n",
       "      <th>transmission</th>\n",
       "      <th>price</th>\n",
       "    </tr>\n",
       "  </thead>\n",
       "  <tbody>\n",
       "    <tr>\n",
       "      <th>0</th>\n",
       "      <td>104</td>\n",
       "      <td>2012</td>\n",
       "      <td>117020</td>\n",
       "      <td>0</td>\n",
       "      <td>0</td>\n",
       "      <td>luxury</td>\n",
       "      <td>gasoline</td>\n",
       "      <td>4-auto</td>\n",
       "      <td>470</td>\n",
       "    </tr>\n",
       "    <tr>\n",
       "      <th>1</th>\n",
       "      <td>122</td>\n",
       "      <td>2015</td>\n",
       "      <td>63317</td>\n",
       "      <td>0</td>\n",
       "      <td>0</td>\n",
       "      <td>deluxe</td>\n",
       "      <td>gasoline</td>\n",
       "      <td>4-auto</td>\n",
       "      <td>570</td>\n",
       "    </tr>\n",
       "    <tr>\n",
       "      <th>2</th>\n",
       "      <td>122</td>\n",
       "      <td>2013</td>\n",
       "      <td>88000</td>\n",
       "      <td>0</td>\n",
       "      <td>0</td>\n",
       "      <td>smart_special</td>\n",
       "      <td>gasoline</td>\n",
       "      <td>4-auto</td>\n",
       "      <td>380</td>\n",
       "    </tr>\n",
       "    <tr>\n",
       "      <th>3</th>\n",
       "      <td>142</td>\n",
       "      <td>2012</td>\n",
       "      <td>106822</td>\n",
       "      <td>1</td>\n",
       "      <td>0</td>\n",
       "      <td>luxury</td>\n",
       "      <td>gasoline</td>\n",
       "      <td>4-auto</td>\n",
       "      <td>570</td>\n",
       "    </tr>\n",
       "    <tr>\n",
       "      <th>4</th>\n",
       "      <td>149</td>\n",
       "      <td>2014</td>\n",
       "      <td>34913</td>\n",
       "      <td>0</td>\n",
       "      <td>0</td>\n",
       "      <td>smart</td>\n",
       "      <td>gasoline</td>\n",
       "      <td>4-auto</td>\n",
       "      <td>330</td>\n",
       "    </tr>\n",
       "  </tbody>\n",
       "</table>\n",
       "</div>"
      ],
      "text/plain": [
       "   CAR_ID  year  distance  sunroof  navigation          grade      fuel  \\\n",
       "0     104  2012    117020        0           0         luxury  gasoline   \n",
       "1     122  2015     63317        0           0         deluxe  gasoline   \n",
       "2     122  2013     88000        0           0  smart_special  gasoline   \n",
       "3     142  2012    106822        1           0         luxury  gasoline   \n",
       "4     149  2014     34913        0           0          smart  gasoline   \n",
       "\n",
       "  transmission  price  \n",
       "0       4-auto    470  \n",
       "1       4-auto    570  \n",
       "2       4-auto    380  \n",
       "3       4-auto    570  \n",
       "4       4-auto    330  "
      ]
     },
     "execution_count": 114,
     "metadata": {},
     "output_type": "execute_result"
    }
   ],
   "source": [
    "data= pd.read_csv('data/handed_car.csv')\n",
    "data.head()"
   ]
  },
  {
   "cell_type": "markdown",
   "id": "49e7b04c",
   "metadata": {},
   "source": [
    "## (2) Data Examine"
   ]
  },
  {
   "cell_type": "code",
   "execution_count": 115,
   "id": "9e074780",
   "metadata": {},
   "outputs": [
    {
     "name": "stdout",
     "output_type": "stream",
     "text": [
      "<class 'pandas.core.frame.DataFrame'>\n",
      "RangeIndex: 2864 entries, 0 to 2863\n",
      "Data columns (total 9 columns):\n",
      " #   Column        Non-Null Count  Dtype \n",
      "---  ------        --------------  ----- \n",
      " 0   CAR_ID        2864 non-null   int64 \n",
      " 1   year          2864 non-null   int64 \n",
      " 2   distance      2864 non-null   int64 \n",
      " 3   sunroof       2864 non-null   int64 \n",
      " 4   navigation    2864 non-null   int64 \n",
      " 5   grade         2864 non-null   object\n",
      " 6   fuel          2864 non-null   object\n",
      " 7   transmission  2864 non-null   object\n",
      " 8   price         2864 non-null   int64 \n",
      "dtypes: int64(6), object(3)\n",
      "memory usage: 201.5+ KB\n"
     ]
    }
   ],
   "source": [
    "data.info()\n",
    "# 결측치 처리\n",
    "# sunroof, navigation을 연속형으로 취급해도 큰 상관없음\n",
    "# 있으면(1) 가격 높음\n",
    "# 1~4: 연속형, 5~8: 범주형\n",
    "# 연속형 전처리: 정규화\n",
    "# 범주형 전처리: one-hot encoding"
   ]
  },
  {
   "cell_type": "code",
   "execution_count": 116,
   "id": "66a69d94",
   "metadata": {},
   "outputs": [
    {
     "data": {
      "text/html": [
       "<div>\n",
       "<style scoped>\n",
       "    .dataframe tbody tr th:only-of-type {\n",
       "        vertical-align: middle;\n",
       "    }\n",
       "\n",
       "    .dataframe tbody tr th {\n",
       "        vertical-align: top;\n",
       "    }\n",
       "\n",
       "    .dataframe thead th {\n",
       "        text-align: right;\n",
       "    }\n",
       "</style>\n",
       "<table border=\"1\" class=\"dataframe\">\n",
       "  <thead>\n",
       "    <tr style=\"text-align: right;\">\n",
       "      <th></th>\n",
       "      <th>CAR_ID</th>\n",
       "      <th>year</th>\n",
       "      <th>distance</th>\n",
       "      <th>sunroof</th>\n",
       "      <th>navigation</th>\n",
       "      <th>price</th>\n",
       "    </tr>\n",
       "  </thead>\n",
       "  <tbody>\n",
       "    <tr>\n",
       "      <th>count</th>\n",
       "      <td>2864.000000</td>\n",
       "      <td>2864.000000</td>\n",
       "      <td>2864.000000</td>\n",
       "      <td>2864.000000</td>\n",
       "      <td>2864.000000</td>\n",
       "      <td>2864.000000</td>\n",
       "    </tr>\n",
       "    <tr>\n",
       "      <th>mean</th>\n",
       "      <td>5582.808310</td>\n",
       "      <td>2013.107193</td>\n",
       "      <td>67234.147346</td>\n",
       "      <td>0.114874</td>\n",
       "      <td>0.130587</td>\n",
       "      <td>560.319483</td>\n",
       "    </tr>\n",
       "    <tr>\n",
       "      <th>std</th>\n",
       "      <td>2713.953471</td>\n",
       "      <td>1.194950</td>\n",
       "      <td>35350.733324</td>\n",
       "      <td>0.318926</td>\n",
       "      <td>0.337007</td>\n",
       "      <td>125.724172</td>\n",
       "    </tr>\n",
       "    <tr>\n",
       "      <th>min</th>\n",
       "      <td>104.000000</td>\n",
       "      <td>2012.000000</td>\n",
       "      <td>2915.000000</td>\n",
       "      <td>0.000000</td>\n",
       "      <td>0.000000</td>\n",
       "      <td>99.000000</td>\n",
       "    </tr>\n",
       "    <tr>\n",
       "      <th>25%</th>\n",
       "      <td>3199.250000</td>\n",
       "      <td>2012.000000</td>\n",
       "      <td>41329.250000</td>\n",
       "      <td>0.000000</td>\n",
       "      <td>0.000000</td>\n",
       "      <td>480.000000</td>\n",
       "    </tr>\n",
       "    <tr>\n",
       "      <th>50%</th>\n",
       "      <td>5821.000000</td>\n",
       "      <td>2013.000000</td>\n",
       "      <td>61242.500000</td>\n",
       "      <td>0.000000</td>\n",
       "      <td>0.000000</td>\n",
       "      <td>570.000000</td>\n",
       "    </tr>\n",
       "    <tr>\n",
       "      <th>75%</th>\n",
       "      <td>7898.250000</td>\n",
       "      <td>2014.000000</td>\n",
       "      <td>87270.000000</td>\n",
       "      <td>0.000000</td>\n",
       "      <td>0.000000</td>\n",
       "      <td>650.000000</td>\n",
       "    </tr>\n",
       "    <tr>\n",
       "      <th>max</th>\n",
       "      <td>9998.000000</td>\n",
       "      <td>2016.000000</td>\n",
       "      <td>247119.000000</td>\n",
       "      <td>1.000000</td>\n",
       "      <td>1.000000</td>\n",
       "      <td>1130.000000</td>\n",
       "    </tr>\n",
       "  </tbody>\n",
       "</table>\n",
       "</div>"
      ],
      "text/plain": [
       "            CAR_ID         year       distance      sunroof   navigation  \\\n",
       "count  2864.000000  2864.000000    2864.000000  2864.000000  2864.000000   \n",
       "mean   5582.808310  2013.107193   67234.147346     0.114874     0.130587   \n",
       "std    2713.953471     1.194950   35350.733324     0.318926     0.337007   \n",
       "min     104.000000  2012.000000    2915.000000     0.000000     0.000000   \n",
       "25%    3199.250000  2012.000000   41329.250000     0.000000     0.000000   \n",
       "50%    5821.000000  2013.000000   61242.500000     0.000000     0.000000   \n",
       "75%    7898.250000  2014.000000   87270.000000     0.000000     0.000000   \n",
       "max    9998.000000  2016.000000  247119.000000     1.000000     1.000000   \n",
       "\n",
       "             price  \n",
       "count  2864.000000  \n",
       "mean    560.319483  \n",
       "std     125.724172  \n",
       "min      99.000000  \n",
       "25%     480.000000  \n",
       "50%     570.000000  \n",
       "75%     650.000000  \n",
       "max    1130.000000  "
      ]
     },
     "execution_count": 116,
     "metadata": {},
     "output_type": "execute_result"
    }
   ],
   "source": [
    "data.describe()"
   ]
  },
  {
   "cell_type": "code",
   "execution_count": 118,
   "id": "6de3b794",
   "metadata": {},
   "outputs": [
    {
     "data": {
      "text/plain": [
       "array([[<AxesSubplot:title={'center':'CAR_ID'}>,\n",
       "        <AxesSubplot:title={'center':'year'}>],\n",
       "       [<AxesSubplot:title={'center':'distance'}>,\n",
       "        <AxesSubplot:title={'center':'sunroof'}>],\n",
       "       [<AxesSubplot:title={'center':'navigation'}>,\n",
       "        <AxesSubplot:title={'center':'price'}>]], dtype=object)"
      ]
     },
     "execution_count": 118,
     "metadata": {},
     "output_type": "execute_result"
    },
    {
     "data": {
      "image/png": "[encoded data removed]",
      "text/plain": [
       "<Figure size 2000x1500 with 6 Axes>"
      ]
     },
     "metadata": {},
     "output_type": "display_data"
    }
   ],
   "source": [
    "data.hist(bins=50, figsize=(20,15))"
   ]
  },
  {
   "cell_type": "markdown",
   "id": "d46b8da5",
   "metadata": {},
   "source": [
    "## (3) Preprocessing"
   ]
  },
  {
   "cell_type": "markdown",
   "id": "81d963c2",
   "metadata": {},
   "source": [
    "### 1) 특성(x)과 레이블(y)로 나누기"
   ]
  },
  {
   "cell_type": "code",
   "execution_count": 180,
   "id": "f1c80ec6",
   "metadata": {},
   "outputs": [],
   "source": [
    "# feature와 label 나누기\n",
    "X= data[data.columns[1:-1]]\n",
    "y= data[[data.columns[-1]]]"
   ]
  },
  {
   "cell_type": "markdown",
   "id": "5330bad0",
   "metadata": {},
   "source": [
    "### 2) 훈련 데이터와 테스트 데이터 나누기"
   ]
  },
  {
   "cell_type": "code",
   "execution_count": 198,
   "id": "efb3526f",
   "metadata": {},
   "outputs": [
    {
     "name": "stdout",
     "output_type": "stream",
     "text": [
      "(2004, 7) (860, 7)\n"
     ]
    }
   ],
   "source": [
    "X_train, X_test, y_train, y_test= train_test_split(X, y, test_size=.3, random_state=42)\n",
    "print(X_train.shape, X_test.shape)"
   ]
  },
  {
   "cell_type": "markdown",
   "id": "1d68e9dc",
   "metadata": {},
   "source": [
    "### 3) 연속형 변수와 범주형 변수를 나누어 처리한 후 다시 통합\n",
    "- 훈련데이터 나누기"
   ]
  },
  {
   "cell_type": "code",
   "execution_count": 199,
   "id": "afc5a0f8",
   "metadata": {},
   "outputs": [
    {
     "data": {
      "text/html": [
       "<div>\n",
       "<style scoped>\n",
       "    .dataframe tbody tr th:only-of-type {\n",
       "        vertical-align: middle;\n",
       "    }\n",
       "\n",
       "    .dataframe tbody tr th {\n",
       "        vertical-align: top;\n",
       "    }\n",
       "\n",
       "    .dataframe thead th {\n",
       "        text-align: right;\n",
       "    }\n",
       "</style>\n",
       "<table border=\"1\" class=\"dataframe\">\n",
       "  <thead>\n",
       "    <tr style=\"text-align: right;\">\n",
       "      <th></th>\n",
       "      <th>year</th>\n",
       "      <th>distance</th>\n",
       "      <th>sunroof</th>\n",
       "      <th>navigation</th>\n",
       "    </tr>\n",
       "  </thead>\n",
       "  <tbody>\n",
       "    <tr>\n",
       "      <th>1613</th>\n",
       "      <td>2012</td>\n",
       "      <td>122976</td>\n",
       "      <td>0</td>\n",
       "      <td>0</td>\n",
       "    </tr>\n",
       "    <tr>\n",
       "      <th>2771</th>\n",
       "      <td>2014</td>\n",
       "      <td>10634</td>\n",
       "      <td>0</td>\n",
       "      <td>0</td>\n",
       "    </tr>\n",
       "    <tr>\n",
       "      <th>1032</th>\n",
       "      <td>2012</td>\n",
       "      <td>36541</td>\n",
       "      <td>0</td>\n",
       "      <td>0</td>\n",
       "    </tr>\n",
       "    <tr>\n",
       "      <th>2805</th>\n",
       "      <td>2013</td>\n",
       "      <td>70197</td>\n",
       "      <td>1</td>\n",
       "      <td>1</td>\n",
       "    </tr>\n",
       "    <tr>\n",
       "      <th>2701</th>\n",
       "      <td>2012</td>\n",
       "      <td>72492</td>\n",
       "      <td>0</td>\n",
       "      <td>0</td>\n",
       "    </tr>\n",
       "  </tbody>\n",
       "</table>\n",
       "</div>"
      ],
      "text/plain": [
       "      year  distance  sunroof  navigation\n",
       "1613  2012    122976        0           0\n",
       "2771  2014     10634        0           0\n",
       "1032  2012     36541        0           0\n",
       "2805  2013     70197        1           1\n",
       "2701  2012     72492        0           0"
      ]
     },
     "execution_count": 199,
     "metadata": {},
     "output_type": "execute_result"
    }
   ],
   "source": [
    "train_num= X_train[X_train.columns[0:4]]\n",
    "train_num.head()"
   ]
  },
  {
   "cell_type": "code",
   "execution_count": 200,
   "id": "87745b94",
   "metadata": {
    "scrolled": true
   },
   "outputs": [
    {
     "data": {
      "text/html": [
       "<div>\n",
       "<style scoped>\n",
       "    .dataframe tbody tr th:only-of-type {\n",
       "        vertical-align: middle;\n",
       "    }\n",
       "\n",
       "    .dataframe tbody tr th {\n",
       "        vertical-align: top;\n",
       "    }\n",
       "\n",
       "    .dataframe thead th {\n",
       "        text-align: right;\n",
       "    }\n",
       "</style>\n",
       "<table border=\"1\" class=\"dataframe\">\n",
       "  <thead>\n",
       "    <tr style=\"text-align: right;\">\n",
       "      <th></th>\n",
       "      <th>grade</th>\n",
       "      <th>fuel</th>\n",
       "      <th>transmission</th>\n",
       "    </tr>\n",
       "  </thead>\n",
       "  <tbody>\n",
       "    <tr>\n",
       "      <th>1613</th>\n",
       "      <td>deluxe</td>\n",
       "      <td>gasoline</td>\n",
       "      <td>4-auto</td>\n",
       "    </tr>\n",
       "    <tr>\n",
       "      <th>2771</th>\n",
       "      <td>luxury</td>\n",
       "      <td>gasoline</td>\n",
       "      <td>4-auto</td>\n",
       "    </tr>\n",
       "    <tr>\n",
       "      <th>1032</th>\n",
       "      <td>special</td>\n",
       "      <td>gasoline</td>\n",
       "      <td>4-auto</td>\n",
       "    </tr>\n",
       "    <tr>\n",
       "      <th>2805</th>\n",
       "      <td>special</td>\n",
       "      <td>gasoline</td>\n",
       "      <td>4-auto</td>\n",
       "    </tr>\n",
       "    <tr>\n",
       "      <th>2701</th>\n",
       "      <td>luxury</td>\n",
       "      <td>gasoline</td>\n",
       "      <td>4-auto</td>\n",
       "    </tr>\n",
       "  </tbody>\n",
       "</table>\n",
       "</div>"
      ],
      "text/plain": [
       "        grade      fuel transmission\n",
       "1613   deluxe  gasoline       4-auto\n",
       "2771   luxury  gasoline       4-auto\n",
       "1032  special  gasoline       4-auto\n",
       "2805  special  gasoline       4-auto\n",
       "2701   luxury  gasoline       4-auto"
      ]
     },
     "execution_count": 200,
     "metadata": {},
     "output_type": "execute_result"
    }
   ],
   "source": [
    "train_cat= X_train[X_train.columns[4:]]\n",
    "train_cat.head()"
   ]
  },
  {
   "cell_type": "markdown",
   "id": "d3209b66",
   "metadata": {},
   "source": [
    "- 원 핫 인코딩"
   ]
  },
  {
   "cell_type": "code",
   "execution_count": 201,
   "id": "62e33918",
   "metadata": {},
   "outputs": [
    {
     "data": {
      "text/html": [
       "<div>\n",
       "<style scoped>\n",
       "    .dataframe tbody tr th:only-of-type {\n",
       "        vertical-align: middle;\n",
       "    }\n",
       "\n",
       "    .dataframe tbody tr th {\n",
       "        vertical-align: top;\n",
       "    }\n",
       "\n",
       "    .dataframe thead th {\n",
       "        text-align: right;\n",
       "    }\n",
       "</style>\n",
       "<table border=\"1\" class=\"dataframe\">\n",
       "  <thead>\n",
       "    <tr style=\"text-align: right;\">\n",
       "      <th></th>\n",
       "      <th>grade_advanced</th>\n",
       "      <th>grade_basic</th>\n",
       "      <th>grade_deluxe</th>\n",
       "      <th>grade_luxury</th>\n",
       "      <th>grade_smart</th>\n",
       "      <th>grade_smart_special</th>\n",
       "      <th>grade_special</th>\n",
       "      <th>grade_trendy</th>\n",
       "      <th>fuel_LPG</th>\n",
       "      <th>fuel_gasoline</th>\n",
       "      <th>fuel_hybrid</th>\n",
       "      <th>transmission_4-auto</th>\n",
       "      <th>transmission_5-manual</th>\n",
       "      <th>transmission_CVT</th>\n",
       "    </tr>\n",
       "  </thead>\n",
       "  <tbody>\n",
       "    <tr>\n",
       "      <th>1613</th>\n",
       "      <td>0</td>\n",
       "      <td>0</td>\n",
       "      <td>1</td>\n",
       "      <td>0</td>\n",
       "      <td>0</td>\n",
       "      <td>0</td>\n",
       "      <td>0</td>\n",
       "      <td>0</td>\n",
       "      <td>0</td>\n",
       "      <td>1</td>\n",
       "      <td>0</td>\n",
       "      <td>1</td>\n",
       "      <td>0</td>\n",
       "      <td>0</td>\n",
       "    </tr>\n",
       "    <tr>\n",
       "      <th>2771</th>\n",
       "      <td>0</td>\n",
       "      <td>0</td>\n",
       "      <td>0</td>\n",
       "      <td>1</td>\n",
       "      <td>0</td>\n",
       "      <td>0</td>\n",
       "      <td>0</td>\n",
       "      <td>0</td>\n",
       "      <td>0</td>\n",
       "      <td>1</td>\n",
       "      <td>0</td>\n",
       "      <td>1</td>\n",
       "      <td>0</td>\n",
       "      <td>0</td>\n",
       "    </tr>\n",
       "    <tr>\n",
       "      <th>1032</th>\n",
       "      <td>0</td>\n",
       "      <td>0</td>\n",
       "      <td>0</td>\n",
       "      <td>0</td>\n",
       "      <td>0</td>\n",
       "      <td>0</td>\n",
       "      <td>1</td>\n",
       "      <td>0</td>\n",
       "      <td>0</td>\n",
       "      <td>1</td>\n",
       "      <td>0</td>\n",
       "      <td>1</td>\n",
       "      <td>0</td>\n",
       "      <td>0</td>\n",
       "    </tr>\n",
       "    <tr>\n",
       "      <th>2805</th>\n",
       "      <td>0</td>\n",
       "      <td>0</td>\n",
       "      <td>0</td>\n",
       "      <td>0</td>\n",
       "      <td>0</td>\n",
       "      <td>0</td>\n",
       "      <td>1</td>\n",
       "      <td>0</td>\n",
       "      <td>0</td>\n",
       "      <td>1</td>\n",
       "      <td>0</td>\n",
       "      <td>1</td>\n",
       "      <td>0</td>\n",
       "      <td>0</td>\n",
       "    </tr>\n",
       "    <tr>\n",
       "      <th>2701</th>\n",
       "      <td>0</td>\n",
       "      <td>0</td>\n",
       "      <td>0</td>\n",
       "      <td>1</td>\n",
       "      <td>0</td>\n",
       "      <td>0</td>\n",
       "      <td>0</td>\n",
       "      <td>0</td>\n",
       "      <td>0</td>\n",
       "      <td>1</td>\n",
       "      <td>0</td>\n",
       "      <td>1</td>\n",
       "      <td>0</td>\n",
       "      <td>0</td>\n",
       "    </tr>\n",
       "  </tbody>\n",
       "</table>\n",
       "</div>"
      ],
      "text/plain": [
       "      grade_advanced  grade_basic  grade_deluxe  grade_luxury  grade_smart  \\\n",
       "1613               0            0             1             0            0   \n",
       "2771               0            0             0             1            0   \n",
       "1032               0            0             0             0            0   \n",
       "2805               0            0             0             0            0   \n",
       "2701               0            0             0             1            0   \n",
       "\n",
       "      grade_smart_special  grade_special  grade_trendy  fuel_LPG  \\\n",
       "1613                    0              0             0         0   \n",
       "2771                    0              0             0         0   \n",
       "1032                    0              1             0         0   \n",
       "2805                    0              1             0         0   \n",
       "2701                    0              0             0         0   \n",
       "\n",
       "      fuel_gasoline  fuel_hybrid  transmission_4-auto  transmission_5-manual  \\\n",
       "1613              1            0                    1                      0   \n",
       "2771              1            0                    1                      0   \n",
       "1032              1            0                    1                      0   \n",
       "2805              1            0                    1                      0   \n",
       "2701              1            0                    1                      0   \n",
       "\n",
       "      transmission_CVT  \n",
       "1613                 0  \n",
       "2771                 0  \n",
       "1032                 0  \n",
       "2805                 0  \n",
       "2701                 0  "
      ]
     },
     "execution_count": 201,
     "metadata": {},
     "output_type": "execute_result"
    }
   ],
   "source": [
    "train_cat= pd.get_dummies(train_cat)\n",
    "train_cat.head()"
   ]
  },
  {
   "cell_type": "code",
   "execution_count": 202,
   "id": "3fd7436c",
   "metadata": {},
   "outputs": [],
   "source": [
    "train_cat= train_cat.reset_index(drop=True)"
   ]
  },
  {
   "cell_type": "code",
   "execution_count": 203,
   "id": "33a1e7fc",
   "metadata": {},
   "outputs": [
    {
     "name": "stdout",
     "output_type": "stream",
     "text": [
      "<class 'pandas.core.frame.DataFrame'>\n",
      "RangeIndex: 2004 entries, 0 to 2003\n",
      "Data columns (total 14 columns):\n",
      " #   Column                 Non-Null Count  Dtype\n",
      "---  ------                 --------------  -----\n",
      " 0   grade_advanced         2004 non-null   uint8\n",
      " 1   grade_basic            2004 non-null   uint8\n",
      " 2   grade_deluxe           2004 non-null   uint8\n",
      " 3   grade_luxury           2004 non-null   uint8\n",
      " 4   grade_smart            2004 non-null   uint8\n",
      " 5   grade_smart_special    2004 non-null   uint8\n",
      " 6   grade_special          2004 non-null   uint8\n",
      " 7   grade_trendy           2004 non-null   uint8\n",
      " 8   fuel_LPG               2004 non-null   uint8\n",
      " 9   fuel_gasoline          2004 non-null   uint8\n",
      " 10  fuel_hybrid            2004 non-null   uint8\n",
      " 11  transmission_4-auto    2004 non-null   uint8\n",
      " 12  transmission_5-manual  2004 non-null   uint8\n",
      " 13  transmission_CVT       2004 non-null   uint8\n",
      "dtypes: uint8(14)\n",
      "memory usage: 27.5 KB\n"
     ]
    }
   ],
   "source": [
    "train_cat.info()"
   ]
  },
  {
   "cell_type": "markdown",
   "id": "1e5ceb0d",
   "metadata": {},
   "source": [
    "- 테스트 데이터 나누기, 원 핫 인코딩"
   ]
  },
  {
   "cell_type": "code",
   "execution_count": 204,
   "id": "71c951a2",
   "metadata": {},
   "outputs": [
    {
     "data": {
      "text/html": [
       "<div>\n",
       "<style scoped>\n",
       "    .dataframe tbody tr th:only-of-type {\n",
       "        vertical-align: middle;\n",
       "    }\n",
       "\n",
       "    .dataframe tbody tr th {\n",
       "        vertical-align: top;\n",
       "    }\n",
       "\n",
       "    .dataframe thead th {\n",
       "        text-align: right;\n",
       "    }\n",
       "</style>\n",
       "<table border=\"1\" class=\"dataframe\">\n",
       "  <thead>\n",
       "    <tr style=\"text-align: right;\">\n",
       "      <th></th>\n",
       "      <th>grade_advanced</th>\n",
       "      <th>grade_basic</th>\n",
       "      <th>grade_deluxe</th>\n",
       "      <th>grade_luxury</th>\n",
       "      <th>grade_smart</th>\n",
       "      <th>grade_smart_special</th>\n",
       "      <th>grade_special</th>\n",
       "      <th>grade_trendy</th>\n",
       "      <th>fuel_LPG</th>\n",
       "      <th>fuel_gasoline</th>\n",
       "      <th>fuel_hybrid</th>\n",
       "      <th>transmission_4-auto</th>\n",
       "      <th>transmission_5-manual</th>\n",
       "      <th>transmission_CVT</th>\n",
       "    </tr>\n",
       "  </thead>\n",
       "  <tbody>\n",
       "    <tr>\n",
       "      <th>1590</th>\n",
       "      <td>0</td>\n",
       "      <td>0</td>\n",
       "      <td>0</td>\n",
       "      <td>0</td>\n",
       "      <td>1</td>\n",
       "      <td>0</td>\n",
       "      <td>0</td>\n",
       "      <td>0</td>\n",
       "      <td>0</td>\n",
       "      <td>1</td>\n",
       "      <td>0</td>\n",
       "      <td>0</td>\n",
       "      <td>1</td>\n",
       "      <td>0</td>\n",
       "    </tr>\n",
       "    <tr>\n",
       "      <th>1752</th>\n",
       "      <td>0</td>\n",
       "      <td>0</td>\n",
       "      <td>0</td>\n",
       "      <td>1</td>\n",
       "      <td>0</td>\n",
       "      <td>0</td>\n",
       "      <td>0</td>\n",
       "      <td>0</td>\n",
       "      <td>0</td>\n",
       "      <td>1</td>\n",
       "      <td>0</td>\n",
       "      <td>1</td>\n",
       "      <td>0</td>\n",
       "      <td>0</td>\n",
       "    </tr>\n",
       "    <tr>\n",
       "      <th>772</th>\n",
       "      <td>0</td>\n",
       "      <td>0</td>\n",
       "      <td>1</td>\n",
       "      <td>0</td>\n",
       "      <td>0</td>\n",
       "      <td>0</td>\n",
       "      <td>0</td>\n",
       "      <td>0</td>\n",
       "      <td>0</td>\n",
       "      <td>1</td>\n",
       "      <td>0</td>\n",
       "      <td>1</td>\n",
       "      <td>0</td>\n",
       "      <td>0</td>\n",
       "    </tr>\n",
       "    <tr>\n",
       "      <th>1735</th>\n",
       "      <td>0</td>\n",
       "      <td>0</td>\n",
       "      <td>0</td>\n",
       "      <td>1</td>\n",
       "      <td>0</td>\n",
       "      <td>0</td>\n",
       "      <td>0</td>\n",
       "      <td>0</td>\n",
       "      <td>0</td>\n",
       "      <td>1</td>\n",
       "      <td>0</td>\n",
       "      <td>1</td>\n",
       "      <td>0</td>\n",
       "      <td>0</td>\n",
       "    </tr>\n",
       "    <tr>\n",
       "      <th>387</th>\n",
       "      <td>0</td>\n",
       "      <td>0</td>\n",
       "      <td>0</td>\n",
       "      <td>0</td>\n",
       "      <td>0</td>\n",
       "      <td>0</td>\n",
       "      <td>1</td>\n",
       "      <td>0</td>\n",
       "      <td>0</td>\n",
       "      <td>1</td>\n",
       "      <td>0</td>\n",
       "      <td>1</td>\n",
       "      <td>0</td>\n",
       "      <td>0</td>\n",
       "    </tr>\n",
       "  </tbody>\n",
       "</table>\n",
       "</div>"
      ],
      "text/plain": [
       "      grade_advanced  grade_basic  grade_deluxe  grade_luxury  grade_smart  \\\n",
       "1590               0            0             0             0            1   \n",
       "1752               0            0             0             1            0   \n",
       "772                0            0             1             0            0   \n",
       "1735               0            0             0             1            0   \n",
       "387                0            0             0             0            0   \n",
       "\n",
       "      grade_smart_special  grade_special  grade_trendy  fuel_LPG  \\\n",
       "1590                    0              0             0         0   \n",
       "1752                    0              0             0         0   \n",
       "772                     0              0             0         0   \n",
       "1735                    0              0             0         0   \n",
       "387                     0              1             0         0   \n",
       "\n",
       "      fuel_gasoline  fuel_hybrid  transmission_4-auto  transmission_5-manual  \\\n",
       "1590              1            0                    0                      1   \n",
       "1752              1            0                    1                      0   \n",
       "772               1            0                    1                      0   \n",
       "1735              1            0                    1                      0   \n",
       "387               1            0                    1                      0   \n",
       "\n",
       "      transmission_CVT  \n",
       "1590                 0  \n",
       "1752                 0  \n",
       "772                  0  \n",
       "1735                 0  \n",
       "387                  0  "
      ]
     },
     "execution_count": 204,
     "metadata": {},
     "output_type": "execute_result"
    }
   ],
   "source": [
    "test_num= X_test[X_test.columns[0:4]]\n",
    "test_cat= X_test[X_test.columns[4:]]\n",
    "test_cat= pd.get_dummies(test_cat)\n",
    "test_cat.head()"
   ]
  },
  {
   "cell_type": "code",
   "execution_count": 205,
   "id": "6b9ba03b",
   "metadata": {},
   "outputs": [],
   "source": [
    "test_cat=test_cat.reset_index(drop=True)"
   ]
  },
  {
   "cell_type": "code",
   "execution_count": 206,
   "id": "f03617d7",
   "metadata": {},
   "outputs": [
    {
     "name": "stdout",
     "output_type": "stream",
     "text": [
      "<class 'pandas.core.frame.DataFrame'>\n",
      "RangeIndex: 860 entries, 0 to 859\n",
      "Data columns (total 14 columns):\n",
      " #   Column                 Non-Null Count  Dtype\n",
      "---  ------                 --------------  -----\n",
      " 0   grade_advanced         860 non-null    uint8\n",
      " 1   grade_basic            860 non-null    uint8\n",
      " 2   grade_deluxe           860 non-null    uint8\n",
      " 3   grade_luxury           860 non-null    uint8\n",
      " 4   grade_smart            860 non-null    uint8\n",
      " 5   grade_smart_special    860 non-null    uint8\n",
      " 6   grade_special          860 non-null    uint8\n",
      " 7   grade_trendy           860 non-null    uint8\n",
      " 8   fuel_LPG               860 non-null    uint8\n",
      " 9   fuel_gasoline          860 non-null    uint8\n",
      " 10  fuel_hybrid            860 non-null    uint8\n",
      " 11  transmission_4-auto    860 non-null    uint8\n",
      " 12  transmission_5-manual  860 non-null    uint8\n",
      " 13  transmission_CVT       860 non-null    uint8\n",
      "dtypes: uint8(14)\n",
      "memory usage: 11.9 KB\n"
     ]
    }
   ],
   "source": [
    "test_cat.info()"
   ]
  },
  {
   "cell_type": "markdown",
   "id": "860a8fa5",
   "metadata": {},
   "source": [
    "- 변수의 갯수가 다를 경우: align()"
   ]
  },
  {
   "cell_type": "code",
   "execution_count": 207,
   "id": "ce8f4613",
   "metadata": {},
   "outputs": [],
   "source": [
    "train_cat1, test_cat1= train_cat.align(test_cat, join='outer', axis=1)"
   ]
  },
  {
   "cell_type": "code",
   "execution_count": 208,
   "id": "241d1a29",
   "metadata": {},
   "outputs": [
    {
     "name": "stdout",
     "output_type": "stream",
     "text": [
      "<class 'pandas.core.frame.DataFrame'>\n",
      "RangeIndex: 2004 entries, 0 to 2003\n",
      "Data columns (total 14 columns):\n",
      " #   Column                 Non-Null Count  Dtype\n",
      "---  ------                 --------------  -----\n",
      " 0   grade_advanced         2004 non-null   uint8\n",
      " 1   grade_basic            2004 non-null   uint8\n",
      " 2   grade_deluxe           2004 non-null   uint8\n",
      " 3   grade_luxury           2004 non-null   uint8\n",
      " 4   grade_smart            2004 non-null   uint8\n",
      " 5   grade_smart_special    2004 non-null   uint8\n",
      " 6   grade_special          2004 non-null   uint8\n",
      " 7   grade_trendy           2004 non-null   uint8\n",
      " 8   fuel_LPG               2004 non-null   uint8\n",
      " 9   fuel_gasoline          2004 non-null   uint8\n",
      " 10  fuel_hybrid            2004 non-null   uint8\n",
      " 11  transmission_4-auto    2004 non-null   uint8\n",
      " 12  transmission_5-manual  2004 non-null   uint8\n",
      " 13  transmission_CVT       2004 non-null   uint8\n",
      "dtypes: uint8(14)\n",
      "memory usage: 27.5 KB\n",
      "<class 'pandas.core.frame.DataFrame'>\n",
      "RangeIndex: 860 entries, 0 to 859\n",
      "Data columns (total 14 columns):\n",
      " #   Column                 Non-Null Count  Dtype\n",
      "---  ------                 --------------  -----\n",
      " 0   grade_advanced         860 non-null    uint8\n",
      " 1   grade_basic            860 non-null    uint8\n",
      " 2   grade_deluxe           860 non-null    uint8\n",
      " 3   grade_luxury           860 non-null    uint8\n",
      " 4   grade_smart            860 non-null    uint8\n",
      " 5   grade_smart_special    860 non-null    uint8\n",
      " 6   grade_special          860 non-null    uint8\n",
      " 7   grade_trendy           860 non-null    uint8\n",
      " 8   fuel_LPG               860 non-null    uint8\n",
      " 9   fuel_gasoline          860 non-null    uint8\n",
      " 10  fuel_hybrid            860 non-null    uint8\n",
      " 11  transmission_4-auto    860 non-null    uint8\n",
      " 12  transmission_5-manual  860 non-null    uint8\n",
      " 13  transmission_CVT       860 non-null    uint8\n",
      "dtypes: uint8(14)\n",
      "memory usage: 11.9 KB\n"
     ]
    }
   ],
   "source": [
    "train_cat1.info()\n",
    "test_cat1.info()"
   ]
  },
  {
   "cell_type": "markdown",
   "id": "ffcd0324",
   "metadata": {},
   "source": [
    "- 정규화"
   ]
  },
  {
   "cell_type": "code",
   "execution_count": 209,
   "id": "7f5a7ff3",
   "metadata": {},
   "outputs": [],
   "source": [
    "minmax= MinMaxScaler()\n",
    "minmax.fit(train_num)\n",
    "\n",
    "train_scaled= minmax.transform(train_num)\n",
    "test_scaled= minmax.transform(test_num)"
   ]
  },
  {
   "cell_type": "markdown",
   "id": "7fc525d3",
   "metadata": {},
   "source": [
    "- 통합"
   ]
  },
  {
   "cell_type": "code",
   "execution_count": 210,
   "id": "c4f29fa5",
   "metadata": {},
   "outputs": [
    {
     "data": {
      "text/html": [
       "<div>\n",
       "<style scoped>\n",
       "    .dataframe tbody tr th:only-of-type {\n",
       "        vertical-align: middle;\n",
       "    }\n",
       "\n",
       "    .dataframe tbody tr th {\n",
       "        vertical-align: top;\n",
       "    }\n",
       "\n",
       "    .dataframe thead th {\n",
       "        text-align: right;\n",
       "    }\n",
       "</style>\n",
       "<table border=\"1\" class=\"dataframe\">\n",
       "  <thead>\n",
       "    <tr style=\"text-align: right;\">\n",
       "      <th></th>\n",
       "      <th>0</th>\n",
       "      <th>1</th>\n",
       "      <th>2</th>\n",
       "      <th>3</th>\n",
       "      <th>4</th>\n",
       "      <th>5</th>\n",
       "      <th>6</th>\n",
       "      <th>7</th>\n",
       "      <th>8</th>\n",
       "      <th>9</th>\n",
       "      <th>10</th>\n",
       "      <th>11</th>\n",
       "      <th>12</th>\n",
       "      <th>13</th>\n",
       "      <th>14</th>\n",
       "      <th>15</th>\n",
       "      <th>16</th>\n",
       "      <th>17</th>\n",
       "    </tr>\n",
       "  </thead>\n",
       "  <tbody>\n",
       "    <tr>\n",
       "      <th>0</th>\n",
       "      <td>0.000000</td>\n",
       "      <td>0.491642</td>\n",
       "      <td>0.0</td>\n",
       "      <td>0.0</td>\n",
       "      <td>0</td>\n",
       "      <td>0</td>\n",
       "      <td>1</td>\n",
       "      <td>0</td>\n",
       "      <td>0</td>\n",
       "      <td>0</td>\n",
       "      <td>0</td>\n",
       "      <td>0</td>\n",
       "      <td>0</td>\n",
       "      <td>1</td>\n",
       "      <td>0</td>\n",
       "      <td>1</td>\n",
       "      <td>0</td>\n",
       "      <td>0</td>\n",
       "    </tr>\n",
       "    <tr>\n",
       "      <th>1</th>\n",
       "      <td>0.666667</td>\n",
       "      <td>0.031609</td>\n",
       "      <td>0.0</td>\n",
       "      <td>0.0</td>\n",
       "      <td>0</td>\n",
       "      <td>0</td>\n",
       "      <td>0</td>\n",
       "      <td>1</td>\n",
       "      <td>0</td>\n",
       "      <td>0</td>\n",
       "      <td>0</td>\n",
       "      <td>0</td>\n",
       "      <td>0</td>\n",
       "      <td>1</td>\n",
       "      <td>0</td>\n",
       "      <td>1</td>\n",
       "      <td>0</td>\n",
       "      <td>0</td>\n",
       "    </tr>\n",
       "    <tr>\n",
       "      <th>2</th>\n",
       "      <td>0.000000</td>\n",
       "      <td>0.137696</td>\n",
       "      <td>0.0</td>\n",
       "      <td>0.0</td>\n",
       "      <td>0</td>\n",
       "      <td>0</td>\n",
       "      <td>0</td>\n",
       "      <td>0</td>\n",
       "      <td>0</td>\n",
       "      <td>0</td>\n",
       "      <td>1</td>\n",
       "      <td>0</td>\n",
       "      <td>0</td>\n",
       "      <td>1</td>\n",
       "      <td>0</td>\n",
       "      <td>1</td>\n",
       "      <td>0</td>\n",
       "      <td>0</td>\n",
       "    </tr>\n",
       "    <tr>\n",
       "      <th>3</th>\n",
       "      <td>0.333333</td>\n",
       "      <td>0.275516</td>\n",
       "      <td>1.0</td>\n",
       "      <td>1.0</td>\n",
       "      <td>0</td>\n",
       "      <td>0</td>\n",
       "      <td>0</td>\n",
       "      <td>0</td>\n",
       "      <td>0</td>\n",
       "      <td>0</td>\n",
       "      <td>1</td>\n",
       "      <td>0</td>\n",
       "      <td>0</td>\n",
       "      <td>1</td>\n",
       "      <td>0</td>\n",
       "      <td>1</td>\n",
       "      <td>0</td>\n",
       "      <td>0</td>\n",
       "    </tr>\n",
       "    <tr>\n",
       "      <th>4</th>\n",
       "      <td>0.000000</td>\n",
       "      <td>0.284913</td>\n",
       "      <td>0.0</td>\n",
       "      <td>0.0</td>\n",
       "      <td>0</td>\n",
       "      <td>0</td>\n",
       "      <td>0</td>\n",
       "      <td>1</td>\n",
       "      <td>0</td>\n",
       "      <td>0</td>\n",
       "      <td>0</td>\n",
       "      <td>0</td>\n",
       "      <td>0</td>\n",
       "      <td>1</td>\n",
       "      <td>0</td>\n",
       "      <td>1</td>\n",
       "      <td>0</td>\n",
       "      <td>0</td>\n",
       "    </tr>\n",
       "    <tr>\n",
       "      <th>...</th>\n",
       "      <td>...</td>\n",
       "      <td>...</td>\n",
       "      <td>...</td>\n",
       "      <td>...</td>\n",
       "      <td>...</td>\n",
       "      <td>...</td>\n",
       "      <td>...</td>\n",
       "      <td>...</td>\n",
       "      <td>...</td>\n",
       "      <td>...</td>\n",
       "      <td>...</td>\n",
       "      <td>...</td>\n",
       "      <td>...</td>\n",
       "      <td>...</td>\n",
       "      <td>...</td>\n",
       "      <td>...</td>\n",
       "      <td>...</td>\n",
       "      <td>...</td>\n",
       "    </tr>\n",
       "    <tr>\n",
       "      <th>1999</th>\n",
       "      <td>0.333333</td>\n",
       "      <td>0.154224</td>\n",
       "      <td>0.0</td>\n",
       "      <td>1.0</td>\n",
       "      <td>0</td>\n",
       "      <td>0</td>\n",
       "      <td>0</td>\n",
       "      <td>1</td>\n",
       "      <td>0</td>\n",
       "      <td>0</td>\n",
       "      <td>0</td>\n",
       "      <td>0</td>\n",
       "      <td>0</td>\n",
       "      <td>1</td>\n",
       "      <td>0</td>\n",
       "      <td>1</td>\n",
       "      <td>0</td>\n",
       "      <td>0</td>\n",
       "    </tr>\n",
       "    <tr>\n",
       "      <th>2000</th>\n",
       "      <td>0.000000</td>\n",
       "      <td>0.481352</td>\n",
       "      <td>0.0</td>\n",
       "      <td>0.0</td>\n",
       "      <td>0</td>\n",
       "      <td>0</td>\n",
       "      <td>0</td>\n",
       "      <td>0</td>\n",
       "      <td>0</td>\n",
       "      <td>1</td>\n",
       "      <td>0</td>\n",
       "      <td>0</td>\n",
       "      <td>0</td>\n",
       "      <td>1</td>\n",
       "      <td>0</td>\n",
       "      <td>1</td>\n",
       "      <td>0</td>\n",
       "      <td>0</td>\n",
       "    </tr>\n",
       "    <tr>\n",
       "      <th>2001</th>\n",
       "      <td>0.000000</td>\n",
       "      <td>0.418032</td>\n",
       "      <td>1.0</td>\n",
       "      <td>0.0</td>\n",
       "      <td>0</td>\n",
       "      <td>0</td>\n",
       "      <td>0</td>\n",
       "      <td>0</td>\n",
       "      <td>0</td>\n",
       "      <td>0</td>\n",
       "      <td>1</td>\n",
       "      <td>0</td>\n",
       "      <td>0</td>\n",
       "      <td>1</td>\n",
       "      <td>0</td>\n",
       "      <td>1</td>\n",
       "      <td>0</td>\n",
       "      <td>0</td>\n",
       "    </tr>\n",
       "    <tr>\n",
       "      <th>2002</th>\n",
       "      <td>0.333333</td>\n",
       "      <td>0.496777</td>\n",
       "      <td>0.0</td>\n",
       "      <td>0.0</td>\n",
       "      <td>0</td>\n",
       "      <td>0</td>\n",
       "      <td>0</td>\n",
       "      <td>0</td>\n",
       "      <td>1</td>\n",
       "      <td>0</td>\n",
       "      <td>0</td>\n",
       "      <td>0</td>\n",
       "      <td>0</td>\n",
       "      <td>1</td>\n",
       "      <td>0</td>\n",
       "      <td>1</td>\n",
       "      <td>0</td>\n",
       "      <td>0</td>\n",
       "    </tr>\n",
       "    <tr>\n",
       "      <th>2003</th>\n",
       "      <td>0.333333</td>\n",
       "      <td>0.175501</td>\n",
       "      <td>0.0</td>\n",
       "      <td>0.0</td>\n",
       "      <td>0</td>\n",
       "      <td>0</td>\n",
       "      <td>0</td>\n",
       "      <td>0</td>\n",
       "      <td>0</td>\n",
       "      <td>1</td>\n",
       "      <td>0</td>\n",
       "      <td>0</td>\n",
       "      <td>0</td>\n",
       "      <td>1</td>\n",
       "      <td>0</td>\n",
       "      <td>1</td>\n",
       "      <td>0</td>\n",
       "      <td>0</td>\n",
       "    </tr>\n",
       "  </tbody>\n",
       "</table>\n",
       "<p>2004 rows × 18 columns</p>\n",
       "</div>"
      ],
      "text/plain": [
       "            0         1    2    3   4   5   6   7   8   9   10  11  12  13  \\\n",
       "0     0.000000  0.491642  0.0  0.0   0   0   1   0   0   0   0   0   0   1   \n",
       "1     0.666667  0.031609  0.0  0.0   0   0   0   1   0   0   0   0   0   1   \n",
       "2     0.000000  0.137696  0.0  0.0   0   0   0   0   0   0   1   0   0   1   \n",
       "3     0.333333  0.275516  1.0  1.0   0   0   0   0   0   0   1   0   0   1   \n",
       "4     0.000000  0.284913  0.0  0.0   0   0   0   1   0   0   0   0   0   1   \n",
       "...        ...       ...  ...  ...  ..  ..  ..  ..  ..  ..  ..  ..  ..  ..   \n",
       "1999  0.333333  0.154224  0.0  1.0   0   0   0   1   0   0   0   0   0   1   \n",
       "2000  0.000000  0.481352  0.0  0.0   0   0   0   0   0   1   0   0   0   1   \n",
       "2001  0.000000  0.418032  1.0  0.0   0   0   0   0   0   0   1   0   0   1   \n",
       "2002  0.333333  0.496777  0.0  0.0   0   0   0   0   1   0   0   0   0   1   \n",
       "2003  0.333333  0.175501  0.0  0.0   0   0   0   0   0   1   0   0   0   1   \n",
       "\n",
       "      14  15  16  17  \n",
       "0      0   1   0   0  \n",
       "1      0   1   0   0  \n",
       "2      0   1   0   0  \n",
       "3      0   1   0   0  \n",
       "4      0   1   0   0  \n",
       "...   ..  ..  ..  ..  \n",
       "1999   0   1   0   0  \n",
       "2000   0   1   0   0  \n",
       "2001   0   1   0   0  \n",
       "2002   0   1   0   0  \n",
       "2003   0   1   0   0  \n",
       "\n",
       "[2004 rows x 18 columns]"
      ]
     },
     "execution_count": 210,
     "metadata": {},
     "output_type": "execute_result"
    }
   ],
   "source": [
    "train_final= pd.concat([pd.DataFrame(train_scaled), train_cat], axis=1, ignore_index=True)\n",
    "train_final"
   ]
  },
  {
   "cell_type": "code",
   "execution_count": 211,
   "id": "18d0641d",
   "metadata": {},
   "outputs": [
    {
     "data": {
      "text/html": [
       "<div>\n",
       "<style scoped>\n",
       "    .dataframe tbody tr th:only-of-type {\n",
       "        vertical-align: middle;\n",
       "    }\n",
       "\n",
       "    .dataframe tbody tr th {\n",
       "        vertical-align: top;\n",
       "    }\n",
       "\n",
       "    .dataframe thead th {\n",
       "        text-align: right;\n",
       "    }\n",
       "</style>\n",
       "<table border=\"1\" class=\"dataframe\">\n",
       "  <thead>\n",
       "    <tr style=\"text-align: right;\">\n",
       "      <th></th>\n",
       "      <th>0</th>\n",
       "      <th>1</th>\n",
       "      <th>2</th>\n",
       "      <th>3</th>\n",
       "      <th>4</th>\n",
       "      <th>5</th>\n",
       "      <th>6</th>\n",
       "      <th>7</th>\n",
       "      <th>8</th>\n",
       "      <th>9</th>\n",
       "      <th>10</th>\n",
       "      <th>11</th>\n",
       "      <th>12</th>\n",
       "      <th>13</th>\n",
       "      <th>14</th>\n",
       "      <th>15</th>\n",
       "      <th>16</th>\n",
       "      <th>17</th>\n",
       "    </tr>\n",
       "  </thead>\n",
       "  <tbody>\n",
       "    <tr>\n",
       "      <th>0</th>\n",
       "      <td>0.000000</td>\n",
       "      <td>0.356608</td>\n",
       "      <td>0.0</td>\n",
       "      <td>0.0</td>\n",
       "      <td>0</td>\n",
       "      <td>0</td>\n",
       "      <td>0</td>\n",
       "      <td>0</td>\n",
       "      <td>1</td>\n",
       "      <td>0</td>\n",
       "      <td>0</td>\n",
       "      <td>0</td>\n",
       "      <td>0</td>\n",
       "      <td>1</td>\n",
       "      <td>0</td>\n",
       "      <td>0</td>\n",
       "      <td>1</td>\n",
       "      <td>0</td>\n",
       "    </tr>\n",
       "    <tr>\n",
       "      <th>1</th>\n",
       "      <td>0.333333</td>\n",
       "      <td>0.153007</td>\n",
       "      <td>1.0</td>\n",
       "      <td>0.0</td>\n",
       "      <td>0</td>\n",
       "      <td>0</td>\n",
       "      <td>0</td>\n",
       "      <td>1</td>\n",
       "      <td>0</td>\n",
       "      <td>0</td>\n",
       "      <td>0</td>\n",
       "      <td>0</td>\n",
       "      <td>0</td>\n",
       "      <td>1</td>\n",
       "      <td>0</td>\n",
       "      <td>1</td>\n",
       "      <td>0</td>\n",
       "      <td>0</td>\n",
       "    </tr>\n",
       "    <tr>\n",
       "      <th>2</th>\n",
       "      <td>0.000000</td>\n",
       "      <td>0.264091</td>\n",
       "      <td>0.0</td>\n",
       "      <td>0.0</td>\n",
       "      <td>0</td>\n",
       "      <td>0</td>\n",
       "      <td>1</td>\n",
       "      <td>0</td>\n",
       "      <td>0</td>\n",
       "      <td>0</td>\n",
       "      <td>0</td>\n",
       "      <td>0</td>\n",
       "      <td>0</td>\n",
       "      <td>1</td>\n",
       "      <td>0</td>\n",
       "      <td>1</td>\n",
       "      <td>0</td>\n",
       "      <td>0</td>\n",
       "    </tr>\n",
       "    <tr>\n",
       "      <th>3</th>\n",
       "      <td>1.000000</td>\n",
       "      <td>0.074581</td>\n",
       "      <td>0.0</td>\n",
       "      <td>0.0</td>\n",
       "      <td>0</td>\n",
       "      <td>0</td>\n",
       "      <td>0</td>\n",
       "      <td>1</td>\n",
       "      <td>0</td>\n",
       "      <td>0</td>\n",
       "      <td>0</td>\n",
       "      <td>0</td>\n",
       "      <td>0</td>\n",
       "      <td>1</td>\n",
       "      <td>0</td>\n",
       "      <td>1</td>\n",
       "      <td>0</td>\n",
       "      <td>0</td>\n",
       "    </tr>\n",
       "    <tr>\n",
       "      <th>4</th>\n",
       "      <td>0.333333</td>\n",
       "      <td>0.270684</td>\n",
       "      <td>0.0</td>\n",
       "      <td>0.0</td>\n",
       "      <td>0</td>\n",
       "      <td>0</td>\n",
       "      <td>0</td>\n",
       "      <td>0</td>\n",
       "      <td>0</td>\n",
       "      <td>0</td>\n",
       "      <td>1</td>\n",
       "      <td>0</td>\n",
       "      <td>0</td>\n",
       "      <td>1</td>\n",
       "      <td>0</td>\n",
       "      <td>1</td>\n",
       "      <td>0</td>\n",
       "      <td>0</td>\n",
       "    </tr>\n",
       "    <tr>\n",
       "      <th>...</th>\n",
       "      <td>...</td>\n",
       "      <td>...</td>\n",
       "      <td>...</td>\n",
       "      <td>...</td>\n",
       "      <td>...</td>\n",
       "      <td>...</td>\n",
       "      <td>...</td>\n",
       "      <td>...</td>\n",
       "      <td>...</td>\n",
       "      <td>...</td>\n",
       "      <td>...</td>\n",
       "      <td>...</td>\n",
       "      <td>...</td>\n",
       "      <td>...</td>\n",
       "      <td>...</td>\n",
       "      <td>...</td>\n",
       "      <td>...</td>\n",
       "      <td>...</td>\n",
       "    </tr>\n",
       "    <tr>\n",
       "      <th>855</th>\n",
       "      <td>1.000000</td>\n",
       "      <td>0.103049</td>\n",
       "      <td>0.0</td>\n",
       "      <td>0.0</td>\n",
       "      <td>0</td>\n",
       "      <td>0</td>\n",
       "      <td>0</td>\n",
       "      <td>1</td>\n",
       "      <td>0</td>\n",
       "      <td>0</td>\n",
       "      <td>0</td>\n",
       "      <td>0</td>\n",
       "      <td>0</td>\n",
       "      <td>1</td>\n",
       "      <td>0</td>\n",
       "      <td>1</td>\n",
       "      <td>0</td>\n",
       "      <td>0</td>\n",
       "    </tr>\n",
       "    <tr>\n",
       "      <th>856</th>\n",
       "      <td>1.000000</td>\n",
       "      <td>0.474837</td>\n",
       "      <td>0.0</td>\n",
       "      <td>0.0</td>\n",
       "      <td>0</td>\n",
       "      <td>0</td>\n",
       "      <td>0</td>\n",
       "      <td>1</td>\n",
       "      <td>0</td>\n",
       "      <td>0</td>\n",
       "      <td>0</td>\n",
       "      <td>0</td>\n",
       "      <td>0</td>\n",
       "      <td>1</td>\n",
       "      <td>0</td>\n",
       "      <td>1</td>\n",
       "      <td>0</td>\n",
       "      <td>0</td>\n",
       "    </tr>\n",
       "    <tr>\n",
       "      <th>857</th>\n",
       "      <td>0.333333</td>\n",
       "      <td>0.248944</td>\n",
       "      <td>1.0</td>\n",
       "      <td>1.0</td>\n",
       "      <td>0</td>\n",
       "      <td>0</td>\n",
       "      <td>0</td>\n",
       "      <td>1</td>\n",
       "      <td>0</td>\n",
       "      <td>0</td>\n",
       "      <td>0</td>\n",
       "      <td>0</td>\n",
       "      <td>0</td>\n",
       "      <td>1</td>\n",
       "      <td>0</td>\n",
       "      <td>1</td>\n",
       "      <td>0</td>\n",
       "      <td>0</td>\n",
       "    </tr>\n",
       "    <tr>\n",
       "      <th>858</th>\n",
       "      <td>1.000000</td>\n",
       "      <td>0.280454</td>\n",
       "      <td>1.0</td>\n",
       "      <td>1.0</td>\n",
       "      <td>0</td>\n",
       "      <td>0</td>\n",
       "      <td>0</td>\n",
       "      <td>1</td>\n",
       "      <td>0</td>\n",
       "      <td>0</td>\n",
       "      <td>0</td>\n",
       "      <td>0</td>\n",
       "      <td>0</td>\n",
       "      <td>1</td>\n",
       "      <td>0</td>\n",
       "      <td>1</td>\n",
       "      <td>0</td>\n",
       "      <td>0</td>\n",
       "    </tr>\n",
       "    <tr>\n",
       "      <th>859</th>\n",
       "      <td>0.666667</td>\n",
       "      <td>0.274721</td>\n",
       "      <td>0.0</td>\n",
       "      <td>1.0</td>\n",
       "      <td>0</td>\n",
       "      <td>0</td>\n",
       "      <td>0</td>\n",
       "      <td>1</td>\n",
       "      <td>0</td>\n",
       "      <td>0</td>\n",
       "      <td>0</td>\n",
       "      <td>0</td>\n",
       "      <td>0</td>\n",
       "      <td>1</td>\n",
       "      <td>0</td>\n",
       "      <td>1</td>\n",
       "      <td>0</td>\n",
       "      <td>0</td>\n",
       "    </tr>\n",
       "  </tbody>\n",
       "</table>\n",
       "<p>860 rows × 18 columns</p>\n",
       "</div>"
      ],
      "text/plain": [
       "           0         1    2    3   4   5   6   7   8   9   10  11  12  13  14  \\\n",
       "0    0.000000  0.356608  0.0  0.0   0   0   0   0   1   0   0   0   0   1   0   \n",
       "1    0.333333  0.153007  1.0  0.0   0   0   0   1   0   0   0   0   0   1   0   \n",
       "2    0.000000  0.264091  0.0  0.0   0   0   1   0   0   0   0   0   0   1   0   \n",
       "3    1.000000  0.074581  0.0  0.0   0   0   0   1   0   0   0   0   0   1   0   \n",
       "4    0.333333  0.270684  0.0  0.0   0   0   0   0   0   0   1   0   0   1   0   \n",
       "..        ...       ...  ...  ...  ..  ..  ..  ..  ..  ..  ..  ..  ..  ..  ..   \n",
       "855  1.000000  0.103049  0.0  0.0   0   0   0   1   0   0   0   0   0   1   0   \n",
       "856  1.000000  0.474837  0.0  0.0   0   0   0   1   0   0   0   0   0   1   0   \n",
       "857  0.333333  0.248944  1.0  1.0   0   0   0   1   0   0   0   0   0   1   0   \n",
       "858  1.000000  0.280454  1.0  1.0   0   0   0   1   0   0   0   0   0   1   0   \n",
       "859  0.666667  0.274721  0.0  1.0   0   0   0   1   0   0   0   0   0   1   0   \n",
       "\n",
       "     15  16  17  \n",
       "0     0   1   0  \n",
       "1     1   0   0  \n",
       "2     1   0   0  \n",
       "3     1   0   0  \n",
       "4     1   0   0  \n",
       "..   ..  ..  ..  \n",
       "855   1   0   0  \n",
       "856   1   0   0  \n",
       "857   1   0   0  \n",
       "858   1   0   0  \n",
       "859   1   0   0  \n",
       "\n",
       "[860 rows x 18 columns]"
      ]
     },
     "execution_count": 211,
     "metadata": {},
     "output_type": "execute_result"
    }
   ],
   "source": [
    "test_final= pd.concat([pd.DataFrame(test_scaled), test_cat], axis=1, ignore_index=True)\n",
    "test_final"
   ]
  },
  {
   "cell_type": "markdown",
   "id": "2f59f1af",
   "metadata": {},
   "source": [
    "### (4) 선형 회귀 학습"
   ]
  },
  {
   "cell_type": "code",
   "execution_count": 212,
   "id": "8bf87697",
   "metadata": {},
   "outputs": [
    {
     "data": {
      "text/plain": [
       "LinearRegression()"
      ]
     },
     "execution_count": 212,
     "metadata": {},
     "output_type": "execute_result"
    }
   ],
   "source": [
    "model= LinearRegression()\n",
    "model.fit(train_final, y_train)"
   ]
  },
  {
   "cell_type": "code",
   "execution_count": 213,
   "id": "a87f1291",
   "metadata": {},
   "outputs": [
    {
     "data": {
      "text/plain": [
       "0.6160252283256753"
      ]
     },
     "execution_count": 213,
     "metadata": {},
     "output_type": "execute_result"
    }
   ],
   "source": [
    "model.score(train_final, y_train)"
   ]
  },
  {
   "cell_type": "code",
   "execution_count": 214,
   "id": "c307a464",
   "metadata": {},
   "outputs": [
    {
     "data": {
      "text/plain": [
       "0.6350232660851427"
      ]
     },
     "execution_count": 214,
     "metadata": {},
     "output_type": "execute_result"
    }
   ],
   "source": [
    "model.score(test_final, y_test)"
   ]
  },
  {
   "cell_type": "code",
   "execution_count": 216,
   "id": "96223c60",
   "metadata": {},
   "outputs": [
    {
     "data": {
      "text/plain": [
       "76.38394955892208"
      ]
     },
     "execution_count": 216,
     "metadata": {},
     "output_type": "execute_result"
    }
   ],
   "source": [
    "#### 오차를 이용한 성능 평가\n",
    "pred= model.predict(test_final)\n",
    "mse= mean_squared_error(y_test, pred)\n",
    "np.sqrt(mse)"
   ]
  },
  {
   "cell_type": "code",
   "execution_count": null,
   "id": "c39f523f",
   "metadata": {},
   "outputs": [],
   "source": []
  }
 ],
 "metadata": {
  "kernelspec": {
   "display_name": "Python 3 (ipykernel)",
   "language": "python",
   "name": "python3"
  },
  "language_info": {
   "codemirror_mode": {
    "name": "ipython",
    "version": 3
   },
   "file_extension": ".py",
   "mimetype": "text/x-python",
   "name": "python",
   "nbconvert_exporter": "python",
   "pygments_lexer": "ipython3",
   "version": "3.9.13"
  }
 },
 "nbformat": 4,
 "nbformat_minor": 5
}
