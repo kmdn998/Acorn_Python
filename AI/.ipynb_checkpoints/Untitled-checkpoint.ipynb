{
 "cells": [
  {
   "cell_type": "code",
   "execution_count": 3,
   "id": "087de172",
   "metadata": {},
   "outputs": [
    {
     "name": "stdout",
     "output_type": "stream",
     "text": [
      "b'<?xml version=\"1.0\" encoding=\"UTF-8\" standalone=\"yes\" ?>\\n<response>\\n<header>\\n<result_Code>200</result_Code>\\n<result_Msg>OK</result_Msg>\\n</header>\\n<body>\\n<rcdcnt>20</rcdcnt><page_No>1</page_No>\\n<total_Count>104</total_Count>\\n<items>\\n<item>\\n<no>1</no>\\n<fd_Code>D011001</fd_Code>\\n<upper_Fd_Grupp_Nm>\\xeb\\xb0\\xa5\\xeb\\xa5\\x98</upper_Fd_Grupp_Nm>\\n<fd_Grupp_Nm>\\xec\\x8c\\x80\\xeb\\xb0\\xa5</fd_Grupp_Nm>\\n<fd_Nm>\\xeb\\x88\\x8c\\xec\\x9d\\x80\\xeb\\xb0\\xa5</fd_Nm>\\n<fd_Wgh>440</fd_Wgh>\\n<food_Cnt>1</food_Cnt>\\n<image_Address></image_Address>\\n</item>\\n<item>\\n<no>2</no>\\n<fd_Code>D011002</fd_Code>\\n<upper_Fd_Grupp_Nm>\\xeb\\xb0\\xa5\\xeb\\xa5\\x98</upper_Fd_Grupp_Nm>\\n<fd_Grupp_Nm>\\xec\\x8c\\x80\\xeb\\xb0\\xa5</fd_Grupp_Nm>\\n<fd_Nm>\\xec\\x8c\\x80\\xeb\\xb0\\xa5</fd_Nm>\\n<fd_Wgh>210</fd_Wgh>\\n<food_Cnt>1</food_Cnt>\\n<image_Address></image_Address>\\n</item>\\n<item>\\n<no>3</no>\\n<fd_Code>D011003</fd_Code>\\n<upper_Fd_Grupp_Nm>\\xeb\\xb0\\xa5\\xeb\\xa5\\x98</upper_Fd_Grupp_Nm>\\n<fd_Grupp_Nm>\\xec\\x8c\\x80\\xeb\\xb0\\xa5</fd_Grupp_Nm>\\n<fd_Nm>\\xec\\xb0\\xb0\\xeb\\xb0\\xa5</fd_Nm>\\n<fd_Wgh>210</fd_Wgh>\\n<food_Cnt>1</food_Cnt>\\n<image_Address></image_Address>\\n</item>\\n<item>\\n<no>4</no>\\n<fd_Code>D011004</fd_Code>\\n<upper_Fd_Grupp_Nm>\\xeb\\xb0\\xa5\\xeb\\xa5\\x98</upper_Fd_Grupp_Nm>\\n<fd_Grupp_Nm>\\xec\\x8c\\x80\\xeb\\xb0\\xa5</fd_Grupp_Nm>\\n<fd_Nm>\\xed\\x98\\x84\\xeb\\xaf\\xb8\\xeb\\xb0\\xa5</fd_Nm>\\n<fd_Wgh>210</fd_Wgh>\\n<food_Cnt>1</food_Cnt>\\n<image_Address></image_Address>\\n</item>\\n<item>\\n<no>5</no>\\n<fd_Code>D012001</fd_Code>\\n<upper_Fd_Grupp_Nm>\\xeb\\xb0\\xa5\\xeb\\xa5\\x98</upper_Fd_Grupp_Nm>\\n<fd_Grupp_Nm>\\xec\\x9e\\xa1\\xea\\xb3\\xa1\\xeb\\xb0\\xa5\\xeb\\xa5\\x98</fd_Grupp_Nm>\\n<fd_Nm>\\xea\\xb2\\x80\\xec\\xa0\\x95\\xec\\xbd\\xa9\\xeb\\xb0\\xa5</fd_Nm>\\n<fd_Wgh>200</fd_Wgh>\\n<food_Cnt>2</food_Cnt>\\n<image_Address></image_Address>\\n</item>\\n<item>\\n<no>6</no>\\n<fd_Code>D012002</fd_Code>\\n<upper_Fd_Grupp_Nm>\\xeb\\xb0\\xa5\\xeb\\xa5\\x98</upper_Fd_Grupp_Nm>\\n<fd_Grupp_Nm>\\xec\\x9e\\xa1\\xea\\xb3\\xa1\\xeb\\xb0\\xa5\\xeb\\xa5\\x98</fd_Grupp_Nm>\\n<fd_Nm>\\xea\\xb8\\xb0\\xec\\x9e\\xa5\\xeb\\xb0\\xa5</fd_Nm>\\n<fd_Wgh>205</fd_Wgh>\\n<food_Cnt>2</food_Cnt>\\n<image_Address></image_Address>\\n</item>\\n<item>\\n<no>7</no>\\n<fd_Code>D012003</fd_Code>\\n<upper_Fd_Grupp_Nm>\\xeb\\xb0\\xa5\\xeb\\xa5\\x98</upper_Fd_Grupp_Nm>\\n<fd_Grupp_Nm>\\xec\\x9e\\xa1\\xea\\xb3\\xa1\\xeb\\xb0\\xa5\\xeb\\xa5\\x98</fd_Grupp_Nm>\\n<fd_Nm>\\xeb\\x85\\xb9\\xeb\\x91\\x90\\xeb\\xb0\\xa5</fd_Nm>\\n<fd_Wgh>210</fd_Wgh>\\n<food_Cnt>3</food_Cnt>\\n<image_Address></image_Address>\\n</item>\\n<item>\\n<no>8</no>\\n<fd_Code>D012004</fd_Code>\\n<upper_Fd_Grupp_Nm>\\xeb\\xb0\\xa5\\xeb\\xa5\\x98</upper_Fd_Grupp_Nm>\\n<fd_Grupp_Nm>\\xec\\x9e\\xa1\\xea\\xb3\\xa1\\xeb\\xb0\\xa5\\xeb\\xa5\\x98</fd_Grupp_Nm>\\n<fd_Nm>\\xeb\\x95\\x85\\xec\\xbd\\xa9\\xeb\\xb0\\xa5</fd_Nm>\\n<fd_Wgh>200</fd_Wgh>\\n<food_Cnt>2</food_Cnt>\\n<image_Address></image_Address>\\n</item>\\n<item>\\n<no>9</no>\\n<fd_Code>D012005</fd_Code>\\n<upper_Fd_Grupp_Nm>\\xeb\\xb0\\xa5\\xeb\\xa5\\x98</upper_Fd_Grupp_Nm>\\n<fd_Grupp_Nm>\\xec\\x9e\\xa1\\xea\\xb3\\xa1\\xeb\\xb0\\xa5\\xeb\\xa5\\x98</fd_Grupp_Nm>\\n<fd_Nm>\\xeb\\xb0\\xa4\\xeb\\xb0\\xa5</fd_Nm>\\n<fd_Wgh>210</fd_Wgh>\\n<food_Cnt>2</food_Cnt>\\n<image_Address></image_Address>\\n</item>\\n<item>\\n<no>10</no>\\n<fd_Code>D012006</fd_Code>\\n<upper_Fd_Grupp_Nm>\\xeb\\xb0\\xa5\\xeb\\xa5\\x98</upper_Fd_Grupp_Nm>\\n<fd_Grupp_Nm>\\xec\\x9e\\xa1\\xea\\xb3\\xa1\\xeb\\xb0\\xa5\\xeb\\xa5\\x98</fd_Grupp_Nm>\\n<fd_Nm>\\xeb\\xb3\\xb4\\xeb\\xa6\\xac\\xeb\\xb0\\xa5</fd_Nm>\\n<fd_Wgh>200</fd_Wgh>\\n<food_Cnt>2</food_Cnt>\\n<image_Address></image_Address>\\n</item>\\n<item>\\n<no>11</no>\\n<fd_Code>D012007</fd_Code>\\n<upper_Fd_Grupp_Nm>\\xeb\\xb0\\xa5\\xeb\\xa5\\x98</upper_Fd_Grupp_Nm>\\n<fd_Grupp_Nm>\\xec\\x9e\\xa1\\xea\\xb3\\xa1\\xeb\\xb0\\xa5\\xeb\\xa5\\x98</fd_Grupp_Nm>\\n<fd_Nm>\\xeb\\xb3\\xb4\\xeb\\xa6\\xac\\xeb\\xb0\\xa5(\\xea\\xb0\\x95\\xeb\\x82\\xad\\xec\\xbd\\xa9)</fd_Nm>\\n<fd_Wgh>210</fd_Wgh>\\n<food_Cnt>3</food_Cnt>\\n<image_Address></image_Address>\\n</item>\\n<item>\\n<no>12</no>\\n<fd_Code>D012008</fd_Code>\\n<upper_Fd_Grupp_Nm>\\xeb\\xb0\\xa5\\xeb\\xa5\\x98</upper_Fd_Grupp_Nm>\\n<fd_Grupp_Nm>\\xec\\x9e\\xa1\\xea\\xb3\\xa1\\xeb\\xb0\\xa5\\xeb\\xa5\\x98</fd_Grupp_Nm>\\n<fd_Nm>\\xeb\\xb3\\xb4\\xeb\\xa6\\xac\\xeb\\xb0\\xa5(\\xec\\xa1\\xb0)</fd_Nm>\\n<fd_Wgh>200</fd_Wgh>\\n<food_Cnt>3</food_Cnt>\\n<image_Address></image_Address>\\n</item>\\n<item>\\n<no>13</no>\\n<fd_Code>D012009</fd_Code>\\n<upper_Fd_Grupp_Nm>\\xeb\\xb0\\xa5\\xeb\\xa5\\x98</upper_Fd_Grupp_Nm>\\n<fd_Grupp_Nm>\\xec\\x9e\\xa1\\xea\\xb3\\xa1\\xeb\\xb0\\xa5\\xeb\\xa5\\x98</fd_Grupp_Nm>\\n<fd_Nm>\\xeb\\xb3\\xb4\\xeb\\xa6\\xac\\xeb\\xb0\\xa5(\\xed\\x8c\\xa5)</fd_Nm>\\n<fd_Wgh>200</fd_Wgh>\\n<food_Cnt>3</food_Cnt>\\n<image_Address></image_Address>\\n</item>\\n<item>\\n<no>14</no>\\n<fd_Code>D012010</fd_Code>\\n<upper_Fd_Grupp_Nm>\\xeb\\xb0\\xa5\\xeb\\xa5\\x98</upper_Fd_Grupp_Nm>\\n<fd_Grupp_Nm>\\xec\\x9e\\xa1\\xea\\xb3\\xa1\\xeb\\xb0\\xa5\\xeb\\xa5\\x98</fd_Grupp_Nm>\\n<fd_Nm>\\xec\\x88\\x98\\xec\\x88\\x98\\xeb\\xb0\\xa5</fd_Nm>\\n<fd_Wgh>200</fd_Wgh>\\n<food_Cnt>2</food_Cnt>\\n<image_Address></image_Address>\\n</item>\\n<item>\\n<no>15</no>\\n<fd_Code>D012011</fd_Code>\\n<upper_Fd_Grupp_Nm>\\xeb\\xb0\\xa5\\xeb\\xa5\\x98</upper_Fd_Grupp_Nm>\\n<fd_Grupp_Nm>\\xec\\x9e\\xa1\\xea\\xb3\\xa1\\xeb\\xb0\\xa5\\xeb\\xa5\\x98</fd_Grupp_Nm>\\n<fd_Nm>\\xec\\x91\\xa5\\xeb\\xb0\\xa5</fd_Nm>\\n<fd_Wgh>230</fd_Wgh>\\n<food_Cnt>2</food_Cnt>\\n<image_Address></image_Address>\\n</item>\\n<item>\\n<no>16</no>\\n<fd_Code>D012013</fd_Code>\\n<upper_Fd_Grupp_Nm>\\xeb\\xb0\\xa5\\xeb\\xa5\\x98</upper_Fd_Grupp_Nm>\\n<fd_Grupp_Nm>\\xec\\x9e\\xa1\\xea\\xb3\\xa1\\xeb\\xb0\\xa5\\xeb\\xa5\\x98</fd_Grupp_Nm>\\n<fd_Nm>\\xec\\x98\\xa4\\xea\\xb3\\xa1\\xeb\\xb0\\xa5</fd_Nm>\\n<fd_Wgh>206</fd_Wgh>\\n<food_Cnt>8</food_Cnt>\\n<image_Address></image_Address>\\n</item>\\n<item>\\n<no>17</no>\\n<fd_Code>D012014</fd_Code>\\n<upper_Fd_Grupp_Nm>\\xeb\\xb0\\xa5\\xeb\\xa5\\x98</upper_Fd_Grupp_Nm>\\n<fd_Grupp_Nm>\\xec\\x9e\\xa1\\xea\\xb3\\xa1\\xeb\\xb0\\xa5\\xeb\\xa5\\x98</fd_Grupp_Nm>\\n<fd_Nm>\\xec\\x98\\xa5\\xec\\x88\\x98\\xec\\x88\\x98\\xeb\\xb0\\xa5</fd_Nm>\\n<fd_Wgh>210</fd_Wgh>\\n<food_Cnt>2</food_Cnt>\\n<image_Address></image_Address>\\n</item>\\n<item>\\n<no>18</no>\\n<fd_Code>D012015</fd_Code>\\n<upper_Fd_Grupp_Nm>\\xeb\\xb0\\xa5\\xeb\\xa5\\x98</upper_Fd_Grupp_Nm>\\n<fd_Grupp_Nm>\\xec\\x9e\\xa1\\xea\\xb3\\xa1\\xeb\\xb0\\xa5\\xeb\\xa5\\x98</fd_Grupp_Nm>\\n<fd_Nm>\\xec\\x99\\x84\\xeb\\x91\\x90\\xec\\xbd\\xa9\\xeb\\xb0\\xa5</fd_Nm>\\n<fd_Wgh>200</fd_Wgh>\\n<food_Cnt>3</food_Cnt>\\n<image_Address></image_Address>\\n</item>\\n<item>\\n<no>19</no>\\n<fd_Code>D012016</fd_Code>\\n<upper_Fd_Grupp_Nm>\\xeb\\xb0\\xa5\\xeb\\xa5\\x98</upper_Fd_Grupp_Nm>\\n<fd_Grupp_Nm>\\xec\\x9e\\xa1\\xea\\xb3\\xa1\\xeb\\xb0\\xa5\\xeb\\xa5\\x98</fd_Grupp_Nm>\\n<fd_Nm>\\xec\\x9c\\xa8\\xeb\\xac\\xb4\\xeb\\xb0\\xa5</fd_Nm>\\n<fd_Wgh>200</fd_Wgh>\\n<food_Cnt>3</food_Cnt>\\n<image_Address></image_Address>\\n</item>\\n<item>\\n<no>20</no>\\n<fd_Code>D012017</fd_Code>\\n<upper_Fd_Grupp_Nm>\\xeb\\xb0\\xa5\\xeb\\xa5\\x98</upper_Fd_Grupp_Nm>\\n<fd_Grupp_Nm>\\xec\\x9e\\xa1\\xea\\xb3\\xa1\\xeb\\xb0\\xa5\\xeb\\xa5\\x98</fd_Grupp_Nm>\\n<fd_Nm>\\xec\\x9e\\xa1\\xea\\xb3\\xa1\\xeb\\xb0\\xa5(\\xea\\xb0\\x95\\xeb\\x82\\xad\\xec\\xbd\\xa9)</fd_Nm>\\n<fd_Wgh>208</fd_Wgh>\\n<food_Cnt>3</food_Cnt>\\n<image_Address></image_Address>\\n</item>\\n</items>\\n</body>\\n</response>\\n'\n"
     ]
    }
   ],
   "source": [
    "import requests\n",
    "\n",
    "url = 'http://apis.data.go.kr/1390802/AgriFood/FdImage/getKoreanFoodFdImageList'\n",
    "params ={'serviceKey' : 'vi6hic5pCsyqWr8mQKDxBziYIshMlJz1QQkaqH3yT+vEGJg5t0UtHZECdlPa7o7kXb+R0rENBKyY00vG2P5SqQ==', \n",
    "         'service_Type' : 'xml', 'Page_No' : '1', 'Page_Size' : '20', 'food_Name' : '밥' }\n",
    "\n",
    "response = requests.get(url, params=params)\n",
    "print(response.content)"
   ]
  },
  {
   "cell_type": "code",
   "execution_count": 2,
   "id": "9e8f9c09",
   "metadata": {},
   "outputs": [
    {
     "data": {
      "text/plain": [
       "b'<OpenAPI_ServiceResponse>\\n\\t<cmmMsgHeader>\\n\\t\\t<errMsg>SERVICE ERROR</errMsg>\\n\\t\\t<returnAuthMsg>NO_OPENAPI_SERVICE_ERROR</returnAuthMsg>\\n\\t\\t<returnReasonCode>12</returnReasonCode>\\n\\t</cmmMsgHeader>\\n</OpenAPI_ServiceResponse>'"
      ]
     },
     "execution_count": 2,
     "metadata": {},
     "output_type": "execute_result"
    }
   ],
   "source": [
    "response.content"
   ]
  },
  {
   "cell_type": "code",
   "execution_count": 35,
   "id": "b1ac7c1a",
   "metadata": {},
   "outputs": [
    {
     "name": "stdout",
     "output_type": "stream",
     "text": [
      "<?xml version=\"1.0\" encoding=\"UTF-8\" standalone=\"yes\" ?>\n",
      "<response>\n",
      "<header>\n",
      "<result_Code>200</result_Code>\n",
      "<result_Msg>OK</result_Msg>\n",
      "</header>\n",
      "<body>\n",
      "<rcdcnt>20</rcdcnt><page_No>1</page_No>\n",
      "<total_Count>2</total_Count>\n",
      "<items>\n",
      "<item>\n",
      "<no>1</no>\n",
      "<fd_Code>D065021</fd_Code>\n",
      "<upper_Fd_Grupp_Nm>찌개류</upper_Fd_Grupp_Nm>\n",
      "<fd_Grupp_Nm>기타찌개류</fd_Grupp_Nm>\n",
      "<fd_Nm>순두부찌개</fd_Nm>\n",
      "<fd_Wgh>363.1</fd_Wgh>\n",
      "<food_Cnt>12</food_Cnt>\n",
      "<image_Address>http://www.nongsaro.go.kr/cms_contents/mgnNew/978-89-480-1254-5/978-89-480-1254-5_A_017.jpg</image_Address>\n",
      "</item>\n",
      "<item>\n",
      "<no>2</no>\n",
      "<fd_Code>D180254</fd_Code>\n",
      "<upper_Fd_Grupp_Nm>장류</upper_Fd_Grupp_Nm>\n",
      "<fd_Grupp_Nm>양념류</fd_Grupp_Nm>\n",
      "<fd_Nm>양념장(순두부찌개)</fd_Nm>\n",
      "<fd_Wgh>60</fd_Wgh>\n",
      "<food_Cnt>4</food_Cnt>\n",
      "<image_Address></image_Address>\n",
      "</item>\n",
      "</items>\n",
      "</body>\n",
      "</response>\n",
      "\n"
     ]
    }
   ],
   "source": [
    "import requests\n",
    "# import decode\n",
    "\n",
    "url = 'http://apis.data.go.kr/1390802/AgriFood/FdImage/getKoreanFoodFdImageList'\n",
    "params ={'serviceKey' : 'vi6hic5pCsyqWr8mQKDxBziYIshMlJz1QQkaqH3yT+vEGJg5t0UtHZECdlPa7o7kXb+R0rENBKyY00vG2P5SqQ==',\n",
    "         'service_Type' : 'xml', 'Page_No' : '1', 'Page_Size' : '20', 'food_Name' : '순두부찌개' }\n",
    "\n",
    "response = requests.get(url, params=params)\n",
    "print(response.content.decode('utf-8'))"
   ]
  },
  {
   "cell_type": "code",
   "execution_count": null,
   "id": "7300233f",
   "metadata": {},
   "outputs": [],
   "source": []
  }
 ],
 "metadata": {
  "kernelspec": {
   "display_name": "Python 3 (ipykernel)",
   "language": "python",
   "name": "python3"
  },
  "language_info": {
   "codemirror_mode": {
    "name": "ipython",
    "version": 3
   },
   "file_extension": ".py",
   "mimetype": "text/x-python",
   "name": "python",
   "nbconvert_exporter": "python",
   "pygments_lexer": "ipython3",
   "version": "3.9.13"
  }
 },
 "nbformat": 4,
 "nbformat_minor": 5
}
