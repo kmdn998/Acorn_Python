{
 "cells": [
  {
   "cell_type": "markdown",
   "metadata": {
    "id": "6cT03xXCOhBd"
   },
   "source": [
    "## 경로설정"
   ]
  },
  {
   "cell_type": "code",
   "execution_count": 17,
   "metadata": {
    "id": "mDFg-QijCa-d"
   },
   "outputs": [],
   "source": [
    "import os\n",
    "\n",
    "ROOT_DIR= 'content'\n",
    "YOLOv5_ROOT_DIR= os.path.join(ROOT_DIR, 'yolov5')\n",
    "\n",
    "### Custom Data\n",
    "DATA_ROOT_DIR= os.path.join(ROOT_DIR, 'Mask_Data')"
   ]
  },
  {
   "cell_type": "markdown",
   "metadata": {
    "id": "LzXkMLMKOllA"
   },
   "source": [
    "## YOLO source 가져오기"
   ]
  },
  {
   "cell_type": "code",
   "execution_count": 11,
   "metadata": {
    "colab": {
     "base_uri": "https://localhost:8080/"
    },
    "id": "pkbZG4xJChvM",
    "outputId": "d8b4e00b-91ae-4123-d4a8-5823f20f6f00"
   },
   "outputs": [
    {
     "name": "stderr",
     "output_type": "stream",
     "text": [
      "스위치가 틀립니다 - \"content\\yolov5\".\n"
     ]
    }
   ],
   "source": [
    "!rmdir {YOLOv5_ROOT_DIR}"
   ]
  },
  {
   "cell_type": "code",
   "execution_count": 6,
   "metadata": {},
   "outputs": [
    {
     "name": "stderr",
     "output_type": "stream",
     "text": [
      "지정된 경로를 찾을 수 없습니다.\n",
      "fatal: destination path 'yolov5' already exists and is not an empty directory.\n"
     ]
    }
   ],
   "source": [
    "!cd {ROOT_DIR}"
   ]
  },
  {
   "cell_type": "code",
   "execution_count": null,
   "metadata": {},
   "outputs": [],
   "source": [
    "!git clone https://github.com/ultralytics/yolov5"
   ]
  },
  {
   "cell_type": "markdown",
   "metadata": {
    "id": "4IAa8tDXOpHu"
   },
   "source": [
    "## YOLO 필수 라이브러리설치"
   ]
  },
  {
   "cell_type": "code",
   "execution_count": 8,
   "metadata": {
    "colab": {
     "base_uri": "https://localhost:8080/"
    },
    "id": "Hb8vpN9BCkVl",
    "outputId": "4c942c64-739c-4d8a-f212-4201bf6e7de7"
   },
   "outputs": [
    {
     "name": "stderr",
     "output_type": "stream",
     "text": [
      "ERROR: Could not open requirements file: [Errno 2] No such file or directory: '/content\\\\yolov5\\\\requirements.txt'\n"
     ]
    }
   ],
   "source": [
    "!pip install -r {os.path.join(YOLOv5_ROOT_DIR, 'requirements.txt')}"
   ]
  },
  {
   "cell_type": "markdown",
   "metadata": {
    "id": "Ik9eEw82Otjk"
   },
   "source": [
    "## pre-trained model 다운로드"
   ]
  },
  {
   "cell_type": "code",
   "execution_count": 4,
   "metadata": {
    "colab": {
     "base_uri": "https://localhost:8080/"
    },
    "id": "lM2CWJRJC_H7",
    "outputId": "fbc5a30f-8666-422a-fda9-c4be3bcdb370"
   },
   "outputs": [
    {
     "name": "stderr",
     "output_type": "stream",
     "text": [
      "'wget'은(는) 내부 또는 외부 명령, 실행할 수 있는 프로그램, 또는\n",
      "배치 파일이 아닙니다.\n"
     ]
    }
   ],
   "source": [
    " !wget -P /content/yolov5/ https://github.com/ultralytics/yolov5/releases/download/v6.0/yolov5s.pt"
   ]
  },
  {
   "cell_type": "markdown",
   "metadata": {
    "id": "OicDxWw9Ox4k"
   },
   "source": [
    "## Custom Data 준비"
   ]
  },
  {
   "cell_type": "code",
   "execution_count": 45,
   "metadata": {
    "colab": {
     "base_uri": "https://localhost:8080/"
    },
    "id": "iH9sUBUQhsTn",
    "outputId": "6cc1e4bb-3ff8-479d-94af-b20cbfd3a695"
   },
   "outputs": [],
   "source": [
    "%mkdir content\\\\Mask_Data"
   ]
  },
  {
   "cell_type": "code",
   "execution_count": 46,
   "metadata": {},
   "outputs": [
    {
     "name": "stdout",
     "output_type": "stream",
     "text": [
      "C:\\kim\\python\\AI\\content\\Mask_Data\n"
     ]
    }
   ],
   "source": [
    "%cd content/Mask_Data"
   ]
  },
  {
   "cell_type": "code",
   "execution_count": 49,
   "metadata": {
    "colab": {
     "base_uri": "https://localhost:8080/"
    },
    "id": "7yaZgUahEYal",
    "outputId": "9b4e4e56-7a79-44d7-9e4f-fa649fe0107c"
   },
   "outputs": [
    {
     "name": "stderr",
     "output_type": "stream",
     "text": [
      "  % Total    % Received % Xferd  Average Speed   Time    Time     Time  Current\n",
      "                                 Dload  Upload   Total   Spent    Left  Speed\n",
      "\n",
      "  0     0    0     0    0     0      0      0 --:--:-- --:--:-- --:--:--     0\n",
      "100   901  100   901    0     0   2369      0 --:--:-- --:--:-- --:--:--  2371\n",
      "100   901  100   901    0     0   2368      0 --:--:-- --:--:-- --:--:--  2371\n",
      "\n",
      "  3 18.5M    3  682k    0     0   495k      0  0:00:38  0:00:01  0:00:37  495k\n",
      "100 18.5M  100 18.5M    0     0  8529k      0  0:00:02  0:00:02 --:--:-- 21.0M\n",
      "  % Total    % Received % Xferd  Average Speed   Time    Time     Time  Current\n",
      "                                 Dload  Upload   Total   Spent    Left  Speed\n",
      "\n",
      "  0     0    0     0    0     0      0      0 --:--:-- --:--:-- --:--:--     0curl: (6) Could not resolve host: ;\n",
      "  % Total    % Received % Xferd  Average Speed   Time    Time     Time  Current\n",
      "                                 Dload  Upload   Total   Spent    Left  Speed\n",
      "\n",
      "  0     0    0     0    0     0      0      0 --:--:-- --:--:-- --:--:--     0\n",
      "  0     0    0     0    0     0      0      0 --:--:-- --:--:-- --:--:--     0\n",
      "  0     0    0     0    0     0      0      0 --:--:--  0:00:01 --:--:--     0\n",
      "  0     0    0     0    0     0      0      0 --:--:--  0:00:02 --:--:--     0curl: (6) Could not resolve host: unzip\n",
      "  % Total    % Received % Xferd  Average Speed   Time    Time     Time  Current\n",
      "                                 Dload  Upload   Total   Spent    Left  Speed\n",
      "\n",
      "  0     0    0     0    0     0      0      0 --:--:-- --:--:-- --:--:--     0curl: (6) Could not resolve host: roboflow.zip;\n",
      "  % Total    % Received % Xferd  Average Speed   Time    Time     Time  Current\n",
      "                                 Dload  Upload   Total   Spent    Left  Speed\n",
      "\n",
      "  0     0    0     0    0     0      0      0 --:--:-- --:--:-- --:--:--     0\n",
      "  0     0    0     0    0     0      0      0 --:--:--  0:00:01 --:--:--     0\n",
      "  0     0    0     0    0     0      0      0 --:--:--  0:00:01 --:--:--     0curl: (6) Could not resolve host: rm\n",
      "  % Total    % Received % Xferd  Average Speed   Time    Time     Time  Current\n",
      "                                 Dload  Upload   Total   Spent    Left  Speed\n",
      "\n",
      "  0     0    0     0    0     0      0      0 --:--:-- --:--:-- --:--:--     0curl: (6) Could not resolve host: roboflow.zip\n"
     ]
    }
   ],
   "source": [
    "# colab에서만..\n",
    "# !curl -L \"https://public.roboflow.com/ds/d3iZDTzNCM?key=WtD7Aa3X4f\" > roboflow.zip; unzip roboflow.zip; rm roboflow.zip"
   ]
  },
  {
   "cell_type": "code",
   "execution_count": 51,
   "metadata": {},
   "outputs": [],
   "source": [
    "# local은 여기서 다운받기\n",
    "# https://public.roboflow.com/ds/d3iZDTzNCM?key=WtD7Aa3X4f"
   ]
  },
  {
   "cell_type": "markdown",
   "metadata": {},
   "source": [
    "## train/valid image와 label 개수 및 파일명 체크"
   ]
  },
  {
   "cell_type": "code",
   "execution_count": 63,
   "metadata": {},
   "outputs": [],
   "source": [
    "TRAIN_IMAGE_DATA_DIR= os.path.join(DATA_ROOT_DIR, 'train/images/') \n",
    "TRAIN_LABEL_DATA_DIR= os.path.join(DATA_ROOT_DIR, 'train/labels/') \n",
    "\n",
    "VALID_IMAGE_DATA_DIR= os.path.join(DATA_ROOT_DIR, 'valid/images/') \n",
    "VALID_LABEL_DATA_DIR= os.path.join(DATA_ROOT_DIR, 'valid/labels/') "
   ]
  },
  {
   "cell_type": "code",
   "execution_count": 64,
   "metadata": {},
   "outputs": [
    {
     "ename": "FileNotFoundError",
     "evalue": "[WinError 3] 지정된 경로를 찾을 수 없습니다: 'content\\\\Mask_Data\\\\train/images/'",
     "output_type": "error",
     "traceback": [
      "\u001b[1;31m---------------------------------------------------------------------------\u001b[0m",
      "\u001b[1;31mFileNotFoundError\u001b[0m                         Traceback (most recent call last)",
      "\u001b[1;32m~\\AppData\\Local\\Temp\\ipykernel_6640\\2924432273.py\u001b[0m in \u001b[0;36m<module>\u001b[1;34m\u001b[0m\n\u001b[1;32m----> 1\u001b[1;33m \u001b[0mos\u001b[0m\u001b[1;33m.\u001b[0m\u001b[0mlistdir\u001b[0m\u001b[1;33m(\u001b[0m\u001b[0mTRAIN_IMAGE_DATA_DIR\u001b[0m\u001b[1;33m)\u001b[0m\u001b[1;33m\u001b[0m\u001b[1;33m\u001b[0m\u001b[0m\n\u001b[0m",
      "\u001b[1;31mFileNotFoundError\u001b[0m: [WinError 3] 지정된 경로를 찾을 수 없습니다: 'content\\\\Mask_Data\\\\train/images/'"
     ]
    }
   ],
   "source": [
    "os.listdir(TRAIN_IMAGE_DATA_DIR)"
   ]
  },
  {
   "cell_type": "code",
   "execution_count": 62,
   "metadata": {},
   "outputs": [
    {
     "ename": "FileNotFoundError",
     "evalue": "[WinError 3] 지정된 경로를 찾을 수 없습니다: 'content\\\\Mask_Data\\\\train/images/'",
     "output_type": "error",
     "traceback": [
      "\u001b[1;31m---------------------------------------------------------------------------\u001b[0m",
      "\u001b[1;31mFileNotFoundError\u001b[0m                         Traceback (most recent call last)",
      "\u001b[1;32m~\\AppData\\Local\\Temp\\ipykernel_6640\\720045298.py\u001b[0m in \u001b[0;36m<module>\u001b[1;34m\u001b[0m\n\u001b[0;32m      9\u001b[0m \u001b[1;31m#-----------------------------\u001b[0m\u001b[1;33m\u001b[0m\u001b[1;33m\u001b[0m\u001b[0m\n\u001b[0;32m     10\u001b[0m \u001b[1;33m\u001b[0m\u001b[0m\n\u001b[1;32m---> 11\u001b[1;33m \u001b[0mtrain_image_file_list\u001b[0m\u001b[1;33m=\u001b[0m \u001b[0mos\u001b[0m\u001b[1;33m.\u001b[0m\u001b[0mlistdir\u001b[0m\u001b[1;33m(\u001b[0m\u001b[0mTRAIN_IMAGE_DATA_DIR\u001b[0m\u001b[1;33m)\u001b[0m\u001b[1;33m\u001b[0m\u001b[1;33m\u001b[0m\u001b[0m\n\u001b[0m\u001b[0;32m     12\u001b[0m \u001b[0mtrain_label_file_list\u001b[0m\u001b[1;33m=\u001b[0m \u001b[0mos\u001b[0m\u001b[1;33m.\u001b[0m\u001b[0mlistdir\u001b[0m\u001b[1;33m(\u001b[0m\u001b[0mTRAIN_LABEL_DATA_DIR\u001b[0m\u001b[1;33m)\u001b[0m\u001b[1;33m\u001b[0m\u001b[1;33m\u001b[0m\u001b[0m\n\u001b[0;32m     13\u001b[0m \u001b[1;33m\u001b[0m\u001b[0m\n",
      "\u001b[1;31mFileNotFoundError\u001b[0m: [WinError 3] 지정된 경로를 찾을 수 없습니다: 'content\\\\Mask_Data\\\\train/images/'"
     ]
    }
   ],
   "source": [
    "#### TRAIN_IMAGE_DATA_DIR과 TRAIN_LABEL_DATA_DIR 비교\n",
    "#-----변수 초기화-------\n",
    "train_image_file_list=[]\n",
    "train_label_file_list=[]\n",
    "train_image_file_name_list=[]\n",
    "train_label_file_name_list=[]\n",
    "train_image_file_name_set= set() # set에서는 집합연산 가능\n",
    "train_label_file_name_set= set() \n",
    "#-----------------------------\n",
    "\n",
    "train_image_file_list= os.listdir(TRAIN_IMAGE_DATA_DIR)\n",
    "train_label_file_list= os.listdir(TRAIN_LABEL_DATA_DIR)\n",
    "\n",
    "train_image_file_list.sort()\n",
    "train_label_file_list.sort()\n",
    "\n",
    "# image file name 추출하기\n",
    "for index in range(len(train_image_file_list)):\n",
    "    image_name= train_image_file_list[index].split('.jpg')[0]\n",
    "    train_image_file_name_list.append(image_name)\n",
    "    \n",
    "train_image_file_name_set= set(train_image_file_name_list)\n",
    "\n",
    "# label file name 추출하기\n",
    "for index in range(len(train_label_file_list)):\n",
    "    label_name= train_label_file_list[index].split('.jpg')[0]\n",
    "    train_label_file_name_list.append(image_name)\n",
    "    \n",
    "train_label_file_name_set= set(train_label_file_name_list)\n",
    "\n",
    "# image file과 label file 비교\n",
    "diff_set= train_image_file_name_set- train_label_file_name_set\n",
    "intersect5_set= train_image_file_name_set& train_label_file_name_set\n",
    "\n",
    "if len(diff_set)==0:\n",
    "    print('>>>image is exactly same as label<<<')\n",
    "else:\n",
    "    print('diff')\n"
   ]
  },
  {
   "cell_type": "code",
   "execution_count": 54,
   "metadata": {},
   "outputs": [
    {
     "ename": "FileNotFoundError",
     "evalue": "[WinError 3] 지정된 경로를 찾을 수 없습니다: 'content\\\\Mask_Data\\\\valid/images/'",
     "output_type": "error",
     "traceback": [
      "\u001b[1;31m---------------------------------------------------------------------------\u001b[0m",
      "\u001b[1;31mFileNotFoundError\u001b[0m                         Traceback (most recent call last)",
      "\u001b[1;32m~\\AppData\\Local\\Temp\\ipykernel_6640\\3358621876.py\u001b[0m in \u001b[0;36m<module>\u001b[1;34m\u001b[0m\n\u001b[0;32m      9\u001b[0m \u001b[1;31m#-----------------------------\u001b[0m\u001b[1;33m\u001b[0m\u001b[1;33m\u001b[0m\u001b[0m\n\u001b[0;32m     10\u001b[0m \u001b[1;33m\u001b[0m\u001b[0m\n\u001b[1;32m---> 11\u001b[1;33m \u001b[0mvalid_image_file_list\u001b[0m\u001b[1;33m=\u001b[0m \u001b[0mos\u001b[0m\u001b[1;33m.\u001b[0m\u001b[0mlistdir\u001b[0m\u001b[1;33m(\u001b[0m\u001b[0mVALID_IMAGE_DATA_DIR\u001b[0m\u001b[1;33m)\u001b[0m\u001b[1;33m\u001b[0m\u001b[1;33m\u001b[0m\u001b[0m\n\u001b[0m\u001b[0;32m     12\u001b[0m \u001b[0mvalid_label_file_list\u001b[0m\u001b[1;33m=\u001b[0m \u001b[0mos\u001b[0m\u001b[1;33m.\u001b[0m\u001b[0mlistdir\u001b[0m\u001b[1;33m(\u001b[0m\u001b[0mVALID_LABEL_DATA_DIR\u001b[0m\u001b[1;33m)\u001b[0m\u001b[1;33m\u001b[0m\u001b[1;33m\u001b[0m\u001b[0m\n\u001b[0;32m     13\u001b[0m \u001b[1;33m\u001b[0m\u001b[0m\n",
      "\u001b[1;31mFileNotFoundError\u001b[0m: [WinError 3] 지정된 경로를 찾을 수 없습니다: 'content\\\\Mask_Data\\\\valid/images/'"
     ]
    }
   ],
   "source": [
    "### VALID_IMAGE_DATA_DIR과 valid_LABEL_DATA_DIR 비교\n",
    "#-----변수 초기화-------\n",
    "valid_image_file_list=[]\n",
    "valid_label_file_list=[]\n",
    "valid_image_file_name_list=[]\n",
    "valid_label_file_name_list=[]\n",
    "valid_image_file_name_set= set() # set에서는 집합연산 가능\n",
    "valid_label_file_name_set= set() \n",
    "#-----------------------------\n",
    "\n",
    "valid_image_file_list= os.listdir(VALID_IMAGE_DATA_DIR)\n",
    "valid_label_file_list= os.listdir(VALID_LABEL_DATA_DIR)\n",
    "\n",
    "valid_image_file_list.sort()\n",
    "valid_label_file_list.sort()\n",
    "\n",
    "# image file name 추출하기\n",
    "for index in range(len(valid_image_file_list)):\n",
    "    image_name= valid_image_file_list[index].split('.jpg')[0]\n",
    "    valid_image_file_name_list.append(image_name)\n",
    "    \n",
    "valid_image_file_name_set= set(valid_image_file_name_list)\n",
    "\n",
    "# label file name 추출하기\n",
    "for index in range(len(valid_label_file_list)):\n",
    "    label_name= valid_label_file_list[index].split('.jpg')[0]\n",
    "    valid_label_file_name_list.append(image_name)\n",
    "    \n",
    "valid_label_file_name_set= set(valid_label_file_name_list)\n",
    "\n",
    "# image file과 label file 비교\n",
    "diff_set= valid_image_file_name_set- valid_label_file_name_set\n",
    "intersect5_set= valid_image_file_name_set& valid_label_file_name_set\n",
    "\n",
    "if len(diff_set)==0:\n",
    "    print('>>>image is exactly same as label<<<')\n",
    "else:\n",
    "    print('diff')\n"
   ]
  },
  {
   "cell_type": "code",
   "execution_count": 34,
   "metadata": {},
   "outputs": [
    {
     "data": {
      "text/plain": [
       "{'0009S6815V3PEU1N-C123-F4_jpg.rf.128ad940f96aa8fa5174093ddb7ae5ee',\n",
       " '000_1OC3DT_jpg.rf.3d1fb8e38f21ec81247c6c3850038888',\n",
       " '002_1024_jpeg.rf.21167ff8a675d17c91a8c57a5269dad7',\n",
       " '0109-00176-096b1_jpg.rf.69ffdcd78617808a849bb59feea2afca',\n",
       " '022814asiatodaymasks_960x540_jpg.rf.a334c489daa4a1db00e580a7a516ce66',\n",
       " '025418_springwest005_jpg.rf.9342b3603f02ddb7d28ea4c91f711677',\n",
       " '08165739_jpg.rf.81a9ba05554adbce15ed6cd7dfac96cf',\n",
       " '08_11_2019-airpollution_234_19737819_192539446_jpg.rf.fa2a2fbe265356ca47e94944207ecbb5',\n",
       " '0ad90195-cd77-489e-bf85-08c83b80d3e0_jpg.rf.006de569e2242cb425b5f931c5e0f8be',\n",
       " '10fea_8011463765e2aa28b386cf_jpg.rf.7981dc5de795ab4252631683e0de84ae',\n",
       " '1125506397_15801322206581n_jpg.rf.3c089d43976a3dd3b0dfab58bdcac999',\n",
       " '1196686205_jpg_14_jpg.rf.95f742744c99ce310aea3fee820b6811',\n",
       " '1197315184_jpg_0_jpg.rf.448838b1a29be91ef9c08cc895837686',\n",
       " '1197620896_jpg.rf.b987b8c72404cdfd4c5d123e713326eb',\n",
       " '1483800496-3386248642_jpg.rf.6a8d7d7f3c7ca1b7129c902610068440',\n",
       " '15150794626913_jpg.rf.78b49f28af0f2654221ae46fb04eb549',\n",
       " '15391513321824spp815on8_jpg.rf.cbea58f57f15ea6ee59970ad58b1cbf4',\n",
       " 'REVZGCBIJNQPMIIXOKDCQA3GJI_jpg.rf.f948274557822ca0e7764d95cd137c13',\n",
       " 'S1-EV360_FACEMA_M_20200130144349_jpg.rf.c6beae438ca764fe58afb2f3d747aca3',\n",
       " 'phpM5suKS_jpg.rf.6bfbc753f035295f8b61751be4ab9945',\n",
       " 'r1000019q669394n9qp_jpg.rf.4ea90092a57dfae9753bfdad3193ea2c',\n",
       " 'r1400018548960op29s_jpg.rf.1aa9ecf11eb6e101f0bbdf0c3048702c',\n",
       " 'sdgdsgsg_jpg.rf.2296809055f00546a3bb756a73bb4472',\n",
       " 'shutterstock_1145933543-e1579497052960_jpg.rf.484e9b9fdec9aa67a63d08df3958cba6',\n",
       " 'shutterstock_editorial_10536831j_2e16d0ba_fill-1200x650_jpg.rf.4b10ecf8292b69a042239f8d426feaab',\n",
       " 'stock-photo-mother-and-her-daughter-walking-go-to-school-with-wearing-a-protection-mask-against-pm-air-1346870465_jpg.rf.1af78a7aa3ada1688f46a406f51ba584',\n",
       " 'us-state-department-warns-against-visiting-china-citing-coronavirus_jpg.rf.51aea5bc06a6e1f9113bbed4a7068697',\n",
       " 'w1240-p16x9-CORONAVIRUS-CHINA-HEALTH-APPLE STORE_jpg.rf.69b0624b52841ca749dc6a289fba53df'}"
      ]
     },
     "execution_count": 34,
     "metadata": {},
     "output_type": "execute_result"
    }
   ],
   "source": [
    "diff_set"
   ]
  },
  {
   "cell_type": "markdown",
   "metadata": {
    "id": "2zs68RH2HlyF"
   },
   "source": [
    "## YAML 파일 설정\n",
    "- 데이터셋의 위치를 알려주는 config file"
   ]
  },
  {
   "cell_type": "code",
   "execution_count": 7,
   "metadata": {
    "colab": {
     "base_uri": "https://localhost:8080/"
    },
    "id": "Hj11vaGfHqB7",
    "outputId": "788630a6-5664-45db-a336-4b7bb2ba3885"
   },
   "outputs": [
    {
     "name": "stdout",
     "output_type": "stream",
     "text": [
      "train: ../train/images\n",
      "val: ../valid/images\n",
      "\n",
      "nc: 2\n",
      "names: ['mask', 'no-mask']"
     ]
    }
   ],
   "source": [
    "%cat {os.path.join(DATA_ROOT_DIR,'data.yaml')}"
   ]
  },
  {
   "cell_type": "code",
   "execution_count": 8,
   "metadata": {
    "colab": {
     "base_uri": "https://localhost:8080/"
    },
    "id": "yPINPD8JH4NN",
    "outputId": "24b7ca2e-693c-4124-8389-099866323e21"
   },
   "outputs": [
    {
     "name": "stdout",
     "output_type": "stream",
     "text": [
      "{'train': '../train/images', 'val': '../valid/images', 'nc': 2, 'names': ['mask', 'no-mask']}\n",
      "{'train': '/content/Mask_Data/train/images/', 'val': '/content/Mask_Data/valid/images/', 'nc': 2, 'names': ['mask', 'no-mask']}\n"
     ]
    }
   ],
   "source": [
    "import yaml\n",
    "\n",
    "with open(os.path.join(DATA_ROOT_DIR,'data.yaml'),'r') as f:\n",
    "  data= yaml.safe_load(f)\n",
    "\n",
    "print(data)\n",
    "\n",
    "data['train']= os.path.join(DATA_ROOT_DIR,'train/images/')\n",
    "data['val']= os.path.join(DATA_ROOT_DIR, 'valid/images/')\n",
    "\n",
    "data['nc']=2\n",
    "data['names']= ['mask','no-mask']\n",
    "\n",
    "with open(os.path.join(DATA_ROOT_DIR,'data.yaml'),'w') as f:\n",
    "  yaml.dump(data,f)\n",
    "\n",
    "print(data)"
   ]
  },
  {
   "cell_type": "markdown",
   "metadata": {
    "id": "hdjyopPOJqPP"
   },
   "source": [
    "## (6) 재학습\n",
    "- 하이퍼 파라미터 설정 및 train"
   ]
  },
  {
   "cell_type": "code",
   "execution_count": null,
   "metadata": {
    "colab": {
     "base_uri": "https://localhost:8080/"
    },
    "id": "ahLPo_IzpAs-",
    "outputId": "fdaca6bb-4371-4f5f-f4d5-dfbb39f2f84c"
   },
   "outputs": [
    {
     "name": "stdout",
     "output_type": "stream",
     "text": [
      "\u001b[34m\u001b[1mtrain: \u001b[0mweights=/content/yolov5/yolov5s.pt, cfg=/content/yolov5/models/yolov5s.yaml, data=/content/Mask_Data/data.yaml, hyp=../yolov5/data/hyps/hyp.scratch-low.yaml, epochs=100, batch_size=32, imgsz=416, rect=False, resume=False, nosave=False, noval=False, noautoanchor=False, noplots=False, evolve=None, bucket=, cache=None, image_weights=False, device=, multi_scale=False, single_cls=False, optimizer=SGD, sync_bn=False, workers=8, project=../yolov5/runs/train, name=exp, exist_ok=False, quad=False, cos_lr=False, label_smoothing=0.0, patience=100, freeze=[0], save_period=-1, seed=0, local_rank=-1, entity=None, upload_dataset=False, bbox_interval=-1, artifact_alias=latest\n",
      "\u001b[34m\u001b[1mgithub: \u001b[0mup to date with https://github.com/ultralytics/yolov5 ✅\n",
      "YOLOv5 🚀 v7.0-181-g3812a1a Python-3.10.12 torch-2.0.1+cu118 CUDA:0 (Tesla T4, 15102MiB)\n",
      "\n",
      "\u001b[34m\u001b[1mhyperparameters: \u001b[0mlr0=0.01, lrf=0.01, momentum=0.937, weight_decay=0.0005, warmup_epochs=3.0, warmup_momentum=0.8, warmup_bias_lr=0.1, box=0.05, cls=0.5, cls_pw=1.0, obj=1.0, obj_pw=1.0, iou_t=0.2, anchor_t=4.0, fl_gamma=0.0, hsv_h=0.015, hsv_s=0.7, hsv_v=0.4, degrees=0.0, translate=0.1, scale=0.5, shear=0.0, perspective=0.0, flipud=0.0, fliplr=0.5, mosaic=1.0, mixup=0.0, copy_paste=0.0\n",
      "\u001b[34m\u001b[1mComet: \u001b[0mrun 'pip install comet_ml' to automatically track and visualize YOLOv5 🚀 runs in Comet\n",
      "\u001b[34m\u001b[1mTensorBoard: \u001b[0mStart with 'tensorboard --logdir ../yolov5/runs/train', view at http://localhost:6006/\n",
      "Downloading https://ultralytics.com/assets/Arial.ttf to /root/.config/Ultralytics/Arial.ttf...\n",
      "100% 755k/755k [00:00<00:00, 26.9MB/s]\n",
      "Overriding model.yaml nc=80 with nc=2\n",
      "\n",
      "                 from  n    params  module                                  arguments                     \n",
      "  0                -1  1      3520  models.common.Conv                      [3, 32, 6, 2, 2]              \n",
      "  1                -1  1     18560  models.common.Conv                      [32, 64, 3, 2]                \n",
      "  2                -1  1     18816  models.common.C3                        [64, 64, 1]                   \n",
      "  3                -1  1     73984  models.common.Conv                      [64, 128, 3, 2]               \n",
      "  4                -1  2    115712  models.common.C3                        [128, 128, 2]                 \n",
      "  5                -1  1    295424  models.common.Conv                      [128, 256, 3, 2]              \n",
      "  6                -1  3    625152  models.common.C3                        [256, 256, 3]                 \n",
      "  7                -1  1   1180672  models.common.Conv                      [256, 512, 3, 2]              \n",
      "  8                -1  1   1182720  models.common.C3                        [512, 512, 1]                 \n",
      "  9                -1  1    656896  models.common.SPPF                      [512, 512, 5]                 \n",
      " 10                -1  1    131584  models.common.Conv                      [512, 256, 1, 1]              \n",
      " 11                -1  1         0  torch.nn.modules.upsampling.Upsample    [None, 2, 'nearest']          \n",
      " 12           [-1, 6]  1         0  models.common.Concat                    [1]                           \n",
      " 13                -1  1    361984  models.common.C3                        [512, 256, 1, False]          \n",
      " 14                -1  1     33024  models.common.Conv                      [256, 128, 1, 1]              \n",
      " 15                -1  1         0  torch.nn.modules.upsampling.Upsample    [None, 2, 'nearest']          \n",
      " 16           [-1, 4]  1         0  models.common.Concat                    [1]                           \n",
      " 17                -1  1     90880  models.common.C3                        [256, 128, 1, False]          \n",
      " 18                -1  1    147712  models.common.Conv                      [128, 128, 3, 2]              \n",
      " 19          [-1, 14]  1         0  models.common.Concat                    [1]                           \n",
      " 20                -1  1    296448  models.common.C3                        [256, 256, 1, False]          \n",
      " 21                -1  1    590336  models.common.Conv                      [256, 256, 3, 2]              \n",
      " 22          [-1, 10]  1         0  models.common.Concat                    [1]                           \n",
      " 23                -1  1   1182720  models.common.C3                        [512, 512, 1, False]          \n",
      " 24      [17, 20, 23]  1     18879  models.yolo.Detect                      [2, [[10, 13, 16, 30, 33, 23], [30, 61, 62, 45, 59, 119], [116, 90, 156, 198, 373, 326]], [128, 256, 512]]\n",
      "YOLOv5s summary: 214 layers, 7025023 parameters, 7025023 gradients, 16.0 GFLOPs\n",
      "\n",
      "Transferred 342/349 items from /content/yolov5/yolov5s.pt\n",
      "\u001b[34m\u001b[1mAMP: \u001b[0mchecks passed ✅\n",
      "\u001b[34m\u001b[1moptimizer:\u001b[0m SGD(lr=0.01) with parameter groups 57 weight(decay=0.0), 60 weight(decay=0.0005), 60 bias\n",
      "\u001b[34m\u001b[1malbumentations: \u001b[0mBlur(p=0.01, blur_limit=(3, 7)), MedianBlur(p=0.01, blur_limit=(3, 7)), ToGray(p=0.01), CLAHE(p=0.01, clip_limit=(1, 4.0), tile_grid_size=(8, 8))\n",
      "\u001b[34m\u001b[1mtrain: \u001b[0mScanning /content/Mask_Data/train/labels... 105 images, 0 backgrounds, 0 corrupt: 100% 105/105 [00:00<00:00, 1533.95it/s]\n",
      "\u001b[34m\u001b[1mtrain: \u001b[0mNew cache created: /content/Mask_Data/train/labels.cache\n",
      "\u001b[34m\u001b[1mval: \u001b[0mScanning /content/Mask_Data/valid/labels... 29 images, 0 backgrounds, 0 corrupt: 100% 29/29 [00:00<00:00, 649.87it/s]\n",
      "\u001b[34m\u001b[1mval: \u001b[0mNew cache created: /content/Mask_Data/valid/labels.cache\n",
      "\n",
      "\u001b[34m\u001b[1mAutoAnchor: \u001b[0m5.70 anchors/target, 0.999 Best Possible Recall (BPR). Current anchors are a good fit to dataset ✅\n",
      "Plotting labels to ../yolov5/runs/train/exp/labels.jpg... \n"
     ]
    }
   ],
   "source": [
    "img_size= 416\n",
    "batch_size= 32\n",
    "epochs= 100\n",
    "\n",
    "data_path= os.path.join(DATA_ROOT_DIR,'data.yaml')\n",
    "yaml_path= os.path.join(YOLOv5_ROOT_DIR,'models/yolov5s.yaml')\n",
    "weights_path= os.path.join(YOLOv5_ROOT_DIR,'yolov5s.pt')\n",
    "\n",
    "!python {os.path.join(YOLOv5_ROOT_DIR,'train.py')} --img {img_size} --batch {batch_size} --epochs {epochs} \\\n",
    "                                        --data {data_path} --cfg {yaml_path} --weights {weights_path}"
   ]
  },
  {
   "cell_type": "markdown",
   "metadata": {
    "id": "6oeqDa0zKFzi"
   },
   "source": [
    "## 7. 텐서보드를 이용한 학습과정 출력\n"
   ]
  },
  {
   "cell_type": "code",
   "execution_count": null,
   "metadata": {
    "id": "r3dA3uwBpAvo"
   },
   "outputs": [],
   "source": [
    "# 7. 텐서보드를 이용한 학습과정 출력\n",
    "%reload_ext tensorboard\n",
    "%tensorboard --logdir {os.path.join(YOLOv5_ROOT_DIR,'runs/train/exp/')}"
   ]
  },
  {
   "cell_type": "markdown",
   "metadata": {
    "id": "DJmU7odCOVF0"
   },
   "source": [
    "## (8) 이미지 데이터 생성 및  확인"
   ]
  },
  {
   "cell_type": "code",
   "execution_count": null,
   "metadata": {
    "id": "WNcRPNZX7QB8"
   },
   "outputs": [],
   "source": [
    "from glob import glob\n",
    "\n",
    "test_image_list= glob(os.path.join(DATA_ROOT_DIR,'test/images/*.jpg'))\n",
    "print(len(test_image_list))"
   ]
  },
  {
   "cell_type": "code",
   "execution_count": null,
   "metadata": {
    "id": "vDVQjdLa7m_k"
   },
   "outputs": [],
   "source": [
    "test_image_list.sort()\n",
    "for i in range(len(test_image_list)):\n",
    "  print(i, test_image_list[i])"
   ]
  },
  {
   "cell_type": "markdown",
   "metadata": {
    "id": "lYaDxzcbK_hY"
   },
   "source": [
    "## Inference"
   ]
  },
  {
   "cell_type": "code",
   "execution_count": null,
   "metadata": {
    "id": "Q9gbC9VqLB0p"
   },
   "outputs": [],
   "source": [
    "test_data_path= os.path.join(DATA_ROOT_DIR,'test/images/')\n",
    "best_weights_path= os.path.join(YOLOv5_ROOT_DIR,'runs/train/exp/weights/best.pt')\n",
    "\n"
   ]
  },
  {
   "cell_type": "code",
   "execution_count": null,
   "metadata": {
    "id": "9hhxEFxu8N0e"
   },
   "outputs": [],
   "source": [
    "!python3 {os.path.join(YOLOv5_ROOT_DIR,'detect.py')} \\\n",
    "                    --weights /content/yolov5/runs/train/exp/weights/best.pt \\\n",
    "                    --source /content/Mask_Data/test/images/ \\\n",
    "                    --img 416 \\\n",
    "                    --conf 0.5"
   ]
  },
  {
   "cell_type": "code",
   "execution_count": null,
   "metadata": {
    "id": "HwwVhbFEoSFM"
   },
   "outputs": [],
   "source": [
    "### 압축하기\n",
    "import zipfile\n",
    "import os\n",
    "\n",
    "if not os.path.exists(os.path.join(ROOT_DIR,'detected_result')):\n",
    "    os.mkdir(os.path.join(ROOT_DIR,'detected_result'))\n",
    "    print('detected_result dir is created')\n",
    "\n",
    "with zipfile.ZipFile(os.path.join(ROOT_DIR,'detected_result/Mask_detected_images.zip'), 'w') as detected_images:\n",
    "    for idx in range(detected_image_nums):\n",
    "        detected_images.write(detected_image_list[idx])"
   ]
  },
  {
   "cell_type": "code",
   "execution_count": null,
   "metadata": {
    "id": "3-x_kaawMp4L"
   },
   "outputs": [],
   "source": [
    "import shutil"
   ]
  },
  {
   "cell_type": "code",
   "execution_count": null,
   "metadata": {
    "id": "sQU4NBkzpm-D"
   },
   "outputs": [],
   "source": [
    "import shutil\n",
    "from google.colab import files\n",
    "\n",
    "shutil.copy(os.path.join(YOLOv5_ROOT_DIR,'runs/train/exp/weights/best.pt'), os.path.join(YOLOv5_ROOT_DIR,'Mask_best.pt'))\n",
    "\n",
    "files.download(os.path.join(ROOT_DIR,'detected_result/detected_images.zip'))\n",
    "files.download(os.path.join(YOLOv5_ROOT_DIR,'Mask_best.pt'))"
   ]
  },
  {
   "cell_type": "code",
   "execution_count": null,
   "metadata": {
    "id": "zJmXb1Ox8N5r"
   },
   "outputs": [],
   "source": []
  },
  {
   "cell_type": "code",
   "execution_count": null,
   "metadata": {
    "id": "ulorG1Ty8N7q"
   },
   "outputs": [],
   "source": []
  }
 ],
 "metadata": {
  "accelerator": "GPU",
  "colab": {
   "gpuType": "T4",
   "provenance": []
  },
  "kernelspec": {
   "display_name": "Python 3 (ipykernel)",
   "language": "python",
   "name": "python3"
  },
  "language_info": {
   "codemirror_mode": {
    "name": "ipython",
    "version": 3
   },
   "file_extension": ".py",
   "mimetype": "text/x-python",
   "name": "python",
   "nbconvert_exporter": "python",
   "pygments_lexer": "ipython3",
   "version": "3.9.13"
  }
 },
 "nbformat": 4,
 "nbformat_minor": 1
}
