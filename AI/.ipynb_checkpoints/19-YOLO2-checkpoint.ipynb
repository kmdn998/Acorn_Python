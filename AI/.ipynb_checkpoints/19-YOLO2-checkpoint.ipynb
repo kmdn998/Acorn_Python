{
 "cells": [
  {
   "cell_type": "markdown",
   "id": "7cf75b5e",
   "metadata": {},
   "source": [
    "# Colab ver."
   ]
  },
  {
   "cell_type": "markdown",
   "id": "f8af0a27",
   "metadata": {},
   "source": [
    "## 경로 설정"
   ]
  },
  {
   "cell_type": "code",
   "execution_count": 1,
   "id": "ef949354",
   "metadata": {},
   "outputs": [],
   "source": [
    "import os\n",
    "\n",
    "ROOT_DIR= '/content'\n",
    "YOLOv5_ROOT_DIR= os.path.join(ROOT_DIR, 'yolov5')\n",
    "\n",
    "### Custom Data\n",
    "DATA_ROOT_DIR= os.path.join(ROOT_DIR, 'Mask_Data')"
   ]
  },
  {
   "cell_type": "markdown",
   "id": "409d0bde",
   "metadata": {},
   "source": [
    "## YOLO source 가져오기"
   ]
  },
  {
   "cell_type": "code",
   "execution_count": 2,
   "id": "3bb3654e",
   "metadata": {},
   "outputs": [
    {
     "name": "stderr",
     "output_type": "stream",
     "text": [
      "UsageError: Line magic function `%rm` not found.\n"
     ]
    }
   ],
   "source": [
    "%rm -rf{YOLOv5_ROOT_DIR}\n",
    "\n",
    "%cd {ROOT_DIR}\n",
    "\n",
    "!git clone https://github.com/ultralytics/yolov5"
   ]
  },
  {
   "cell_type": "markdown",
   "id": "a87cd40f",
   "metadata": {},
   "source": [
    "## YOLO 필수 라이브러리설치"
   ]
  },
  {
   "cell_type": "code",
   "execution_count": null,
   "id": "9e182a9c",
   "metadata": {},
   "outputs": [],
   "source": [
    "!pip install -r {os.path.join(YOLOv5_ROOT_DIR, 'requirements.txt')}"
   ]
  },
  {
   "cell_type": "markdown",
   "id": "417277ac",
   "metadata": {},
   "source": [
    "## pre-trained model 다운로드"
   ]
  },
  {
   "cell_type": "code",
   "execution_count": null,
   "id": "401ecd9a",
   "metadata": {},
   "outputs": [],
   "source": [
    " ! wget -P /content/yolov5/ https://github.com/ultralytics/yolov5/releases/download/v6.0/yolov5s.pt"
   ]
  },
  {
   "cell_type": "markdown",
   "id": "1f196a24",
   "metadata": {},
   "source": [
    "## Custom Data 준비\n",
    "- https://public.roboflow.com/object-detection/mask-wearing"
   ]
  },
  {
   "cell_type": "code",
   "execution_count": null,
   "id": "cac1197e",
   "metadata": {},
   "outputs": [],
   "source": [
    "%mkdir /content/Mask_Data\n",
    "%cd /content/Mask_Data"
   ]
  },
  {
   "cell_type": "code",
   "execution_count": null,
   "id": "dd687951",
   "metadata": {},
   "outputs": [],
   "source": [
    "!curl -L \"https://public.roboflow.com/ds/d3iZDTzNCM?key=WtD7Aa3X4f\" > roboflow.zip; unzip roboflow.zip; rm roboflow.zip"
   ]
  },
  {
   "cell_type": "code",
   "execution_count": null,
   "id": "8bce8935",
   "metadata": {},
   "outputs": [],
   "source": []
  },
  {
   "cell_type": "code",
   "execution_count": null,
   "id": "0430b50a",
   "metadata": {},
   "outputs": [],
   "source": []
  },
  {
   "cell_type": "code",
   "execution_count": null,
   "id": "1b1d3a2a",
   "metadata": {},
   "outputs": [],
   "source": []
  },
  {
   "cell_type": "code",
   "execution_count": null,
   "id": "b8793931",
   "metadata": {},
   "outputs": [],
   "source": []
  }
 ],
 "metadata": {
  "kernelspec": {
   "display_name": "Python 3 (ipykernel)",
   "language": "python",
   "name": "python3"
  },
  "language_info": {
   "codemirror_mode": {
    "name": "ipython",
    "version": 3
   },
   "file_extension": ".py",
   "mimetype": "text/x-python",
   "name": "python",
   "nbconvert_exporter": "python",
   "pygments_lexer": "ipython3",
   "version": "3.9.13"
  }
 },
 "nbformat": 4,
 "nbformat_minor": 5
}
