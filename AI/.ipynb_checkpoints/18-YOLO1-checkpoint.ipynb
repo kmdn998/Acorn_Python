{
 "cells": [
  {
   "cell_type": "markdown",
   "id": "67f0c52a",
   "metadata": {},
   "source": [
    "# 1. 맛보기 예제(YOLOv5)\n",
    "## (1) 테스트 이미지 준비"
   ]
  },
  {
   "cell_type": "code",
   "execution_count": 1,
   "id": "ec2c3a07",
   "metadata": {},
   "outputs": [],
   "source": [
    "import zipfile\n",
    "\n",
    "with zipfile.ZipFile('content/image_data.zip','r') as target_file:\n",
    "    target_file.extractall('content/yolo5')"
   ]
  },
  {
   "cell_type": "code",
   "execution_count": 5,
   "id": "26229b84",
   "metadata": {},
   "outputs": [
    {
     "data": {
      "text/plain": [
       "19"
      ]
     },
     "execution_count": 5,
     "metadata": {},
     "output_type": "execute_result"
    }
   ],
   "source": [
    "import glob\n",
    "\n",
    "test_image_list= glob.glob('content/yolo5/image_data/*.*')\n",
    "len(test_image_list)"
   ]
  },
  {
   "cell_type": "code",
   "execution_count": 6,
   "id": "c867717f",
   "metadata": {},
   "outputs": [
    {
     "name": "stdout",
     "output_type": "stream",
     "text": [
      "content/yolo5/image_data\\airplane1.png\n",
      "content/yolo5/image_data\\airplane2.jpg\n",
      "content/yolo5/image_data\\airplane3.jpg\n",
      "content/yolo5/image_data\\animal1.jpg\n",
      "content/yolo5/image_data\\animal2.jpg\n",
      "content/yolo5/image_data\\animal3.jpg\n",
      "content/yolo5/image_data\\animal4.jpg\n",
      "content/yolo5/image_data\\animal5.jpg\n",
      "content/yolo5/image_data\\animal6.jpg\n",
      "content/yolo5/image_data\\animal7.jpg\n",
      "content/yolo5/image_data\\billiard1.jpg\n",
      "content/yolo5/image_data\\bycle1.jpg\n",
      "content/yolo5/image_data\\car1.jpg\n",
      "content/yolo5/image_data\\car2.jpg\n",
      "content/yolo5/image_data\\moto1.jpg\n",
      "content/yolo5/image_data\\moto2.jpg\n",
      "content/yolo5/image_data\\moto3.jpg\n",
      "content/yolo5/image_data\\office1.jpg\n",
      "content/yolo5/image_data\\racing1.jpg\n"
     ]
    }
   ],
   "source": [
    "test_image_list.sort()\n",
    "for i in range(len(test_image_list)):\n",
    "    print(test_image_list[i])"
   ]
  },
  {
   "cell_type": "markdown",
   "id": "4b182bee",
   "metadata": {},
   "source": [
    "## (2) YOLO source 가져오기\n",
    "- .yaml: 환경설정\n",
    "- train.py== model.fit()\n",
    "- detect.py== model.predict()\n",
    "- export.py== model.save()\n",
    "- requirement.txt: 라이브러리 모음"
   ]
  },
  {
   "cell_type": "code",
   "execution_count": 7,
   "id": "e975896d",
   "metadata": {},
   "outputs": [],
   "source": [
    "### colab\n",
    "# % cd/content\n",
    "# !git clone https://github.com/ultralytics/yolov5\n",
    "\n",
    "### local\n",
    "# !cd content\n",
    "# !git clone https://github.com/ultralytics/yolov5"
   ]
  },
  {
   "cell_type": "markdown",
   "id": "970a8bd1",
   "metadata": {},
   "source": [
    "## (3) 필수 라이브러리 설치"
   ]
  },
  {
   "cell_type": "code",
   "execution_count": 8,
   "id": "189ccc4a",
   "metadata": {
    "collapsed": true
   },
   "outputs": [
    {
     "name": "stdout",
     "output_type": "stream",
     "text": [
      "Collecting gitpython>=3.1.30"
     ]
    },
    {
     "name": "stderr",
     "output_type": "stream",
     "text": [
      "ERROR: pip's dependency resolver does not currently take into account all the packages that are installed. This behaviour is the source of the following dependency conflicts.\n",
      "spyder 5.2.2 requires pyqt5<5.13, which is not installed.\n",
      "spyder 5.2.2 requires pyqtwebengine<5.13, which is not installed.\n",
      "conda-repo-cli 1.0.20 requires pathlib, which is not installed.\n",
      "numba 0.55.1 requires numpy<1.22,>=1.18, but you have numpy 1.23.5 which is incompatible.\n",
      "conda-repo-cli 1.0.20 requires clyent==1.2.1, but you have clyent 1.2.2 which is incompatible.\n",
      "conda-repo-cli 1.0.20 requires nbformat==5.4.0, but you have nbformat 5.5.0 which is incompatible.\n"
     ]
    },
    {
     "name": "stdout",
     "output_type": "stream",
     "text": [
      "\n",
      "  Downloading GitPython-3.1.31-py3-none-any.whl (184 kB)\n",
      "     -------------------------------------- 184.3/184.3 kB 2.8 MB/s eta 0:00:00\n",
      "Requirement already satisfied: matplotlib>=3.3 in c:\\users\\acorn\\anaconda3\\lib\\site-packages (from -r content/yolov5/requirements.txt (line 6)) (3.5.2)\n",
      "Requirement already satisfied: numpy>=1.18.5 in c:\\users\\acorn\\anaconda3\\lib\\site-packages (from -r content/yolov5/requirements.txt (line 7)) (1.23.5)\n",
      "Requirement already satisfied: opencv-python>=4.1.1 in c:\\users\\acorn\\anaconda3\\lib\\site-packages (from -r content/yolov5/requirements.txt (line 8)) (4.7.0.72)\n",
      "Requirement already satisfied: Pillow>=7.1.2 in c:\\users\\acorn\\anaconda3\\lib\\site-packages (from -r content/yolov5/requirements.txt (line 9)) (9.2.0)\n",
      "Requirement already satisfied: psutil in c:\\users\\acorn\\anaconda3\\lib\\site-packages (from -r content/yolov5/requirements.txt (line 10)) (5.9.0)\n",
      "Requirement already satisfied: PyYAML>=5.3.1 in c:\\users\\acorn\\anaconda3\\lib\\site-packages (from -r content/yolov5/requirements.txt (line 11)) (6.0)\n",
      "Requirement already satisfied: requests>=2.23.0 in c:\\users\\acorn\\anaconda3\\lib\\site-packages (from -r content/yolov5/requirements.txt (line 12)) (2.28.1)\n",
      "Requirement already satisfied: scipy>=1.4.1 in c:\\users\\acorn\\anaconda3\\lib\\site-packages (from -r content/yolov5/requirements.txt (line 13)) (1.9.1)\n",
      "Collecting thop>=0.1.1\n",
      "  Downloading thop-0.1.1.post2209072238-py3-none-any.whl (15 kB)\n",
      "Collecting torch>=1.7.0\n",
      "  Downloading torch-2.0.1-cp39-cp39-win_amd64.whl (172.4 MB)\n",
      "     -------------------------------------- 172.4/172.4 MB 4.6 MB/s eta 0:00:00\n",
      "Collecting torchvision>=0.8.1\n",
      "  Downloading torchvision-0.15.2-cp39-cp39-win_amd64.whl (1.2 MB)\n",
      "     ---------------------------------------- 1.2/1.2 MB 19.1 MB/s eta 0:00:00\n",
      "Requirement already satisfied: tqdm>=4.64.0 in c:\\users\\acorn\\anaconda3\\lib\\site-packages (from -r content/yolov5/requirements.txt (line 17)) (4.64.1)\n",
      "Collecting ultralytics>=8.0.111\n",
      "  Downloading ultralytics-8.0.117-py3-none-any.whl (599 kB)\n",
      "     -------------------------------------- 599.6/599.6 kB 4.7 MB/s eta 0:00:00\n",
      "Requirement already satisfied: pandas>=1.1.4 in c:\\users\\acorn\\anaconda3\\lib\\site-packages (from -r content/yolov5/requirements.txt (line 27)) (1.4.4)\n",
      "Requirement already satisfied: seaborn>=0.11.0 in c:\\users\\acorn\\anaconda3\\lib\\site-packages (from -r content/yolov5/requirements.txt (line 28)) (0.11.2)\n",
      "Collecting setuptools>=65.5.1\n",
      "  Using cached setuptools-67.8.0-py3-none-any.whl (1.1 MB)\n",
      "Collecting gitdb<5,>=4.0.1\n",
      "  Downloading gitdb-4.0.10-py3-none-any.whl (62 kB)\n",
      "     -------------------------------------- 62.7/62.7 kB 334.4 kB/s eta 0:00:00\n",
      "Requirement already satisfied: python-dateutil>=2.7 in c:\\users\\acorn\\anaconda3\\lib\\site-packages (from matplotlib>=3.3->-r content/yolov5/requirements.txt (line 6)) (2.8.2)\n",
      "Requirement already satisfied: fonttools>=4.22.0 in c:\\users\\acorn\\anaconda3\\lib\\site-packages (from matplotlib>=3.3->-r content/yolov5/requirements.txt (line 6)) (4.25.0)\n",
      "Requirement already satisfied: packaging>=20.0 in c:\\users\\acorn\\anaconda3\\lib\\site-packages (from matplotlib>=3.3->-r content/yolov5/requirements.txt (line 6)) (21.3)\n",
      "Requirement already satisfied: kiwisolver>=1.0.1 in c:\\users\\acorn\\anaconda3\\lib\\site-packages (from matplotlib>=3.3->-r content/yolov5/requirements.txt (line 6)) (1.4.2)\n",
      "Requirement already satisfied: cycler>=0.10 in c:\\users\\acorn\\anaconda3\\lib\\site-packages (from matplotlib>=3.3->-r content/yolov5/requirements.txt (line 6)) (0.11.0)\n",
      "Requirement already satisfied: pyparsing>=2.2.1 in c:\\users\\acorn\\anaconda3\\lib\\site-packages (from matplotlib>=3.3->-r content/yolov5/requirements.txt (line 6)) (3.0.9)\n",
      "Requirement already satisfied: certifi>=2017.4.17 in c:\\users\\acorn\\anaconda3\\lib\\site-packages (from requests>=2.23.0->-r content/yolov5/requirements.txt (line 12)) (2022.9.14)\n",
      "Requirement already satisfied: urllib3<1.27,>=1.21.1 in c:\\users\\acorn\\anaconda3\\lib\\site-packages (from requests>=2.23.0->-r content/yolov5/requirements.txt (line 12)) (1.26.11)\n",
      "Requirement already satisfied: charset-normalizer<3,>=2 in c:\\users\\acorn\\anaconda3\\lib\\site-packages (from requests>=2.23.0->-r content/yolov5/requirements.txt (line 12)) (2.0.4)\n",
      "Requirement already satisfied: idna<4,>=2.5 in c:\\users\\acorn\\anaconda3\\lib\\site-packages (from requests>=2.23.0->-r content/yolov5/requirements.txt (line 12)) (3.3)\n",
      "Requirement already satisfied: typing-extensions in c:\\users\\acorn\\anaconda3\\lib\\site-packages (from torch>=1.7.0->-r content/yolov5/requirements.txt (line 15)) (4.3.0)\n",
      "Requirement already satisfied: filelock in c:\\users\\acorn\\anaconda3\\lib\\site-packages (from torch>=1.7.0->-r content/yolov5/requirements.txt (line 15)) (3.6.0)\n",
      "Requirement already satisfied: networkx in c:\\users\\acorn\\anaconda3\\lib\\site-packages (from torch>=1.7.0->-r content/yolov5/requirements.txt (line 15)) (2.8.4)\n",
      "Requirement already satisfied: sympy in c:\\users\\acorn\\anaconda3\\lib\\site-packages (from torch>=1.7.0->-r content/yolov5/requirements.txt (line 15)) (1.10.1)\n",
      "Requirement already satisfied: jinja2 in c:\\users\\acorn\\anaconda3\\lib\\site-packages (from torch>=1.7.0->-r content/yolov5/requirements.txt (line 15)) (2.11.3)\n",
      "Requirement already satisfied: colorama in c:\\users\\acorn\\anaconda3\\lib\\site-packages (from tqdm>=4.64.0->-r content/yolov5/requirements.txt (line 17)) (0.4.5)\n",
      "Requirement already satisfied: pytz>=2020.1 in c:\\users\\acorn\\anaconda3\\lib\\site-packages (from pandas>=1.1.4->-r content/yolov5/requirements.txt (line 27)) (2022.1)\n",
      "Collecting smmap<6,>=3.0.1\n",
      "  Downloading smmap-5.0.0-py3-none-any.whl (24 kB)\n",
      "Requirement already satisfied: six>=1.5 in c:\\users\\acorn\\anaconda3\\lib\\site-packages (from python-dateutil>=2.7->matplotlib>=3.3->-r content/yolov5/requirements.txt (line 6)) (1.16.0)\n",
      "Requirement already satisfied: MarkupSafe>=0.23 in c:\\users\\acorn\\anaconda3\\lib\\site-packages (from jinja2->torch>=1.7.0->-r content/yolov5/requirements.txt (line 15)) (2.0.1)\n",
      "Requirement already satisfied: mpmath>=0.19 in c:\\users\\acorn\\anaconda3\\lib\\site-packages (from sympy->torch>=1.7.0->-r content/yolov5/requirements.txt (line 15)) (1.2.1)\n",
      "Installing collected packages: smmap, setuptools, torch, gitdb, torchvision, thop, gitpython, ultralytics\n",
      "  Attempting uninstall: setuptools\n",
      "    Found existing installation: setuptools 63.4.1\n",
      "    Uninstalling setuptools-63.4.1:\n",
      "      Successfully uninstalled setuptools-63.4.1\n",
      "Successfully installed gitdb-4.0.10 gitpython-3.1.31 setuptools-67.8.0 smmap-5.0.0 thop-0.1.1.post2209072238 torch-2.0.1 torchvision-0.15.2 ultralytics-8.0.117\n"
     ]
    }
   ],
   "source": [
    "### colab\n",
    "# !pip install -r /content/yolov5/requirements.txt\n",
    "\n",
    "!pip install -r content/yolov5/requirements.txt"
   ]
  },
  {
   "cell_type": "code",
   "execution_count": 9,
   "id": "772546a9",
   "metadata": {},
   "outputs": [],
   "source": [
    "### pre-trained model 다운로드\n",
    "\n",
    "### colab\n",
    "# ! wget -P /content/yolov5/ https://github.com/ultralytics/yolov5/releases/download/v6.0/yolov5s.pt"
   ]
  },
  {
   "cell_type": "markdown",
   "id": "b8d26882",
   "metadata": {},
   "source": [
    "## (4) YAML 파일 수정\n",
    "- 학습데이터 정보를 가지고 있는 yaml 파일 확인 및 수정\n",
    "    - path\n",
    "    - train: 필수\n",
    "    - val: 필수\n",
    "    - test\n",
    "    - nc\n",
    "    - names"
   ]
  },
  {
   "cell_type": "markdown",
   "id": "d11d7221",
   "metadata": {},
   "source": [
    "## (5) 재학습: re_training(fine tunning)"
   ]
  },
  {
   "cell_type": "markdown",
   "id": "17786a32",
   "metadata": {},
   "source": [
    "## (6) 테스트(Predict)\n",
    "- detect.py\n",
    "    - source 0:               # webcam\n",
    "    - source file.jpg         # image\n",
    "    - source file.mp4         # video\n",
    "    - source path/            # directory\n",
    "    - source path/*.jpg       # glob\n",
    "    - source url              # 주소\n",
    "    - conf 0.5              # IoU > 0.5\n",
    "    "
   ]
  },
  {
   "cell_type": "code",
   "execution_count": 13,
   "id": "802dbd06",
   "metadata": {},
   "outputs": [
    {
     "name": "stderr",
     "output_type": "stream",
     "text": [
      "\u001b[34m\u001b[1mdetect: \u001b[0mweights=['content/yolov5/yolov5s.pt'], source=content/yolo5/image_data, data=content\\yolov5\\data\\coco128.yaml, imgsz=[640, 640], conf_thres=0.25, iou_thres=0.45, max_det=1000, device=, view_img=False, save_txt=False, save_conf=False, save_crop=False, nosave=False, classes=None, agnostic_nms=False, augment=False, visualize=False, update=False, project=content\\yolov5\\runs\\detect, name=exp, exist_ok=False, line_thickness=3, hide_labels=False, hide_conf=False, half=False, dnn=False, vid_stride=1\n",
      "YOLOv5  v7.0-178-ga199480 Python-3.9.13 torch-2.0.1+cpu CPU\n",
      "\n",
      "Fusing layers... \n",
      "YOLOv5s_v6 summary: 213 layers, 7225885 parameters, 0 gradients\n",
      "image 1/19 C:\\kim\\python\\AI\\content\\yolo5\\image_data\\airplane1.png: 320x640 3 persons, 1 car, 1 airplane, 108.7ms\n",
      "image 2/19 C:\\kim\\python\\AI\\content\\yolo5\\image_data\\airplane2.jpg: 480x640 1 person, 3 airplanes, 154.6ms\n",
      "image 3/19 C:\\kim\\python\\AI\\content\\yolo5\\image_data\\airplane3.jpg: 352x640 1 airplane, 1 clock, 104.7ms\n",
      "image 4/19 C:\\kim\\python\\AI\\content\\yolo5\\image_data\\animal1.jpg: 640x640 1 cat, 211.4ms\n",
      "image 5/19 C:\\kim\\python\\AI\\content\\yolo5\\image_data\\animal2.jpg: 640x512 1 umbrella, 1 teddy bear, 169.5ms\n",
      "image 6/19 C:\\kim\\python\\AI\\content\\yolo5\\image_data\\animal3.jpg: 384x640 1 dog, 10 sheeps, 1 cow, 127.7ms\n",
      "image 7/19 C:\\kim\\python\\AI\\content\\yolo5\\image_data\\animal4.jpg: 384x640 2 dogs, 113.7ms\n",
      "image 8/19 C:\\kim\\python\\AI\\content\\yolo5\\image_data\\animal5.jpg: 448x640 4 persons, 1 dog, 153.6ms\n",
      "image 9/19 C:\\kim\\python\\AI\\content\\yolo5\\image_data\\animal6.jpg: 416x640 1 person, 2 birds, 2 sheeps, 153.6ms\n",
      "image 10/19 C:\\kim\\python\\AI\\content\\yolo5\\image_data\\animal7.jpg: 640x640 5 persons, 1 elephant, 1 giraffe, 211.4ms\n",
      "image 11/19 C:\\kim\\python\\AI\\content\\yolo5\\image_data\\billiard1.jpg: 448x640 10 persons, 1 frisbee, 161.6ms\n",
      "image 12/19 C:\\kim\\python\\AI\\content\\yolo5\\image_data\\bycle1.jpg: 640x480 1 person, 1 car, 161.6ms\n",
      "image 13/19 C:\\kim\\python\\AI\\content\\yolo5\\image_data\\car1.jpg: 352x640 1 person, 1 bus, 106.7ms\n",
      "image 14/19 C:\\kim\\python\\AI\\content\\yolo5\\image_data\\car2.jpg: 416x640 4 persons, 4 cars, 5 motorcycles, 9 buss, 2 traffic lights, 128.7ms\n",
      "image 15/19 C:\\kim\\python\\AI\\content\\yolo5\\image_data\\moto1.jpg: 640x640 5 persons, 166.6ms\n",
      "image 16/19 C:\\kim\\python\\AI\\content\\yolo5\\image_data\\moto2.jpg: 384x640 4 persons, 114.7ms\n",
      "image 17/19 C:\\kim\\python\\AI\\content\\yolo5\\image_data\\moto3.jpg: 320x640 5 persons, 1 car, 113.7ms\n",
      "image 18/19 C:\\kim\\python\\AI\\content\\yolo5\\image_data\\office1.jpg: 448x640 6 persons, 159.6ms\n",
      "image 19/19 C:\\kim\\python\\AI\\content\\yolo5\\image_data\\racing1.jpg: 448x640 13 persons, 139.6ms\n",
      "Speed: 0.7ms pre-process, 145.3ms inference, 1.5ms NMS per image at shape (1, 3, 640, 640)\n",
      "Results saved to \u001b[1mcontent\\yolov5\\runs\\detect\\exp3\u001b[0m\n"
     ]
    }
   ],
   "source": [
    "!python content/yolov5/detect.py --weights content/yolov5/yolov5s.pt --source content/yolo5/image_data"
   ]
  },
  {
   "cell_type": "code",
   "execution_count": 16,
   "id": "2e1b8898",
   "metadata": {
    "scrolled": true
   },
   "outputs": [
    {
     "name": "stdout",
     "output_type": "stream",
     "text": [
      "['content/yolov5/runs/detect/exp3\\\\airplane1.png', 'content/yolov5/runs/detect/exp3\\\\airplane2.jpg', 'content/yolov5/runs/detect/exp3\\\\airplane3.jpg', 'content/yolov5/runs/detect/exp3\\\\animal1.jpg', 'content/yolov5/runs/detect/exp3\\\\animal2.jpg', 'content/yolov5/runs/detect/exp3\\\\animal3.jpg', 'content/yolov5/runs/detect/exp3\\\\animal4.jpg', 'content/yolov5/runs/detect/exp3\\\\animal5.jpg', 'content/yolov5/runs/detect/exp3\\\\animal6.jpg', 'content/yolov5/runs/detect/exp3\\\\animal7.jpg', 'content/yolov5/runs/detect/exp3\\\\billiard1.jpg', 'content/yolov5/runs/detect/exp3\\\\bycle1.jpg', 'content/yolov5/runs/detect/exp3\\\\car1.jpg', 'content/yolov5/runs/detect/exp3\\\\car2.jpg', 'content/yolov5/runs/detect/exp3\\\\moto1.jpg', 'content/yolov5/runs/detect/exp3\\\\moto2.jpg', 'content/yolov5/runs/detect/exp3\\\\moto3.jpg', 'content/yolov5/runs/detect/exp3\\\\office1.jpg', 'content/yolov5/runs/detect/exp3\\\\racing1.jpg']\n",
      "19\n"
     ]
    }
   ],
   "source": [
    "import glob\n",
    "\n",
    "detected_image_list= glob.glob('content/yolov5/runs/detect/exp3/*.*')\n",
    "detected_image_nums= len(detected_image_list)\n",
    "print(detected_image_list)\n",
    "print(detected_image_nums)"
   ]
  },
  {
   "cell_type": "code",
   "execution_count": 17,
   "id": "a13ed9d5",
   "metadata": {},
   "outputs": [
    {
     "name": "stdout",
     "output_type": "stream",
     "text": [
      "content/detected_result created\n"
     ]
    }
   ],
   "source": [
    "### 압축하기\n",
    "import zipfile\n",
    "import os\n",
    "\n",
    "if not os.path.exists('content/detected_result/'):\n",
    "    os.mkdir('content/detected_result')\n",
    "    print('content/detected_result created')\n",
    "\n",
    "with zipfile.ZipFile('content/detected_result/detected_images.zip', 'w') as detected_images:\n",
    "    for idx in range(detected_image_nums):\n",
    "        detected_images.write(detected_image_list[idx])"
   ]
  },
  {
   "cell_type": "markdown",
   "id": "9a4e1fe9",
   "metadata": {},
   "source": [
    "# 2. Basic Detection\n",
    "사람의 얼굴에서 마스크의 위치를 찾는다\n",
    "\n",
    "## (1) yolo 소스 준비\n",
    "- cd content\n",
    "- git clone https://github.com/ultralytics/yolov5\n",
    "\n",
    "## (2) 필수 라이브러리 설치\n",
    "- !pip install -r content/yolov5/requirements.txt\n",
    "\n",
    "## (3) pre-trained model 다운로드\n",
    "- https://github.com/ultralytics/yolov5/releases/download/v6.0/yolov5s.pt\n",
    "\n",
    "## (4) 데이터 준비\n",
    "- [roboflow](https://public.roboflow.com/)\n",
    "- https://public.roboflow.com/ds/d3iZDTzNCM?key=WtD7Aa3X4f\n"
   ]
  },
  {
   "cell_type": "code",
   "execution_count": 1,
   "id": "454d235d",
   "metadata": {},
   "outputs": [],
   "source": [
    "# colab\n",
    "# %mkdir /content/Mask_Data\n",
    "# %cd /content/Mask_Data\n",
    "# !curl -L \"https://public.roboflow.com/ds/d3iZDTzNCM?key=WtD7Aa3X4f\" > roboflow.zip; unzip roboflow.zip; rm roboflow.zip"
   ]
  },
  {
   "cell_type": "markdown",
   "id": "5dac55a6",
   "metadata": {},
   "source": [
    "## (5) yaml 파일 수정"
   ]
  },
  {
   "cell_type": "code",
   "execution_count": 4,
   "id": "4c608a43",
   "metadata": {},
   "outputs": [
    {
     "name": "stderr",
     "output_type": "stream",
     "text": [
      "명령 구문이 올바르지 않습니다.\n"
     ]
    }
   ],
   "source": [
    "!type 'content/Mask_Data/data.yaml'"
   ]
  },
  {
   "cell_type": "code",
   "execution_count": 5,
   "id": "1efd96ac",
   "metadata": {},
   "outputs": [],
   "source": [
    "import yaml\n",
    "\n",
    "with open('content/Mask_Data/data.yaml','r') as f:\n",
    "    data= yaml.safe_load(f)"
   ]
  },
  {
   "cell_type": "code",
   "execution_count": 6,
   "id": "de0cc176",
   "metadata": {},
   "outputs": [
    {
     "name": "stdout",
     "output_type": "stream",
     "text": [
      "{'train': '../train/images', 'val': '../valid/images', 'nc': 2, 'names': ['mask', 'no-mask']}\n"
     ]
    }
   ],
   "source": [
    "print(data)"
   ]
  },
  {
   "cell_type": "code",
   "execution_count": 16,
   "id": "3be63f63",
   "metadata": {},
   "outputs": [],
   "source": [
    "data['train']= 'C:\\kim\\python\\AI\\content\\Mask_Data\\train\\\\images' # '/content/Mask_Data/train/images'\n",
    "data['val']=  'C:\\kim\\python\\AI\\content\\Mask_Data\\valid\\images' # '/content/Mask_Data/valid/images'\n",
    "\n",
    "data['nc']= 2\n",
    "data['name']= ['mask','no-mask']"
   ]
  },
  {
   "cell_type": "code",
   "execution_count": 17,
   "id": "f3d0a009",
   "metadata": {},
   "outputs": [],
   "source": [
    "with open('content/Mask_Data/data.yaml','w') as f:\n",
    "    yaml.dump(data, f)"
   ]
  },
  {
   "cell_type": "code",
   "execution_count": 18,
   "id": "3449f38f",
   "metadata": {},
   "outputs": [
    {
     "name": "stdout",
     "output_type": "stream",
     "text": [
      "{'train': 'C:\\\\kim\\\\python\\\\AI\\\\content\\\\Mask_Data\\train\\\\images', 'val': 'C:\\\\kim\\\\python\\\\AI\\\\content\\\\Mask_Data\\x0balid\\\\images', 'nc': 2, 'names': ['mask', 'no-mask'], 'name': ['mask', 'no-mask']}\n"
     ]
    }
   ],
   "source": [
    "print(data)"
   ]
  },
  {
   "cell_type": "markdown",
   "id": "76d6b2ee",
   "metadata": {},
   "source": [
    "## (6) 재학습\n",
    "- 하이퍼 파라미터 설정 및 train"
   ]
  },
  {
   "cell_type": "code",
   "execution_count": 19,
   "id": "20c45d78",
   "metadata": {},
   "outputs": [
    {
     "name": "stderr",
     "output_type": "stream",
     "text": [
      "\u001b[34m\u001b[1mtrain: \u001b[0mweights=content/yolov5/yolov5s.pt, cfg=content/yolov5/models/yolov5s.yaml, data=content/Mask_Data/data.yaml, hyp=content\\yolov5\\data\\hyps\\hyp.scratch-low.yaml, epochs=100, batch_size=32, imgsz=416, rect=False, resume=False, nosave=False, noval=False, noautoanchor=False, noplots=False, evolve=None, bucket=, cache=None, image_weights=False, device=, multi_scale=False, single_cls=False, optimizer=SGD, sync_bn=False, workers=8, project=content\\yolov5\\runs\\train, name=exp, exist_ok=False, quad=False, cos_lr=False, label_smoothing=0.0, patience=100, freeze=[0], save_period=-1, seed=0, local_rank=-1, entity=None, upload_dataset=False, bbox_interval=-1, artifact_alias=latest\n",
      "\u001b[34m\u001b[1mgithub: \u001b[0mup to date with https://github.com/ultralytics/yolov5 \n",
      "YOLOv5  v7.0-178-ga199480 Python-3.9.13 torch-2.0.1+cpu CPU\n",
      "\n",
      "\u001b[34m\u001b[1mhyperparameters: \u001b[0mlr0=0.01, lrf=0.01, momentum=0.937, weight_decay=0.0005, warmup_epochs=3.0, warmup_momentum=0.8, warmup_bias_lr=0.1, box=0.05, cls=0.5, cls_pw=1.0, obj=1.0, obj_pw=1.0, iou_t=0.2, anchor_t=4.0, fl_gamma=0.0, hsv_h=0.015, hsv_s=0.7, hsv_v=0.4, degrees=0.0, translate=0.1, scale=0.5, shear=0.0, perspective=0.0, flipud=0.0, fliplr=0.5, mosaic=1.0, mixup=0.0, copy_paste=0.0\n",
      "\u001b[34m\u001b[1mClearML: \u001b[0mrun 'pip install clearml' to automatically track, visualize and remotely train YOLOv5  in ClearML\n",
      "\u001b[34m\u001b[1mComet: \u001b[0mrun 'pip install comet_ml' to automatically track and visualize YOLOv5  runs in Comet\n",
      "\u001b[34m\u001b[1mTensorBoard: \u001b[0mStart with 'tensorboard --logdir content\\yolov5\\runs\\train', view at http://localhost:6006/\n",
      "Traceback (most recent call last):\n",
      "  File \"C:\\kim\\python\\AI\\content\\yolov5\\train.py\", line 642, in <module>\n",
      "    main(opt)\n",
      "  File \"C:\\kim\\python\\AI\\content\\yolov5\\train.py\", line 531, in main\n",
      "    train(opt.hyp, opt, device, callbacks)\n",
      "  File \"C:\\kim\\python\\AI\\content\\yolov5\\train.py\", line 112, in train\n",
      "    data_dict = data_dict or check_dataset(data)  # check if None\n",
      "  File \"C:\\kim\\python\\AI\\content\\yolov5\\utils\\general.py\", line 503, in check_dataset\n",
      "    x = (path / data[k]).resolve()\n",
      "  File \"C:\\Users\\acorn\\anaconda3\\lib\\pathlib.py\", line 1215, in resolve\n",
      "    s = self._flavour.resolve(self, strict=strict)\n",
      "  File \"C:\\Users\\acorn\\anaconda3\\lib\\pathlib.py\", line 215, in resolve\n",
      "    s = self._ext_to_normal(_getfinalpathname(s))\n",
      "OSError: [WinError 123] 파일 이름, 디렉터리 이름 또는 볼륨 레이블 구문이 잘못되었습니다: 'C:\\\\kim\\\\python\\\\AI\\\\content\\\\Mask_Data\\train\\\\images'\n"
     ]
    }
   ],
   "source": [
    "img_size= 416\n",
    "batch_size= 32\n",
    "epochs= 100\n",
    "\n",
    "data_path= 'content/Mask_Data/data.yaml'\n",
    "yaml_path= 'content/yolov5/models/yolov5s.yaml'\n",
    "weights_path= 'content/yolov5/yolov5s.pt'\n",
    "\n",
    "!python content/yolov5/train.py --img {img_size} --batch {batch_size} --epochs {epochs} \\\n",
    "                                        --data {data_path} --cfg {yaml_path} --weights {weights_path}"
   ]
  },
  {
   "cell_type": "markdown",
   "id": "855b0a1a",
   "metadata": {},
   "source": [
    "## (7) 텐서보드를 이용한 학습과정 출력\n",
    "- colab"
   ]
  },
  {
   "cell_type": "code",
   "execution_count": null,
   "id": "cea8a1d0",
   "metadata": {},
   "outputs": [],
   "source": [
    "%reload_ext tensorboard\n",
    "%tensorboard --logdir /content/yolov5/runs/train/exp/ --port 6007"
   ]
  },
  {
   "cell_type": "markdown",
   "id": "d8ef771f",
   "metadata": {},
   "source": [
    "## (8) 이미지 데이터 생성 및 확인"
   ]
  },
  {
   "cell_type": "code",
   "execution_count": null,
   "id": "5df29b4b",
   "metadata": {},
   "outputs": [],
   "source": [
    "from glob import glob\n",
    "\n",
    "test_image_list= glob('/content/Mask_Data/test/images/*.jpg')\n",
    "print(len(test_image_list))"
   ]
  },
  {
   "cell_type": "code",
   "execution_count": null,
   "id": "d237d2e3",
   "metadata": {},
   "outputs": [],
   "source": []
  },
  {
   "cell_type": "markdown",
   "id": "3e884ebf",
   "metadata": {},
   "source": [
    "## (9) 테스트"
   ]
  },
  {
   "cell_type": "code",
   "execution_count": null,
   "id": "d1ae7794",
   "metadata": {},
   "outputs": [],
   "source": [
    "!python3 /content/yolov5/detect.py \n",
    "                    --weights C:\\kim\\python\\AI\\content\\yolov5\\runs\\train\\exp\\weights\\best.pt \n",
    "                    --source /content/Mask_Data/test/images/\n",
    "                    --img 416\n",
    "                    --conf 0.5"
   ]
  },
  {
   "cell_type": "code",
   "execution_count": null,
   "id": "1e523b0f",
   "metadata": {},
   "outputs": [],
   "source": [
    "### 압축하기\n",
    "import zipfile\n",
    "import os\n",
    "\n",
    "if not os.path.exists('/content/detected_result/'):\n",
    "    os.mkdir('/content/detected_result')\n",
    "    print('/content/detected_result created')\n",
    "\n",
    "with zipfile.ZipFile('/content/detected_result/detected_images.zip', 'w') as detected_images:\n",
    "    for idx in range(detected_image_nums):\n",
    "        detected_images.write(detected_image_list[idx])"
   ]
  },
  {
   "cell_type": "code",
   "execution_count": null,
   "id": "52f4186d",
   "metadata": {},
   "outputs": [],
   "source": [
    "from google.colab import files\n",
    "\n",
    "files.download('/content/detected_result/detected_images.zip')"
   ]
  }
 ],
 "metadata": {
  "kernelspec": {
   "display_name": "Python 3 (ipykernel)",
   "language": "python",
   "name": "python3"
  },
  "language_info": {
   "codemirror_mode": {
    "name": "ipython",
    "version": 3
   },
   "file_extension": ".py",
   "mimetype": "text/x-python",
   "name": "python",
   "nbconvert_exporter": "python",
   "pygments_lexer": "ipython3",
   "version": "3.9.13"
  }
 },
 "nbformat": 4,
 "nbformat_minor": 5
}
