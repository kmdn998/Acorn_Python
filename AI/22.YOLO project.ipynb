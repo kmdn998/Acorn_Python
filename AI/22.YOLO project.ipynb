{
 "cells": [
  {
   "cell_type": "markdown",
   "metadata": {},
   "source": [
    "[1]  먼저Detection 하고자하는class 를정의한다. 즉Person, Car, Truck, Airplane, Bird 등을detection 하고자한다면, 주어진class 개수는5개임(class 최소개수는4개이상정의)\n",
    "\n",
    "[2] 크롤링이나다운로드등을통해서해당되는class 이미지를디렉토리에저장한다. 학습의정확도를위해최소300 개의이미지가있어야함(1개의이미지내에다양한class 가있어도300 장정도확보하는것이필요함)\n",
    "\n",
    "[3]  labeling tool 을이용해서주어진이미지에대해labeling 수행\n",
    "\n",
    "[4]  YOLOv5 이용해서학습\n",
    "\n",
    "[5]  본인이촬영한이미지나새롭게다운받은이미지등을이용해서테스트수행\n",
    "\n",
    "[6]  테스트결과를바탕으로문제점, 이슈사항및해결방안등을논의하시오"
   ]
  },
  {
   "cell_type": "markdown",
   "metadata": {
    "id": "6cT03xXCOhBd"
   },
   "source": [
    "## 경로설정"
   ]
  },
  {
   "cell_type": "code",
   "execution_count": 1,
   "metadata": {
    "id": "mDFg-QijCa-d"
   },
   "outputs": [],
   "source": [
    "import os\n",
    "\n",
    "ROOT_DIR= 'content'\n",
    "YOLOv5_ROOT_DIR= os.path.join(ROOT_DIR, 'yolov5')\n",
    "\n",
    "### Custom Data\n",
    "DATA_ROOT_DIR= os.path.join(ROOT_DIR, 'Mask_Data')"
   ]
  },
  {
   "cell_type": "markdown",
   "metadata": {
    "id": "LzXkMLMKOllA"
   },
   "source": [
    "## YOLO source 가져오기"
   ]
  },
  {
   "cell_type": "code",
   "execution_count": 11,
   "metadata": {
    "colab": {
     "base_uri": "https://localhost:8080/"
    },
    "id": "pkbZG4xJChvM",
    "outputId": "d8b4e00b-91ae-4123-d4a8-5823f20f6f00"
   },
   "outputs": [
    {
     "name": "stderr",
     "output_type": "stream",
     "text": [
      "스위치가 틀립니다 - \"content\\yolov5\".\n"
     ]
    }
   ],
   "source": [
    "!rmdir {YOLOv5_ROOT_DIR}"
   ]
  },
  {
   "cell_type": "code",
   "execution_count": 6,
   "metadata": {},
   "outputs": [
    {
     "name": "stderr",
     "output_type": "stream",
     "text": [
      "지정된 경로를 찾을 수 없습니다.\n",
      "fatal: destination path 'yolov5' already exists and is not an empty directory.\n"
     ]
    }
   ],
   "source": [
    "!cd {ROOT_DIR}"
   ]
  },
  {
   "cell_type": "code",
   "execution_count": null,
   "metadata": {},
   "outputs": [],
   "source": [
    "!git clone https://github.com/ultralytics/yolov5"
   ]
  },
  {
   "cell_type": "markdown",
   "metadata": {
    "id": "4IAa8tDXOpHu"
   },
   "source": [
    "## YOLO 필수 라이브러리설치"
   ]
  },
  {
   "cell_type": "code",
   "execution_count": 8,
   "metadata": {
    "colab": {
     "base_uri": "https://localhost:8080/"
    },
    "id": "Hb8vpN9BCkVl",
    "outputId": "4c942c64-739c-4d8a-f212-4201bf6e7de7"
   },
   "outputs": [
    {
     "name": "stderr",
     "output_type": "stream",
     "text": [
      "ERROR: Could not open requirements file: [Errno 2] No such file or directory: '/content\\\\yolov5\\\\requirements.txt'\n"
     ]
    }
   ],
   "source": [
    "!pip install -r {os.path.join(YOLOv5_ROOT_DIR, 'requirements.txt')}"
   ]
  },
  {
   "cell_type": "markdown",
   "metadata": {
    "id": "Ik9eEw82Otjk"
   },
   "source": [
    "## pre-trained model 다운로드"
   ]
  },
  {
   "cell_type": "code",
   "execution_count": 4,
   "metadata": {
    "colab": {
     "base_uri": "https://localhost:8080/"
    },
    "id": "lM2CWJRJC_H7",
    "outputId": "fbc5a30f-8666-422a-fda9-c4be3bcdb370"
   },
   "outputs": [
    {
     "name": "stderr",
     "output_type": "stream",
     "text": [
      "'wget'은(는) 내부 또는 외부 명령, 실행할 수 있는 프로그램, 또는\n",
      "배치 파일이 아닙니다.\n"
     ]
    }
   ],
   "source": [
    " !wget -P /content/yolov5/ https://github.com/ultralytics/yolov5/releases/download/v6.0/yolov5s.pt"
   ]
  },
  {
   "cell_type": "markdown",
   "metadata": {
    "id": "OicDxWw9Ox4k"
   },
   "source": [
    "## Custom Data 준비"
   ]
  },
  {
   "cell_type": "code",
   "execution_count": 9,
   "metadata": {
    "colab": {
     "base_uri": "https://localhost:8080/"
    },
    "id": "iH9sUBUQhsTn",
    "outputId": "6cc1e4bb-3ff8-479d-94af-b20cbfd3a695"
   },
   "outputs": [
    {
     "name": "stderr",
     "output_type": "stream",
     "text": [
      "UsageError: Line magic function `%` not found.\n"
     ]
    }
   ],
   "source": [
    "% mkdir /content/Mask_Data\n",
    "% cd /content/Mask_Data"
   ]
  },
  {
   "cell_type": "code",
   "execution_count": 6,
   "metadata": {
    "colab": {
     "base_uri": "https://localhost:8080/"
    },
    "id": "7yaZgUahEYal",
    "outputId": "9b4e4e56-7a79-44d7-9e4f-fa649fe0107c"
   },
   "outputs": [
    {
     "name": "stdout",
     "output_type": "stream",
     "text": [
      "  % Total    % Received % Xferd  Average Speed   Time    Time     Time  Current\n",
      "                                 Dload  Upload   Total   Spent    Left  Speed\n",
      "100   901  100   901    0     0   2581      0 --:--:-- --:--:-- --:--:--  2581\n",
      "100 18.5M  100 18.5M    0     0  10.7M      0  0:00:01  0:00:01 --:--:-- 15.7M\n",
      "Archive:  roboflow.zip\n",
      " extracting: test/images/1288126-10255706714jpg_jpg.rf.ed230c79fdbb1fa0650ff4fd32f620ee.jpg  \n",
      " extracting: test/images/shutterstock_1627199179_jpg.rf.350e69105dd1458572a590c3e3ef2538.jpg  \n",
      " extracting: test/images/15391513324714o1n0r10n6_jpg.rf.eb6b6b796ad74b0c9d75011d1020f0af.jpg  \n",
      " extracting: train/images/1125506397_15801322206131n_jpg.rf.0a60284a71b2d0ed77c002e768b39b00.jpg  \n",
      " extracting: test/images/1579924271_jpg.rf.1fea0f43731fbea2876f63135256004f.jpg  \n",
      " extracting: train/images/1_R_kFK9pNLfKAuopY_lAaPQ_jpeg.rf.030922effaedbead963acea666441dbd.jpg  \n",
      " extracting: test/images/1224331650_g_400-w_g_jpg.rf.483a35a2395bf48e96783587a59fe876.jpg  \n",
      " extracting: train/images/11893820-3x2-xlarge_jpg.rf.1529b09bfee7d069f677ff513f6249eb.jpg  \n",
      " extracting: train/images/r1p00017o80q34s9781_jpg.rf.1ef0de5c875f7e73138d8c9f988eb12e.jpg  \n",
      " extracting: test/images/w1240-p16x9-0e48e0098f6e832f27d8b581b33bbc72b9967a63_jpg.rf.b94576bb6f17f4efb5f582ffd9cf9077.jpg  \n",
      " extracting: train/images/130624011830-malaysia-smog-students-horizontal-large-gallery_jpg.rf.1d1478ec7b2667aa240401f636d513c4.jpg  \n",
      " extracting: test/images/w1240-p16x9-2019-10-04t075956z_1862636027_rc15d4d49d00_rtrmadp_3_hongkong-protests_jpg.rf.a9a2c2a1cb13c980b339065d2324ea7d.jpg  \n",
      " extracting: test/images/126202-untitled-design-13_jpg.rf.baa3d2e55d469ae5d5d4cd81c4603e1d.jpg  \n",
      " extracting: train/images/pollution-mask-CE5HYF_jpg.rf.1d7683c780033e0e32a5ad9d0e1aef33.jpg  \n",
      " extracting: train/images/0_8w7mkX-PHcfMM5s6_jpeg.rf.039eb72a4757882968537a6ae94d198f.jpg  \n",
      " extracting: test/images/the-first-day-of-wuhan-s-closure-some-people-fled-some-panicked_jpg.rf.51ed69bf8d327d93b429a08581f6dea0.jpg  \n",
      " extracting: test/images/r1p00017o8171pnq407_jpg.rf.d21dd91220d3df7763f7d572f3d95863.jpg  \n",
      " extracting: train/images/1249493_jpg.rf.0bab72e6f8295a2ba03052383e7c3b7b.jpg  \n",
      " extracting: test/images/RTX7CCFN_jpg.rf.501a9e3af09662fc1fbd288a32904267.jpg  \n",
      " extracting: test/images/15391513329330sooq10859_jpg.rf.bf9e791012521a572a3a7f2979d0dffe.jpg  \n",
      " extracting: train/images/1_13_jpg.rf.042a2d0121bd5b62e8dd83506ea5ffc1.jpg  \n",
      " extracting: test/images/w1240-p16x9-fa978043deff83fed485af12d16e39c61398fc30_jpg.rf.e68ac161036e4bffd3538903b28c721e.jpg  \n",
      " extracting: test/images/phplpE73q_jpg.rf.0ab5de066db2a3791b039388014565fe.jpg  \n",
      " extracting: train/images/smartmi-3pcs-filter-mask-pm25-haze-dustproof-mask-with-vent_jpg.rf.23ce84d0cd7de25d814655d908bf475d.jpg  \n",
      " extracting: train/images/pjecDNMmCUQmbDoJx1fdqolnfHtpsfFK8jTA2Ng0wNg_jpeg.rf.001be2b5923d35fa3118de329f14f583.jpg  \n",
      " extracting: train/images/1024x576_939430607723_jpg.rf.37f5013ec76b10fb64a6d8623a22ab92.jpg  \n",
      " extracting: train/images/000b7b75-1600_jpg.rf.35b739ea6899972b07aab7225d341307.jpg  \n",
      " extracting: test/images/0_Concern-In-China-As-Mystery-Virus-Spreads_jpg.rf.5633f5fe7a9b926101b7fc16615dfb6a.jpg  \n",
      " extracting: train/images/RTX7CD4D-e1580252893876_jpg.rf.34b2faf56bf74f6c3edd88422a37355e.jpg  \n",
      " extracting: train/images/1125506397_15801322207071n_jpg.rf.28329b8b808690e5537d9bde5b8a0d91.jpg  \n",
      " extracting: train/images/101d6660a8974050b613dd2e6bd59390_jpg.rf.52e1b68968d7307fab23c6bf5fc3cbbe.jpg  \n",
      " extracting: train/images/0602623232127-web-tete_jpg.rf.52602cb4d68c74a35808c767926ab622.jpg  \n",
      " extracting: train/images/0200b38c89b16c37c5de8e247bb00c2f_jpg.rf.4868c78878c91c2c7cc7062e90de7658.jpg  \n",
      " extracting: train/images/UDD3JG3E4JFQ5KSFNGQQ5REINU_jpg.rf.29625775de24b7ffdcccaf143b546669.jpg  \n",
      " extracting: train/images/1140-travelers-at-hong-kong-airport_jpg.rf.4dac1dff15755783b3941a24fcdd12ae.jpg  \n",
      " extracting: train/images/1580128422_jpg.rf.4496b0fe4afc307aa32966c8180bab49.jpg  \n",
      " extracting: train/images/upload-productImg-1527496119162_320_234_jpeg.rf.2630f815b6cc48c80dd42bf539300d26.jpg  \n",
      " extracting: train/images/PHOTriZgIKIgsnNLdBJG75vj200203_1000x2000_jpg.rf.4dfc80ae4acc533c6120e47dd8e7fb1f.jpg  \n",
      " extracting: train/images/shutterstock_584407723_jpg.rf.5535c41d1928154d8b5449d970e8a93f.jpg  \n",
      " extracting: train/images/pic_list_out_2285_jpg.rf.397939882d421310a89ac13b244c8a6e.jpg  \n",
      " extracting: train/images/1024x737_09186876046_jpg.rf.4197293e6ba3db18b6fbb185616dab6c.jpg  \n",
      " extracting: train/images/r1000019q679o5611r7_jpg.rf.4c8be6ea5c4f336654cb6f5bdb7db393.jpg  \n",
      " extracting: train/images/003_1024_jpeg.rf.3d3235de8495eb432dc3c54d17287980.jpg  \n",
      " extracting: train/images/1580053154-5839_jpg.rf.54f3c805dfdfed25f320f6a5bba80000.jpg  \n",
      " extracting: train/images/1579683152-0e3ba5698b090c0fda95caa5d2aa7b31_jpg.rf.3c5a6909252cc8ad7538ddb3b6a8c10d.jpg  \n",
      " extracting: train/images/phppaNXxb_jpg.rf.5778b5bbecd03d86b9a529fa381adccf.jpg  \n",
      " extracting: train/images/rawImage_jpg.rf.5b637f36f129574b6e0931ecd3f63f7e.jpg  \n",
      " extracting: train/images/-1x-1_jpg.rf.69d9b61e3cdb8a9047dad25099fcc8ef.jpg  \n",
      " extracting: train/images/soo(1)_jpg.rf.5ccb9b3550a3813e3023a3bb32a53904.jpg  \n",
      " extracting: train/images/soooo_jpg.rf.6e7754eae524b488b9d6cbacaa578592.jpg  \n",
      " extracting: train/images/W37H3GWNO5EV5HTJQNP4KLIRGI_jpg.rf.71c3c2741aa5f60a7d0a569679b2796c.jpg  \n",
      " extracting: train/images/135e-huxwryw6451820_jpg.rf.7119d8f128c2493e3340654b03e2b6e3.jpg  \n",
      " extracting: train/images/purchase-reauisition-5de4d0f99c77d_jpg.rf.656f7e39f5600537f91019731c9b25fc.jpg  \n",
      " extracting: train/images/stsciRq_png.rf.66178fabcc0b39f7ec45ba1ff1b5d535.jpg  \n",
      " extracting: train/images/TB2R28UvUOWBKNjSZKzXXXfWFXa_!!1116877752_jpg.rf.68b5da162013bf7f4301937f553139a5.jpg  \n",
      " extracting: train/images/Smog-Mask-PM2-5-Carbon-Filter-Face-Masks-Fog-Dust-Air-Cleaner-anti-pollution-Face-Protector_jpg.rf.6cfed8b6d7c3b9b71b2d6cd8e83da420.jpg  \n",
      " extracting: train/images/US-expands-coronavirus-screenings-United-suspends-some-flights-to-China_jpg.rf.7684e0ecdea4004bc109f5482badee55.jpg  \n",
      " extracting: train/images/1580048340614_jpg.rf.83b5517bbfbf2e2ac0b103bec1bd4dfd.jpg  \n",
      " extracting: train/images/1303078448-China-Coronavirus-Death-Toll-Hits-304_jpg.rf.867ecfe8a19d95c4f6a3a59f0bcc963e.jpg  \n",
      " extracting: train/images/1155x768_20200129000089_jpg.rf.73137126ad09e8cf09315eb31ea51592.jpg  \n",
      " extracting: train/images/001_1024_jpeg.rf.82de51e9c6db87b2941a34e6c65de14a.jpg  \n",
      " extracting: train/images/1030611863_jpg.rf.7edae200febe5a5160fede9478f3e591.jpg  \n",
      " extracting: train/images/1029731146_jpg.rf.79ab2cda85860fd020cfdc660f6368ec.jpg  \n",
      " extracting: train/images/004_1024_jpeg.rf.8387cade019b2c139de783457af677ae.jpg  \n",
      " extracting: train/images/shutterstock_289132226_jpg.rf.749c60ddb7bf3d9db9313ff21cb80f77.jpg  \n",
      " extracting: train/images/1579928067_250120120154270000005e2bca03bf464_jpg.rf.8f9bd39325ed77b8f7d31f4847f1f2bb.jpg  \n",
      " extracting: train/images/unnamed_jpg.rf.8bacd81300f96cc2abf8845595a2e160.jpg  \n",
      " extracting: train/images/thumbnail-ba5c72edb320b49a69e86b05775c49b2-scaled-1_jpeg.rf.895025faf5bf05dfb07e227090cb5d56.jpg  \n",
      " extracting: train/images/IMG_5690 2_jpg.rf.7198a97a65ae7dde21284ca6e356f7a8.jpg  \n",
      " extracting: train/images/1000x-1_jpg.rf.8ec74a748fd78ac625bf40b9cc3f276d.jpg  \n",
      " extracting: train/images/1152x768_246964803156_jpg.rf.93e4584edd0a741914cf795c2087200d.jpg  \n",
      " extracting: train/images/thai_cov-transmission030220_jpg.rf.91be1af29fa03c14769c8547e6b38978.jpg  \n",
      " extracting: train/images/1482202839575_jpg.rf.96a5e5e802e33ad574636b271b779c99.jpg  \n",
      " extracting: train/images/so(19)_jpg.rf.97eeeb08001d4cbdb544ac3a57ff5ef3.jpg  \n",
      " extracting: train/images/TASS38012699_jpg.rf.92600e25dc48c12c43d41929c45756ac.jpg  \n",
      " extracting: train/images/r1000019q689461s9r0_jpg.rf.a9a68a09d726331332a9a5eb0087e5b9.jpg  \n",
      " extracting: train/images/w1240-p16x9-5f8aa310737f8e0e6c43d95a68a82b03b6f60106_jpg.rf.a456219c83b48269ce5adb48d513a350.jpg  \n",
      " extracting: train/images/sdsdsff_jpg.rf.a8a15416549f7048fee1764231a9d0eb.jpg  \n",
      " extracting: train/images/012420_coronoa_masks_web_jpg.rf.aa87c46891116535f04447105006c814.jpg  \n",
      " extracting: train/images/125895-untitled-design-30_jpg.rf.ac571fc87624d715f65c707a55fb6bc8.jpg  \n",
      " extracting: train/images/0002526673_jpg.rf.a13de6faa0e2e5250d913ccf27b4c769.jpg  \n",
      " extracting: train/images/ST_20190917_SPTHAZE_5120715_jpg.rf.a9db11227a9e6e324c5a57d0ad8716cd.jpg  \n",
      " extracting: train/images/sgssgg_jpeg.rf.a62f9109a5f44bf8f88b9fd632b8e4de.jpg  \n",
      " extracting: train/images/RZXE24HFK5GSVKVSN57VCVPQ4M_jpg.rf.9fa4f828cb9b4ee616446dff730d55f8.jpg  \n",
      " extracting: train/images/virus_protection123_jpg.rf.b863088fea960d1630687e0d59cbce9a.jpg  \n",
      " extracting: train/images/15-08608-001_jpg.rf.b6002e422a9fa0b261b1c038574326d8.jpg  \n",
      " extracting: train/images/virus_jpg.rf.b9f52d79c98588703b7d55cfc9cd7a78.jpg  \n",
      " extracting: train/images/rally-against-an-anti-mask-law-meant-to-deter-anti-government-protesters-in-hong-kong-china-shutterstock-editorial-10435716z_jpg.rf.c062c7b234046ead0701f794e6311faf.jpg  \n",
      " extracting: train/images/PRI_129079114_1580299603_195_jpg.rf.bdee5eb2f33604b0a266cb99611d37a4.jpg  \n",
      " extracting: train/images/012106_jpg_1140x855_jpg.rf.b2002b96c6972613f93d98f69f0efdee.jpg  \n",
      " extracting: train/images/0450908675_50159485_mutation-virus-chine-inquietude_jpg.rf.9c1d5309c1b4ecea3fda137b207462df.jpg  \n",
      " extracting: train/images/r1p00017o8357s6sno6_jpg.rf.adeceb3bde01bf771fb86d3494cdc1c6.jpg  \n",
      " extracting: train/images/-I1-MS09uaqsLdGTFkgnS0Rcg1mmPyAj95ySg_eckoM_jpeg.rf.b60002517c9371bba207314a49452cf1.jpg  \n",
      " extracting: train/images/so(24) (1)_jpg.rf.c3be9c3a5b0a4cfc31163890ef75878a.jpg  \n",
      " extracting: train/images/w1240-p16x9-6f1db5e0460631cfa98d2d6d8032942f81700bb0_jpg.rf.c35a2f1369d4d99b16a229d0f0d443e4.jpg  \n",
      " extracting: train/images/1422808187-3291816118_jpg.rf.c4f6e44a8611a820f164374b8cc11c17.jpg  \n",
      " extracting: train/images/0209-00176-076b1_jpg.rf.c95d18e12451276a0312e27c9389ef4c.jpg  \n",
      " extracting: train/images/skynews-coronavirus-london-fashion-week_4920359_jpg.rf.cc22ab2e0f2d8f3472a7ddcfa6177fb7.jpg  \n",
      " extracting: train/images/ST_20170401_EASAND_3046471_jpg.rf.ca0eebad80feebefc05d7c52c0f11d65.jpg  \n",
      " extracting: train/images/1477443223-1445746883_jpg.rf.c73a19f37296ace6c3cd12ba54eec28a.jpg  \n",
      " extracting: train/images/1-200102094256105_png.rf.d2ed0c139e4e35ee8889a3a8379348fb.jpg  \n",
      " extracting: train/images/PhotoGrid_1580452532909_jpg.rf.d262d228da16f4c2dd6e613288aee5df.jpg  \n",
      " extracting: train/images/0_10725_jpg.rf.cde494b05911f991c3cc31c8670044b9.jpg  \n",
      " extracting: train/images/RTX1GIDS_jpg.rf.dcc330d53db202ef81677d14e4e30cd9.jpg  \n",
      " extracting: train/images/1288788-une-employee-aide-des-voyageurs-en-provenance-de-chine-le-26-janvier-2020-a-l-aeroport-de-roissy_jpg.rf.d47cf1cb16e3f73965871b18e510cf8b.jpg  \n",
      " extracting: train/images/1125506397_15801322207531n_jpg.rf.e14312be41c570c14c752fd250256aa3.jpg  \n",
      " extracting: train/images/1553605632_9d5877d8_60_jpg.rf.dac19d9ceded61285f48c70d285f0f49.jpg  \n",
      " extracting: train/images/1580173904-0001oc33f_jpg.rf.e46d2ed9d2510b71264546bc047bf9df.jpg  \n",
      " extracting: train/images/1539151332674193npsrq70_jpg.rf.e5f5500c15efd9f28d6bb2536dbba4fe.jpg  \n",
      " extracting: train/images/r1p00017o82psp0o0or_jpg.rf.f0f90c07761eece753f02beac72d5efe.jpg  \n",
      " extracting: train/images/1042977068_jpg.rf.ee48a69fd6f710987596e8fdd2eea713.jpg  \n",
      " extracting: train/images/1133x768_20200130000023_jpg.rf.e8a099312aa174af48c5914c4986f91a.jpg  \n",
      " extracting: train/images/sars-gettyimages-157005245_jpg.rf.e6d5283c235edb22b1eb63fc0f8e47e9.jpg  \n",
      " extracting: train/images/000_1ov3n5_0_jpeg.rf.edad89426b118f4c76ba4ae3790b3f31.jpg  \n",
      " extracting: train/images/remote (1)_jpeg.rf.f2472419ac8ebfc38ba9bb5e215e11f8.jpg  \n",
      " extracting: valid/images/0009S6815V3PEU1N-C123-F4_jpg.rf.128ad940f96aa8fa5174093ddb7ae5ee.jpg  \n",
      " extracting: train/images/Untitled-design-13_png.rf.ff8d68dfee2ede269856144ec3380659.jpg  \n",
      " extracting: valid/images/0ad90195-cd77-489e-bf85-08c83b80d3e0_jpg.rf.006de569e2242cb425b5f931c5e0f8be.jpg  \n",
      " extracting: train/images/Surgical-Mask-Effectiveness_jpg.rf.f1df6e057fc624a11625a316cc488d98.jpg  \n",
      " extracting: train/images/sdfsdfsfff_jpg.rf.de8549155f84a7f30cd5f9f88f6c58b3.jpg  \n",
      " extracting: train/images/skypost16012020a01s_jpg.rf.f6eebdde4cc1270b8719743d530adae5.jpg  \n",
      " extracting: valid/images/r1400018548960op29s_jpg.rf.1aa9ecf11eb6e101f0bbdf0c3048702c.jpg  \n",
      " extracting: valid/images/1125506397_15801322206581n_jpg.rf.3c089d43976a3dd3b0dfab58bdcac999.jpg  \n",
      " extracting: valid/images/shutterstock_1145933543-e1579497052960_jpg.rf.484e9b9fdec9aa67a63d08df3958cba6.jpg  \n",
      " extracting: valid/images/w1240-p16x9-coronavirus_CHINA-HEALTH_jpg.rf.095ad216d07f4d521dbd956834f793ea.jpg  \n",
      " extracting: valid/images/002_1024_jpeg.rf.21167ff8a675d17c91a8c57a5269dad7.jpg  \n",
      " extracting: valid/images/r1000019q669394n9qp_jpg.rf.4ea90092a57dfae9753bfdad3193ea2c.jpg  \n",
      " extracting: valid/images/000_1OC3DT_jpg.rf.3d1fb8e38f21ec81247c6c3850038888.jpg  \n",
      " extracting: train/images/1580166133-5b61094cac11561b0cbe09826e32a924_jpg.rf.fd801022283d5bce8079887db2ef980c.jpg  \n",
      " extracting: valid/images/1197315184_jpg_0_jpg.rf.448838b1a29be91ef9c08cc895837686.jpg  \n",
      " extracting: valid/images/us-state-department-warns-against-visiting-china-citing-coronavirus_jpg.rf.51aea5bc06a6e1f9113bbed4a7068697.jpg  \n",
      " extracting: valid/images/w1240-p16x9-CORONAVIRUS-CHINA-HEALTH-APPLE STORE_jpg.rf.69b0624b52841ca749dc6a289fba53df.jpg  \n",
      " extracting: valid/images/sdgdsgsg_jpg.rf.2296809055f00546a3bb756a73bb4472.jpg  \n",
      " extracting: valid/images/phpM5suKS_jpg.rf.6bfbc753f035295f8b61751be4ab9945.jpg  \n",
      " extracting: valid/images/stock-photo-mother-and-her-daughter-walking-go-to-school-with-wearing-a-protection-mask-against-pm-air-1346870465_jpg.rf.1af78a7aa3ada1688f46a406f51ba584.jpg  \n",
      " extracting: valid/images/shutterstock_editorial_10536831j_2e16d0ba_fill-1200x650_jpg.rf.4b10ecf8292b69a042239f8d426feaab.jpg  \n",
      " extracting: valid/images/S1-EV360_FACEMA_M_20200130144349_jpg.rf.c6beae438ca764fe58afb2f3d747aca3.jpg  \n",
      " extracting: valid/images/10fea_8011463765e2aa28b386cf_jpg.rf.7981dc5de795ab4252631683e0de84ae.jpg  \n",
      " extracting: valid/images/0109-00176-096b1_jpg.rf.69ffdcd78617808a849bb59feea2afca.jpg  \n",
      " extracting: valid/images/08165739_jpg.rf.81a9ba05554adbce15ed6cd7dfac96cf.jpg  \n",
      " extracting: valid/images/1196686205_jpg_14_jpg.rf.95f742744c99ce310aea3fee820b6811.jpg  \n",
      " extracting: valid/images/15150794626913_jpg.rf.78b49f28af0f2654221ae46fb04eb549.jpg  \n",
      " extracting: valid/images/1197620896_jpg.rf.b987b8c72404cdfd4c5d123e713326eb.jpg  \n",
      " extracting: valid/images/025418_springwest005_jpg.rf.9342b3603f02ddb7d28ea4c91f711677.jpg  \n",
      " extracting: valid/images/REVZGCBIJNQPMIIXOKDCQA3GJI_jpg.rf.f948274557822ca0e7764d95cd137c13.jpg  \n",
      " extracting: valid/images/08_11_2019-airpollution_234_19737819_192539446_jpg.rf.fa2a2fbe265356ca47e94944207ecbb5.jpg  \n",
      " extracting: valid/images/15391513321824spp815on8_jpg.rf.cbea58f57f15ea6ee59970ad58b1cbf4.jpg  \n",
      " extracting: valid/images/1483800496-3386248642_jpg.rf.6a8d7d7f3c7ca1b7129c902610068440.jpg  \n",
      " extracting: valid/images/022814asiatodaymasks_960x540_jpg.rf.a334c489daa4a1db00e580a7a516ce66.jpg  \n",
      " extracting: test/labels/1288126-10255706714jpg_jpg.rf.ed230c79fdbb1fa0650ff4fd32f620ee.txt  \n",
      " extracting: test/labels/shutterstock_1627199179_jpg.rf.350e69105dd1458572a590c3e3ef2538.txt  \n",
      " extracting: test/labels/15391513324714o1n0r10n6_jpg.rf.eb6b6b796ad74b0c9d75011d1020f0af.txt  \n",
      " extracting: test/labels/1579924271_jpg.rf.1fea0f43731fbea2876f63135256004f.txt  \n",
      " extracting: test/labels/1224331650_g_400-w_g_jpg.rf.483a35a2395bf48e96783587a59fe876.txt  \n",
      " extracting: test/labels/w1240-p16x9-0e48e0098f6e832f27d8b581b33bbc72b9967a63_jpg.rf.b94576bb6f17f4efb5f582ffd9cf9077.txt  \n",
      " extracting: test/labels/w1240-p16x9-2019-10-04t075956z_1862636027_rc15d4d49d00_rtrmadp_3_hongkong-protests_jpg.rf.a9a2c2a1cb13c980b339065d2324ea7d.txt  \n",
      " extracting: test/labels/126202-untitled-design-13_jpg.rf.baa3d2e55d469ae5d5d4cd81c4603e1d.txt  \n",
      " extracting: test/labels/the-first-day-of-wuhan-s-closure-some-people-fled-some-panicked_jpg.rf.51ed69bf8d327d93b429a08581f6dea0.txt  \n",
      " extracting: test/labels/r1p00017o8171pnq407_jpg.rf.d21dd91220d3df7763f7d572f3d95863.txt  \n",
      " extracting: test/labels/RTX7CCFN_jpg.rf.501a9e3af09662fc1fbd288a32904267.txt  \n",
      " extracting: test/labels/15391513329330sooq10859_jpg.rf.bf9e791012521a572a3a7f2979d0dffe.txt  \n",
      " extracting: test/labels/w1240-p16x9-fa978043deff83fed485af12d16e39c61398fc30_jpg.rf.e68ac161036e4bffd3538903b28c721e.txt  \n",
      " extracting: test/labels/phplpE73q_jpg.rf.0ab5de066db2a3791b039388014565fe.txt  \n",
      " extracting: test/labels/0_Concern-In-China-As-Mystery-Virus-Spreads_jpg.rf.5633f5fe7a9b926101b7fc16615dfb6a.txt  \n",
      " extracting: data.yaml               \n",
      " extracting: train/labels/1125506397_15801322206131n_jpg.rf.0a60284a71b2d0ed77c002e768b39b00.txt  \n",
      " extracting: train/labels/1_R_kFK9pNLfKAuopY_lAaPQ_jpeg.rf.030922effaedbead963acea666441dbd.txt  \n",
      " extracting: train/labels/11893820-3x2-xlarge_jpg.rf.1529b09bfee7d069f677ff513f6249eb.txt  \n",
      " extracting: train/labels/r1p00017o80q34s9781_jpg.rf.1ef0de5c875f7e73138d8c9f988eb12e.txt  \n",
      " extracting: train/labels/130624011830-malaysia-smog-students-horizontal-large-gallery_jpg.rf.1d1478ec7b2667aa240401f636d513c4.txt  \n",
      " extracting: train/labels/pollution-mask-CE5HYF_jpg.rf.1d7683c780033e0e32a5ad9d0e1aef33.txt  \n",
      " extracting: train/labels/0_8w7mkX-PHcfMM5s6_jpeg.rf.039eb72a4757882968537a6ae94d198f.txt  \n",
      " extracting: train/labels/1249493_jpg.rf.0bab72e6f8295a2ba03052383e7c3b7b.txt  \n",
      " extracting: train/labels/1_13_jpg.rf.042a2d0121bd5b62e8dd83506ea5ffc1.txt  \n",
      " extracting: train/labels/smartmi-3pcs-filter-mask-pm25-haze-dustproof-mask-with-vent_jpg.rf.23ce84d0cd7de25d814655d908bf475d.txt  \n",
      " extracting: train/labels/pjecDNMmCUQmbDoJx1fdqolnfHtpsfFK8jTA2Ng0wNg_jpeg.rf.001be2b5923d35fa3118de329f14f583.txt  \n",
      " extracting: train/labels/1024x576_939430607723_jpg.rf.37f5013ec76b10fb64a6d8623a22ab92.txt  \n",
      " extracting: train/labels/000b7b75-1600_jpg.rf.35b739ea6899972b07aab7225d341307.txt  \n",
      " extracting: train/labels/RTX7CD4D-e1580252893876_jpg.rf.34b2faf56bf74f6c3edd88422a37355e.txt  \n",
      " extracting: train/labels/1125506397_15801322207071n_jpg.rf.28329b8b808690e5537d9bde5b8a0d91.txt  \n",
      " extracting: train/labels/101d6660a8974050b613dd2e6bd59390_jpg.rf.52e1b68968d7307fab23c6bf5fc3cbbe.txt  \n",
      " extracting: train/labels/0602623232127-web-tete_jpg.rf.52602cb4d68c74a35808c767926ab622.txt  \n",
      " extracting: train/labels/0200b38c89b16c37c5de8e247bb00c2f_jpg.rf.4868c78878c91c2c7cc7062e90de7658.txt  \n",
      " extracting: train/labels/UDD3JG3E4JFQ5KSFNGQQ5REINU_jpg.rf.29625775de24b7ffdcccaf143b546669.txt  \n",
      " extracting: train/labels/1140-travelers-at-hong-kong-airport_jpg.rf.4dac1dff15755783b3941a24fcdd12ae.txt  \n",
      " extracting: train/labels/1580128422_jpg.rf.4496b0fe4afc307aa32966c8180bab49.txt  \n",
      " extracting: train/labels/upload-productImg-1527496119162_320_234_jpeg.rf.2630f815b6cc48c80dd42bf539300d26.txt  \n",
      " extracting: train/labels/PHOTriZgIKIgsnNLdBJG75vj200203_1000x2000_jpg.rf.4dfc80ae4acc533c6120e47dd8e7fb1f.txt  \n",
      " extracting: train/labels/shutterstock_584407723_jpg.rf.5535c41d1928154d8b5449d970e8a93f.txt  \n",
      " extracting: train/labels/pic_list_out_2285_jpg.rf.397939882d421310a89ac13b244c8a6e.txt  \n",
      " extracting: train/labels/1024x737_09186876046_jpg.rf.4197293e6ba3db18b6fbb185616dab6c.txt  \n",
      " extracting: train/labels/r1000019q679o5611r7_jpg.rf.4c8be6ea5c4f336654cb6f5bdb7db393.txt  \n",
      " extracting: train/labels/003_1024_jpeg.rf.3d3235de8495eb432dc3c54d17287980.txt  \n",
      " extracting: train/labels/1580053154-5839_jpg.rf.54f3c805dfdfed25f320f6a5bba80000.txt  \n",
      " extracting: train/labels/1579683152-0e3ba5698b090c0fda95caa5d2aa7b31_jpg.rf.3c5a6909252cc8ad7538ddb3b6a8c10d.txt  \n",
      " extracting: train/labels/phppaNXxb_jpg.rf.5778b5bbecd03d86b9a529fa381adccf.txt  \n",
      " extracting: train/labels/rawImage_jpg.rf.5b637f36f129574b6e0931ecd3f63f7e.txt  \n",
      " extracting: train/labels/-1x-1_jpg.rf.69d9b61e3cdb8a9047dad25099fcc8ef.txt  \n",
      " extracting: train/labels/soo(1)_jpg.rf.5ccb9b3550a3813e3023a3bb32a53904.txt  \n",
      " extracting: train/labels/soooo_jpg.rf.6e7754eae524b488b9d6cbacaa578592.txt  \n",
      " extracting: train/labels/W37H3GWNO5EV5HTJQNP4KLIRGI_jpg.rf.71c3c2741aa5f60a7d0a569679b2796c.txt  \n",
      " extracting: train/labels/135e-huxwryw6451820_jpg.rf.7119d8f128c2493e3340654b03e2b6e3.txt  \n",
      " extracting: train/labels/purchase-reauisition-5de4d0f99c77d_jpg.rf.656f7e39f5600537f91019731c9b25fc.txt  \n",
      " extracting: train/labels/stsciRq_png.rf.66178fabcc0b39f7ec45ba1ff1b5d535.txt  \n",
      " extracting: train/labels/TB2R28UvUOWBKNjSZKzXXXfWFXa_!!1116877752_jpg.rf.68b5da162013bf7f4301937f553139a5.txt  \n",
      " extracting: train/labels/Smog-Mask-PM2-5-Carbon-Filter-Face-Masks-Fog-Dust-Air-Cleaner-anti-pollution-Face-Protector_jpg.rf.6cfed8b6d7c3b9b71b2d6cd8e83da420.txt  \n",
      " extracting: train/labels/US-expands-coronavirus-screenings-United-suspends-some-flights-to-China_jpg.rf.7684e0ecdea4004bc109f5482badee55.txt  \n",
      " extracting: train/labels/1580048340614_jpg.rf.83b5517bbfbf2e2ac0b103bec1bd4dfd.txt  \n",
      " extracting: train/labels/1303078448-China-Coronavirus-Death-Toll-Hits-304_jpg.rf.867ecfe8a19d95c4f6a3a59f0bcc963e.txt  \n",
      " extracting: train/labels/1155x768_20200129000089_jpg.rf.73137126ad09e8cf09315eb31ea51592.txt  \n",
      " extracting: train/labels/001_1024_jpeg.rf.82de51e9c6db87b2941a34e6c65de14a.txt  \n",
      " extracting: train/labels/1030611863_jpg.rf.7edae200febe5a5160fede9478f3e591.txt  \n",
      " extracting: train/labels/1029731146_jpg.rf.79ab2cda85860fd020cfdc660f6368ec.txt  \n",
      " extracting: train/labels/004_1024_jpeg.rf.8387cade019b2c139de783457af677ae.txt  \n",
      " extracting: train/labels/shutterstock_289132226_jpg.rf.749c60ddb7bf3d9db9313ff21cb80f77.txt  \n",
      " extracting: train/labels/1579928067_250120120154270000005e2bca03bf464_jpg.rf.8f9bd39325ed77b8f7d31f4847f1f2bb.txt  \n",
      " extracting: train/labels/unnamed_jpg.rf.8bacd81300f96cc2abf8845595a2e160.txt  \n",
      " extracting: train/labels/thumbnail-ba5c72edb320b49a69e86b05775c49b2-scaled-1_jpeg.rf.895025faf5bf05dfb07e227090cb5d56.txt  \n",
      " extracting: train/labels/IMG_5690 2_jpg.rf.7198a97a65ae7dde21284ca6e356f7a8.txt  \n",
      " extracting: train/labels/1000x-1_jpg.rf.8ec74a748fd78ac625bf40b9cc3f276d.txt  \n",
      " extracting: train/labels/1152x768_246964803156_jpg.rf.93e4584edd0a741914cf795c2087200d.txt  \n",
      " extracting: train/labels/thai_cov-transmission030220_jpg.rf.91be1af29fa03c14769c8547e6b38978.txt  \n",
      " extracting: train/labels/1482202839575_jpg.rf.96a5e5e802e33ad574636b271b779c99.txt  \n",
      " extracting: train/labels/so(19)_jpg.rf.97eeeb08001d4cbdb544ac3a57ff5ef3.txt  \n",
      " extracting: train/labels/TASS38012699_jpg.rf.92600e25dc48c12c43d41929c45756ac.txt  \n",
      " extracting: train/labels/r1000019q689461s9r0_jpg.rf.a9a68a09d726331332a9a5eb0087e5b9.txt  \n",
      " extracting: train/labels/w1240-p16x9-5f8aa310737f8e0e6c43d95a68a82b03b6f60106_jpg.rf.a456219c83b48269ce5adb48d513a350.txt  \n",
      " extracting: train/labels/sdsdsff_jpg.rf.a8a15416549f7048fee1764231a9d0eb.txt  \n",
      " extracting: train/labels/012420_coronoa_masks_web_jpg.rf.aa87c46891116535f04447105006c814.txt  \n",
      " extracting: train/labels/125895-untitled-design-30_jpg.rf.ac571fc87624d715f65c707a55fb6bc8.txt  \n",
      " extracting: train/labels/0002526673_jpg.rf.a13de6faa0e2e5250d913ccf27b4c769.txt  \n",
      " extracting: train/labels/ST_20190917_SPTHAZE_5120715_jpg.rf.a9db11227a9e6e324c5a57d0ad8716cd.txt  \n",
      " extracting: train/labels/sgssgg_jpeg.rf.a62f9109a5f44bf8f88b9fd632b8e4de.txt  \n",
      " extracting: train/labels/RZXE24HFK5GSVKVSN57VCVPQ4M_jpg.rf.9fa4f828cb9b4ee616446dff730d55f8.txt  \n",
      " extracting: train/labels/virus_protection123_jpg.rf.b863088fea960d1630687e0d59cbce9a.txt  \n",
      " extracting: train/labels/15-08608-001_jpg.rf.b6002e422a9fa0b261b1c038574326d8.txt  \n",
      " extracting: train/labels/virus_jpg.rf.b9f52d79c98588703b7d55cfc9cd7a78.txt  \n",
      " extracting: train/labels/rally-against-an-anti-mask-law-meant-to-deter-anti-government-protesters-in-hong-kong-china-shutterstock-editorial-10435716z_jpg.rf.c062c7b234046ead0701f794e6311faf.txt  \n",
      " extracting: train/labels/PRI_129079114_1580299603_195_jpg.rf.bdee5eb2f33604b0a266cb99611d37a4.txt  \n",
      " extracting: train/labels/012106_jpg_1140x855_jpg.rf.b2002b96c6972613f93d98f69f0efdee.txt  \n",
      " extracting: train/labels/0450908675_50159485_mutation-virus-chine-inquietude_jpg.rf.9c1d5309c1b4ecea3fda137b207462df.txt  \n",
      " extracting: train/labels/r1p00017o8357s6sno6_jpg.rf.adeceb3bde01bf771fb86d3494cdc1c6.txt  \n",
      " extracting: train/labels/-I1-MS09uaqsLdGTFkgnS0Rcg1mmPyAj95ySg_eckoM_jpeg.rf.b60002517c9371bba207314a49452cf1.txt  \n",
      " extracting: train/labels/so(24) (1)_jpg.rf.c3be9c3a5b0a4cfc31163890ef75878a.txt  \n",
      " extracting: train/labels/w1240-p16x9-6f1db5e0460631cfa98d2d6d8032942f81700bb0_jpg.rf.c35a2f1369d4d99b16a229d0f0d443e4.txt  \n",
      " extracting: train/labels/1422808187-3291816118_jpg.rf.c4f6e44a8611a820f164374b8cc11c17.txt  \n",
      " extracting: train/labels/0209-00176-076b1_jpg.rf.c95d18e12451276a0312e27c9389ef4c.txt  \n",
      " extracting: train/labels/skynews-coronavirus-london-fashion-week_4920359_jpg.rf.cc22ab2e0f2d8f3472a7ddcfa6177fb7.txt  \n",
      " extracting: train/labels/ST_20170401_EASAND_3046471_jpg.rf.ca0eebad80feebefc05d7c52c0f11d65.txt  \n",
      " extracting: train/labels/1477443223-1445746883_jpg.rf.c73a19f37296ace6c3cd12ba54eec28a.txt  \n",
      " extracting: train/labels/1-200102094256105_png.rf.d2ed0c139e4e35ee8889a3a8379348fb.txt  \n",
      " extracting: train/labels/PhotoGrid_1580452532909_jpg.rf.d262d228da16f4c2dd6e613288aee5df.txt  \n",
      " extracting: train/labels/0_10725_jpg.rf.cde494b05911f991c3cc31c8670044b9.txt  \n",
      " extracting: train/labels/RTX1GIDS_jpg.rf.dcc330d53db202ef81677d14e4e30cd9.txt  \n",
      " extracting: train/labels/1288788-une-employee-aide-des-voyageurs-en-provenance-de-chine-le-26-janvier-2020-a-l-aeroport-de-roissy_jpg.rf.d47cf1cb16e3f73965871b18e510cf8b.txt  \n",
      " extracting: train/labels/1125506397_15801322207531n_jpg.rf.e14312be41c570c14c752fd250256aa3.txt  \n",
      " extracting: train/labels/1553605632_9d5877d8_60_jpg.rf.dac19d9ceded61285f48c70d285f0f49.txt  \n",
      " extracting: train/labels/1580173904-0001oc33f_jpg.rf.e46d2ed9d2510b71264546bc047bf9df.txt  \n",
      " extracting: train/labels/1539151332674193npsrq70_jpg.rf.e5f5500c15efd9f28d6bb2536dbba4fe.txt  \n",
      " extracting: train/labels/r1p00017o82psp0o0or_jpg.rf.f0f90c07761eece753f02beac72d5efe.txt  \n",
      " extracting: train/labels/1042977068_jpg.rf.ee48a69fd6f710987596e8fdd2eea713.txt  \n",
      " extracting: train/labels/1133x768_20200130000023_jpg.rf.e8a099312aa174af48c5914c4986f91a.txt  \n",
      " extracting: train/labels/sars-gettyimages-157005245_jpg.rf.e6d5283c235edb22b1eb63fc0f8e47e9.txt  \n",
      " extracting: train/labels/000_1ov3n5_0_jpeg.rf.edad89426b118f4c76ba4ae3790b3f31.txt  \n",
      " extracting: train/labels/remote (1)_jpeg.rf.f2472419ac8ebfc38ba9bb5e215e11f8.txt  \n",
      " extracting: train/labels/Untitled-design-13_png.rf.ff8d68dfee2ede269856144ec3380659.txt  \n",
      " extracting: train/labels/Surgical-Mask-Effectiveness_jpg.rf.f1df6e057fc624a11625a316cc488d98.txt  \n",
      " extracting: train/labels/sdfsdfsfff_jpg.rf.de8549155f84a7f30cd5f9f88f6c58b3.txt  \n",
      " extracting: train/labels/skypost16012020a01s_jpg.rf.f6eebdde4cc1270b8719743d530adae5.txt  \n",
      " extracting: train/labels/1580166133-5b61094cac11561b0cbe09826e32a924_jpg.rf.fd801022283d5bce8079887db2ef980c.txt  \n",
      " extracting: valid/labels/0009S6815V3PEU1N-C123-F4_jpg.rf.128ad940f96aa8fa5174093ddb7ae5ee.txt  \n",
      " extracting: valid/labels/0ad90195-cd77-489e-bf85-08c83b80d3e0_jpg.rf.006de569e2242cb425b5f931c5e0f8be.txt  \n",
      " extracting: valid/labels/r1400018548960op29s_jpg.rf.1aa9ecf11eb6e101f0bbdf0c3048702c.txt  \n",
      " extracting: valid/labels/1125506397_15801322206581n_jpg.rf.3c089d43976a3dd3b0dfab58bdcac999.txt  \n",
      " extracting: valid/labels/shutterstock_1145933543-e1579497052960_jpg.rf.484e9b9fdec9aa67a63d08df3958cba6.txt  \n",
      " extracting: valid/labels/w1240-p16x9-coronavirus_CHINA-HEALTH_jpg.rf.095ad216d07f4d521dbd956834f793ea.txt  \n",
      " extracting: valid/labels/002_1024_jpeg.rf.21167ff8a675d17c91a8c57a5269dad7.txt  \n",
      " extracting: valid/labels/r1000019q669394n9qp_jpg.rf.4ea90092a57dfae9753bfdad3193ea2c.txt  \n",
      " extracting: valid/labels/000_1OC3DT_jpg.rf.3d1fb8e38f21ec81247c6c3850038888.txt  \n",
      " extracting: valid/labels/1197315184_jpg_0_jpg.rf.448838b1a29be91ef9c08cc895837686.txt  \n",
      " extracting: valid/labels/us-state-department-warns-against-visiting-china-citing-coronavirus_jpg.rf.51aea5bc06a6e1f9113bbed4a7068697.txt  \n",
      " extracting: valid/labels/w1240-p16x9-CORONAVIRUS-CHINA-HEALTH-APPLE STORE_jpg.rf.69b0624b52841ca749dc6a289fba53df.txt  \n",
      " extracting: valid/labels/sdgdsgsg_jpg.rf.2296809055f00546a3bb756a73bb4472.txt  \n",
      " extracting: valid/labels/phpM5suKS_jpg.rf.6bfbc753f035295f8b61751be4ab9945.txt  \n",
      " extracting: valid/labels/stock-photo-mother-and-her-daughter-walking-go-to-school-with-wearing-a-protection-mask-against-pm-air-1346870465_jpg.rf.1af78a7aa3ada1688f46a406f51ba584.txt  \n",
      " extracting: valid/labels/shutterstock_editorial_10536831j_2e16d0ba_fill-1200x650_jpg.rf.4b10ecf8292b69a042239f8d426feaab.txt  \n",
      " extracting: valid/labels/S1-EV360_FACEMA_M_20200130144349_jpg.rf.c6beae438ca764fe58afb2f3d747aca3.txt  \n",
      " extracting: valid/labels/10fea_8011463765e2aa28b386cf_jpg.rf.7981dc5de795ab4252631683e0de84ae.txt  \n",
      " extracting: valid/labels/0109-00176-096b1_jpg.rf.69ffdcd78617808a849bb59feea2afca.txt  \n",
      " extracting: valid/labels/08165739_jpg.rf.81a9ba05554adbce15ed6cd7dfac96cf.txt  \n",
      " extracting: valid/labels/1196686205_jpg_14_jpg.rf.95f742744c99ce310aea3fee820b6811.txt  \n",
      " extracting: valid/labels/15150794626913_jpg.rf.78b49f28af0f2654221ae46fb04eb549.txt  \n",
      " extracting: valid/labels/1197620896_jpg.rf.b987b8c72404cdfd4c5d123e713326eb.txt  \n",
      " extracting: valid/labels/025418_springwest005_jpg.rf.9342b3603f02ddb7d28ea4c91f711677.txt  \n",
      " extracting: valid/labels/REVZGCBIJNQPMIIXOKDCQA3GJI_jpg.rf.f948274557822ca0e7764d95cd137c13.txt  \n",
      " extracting: valid/labels/08_11_2019-airpollution_234_19737819_192539446_jpg.rf.fa2a2fbe265356ca47e94944207ecbb5.txt  \n",
      " extracting: valid/labels/15391513321824spp815on8_jpg.rf.cbea58f57f15ea6ee59970ad58b1cbf4.txt  \n",
      " extracting: valid/labels/1483800496-3386248642_jpg.rf.6a8d7d7f3c7ca1b7129c902610068440.txt  \n",
      " extracting: valid/labels/022814asiatodaymasks_960x540_jpg.rf.a334c489daa4a1db00e580a7a516ce66.txt  \n",
      " extracting: README.roboflow.txt     \n",
      " extracting: README.dataset.txt      \n"
     ]
    }
   ],
   "source": [
    "!curl -L \"https://public.roboflow.com/ds/d3iZDTzNCM?key=WtD7Aa3X4f\" > roboflow.zip; unzip roboflow.zip; rm roboflow.zip"
   ]
  },
  {
   "cell_type": "markdown",
   "metadata": {},
   "source": [
    "## train/valid image와 label 개수 및 파일명 체크"
   ]
  },
  {
   "cell_type": "code",
   "execution_count": 30,
   "metadata": {},
   "outputs": [],
   "source": [
    "TRAIN_IMAGE_DATA_DIR= os.path.join(DATA_ROOT_DIR, 'train/images/') \n",
    "TRAIN_LABEL_DATA_DIR= os.path.join(DATA_ROOT_DIR, 'train/labels/') \n",
    "\n",
    "VALID_IMAGE_DATA_DIR= os.path.join(DATA_ROOT_DIR, 'valid/images/') \n",
    "VALID_LABEL_DATA_DIR= os.path.join(DATA_ROOT_DIR, 'valid/labels/') \n",
    "\n",
    "NEW_TRAIN_IMAGE_DATA_DIR= os.path.join(DATA_ROOT_DIR, 'new_train/images/')\n",
    "NEW_TRAIN_LABEL_DATA_DIR= os.path.join(DATA_ROOT_DIR, 'new_train/labels/')\n",
    "\n",
    "NEW_VALID_IMAGE_DATA_DIR= os.path.join(DATA_ROOT_DIR, 'new_valid/images/')\n",
    "NEW_VALID_LABEL_DATA_DIR= os.path.join(DATA_ROOT_DIR, 'new_valid/labels/')"
   ]
  },
  {
   "cell_type": "code",
   "execution_count": 5,
   "metadata": {},
   "outputs": [
    {
     "name": "stdout",
     "output_type": "stream",
     "text": [
      "[before os.remove] nums of image file path =  105\n",
      "[before os.remove] nums of label file path =  105\n",
      "content\\Mask_Data\\train/images\\1_13_jpg.rf.042a2d0121bd5b62e8dd83506ea5ffc1.jpg is removing...\n",
      "content\\Mask_Data\\train/images\\w1240-p16x9-5f8aa310737f8e0e6c43d95a68a82b03b6f60106_jpg.rf.a456219c83b48269ce5adb48d513a350.jpg is removing...\n",
      "content\\Mask_Data\\train/labels\\upload-productImg-1527496119162_320_234_jpeg.rf.2630f815b6cc48c80dd42bf539300d26.txt is removing...\n",
      "content\\Mask_Data\\train/labels\\-1x-1_jpg.rf.69d9b61e3cdb8a9047dad25099fcc8ef.txt is removing...\n",
      "content\\Mask_Data\\train/labels\\125895-untitled-design-30_jpg.rf.ac571fc87624d715f65c707a55fb6bc8.txt is removing...\n",
      "[after os.remove] nums of image file path =  103\n",
      "[after os.remove] nums of label file path =  102\n"
     ]
    }
   ],
   "source": [
    "#### 임의의 train 이미지 2개, label 3개 삭제\n",
    "import os\n",
    "import glob\n",
    "import random\n",
    "import shutil\n",
    "\n",
    "\n",
    "train_image_file_path_list = glob.glob(TRAIN_IMAGE_DATA_DIR+'*')\n",
    "train_label_file_path_list = glob.glob(TRAIN_LABEL_DATA_DIR+'*')\n",
    "\n",
    "print('[before os.remove] nums of image file path = ', len(train_image_file_path_list))\n",
    "print('[before os.remove] nums of label file path = ', len(train_label_file_path_list))\n",
    "\n",
    "random.shuffle(train_image_file_path_list)  # image shuffle\n",
    "random.shuffle(train_label_file_path_list)  # label shuffle\n",
    "\n",
    "###################################\n",
    "# remove train 2 images\n",
    "###################################\n",
    "removed_image_nums = 2\n",
    "\n",
    "for removed_image_file in train_image_file_path_list[:removed_image_nums]:\n",
    "\n",
    "    print(removed_image_file+ ' is removing...')\n",
    "    os.remove(removed_image_file)\n",
    "\n",
    "\n",
    "###################################\n",
    "# remove train 3 labels\n",
    "###################################\n",
    "removed_label_nums = 3\n",
    "\n",
    "for removed_label_file in train_label_file_path_list[:removed_label_nums]:\n",
    "    \n",
    "    print(removed_label_file+' is removing...')\n",
    "    os.remove(removed_label_file)\n",
    "\n",
    "#############################################################################################\n",
    "\n",
    "train_image_file_path_list = glob.glob(TRAIN_IMAGE_DATA_DIR+'*')\n",
    "train_label_file_path_list = glob.glob(TRAIN_LABEL_DATA_DIR+'*')\n",
    "\n",
    "print('[after os.remove] nums of image file path = ', len(train_image_file_path_list))\n",
    "print('[after os.remove] nums of label file path = ', len(train_label_file_path_list))"
   ]
  },
  {
   "cell_type": "code",
   "execution_count": 25,
   "metadata": {
    "scrolled": true
   },
   "outputs": [
    {
     "name": "stdout",
     "output_type": "stream",
     "text": [
      ">>>different<<<\n",
      "교집합 개수: 100\n",
      "total copy nums (src->dst)= 100\n"
     ]
    }
   ],
   "source": [
    "#### TRAIN_IMAGE_DATA_DIR과 TRAIN_LABEL_DATA_DIR 비교\n",
    "#-----변수 초기화-------\n",
    "train_image_file_list=[]\n",
    "train_label_file_list=[]\n",
    "train_image_file_name_list=[]\n",
    "train_label_file_name_list=[]\n",
    "train_image_file_name_set= set() # set에서는 집합연산 가능\n",
    "train_label_file_name_set= set() \n",
    "#-----------------------------\n",
    "\n",
    "train_image_file_list= os.listdir(TRAIN_IMAGE_DATA_DIR)\n",
    "train_label_file_list= os.listdir(TRAIN_LABEL_DATA_DIR)\n",
    "\n",
    "train_image_file_list.sort()\n",
    "train_label_file_list.sort()\n",
    "\n",
    "# image file name 추출하기\n",
    "for index in range(len(train_image_file_list)):\n",
    "    image_name= train_image_file_list[index].split('.jpg')[0]\n",
    "    train_image_file_name_list.append(image_name)\n",
    "    \n",
    "train_image_file_name_set= set(train_image_file_name_list)\n",
    "\n",
    "# label file name 추출하기\n",
    "for index in range(len(train_label_file_list)):\n",
    "    label_name= train_label_file_list[index].split('.jpg')[0]\n",
    "    train_label_file_name_list.append(image_name)\n",
    "    \n",
    "train_label_file_name_set= set(train_label_file_name_list)\n",
    "\n",
    "# image file과 label file 비교\n",
    "diff_set= train_image_file_name_set- train_label_file_name_set\n",
    "intersect_set= train_image_file_name_set& train_label_file_name_set\n",
    "\n",
    "if len(diff_set)==0:\n",
    "    print('>>>image is exactly same as label<<<')\n",
    "else:\n",
    "    print('>>>different<<<')\n",
    "    # image file name 추출하기\n",
    "    for index in range(len(train_image_file_list)):\n",
    "        image_name= train_image_file_list[index].split('.jpg')[0]\n",
    "        train_image_file_name_list.append(image_name)\n",
    "\n",
    "    train_image_file_name_set= set(train_image_file_name_list)\n",
    "    \n",
    "    # label file name 추출하기\n",
    "    for index in range(len(train_label_file_list)):\n",
    "        label_name= train_label_file_list[index].split('.txt')[0]\n",
    "        train_label_file_name_list.append(label_name)\n",
    "    \n",
    "    train_label_file_name_set= set(train_label_file_name_list)\n",
    "  \n",
    "    if not os.path.exists(os.path.join(DATA_ROOT_DIR, 'new_train')):\n",
    "        os.mkdir(os.path.join(DATA_ROOT_DIR, 'new_train'))\n",
    "        \n",
    "    if not os.path.exists(NEW_TRAIN_IMAGE_DATA_DIR):\n",
    "        os.mkdir(NEW_TRAIN_IMAGE_DATA_DIR)\n",
    "                 \n",
    "    if not os.path.exists(NEW_TRAIN_LABEL_DATA_DIR):\n",
    "        os.mkdir(NEW_TRAIN_LABEL_DATA_DIR)\n",
    "                 \n",
    "    intersect_set= train_image_file_name_set& train_label_file_name_set\n",
    "    print('교집합 개수:', len(intersect_set))\n",
    "    \n",
    "    # 복사 위치 설정\n",
    "    src_image_path= TRAIN_IMAGE_DATA_DIR\n",
    "    dst_image_path= NEW_TRAIN_IMAGE_DATA_DIR\n",
    "    \n",
    "    src_label_path= TRAIN_LABEL_DATA_DIR\n",
    "    dst_label_path= NEW_TRAIN_LABEL_DATA_DIR\n",
    "                 \n",
    "    # 파일 복사\n",
    "    copy_nums=0\n",
    "    for file_name in intersect_set:\n",
    "        shutil.copy(os.path.join(src_image_path, file_name+'.jpg'),\n",
    "                os.path.join(dst_image_path, file_name+'.jpg'))\n",
    "        shutil.copy(os.path.join(src_label_path, file_name+'.txt'),\n",
    "                os.path.join(dst_image_path, file_name+ '.txt'))\n",
    "\n",
    "        copy_nums= copy_nums+1\n",
    "\n",
    "    print('total copy nums (src->dst)=',copy_nums)"
   ]
  },
  {
   "cell_type": "code",
   "execution_count": 24,
   "metadata": {},
   "outputs": [],
   "source": [
    "import shutil"
   ]
  },
  {
   "cell_type": "code",
   "execution_count": null,
   "metadata": {},
   "outputs": [],
   "source": [
    "#### 임의의 valid 이미지 2개, label 3개 삭제\n",
    "import os\n",
    "import glob\n",
    "import random\n",
    "\n",
    "valid_image_file_path_list = glob.glob(VALID_IMAGE_DATA_DIR+'*')\n",
    "valid_label_file_path_list = glob.glob(VALID_LABEL_DATA_DIR+'*')\n",
    "\n",
    "print('[before os.remove] nums of image file path = ', len(valid_image_file_path_list))\n",
    "print('[before os.remove] nums of label file path = ', len(valid_label_file_path_list))\n",
    "\n",
    "random.shuffle(valid_image_file_path_list)  # image shuffle\n",
    "random.shuffle(valid_label_file_path_list)  # label shuffle\n",
    "\n",
    "###################################\n",
    "# remove valid 2 images\n",
    "###################################\n",
    "removed_image_nums = 2\n",
    "\n",
    "for removed_image_file in valid_image_file_path_list[:removed_image_nums]:\n",
    "\n",
    "    print(removed_image_file+ ' is removing...')\n",
    "    os.remove(removed_image_file)\n",
    "\n",
    "\n",
    "###################################\n",
    "# remove valid 3 labels\n",
    "###################################\n",
    "removed_label_nums = 3\n",
    "\n",
    "for removed_label_file in valid_label_file_path_list[:removed_label_nums]:\n",
    "    \n",
    "    print(removed_label_file+' is removing...')\n",
    "    os.remove(removed_label_file)\n",
    "\n",
    "#############################################################################################\n",
    "\n",
    "valid_image_file_path_list = glob.glob(VALID_IMAGE_DATA_DIR+'*')\n",
    "valid_label_file_path_list = glob.glob(VALID_LABEL_DATA_DIR+'*')\n",
    "\n",
    "print('[after os.remove] nums of image file path = ', len(valid_image_file_path_list))\n",
    "print('[after os.remove] nums of label file path = ', len(valid_label_file_path_list))"
   ]
  },
  {
   "cell_type": "code",
   "execution_count": 32,
   "metadata": {},
   "outputs": [
    {
     "name": "stdout",
     "output_type": "stream",
     "text": [
      ">>>differnt<<<\n",
      "교집합 개수: 1\n",
      "total copy nums (src->dst)= 1\n"
     ]
    }
   ],
   "source": [
    "### VALID_IMAGE_DATA_DIR과 valid_LABEL_DATA_DIR 비교\n",
    "#-----변수 초기화-------\n",
    "valid_image_file_list=[]\n",
    "valid_label_file_list=[]\n",
    "valid_image_file_name_list=[]\n",
    "valid_label_file_name_list=[]\n",
    "valid_image_file_name_set= set() # set에서는 집합연산 가능\n",
    "valid_label_file_name_set= set() \n",
    "#-----------------------------\n",
    "\n",
    "valid_image_file_list= os.listdir(VALID_IMAGE_DATA_DIR)\n",
    "valid_label_file_list= os.listdir(VALID_LABEL_DATA_DIR)\n",
    "\n",
    "valid_image_file_list.sort()\n",
    "valid_label_file_list.sort()\n",
    "\n",
    "# image file name 추출하기\n",
    "for index in range(len(valid_image_file_list)):\n",
    "    image_name= valid_image_file_list[index].split('.jpg')[0]\n",
    "    valid_image_file_name_list.append(image_name)\n",
    "    \n",
    "valid_image_file_name_set= set(valid_image_file_name_list)\n",
    "\n",
    "# label file name 추출하기\n",
    "for index in range(len(valid_label_file_list)):\n",
    "    label_name= valid_label_file_list[index].split('.jpg')[0]\n",
    "    valid_label_file_name_list.append(image_name)\n",
    "    \n",
    "valid_label_file_name_set= set(valid_label_file_name_list)\n",
    "\n",
    "# image file과 label file 비교\n",
    "diff_set= valid_image_file_name_set- valid_label_file_name_set\n",
    "intersect5_set= valid_image_file_name_set& valid_label_file_name_set\n",
    "\n",
    "if len(diff_set)==0:\n",
    "    print('>>>image is exactly same as label<<<')\n",
    "else:\n",
    "    print('>>>differnt<<<')\n",
    "    # image file name 추출하기\n",
    "    for index in range(len(valid_image_file_list)):\n",
    "        image_name= valid_image_file_list[index].split('.jpg')[0]\n",
    "        valid_image_file_name_list.append(image_name)\n",
    "\n",
    "    valid_image_file_name_set= set(valid_image_file_name_list)\n",
    "    \n",
    "    # label file name 추출하기\n",
    "    for index in range(len(valid_image_file_list)):\n",
    "        image_name= valid_label_file_list[index].split('.jpg')[0]\n",
    "        valid_label_file_name_list.append(image_name)\n",
    "    \n",
    "    valid_label_file_name_set= set(valid_label_file_name_list)\n",
    "  \n",
    "    if not os.path.exists(os.path.join(DATA_ROOT_DIR, 'new_valid')):\n",
    "        os.mkdir(os.path.join(DATA_ROOT_DIR, 'new_valid'))\n",
    "     \n",
    "    if not os.path.exists(NEW_VALID_IMAGE_DATA_DIR):\n",
    "        os.mkdir(NEW_VALID_IMAGE_DATA_DIR)\n",
    "                 \n",
    "    if not os.path.exists(NEW_VALID_LABEL_DATA_DIR):\n",
    "        os.mkdir(NEW_VALID_LABEL_DATA_DIR)\n",
    "                 \n",
    "    intersect_set= valid_image_file_name_set& valid_label_file_name_set\n",
    "    print('교집합 개수:', len(intersect_set))\n",
    "    \n",
    "    # 복사 위치 설정\n",
    "    src_image_path= VALID_IMAGE_DATA_DIR\n",
    "    dst_image_path= NEW_VALID_IMAGE_DATA_DIR\n",
    "    \n",
    "    src_label_path= VALID_LABEL_DATA_DIR\n",
    "    dst_label_path= NEW_VALID_LABEL_DATA_DIR\n",
    "                 \n",
    "    # 파일 복사\n",
    "    copy_nums=0\n",
    "    for file_name in intersect_set:\n",
    "        shutil.copy(os.path.join(src_image_path, file_name+'.jpg'),\n",
    "                os.path.join(dst_image_path, file_name+'.jpg'))\n",
    "        shutil.copy(os.path.join(src_label_path, file_name+'.txt'),\n",
    "                os.path.join(dst_image_path, file_name+ '.txt'))\n",
    "                 \n",
    "        copy_nums= copy_nums+1\n",
    "                 \n",
    "            \n",
    "    print('total copy nums (src->dst)=',copy_nums)"
   ]
  },
  {
   "cell_type": "markdown",
   "metadata": {
    "id": "2zs68RH2HlyF"
   },
   "source": [
    "## YAML 파일 설정\n",
    "- 데이터셋의 위치를 알려주는 config file"
   ]
  },
  {
   "cell_type": "code",
   "execution_count": 7,
   "metadata": {
    "colab": {
     "base_uri": "https://localhost:8080/"
    },
    "id": "Hj11vaGfHqB7",
    "outputId": "788630a6-5664-45db-a336-4b7bb2ba3885"
   },
   "outputs": [
    {
     "name": "stdout",
     "output_type": "stream",
     "text": [
      "train: ../train/images\n",
      "val: ../valid/images\n",
      "\n",
      "nc: 2\n",
      "names: ['mask', 'no-mask']"
     ]
    }
   ],
   "source": [
    "%cat {os.path.join(DATA_ROOT_DIR,'data.yaml')}"
   ]
  },
  {
   "cell_type": "code",
   "execution_count": 8,
   "metadata": {
    "colab": {
     "base_uri": "https://localhost:8080/"
    },
    "id": "yPINPD8JH4NN",
    "outputId": "24b7ca2e-693c-4124-8389-099866323e21"
   },
   "outputs": [
    {
     "name": "stdout",
     "output_type": "stream",
     "text": [
      "{'train': '../train/images', 'val': '../valid/images', 'nc': 2, 'names': ['mask', 'no-mask']}\n",
      "{'train': '/content/Mask_Data/train/images/', 'val': '/content/Mask_Data/valid/images/', 'nc': 2, 'names': ['mask', 'no-mask']}\n"
     ]
    }
   ],
   "source": [
    "import yaml\n",
    "\n",
    "with open(os.path.join(DATA_ROOT_DIR,'data.yaml'),'r') as f:\n",
    "  data= yaml.safe_load(f)\n",
    "\n",
    "print(data)\n",
    "\n",
    "data['train']= os.path.join(DATA_ROOT_DIR,'train/images/')\n",
    "data['val']= os.path.join(DATA_ROOT_DIR, 'valid/images/')\n",
    "\n",
    "data['nc']=2\n",
    "data['names']= ['mask','no-mask']\n",
    "\n",
    "with open(os.path.join(DATA_ROOT_DIR,'data.yaml'),'w') as f:\n",
    "  yaml.dump(data,f)\n",
    "\n",
    "print(data)"
   ]
  },
  {
   "cell_type": "markdown",
   "metadata": {
    "id": "hdjyopPOJqPP"
   },
   "source": [
    "## (6) 재학습\n",
    "- 하이퍼 파라미터 설정 및 train"
   ]
  },
  {
   "cell_type": "code",
   "execution_count": null,
   "metadata": {
    "colab": {
     "base_uri": "https://localhost:8080/"
    },
    "id": "ahLPo_IzpAs-",
    "outputId": "fdaca6bb-4371-4f5f-f4d5-dfbb39f2f84c"
   },
   "outputs": [
    {
     "name": "stdout",
     "output_type": "stream",
     "text": [
      "\u001b[34m\u001b[1mtrain: \u001b[0mweights=/content/yolov5/yolov5s.pt, cfg=/content/yolov5/models/yolov5s.yaml, data=/content/Mask_Data/data.yaml, hyp=../yolov5/data/hyps/hyp.scratch-low.yaml, epochs=100, batch_size=32, imgsz=416, rect=False, resume=False, nosave=False, noval=False, noautoanchor=False, noplots=False, evolve=None, bucket=, cache=None, image_weights=False, device=, multi_scale=False, single_cls=False, optimizer=SGD, sync_bn=False, workers=8, project=../yolov5/runs/train, name=exp, exist_ok=False, quad=False, cos_lr=False, label_smoothing=0.0, patience=100, freeze=[0], save_period=-1, seed=0, local_rank=-1, entity=None, upload_dataset=False, bbox_interval=-1, artifact_alias=latest\n",
      "\u001b[34m\u001b[1mgithub: \u001b[0mup to date with https://github.com/ultralytics/yolov5 ✅\n",
      "YOLOv5 🚀 v7.0-181-g3812a1a Python-3.10.12 torch-2.0.1+cu118 CUDA:0 (Tesla T4, 15102MiB)\n",
      "\n",
      "\u001b[34m\u001b[1mhyperparameters: \u001b[0mlr0=0.01, lrf=0.01, momentum=0.937, weight_decay=0.0005, warmup_epochs=3.0, warmup_momentum=0.8, warmup_bias_lr=0.1, box=0.05, cls=0.5, cls_pw=1.0, obj=1.0, obj_pw=1.0, iou_t=0.2, anchor_t=4.0, fl_gamma=0.0, hsv_h=0.015, hsv_s=0.7, hsv_v=0.4, degrees=0.0, translate=0.1, scale=0.5, shear=0.0, perspective=0.0, flipud=0.0, fliplr=0.5, mosaic=1.0, mixup=0.0, copy_paste=0.0\n",
      "\u001b[34m\u001b[1mComet: \u001b[0mrun 'pip install comet_ml' to automatically track and visualize YOLOv5 🚀 runs in Comet\n",
      "\u001b[34m\u001b[1mTensorBoard: \u001b[0mStart with 'tensorboard --logdir ../yolov5/runs/train', view at http://localhost:6006/\n",
      "Downloading https://ultralytics.com/assets/Arial.ttf to /root/.config/Ultralytics/Arial.ttf...\n",
      "100% 755k/755k [00:00<00:00, 26.9MB/s]\n",
      "Overriding model.yaml nc=80 with nc=2\n",
      "\n",
      "                 from  n    params  module                                  arguments                     \n",
      "  0                -1  1      3520  models.common.Conv                      [3, 32, 6, 2, 2]              \n",
      "  1                -1  1     18560  models.common.Conv                      [32, 64, 3, 2]                \n",
      "  2                -1  1     18816  models.common.C3                        [64, 64, 1]                   \n",
      "  3                -1  1     73984  models.common.Conv                      [64, 128, 3, 2]               \n",
      "  4                -1  2    115712  models.common.C3                        [128, 128, 2]                 \n",
      "  5                -1  1    295424  models.common.Conv                      [128, 256, 3, 2]              \n",
      "  6                -1  3    625152  models.common.C3                        [256, 256, 3]                 \n",
      "  7                -1  1   1180672  models.common.Conv                      [256, 512, 3, 2]              \n",
      "  8                -1  1   1182720  models.common.C3                        [512, 512, 1]                 \n",
      "  9                -1  1    656896  models.common.SPPF                      [512, 512, 5]                 \n",
      " 10                -1  1    131584  models.common.Conv                      [512, 256, 1, 1]              \n",
      " 11                -1  1         0  torch.nn.modules.upsampling.Upsample    [None, 2, 'nearest']          \n",
      " 12           [-1, 6]  1         0  models.common.Concat                    [1]                           \n",
      " 13                -1  1    361984  models.common.C3                        [512, 256, 1, False]          \n",
      " 14                -1  1     33024  models.common.Conv                      [256, 128, 1, 1]              \n",
      " 15                -1  1         0  torch.nn.modules.upsampling.Upsample    [None, 2, 'nearest']          \n",
      " 16           [-1, 4]  1         0  models.common.Concat                    [1]                           \n",
      " 17                -1  1     90880  models.common.C3                        [256, 128, 1, False]          \n",
      " 18                -1  1    147712  models.common.Conv                      [128, 128, 3, 2]              \n",
      " 19          [-1, 14]  1         0  models.common.Concat                    [1]                           \n",
      " 20                -1  1    296448  models.common.C3                        [256, 256, 1, False]          \n",
      " 21                -1  1    590336  models.common.Conv                      [256, 256, 3, 2]              \n",
      " 22          [-1, 10]  1         0  models.common.Concat                    [1]                           \n",
      " 23                -1  1   1182720  models.common.C3                        [512, 512, 1, False]          \n",
      " 24      [17, 20, 23]  1     18879  models.yolo.Detect                      [2, [[10, 13, 16, 30, 33, 23], [30, 61, 62, 45, 59, 119], [116, 90, 156, 198, 373, 326]], [128, 256, 512]]\n",
      "YOLOv5s summary: 214 layers, 7025023 parameters, 7025023 gradients, 16.0 GFLOPs\n",
      "\n",
      "Transferred 342/349 items from /content/yolov5/yolov5s.pt\n",
      "\u001b[34m\u001b[1mAMP: \u001b[0mchecks passed ✅\n",
      "\u001b[34m\u001b[1moptimizer:\u001b[0m SGD(lr=0.01) with parameter groups 57 weight(decay=0.0), 60 weight(decay=0.0005), 60 bias\n",
      "\u001b[34m\u001b[1malbumentations: \u001b[0mBlur(p=0.01, blur_limit=(3, 7)), MedianBlur(p=0.01, blur_limit=(3, 7)), ToGray(p=0.01), CLAHE(p=0.01, clip_limit=(1, 4.0), tile_grid_size=(8, 8))\n",
      "\u001b[34m\u001b[1mtrain: \u001b[0mScanning /content/Mask_Data/train/labels... 105 images, 0 backgrounds, 0 corrupt: 100% 105/105 [00:00<00:00, 1533.95it/s]\n",
      "\u001b[34m\u001b[1mtrain: \u001b[0mNew cache created: /content/Mask_Data/train/labels.cache\n",
      "\u001b[34m\u001b[1mval: \u001b[0mScanning /content/Mask_Data/valid/labels... 29 images, 0 backgrounds, 0 corrupt: 100% 29/29 [00:00<00:00, 649.87it/s]\n",
      "\u001b[34m\u001b[1mval: \u001b[0mNew cache created: /content/Mask_Data/valid/labels.cache\n",
      "\n",
      "\u001b[34m\u001b[1mAutoAnchor: \u001b[0m5.70 anchors/target, 0.999 Best Possible Recall (BPR). Current anchors are a good fit to dataset ✅\n",
      "Plotting labels to ../yolov5/runs/train/exp/labels.jpg... \n"
     ]
    }
   ],
   "source": [
    "img_size= 416\n",
    "batch_size= 32\n",
    "epochs= 100\n",
    "\n",
    "data_path= os.path.join(DATA_ROOT_DIR,'data.yaml')\n",
    "yaml_path= os.path.join(YOLOv5_ROOT_DIR,'models/yolov5s.yaml')\n",
    "weights_path= os.path.join(YOLOv5_ROOT_DIR,'yolov5s.pt')\n",
    "\n",
    "!python {os.path.join(YOLOv5_ROOT_DIR,'train.py')} --img {img_size} --batch {batch_size} --epochs {epochs} \\\n",
    "                                        --data {data_path} --cfg {yaml_path} --weights {weights_path}"
   ]
  },
  {
   "cell_type": "markdown",
   "metadata": {
    "id": "6oeqDa0zKFzi"
   },
   "source": [
    "## 7. 텐서보드를 이용한 학습과정 출력\n"
   ]
  },
  {
   "cell_type": "code",
   "execution_count": null,
   "metadata": {
    "id": "r3dA3uwBpAvo"
   },
   "outputs": [],
   "source": [
    "# 7. 텐서보드를 이용한 학습과정 출력\n",
    "%reload_ext tensorboard\n",
    "%tensorboard --logdir {os.path.join(YOLOv5_ROOT_DIR,'runs/train/exp/')}"
   ]
  },
  {
   "cell_type": "markdown",
   "metadata": {
    "id": "DJmU7odCOVF0"
   },
   "source": [
    "## (8) 이미지 데이터 생성 및  확인"
   ]
  },
  {
   "cell_type": "code",
   "execution_count": null,
   "metadata": {
    "id": "WNcRPNZX7QB8"
   },
   "outputs": [],
   "source": [
    "from glob import glob\n",
    "\n",
    "test_image_list= glob(os.path.join(DATA_ROOT_DIR,'test/images/*.jpg'))\n",
    "print(len(test_image_list))"
   ]
  },
  {
   "cell_type": "code",
   "execution_count": null,
   "metadata": {
    "id": "vDVQjdLa7m_k"
   },
   "outputs": [],
   "source": [
    "test_image_list.sort()\n",
    "for i in range(len(test_image_list)):\n",
    "  print(i, test_image_list[i])"
   ]
  },
  {
   "cell_type": "markdown",
   "metadata": {
    "id": "lYaDxzcbK_hY"
   },
   "source": [
    "## Inference"
   ]
  },
  {
   "cell_type": "code",
   "execution_count": null,
   "metadata": {
    "id": "Q9gbC9VqLB0p"
   },
   "outputs": [],
   "source": [
    "test_data_path= os.path.join(DATA_ROOT_DIR,'test/images/')\n",
    "best_weights_path= os.path.join(YOLOv5_ROOT_DIR,'runs/train/exp/weights/best.pt')\n",
    "\n"
   ]
  },
  {
   "cell_type": "code",
   "execution_count": null,
   "metadata": {
    "id": "9hhxEFxu8N0e"
   },
   "outputs": [],
   "source": [
    "!python3 {os.path.join(YOLOv5_ROOT_DIR,'detect.py')} \\\n",
    "                    --weights /content/yolov5/runs/train/exp/weights/best.pt \\\n",
    "                    --source /content/Mask_Data/test/images/ \\\n",
    "                    --img 416 \\\n",
    "                    --conf 0.5"
   ]
  },
  {
   "cell_type": "code",
   "execution_count": null,
   "metadata": {
    "id": "HwwVhbFEoSFM"
   },
   "outputs": [],
   "source": [
    "### 압축하기\n",
    "import zipfile\n",
    "import os\n",
    "\n",
    "if not os.path.exists(os.path.join(ROOT_DIR,'detected_result')):\n",
    "    os.mkdir(os.path.join(ROOT_DIR,'detected_result'))\n",
    "    print('detected_result dir is created')\n",
    "\n",
    "with zipfile.ZipFile(os.path.join(ROOT_DIR,'detected_result/Mask_detected_images.zip'), 'w') as detected_images:\n",
    "    for idx in range(detected_image_nums):\n",
    "        detected_images.write(detected_image_list[idx])"
   ]
  },
  {
   "cell_type": "code",
   "execution_count": null,
   "metadata": {
    "id": "3-x_kaawMp4L"
   },
   "outputs": [],
   "source": [
    "import shutil"
   ]
  },
  {
   "cell_type": "code",
   "execution_count": null,
   "metadata": {
    "id": "sQU4NBkzpm-D"
   },
   "outputs": [],
   "source": [
    "import shutil\n",
    "from google.colab import files\n",
    "\n",
    "shutil.copy(os.path.join(YOLOv5_ROOT_DIR,'runs/train/exp/weights/best.pt'), os.path.join(YOLOv5_ROOT_DIR,'Mask_best.pt'))\n",
    "\n",
    "files.download(os.path.join(ROOT_DIR,'detected_result/detected_images.zip'))\n",
    "files.download(os.path.join(YOLOv5_ROOT_DIR,'Mask_best.pt'))"
   ]
  },
  {
   "cell_type": "code",
   "execution_count": null,
   "metadata": {
    "id": "zJmXb1Ox8N5r"
   },
   "outputs": [],
   "source": []
  },
  {
   "cell_type": "code",
   "execution_count": null,
   "metadata": {
    "id": "ulorG1Ty8N7q"
   },
   "outputs": [],
   "source": []
  }
 ],
 "metadata": {
  "accelerator": "GPU",
  "colab": {
   "gpuType": "T4",
   "provenance": []
  },
  "kernelspec": {
   "display_name": "Python 3 (ipykernel)",
   "language": "python",
   "name": "python3"
  },
  "language_info": {
   "codemirror_mode": {
    "name": "ipython",
    "version": 3
   },
   "file_extension": ".py",
   "mimetype": "text/x-python",
   "name": "python",
   "nbconvert_exporter": "python",
   "pygments_lexer": "ipython3",
   "version": "3.9.13"
  }
 },
 "nbformat": 4,
 "nbformat_minor": 1
}
