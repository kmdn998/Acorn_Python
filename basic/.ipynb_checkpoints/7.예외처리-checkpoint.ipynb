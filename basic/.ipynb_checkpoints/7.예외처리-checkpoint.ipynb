{
 "cells": [
  {
   "cell_type": "markdown",
   "id": "92519056",
   "metadata": {},
   "source": [
    "## 1.예외처리를 하는 이유\n",
    "    소프트웨어 에러 처리\n",
    "    자연스러운 예외 메세지를 출력하기 위해서\n",
    "    프로그램의 비정상적인 종료를 방지하기 위해서\n",
    "    에러코드가뜨면 코드 노출되어 해킹 위험성 있음\n",
    "    \n",
    "## 2. 문법\n",
    "    try:   #코드블럭에서 오류나는지 감시\n",
    "        ~                                 \n",
    "    except [예외처리 클래스 as 변수]:    #에러가 시스템으로 넘어가지 않도록 처리\n",
    "        ~\n",
    "    else:         #에러 발생 안했을때만 실행\n",
    "        ~\n",
    "    finally:        # 무조건 실행. return 1. 값을 돌려주거나 2. 함수 중단\n",
    "        ~         # 에러가 발생했을때 return이 있으면 그냥 바로 중단되는데 final은 실행된다.\n",
    "        "
   ]
  },
  {
   "cell_type": "code",
   "execution_count": 22,
   "id": "1e1043c7",
   "metadata": {},
   "outputs": [
    {
     "name": "stdout",
     "output_type": "stream",
     "text": [
      "1.0\n",
      "list index out of range\n",
      "무조건 실행\n",
      "나머지 실행\n",
      "division by zero\n",
      "무조건 실행\n"
     ]
    }
   ],
   "source": [
    "import sys \n",
    "\n",
    "def test(num):\n",
    "    f=None      #f가 try에서 지역변수로 쓰이는 것 방지\n",
    "    try:\n",
    "        result= 10/num\n",
    "        print(result)\n",
    "        \n",
    "        arr=[1,2,3]\n",
    "        print(arr[num])\n",
    "        \n",
    "        f= open('xyz.txt',r)    #f는 지역변수\n",
    "    except ZeroDivisionError as err:       #변수에 어떤 오류에 대한 내용인지 써있음\n",
    "        print(err)\n",
    "        return\n",
    "    except IndexError as err:\n",
    "        print(err)\n",
    "        #return\n",
    "#         sys.exit()       # 함수가 아니라 아예 프로그램 종료\n",
    "    except FileNotFoundError as err:\n",
    "        print(err)\n",
    "        return\n",
    "    except:\n",
    "        print('일반 오류')\n",
    "        return\n",
    "    finally:        #무조건 실행\n",
    "        print('무조건 실행')\n",
    "        if f!= None:          # 파일을 읽어들이기 전에 except되면 에러발생\n",
    "            f.close()      \n",
    "        \n",
    "    print('나머지 실행')      #에러 발생 시 return으로 끝내면 실행안됨\n",
    "    \n",
    "test(10)\n",
    "test(0)"
   ]
  },
  {
   "cell_type": "markdown",
   "id": "94b4c47c",
   "metadata": {},
   "source": [
    "## 3.traceback\n",
    "    어디에서 에러가 발생했는지 자동 추적"
   ]
  },
  {
   "cell_type": "code",
   "execution_count": 29,
   "id": "646efcbd",
   "metadata": {},
   "outputs": [
    {
     "name": "stdout",
     "output_type": "stream",
     "text": [
      "division by zero\n"
     ]
    },
    {
     "name": "stderr",
     "output_type": "stream",
     "text": [
      "Traceback (most recent call last):\n",
      "  File \"C:\\Users\\acorn\\AppData\\Local\\Temp\\ipykernel_20372\\3698502364.py\", line 5, in first\n",
      "    10/0\n",
      "ZeroDivisionError: division by zero\n"
     ]
    }
   ],
   "source": [
    "import traceback\n",
    "\n",
    "def first():\n",
    "    try:\n",
    "        10/0\n",
    "    except ZeroDivisionError as e:\n",
    "        print(e)\n",
    "        traceback.print_exc()\n",
    "def second():\n",
    "    first()\n",
    "\n",
    "def third():\n",
    "    second()\n",
    "\n",
    "\n",
    "third()"
   ]
  },
  {
   "cell_type": "markdown",
   "id": "52b0a261",
   "metadata": {},
   "source": [
    "## 4.에러를 일부러 발생: raise"
   ]
  },
  {
   "cell_type": "code",
   "execution_count": 34,
   "id": "29fade8f",
   "metadata": {},
   "outputs": [
    {
     "name": "stdout",
     "output_type": "stream",
     "text": [
      "에러원인: \n"
     ]
    }
   ],
   "source": [
    "def test():\n",
    "    try:\n",
    "        10/5\n",
    "        raise ZeroDivisionError\n",
    "    except ZeroDivisionError as e:\n",
    "        print('에러원인:',e)\n",
    "        \n",
    "test() #에러 없어서 에러코드 출력안됨"
   ]
  },
  {
   "cell_type": "markdown",
   "id": "b3a7d5f2",
   "metadata": {},
   "source": [
    "## 5.예외 클래스를 직접 만들기"
   ]
  },
  {
   "cell_type": "code",
   "execution_count": 43,
   "id": "a3de81c7",
   "metadata": {},
   "outputs": [
    {
     "name": "stdout",
     "output_type": "stream",
     "text": [
      "0.5\n",
      "음수로 나눌 수 없다\n"
     ]
    }
   ],
   "source": [
    "class negdivError(Exception):      #Exception을 상속받으면 예외클래스가 된다\n",
    "    pass\n",
    "\n",
    "def posdiv(n1,n2):\n",
    "    if n2 <0:\n",
    "        raise negdivError\n",
    "    print(n1/n2)\n",
    "\n",
    "try: \n",
    "    posdiv(2,4)\n",
    "    posdiv(5,-3)\n",
    "except negdivError:\n",
    "    print('음수로 나눌 수 없다')"
   ]
  },
  {
   "cell_type": "code",
   "execution_count": null,
   "id": "cec025e6",
   "metadata": {},
   "outputs": [],
   "source": []
  }
 ],
 "metadata": {
  "kernelspec": {
   "display_name": "Python 3 (ipykernel)",
   "language": "python",
   "name": "python3"
  },
  "language_info": {
   "codemirror_mode": {
    "name": "ipython",
    "version": 3
   },
   "file_extension": ".py",
   "mimetype": "text/x-python",
   "name": "python",
   "nbconvert_exporter": "python",
   "pygments_lexer": "ipython3",
   "version": "3.9.13"
  }
 },
 "nbformat": 4,
 "nbformat_minor": 5
}
