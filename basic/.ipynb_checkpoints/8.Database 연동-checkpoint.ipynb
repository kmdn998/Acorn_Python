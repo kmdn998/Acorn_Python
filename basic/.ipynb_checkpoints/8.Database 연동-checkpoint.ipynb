{
 "cells": [
  {
   "cell_type": "markdown",
   "id": "e35e3c85",
   "metadata": {},
   "source": [
    "파이썬으로 데이터베이스 연동하여 사용\n",
    "mariaDB, localDB(SQLite), mongoDB\n",
    "## 1. 파이썬과 MariaDB 연동\n",
    "    파이썬과 MariaDB를 연결해주는 모듈. 파이썬과 DB를 연결하는 중간 단계\n",
    "    - pip install mysqlclient\n",
    "    - pip install PyMySQL\n",
    "    - DB 사용 끝났으면 꼭 연결 해제하기. close()\n",
    "    \n",
    "    \n",
    "    conn= MySQLdb.connect(**config) \n",
    "    cur= conn.cursor()\n",
    "    cur.execute(sql)\n",
    "    conn.close()\n",
    "https://blog.naver.com/choongchoongchoong/222618411411"
   ]
  },
  {
   "cell_type": "code",
   "execution_count": 3,
   "id": "b9e75918",
   "metadata": {},
   "outputs": [
    {
     "name": "stdout",
     "output_type": "stream",
     "text": [
      "<_mysql.connection open to '127.0.0.1' at 000002738896CD50>\n"
     ]
    }
   ],
   "source": [
    "# 파이썬과 DB를 연결하는 중간 단계\n",
    "# mysqlclient\n",
    "\n",
    "import MySQLdb\n",
    "\n",
    "conn= MySQLdb.connect(host='127.0.0.1', user='root', password='1111', database='testdb')\n",
    "print(conn)\n",
    "conn.close()"
   ]
  },
  {
   "cell_type": "code",
   "execution_count": 4,
   "id": "435de955",
   "metadata": {},
   "outputs": [
    {
     "name": "stdout",
     "output_type": "stream",
     "text": [
      "<pymysql.connections.Connection object at 0x0000027389A3F100>\n"
     ]
    }
   ],
   "source": [
    "import pymysql\n",
    "\n",
    "conn= pymysql.connect(host='127.0.0.1', user='root', password='1111', database='testdb')\n",
    "print(conn)\n",
    "conn.close()"
   ]
  },
  {
   "cell_type": "markdown",
   "id": "4e7c3b76",
   "metadata": {},
   "source": [
    "####  유지보수를 위한 DB 변수처리"
   ]
  },
  {
   "cell_type": "code",
   "execution_count": 5,
   "id": "3df2d1ae",
   "metadata": {},
   "outputs": [
    {
     "name": "stdout",
     "output_type": "stream",
     "text": [
      "<_mysql.connection open to '127.0.0.1' at 000002738896CD50>\n"
     ]
    }
   ],
   "source": [
    "config={'host':'127.0.0.1', 'user':'root', 'password':'1111', 'database':'testdb'}\n",
    "conn= MySQLdb.connect(**config)        #dict로 받기위해 **\n",
    "print(conn)\n",
    "conn.close()"
   ]
  },
  {
   "cell_type": "markdown",
   "id": "ba09e7e6",
   "metadata": {},
   "source": [
    "### (1) SELECT"
   ]
  },
  {
   "cell_type": "code",
   "execution_count": 15,
   "id": "984be838",
   "metadata": {},
   "outputs": [
    {
     "name": "stdout",
     "output_type": "stream",
     "text": [
      "5\n",
      "('bonus',)\n",
      "('dept',)\n",
      "('emp',)\n",
      "('member',)\n",
      "('post',)\n",
      "('salgrade',)\n",
      "('suppliers',)\n",
      "('tbla',)\n",
      "('tblb',)\n",
      "('tblbook',)\n",
      "('tblc',)\n",
      "('tblexam',)\n",
      "('tbltest',)\n",
      "('test',)\n",
      "('tt',)\n",
      "('tt1',)\n",
      "('vw_test',)\n"
     ]
    }
   ],
   "source": [
    "############################TTTTEEEESSSSSSTTTTTTTT\n",
    "conn= MySQLdb.connect(**config)\n",
    "cur= conn.cursor()                      #cursor가 쿼리 실행해주고 결과값 가져옴\n",
    "\n",
    "t='tbltest'\n",
    "cur.execute(f'create table if not exists {t}(id int, name varchar(10))')\n",
    "conn.commit()\n",
    "\n",
    "print(cur.execute(f'select * from {t}'))\n",
    "\n",
    "cur.execute('show tables')\n",
    "for i in cur:\n",
    "    print(i)\n"
   ]
  },
  {
   "cell_type": "code",
   "execution_count": 6,
   "id": "5fb5ede2",
   "metadata": {},
   "outputs": [
    {
     "name": "stdout",
     "output_type": "stream",
     "text": [
      "<MySQLdb.cursors.Cursor object at 0x00000273898D0A00>\n",
      "[(7369, 'SMITH', 'CLERK', 7902, datetime.datetime(1980, 12, 17, 0, 0), 800.0, None, 20), (7499, 'ALLEN', 'SALESMAN', 7698, datetime.datetime(1981, 2, 20, 0, 0), 1600.0, 300.0, 30), (7521, 'WARD', 'SALESMAN', 7698, datetime.datetime(1981, 2, 22, 0, 0), 1250.0, 500.0, 30), (7566, 'JONES', 'MANAGER', 7839, datetime.datetime(1981, 4, 2, 0, 0), 2975.0, None, 20), (7654, 'MARTIN', 'SALESMAN', 7698, datetime.datetime(1981, 9, 28, 0, 0), 1250.0, 1400.0, 30), (7698, 'BLAKE', 'MANAGER', 7839, datetime.datetime(1981, 5, 1, 0, 0), 2850.0, None, 30), (7782, 'CLARK', 'MANAGER', 7839, datetime.datetime(1981, 6, 9, 0, 0), 2450.0, None, 10), (7788, 'SCOTT', 'ANALYST', 7566, datetime.datetime(1987, 4, 19, 0, 0), 3000.0, None, 20), (7839, 'KING', 'PRESIDENT', None, datetime.datetime(1981, 11, 17, 0, 0), 5000.0, None, 10), (7844, 'TURNER', 'SALESMAN', 7698, datetime.datetime(1981, 9, 8, 0, 0), 1500.0, 0.0, 30), (7876, 'ADAMS', 'CLERK', 7788, datetime.datetime(1987, 5, 23, 0, 0), 1100.0, None, 20), (7900, 'JAMES', 'CLERK', 7698, datetime.datetime(1981, 12, 3, 0, 0), 950.0, None, 30), (7902, 'FORD', 'ANALYST', 7566, datetime.datetime(1981, 12, 3, 0, 0), 3000.0, None, 20), (7934, 'MILLER', 'CLERK', 7782, datetime.datetime(1982, 1, 23, 0, 0), 1300.0, None, 10)]\n"
     ]
    }
   ],
   "source": [
    "config={'host':'127.0.0.1', 'user':'root', 'password':'1111', 'database':'testdb'}\n",
    "conn= MySQLdb.connect(**config)    #db의 주소\n",
    "\n",
    "sql= 'select * from emp'\n",
    "cur= conn.cursor()                      #cursor가 쿼리 실행해주고 결과값 가져옴\n",
    "cur.execute(sql)                   #execute로 원하는 쿼리실행\n",
    "print(cur)                   #쿼리의 결과값 임시로 저장되어있음. DB와 연결 끊어지면 다 날라감\n",
    "result =[i for i in cur]\n",
    "\n",
    "conn.close()         # 자료 가져왔으면 DB연결 끊고 파이썬 작업\n",
    "\n",
    "print(result)"
   ]
  },
  {
   "cell_type": "markdown",
   "id": "22710685",
   "metadata": {},
   "source": [
    "### (2) INSERT\n",
    "    conn.commit() 처리 꼭 해야함ㅡㅡ"
   ]
  },
  {
   "cell_type": "code",
   "execution_count": 37,
   "id": "4825f864",
   "metadata": {},
   "outputs": [],
   "source": [
    "cone=None      #지역변수때문?\n",
    "\n",
    "try: \n",
    "    conn= MySQLdb.connect(**config) \n",
    "\n",
    "    sql='''CREATE TABLE IF NOT EXISTS tbltest(\n",
    "                empno int,\n",
    "                ename varchar(10),\n",
    "                sal int,\n",
    "                job varchar(10))\n",
    "    '''\n",
    "    cur= conn.cursor()\n",
    "    cur.execute(sql)\n",
    "\n",
    "    sql= \"INSERT INTO tbltest VALUES(1,'scott',5000,'manager')\"\n",
    "    cur.execute(sql)\n",
    "    conn.commit()        #확실하게 처리하기 위해서\n",
    "\n",
    "except Exception as e:     #Exception으로 전체 에러 확인 가능\n",
    "    print(e)\n",
    "\n",
    "finally:\n",
    "    if conn != None:\n",
    "        conn.close()"
   ]
  },
  {
   "cell_type": "code",
   "execution_count": 51,
   "id": "f5605aa2",
   "metadata": {},
   "outputs": [
    {
     "name": "stdout",
     "output_type": "stream",
     "text": [
      "insert into tbltest values(2,'miller',1000,'clerk')\n"
     ]
    }
   ],
   "source": [
    "try:\n",
    "    conn= MySQLdb.connect(**config) \n",
    "    \n",
    "    empno=2\n",
    "    ename='miller'\n",
    "    sal= 1000\n",
    "    job='clerk'\n",
    "    \n",
    "#     sql= f\"insert into tbltest values({empno},'{ename}',{sal},'{job}')\"    # 아 sql은 하나의 문자열로 넘겨야한다\n",
    "#     cur.execute(sql)    \n",
    "    sql='insert into tbltest values(%s,%s,%s,%s)'   # DB에 자동으로 맞는 자료형으로 바뀜\n",
    "    sql_data= (str(empno),ename, str(sal),job)\n",
    "    \n",
    "    cur=conn.cursor()\n",
    "    print(sql)\n",
    "    #\"INSERT INTO tbltest VALUES(1,'scott',5000,'manager')\" 이런식으로 출력되야함\n",
    "\n",
    "    cur.execute(sql, sql_data)\n",
    "    conn.commit()\n",
    "except Exception as e:\n",
    "    print(e)"
   ]
  },
  {
   "cell_type": "markdown",
   "id": "699e7edd",
   "metadata": {},
   "source": [
    "### cursor 객체의 fetchall(), fetchmany(), fetchone()\n",
    "    fetch: 가져오다\n",
    "    default는 fetchall\n",
    "    LIMIT와 같은 역할"
   ]
  },
  {
   "cell_type": "code",
   "execution_count": 56,
   "id": "798a1361",
   "metadata": {},
   "outputs": [
    {
     "name": "stdout",
     "output_type": "stream",
     "text": [
      "7369\n",
      "SMITH\n",
      "CLERK\n",
      "7902\n",
      "1980-12-17 00:00:00\n",
      "800.0\n",
      "None\n",
      "20\n"
     ]
    }
   ],
   "source": [
    "conn= None\n",
    "\n",
    "try:\n",
    "    conn=MySQLdb.connect(**config)\n",
    "    cur=conn.cursor()\n",
    "    \n",
    "    cur.execute('select * from emp')\n",
    "    \n",
    "#     for i in cur.fetchall():\n",
    "#         print(i)\n",
    "        \n",
    "    for i in cur.fetchone():          # LIMIT와 같은 역할. 원하는 개수만 가져오기\n",
    "        print(i)\n",
    "    \n",
    "except Exception as e:\n",
    "    print(e)\n",
    "finally:\n",
    "    if conn != None:\n",
    "        conn.close()"
   ]
  },
  {
   "cell_type": "markdown",
   "id": "b6fe50fa",
   "metadata": {},
   "source": [
    "### (4)DictCursor\n",
    "    필드 골라오기 = SELECT"
   ]
  },
  {
   "cell_type": "code",
   "execution_count": 62,
   "id": "469997d5",
   "metadata": {},
   "outputs": [
    {
     "name": "stdout",
     "output_type": "stream",
     "text": [
      "7369 SMITH 800.0\n",
      "7499 ALLEN 1600.0\n",
      "7521 WARD 1250.0\n",
      "7566 JONES 2975.0\n",
      "7654 MARTIN 1250.0\n",
      "7698 BLAKE 2850.0\n",
      "7782 CLARK 2450.0\n",
      "7788 SCOTT 3000.0\n",
      "7839 KING 5000.0\n",
      "7844 TURNER 1500.0\n",
      "7876 ADAMS 1100.0\n",
      "7900 JAMES 950.0\n",
      "7902 FORD 3000.0\n",
      "7934 MILLER 1300.0\n"
     ]
    }
   ],
   "source": [
    "conn= None\n",
    "\n",
    "try:\n",
    "    conn=MySQLdb.connect(**config)\n",
    "    cur=conn.cursor(MySQLdb.cursors.DictCursor)   #DictCursor\n",
    "    \n",
    "    cur.execute('select * from emp')\n",
    "        \n",
    "    for i in cur.fetchall():       \n",
    "        print(i['EMPNO'],i['ENAME'],i['SAL'])   #꼭 대문자로 써야함. 원하는 필드 가져오기\n",
    "    \n",
    "except Exception as e:\n",
    "    print(e)\n",
    "finally:\n",
    "    if conn != None:\n",
    "        conn.close()"
   ]
  },
  {
   "cell_type": "markdown",
   "id": "bb4605d8",
   "metadata": {},
   "source": [
    "### csv파일을 DB에 저장\n",
    "    먼저 DB에 같은 형식의 테이블 존재해야한다. \n",
    "    csv에 특화된 파일 읽기"
   ]
  },
  {
   "cell_type": "code",
   "execution_count": 71,
   "id": "43c89e6d",
   "metadata": {},
   "outputs": [
    {
     "name": "stdout",
     "output_type": "stream",
     "text": [
      "['Supplier Name', 'Invoice Number', 'Part Number', 'Cost', 'Purchase Date']\n",
      "['A', '001-1001', '2341', '500000', '2014-01-20']\n"
     ]
    }
   ],
   "source": [
    "import csv #csv모듈의 reader\n",
    "\n",
    "file= csv.reader(open('data/input.csv','r'))\n",
    "\n",
    "print(next(file))    #readline처럼 ,로 구분해서 읽어들임\n",
    "print(next(file))"
   ]
  },
  {
   "cell_type": "code",
   "execution_count": 67,
   "id": "41ba8296",
   "metadata": {},
   "outputs": [],
   "source": [
    "conn= None\n",
    "\n",
    "try:\n",
    "    conn=MySQLdb.connect(**config)\n",
    "    cur=conn.cursor()\n",
    "    \n",
    "    file= csv.reader(open('data/input.csv','r'))   # csv.reader\n",
    "    next(file)      # 한줄 넘기고 넣기\n",
    "    for i in file:      #for문 자체가 순서대로 넘기는 역할이라 next 생략 가능\n",
    "        cur.execute('insert into suppliers values(%s,%s,%s,%s,%s)',i)   #리스트로 묶인게 순서대로 매핑된다\n",
    "    \n",
    "    conn.commit()\n",
    "except Exception as e:\n",
    "    print(e)\n",
    "finally:\n",
    "    if conn != None:\n",
    "        conn.close()"
   ]
  },
  {
   "cell_type": "markdown",
   "id": "994e0542",
   "metadata": {},
   "source": [
    "### (6) DB의 정보를 파일로 저장"
   ]
  },
  {
   "cell_type": "code",
   "execution_count": 74,
   "id": "ab2882fa",
   "metadata": {},
   "outputs": [],
   "source": [
    "import csv\n",
    "conn=None\n",
    "\n",
    "try:\n",
    "    conn=MySQLdb.connect(**config)\n",
    "    cur=conn.cursor()\n",
    "    \n",
    "    cur.execute('select * from suppliers where cost>500000')\n",
    "    \n",
    "    file= csv.writer(open('data/output.csv','w'))   # csv.writer 자동으로 한줄씩 , 붙여서 파일 작성\n",
    "    \n",
    "    file.writerow(['Supplier Name', 'Invoice Number', 'Part Number', 'Cost', 'Purchase Date'])  # 한 줄 작성\n",
    "    \n",
    "    for i in cur:\n",
    "        file.writerow(i)\n",
    "        \n",
    "    conn.commit()\n",
    "except Exception as e:\n",
    "    print(e)\n",
    "finally:\n",
    "    if conn != None:\n",
    "        conn.close()\n",
    "    "
   ]
  },
  {
   "cell_type": "markdown",
   "id": "9def34d2",
   "metadata": {},
   "source": [
    "## 2. 파이썬과 SQLite 연동\n",
    "    네트워크로 연결된 공용DB가 아닌 한 곳에서만(내 프로그램에서만) 사용하는 DB\n",
    "    mariaDB는 여러사람이 접근 가능\n",
    "###    (1) 로컬로 사용할 수 있는 DBMS (localDB 종류)\n",
    "        Access\n",
    "        SQLite\n",
    "        Microsoft SQL Server Compact Edition\n",
    "        Firebird Embeded Server\n",
    "        H2\n",
    "        HSQL\n",
    "        Apache Derby\n",
    "        ...\n",
    "### (2) SQLite 특징\n",
    "        파일기반의 DBMS. 저메모리, 빠른 처리속도\n",
    "        그대로 복사해서 다른 컴퓨터로 이동 가능\n",
    "        오픈소스\n",
    "        스마트폰에 내장된 DBMS\n",
    "        파이썬에 내장\n",
    "        표준 SQL 지원\n",
    "### (3) 제한 사항\n",
    "        컬럼을 삭제하거나 변경 불가\n",
    "        Left outer join만 지원\n",
    "        읽기전용 뷰만 지원\n",
    "### (4) 공식 사이트\n",
    "http://\n",
    "### (5) 클라이언트 툴\n",
    "http://sqliteexpert.com"
   ]
  },
  {
   "cell_type": "code",
   "execution_count": 1,
   "id": "60e3e58a",
   "metadata": {},
   "outputs": [],
   "source": [
    "import sqlite3"
   ]
  },
  {
   "cell_type": "code",
   "execution_count": 2,
   "id": "0b53624b",
   "metadata": {
    "scrolled": true
   },
   "outputs": [
    {
     "name": "stdout",
     "output_type": "stream",
     "text": [
      "2.6.0\n",
      "3.39.3\n"
     ]
    }
   ],
   "source": [
    "print(sqlite3.version)    # sqlite3 모듈의 버전\n",
    "print(sqlite3.sqlite_version)      #sqlite DB의 버전"
   ]
  },
  {
   "cell_type": "code",
   "execution_count": 4,
   "id": "6d9353bb",
   "metadata": {},
   "outputs": [
    {
     "name": "stdout",
     "output_type": "stream",
     "text": [
      "<sqlite3.Connection object at 0x0000019FC40B1990>\n"
     ]
    }
   ],
   "source": [
    "conn= sqlite3.connect('data/sqlitetest.db')  #파일 기반의 DB 생성\n",
    "print(conn)\n",
    "conn.close()"
   ]
  },
  {
   "cell_type": "markdown",
   "id": "ab2c835c",
   "metadata": {},
   "source": [
    "### SELECT"
   ]
  },
  {
   "cell_type": "code",
   "execution_count": 5,
   "id": "be266346",
   "metadata": {},
   "outputs": [
    {
     "name": "stdout",
     "output_type": "stream",
     "text": [
      "(7369, 'SMITH', 'CLERK', 7902, '1980-12-17 00:00:00', 800.0, None, 20)\n",
      "(7499, 'ALLEN', 'SALESMAN', 7698, '1981-02-20 00:00:00', 1600.0, 300.0, 30)\n",
      "(7521, 'WARD', 'SALESMAN', 7698, '1981-02-22 00:00:00', 1250.0, 500.0, 30)\n",
      "(7566, 'JONES', 'MANAGER', 7839, '1981-04-02 00:00:00', 2975.0, None, 20)\n",
      "(7654, 'MARTIN', 'SALESMAN', 7698, '1981-09-28 00:00:00', 1250.0, 1400.0, 30)\n",
      "(7698, 'BLAKE', 'MANAGER', 7839, '1981-05-01 00:00:00', 2850.0, None, 30)\n",
      "(7782, 'CLARK', 'MANAGER', 7839, '1981-06-09 00:00:00', 2450.0, None, 10)\n",
      "(7788, 'SCOTT', 'ANALYST', 7566, '1987-04-19 00:00:00', 3000.0, None, 20)\n",
      "(7839, 'KING', 'PRESIDENT', None, '1981-11-17 00:00:00', 5000.0, None, 10)\n",
      "(7844, 'TURNER', 'SALESMAN', 7698, '1981-09-08 00:00:00', 1500.0, 0.0, 30)\n",
      "(7876, 'ADAMS', 'CLERK', 7788, '1987-05-23 00:00:00', 1100.0, None, 20)\n",
      "(7900, 'JAMES', 'CLERK', 7698, '1981-12-03 00:00:00', 950.0, None, 30)\n",
      "(7902, 'FORD', 'ANALYST', 7566, '1981-12-03 00:00:00', 3000.0, None, 20)\n",
      "(7934, 'MILLER', 'CLERK', 7782, '1982-01-23 00:00:00', 1300.0, None, 10)\n"
     ]
    }
   ],
   "source": [
    "conn= sqlite3.connect('data/sqlitetest.db')\n",
    "cur= conn.cursor()\n",
    "\n",
    "cur.execute('select * from emp')\n",
    "for i in cur:\n",
    "    print(i)\n",
    "\n",
    "conn.close()"
   ]
  },
  {
   "cell_type": "markdown",
   "id": "ae649539",
   "metadata": {},
   "source": [
    "#### 자동으로 db와 테이블 생성\n",
    "\n",
    "    없으면 생성하고 있으면 연결한다"
   ]
  },
  {
   "cell_type": "code",
   "execution_count": 7,
   "id": "23b6dc95",
   "metadata": {},
   "outputs": [
    {
     "name": "stdout",
     "output_type": "stream",
     "text": [
      "(1, '홍길동')\n",
      "(1, '홍길동')\n"
     ]
    }
   ],
   "source": [
    "conn= sqlite3.connect('data/auto.db')\n",
    "cur= conn.cursor()\n",
    "cur.execute('create table if not exists tbltest(id int, name varchar(10))')\n",
    "conn.commit()\n",
    "\n",
    "cur.execute('insert into tbltest values(1,\"홍길동\")')\n",
    "conn.commit()\n",
    "\n",
    "cur.execute('select * from tbltest')\n",
    "for row in cur:\n",
    "    print(row)\n",
    "    \n",
    "conn.close()"
   ]
  },
  {
   "cell_type": "markdown",
   "id": "5a543291",
   "metadata": {},
   "source": [
    "#### csv파일을 읽어서 db에 저장"
   ]
  },
  {
   "cell_type": "code",
   "execution_count": 8,
   "id": "5c6955f8",
   "metadata": {},
   "outputs": [],
   "source": [
    "import csv"
   ]
  },
  {
   "cell_type": "code",
   "execution_count": 9,
   "id": "70ca7a11",
   "metadata": {},
   "outputs": [],
   "source": [
    "sql=\"\"\"\n",
    "CREATE TABLE IF NOT EXISTS suppliers(\n",
    "    Supplier_Name    varchar(20),\n",
    "    Invoice_Number   varchar(20),\n",
    "    Part_Number      varchar(20),\n",
    "    Cost             float,\n",
    "    Purchase_Date    date\n",
    ");\n",
    "\"\"\"\n",
    "conn= sqlite3.connect('data/auto.db')\n",
    "cur= conn.cursor()\n",
    "cur.execute(sql)\n",
    "conn.commit()\n",
    "conn.close()"
   ]
  },
  {
   "cell_type": "code",
   "execution_count": 18,
   "id": "00a816dd",
   "metadata": {},
   "outputs": [
    {
     "name": "stdout",
     "output_type": "stream",
     "text": [
      "('tbltest',)\n",
      "('suppliers',)\n"
     ]
    }
   ],
   "source": [
    "conn= sqlite3.connect('data/auto.db')\n",
    "cur= conn.cursor()\n",
    "\n",
    "# 테이블 조회.      show tables;는 표준sql 아님\n",
    "cur.execute('select name from sqlite_master where type=\"table\"')\n",
    "for i in cur:\n",
    "    print(i)\n",
    "    \n",
    "# 파일 불러오기\n",
    "file= csv.reader(open('data/input.csv'))\n",
    "# for i in file:\n",
    "#     print(i)\n",
    "next(file)\n",
    "for row in file:\n",
    "    cur.execute('insert into suppliers values(?,?,?,?,?)',row)     #sqlite에서는 %대신 ?\n",
    "\n",
    "conn.commit()\n",
    "\n",
    "conn.close()"
   ]
  },
  {
   "cell_type": "markdown",
   "id": "9d61e473",
   "metadata": {},
   "source": [
    "### (6) Memory DB\n",
    "    파일대신 메모리에 저장하면 지속성은 없지만 속도가 빠르다. \n",
    "    용량 제한 존재\n",
    "    한개만 존재하므로 db이름을 넣어 줄 필요 없음"
   ]
  },
  {
   "cell_type": "code",
   "execution_count": 19,
   "id": "8033389b",
   "metadata": {},
   "outputs": [
    {
     "data": {
      "text/plain": [
       "<sqlite3.Cursor at 0x19fc40bed50>"
      ]
     },
     "execution_count": 19,
     "metadata": {},
     "output_type": "execute_result"
    }
   ],
   "source": [
    "conn= sqlite3.connect(':memory:')     # 메모리에 db를 넣겠다는 뜻\n",
    "cur= conn.cursor()\n",
    "\n",
    "cur.execute('create table phonebook(name varchar(10), phonenum text)')\n",
    "cur.execute('insert into phonebook values(?,?)',('tom','010-1234-1234'))"
   ]
  },
  {
   "cell_type": "code",
   "execution_count": 27,
   "id": "247d11bf",
   "metadata": {},
   "outputs": [
    {
     "name": "stdout",
     "output_type": "stream",
     "text": [
      "('tom', '010-1234-1234')\n",
      "('been', '010-4567-4567')\n",
      "('na', '010-5678-4567')\n",
      "('jane', '010-111-111')\n",
      "('jerry', '010-222-222')\n",
      "('marry', '010-333-333')\n"
     ]
    }
   ],
   "source": [
    "cur.execute('select * from phonebook')\n",
    "for i in cur:\n",
    "    print(i)"
   ]
  },
  {
   "cell_type": "code",
   "execution_count": 24,
   "id": "a8085743",
   "metadata": {},
   "outputs": [
    {
     "data": {
      "text/plain": [
       "<sqlite3.Cursor at 0x19fc40bed50>"
      ]
     },
     "execution_count": 24,
     "metadata": {},
     "output_type": "execute_result"
    }
   ],
   "source": [
    "# 입력 데이터를 변수명으로 처리\n",
    "# 변수에는 : 붙이기\n",
    "cur.execute(\"insert into phonebook values(:vName, :vPhone)\",{'vPhone':'010-5678-4567', 'vName':'na'})"
   ]
  },
  {
   "cell_type": "markdown",
   "id": "f72b3109",
   "metadata": {},
   "source": [
    "#### 여러개의 데이터를 한번에 입력"
   ]
  },
  {
   "cell_type": "code",
   "execution_count": 26,
   "id": "8c5aa23c",
   "metadata": {},
   "outputs": [
    {
     "data": {
      "text/plain": [
       "<sqlite3.Cursor at 0x19fc40bed50>"
      ]
     },
     "execution_count": 26,
     "metadata": {},
     "output_type": "execute_result"
    }
   ],
   "source": [
    "datalist=(('jane','010-111-111'),('jerry','010-222-222'),('marry','010-333-333'))\n",
    "\n",
    "cur.executemany('insert into phonebook values(?,?)',datalist)     #data 개수만큼 execute 실행"
   ]
  },
  {
   "cell_type": "markdown",
   "id": "95ae296e",
   "metadata": {},
   "source": [
    "### (7) 스크립트 작업\n",
    "    DML을 따로 저장(create, insert, drop)"
   ]
  },
  {
   "cell_type": "code",
   "execution_count": 30,
   "id": "0dea0805",
   "metadata": {},
   "outputs": [
    {
     "name": "stdout",
     "output_type": "stream",
     "text": [
      "BEGIN TRANSACTION;\n",
      "CREATE TABLE phonebook(name varchar(10), phonenum text);\n",
      "INSERT INTO \"phonebook\" VALUES('tom','010-1234-1234');\n",
      "INSERT INTO \"phonebook\" VALUES('been','010-4567-4567');\n",
      "INSERT INTO \"phonebook\" VALUES('na','010-5678-4567');\n",
      "INSERT INTO \"phonebook\" VALUES('jane','010-111-111');\n",
      "INSERT INTO \"phonebook\" VALUES('jerry','010-222-222');\n",
      "INSERT INTO \"phonebook\" VALUES('marry','010-333-333');\n",
      "COMMIT;\n"
     ]
    }
   ],
   "source": [
    "# 지금까지 작업을 스크립트로 저장\n",
    "\n",
    "file= open('data/dump.sql','w')\n",
    "\n",
    "for line in conn.iterdump():\n",
    "    print(line)\n",
    "    file.write(line+'\\n')\n",
    "    \n",
    "file.close()\n",
    "# conn.close()   닫으면 모든 작업 사라짐"
   ]
  },
  {
   "cell_type": "code",
   "execution_count": 36,
   "id": "b797aa45",
   "metadata": {},
   "outputs": [
    {
     "name": "stdout",
     "output_type": "stream",
     "text": [
      "('tbltest',)\n",
      "('suppliers',)\n",
      "('phonebook',)\n"
     ]
    }
   ],
   "source": [
    "# 스크립트 불러오기\n",
    "\n",
    "conn= sqlite3.connect('data/auto.db')\n",
    "cur= conn.cursor()\n",
    "\n",
    "file= open('data/dump.sql')\n",
    "script= file.read()\n",
    "# print(script)\n",
    "cur.executescript(script)\n",
    "# cur.execute('select name from sqlite_master where type=\"table\"')\n",
    "# for i in cur:\n",
    "#     print(i)\n",
    "conn.close()"
   ]
  },
  {
   "cell_type": "markdown",
   "id": "399ed03b",
   "metadata": {},
   "source": [
    "## 3. 파이썬과 MongoDB의 연동\n",
    "    pip install pymongo"
   ]
  },
  {
   "cell_type": "code",
   "execution_count": 40,
   "id": "9648b1bc",
   "metadata": {},
   "outputs": [],
   "source": [
    "# import pymongo\n",
    "from pymongo import MongoClient"
   ]
  },
  {
   "cell_type": "markdown",
   "id": "cb3512a2",
   "metadata": {},
   "source": [
    "### (1) 서버 연결"
   ]
  },
  {
   "cell_type": "code",
   "execution_count": 38,
   "id": "ab99114a",
   "metadata": {},
   "outputs": [
    {
     "name": "stdout",
     "output_type": "stream",
     "text": [
      "MongoClient(host=['127.0.0.1:27017'], document_class=dict, tz_aware=False, connect=True)\n"
     ]
    }
   ],
   "source": [
    "conn= pymongo.MongoClient('127.0.0.1', 27017)\n",
    "print(conn)\n",
    "conn.close()"
   ]
  },
  {
   "cell_type": "markdown",
   "id": "2e0c6de0",
   "metadata": {},
   "source": [
    "### (2) DB연결"
   ]
  },
  {
   "cell_type": "code",
   "execution_count": 41,
   "id": "c4d17bf6",
   "metadata": {},
   "outputs": [
    {
     "name": "stdout",
     "output_type": "stream",
     "text": [
      "Database(MongoClient(host=['127.0.0.1:27017'], document_class=dict, tz_aware=False, connect=True), 'testdb')\n"
     ]
    }
   ],
   "source": [
    "conn= MongoClient('127.0.0.1', 27017)\n",
    "# dbname= conn.get_database('testdb')\n",
    "# dbname= conn.testdb\n",
    "dbname= conn['testdb']      #mongodb가 dict타입이라 가능\n",
    "print(dbname)\n",
    "conn.close()"
   ]
  },
  {
   "cell_type": "markdown",
   "id": "a2067523",
   "metadata": {},
   "source": [
    "### (3) Collection 연결           (테이블)"
   ]
  },
  {
   "cell_type": "code",
   "execution_count": 42,
   "id": "30a067ee",
   "metadata": {},
   "outputs": [
    {
     "name": "stdout",
     "output_type": "stream",
     "text": [
      "Collection(Database(MongoClient(host=['127.0.0.1:27017'], document_class=dict, tz_aware=False, connect=True), 'testdb'), 'articles')\n"
     ]
    }
   ],
   "source": [
    "conn= MongoClient('127.0.0.1', 27017)\n",
    "dbname= conn.testdb\n",
    "\n",
    "# collect= dbname['articles']\n",
    "collect= dbname.articles\n",
    "print(collect)\n",
    "\n",
    "conn.close()"
   ]
  },
  {
   "cell_type": "markdown",
   "id": "5f468e5a",
   "metadata": {},
   "source": [
    "### (4) 데이터입력(1개)"
   ]
  },
  {
   "cell_type": "code",
   "execution_count": null,
   "id": "00aa8e1a",
   "metadata": {},
   "outputs": [],
   "source": [
    "conn= MongoClient('127.0.0.1', 27017)\n",
    "dbname= conn.testdb\n",
    "collect= dbname.articles"
   ]
  },
  {
   "cell_type": "code",
   "execution_count": 46,
   "id": "38462748",
   "metadata": {},
   "outputs": [
    {
     "name": "stdout",
     "output_type": "stream",
     "text": [
      "{'_id': ObjectId('63edc47d51489e6da38140b0'), 'title': 'article01', 'content': 'content01', 'writer': 'Tom', 'name': {'first': 'gil dong', 'last': 'hong'}, 'language': ['korean', 'english', 'french'], 'likes': 0.0, 'comment': []}\n",
      "{'_id': ObjectId('63edc47d51489e6da38140b1'), 'title': 'article02', 'content': 'content02', 'writer': 'Alpha', 'name': {'first': 'j. k.', 'last': 'tiger'}, 'language': ['korean', 'chinese'], 'likes': 23.0, 'comment': [{'name': 'Bravo', 'message': 'Hey man!'}]}\n",
      "{'_id': ObjectId('63edc47d51489e6da38140b2'), 'title': 'article03', 'content': 'content03', 'writer': 'Bravo', 'likes': 40.0, 'comment': [{'name': 'Charlie', 'message': 'Hey man!'}, {'name': 'Delta', 'message': 'Hey man!'}]}\n",
      "3\n",
      "4\n"
     ]
    }
   ],
   "source": [
    "# pymongo의 함수\n",
    "conn= MongoClient('127.0.0.1', 27017)\n",
    "dbname= conn.testdb\n",
    "collect= dbname.articles\n",
    "\n",
    "for i in collect.find():     #mongodb의 find 아님. 모듈의 함수\n",
    "    print(i)\n",
    "    \n",
    "print(collect.count_documents({}))   #documents 개수\n"
   ]
  },
  {
   "cell_type": "code",
   "execution_count": null,
   "id": "339f2707",
   "metadata": {},
   "outputs": [],
   "source": [
    "data={'author':'Mike','text':'my','tag':['mongo','python']}\n",
    "collect.insert_one(data)     # 데이터 1개 추가\n",
    "\n",
    "print(collect.count_documents({})) "
   ]
  },
  {
   "cell_type": "code",
   "execution_count": 51,
   "id": "dee86dc7",
   "metadata": {},
   "outputs": [
    {
     "name": "stdout",
     "output_type": "stream",
     "text": [
      "6406b4efdaed393f3b305f71\n",
      "16\n"
     ]
    }
   ],
   "source": [
    "data={'author':'Tom','text':'my','tag':['mongo','python']}\n",
    "post_id=collect.insert_one(data).inserted_id     # 생성된 데이터의 id 반환\n",
    "print(post_id)\n",
    "print(collect.count_documents({})) "
   ]
  },
  {
   "cell_type": "code",
   "execution_count": null,
   "id": "51cbcfa2",
   "metadata": {},
   "outputs": [],
   "source": [
    "conn.close()"
   ]
  },
  {
   "cell_type": "markdown",
   "id": "5573b46c",
   "metadata": {},
   "source": [
    "### (5) 데이터 여러개 입력"
   ]
  },
  {
   "cell_type": "code",
   "execution_count": 50,
   "id": "91769ec5",
   "metadata": {},
   "outputs": [
    {
     "name": "stdout",
     "output_type": "stream",
     "text": [
      "[{'number': 0}, {'number': 1}, {'number': 2}, {'number': 3}, {'number': 4}, {'number': 5}, {'number': 6}, {'number': 7}, {'number': 8}, {'number': 9}]\n",
      "15\n"
     ]
    }
   ],
   "source": [
    "conn= MongoClient('127.0.0.1', 27017)\n",
    "dbname= conn.testdb\n",
    "collect= dbname.people\n",
    "\n",
    "datas=[{'number':i} for i in range(10)]\n",
    "print(datas)\n",
    "\n",
    "# collect.insert_many(datas)\n",
    "collect.insert_many([{'number':i} for i in range(10)])\n",
    "print(collect.count_documents({})) "
   ]
  },
  {
   "cell_type": "code",
   "execution_count": 54,
   "id": "4a404ad5",
   "metadata": {},
   "outputs": [],
   "source": [
    "conn.close()"
   ]
  },
  {
   "cell_type": "markdown",
   "id": "8ab28996",
   "metadata": {},
   "source": [
    "### (6) 조회 기능"
   ]
  },
  {
   "cell_type": "code",
   "execution_count": 66,
   "id": "821fd980",
   "metadata": {},
   "outputs": [
    {
     "name": "stdout",
     "output_type": "stream",
     "text": [
      "{'_id': ObjectId('63eef677f7dfca154918452e'), 'name': 'Charlie', 'age': 23.0, 'skills': ['mongodb', 'nodejs']}\n"
     ]
    }
   ],
   "source": [
    "conn= MongoClient('127.0.0.1', 27017)\n",
    "dbname= conn.testdb\n",
    "collect= dbname.people\n",
    "\n",
    "# for i in collect.find():   전체 조회\n",
    "#     print(i)\n",
    "    \n",
    "# for i in collect.find({'age':20}):    # 나이가 20인 사람 조회\n",
    "#     print(i)\n",
    "    \n",
    "# for i in collect.find({'age':{\"$gte\":23}}):      # 나이가 23이상인 사람 조회. 키는 쌍따옴표\n",
    "#     print(i)\n",
    "    \n",
    "print(collect.find_one({'age':{'$gte':23}}))   # 결과 중 하나만 가져올 때\n",
    "\n",
    "conn.close()"
   ]
  },
  {
   "cell_type": "markdown",
   "id": "9bf65590",
   "metadata": {},
   "source": [
    "### (7) 수정 기능"
   ]
  },
  {
   "cell_type": "code",
   "execution_count": 72,
   "id": "1c7ea34b",
   "metadata": {},
   "outputs": [
    {
     "name": "stdout",
     "output_type": "stream",
     "text": [
      "{'_id': ObjectId('63eef677f7dfca154918452f'), 'name': 'David', 'age': 200, 'score': 20.0}\n"
     ]
    }
   ],
   "source": [
    "conn= MongoClient('127.0.0.1', 27017)\n",
    "dbname= conn.testdb\n",
    "collect= dbname.people\n",
    "\n",
    "collect.update_one({'name':'David'},{'$set':{'age':200}})\n",
    "\n",
    "print(collect.find_one({'name':'David'}))\n",
    "conn.close()"
   ]
  },
  {
   "cell_type": "code",
   "execution_count": null,
   "id": "ae13142e",
   "metadata": {},
   "outputs": [],
   "source": []
  }
 ],
 "metadata": {
  "kernelspec": {
   "display_name": "Python 3 (ipykernel)",
   "language": "python",
   "name": "python3"
  },
  "language_info": {
   "codemirror_mode": {
    "name": "ipython",
    "version": 3
   },
   "file_extension": ".py",
   "mimetype": "text/x-python",
   "name": "python",
   "nbconvert_exporter": "python",
   "pygments_lexer": "ipython3",
   "version": "3.9.13"
  }
 },
 "nbformat": 4,
 "nbformat_minor": 5
}
