{
 "cells": [
  {
   "cell_type": "markdown",
   "id": "3255f576",
   "metadata": {},
   "source": [
    "## 1. 입력 기능"
   ]
  },
  {
   "cell_type": "code",
   "execution_count": 1,
   "id": "a627664d",
   "metadata": {},
   "outputs": [
    {
     "name": "stdout",
     "output_type": "stream",
     "text": [
      "당신의 이름은?뉴진스\n",
      "안녕하세요 뉴진스님\n"
     ]
    }
   ],
   "source": [
    "name= input('당신의 이름은?')\n",
    "print('안녕하세요 {}님'.format(name))"
   ]
  },
  {
   "cell_type": "code",
   "execution_count": 3,
   "id": "0e490fa3",
   "metadata": {},
   "outputs": [
    {
     "name": "stdout",
     "output_type": "stream",
     "text": [
      "숫자 입력: 1\n",
      "숫자 입력: 2\n",
      "결과= 3\n"
     ]
    }
   ],
   "source": [
    "num1= int(input(\"숫자 입력: \"))\n",
    "num2= int(input(\"숫자 입력: \"))\n",
    "\n",
    "print('결과= {}'.format(num1 + num2))"
   ]
  },
  {
   "cell_type": "markdown",
   "id": "18b60798",
   "metadata": {},
   "source": [
    "## 2. 조건문\n",
    "- 형식\n",
    "    \n",
    "    if 조건식:\n",
    "        문장\n",
    "        ...\n",
    "        pass\n",
    "    elif 조건식:\n",
    "        ...\n",
    "    [ else:\n",
    "        ...]\n",
    "        \n",
    "    if 조건식: 문장   <- 한줄인 경우"
   ]
  },
  {
   "cell_type": "code",
   "execution_count": 8,
   "id": "cae6891d",
   "metadata": {},
   "outputs": [
    {
     "name": "stdout",
     "output_type": "stream",
     "text": [
      "숫자 입력: 3\n",
      "홀수\n"
     ]
    }
   ],
   "source": [
    "num= int(input('숫자 입력: '))\n",
    "\n",
    "if(num%2==0): print('짝수') \n",
    "else: print('홀수')"
   ]
  },
  {
   "cell_type": "code",
   "execution_count": 10,
   "id": "abc8b5d8",
   "metadata": {
    "scrolled": true
   },
   "outputs": [
    {
     "name": "stdout",
     "output_type": "stream",
     "text": [
      "입력값:w\n",
      "오답\n"
     ]
    }
   ],
   "source": [
    "i= input('입력값:')\n",
    "if i in ['a','b','c','d']: print('정답')\n",
    "else: print('오답')"
   ]
  },
  {
   "cell_type": "code",
   "execution_count": 17,
   "id": "ccc8d1d2",
   "metadata": {},
   "outputs": [
    {
     "name": "stdout",
     "output_type": "stream",
     "text": [
      "연산자: *\n",
      "num1: 5\n",
      "num2: 9\n",
      "결과: 5*9= 45\n"
     ]
    }
   ],
   "source": [
    "# op= input('연산자: ')\n",
    "# num1= int(input('num1: '))\n",
    "# num2= int(input('num2: '))\n",
    "# if op=='+': print('결과: {}{}{}= {}'.format(num1, op, num2, num1 + num2))\n",
    "# elif op=='-': print('결과: {}{}{}= {}'.format(num1, op, num2, num1 - num2))\n",
    "# elif op=='*': print('결과: {}{}{}= {}'.format(num1, op, num2, num1 * num2))\n",
    "# elif op=='/': print('결과: {}{}{}= {}'.format(num1, op, num2, num1 / num2))\n",
    "    \n",
    "    \n",
    "op= input('연산자: ')\n",
    "num1= int(input('num1: '))\n",
    "num2= int(input('num2: '))\n",
    "\n",
    "# 중복되는 코드 줄이기\n",
    "if op == '+':\n",
    "    ans= num1+num2\n",
    "elif op =='-':\n",
    "    ams= num1-num2\n",
    "elif op =='*':\n",
    "    ans= num1*num2\n",
    "elif op =='/':\n",
    "    ans= num1/num2\n",
    "    \n",
    "print('결과: {}{}{}= {}'.format(num1, op, num2, ans))"
   ]
  },
  {
   "cell_type": "markdown",
   "id": "f20df37c",
   "metadata": {},
   "source": [
    "- 중첩 if문"
   ]
  },
  {
   "cell_type": "code",
   "execution_count": 18,
   "id": "84000fce",
   "metadata": {},
   "outputs": [
    {
     "name": "stdout",
     "output_type": "stream",
     "text": [
      "b가 최대\n"
     ]
    }
   ],
   "source": [
    "# 최대값 찾기\n",
    "\n",
    "a,b,c= 3,9,5\n",
    "\n",
    "if a>b:\n",
    "    if a>c:\n",
    "        print('a가 최대')\n",
    "    else:\n",
    "        print('c가 최대')\n",
    "else:\n",
    "    if b>c:\n",
    "        print('b가 최대')\n",
    "    else:\n",
    "        print('c가 최대')"
   ]
  },
  {
   "cell_type": "code",
   "execution_count": 19,
   "id": "f17c07ab",
   "metadata": {},
   "outputs": [
    {
     "name": "stdout",
     "output_type": "stream",
     "text": [
      "ID: tiger\n",
      "PW: 1111\n",
      "로그인 성공\n"
     ]
    }
   ],
   "source": [
    "id= input('ID: ')    # id: tiger\n",
    "pw= input('PW: ')    # pw: 1111\n",
    "\n",
    "if id!= 'tiger':\n",
    "    if pw != '1111':\n",
    "        print('id와 pw 틀림')\n",
    "    else:\n",
    "        print('id 틀림')\n",
    "else:\n",
    "    if pw != '1111':\n",
    "        print('pw 틀림')\n",
    "    else: \n",
    "        print('로그인 성공')"
   ]
  },
  {
   "cell_type": "markdown",
   "id": "46c3c6ce",
   "metadata": {},
   "source": [
    "- 삼항 연산자 p.86\n",
    "\n",
    "    < 참일때 결과 > <if 조건문 > < else 거짓일 때 결과 >"
   ]
  },
  {
   "cell_type": "code",
   "execution_count": 33,
   "id": "04405d0d",
   "metadata": {},
   "outputs": [
    {
     "name": "stdout",
     "output_type": "stream",
     "text": [
      "\"가위\", \"바위\", \"보\" 중에서 하나를 입력하세요: 가위\n",
      "컴퓨터: 보\n",
      "나 가위\n",
      "lose\n"
     ]
    }
   ],
   "source": [
    "# 가위 바위 보 게임\n",
    "import random\n",
    "\n",
    "me= input('\"가위\", \"바위\", \"보\" 중에서 하나를 입력하세요: ')\n",
    "\n",
    "rand= random.randint(0,2)\n",
    "if rand==0: \n",
    "    com= '가위'\n",
    "elif rand==1:\n",
    "    com= '바위'\n",
    "else:\n",
    "    com= '보'\n",
    "    \n",
    "print('컴퓨터:', com)\n",
    "print('나:', me)\n",
    "\n",
    "if me== '가위':\n",
    "    if com=='가위': result= 'same'\n",
    "    elif com=='바위': result= 'win'\n",
    "    elif com=='보': result= 'lose'\n",
    "elif me=='바위':\n",
    "    if com=='가위': result= 'lose'\n",
    "    elif com=='바위': result= 'same'\n",
    "    elif com=='보': result= 'win'\n",
    "elif me=='보':\n",
    "    if com=='가위': result= 'win'\n",
    "    elif com=='바위': result= 'lose'\n",
    "    elif com=='보': result= 'same'        \n",
    "else:('잘못 입력하였습니다')\n",
    "    \n",
    "print(result)"
   ]
  },
  {
   "cell_type": "markdown",
   "id": "d1b44852",
   "metadata": {},
   "source": [
    "## 3. 반복문\n",
    "- while\n",
    "- for\n",
    "\n",
    "주의: 무한 반복, 반복 횟수 ==> 초기화, 조건식, 카운팅 주의!!"
   ]
  },
  {
   "cell_type": "markdown",
   "id": "5896881b",
   "metadata": {},
   "source": [
    "### 1) while\n",
    "        while 조건식:\n",
    "            참인 경우"
   ]
  },
  {
   "cell_type": "code",
   "execution_count": 32,
   "id": "df715ef7",
   "metadata": {},
   "outputs": [
    {
     "name": "stdout",
     "output_type": "stream",
     "text": [
      "*\n",
      "*\n",
      "*\n"
     ]
    }
   ],
   "source": [
    "cnt=0\n",
    "while cnt <3:\n",
    "    print('*')\n",
    "    cnt += 1"
   ]
  },
  {
   "cell_type": "code",
   "execution_count": null,
   "id": "3a914723",
   "metadata": {},
   "outputs": [],
   "source": []
  },
  {
   "cell_type": "code",
   "execution_count": null,
   "id": "9fd2a4a1",
   "metadata": {},
   "outputs": [],
   "source": []
  },
  {
   "cell_type": "code",
   "execution_count": null,
   "id": "e4578b8c",
   "metadata": {},
   "outputs": [],
   "source": []
  },
  {
   "cell_type": "code",
   "execution_count": null,
   "id": "6223ed28",
   "metadata": {},
   "outputs": [],
   "source": []
  }
 ],
 "metadata": {
  "kernelspec": {
   "display_name": "Python 3 (ipykernel)",
   "language": "python",
   "name": "python3"
  },
  "language_info": {
   "codemirror_mode": {
    "name": "ipython",
    "version": 3
   },
   "file_extension": ".py",
   "mimetype": "text/x-python",
   "name": "python",
   "nbconvert_exporter": "python",
   "pygments_lexer": "ipython3",
   "version": "3.9.13"
  }
 },
 "nbformat": 4,
 "nbformat_minor": 5
}
