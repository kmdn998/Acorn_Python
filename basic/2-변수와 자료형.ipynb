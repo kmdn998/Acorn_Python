{
 "cells": [
  {
   "cell_type": "markdown",
   "id": "9092ea82",
   "metadata": {},
   "source": [
    "## 1. 변수(variable) \n",
    "\n",
    "- 임시 기억(저장) 장소(공간)\n",
    "\n",
    "## 2. 변수의 특징\n",
    "\n",
    "- 묵시적 선언\n",
    "- 동적 바인딩\n",
    "- iummutable(불변성)"
   ]
  },
  {
   "cell_type": "markdown",
   "id": "195778bb",
   "metadata": {},
   "source": [
    "### 1) int, float"
   ]
  },
  {
   "cell_type": "code",
   "execution_count": 2,
   "id": "404fc298",
   "metadata": {},
   "outputs": [
    {
     "name": "stdout",
     "output_type": "stream",
     "text": [
      "<class 'int'>\n",
      "<class 'float'>\n"
     ]
    }
   ],
   "source": [
    "i= 10\n",
    "print(type(i))\n",
    "\n",
    "i= 3.14\n",
    "print(type(i))"
   ]
  },
  {
   "cell_type": "markdown",
   "id": "aa6cbb6b",
   "metadata": {},
   "source": [
    "### 2) str"
   ]
  },
  {
   "cell_type": "code",
   "execution_count": 7,
   "id": "6a6b1f52",
   "metadata": {},
   "outputs": [
    {
     "name": "stdout",
     "output_type": "stream",
     "text": [
      "<class 'str'>\n",
      "제 이름은 \"홍길동\"입니다\n",
      "안녕하세요. \n",
      "만나서 반갑습니다.\n",
      "\n"
     ]
    }
   ],
   "source": [
    "# 문자열 저장. '', \"\" 상관 없음\n",
    "\n",
    "i= '10'\n",
    "print(type(i))\n",
    "\n",
    "i= '제 이름은 \"홍길동\"입니다'\n",
    "print(i)\n",
    "\n",
    "i= '''안녕하세요. \n",
    "만나서 반갑습니다.\n",
    "'''\n",
    "print(i)"
   ]
  },
  {
   "cell_type": "code",
   "execution_count": 14,
   "id": "fd2fab03",
   "metadata": {},
   "outputs": [
    {
     "name": "stdout",
     "output_type": "stream",
     "text": [
      "이것은 파이썬입니다. \n",
      "\n",
      "\n",
      "열심히 공부합시다.\n",
      "이것은 파이썬입니다. \t열심히 공부합시다.\n",
      "\\t는 탭키 기능입니다.\n",
      "'제 이름은 \"홍길동\"입니다'\n",
      "2 + 10 - 5\n"
     ]
    }
   ],
   "source": [
    "# 특수문자(제어문자): \\\n",
    "\n",
    "a= '이것은 파이썬입니다. \\n\\n\\n열심히 공부합시다.'\n",
    "print(a)\n",
    "\n",
    "a= '이것은 파이썬입니다. \\t열심히 공부합시다.'\n",
    "print(a)\n",
    "\n",
    "# escape \\: \\\\\n",
    "a= '\\\\t는 탭키 기능입니다.'\n",
    "print(a)\n",
    "\n",
    "print('\\'제 이름은 \"홍길동\"입니다\\'')\n",
    "\n",
    "# \\를 줄바꿈의 용도로 사용 (파이썬 한정)\n",
    "a= '2 + 10 \\\n",
    "- 5'\n",
    "print(a)"
   ]
  },
  {
   "cell_type": "code",
   "execution_count": 4,
   "id": "b24105a1",
   "metadata": {},
   "outputs": [
    {
     "name": "stdout",
     "output_type": "stream",
     "text": [
      "apple is red\n",
      "apple  is  red\n"
     ]
    }
   ],
   "source": [
    "# 문자열 연결\n",
    "\n",
    "a= 'apple'\n",
    "b= ' is'\n",
    "c= ' red'\n",
    "print(a + b + c)\n",
    "print(a, b, c) # 자동 띄어쓰기 "
   ]
  },
  {
   "cell_type": "code",
   "execution_count": 5,
   "id": "30cbd55b",
   "metadata": {},
   "outputs": [
    {
     "name": "stdout",
     "output_type": "stream",
     "text": [
      "appleappleapple\n"
     ]
    }
   ],
   "source": [
    "# 문자열 반복\n",
    "\n",
    "print(a * 3)"
   ]
  },
  {
   "cell_type": "code",
   "execution_count": 6,
   "id": "6c5f7cc7",
   "metadata": {},
   "outputs": [
    {
     "name": "stdout",
     "output_type": "stream",
     "text": [
      "5\n",
      "3\n",
      "4\n"
     ]
    }
   ],
   "source": [
    "# 문자열 길이\n",
    "\n",
    "print(len(a))\n",
    "print(len(b))\n",
    "print(len(c))"
   ]
  },
  {
   "cell_type": "code",
   "execution_count": 9,
   "id": "057dc6ff",
   "metadata": {},
   "outputs": [
    {
     "name": "stdout",
     "output_type": "stream",
     "text": [
      "Life is too short\n",
      "e o\n",
      "t\n",
      "t\n"
     ]
    }
   ],
   "source": [
    "# 인덱싱(indexing): 원하는 문자에 접근할 수 있는 방법을 제공\n",
    "\n",
    "a= 'Life is too short'\n",
    "\n",
    "print(a)\n",
    "print(a[3], a[10])\n",
    "\n",
    "print(a[len(a)-1])\n",
    "print(a[-1])   #뒤에서부터 접근"
   ]
  },
  {
   "cell_type": "code",
   "execution_count": 12,
   "id": "6fe803f6",
   "metadata": {},
   "outputs": [
    {
     "name": "stdout",
     "output_type": "stream",
     "text": [
      "Life i\n",
      "Life i\n",
      "Life is too short\n",
      " shor\n",
      "Lf stosot\n"
     ]
    }
   ],
   "source": [
    "# 슬라이싱(Slicing) -> [시작위치 : 끝위치+1 : 간격]          리스트로 반환\n",
    "\n",
    "print(a[0:6])   # 간격이 1 일때 생략가능\n",
    "print(a[ :6])   # 시작위치 0 일때 생략가능\n",
    "print(a[ : ])   # 전체 문자열\n",
    "print(a[11:-1])\n",
    "print(a[ : :2])"
   ]
  },
  {
   "cell_type": "code",
   "execution_count": 1,
   "id": "1e4df6ef",
   "metadata": {},
   "outputs": [
    {
     "name": "stdout",
     "output_type": "stream",
     "text": [
      "현재 온도는 18도 입니다\n",
      "현재 온도는 18도 입니다. 오늘 날씨는 맑음입니다.\n",
      "나눗셈의 결과: 3 / 5 = 0.60\n",
      "나눗셈의 결과: 3 / 5 = 0.6\n",
      "나눗셈의 결과: 3 / 5 = 0.6\n",
      "*******나눗셈의 결과: 3 / 5 = 0.60\n",
      "3+5=8\n"
     ]
    }
   ],
   "source": [
    "# 문자열 포맷팅: %, format(), f'~~' p.46\n",
    "\n",
    "# %이용\n",
    "print('현재 온도는 %d도 입니다' %18)\n",
    "print('현재 온도는 %d도 입니다. 오늘 날씨는 %s입니다.' %(18,'맑음'))\n",
    "\n",
    "print('나눗셈의 결과: %d %c %d = %.2f' %(3, '/', 5, (3/5)))\n",
    "\n",
    "# 문자열 함수 format() 이용. 문자열.format(). 위치 지정 가능. 변수명으로 지정 가능\n",
    "print('나눗셈의 결과: {0} {1} {2} = {3}'.format(3, '/', 5, (3/5)))\n",
    "print('나눗셈의 결과: {0} {1} {2} = {3}'.format(3, '/', 5, (3/5)))\n",
    "\n",
    "# 공간 지정 {index: 공간} :*>  *로 빈칸 채우고 오른쪽정렬 :.2f 소수점 둘째자리까지\n",
    "print('{4:*>10}의 결과: {0} {1} {2} = {3:.2f}'.format(3, '/', 5, (3/5), '나눗셈'))\n",
    "\n",
    "# f'~~'이용 변수명을 그대로 대입\n",
    "a=3\n",
    "b=5\n",
    "print(f'{a}+{b}={a+b}')"
   ]
  },
  {
   "cell_type": "code",
   "execution_count": 51,
   "id": "060ace2a",
   "metadata": {},
   "outputs": [
    {
     "name": "stdout",
     "output_type": "stream",
     "text": [
      "2828751301200\n",
      "2828751301232\n",
      "2828751301200\n",
      "2828751301200\n"
     ]
    }
   ],
   "source": [
    "print(id(10))\n",
    "print(id(11))\n",
    "print(id(10))\n",
    "i=10\n",
    "print(id(i))"
   ]
  },
  {
   "cell_type": "markdown",
   "id": "a3404a30",
   "metadata": {},
   "source": [
    "### 3) bool"
   ]
  },
  {
   "cell_type": "code",
   "execution_count": 47,
   "id": "31e54594",
   "metadata": {},
   "outputs": [
    {
     "name": "stdout",
     "output_type": "stream",
     "text": [
      "True True False\n",
      "True True False\n"
     ]
    }
   ],
   "source": [
    "print(bool(0.5), bool(-2), bool(0))   # 숫자는 0일때만 False\n",
    "print(bool('a'), bool(' '), bool(''))  # 문자는 아무것도 없을때만 False\n",
    "i= None  # 아무 주소도 참조하고 있지 않다."
   ]
  },
  {
   "cell_type": "markdown",
   "id": "994176fe",
   "metadata": {},
   "source": [
    "## 3. 집합(군집, 묶음) 자료형 (p.58)\n",
    "\n",
    "- 여러개의 데이터를 모아서 저장. 수정 가능.\n",
    "    - list(p.63)\n",
    "    - tuple\n",
    "    - dict\n",
    "    - set"
   ]
  },
  {
   "cell_type": "markdown",
   "id": "d97c01aa",
   "metadata": {},
   "source": [
    "### 1) list\n",
    "\n",
    "- \"[ ]\" 사용\n",
    "- 임의의 객체를 **순차적**으로 저장하는 집합적 자료형 (Sequence Data)\n",
    "- 인덱스 사용 가능 \n",
    "- mutable. 수정 가능"
   ]
  },
  {
   "cell_type": "code",
   "execution_count": 60,
   "id": "79eba6ff",
   "metadata": {},
   "outputs": [
    {
     "name": "stdout",
     "output_type": "stream",
     "text": [
      "10\n",
      "11\n",
      "12\n"
     ]
    }
   ],
   "source": [
    "a= 10\n",
    "b= 11\n",
    "c= 12\n",
    "\n",
    "a, b, c= 10, 11, 12   # 파이썬만 가능\n",
    "print(a)\n",
    "print(b)\n",
    "print(c)"
   ]
  },
  {
   "cell_type": "code",
   "execution_count": 59,
   "id": "7cd4d9bf",
   "metadata": {},
   "outputs": [
    {
     "name": "stdout",
     "output_type": "stream",
     "text": [
      "['james', 178, 68.9, True]\n",
      "<class 'list'>\n"
     ]
    }
   ],
   "source": [
    "# 여러 자료형을 묶을 수 있다\n",
    "\n",
    "b= ['james', 178, 68.9, True]\n",
    "print(b)\n",
    "print(type(b))"
   ]
  },
  {
   "cell_type": "code",
   "execution_count": 65,
   "id": "e0b43e6c",
   "metadata": {},
   "outputs": [
    {
     "name": "stdout",
     "output_type": "stream",
     "text": [
      "[1, 2, [3, 4, 5]]\n",
      "[3, 4, 5]\n",
      "5\n"
     ]
    }
   ],
   "source": [
    "a= [1, 2, [3, 4, 5]]\n",
    "print(a)\n",
    "print(a[2])\n",
    "print(a[2][-1])"
   ]
  },
  {
   "cell_type": "code",
   "execution_count": 66,
   "id": "e4eae94b",
   "metadata": {},
   "outputs": [
    {
     "name": "stdout",
     "output_type": "stream",
     "text": [
      "[1, 2, 3, 4, 5]\n",
      "[100, 2, 3, 4, 5]\n",
      "[100, 2, 3, 4, 5]\n",
      "[100, 2, 3, 4, 5]\n"
     ]
    }
   ],
   "source": [
    "# 얕은 복사(swallow copy), 깊은 복사(deep copy)  p.68\n",
    "\n",
    "a= [1,2,3,4,5]\n",
    "print(a)\n",
    "\n",
    "b= a  # b가 a의 주소 복사 (얕은 복사)\n",
    "b[0]= 100   # b를 변경했을 때 a도 변경됨\n",
    "print(a)\n",
    "\n",
    "c= a[:]  # 슬라이싱 (깊은 복사)\n",
    "c[0]= 1000\n",
    "print(a)\n",
    "\n",
    "d= a.copy()  # 깊은 복사\n",
    "d[3]= 100\n",
    "print(a)"
   ]
  },
  {
   "cell_type": "code",
   "execution_count": 69,
   "id": "de6063cd",
   "metadata": {},
   "outputs": [
    {
     "name": "stdout",
     "output_type": "stream",
     "text": [
      "['1', '0']\n",
      "[0, 1, 2, 3, 4, 5, 6, 7, 8, 9]\n"
     ]
    }
   ],
   "source": [
    "# 리스트 생성\n",
    "\n",
    "# 선언\n",
    "a= []\n",
    "a= list()\n",
    "\n",
    "# 초기화\n",
    "a= list([1,2,3,4])\n",
    "a= list(\"10\")    # 문자열은 그 자체로 리스트\n",
    "print(a)\n",
    "print(list(range(10)))   # 0부터 시작이면 시작 생략 가능"
   ]
  },
  {
   "cell_type": "code",
   "execution_count": 89,
   "id": "22ae8e0a",
   "metadata": {},
   "outputs": [
    {
     "name": "stdout",
     "output_type": "stream",
     "text": [
      "[1, 2, 3, 4, 5, 6]\n",
      "[1, 2, 3, 1, 2, 3, 1, 2, 3]\n"
     ]
    }
   ],
   "source": [
    "# 연산 기능 없음\n",
    "a= [1,2,3]\n",
    "b= [4,5,6]\n",
    "\n",
    "print(a+b)  # 덧셈이 아닌 연결\n",
    "print(a*3)  # 곱셈이 아닌 반복"
   ]
  },
  {
   "cell_type": "code",
   "execution_count": 76,
   "id": "775e390b",
   "metadata": {},
   "outputs": [
    {
     "name": "stdout",
     "output_type": "stream",
     "text": [
      "[4, 2, 3, 1]\n",
      "[1, 2, 3, 4]\n",
      "[4, 3, 2, 1]\n"
     ]
    }
   ],
   "source": [
    "# 정렬 기능\n",
    "a=[4,2,3,1]\n",
    "\n",
    "sorted(a)  # 원본은 수정되지 않음. 변수에 저장해야함\n",
    "print(a)\n",
    "\n",
    "a.sort()   # 원본이 바뀜\n",
    "print(a)  \n",
    "\n",
    "a.reverse()\n",
    "print(a)"
   ]
  },
  {
   "cell_type": "markdown",
   "id": "2677b6d9",
   "metadata": {},
   "source": [
    "### 추가: insert(), append(), extend()\n",
    "\n",
    "append는 추가되는 리스트 그 자체를 하나로 추가, \n",
    "\n",
    "extend는 이터러블(리스트, 딕셔너리, 세트, 문자열, 튜플)의 요소들을 풀어서 추가"
   ]
  },
  {
   "cell_type": "code",
   "execution_count": 2,
   "id": "de173633",
   "metadata": {},
   "outputs": [
    {
     "name": "stdout",
     "output_type": "stream",
     "text": [
      "[1, 1.5, 2, 3]\n",
      "[1, 1.5, 2, 3, 4]\n",
      "[1, 1.5, 2, 3, 4, [5, 6]]\n",
      "[1, 1.5, 2, 3, 4, [5, 6], 8, 9]\n",
      "[1, 1.5, 2, 3, 4, [5, 6], 8, 9, 'h', 'i']\n"
     ]
    }
   ],
   "source": [
    "# 추가하기: insert(), append(), extend()\n",
    "a=[1,2,3]\n",
    "\n",
    "a.insert(1, 1.5) # 원하는 위치에 값 추가\n",
    "print(a)\n",
    "\n",
    "a.append(4)  # 맨 뒤에 추가\n",
    "print(a)\n",
    "\n",
    "a.append([5,6]) # 리스트 그대로\n",
    "print(a)\n",
    "\n",
    "a.extend([8,9])  # 항상 대괄호로 묶어야 함\n",
    "print(a)\n",
    "\n",
    "a.extend('hi')\n",
    "print(a)"
   ]
  },
  {
   "cell_type": "markdown",
   "id": "1047d526",
   "metadata": {},
   "source": [
    "### 삭제: remove()\n"
   ]
  },
  {
   "cell_type": "code",
   "execution_count": 83,
   "id": "e2c6f2f5",
   "metadata": {},
   "outputs": [
    {
     "name": "stdout",
     "output_type": "stream",
     "text": [
      "[1, 1, 2, 3]\n",
      "[1, 1, 2]\n",
      "[1, 1]\n"
     ]
    }
   ],
   "source": [
    "# 제거 \n",
    "a= [1,2,3,1,2,3]\n",
    "\n",
    "# 범위를 지정 (slicing)해서 제거\n",
    "a[1:3]= []\n",
    "print(a)\n",
    "\n",
    "# 값을 찾아서 삭제\n",
    "a.remove(3)\n",
    "print(a)\n",
    "\n",
    "# del. 인덱스로 접근\n",
    "del a[2]\n",
    "print(a)\n",
    "\n",
    "del a[0:1]\n",
    "\n",
    "del a # 변수 자체 삭제"
   ]
  },
  {
   "cell_type": "code",
   "execution_count": null,
   "id": "e995303e",
   "metadata": {},
   "outputs": [],
   "source": [
    "# stack: 데이터를 임시로 저장하는 용도  LIFO (push, pop) p.70\n",
    "# queue: stack과 동일. FIFO\n",
    "# heqp:데이터를 꾸준하게, 안전하게 보관"
   ]
  },
  {
   "cell_type": "code",
   "execution_count": 85,
   "id": "ecc0c086",
   "metadata": {},
   "outputs": [
    {
     "name": "stdout",
     "output_type": "stream",
     "text": [
      "[10, 20]\n",
      "30\n"
     ]
    }
   ],
   "source": [
    "# stack   삭제: pop() 추가: push()\n",
    "\n",
    "a= [10, 20, 30]\n",
    "b= a.pop()  # 값을 꺼내서 쓰기 위한 삭제\n",
    "print(a)\n",
    "print(b)"
   ]
  },
  {
   "cell_type": "code",
   "execution_count": 87,
   "id": "08e16b29",
   "metadata": {},
   "outputs": [
    {
     "name": "stdout",
     "output_type": "stream",
     "text": [
      "3\n"
     ]
    }
   ],
   "source": [
    "# 검색 기능: index()\n",
    "a= [1,2,3,4,5]\n",
    "\n",
    "print(a.index(4))  #특정 값의 위치 인덱스 검색. 4의 위치가 3이다."
   ]
  },
  {
   "cell_type": "markdown",
   "id": "3efde57c",
   "metadata": {},
   "source": [
    "### 2) tuple\n",
    "- \"( )\" 사용\n",
    "- immutable"
   ]
  },
  {
   "cell_type": "code",
   "execution_count": 90,
   "id": "3ed6a522",
   "metadata": {},
   "outputs": [
    {
     "name": "stdout",
     "output_type": "stream",
     "text": [
      "(1, 2, 3, 4, 5)\n",
      "<class 'tuple'>\n",
      "[1, 7, 3, 4, 5]\n",
      "(1, 7, 3, 4, 5)\n"
     ]
    }
   ],
   "source": [
    "# immutable\n",
    "a= (1,2,3,4,5)\n",
    "print(a)\n",
    "print(type(a))\n",
    "\n",
    "b= list(a)\n",
    "b[1]= 7\n",
    "print(b)\n",
    "\n",
    "c= tuple(b)\n",
    "print(c)\n",
    "\n",
    "# 변수는 여러개 만들어도 상관없음. 데이터가 메모리 차지.\n",
    "# 변경하고싶을 때는 리스트로 변환"
   ]
  },
  {
   "cell_type": "code",
   "execution_count": 94,
   "id": "d11eae06",
   "metadata": {},
   "outputs": [
    {
     "name": "stdout",
     "output_type": "stream",
     "text": [
      "<class 'tuple'>\n",
      "10 20 30\n"
     ]
    }
   ],
   "source": [
    "# Packing & Unpaking  튜플에만 존재\n",
    "\n",
    "a= 10,20,30       #packing\n",
    "print(type(a))\n",
    "\n",
    "a1, a2, a3= a      #unpacking\n",
    "print(a1,a2,a3)"
   ]
  },
  {
   "cell_type": "markdown",
   "id": "761722f8",
   "metadata": {},
   "source": [
    "### 3) dict  json과 동일\n",
    "- 순서가 없다.= index 사용불가\n",
    "- 키(key)를 이용해서 접근\n",
    "- { 키:값 }. 데이터 검색의 용도"
   ]
  },
  {
   "cell_type": "code",
   "execution_count": 96,
   "id": "a27e2203",
   "metadata": {},
   "outputs": [
    {
     "name": "stdout",
     "output_type": "stream",
     "text": [
      "<class 'dict'>\n"
     ]
    }
   ],
   "source": [
    "a= {'name':'홍길동', 'tel':'111-111', 'age':'20'}\n",
    "print(type(a))"
   ]
  },
  {
   "cell_type": "code",
   "execution_count": 98,
   "id": "ea7dc4b1",
   "metadata": {},
   "outputs": [
    {
     "name": "stdout",
     "output_type": "stream",
     "text": [
      "홍길동\n"
     ]
    }
   ],
   "source": [
    "print(a['name'])"
   ]
  },
  {
   "cell_type": "code",
   "execution_count": 101,
   "id": "229491a0",
   "metadata": {},
   "outputs": [
    {
     "name": "stdout",
     "output_type": "stream",
     "text": [
      "dict_keys(['name', 'tel', 'age'])\n",
      "dict_values(['홍길동', '111-111', '20'])\n",
      "dict_items([('name', '홍길동'), ('tel', '111-111'), ('age', '20')])\n"
     ]
    }
   ],
   "source": [
    "print(a.keys())   # 키만 리스트로\n",
    "print(a.values()) # 값만 리스트로\n",
    "print(a.items()) # 키와 값을 묶은 튜플을 리스트로"
   ]
  },
  {
   "cell_type": "code",
   "execution_count": 102,
   "id": "d42fb371",
   "metadata": {},
   "outputs": [
    {
     "name": "stdout",
     "output_type": "stream",
     "text": [
      "{'name': '뉴진스', 'tel': '111-111', 'age': '20'}\n"
     ]
    }
   ],
   "source": [
    "# 수정\n",
    "a['name']= '뉴진스'\n",
    "print(a)"
   ]
  },
  {
   "cell_type": "code",
   "execution_count": 104,
   "id": "84be89a9",
   "metadata": {},
   "outputs": [
    {
     "name": "stdout",
     "output_type": "stream",
     "text": [
      "{'name': '뉴진스', 'tel': '111-111', 'age': '20', 'song': ['하입보이', '쿠키']}\n"
     ]
    }
   ],
   "source": [
    "# 추가\n",
    "a['song']= ['하입보이','쿠키']\n",
    "print(a)"
   ]
  },
  {
   "cell_type": "code",
   "execution_count": 105,
   "id": "74e3be28",
   "metadata": {},
   "outputs": [
    {
     "name": "stdout",
     "output_type": "stream",
     "text": [
      "{'name': '뉴진스', 'age': '20', 'song': ['하입보이', '쿠키']}\n"
     ]
    }
   ],
   "source": [
    "# 삭제\n",
    "del a['tel']\n",
    "print(a)\n",
    "\n",
    "clear(a) # 전체 삭제"
   ]
  },
  {
   "cell_type": "code",
   "execution_count": 109,
   "id": "7bf60859",
   "metadata": {},
   "outputs": [
    {
     "name": "stdout",
     "output_type": "stream",
     "text": [
      "뉴진스\n",
      "독서\n"
     ]
    }
   ],
   "source": [
    "# 데이터 가져오기\n",
    "\n",
    "print(a['name'])\n",
    "print(a.get('hobby','독서')) # 가져오려는 키가 없을 때 default를 지정할 수 있다."
   ]
  },
  {
   "cell_type": "markdown",
   "id": "f437870d",
   "metadata": {},
   "source": [
    "### 4) set\n",
    "- \"{ }\" 사용\n",
    "- 순서가 없다. index 불가\n",
    "- 중복 불가. filtering"
   ]
  },
  {
   "cell_type": "code",
   "execution_count": 111,
   "id": "6ebedbf7",
   "metadata": {},
   "outputs": [
    {
     "name": "stdout",
     "output_type": "stream",
     "text": [
      "{1, 2, 3, 4, 5}\n",
      "<class 'set'>\n"
     ]
    }
   ],
   "source": [
    "a= {1,3,5,2,4,3,1}\n",
    "print(a)\n",
    "print(type(a))"
   ]
  },
  {
   "cell_type": "code",
   "execution_count": 112,
   "id": "33913926",
   "metadata": {},
   "outputs": [
    {
     "name": "stdout",
     "output_type": "stream",
     "text": [
      "1\n"
     ]
    }
   ],
   "source": [
    "b= list(a)  # 인덱스 쓰려면 리스트로 변경\n",
    "print(b[0])"
   ]
  },
  {
   "cell_type": "code",
   "execution_count": 114,
   "id": "44916674",
   "metadata": {},
   "outputs": [
    {
     "name": "stdout",
     "output_type": "stream",
     "text": [
      "[1, 2, 3, 2, 4, 1]\n",
      "[1, 2, 3, 4]\n"
     ]
    }
   ],
   "source": [
    "a= [1,2,3,2,4,1]  # 중복인 리스트를 set으로 변경하여 중복 제거\n",
    "print(a)\n",
    "b= set(a)\n",
    "a= list(b)\n",
    "print(a)"
   ]
  },
  {
   "cell_type": "markdown",
   "id": "0a5b122a",
   "metadata": {},
   "source": [
    "## 4. 연산자\n",
    "### 1) 치환(할당) 연산자 p.51\n",
    "- 복합 치환 연산자: +=, -=, *=, /="
   ]
  },
  {
   "cell_type": "code",
   "execution_count": 5,
   "id": "f67ca203",
   "metadata": {},
   "outputs": [
    {
     "name": "stdout",
     "output_type": "stream",
     "text": [
      "15\n"
     ]
    }
   ],
   "source": [
    "a= 10\n",
    "a += 3\n",
    "a += 2\n",
    "print(a)"
   ]
  },
  {
   "cell_type": "markdown",
   "id": "bd8eec90",
   "metadata": {},
   "source": [
    "### 2) 검색 연산자: in\n"
   ]
  },
  {
   "cell_type": "code",
   "execution_count": 6,
   "id": "cd661746",
   "metadata": {},
   "outputs": [
    {
     "name": "stdout",
     "output_type": "stream",
     "text": [
      "3\n",
      "True\n",
      "True\n"
     ]
    }
   ],
   "source": [
    "a=[1,2,3,4,5]\n",
    "\n",
    "print(a.index(4))   # 4의 위치 인덱스 반환\n",
    "print(4 in a)    # a에 4가 있는지\n",
    "print(7 not in a)"
   ]
  },
  {
   "cell_type": "code",
   "execution_count": null,
   "id": "f8af4dd1",
   "metadata": {},
   "outputs": [],
   "source": []
  }
 ],
 "metadata": {
  "kernelspec": {
   "display_name": "Python 3 (ipykernel)",
   "language": "python",
   "name": "python3"
  },
  "language_info": {
   "codemirror_mode": {
    "name": "ipython",
    "version": 3
   },
   "file_extension": ".py",
   "mimetype": "text/x-python",
   "name": "python",
   "nbconvert_exporter": "python",
   "pygments_lexer": "ipython3",
   "version": "3.9.13"
  }
 },
 "nbformat": 4,
 "nbformat_minor": 5
}
