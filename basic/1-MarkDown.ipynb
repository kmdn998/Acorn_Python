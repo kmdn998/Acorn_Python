{
 "cells": [
  {
   "cell_type": "markdown",
   "id": "dba39f6e",
   "metadata": {},
   "source": [
    "# 글자 크기\n",
    "## 글자 크기\n",
    "### 글자 크기\n",
    "#### 기본 글자 크기 두껍게\n",
    "##### 글자 크기\n",
    "\n",
    "<h1> 글자 크기 </h1>\n",
    "\n",
    "#은 제목을 표시할 때 사용한다. 또는 아래와 같이 작성할 수도 있다. \n",
    "\n",
    "글자 크기 (=##)\n",
    "---\n",
    "\n",
    "글자 크기 (=#)\n",
    "==="
   ]
  },
  {
   "cell_type": "markdown",
   "id": "57d65e70",
   "metadata": {},
   "source": [
    "---\n",
    "\n",
    "# 들여쓰기\n",
    "\n",
    "> 첫번째 들여쓰기\n",
    ">> 첫번째 들여쓰기의 들여쓰기\n",
    "\n",
    "> 두번째 들여쓰기\n"
   ]
  },
  {
   "cell_type": "markdown",
   "id": "80523406",
   "metadata": {},
   "source": [
    "---\n",
    "\n",
    "# 리스트\n",
    "\n",
    "### 순서 있는 리스트\n",
    "1. 사과\n",
    "2. 배\n",
    "3. 포도\n",
    "\n",
    "### 순서 없는 리스트\n",
    "+ 빨강\n",
    "- 파랑\n",
    "* 노랑\n",
    "\n",
    "\n",
    "\n",
    "\n",
    "- 서울\n",
    "    - 강남\n",
    "    - 잠실\n",
    "- 경기"
   ]
  },
  {
   "cell_type": "markdown",
   "id": "9f5e12f2",
   "metadata": {},
   "source": [
    "---\n",
    "\n",
    "# 링크\n",
    "\n",
    "[네이버](www.naver.com)(붙여쓰기)"
   ]
  },
  {
   "cell_type": "markdown",
   "id": "18c644f7",
   "metadata": {},
   "source": [
    "---\n",
    "\n",
    "# 글자 모양\n",
    "\n",
    "이것은 *이텔릭체* 입니다. \n",
    "\n",
    "이것은 **볼드체** 입니다.\n",
    "\n",
    "이것은 ~취소선~ 입니다.\n",
    "\n"
   ]
  },
  {
   "cell_type": "markdown",
   "id": "98bd47af",
   "metadata": {},
   "source": [
    "---\n",
    "\n",
    "# 이미지 불러오기\n",
    "\n",
    ".ipynb 파일이 있는 곳 기준으로 경로 작성 (상대경로)\n",
    "![이미지가 없을 경우 나타나는 텍스트](image/윙크.png)\n",
    "\n",
    "이미지의 주소로 불러오기\n",
    "![구글 이미지](https://www.google.com/images/branding/googlelogo/1x/googlelogo_color_272x92dp.png)\n",
    "\n"
   ]
  },
  {
   "cell_type": "code",
   "execution_count": null,
   "id": "ab45b507",
   "metadata": {},
   "outputs": [],
   "source": []
  }
 ],
 "metadata": {
  "kernelspec": {
   "display_name": "Python 3 (ipykernel)",
   "language": "python",
   "name": "python3"
  },
  "language_info": {
   "codemirror_mode": {
    "name": "ipython",
    "version": 3
   },
   "file_extension": ".py",
   "mimetype": "text/x-python",
   "name": "python",
   "nbconvert_exporter": "python",
   "pygments_lexer": "ipython3",
   "version": "3.9.13"
  }
 },
 "nbformat": 4,
 "nbformat_minor": 5
}
