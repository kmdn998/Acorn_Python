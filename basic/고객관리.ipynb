{
 "cells": [
  {
   "cell_type": "code",
   "execution_count": null,
   "id": "e4a12aef",
   "metadata": {},
   "outputs": [],
   "source": [
    "#고객관리 프로그램을 파일처리, 함수화, 클래스로.\n",
    "# 이름, 전화번호, 주소를 저장\n",
    "# 친구관리 클래스로\n",
    "# 파일로 저장 2/24\n",
    "# DB로 저장 sqlite3, mariadb 여러 디비로 연결가능하게"
   ]
  },
  {
   "cell_type": "code",
   "execution_count": 100,
   "id": "c8a36aa0",
   "metadata": {},
   "outputs": [],
   "source": [
    "## 이렇게 다 따로 파일에 저장할 필요가 없었다....\n",
    "## 최종 결과만 파일에 저장하면 됨....\n",
    "## 아니다. 파일을 불러와서 수정하려면 이렇게 써야함\n",
    "## 아니. 파일을 불러와서 리스트에 넣으면 될듯..?\n",
    "\n",
    "class Manage:\n",
    "    \n",
    "    def __init__(self):\n",
    "        self.nlist=[]\n",
    "#         print('1. 친구 리스트 출력 = show()')\n",
    "#         print('2. 친구 추가 = append(name)')\n",
    "#         print('3. 친구 삭제 = remove(name)')\n",
    "#         print('4. 이름 변경 = change(oldname, newname)')\n",
    "#         print('9. 종료 = finish()')\n",
    "\n",
    "    def show(self):\n",
    "        file= open('data/고객관리.txt','r',encoding='utf8')\n",
    "        for i in file.readlines():\n",
    "            print(i)\n",
    "        file.close()\n",
    "        \n",
    "    def append(self, name,phone,add):\n",
    "        file= open('data/고객관리.txt','a',encoding='utf8')\n",
    "        file.write(f'{name},{phone},{add}\\n')  #self.name?\n",
    "        file.close()\n",
    "        \n",
    "    def delete(self, name):\n",
    "        file= open('data/고객관리.txt','r',encoding='utf8')\n",
    "        lines=file.readlines()\n",
    "        file.close()\n",
    "        \n",
    "        newfile= open('data/고객관리.txt','w',encoding='utf8')\n",
    "        for i in range(len(lines)):\n",
    "            f=lines[i].find(name)\n",
    "            if f == -1:\n",
    "                newfile.write(lines[i])\n",
    "        self.show()\n",
    "        # 기존 파일을 한 문장씩 돌리면서 같은 이름이 있는지 확인\n",
    "        # 같은 이름이 없으면 리스트에 저장 후\n",
    "        # 기존 파일에 덮어쓰기\n",
    "    def change(self, oldname, newname, phone, add):\n",
    "        file= open('data/고객관리.txt','r',encoding='utf8')\n",
    "        lines=file.readlines()\n",
    "        file.close()\n",
    "        \n",
    "        newfile= open('data/고객관리.txt','w',encoding='utf8')\n",
    "        for i in range(len(lines)):\n",
    "            f=lines[i].find(oldname)\n",
    "            if f == -1:\n",
    "                newfile.write(lines[i])\n",
    "            else:\n",
    "                newfile.write(f'{newname},{phone},{add}\\n')\n",
    "                \n",
    "    def finish(self):\n",
    "        self.show()\n",
    "        \n",
    "NewJeans= Manage()\n",
    "NewJeans.append('이름',ph,50)\n",
    "NewJeans.change('55','나나','33','22')\n",
    "NewJeans.show()"
   ]
  },
  {
   "cell_type": "code",
   "execution_count": null,
   "id": "00db373d",
   "metadata": {},
   "outputs": [],
   "source": [
    "f = open(\"data/customer.txt\",'w')\n",
    "friend=[]\n",
    "while True:\n",
    "    print(\"1.친구리스트 출력\")\n",
    "    print(\"2.친구 추가\")\n",
    "    print(\"3.전화번호 추가\")\n",
    "    print(\"4.주소 추가\")\n",
    "    print(\"5.친구 삭제\")\n",
    "    print(\"6.이름 변경\")\n",
    "    print(\"9.종료 메뉴를 선택\")\n",
    "    menu=int(input(\"메뉴를 선택: \"))\n",
    "    \n",
    "    if menu == 1:\n",
    "        print(friend)\n",
    "    elif menu == 2:\n",
    "        name=input(\"이름 입력: \")\n",
    "        friend.append(name)\n",
    "    elif menu == 3:\n",
    "        tel=input(\"전화번호 입력: \")\n",
    "        friend.append(tel)\n",
    "    elif menu == 4:\n",
    "        addr=input(\"주소 입력: \")\n",
    "        friend.append(addr)\n",
    "    elif menu == 5:\n",
    "        name=input(\"이름 입력: \")\n",
    "        friend.remove(name)\n",
    "    elif menu == 6:\n",
    "        rename = input(\"변경할 이름: \")\n",
    "        if rename in friend:\n",
    "            friend[index]=rename\n",
    "    else:\n",
    "        print(\"프로그램종료\")\n",
    "        break\n",
    "f.write(str(friend))   \n",
    "f.close()\n"
   ]
  },
  {
   "cell_type": "code",
   "execution_count": 5,
   "id": "064e3fdb",
   "metadata": {},
   "outputs": [],
   "source": [
    "import pymysql\n",
    "\n",
    "class Manage:\n",
    "    def __init__(self, table):\n",
    "        # file = open('고객관리v2.txt', 'r', encoding='utf8')\n",
    "        # self.clist= [i.replace('\\n', '') for i in file.readlines()]\n",
    "        # file.close()\n",
    "\n",
    "        config = {'host': '127.0.0.1', 'user': 'root', 'password': '1111', 'database': 'testdb'}\n",
    "        self.conn = pymysql.connect(**config)\n",
    "        self.cur= self.conn.cursor()    #어떤걸 self 붙여야 하는지? 클래스 내 다른 함수에서도 쓸때?\n",
    "        self.table= table\n",
    "        self.cur.execute(f'create table if not exists {self.table}(id int, name varchar(10))')\n",
    "        self.conn.commit()\n",
    "\n",
    "n=Manage('tavle2')"
   ]
  },
  {
   "cell_type": "code",
   "execution_count": 6,
   "id": "fa3e80f6",
   "metadata": {},
   "outputs": [
    {
     "name": "stdout",
     "output_type": "stream",
     "text": [
      "3\n",
      "<class 'str'>\n"
     ]
    }
   ],
   "source": [
    "a=input()\n",
    "\n",
    "print(type(a))"
   ]
  },
  {
   "cell_type": "code",
   "execution_count": null,
   "id": "de7be80a",
   "metadata": {},
   "outputs": [],
   "source": []
  }
 ],
 "metadata": {
  "kernelspec": {
   "display_name": "Python 3 (ipykernel)",
   "language": "python",
   "name": "python3"
  },
  "language_info": {
   "codemirror_mode": {
    "name": "ipython",
    "version": 3
   },
   "file_extension": ".py",
   "mimetype": "text/x-python",
   "name": "python",
   "nbconvert_exporter": "python",
   "pygments_lexer": "ipython3",
   "version": "3.9.13"
  }
 },
 "nbformat": 4,
 "nbformat_minor": 5
}
