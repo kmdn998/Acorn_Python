{
 "cells": [
  {
   "cell_type": "markdown",
   "id": "97f20cee",
   "metadata": {},
   "source": [
    "문자열을 검색하는 기능\n",
    "- Regular Expression\n",
    "- 특정한 패턴과 일치하는 문자열을 함수를 이용해 '검색', '치환', '제거' 하는 기능을 지원\n",
    "- https://docs.python.org/3/library/re.html\n",
    "- 크롤링 할때 유용"
   ]
  },
  {
   "cell_type": "markdown",
   "id": "3de12330",
   "metadata": {},
   "source": [
    "## 1. 특수 문자들\n",
    "### (1) 반복\n",
    "    * : 0번 이상 반복\n",
    "        ab* = a, ab, abb, ...\n",
    "        ao*a = aa, aoa, aooa, ...\n",
    "        \n",
    "    + : 1번 이상 반복\n",
    "        ab+ = ab, abb, abbb, ...\n",
    "        \n",
    "    ? : 0번 또는 1번 반복\n",
    "        ab? = a, ab\n",
    "        \n",
    "    {m} : m회 반복\n",
    "        a{3}bc = aaabc\n",
    "        \n",
    "    {m,n}: m회부터 n회까지 반복\n",
    "        a{2,4}bc = aabc, aaabc, aaaabc"
   ]
  },
  {
   "cell_type": "markdown",
   "id": "16e7b841",
   "metadata": {},
   "source": [
    "## (2) 매칭\n",
    "    . : 줄바꿈문자(\\n)을 제외한 모든 문자와 매치\n",
    "        a.b= aab, abb, acb,..\n",
    "        \n",
    "    ^ : 문자열의 시작과 매치\n",
    "        ^abc, ^(ab)\n",
    "        \n",
    "    $ : 문자열의 마지막과 매치\n",
    "        ...a$\n",
    "        \n",
    "    [ ] : 문자 집합 중 한 문자와 매치\n",
    "        [abc]xyz= axyz, bxyz, cxyz\n",
    "        [a-z]bc= abc, bbc, cbc, ..., zbc\n",
    "        a[.]b= a.b\n",
    "        [abc.^]z= az, bz, cz, .z, ^z\n",
    "        [^abc]z= dz,ez,fz, ...\n",
    "            ^ 가 맨앞이면 NOT"
   ]
  },
  {
   "cell_type": "markdown",
   "id": "683296dc",
   "metadata": {},
   "source": [
    "### (3) 특수문자(\\문자)\n",
    "    \\d: 모든 숫자와 매치\n",
    "        ab\\d\\dc: ab00c, ab10c, ...\n",
    "        \n",
    "    \\D: 숫자가 아닌 모든 문자와 매치\n",
    "    \n",
    "    \\s:공백문자와 매치\n",
    "    \n",
    "    \\S: 공백문자를 제외한 모든 문자와 매치\n",
    "    \n",
    "    \\w: 숫자와 문자\n",
    "    \n",
    "    \\W: 숫자 또는 문자가 아닌 모든 문자와 매치\n",
    "    \n",
    "    \n",
    "    "
   ]
  },
  {
   "cell_type": "markdown",
   "id": "1fa04b8f",
   "metadata": {},
   "source": [
    "### (4) 파이썬에서 제공하는 정규표현식 API\n",
    "    compile()\n",
    "    match()\n",
    "    search()\n",
    "    findall()\n",
    "    finditer()\n",
    "    split()\n",
    "    sub()\n",
    "    ..."
   ]
  },
  {
   "cell_type": "markdown",
   "id": "d94a93e9",
   "metadata": {},
   "source": [
    "### (5) 실습"
   ]
  },
  {
   "cell_type": "code",
   "execution_count": 1,
   "id": "0f43a05c",
   "metadata": {},
   "outputs": [],
   "source": [
    "a='1,2,3,4,5'"
   ]
  },
  {
   "cell_type": "code",
   "execution_count": 2,
   "id": "6fbdac9e",
   "metadata": {},
   "outputs": [
    {
     "name": "stdout",
     "output_type": "stream",
     "text": [
      "12345\n",
      "12345\n",
      "12345"
     ]
    }
   ],
   "source": [
    "# 12345 호출\n",
    "print(a.replace(',',''))      #,를 공백으로 대체\n",
    "print(a[::2])        # 전체를 2간격으로 \n",
    "\n",
    "for i in a:\n",
    "    if i!=',':\n",
    "        print(i,end='')"
   ]
  },
  {
   "cell_type": "code",
   "execution_count": 3,
   "id": "3c355459",
   "metadata": {},
   "outputs": [
    {
     "data": {
      "text/plain": [
       "'1,2,3,4,5'"
      ]
     },
     "execution_count": 3,
     "metadata": {},
     "output_type": "execute_result"
    }
   ],
   "source": [
    "a"
   ]
  },
  {
   "cell_type": "code",
   "execution_count": 4,
   "id": "0b13f505",
   "metadata": {},
   "outputs": [
    {
     "data": {
      "text/plain": [
       "'12345'"
      ]
     },
     "execution_count": 4,
     "metadata": {},
     "output_type": "execute_result"
    }
   ],
   "source": [
    "import re\n",
    "\n",
    "# pattern= re.compile('\\D')      #패턴 만들기\n",
    "pattern= re.compile('[^0-9]')\n",
    "\n",
    "re.sub(pattern, '',a)      #sub: replace와 비슷. a에서 pattern을 ''으로 대체"
   ]
  },
  {
   "cell_type": "code",
   "execution_count": 5,
   "id": "f03357c2",
   "metadata": {},
   "outputs": [],
   "source": [
    "b='''\n",
    " 박: 1, park,\n",
    " 김: 2, kim,\n",
    " 이: 3, lee\n",
    " '''"
   ]
  },
  {
   "cell_type": "code",
   "execution_count": 6,
   "id": "5d463ac0",
   "metadata": {},
   "outputs": [
    {
     "name": "stdout",
     "output_type": "stream",
     "text": [
      "[['박', ' 1, park,'], [' 김', ' 2, kim,'], [' 이', ' 3, lee']]\n",
      "박\n",
      " 김\n",
      " 이\n"
     ]
    },
    {
     "data": {
      "text/plain": [
       "['박', '김', '이']"
      ]
     },
     "execution_count": 6,
     "metadata": {},
     "output_type": "execute_result"
    }
   ],
   "source": [
    "# 박,김,이만 뽑아내기\n",
    "b1= b.strip()     #앞뒤 공백 제거\n",
    "b2= b1.split('\\n')   #문자열을 분리\n",
    "\n",
    "b3= [i.split(':') for i in b2]\n",
    "print(b3)\n",
    "for i in b3:\n",
    "    print(i[0])\n",
    "    \n",
    "##############################\n",
    "\n",
    "pattern= re.compile('[가-힣]')   # 모든 한글\n",
    "re.findall(pattern, b)"
   ]
  },
  {
   "cell_type": "markdown",
   "id": "41b5714d",
   "metadata": {},
   "source": [
    "### (6) API 사용법\n",
    "    객체를 생성(재사용) 또는 함수를 직접 호출\n",
    "#### 1) match(), search()\n",
    "    match는 첫부분에 pattern이 있는지\n",
    "    search는 전체에 pattern이 있는지"
   ]
  },
  {
   "cell_type": "code",
   "execution_count": 7,
   "id": "2762f9eb",
   "metadata": {},
   "outputs": [],
   "source": [
    "import re"
   ]
  },
  {
   "cell_type": "code",
   "execution_count": 8,
   "id": "73730483",
   "metadata": {},
   "outputs": [
    {
     "data": {
      "text/plain": [
       "<re.Match object; span=(0, 41), match='3 aljdlfkjls a;nma;vlwker 2oijrq ;jarlnvm'>"
      ]
     },
     "execution_count": 8,
     "metadata": {},
     "output_type": "execute_result"
    }
   ],
   "source": [
    "# 객체 생성\n",
    "p= re.compile('[0-9] [a-z]+ .+')\n",
    "data= '3 aljdlfkjls a;nma;vlwker 2oijrq ;jarlnvm'\n",
    "p.match(data)\n",
    "p.search(data)"
   ]
  },
  {
   "cell_type": "code",
   "execution_count": 9,
   "id": "b1dd9ddc",
   "metadata": {},
   "outputs": [
    {
     "data": {
      "text/plain": [
       "<re.Match object; span=(0, 41), match='3 aljdlfkjls a;nma;vlwker 2oijrq ;jarlnvm'>"
      ]
     },
     "execution_count": 9,
     "metadata": {},
     "output_type": "execute_result"
    }
   ],
   "source": [
    "# 함수를 바로 호출\n",
    "re.match('[0-9] [a-z]+ .+',data)"
   ]
  },
  {
   "cell_type": "code",
   "execution_count": 10,
   "id": "88d35605",
   "metadata": {},
   "outputs": [
    {
     "name": "stdout",
     "output_type": "stream",
     "text": [
      "010-111-111\n",
      "(25, 36)\n"
     ]
    }
   ],
   "source": [
    "data= '안녕하세요. 내 나이는 20살이고 전화번호는 010-111-111입니다.'\n",
    "result= re.search('010-[0-9]{3,4}-\\d{3}',data)\n",
    "print(result.group())\n",
    "print(result.span())"
   ]
  },
  {
   "cell_type": "markdown",
   "id": "d66acee5",
   "metadata": {},
   "source": [
    "#### (2) findall(), finditer()"
   ]
  },
  {
   "cell_type": "code",
   "execution_count": 11,
   "id": "59d14e88",
   "metadata": {},
   "outputs": [
    {
     "name": "stdout",
     "output_type": "stream",
     "text": [
      "['life', 'is', 'too', 'short']\n",
      "<callable_iterator object at 0x000001D57934C3D0>\n"
     ]
    }
   ],
   "source": [
    "data= 'life 333 is 222 666 too 10 short'\n",
    "p=re.compile('[a-z]+')\n",
    "print(p.findall(data))         #리스트로 반환\n",
    "print(p.finditer(data))        #반복 가능한 객체로 반환. 정보와 위치 알 수 있음"
   ]
  },
  {
   "cell_type": "code",
   "execution_count": 12,
   "id": "202f2768",
   "metadata": {
    "scrolled": true
   },
   "outputs": [
    {
     "name": "stdout",
     "output_type": "stream",
     "text": [
      "['abc', 'mbc']\n",
      "['abc', 'air', 'air']\n",
      "['air']\n",
      "['1234']\n",
      "['1234']\n",
      "['', '234 abc가나다ABC_555_6 mbc air air', '']\n"
     ]
    }
   ],
   "source": [
    "data= '1234 abc가나다ABC_555_6 mbc air air'\n",
    "\n",
    "#bc로 끝나는 3글자\n",
    "print(re.findall('\\Dbc',data))\n",
    "#a로 시작하는 3글자\n",
    "print(re.findall('a\\D{2}',data))\n",
    "#가장 마지막에 air로 끝나는 문자열\n",
    "print(re.findall('air$',data))\n",
    "#가장 처음에 1로 시작하는 숫자\n",
    "print(re.findall('^1\\d+',data))\n",
    "print(re.findall('1\\d+',data))\n",
    "#1을 뺀 모든 데이터\n",
    "print(re.findall('[^1]*',data))"
   ]
  },
  {
   "cell_type": "code",
   "execution_count": 13,
   "id": "23d5cfb9",
   "metadata": {},
   "outputs": [
    {
     "data": {
      "text/plain": [
       "['s', ' ', '-', ' ', '=']"
      ]
     },
     "execution_count": 13,
     "metadata": {},
     "output_type": "execute_result"
    }
   ],
   "source": [
    "#숫자가 아닌 문자= 글자, 공백, 기호\n",
    "re.findall('\\D','s - =')"
   ]
  },
  {
   "cell_type": "markdown",
   "id": "3470b382",
   "metadata": {},
   "source": [
    "#### 3) split()\n",
    "문자열의 split과 기능은 같지만 정규표현식 적용 가능 차이"
   ]
  },
  {
   "cell_type": "code",
   "execution_count": 14,
   "id": "29cec81b",
   "metadata": {},
   "outputs": [
    {
     "name": "stdout",
     "output_type": "stream",
     "text": [
      "['mbc', 'sbs.tvn', '', '', '', '', '', '', '', 'netflix']\n",
      "['mbc;sbs', 'tvn        netflix']\n",
      "['mbc', 'sbs', 'tvn', '', '', '', '', '', '', '', 'netflix']\n"
     ]
    },
    {
     "data": {
      "text/plain": [
       "'mbc,sbs,tvn,netflix'"
      ]
     },
     "execution_count": 14,
     "metadata": {},
     "output_type": "execute_result"
    }
   ],
   "source": [
    "sample= 'mbc;sbs.tvn        netflix'\n",
    "\n",
    "print(re.split(',| |;',sample))      # | : or\n",
    "print(re.split('[.]',sample))\n",
    "print(re.split('\\W',sample))\n",
    "re.sub('\\W+',',',sample)"
   ]
  },
  {
   "cell_type": "markdown",
   "id": "73191305",
   "metadata": {},
   "source": [
    "#### 4) sub(패턴, 바꿀 것, 데이터): 교체, 변경"
   ]
  },
  {
   "cell_type": "code",
   "execution_count": 15,
   "id": "cd532182",
   "metadata": {},
   "outputs": [
    {
     "data": {
      "text/plain": [
       "'888 abc가나다ABC_888_888'"
      ]
     },
     "execution_count": 15,
     "metadata": {},
     "output_type": "execute_result"
    }
   ],
   "source": [
    "sample='1234 abc가나다ABC_555_6'\n",
    "# 숫자를 8로\n",
    "re.sub('\\d','8',sample)\n",
    "re.sub('\\d+', '888', sample)\n"
   ]
  },
  {
   "cell_type": "markdown",
   "id": "8fe1125c",
   "metadata": {},
   "source": [
    "### (7) Flags(컴파일 옵션)\n",
    "- S(DOTALL): .에서 \\n까지 포함되도록\n",
    "- I(IGNORECASE): 대소문자 무시\n",
    "- M(MULTILINE): 여러줄 문자열에서 각 줄마다 ^,$가 적용되도록"
   ]
  },
  {
   "cell_type": "code",
   "execution_count": 16,
   "id": "f31bb7e2",
   "metadata": {},
   "outputs": [
    {
     "name": "stdout",
     "output_type": "stream",
     "text": [
      "None\n",
      "<re.Match object; span=(0, 3), match='a\\nb'>\n"
     ]
    }
   ],
   "source": [
    "p1= re.compile('a.b')\n",
    "p2= re.compile('a.b',re.S)\n",
    "print(p1.match('a\\nb is ~~~'))\n",
    "print(p2.match('a\\nb is ~~~'))"
   ]
  },
  {
   "cell_type": "code",
   "execution_count": 17,
   "id": "d4a054b0",
   "metadata": {},
   "outputs": [
    {
     "name": "stdout",
     "output_type": "stream",
     "text": [
      "['hi']\n",
      "['hi', 'HI']\n"
     ]
    }
   ],
   "source": [
    "p1= re.compile('[a-z]+')\n",
    "p2= re.compile('[a-z]+', re.I)\n",
    "#p2= re.compile('[a-zA-Z]')\n",
    "print(p1.findall('hi HI'))\n",
    "print(p2.findall('hi HI'))"
   ]
  },
  {
   "cell_type": "code",
   "execution_count": 18,
   "id": "b9158b1e",
   "metadata": {},
   "outputs": [
    {
     "name": "stdout",
     "output_type": "stream",
     "text": [
      "['py one']\n",
      "['py one', 'py two', 'py three']\n"
     ]
    }
   ],
   "source": [
    "data='''py one\n",
    "life is short\n",
    "py two\n",
    "you need py\n",
    "py three\n",
    "other py four'''\n",
    "print(re.findall('^py [a-z]+',data))\n",
    "print(re.findall('^py [a-z]+',data, re.M))\n",
    "# print(p1.findall(p1,data))\n",
    "# print(p2.findall('hi HI'))"
   ]
  },
  {
   "cell_type": "code",
   "execution_count": 19,
   "id": "b9c820a0",
   "metadata": {},
   "outputs": [
    {
     "name": "stdout",
     "output_type": "stream",
     "text": [
      "흑석\n"
     ]
    }
   ],
   "source": [
    "import re\n",
    "\n",
    "a=['흑석(중앙)']\n",
    "\n",
    "for i in a:\n",
    "    print(re.findall('[가-힣]+',i)[0])"
   ]
  },
  {
   "cell_type": "code",
   "execution_count": 20,
   "id": "9f820a44",
   "metadata": {},
   "outputs": [
    {
     "data": {
      "text/plain": [
       "[1, 5]"
      ]
     },
     "execution_count": 20,
     "metadata": {},
     "output_type": "execute_result"
    }
   ],
   "source": [
    "a=[1,2,3,4,5]\n",
    "b=[2,3,4]\n",
    "\n",
    "for i in b:\n",
    "    if i in a:\n",
    "        a.remove(i)\n",
    "        \n",
    "a"
   ]
  },
  {
   "cell_type": "code",
   "execution_count": 22,
   "id": "76e8bc70",
   "metadata": {},
   "outputs": [],
   "source": [
    "ex= ''' Jessica is 15 years old, and Daniel is 27 years old. Edward is 97, and his grandfather, Oscar , is 102.'''"
   ]
  },
  {
   "cell_type": "code",
   "execution_count": 32,
   "id": "249c272f",
   "metadata": {
    "scrolled": true
   },
   "outputs": [
    {
     "data": {
      "text/plain": [
       "['Jessica ', 'Daniel ', 'Edward ', 'Oscar ']"
      ]
     },
     "execution_count": 32,
     "metadata": {},
     "output_type": "execute_result"
    }
   ],
   "source": [
    "name= re.findall('[A-Z]\\S+ ', ex)\n",
    "name"
   ]
  },
  {
   "cell_type": "code",
   "execution_count": 34,
   "id": "18daeaad",
   "metadata": {},
   "outputs": [
    {
     "data": {
      "text/plain": [
       "['15', '27', '97', '102']"
      ]
     },
     "execution_count": 34,
     "metadata": {},
     "output_type": "execute_result"
    }
   ],
   "source": [
    "age= re.findall('[0-9]+', ex)\n",
    "age"
   ]
  },
  {
   "cell_type": "code",
   "execution_count": 36,
   "id": "315d4920",
   "metadata": {},
   "outputs": [
    {
     "data": {
      "text/plain": [
       "{0: 15     Jessica \n",
       " 27      Daniel \n",
       " 97      Edward \n",
       " 102      Oscar \n",
       " Name: 0, dtype: object}"
      ]
     },
     "execution_count": 36,
     "metadata": {},
     "output_type": "execute_result"
    }
   ],
   "source": [
    "import pandas as pd\n",
    "\n",
    "for i in range(len(name)):\n",
    "    name[i], age[i]"
   ]
  },
  {
   "cell_type": "code",
   "execution_count": 49,
   "id": "8ad9aa29",
   "metadata": {},
   "outputs": [
    {
     "data": {
      "text/plain": [
       "{'Jessica ': '15', 'Daniel ': '27', 'Edward ': '97', 'Oscar ': '102'}"
      ]
     },
     "execution_count": 49,
     "metadata": {},
     "output_type": "execute_result"
    }
   ],
   "source": [
    "dd= [ (name[i], age[i]) for i in range(len(name))]\n",
    "ddd= dict(dd)\n",
    "ddd"
   ]
  },
  {
   "cell_type": "code",
   "execution_count": 48,
   "id": "967c3e9d",
   "metadata": {},
   "outputs": [],
   "source": [
    "?re.compile"
   ]
  },
  {
   "cell_type": "code",
   "execution_count": null,
   "id": "57448e03",
   "metadata": {},
   "outputs": [],
   "source": []
  }
 ],
 "metadata": {
  "kernelspec": {
   "display_name": "Python 3 (ipykernel)",
   "language": "python",
   "name": "python3"
  },
  "language_info": {
   "codemirror_mode": {
    "name": "ipython",
    "version": 3
   },
   "file_extension": ".py",
   "mimetype": "text/x-python",
   "name": "python",
   "nbconvert_exporter": "python",
   "pygments_lexer": "ipython3",
   "version": "3.9.13"
  }
 },
 "nbformat": 4,
 "nbformat_minor": 5
}
