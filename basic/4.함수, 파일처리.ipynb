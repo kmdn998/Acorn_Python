{
 "cells": [
  {
   "cell_type": "markdown",
   "id": "e16a6122",
   "metadata": {},
   "source": [
    "python은 함수형 언어. 매우 중요!! p.110\n",
    "\n",
    "# 1. 함수의 정의\n",
    "\n",
    "- 일정한 작업을 수행하는 코드 블럭\n",
    "\n",
    "# 2. 함수의 장점\n",
    "\n",
    "- 반복적인 코드를 없애 코드의 길이를 짧게 만들어준다\n",
    "- 코드 재사용\n",
    "- 프로그램의 유지보수를 쉽게 만들어준다\n",
    "\n",
    "# 3. 함수의 구현\n",
    "\n",
    "    def 함수명:\n",
    "        코드\n",
    "        ...\n",
    "        \n",
    "함수가 있는 파일과 main 파일\n",
    "\n",
    "함수가 만들어진 다른 파일 메모리로 이동해서 함수 실행 후 main.py 메모리로 돌아온다. 함수 호출= 메모리 점프\n",
    "\n",
    "인터럽트: 방해받는것. 하던 일에 break\n",
    "\n",
    "\n",
    "# 4. 함수의 호출 방식\n",
    "\n",
    "- 인자(인수)가 없는 방식\n",
    "- (호출)인자가 있는 방식: 매개변수 개수와 입력한 개수(실인자)가 같아야함. 순서도 동일\n",
    "- (return)반환형이 있는 방식: 변수=함수값 이런 형태는 함수에 return값이 있다는 뜻\n",
    "- return의 2가지 기능:\n",
    "        1. 값을 반환. 주소값 1개만 가능(튜플로 묶어서. 자동 패킹/언패킹)\n",
    "        2. 함수의 강제 종료. 메인으로 돌아가기. like 반복문의 break\n",
    "        \n",
    "        \n",
    "# 5. 함수 설계\n",
    "\n",
    "- 단일 기능. 한가지 기능\n",
    "- 재 사용성\n",
    "\n",
    "        \n",
    "# 6. 파이썬에서 함수를 지원하기 위한 문법\n",
    "\n",
    "## 1) 변수의 유효(생존) 범위: 지역 변수, 전역 변수\n",
    "- 지역변수: 함수 안에서만 사용되는 변수\n",
    "- 전역변수: 함수 밖에서 사용되는 변수\n",
    "## 2)\n",
    "- global: 전역변수를 함수 안에서 수정할 수 있게 함\n",
    "- default: def line (cnt=40, shape='*'). 끝에서부터 써야함.\n",
    "## 3) 가변 인수: 개수와 상관없이 받을 수 있는 인수\n",
    "    def 함수명( * 매개변수):\n",
    "- *: 곱셈, 반복, 매개변수(가변인수, packing), 일반변수(unpacking)\n",
    "- **: 거듭제곱, 매개변수(가변인수, dict)"
   ]
  },
  {
   "cell_type": "code",
   "execution_count": 34,
   "id": "0cd6fc56",
   "metadata": {},
   "outputs": [],
   "source": [
    "def line(shape, cnt):   # 매개변수(parameter)\n",
    "#     num=int(input('반복'))\n",
    "    for i in range(cnt):\n",
    "        print(shape,end='')\n",
    "    print()"
   ]
  },
  {
   "cell_type": "code",
   "execution_count": 25,
   "id": "5aa59278",
   "metadata": {
    "scrolled": true
   },
   "outputs": [
    {
     "name": "stdout",
     "output_type": "stream",
     "text": [
      "&&&&&&&&&&\n",
      "********************\n"
     ]
    }
   ],
   "source": [
    "line('&',10)     # 실인자(argument)\n",
    "line('*',20)"
   ]
  },
  {
   "cell_type": "code",
   "execution_count": 30,
   "id": "be3b3013",
   "metadata": {},
   "outputs": [
    {
     "name": "stdout",
     "output_type": "stream",
     "text": [
      "결과: 9 2\n"
     ]
    },
    {
     "data": {
      "text/plain": [
       "(9, 2)"
      ]
     },
     "execution_count": 30,
     "metadata": {},
     "output_type": "execute_result"
    }
   ],
   "source": [
    "# 두 수의 교환\n",
    "num1, num2= 2,9\n",
    "def swap(num1, num2):\n",
    "    temp= num1\n",
    "    num1= num2\n",
    "    num2= temp\n",
    "    \n",
    "    return num1, num2\n",
    "\n",
    "print('결과:',num1,num2)  \n",
    "swap(num1,num2)"
   ]
  },
  {
   "cell_type": "code",
   "execution_count": 33,
   "id": "18a03bb7",
   "metadata": {},
   "outputs": [
    {
     "name": "stdout",
     "output_type": "stream",
     "text": [
      "1\n",
      "2\n"
     ]
    }
   ],
   "source": [
    "a,b=(1,2)\n",
    "print(a)\n",
    "print(b)"
   ]
  },
  {
   "cell_type": "code",
   "execution_count": 42,
   "id": "27ab7d38",
   "metadata": {
    "scrolled": true
   },
   "outputs": [
    {
     "name": "stdout",
     "output_type": "stream",
     "text": [
      "전국대표\n",
      "손흥민 지역대표\n",
      "지역대표\n"
     ]
    }
   ],
   "source": [
    "player='전국대표'\n",
    "\n",
    "# 지역변수는 함수 밖에서 쓸 수 없음\n",
    "# 전역의 메모리와 함수 안의 메모리는 다르다. \n",
    "\n",
    "def Soccer():\n",
    "    \n",
    "    global player     # 전역변수를 함수 안에서 수정.\n",
    "    \n",
    "    name='손흥민'\n",
    "    player= '지역대표'        # 함수 안에 새로운 player 메모리 생성. 전역변수 player과 다름\n",
    "\n",
    "    print(name, player)\n",
    "\n",
    "print(player)\n",
    "Soccer()\n",
    "# print(name)   지역 변수를 함수 밖에서 쓸 수 없다.\n",
    "\n",
    "print(player) # 전역변수가 함수 안에서 변경되도 밖에선 그대로"
   ]
  },
  {
   "cell_type": "code",
   "execution_count": 46,
   "id": "c821273e",
   "metadata": {},
   "outputs": [
    {
     "name": "stdout",
     "output_type": "stream",
     "text": [
      "('g',) 안녕하세요\n",
      "('a', 's') 안녕하세요\n"
     ]
    }
   ],
   "source": [
    "def hi(*name):\n",
    "    print(name,'안녕하세요')\n",
    "    \n",
    "hi('g')\n",
    "hi('a','s')"
   ]
  },
  {
   "cell_type": "code",
   "execution_count": 52,
   "id": "c62de8f1",
   "metadata": {},
   "outputs": [
    {
     "name": "stdout",
     "output_type": "stream",
     "text": [
      "(1, 2, 3)\n",
      "1 2 3\n"
     ]
    }
   ],
   "source": [
    "b=1,2,3\n",
    "print(b)\n",
    "print(*b)    # unpacking 기능"
   ]
  },
  {
   "cell_type": "code",
   "execution_count": 55,
   "id": "723d90dd",
   "metadata": {},
   "outputs": [
    {
     "name": "stdout",
     "output_type": "stream",
     "text": [
      "안녕 {}\n",
      "기가지니 {'age': '20', 'addr': 'seoul'}\n"
     ]
    }
   ],
   "source": [
    "# 함수에 인자를 추가하고 싶을 때. ** kwargs. dict형으로 묶어서 전달\n",
    "\n",
    "def info(name, **kwargs):\n",
    "    print(name, kwargs)\n",
    "    \n",
    "info('안녕')\n",
    "info('기가지니',age='20',addr='seoul')"
   ]
  },
  {
   "cell_type": "code",
   "execution_count": 95,
   "id": "3b766b3b",
   "metadata": {},
   "outputs": [
    {
     "name": "stdout",
     "output_type": "stream",
     "text": [
      "2 : 있어요\n",
      "8 : 없네요\n",
      "지역코드, 상품명, 수량 입력: 100,새우깡,15\n",
      "계속할까요?[y/n]ㅛ\n",
      "지역코드, 상품명, 수량 입력: 100,감자깡,20\n",
      "계속할까요?[y/n]\n",
      "지역코드, 상품명, 수량 입력: 200,새우깡,50\n",
      "계속할까요?[y/n]n\n",
      "['강북', '새우깡', '15', 6750]\n",
      "['강북', '감자깡', '20', 6000]\n",
      "['강남', '새우깡', '50', 22500]\n",
      "총 건수: 3 총액:35250\n"
     ]
    }
   ],
   "source": [
    "# 연습문제 1\n",
    "\n",
    "datas=[1,3,5,7,9,2,4,6]\n",
    "\n",
    "def checkfunc(list,num):\n",
    "    if num in list:\n",
    "        print(num,': 있어요')\n",
    "    else:\n",
    "        print(num,': 없네요')\n",
    "        \n",
    "checkfunc(datas,2)\n",
    "checkfunc(datas,8)\n",
    "\n",
    "\n",
    "\n",
    "# 연습문제 2\n",
    "\n",
    "datas=[]\n",
    "\n",
    "#입력 값을 리스트로 저장\n",
    "def inputfunc():\n",
    "    while True:\n",
    "        text= input('지역코드, 상품명, 수량 입력: ')\n",
    "        data= text.split(',')\n",
    "        \n",
    "        if data[0]=='100':\n",
    "            data[0]= '강북'\n",
    "        elif data[0]=='200':\n",
    "            data[0]= '강남'\n",
    "        \n",
    "        if data[1]=='새우깡':\n",
    "            data.append(450*int(data[2]))\n",
    "        if data[1]=='감자깡':\n",
    "            data.append(300*int(data[2]))\n",
    "        datas.append(data)\n",
    "           \n",
    "        go= input('계속할까요?[y/n]')\n",
    "        if go=='y':\n",
    "            continue\n",
    "        elif go=='n':\n",
    "            break\n",
    "            \n",
    "            \n",
    "# list 전체 출력            \n",
    "def processfunc(list): \n",
    "    totalnum, totalprice=0,0\n",
    "    for i in list:\n",
    "        totalnum+=1\n",
    "        totalprice+=i[3]\n",
    "        print(i) \n",
    "    print(f'총 건수: {totalnum} 총액:{totalprice}')\n",
    "    \n",
    "data= inputfunc()            \n",
    "processfunc(datas)"
   ]
  },
  {
   "cell_type": "code",
   "execution_count": 65,
   "id": "28aee3b9",
   "metadata": {},
   "outputs": [
    {
     "name": "stdout",
     "output_type": "stream",
     "text": [
      "[[1, 2]]\n"
     ]
    }
   ],
   "source": [
    "a=[]\n",
    "\n",
    "a.append([1,2])\n",
    "print(a)"
   ]
  },
  {
   "cell_type": "code",
   "execution_count": 103,
   "id": "dd880c64",
   "metadata": {},
   "outputs": [
    {
     "name": "stdout",
     "output_type": "stream",
     "text": [
      "['SOME', 'some', 4]\n",
      "['WHERE', 'where', 5]\n",
      "['OVER', 'over', 4]\n",
      "['THE', 'the', 3]\n",
      "['RAINBOW', 'rainbow', 7]\n",
      "['WAY', 'way', 3]\n",
      "['UP', 'up', 2]\n",
      "['HIGH', 'high', 4]\n"
     ]
    },
    {
     "data": {
      "text/plain": [
       "[None, None, None, None, None, None, None, None]"
      ]
     },
     "execution_count": 103,
     "metadata": {},
     "output_type": "execute_result"
    }
   ],
   "source": [
    "\n",
    "words = \"Some Where Over the Rainbow Way Up high\"\n",
    "\n",
    "\"\"\"\n",
    "[\"SOME\", \"some\", 4]\n",
    "[\"WHERE\", \"where\", 4]\n",
    "\"\"\"\n",
    "\n",
    "words = words.split(\" \")\n",
    "\n",
    "# # for문을 사용\n",
    "# for word in words:\n",
    "#     print([word.upper(), word.lower(), len(word)])\n",
    "    \n",
    "# print(\"===========================================================\")\n",
    "    \n",
    "# list comprehension문을 사용\n",
    "[print([word.upper(), word.lower(), len(word)]) for word in words]"
   ]
  },
  {
   "cell_type": "code",
   "execution_count": 106,
   "id": "822dcdc8",
   "metadata": {},
   "outputs": [
    {
     "name": "stdout",
     "output_type": "stream",
     "text": [
      "[['SOME', 'some', 4], ['WHERE', 'where', 5], ['OVER', 'over', 4], ['THE', 'the', 3], ['RAINBOW', 'rainbow', 7], ['WAY', 'way', 3], ['UP', 'up', 2], ['HIGH', 'high', 4]]\n"
     ]
    },
    {
     "data": {
      "text/plain": [
       "[['SOME', 'some', 4],\n",
       " ['WHERE', 'where', 5],\n",
       " ['OVER', 'over', 4],\n",
       " ['THE', 'the', 3],\n",
       " ['RAINBOW', 'rainbow', 7],\n",
       " ['WAY', 'way', 3],\n",
       " ['UP', 'up', 2],\n",
       " ['HIGH', 'high', 4]]"
      ]
     },
     "execution_count": 106,
     "metadata": {},
     "output_type": "execute_result"
    }
   ],
   "source": [
    "words= 'Some Where Over the Rainbow way up high'\n",
    "\n",
    "# '''\n",
    "# ['SOME','some',4]\n",
    "# '''\n",
    "\n",
    "def trans(word):\n",
    "    return [word.upper(),word.lower(),len(word)]\n",
    "    \n",
    "result=[]\n",
    "\n",
    "\n",
    "word_list= words.split()\n",
    "for word in word_list:\n",
    "    result.append(trans(word))\n",
    "\n",
    "c5=[trans(word) for word in words.split()]   \n",
    "print(c5)\n",
    "\n",
    "[trans(word) for word in word_list]\n"
   ]
  },
  {
   "cell_type": "markdown",
   "id": "2b90fcae",
   "metadata": {},
   "source": [
    "# 7. Built-in Function\n",
    "\n",
    "## (1) all(), any(): and와 or 연산자를 함수화\n",
    "    all(): 모든 요소가 True인지. 0,'',None 있으면 False 반환\n",
    "    any(): 요소에 하나라도 True가 있으면 True. 비어있으면 False\n",
    "    \n",
    "## (2) enumerate(iterator):인덱스 값을 포함해서 리턴\n",
    "#### > iterator: 반복가능. 리스트, 튜플, 집합, 딕셔너리, !문자열!\n",
    "    순서가 있는 자료형을 입력받아 인덱스 값을 포함해서 리턴\n",
    "    튜플이라 언패킹도 가능. 인덱스와 데이터 따로 변수에 저장 가능\n",
    "    \n",
    "    for i,j in enumerate([]):\n",
    "            print(i,j)\n",
    "### list()로 주소로 표현된 데이터 보이게    \n",
    "    \n",
    "## (3) eval(expression)\n",
    "    표현식을 파이썬에서 실행 가능하게 만들어주는 역할\n",
    "    \n",
    "## (4) >>>>map(funtion, iterator)<<<< 자주 사용됨. 대박\n",
    "    집합의 각 요소가 함수에 의해 수행된 결과를 묶어서 리턴\n",
    "    callback 함수.\n",
    "    function에 함수의 주소를 전달. 함수명() X\n",
    "    \n",
    "## (5) zip(iterator)\n",
    "    동일한 개수로 이루어진 자료형을 열로 묶어주는 역할\n",
    "    가변인수라 여러개 넣을 수 있음\n",
    "    이름=[...], 전화번호=[...], 주소=[...] 등 으로 저장된 데이터를 (이름1,전화번호1,주소1)로 묶어줌"
   ]
  },
  {
   "cell_type": "code",
   "execution_count": 4,
   "id": "8e2e3b09",
   "metadata": {},
   "outputs": [
    {
     "name": "stdout",
     "output_type": "stream",
     "text": [
      "True\n",
      "False\n"
     ]
    }
   ],
   "source": [
    "a=[1,2,3,4,5]\n",
    "\n",
    "print(all(a))  # boolean 반환\n",
    "print(all([1,2,3,0]))"
   ]
  },
  {
   "cell_type": "code",
   "execution_count": 10,
   "id": "47852aed",
   "metadata": {},
   "outputs": [
    {
     "name": "stdout",
     "output_type": "stream",
     "text": [
      "0 가\n",
      "1 나\n",
      "2 다\n"
     ]
    }
   ],
   "source": [
    "for i,j in enumerate(['가','나','다']):\n",
    "    print(i,j)              # 튜플이라 언패킹 가능"
   ]
  },
  {
   "cell_type": "code",
   "execution_count": 11,
   "id": "00f59632",
   "metadata": {},
   "outputs": [
    {
     "data": {
      "text/plain": [
       "[(0, '가'), (1, '나'), (2, '다')]"
      ]
     },
     "execution_count": 11,
     "metadata": {},
     "output_type": "execute_result"
    }
   ],
   "source": [
    "list(enumerate(['가','나','다']))     #주소로 표현된 데이터를 보여줌~!!!!!!!!!!"
   ]
  },
  {
   "cell_type": "code",
   "execution_count": 14,
   "id": "a3dcb535",
   "metadata": {},
   "outputs": [
    {
     "name": "stdout",
     "output_type": "stream",
     "text": [
      "3+4\n",
      "7\n",
      "print(\"hi\")\n",
      "hi\n"
     ]
    }
   ],
   "source": [
    "a='3+4'\n",
    "print(a)\n",
    "print(eval(a))\n",
    "\n",
    "b='print(\"hi\")'\n",
    "print(b)\n",
    "eval(b)"
   ]
  },
  {
   "cell_type": "code",
   "execution_count": 23,
   "id": "eae781aa",
   "metadata": {},
   "outputs": [
    {
     "name": "stdout",
     "output_type": "stream",
     "text": [
      "<map object at 0x00000168D667BE20>\n",
      "[3, 5, 6, 7]\n",
      "3\n",
      "5\n",
      "6\n",
      "7\n"
     ]
    }
   ],
   "source": [
    "def calc(x):\n",
    "    return (x+2)\n",
    "\n",
    "a=[1,3,4,5]\n",
    "print(map(calc,a))  # 함수 이름에 함수 주소 들어있음\n",
    "\n",
    "\n",
    "map(calc,a)   #결과의 주소\n",
    "print(list(map(calc,a)))    #데이터 보여주기~~!~!~!!!\n",
    "\n",
    "for i in map(calc,a):       #반복문에서는 주소값만 전달해도 문제없음. list()생략된 느낌.\n",
    "    print(i)"
   ]
  },
  {
   "cell_type": "code",
   "execution_count": 29,
   "id": "96579cfd",
   "metadata": {},
   "outputs": [
    {
     "name": "stdout",
     "output_type": "stream",
     "text": [
      "<zip object at 0x00000168D8C86CC0>\n",
      "[('a1', 'b1', 'c1'), ('a2', 'b2', 'c2'), ('a3', 'b3', 'c3')]\n",
      "('a1', 'b1', 'c1')\n",
      "('a2', 'b2', 'c2')\n",
      "('a3', 'b3', 'c3')\n",
      "0 a1 b1 c1\n",
      "1 a2 b2 c2\n",
      "2 a3 b3 c3\n"
     ]
    }
   ],
   "source": [
    "a=['a1','a2','a3']    #이름= [뉴진스, 르세라핌, 블랙핑크]\n",
    "b=['b1','b2','b3']    #전화번호= [...]\n",
    "c=['c1','c2','c3']\n",
    "\n",
    "print(zip(a,b,c))   # 열로 묶어줌\n",
    "print(list(zip(a,b,c)))\n",
    "\n",
    "for i in zip(a,b,c):\n",
    "    print(i)\n",
    "    \n",
    "for i,(v1,v2,v3) in enumerate(zip(a,b,c)):\n",
    "    print(i,v1,v2,v3)"
   ]
  },
  {
   "cell_type": "markdown",
   "id": "ef5dd555",
   "metadata": {},
   "source": [
    "pip install 저장되는 위치:C:\\Users\\acorn\\anaconda3\\Lib\\site-packages\n",
    ".py로 끝나는 것들은 모듈\n",
    "\n",
    "# 8. External  Function\n",
    "    import 모듈명     # path가 걸려있는 위치에 모듈이 있어야함\n",
    "    C:\\Users\\acorn\\anaconda3\\Lib\\site-packages 위치에 있는 파일(모듈)\n",
    "    모듈 안에 함수,변수 등 여러가지 관련된 것들 존재\n"
   ]
  },
  {
   "cell_type": "code",
   "execution_count": 32,
   "id": "e06b7fad",
   "metadata": {},
   "outputs": [
    {
     "name": "stdout",
     "output_type": "stream",
     "text": [
      "3.9.13 (main, Aug 25 2022, 23:51:50) [MSC v.1916 64 bit (AMD64)]\n",
      "['C:\\\\kim\\\\python\\\\basic', 'C:\\\\Users\\\\acorn\\\\anaconda3\\\\python39.zip', 'C:\\\\Users\\\\acorn\\\\anaconda3\\\\DLLs', 'C:\\\\Users\\\\acorn\\\\anaconda3\\\\lib', 'C:\\\\Users\\\\acorn\\\\anaconda3', '', 'C:\\\\Users\\\\acorn\\\\anaconda3\\\\lib\\\\site-packages', 'C:\\\\Users\\\\acorn\\\\anaconda3\\\\lib\\\\site-packages\\\\win32', 'C:\\\\Users\\\\acorn\\\\anaconda3\\\\lib\\\\site-packages\\\\win32\\\\lib', 'C:\\\\Users\\\\acorn\\\\anaconda3\\\\lib\\\\site-packages\\\\Pythonwin', 'C:\\\\Users\\\\acorn\\\\anaconda3\\\\lib\\\\site-packages\\\\IPython\\\\extensions', 'C:\\\\Users\\\\acorn\\\\.ipython']\n"
     ]
    }
   ],
   "source": [
    "import sys  #파이썬 관련\n",
    "\n",
    "print(sys.version)  #파이썬 버전\n",
    "print(sys.path)    #path에 있는 경로들"
   ]
  },
  {
   "cell_type": "code",
   "execution_count": 33,
   "id": "ce9437c3",
   "metadata": {},
   "outputs": [
    {
     "name": "stdout",
     "output_type": "stream",
     "text": [
      "C:\\kim\\python\\basic\n"
     ]
    }
   ],
   "source": [
    "import os   #운영체제 관련\n",
    "print(os.getcwd())       #작업 위치"
   ]
  },
  {
   "cell_type": "code",
   "execution_count": 39,
   "id": "ebcc15db",
   "metadata": {},
   "outputs": [
    {
     "name": "stdout",
     "output_type": "stream",
     "text": [
      "30\n",
      "40 100 ff\n",
      "{'age': 20, 'addr': 'gg'}\n",
      "None\n",
      "파이썬 주식회사\n"
     ]
    }
   ],
   "source": [
    "import mymodule\n",
    "\n",
    "dir(mymodule)\n",
    "\n",
    "print(mymodule.sum(10,20))\n",
    "print(mymodule.info(40,100,'ff',age=20,addr='gg'))\n",
    "print(mymodule.company)"
   ]
  },
  {
   "cell_type": "markdown",
   "id": "200db695",
   "metadata": {},
   "source": [
    "## 날짜 함수\n",
    "    import datetime\n",
    "    class datetime.timedelta(days=0, seconds=0, microseconds=0, milliseconds=0, minutes=0, hours=0, weeks=0)"
   ]
  },
  {
   "cell_type": "code",
   "execution_count": 55,
   "id": "098167ef",
   "metadata": {},
   "outputs": [
    {
     "name": "stdout",
     "output_type": "stream",
     "text": [
      "2023-02-24\n",
      "2023 2 24\n",
      "2023-02-24 12:07:05.599279\n",
      "-1 day, 0:00:00\n",
      "어제: 2023-02-23 12:07:05.599279\n",
      "2023-02-24 20:07:05.599279\n",
      "02.24.2023\n",
      "2023-02-24 11:23:14\n"
     ]
    }
   ],
   "source": [
    "import datetime\n",
    "dir(datetime)\n",
    "\n",
    "today= datetime.date.today() # date 클래스 안에 today() 함수\n",
    "print(today)\n",
    "print(today.year, today.month, today.day)\n",
    "\n",
    "curtime= datetime.datetime.today() # 현재시간\n",
    "print(curtime)\n",
    "\n",
    "\n",
    "#날짜와 시간 계산\n",
    "#날짜는 날짜형이라 숫자형과 계산 불가. timedelta()를 이용해 날짜형을 숫자형으로 변환\n",
    "\n",
    "mydays=datetime.timedelta(days=-1)   # 일수로 계산. 오늘 -1일=어제\n",
    "print(days)\n",
    "print('어제:',curtime+days)\n",
    "\n",
    "myhours= datetime.timedelta(hours= 8)\n",
    "print(curtime+myhours) # 현재시간 + 8시간\n",
    "\n",
    "#날짜 형식 지정. 날짜형식의 특징은 잃어버림. 문자형으로 바뀜\n",
    "#strftime(): 날짜 -> 문자열\n",
    "#strptime(): 문자열 -> 날짜\n",
    "\n",
    "strtoday=today.strftime('%m.%d.%Y')\n",
    "print(strtoday)\n",
    "type(strtoday)\n",
    "\n",
    "strdate='2023-2-24 11:23:14'\n",
    "d=datetime.datetime.strptime(strdate, '%Y-%m-%d %H:%M:%S')\n",
    "print(d)"
   ]
  },
  {
   "cell_type": "markdown",
   "id": "2ad4ddf0",
   "metadata": {},
   "source": [
    "# 9.파일처리\n",
    "    - open('파일 경로와 이름', mode, encoding='utf8')      #같은 위치는 경로 생략\n",
    "            mode: r(default),w,a,rb,wb,ab       #read, write, append\n",
    "    - close()\n",
    "    \n",
    "    읽어올때: readline(),readlines(),read()\n",
    "        readline(): 한줄씩 읽어오기\n",
    "        readlines(): 전체를 리스트로\n",
    "        read(): 전체를 문자열로\n",
    "    저장할때: write()\n",
    "    \n",
    "    \n",
    "    open(): 보조기억장치(대용량, 하드디스크)의 파일을 주기억장치:메모리(CPU)로 load. \n",
    "    close(): 메모리의 파일을 없애기\n",
    "    \n",
    "    open(file, mode='r', buffering=-1, encoding=None, errors=None, newline=None, closefd=True, opener=None)\n",
    "    인수명 생략하면 순서대로 작성, 쓰면 순서 안맞춰도됨\n",
    "    \n",
    "    상대경로: 작업하는위치에 따라 달라짐    .: 현재위치  ..:상위위치 \n",
    "    절대경로: 절대적인 위치\n",
    "        로컬경로: 드라이브 위치부터\n",
    "        가상경로: url. 내 컴퓨터에 존재X"
   ]
  },
  {
   "cell_type": "markdown",
   "id": "55df2ac5",
   "metadata": {},
   "source": [
    "### glob: 여러 개 파일을 읽어올 때\n",
    "    import glob\n",
    "    glob.glob('*')      # 현재위치의 모든 파일 \n",
    "    glob.glob('*.*')    # 확장자가 있는 것만. 폴더같은거 제외\n",
    "    glob.glob('*.ipynb')    #ipynb 파일만\n",
    "    \n",
    "    for i in files:\n",
    "        open(i, 'r')"
   ]
  },
  {
   "cell_type": "code",
   "execution_count": 1,
   "id": "0543abba",
   "metadata": {},
   "outputs": [
    {
     "ename": "FileNotFoundError",
     "evalue": "[Errno 2] No such file or directory: 'mymodule.py'",
     "output_type": "error",
     "traceback": [
      "\u001b[1;31m---------------------------------------------------------------------------\u001b[0m",
      "\u001b[1;31mFileNotFoundError\u001b[0m                         Traceback (most recent call last)",
      "\u001b[1;32m~\\AppData\\Local\\Temp\\ipykernel_22556\\1598089057.py\u001b[0m in \u001b[0;36m<module>\u001b[1;34m\u001b[0m\n\u001b[1;32m----> 1\u001b[1;33m \u001b[0mf\u001b[0m\u001b[1;33m=\u001b[0m \u001b[0mopen\u001b[0m\u001b[1;33m(\u001b[0m\u001b[1;34m'mymodule.py'\u001b[0m\u001b[1;33m,\u001b[0m\u001b[1;34m'r'\u001b[0m\u001b[1;33m,\u001b[0m\u001b[0mencoding\u001b[0m\u001b[1;33m=\u001b[0m\u001b[1;34m'UTF8'\u001b[0m\u001b[1;33m)\u001b[0m\u001b[1;33m\u001b[0m\u001b[1;33m\u001b[0m\u001b[0m\n\u001b[0m\u001b[0;32m      2\u001b[0m \u001b[1;31m# print(f.readline())\u001b[0m\u001b[1;33m\u001b[0m\u001b[1;33m\u001b[0m\u001b[0m\n\u001b[0;32m      3\u001b[0m \u001b[1;31m# print(f.readlines())\u001b[0m\u001b[1;33m\u001b[0m\u001b[1;33m\u001b[0m\u001b[0m\n\u001b[0;32m      4\u001b[0m \u001b[1;33m\u001b[0m\u001b[0m\n\u001b[0;32m      5\u001b[0m \u001b[1;32mwhile\u001b[0m \u001b[1;32mTrue\u001b[0m\u001b[1;33m:\u001b[0m\u001b[1;33m\u001b[0m\u001b[1;33m\u001b[0m\u001b[0m\n",
      "\u001b[1;31mFileNotFoundError\u001b[0m: [Errno 2] No such file or directory: 'mymodule.py'"
     ]
    }
   ],
   "source": [
    "f= open('mymodule.py','r',encoding='UTF8')\n",
    "# print(f.readline())\n",
    "# print(f.readlines())\n",
    "\n",
    "while True:\n",
    "    line= f.readline()\n",
    "    if not line:         # line이 없으면.\n",
    "        break\n",
    "        \n",
    "#     print(line)\n",
    "\n",
    "for i in f.readlines():\n",
    "    print(i)\n",
    "    \n",
    "print()\n",
    "f.close()"
   ]
  },
  {
   "cell_type": "code",
   "execution_count": 88,
   "id": "99e4582d",
   "metadata": {},
   "outputs": [
    {
     "name": "stdout",
     "output_type": "stream",
     "text": [
      "1 1\n",
      "2 안녕\n",
      "3 hello\n",
      "1\n",
      "\n",
      "안녕\n",
      "\n",
      "hello\n"
     ]
    }
   ],
   "source": [
    "#상대경로\n",
    "f= open('data/filetest1.txt',encoding='utf8')\n",
    "# f= open('./data/filetest1.txt',encoding='utf8')\n",
    "# f= open('../data/filetest1.txt',encoding='utf8')\n",
    "t=f.read()\n",
    "data=t.split('\\n')\n",
    "cnt=1\n",
    "for i, line in enumerate(data, start=1):\n",
    "    print(i,line)\n",
    "f.close()\n",
    "\n",
    "# 절대경로(로컬경로)\n",
    "f= open('C:\\\\kim\\\\python\\\\basic\\\\data\\\\filetest1.txt',encoding='utf8')    # \\ 하나는 escape로 취급됨 \\\\쓰기\n",
    "# print(f.readlines())\n",
    "for i in f.readlines():\n",
    "    print(i)\n",
    "f.close()\n",
    "\n",
    "\n",
    "f=open('data/filetest2.txt','w')    # 새로 생성\n",
    "\n",
    "f.write('이름')\n",
    "f.write('나이')\n",
    "\n",
    "f.close()\n",
    "\n",
    "f=open('data/filetest2.txt','a')\n",
    "\n",
    "f.write('웩')\n",
    "f.write('바보')\n",
    "\n",
    "f.close()"
   ]
  },
  {
   "cell_type": "code",
   "execution_count": 91,
   "id": "b0f7f5f9",
   "metadata": {},
   "outputs": [],
   "source": [
    "#csv 형식으로 파일 저장  ,로 구분(분리)함\n",
    "\n",
    "nums=[1,2,3,4,5,6,7]\n",
    "f=open('data/filetest3.csv','w')\n",
    "#f.write(nums)    #write() argument must be str, not list\n",
    "f.write(str(nums))   #전체를 문자열 처리라 대괄호도 들어감\n",
    "f.close()"
   ]
  },
  {
   "cell_type": "code",
   "execution_count": 92,
   "id": "c9be87d4",
   "metadata": {},
   "outputs": [],
   "source": [
    "f= open('data/filetest4.txt','w')\n",
    "f.write(str(nums))\n",
    "f.close()"
   ]
  },
  {
   "cell_type": "code",
   "execution_count": 94,
   "id": "b235b599",
   "metadata": {},
   "outputs": [
    {
     "data": {
      "text/plain": [
       "'1, 2, 3, 4, 5, 6, 7'"
      ]
     },
     "execution_count": 94,
     "metadata": {},
     "output_type": "execute_result"
    }
   ],
   "source": [
    "', '.join([str(i) for i in nums])"
   ]
  },
  {
   "cell_type": "code",
   "execution_count": 96,
   "id": "8463e4ae",
   "metadata": {},
   "outputs": [],
   "source": [
    "f=open('data/filetest5.csv','w')\n",
    "f.write(', '.join([str(i) for i in nums]))\n",
    "f.close()"
   ]
  },
  {
   "cell_type": "code",
   "execution_count": null,
   "id": "d2a061e9",
   "metadata": {},
   "outputs": [],
   "source": [
    "with open('data/filetest6.txt') as f:           #close() 안써도됨 p.202\n",
    "    f.readline()"
   ]
  }
 ],
 "metadata": {
  "kernelspec": {
   "display_name": "Python 3 (ipykernel)",
   "language": "python",
   "name": "python3"
  },
  "language_info": {
   "codemirror_mode": {
    "name": "ipython",
    "version": 3
   },
   "file_extension": ".py",
   "mimetype": "text/x-python",
   "name": "python",
   "nbconvert_exporter": "python",
   "pygments_lexer": "ipython3",
   "version": "3.9.13"
  }
 },
 "nbformat": 4,
 "nbformat_minor": 5
}
