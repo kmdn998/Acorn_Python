{
 "cells": [
  {
   "cell_type": "markdown",
   "id": "cf9e1174",
   "metadata": {},
   "source": [
    "## 특징\n",
    "\n",
    "    사용자가 만든 자료형\n",
    "    \n",
    "    - 묶음(코드 블럭)\n",
    "        함수(메소드, 멤버함수)와 변수(멤버변수) 묶음\n",
    "    여러개의 함수를 묶어서 좀 더 큰 단위의 모듈로 관리\n",
    "    클래스는 메모리 공간 차지X\n",
    "    클래스를 테이블로 사용 가능\n",
    "    \n",
    "    - 설계도(추상적)\n",
    "    객체(object): 클래스에서 실제로 만들어낸 것. 메모리 공간을 만든다.\n",
    "    인스턴스(instance): 클래스를 바탕으로 메모리에 만들어진 구체적인 실체"
   ]
  },
  {
   "cell_type": "markdown",
   "id": "83057f72",
   "metadata": {},
   "source": [
    "## 클래스 작성 방법\n",
    "    \n",
    "    class 이름:\n",
    "        변수\n",
    "        함수\n",
    "        \n",
    "    또는\n",
    "    \n",
    "    class 이름(부모클래스):\n",
    "        변수\n",
    "        함수\n",
    "        \n",
    "객체의 3가지 특성: \n",
    "    1) 다형성. 하나의 객체가 다양한 기능 갖고있음\n",
    "    2) 추상화. 은닉성. 캡슐화. 복잡한 건 숨겨두기 __ str3\n",
    "    3) 상속성. 제일 중요. 코드 재사용, 개선 가능"
   ]
  },
  {
   "cell_type": "code",
   "execution_count": 1,
   "id": "d9f28ca7",
   "metadata": {},
   "outputs": [
    {
     "name": "stdout",
     "output_type": "stream",
     "text": [
      "10\n",
      "10\n",
      "100\n"
     ]
    }
   ],
   "source": [
    "class test:     #클래스 선언만으로는 메모리 차지X. 실행안됨\n",
    "    a=10\n",
    "    def show(self):\n",
    "        print('test')\n",
    "        \n",
    "#객체 생성\n",
    "test()      #메모리에 a,show() 생성\n",
    "\n",
    "print(test().a)  \n",
    "test().a=100\n",
    "print(test().a)         #위 세 test()는 모두 다른 메모리에 생성됨\n",
    "\n",
    "ob1=test()          #ob1에 인스턴스 주소 저장\n",
    "ob1.a=100           #저장된 주소의 a를 수정\n",
    "print(ob1.a)"
   ]
  },
  {
   "cell_type": "code",
   "execution_count": 5,
   "id": "91f12da4",
   "metadata": {},
   "outputs": [],
   "source": [
    "class Person:              #클래스를 테이블처럼 이용 가능\n",
    "    nation='한국'\n",
    "    name= str()\n",
    "    age= int()\n",
    "    hobbies=[]\n",
    "    def show(self):\n",
    "        print(self.name, self.age)\n",
    "    \n",
    "p1= Person()\n",
    "p1.name= '홍길동'\n",
    "p1.age= 20\n",
    "p1.hobblies= ['낚시','운동']\n",
    "\n",
    "p2= Person()\n",
    "p2.name= '임꺽정'\n",
    "p2.age= 20\n",
    "p2.hobblies= ['낚시','운동']"
   ]
  },
  {
   "cell_type": "code",
   "execution_count": 6,
   "id": "701c4147",
   "metadata": {},
   "outputs": [
    {
     "name": "stdout",
     "output_type": "stream",
     "text": [
      "홍길동 20\n"
     ]
    }
   ],
   "source": [
    "p1.show()"
   ]
  },
  {
   "cell_type": "code",
   "execution_count": 9,
   "id": "c89b4ae1",
   "metadata": {},
   "outputs": [
    {
     "name": "stdout",
     "output_type": "stream",
     "text": [
      "홍길동 20\n",
      "임꺽정 20\n"
     ]
    }
   ],
   "source": [
    "P=[p1, p2]\n",
    "for p in P:\n",
    "    p.show()"
   ]
  },
  {
   "cell_type": "markdown",
   "id": "577eb224",
   "metadata": {},
   "source": [
    "## 클래스 작성 문법\n",
    "\n",
    "### (1) self                           = this(java)\n",
    "    <<현재 사용중인 객체>>의 주소를 저장하고 있는 참조변수(주소를 저장중인 변수). 클래스로 생성된 여러 객체 중 지금 실행하는 객체\n",
    "     클래스 안의 함수는 무조건 주소를 받은 매개변수가 있어야함"
   ]
  },
  {
   "cell_type": "code",
   "execution_count": 143,
   "id": "058dd5b7",
   "metadata": {},
   "outputs": [],
   "source": [
    "class Test: \n",
    "#     a= int()                #여기의 a,b,c는 지역변수\n",
    "#     b= float()\n",
    "#     c= str()\n",
    "    \n",
    "    def show(self):         #관례적으로 self로 매개변수 설정\n",
    "        print(self.a, self.b, self.c)    #매개변수로 전달된 주소의 a,b,c\n",
    "                                            #클래스의 함수에는 반드시 매개변수가 하나 있어야함!!!!!\n",
    "    def set(self, A, B, C):    # 여기의 A,B,C는 매개변수. 지역변수\n",
    "        self.a= A\n",
    "        self.b= B\n",
    "        self.c= C"
   ]
  },
  {
   "cell_type": "markdown",
   "id": "ea9df128",
   "metadata": {},
   "source": [
    "    a= int()                #여기의 a,b,c는 지역변수\n",
    "    b= float()\n",
    "    c= str()\n",
    "    \n",
    "    없어도 self.a에서 자동으로 멤버변수 생성. 그래도 가독성 위해서 쓰는게 좋음"
   ]
  },
  {
   "cell_type": "code",
   "execution_count": 144,
   "id": "601406cf",
   "metadata": {},
   "outputs": [
    {
     "name": "stdout",
     "output_type": "stream",
     "text": [
      "10 10.1 홍길동\n",
      "30 30.1 나\n"
     ]
    }
   ],
   "source": [
    "t1, t2, t3= Test(), Test(), Test()\n",
    "\n",
    "t1.a=10\n",
    "t1.b=10.1\n",
    "t1.c='홍길동'\n",
    "\n",
    "t2.a=20\n",
    "t2.b=20.2\n",
    "t2.c='임꺽정'\n",
    "\n",
    "t1.show() # 실인자 t1을 매개변수로 전달\n",
    "\n",
    "t3.set(30, 30.1, '나')\n",
    "t3.show()"
   ]
  },
  {
   "cell_type": "markdown",
   "id": "8115d517",
   "metadata": {},
   "source": [
    "### 생성자(constructor)와 소멸자(deconstructor)\n",
    "\n",
    "- 객체를 생성하는 용도\n",
    "- 객체를 생성할 때 단 한번만 호출된다    호출=함수\n",
    "- 초기화 목적으로 사용\n",
    "\n",
    "-원래 있는데 생략해서 안보임"
   ]
  },
  {
   "cell_type": "code",
   "execution_count": 145,
   "id": "2b96eeba",
   "metadata": {},
   "outputs": [],
   "source": [
    "class Test:\n",
    "    a= int()\n",
    "    b= float()\n",
    "    \n",
    "# ob1=Test()\n",
    "# ob1.a=10\n",
    "# ob1.b=10.1    \n",
    "    \n",
    "    def set(self, a, b):\n",
    "        self.a= a\n",
    "        self.b= b\n",
    "\n",
    "# ob2=Test()\n",
    "# ob2.set(20, 20.1)\n",
    "\n",
    "    def __init__(self, a=0, b=None):          #default 처리 가능. 인수 없이 생성했을때. \n",
    "        self.a= a\n",
    "        self.b= b\n",
    "\n",
    "#객체 생성 동시에 값을 할당\n",
    "#cb3= Test(30, 30.1)            __init__의 a,b로 할당\n",
    "\n",
    "    def __del__(self):\n",
    "        print('소멸자 호출')\n",
    "\n",
    "#del ob3"
   ]
  },
  {
   "cell_type": "code",
   "execution_count": 146,
   "id": "1cfc605b",
   "metadata": {},
   "outputs": [
    {
     "name": "stdout",
     "output_type": "stream",
     "text": [
      "<class '__main__.Test'> <class '__main__.Test2'>\n",
      "True\n",
      "False\n"
     ]
    }
   ],
   "source": [
    "#isinstance() 인스턴스의 클래스 확인\n",
    "class Test2:\n",
    "    pass\n",
    "\n",
    "ob1= Test()\n",
    "ob2= Test2()\n",
    "print(type(ob1), type(ob2))\n",
    "print(isinstance(ob1,Test))\n",
    "print(isinstance(ob1,Test2))"
   ]
  },
  {
   "cell_type": "markdown",
   "id": "2f910bb1",
   "metadata": {},
   "source": [
    "### 정적변수, 정적메소드  <--> 정적\n",
    "\n",
    "- 동일한 공간을 모든 객체들이 공동으로 사용\n",
    "- 다른 객체들끼리 같은 변수 사용\n",
    "- 클래스 변수, 클래스 매소드\n",
    "\n",
    "    클래스 메소드:정적 메서드는 클래스 인스턴스(instance)와 상관없이 클래스 자체에서 호출할 수 있는 메서드입니다.\\n \n",
    "    즉, 정적 메서드는 클래스의 인스턴스를 생성하지 않아도 호출할 수 있습니다"
   ]
  },
  {
   "cell_type": "code",
   "execution_count": 147,
   "id": "a0aa7d4a",
   "metadata": {},
   "outputs": [
    {
     "name": "stdout",
     "output_type": "stream",
     "text": [
      "소멸자 호출\n",
      "10 0 30\n",
      "20 0 30\n",
      "0 0 30\n",
      "0 0 30\n"
     ]
    },
    {
     "data": {
      "text/plain": [
       "30"
      ]
     },
     "execution_count": 147,
     "metadata": {},
     "output_type": "execute_result"
    }
   ],
   "source": [
    "class Test:\n",
    "    a=int()\n",
    "    b=int()\n",
    "    c=str()\n",
    "    \n",
    "    def show(self):\n",
    "        print(self.a, self.b, Test.c)   #self.c 말고 Test.c \n",
    "                                        #Test.c는 Test 클래스의 모든 객체가 같이 쓰는 공동의 공간  \n",
    "\n",
    "    @staticmethod\n",
    "    def display():\n",
    "        print(Test.a, Test.b, Test.c)\n",
    "\n",
    "ob1= Test()\n",
    "ob2= Test()\n",
    "\n",
    "ob1.a= 10\n",
    "ob2.a= 20\n",
    "\n",
    "Test.c=30\n",
    "\n",
    "ob1.show()    #각각의 show() 호출\n",
    "ob2.show()\n",
    "\n",
    "Test.display()     #공동의 display() 호출\n",
    "ob1.display()\n",
    "ob1.c"
   ]
  },
  {
   "cell_type": "code",
   "execution_count": 148,
   "id": "da3935a7",
   "metadata": {},
   "outputs": [],
   "source": [
    "ob1.c += 10\n",
    "Test.c += 10\n",
    "\n",
    "#Test.c로 수정했을때는 객체 모두 수정\n",
    "#ob1.c로 수정했을때는 ob1만 수정"
   ]
  },
  {
   "cell_type": "code",
   "execution_count": 149,
   "id": "95cdbf0f",
   "metadata": {},
   "outputs": [
    {
     "data": {
      "text/plain": [
       "40"
      ]
     },
     "execution_count": 149,
     "metadata": {},
     "output_type": "execute_result"
    }
   ],
   "source": [
    "ob1.c\n",
    "ob2.c"
   ]
  },
  {
   "cell_type": "code",
   "execution_count": 3,
   "id": "227e43e4",
   "metadata": {
    "scrolled": true
   },
   "outputs": [
    {
     "name": "stdout",
     "output_type": "stream",
     "text": [
      "객체의 수:  3\n",
      "객체의 수:  3\n",
      "객체의 수:  3\n",
      "객체의 수:  3\n"
     ]
    }
   ],
   "source": [
    "# 객체의 수 카운팅\n",
    "\n",
    "class Counter:\n",
    "    m_cnt=0\n",
    "    \n",
    "    def __init__(self):\n",
    "        Counter.m_cnt += 1\n",
    "    \n",
    "    @staticmethod    \n",
    "    def show():\n",
    "        print(\"객체의 수: \", Counter.m_cnt)\n",
    "        \n",
    "a,b,c= Counter(), Counter(), Counter()\n",
    "\n",
    "a.show()\n",
    "b.show()\n",
    "c.show()\n",
    "Counter.show()"
   ]
  },
  {
   "cell_type": "code",
   "execution_count": 151,
   "id": "b457a6d4",
   "metadata": {},
   "outputs": [
    {
     "name": "stdout",
     "output_type": "stream",
     "text": [
      "객체의 수:  4\n"
     ]
    }
   ],
   "source": [
    "d=Counter()\n",
    "Counter.show()"
   ]
  },
  {
   "cell_type": "code",
   "execution_count": 152,
   "id": "968a4a9e",
   "metadata": {},
   "outputs": [
    {
     "name": "stdout",
     "output_type": "stream",
     "text": [
      "\n",
      "결과:\n",
      "    사번: 1111\n",
      "    이름: 홍길동\n",
      "    급여: 1000000\n",
      "    취미: ['여행', '낚시', '운동']\n",
      "인원수 :  3\n",
      "\n",
      "결과:\n",
      "    사번: 1113\n",
      "    이름: 신돌석\n",
      "    급여: 2000000\n",
      "    취미: ['독서', '피아노', '드론']\n"
     ]
    }
   ],
   "source": [
    "\"\"\"\n",
    "e1 = Employee(1111, \"홍길동\", 1000000, [\"여행\", \"낚시\", \"운동\"])\n",
    "e1.display()\n",
    "\n",
    "결과 :\n",
    "    사번 : 1111\n",
    "    이름 : 홍길동\n",
    "    급여 : 1000000\n",
    "    취미 : 여행, 낚시, 운동\n",
    "    \n",
    "e2 = Employee(1112, \"임꺽정\", 1200000, [\"자전거\", \"볼링\"])\n",
    "e3 = Employee(1113, \"신돌석\", 1400000, [\"독서\"])\n",
    "\n",
    "total = Employee.getCount()\n",
    "print(\"인원수 : \", total)\n",
    "\n",
    "# 데이터 수정\n",
    "e3.setSalary(2000000)\n",
    "e3.appendHobby(\"피아노\", \"드론\")\n",
    "e3.display()\n",
    "\n",
    "결과 :\n",
    "    사번 : 1113\n",
    "    이름 : 신돌석\n",
    "    급여 : 2000000\n",
    "    취미 : 독서, 피아노, 드론\n",
    "\"\"\"\n",
    "\n",
    "class Employee:\n",
    "    cnt=0\n",
    "    \n",
    "    def __init__(self, empno, name, salary, hobbies):\n",
    "        self.empno= empno\n",
    "        self.name= name\n",
    "        self.salary= salary\n",
    "        self.hobbies= hobbies\n",
    "        Employee.cnt+=1\n",
    "    \n",
    "    def display(self):\n",
    "        print(f'''\n",
    "결과:\n",
    "    사번: {self.empno}\n",
    "    이름: {self.name}\n",
    "    급여: {self.salary}\n",
    "    취미: {self.hobbies}''')\n",
    "        \n",
    "    @staticmethod\n",
    "    def getCount():\n",
    "        return Employee.cnt\n",
    "    \n",
    "    def setSalary(self, newSal):\n",
    "        self.salary= newSal\n",
    "        \n",
    "    def appendHobby(self, *newHobi):\n",
    "        self.hobbies.extend(newHobi)\n",
    "\n",
    "e1 = Employee(1111, \"홍길동\", 1000000, [\"여행\", \"낚시\", \"운동\"])\n",
    "e1.display()\n",
    "\n",
    "    \n",
    "e2 = Employee(1112, \"임꺽정\", 1200000, [\"자전거\", \"볼링\"])\n",
    "e3 = Employee(1113, \"신돌석\", 1400000, [\"독서\"])\n",
    "\n",
    "total = Employee.getCount()\n",
    "print(\"인원수 : \", total)\n",
    "\n",
    "e3.setSalary(2000000)\n",
    "e3.appendHobby(\"피아노\", \"드론\")\n",
    "e3.display()"
   ]
  },
  {
   "cell_type": "markdown",
   "id": "c46eb36a",
   "metadata": {},
   "source": [
    "### 객체의 멤버변수를 실시간 추가\n",
    "- 원래 설계된 멤버변수 외에 객체별로 멤버변수를 추가할 수 있다."
   ]
  },
  {
   "cell_type": "code",
   "execution_count": 153,
   "id": "9b03fe7d",
   "metadata": {},
   "outputs": [
    {
     "name": "stdout",
     "output_type": "stream",
     "text": [
      "0\n",
      "0\n",
      "20\n"
     ]
    }
   ],
   "source": [
    "class Test:\n",
    "    a=0\n",
    "    \n",
    "    def display(self):\n",
    "        print(self.a)\n",
    "        \n",
    "ob1=Test()\n",
    "ob1.display()\n",
    "\n",
    "ob2=Test()\n",
    "ob2.display()\n",
    "\n",
    "ob2.b= 20   #미리 지정되지 않은 변수를 즉석에서 생성. 이 객체에만\n",
    "print(ob2.b)\n",
    "#print(ob1.b)   ob1에는 없음"
   ]
  },
  {
   "cell_type": "markdown",
   "id": "b287bace",
   "metadata": {},
   "source": [
    "### _ 와 _ _\n",
    "\n",
    "_ : \n",
    "    \n",
    "    기본 인터프리터(cmd)에서 사용(마지막으로 사용된 결과값을 불러올 때)\n",
    "    값을 무시     a, * _ = 10, 20, 30\n",
    "    약한 접근 권한을 지정(접근 가능)\n",
    "__ : \n",
    "    \n",
    "    강한 접근 권한(이름을 바꿔서 접근 못하게함)"
   ]
  },
  {
   "cell_type": "code",
   "execution_count": 154,
   "id": "7d6d405e",
   "metadata": {},
   "outputs": [
    {
     "name": "stdout",
     "output_type": "stream",
     "text": [
      "0\n",
      "1\n",
      "2\n",
      "3\n",
      "4\n",
      "0\n",
      "1\n",
      "2\n",
      "3\n",
      "4\n"
     ]
    },
    {
     "ename": "AttributeError",
     "evalue": "'Test' object has no attribute '__str3'",
     "output_type": "error",
     "traceback": [
      "\u001b[1;31m---------------------------------------------------------------------------\u001b[0m",
      "\u001b[1;31mAttributeError\u001b[0m                            Traceback (most recent call last)",
      "\u001b[1;32m~\\AppData\\Local\\Temp\\ipykernel_22408\\3232943074.py\u001b[0m in \u001b[0;36m<module>\u001b[1;34m\u001b[0m\n\u001b[0;32m     11\u001b[0m \u001b[0mob1\u001b[0m\u001b[1;33m=\u001b[0m \u001b[0mTest\u001b[0m\u001b[1;33m(\u001b[0m\u001b[1;33m)\u001b[0m\u001b[1;33m\u001b[0m\u001b[1;33m\u001b[0m\u001b[0m\n\u001b[0;32m     12\u001b[0m \u001b[0mob1\u001b[0m\u001b[1;33m.\u001b[0m\u001b[0m_str2\u001b[0m\u001b[1;33m\u001b[0m\u001b[1;33m\u001b[0m\u001b[0m\n\u001b[1;32m---> 13\u001b[1;33m \u001b[0mob1\u001b[0m\u001b[1;33m.\u001b[0m\u001b[0m__str3\u001b[0m\u001b[1;33m\u001b[0m\u001b[1;33m\u001b[0m\u001b[0m\n\u001b[0m",
      "\u001b[1;31mAttributeError\u001b[0m: 'Test' object has no attribute '__str3'"
     ]
    }
   ],
   "source": [
    "for idx, value in enumerate([1,2,3,4,5]):\n",
    "    print(idx)\n",
    "    \n",
    "for idx, _ in enumerate([1,2,3,4,5]):\n",
    "    print(idx)\n",
    "    \n",
    "class Test:\n",
    "    str1= '안녕하세요'\n",
    "    _str2= '약간 위험한 변수이니 사용하지 마세요'\n",
    "    __str3= '강한 접근 권한'\n",
    "ob1= Test()\n",
    "ob1._str2\n",
    "ob1.__str3"
   ]
  },
  {
   "cell_type": "markdown",
   "id": "1c682715",
   "metadata": {},
   "source": [
    "## 상속\n",
    "- 코드의 재사용성. 시간과 비용 단축\n",
    "- 부모 클래스는 무조건 최소로. 공통적인 것만\n",
    "- 자식 클래스는 반드시 기능을 확장(추가)시켜야 한다\n",
    "- 중복된 기능이 있어서는 안된다???\n",
    "\n",
    "- 오버라이딩: 재정의. 다형성\n",
    "    부모클래스와 형식 같게 자식클래스에 작성\n",
    "- 다중 상속 지원(중복 주의)\n",
    "- 포함은 상속과 비슷"
   ]
  },
  {
   "cell_type": "code",
   "execution_count": 155,
   "id": "60758da2",
   "metadata": {},
   "outputs": [],
   "source": [
    "class Animal: \n",
    "    def move(self):\n",
    "        print('움직인다')\n",
    "        \n",
    "class Dog(Animal):\n",
    "    def bark(self):\n",
    "        print('멍멍')\n",
    "    \n",
    "class Horse(Animal):\n",
    "    def speed(self):\n",
    "        print('빠르다')"
   ]
  },
  {
   "cell_type": "code",
   "execution_count": 156,
   "id": "539118a5",
   "metadata": {},
   "outputs": [],
   "source": [
    "class Calculator:\n",
    "    first = 0\n",
    "    second = 0\n",
    "    \n",
    "    def __init__(self, first=None, second=None):\n",
    "        self.first = first\n",
    "        self.second = second\n",
    "        \n",
    "    def setData(self, first=None, second=None):\n",
    "        self.first = first\n",
    "        self.second = second\n",
    "        \n",
    "    def sum(self):\n",
    "        return self.first + self.second\n",
    "    \n",
    "    def div(self):\n",
    "        return self.first / self.second\n",
    "    \n",
    "    def mul(self):\n",
    "        return self.first * self.second\n",
    "    \n",
    "    def sub(self):\n",
    "        return self.first - self.second"
   ]
  },
  {
   "cell_type": "code",
   "execution_count": 157,
   "id": "2d211978",
   "metadata": {},
   "outputs": [
    {
     "name": "stdout",
     "output_type": "stream",
     "text": [
      "30\n"
     ]
    }
   ],
   "source": [
    "cal1= Calculator\n",
    "cal1= Calculator(10,20)\n",
    "print(cal1.sum())"
   ]
  },
  {
   "cell_type": "code",
   "execution_count": 158,
   "id": "88feec7c",
   "metadata": {},
   "outputs": [],
   "source": [
    "class Calculator2(Calculator):\n",
    "    def pow(self):\n",
    "        return self.first ** self.second\n",
    "    \n",
    "    def div(self):          #상속\n",
    "        if self.second ==0:\n",
    "            return \"0으로 나누면 안됩니다.\"\n",
    "        else:\n",
    "            return self.fisrt / self.second\n",
    "     "
   ]
  },
  {
   "cell_type": "code",
   "execution_count": 159,
   "id": "e822900b",
   "metadata": {},
   "outputs": [],
   "source": [
    "class phandle:\n",
    "    q=0\n",
    "    \n",
    "    def leftturn(self, q):\n",
    "        self.q= q\n",
    "        return '좌'\n",
    "    def rightturn(self, q):\n",
    "        self.q= q\n",
    "        return '우'\n",
    "    \n",
    "class pcar:\n",
    "    ts='정지'\n",
    "    \n",
    "    def __init__(self,name):\n",
    "        self.name= name\n",
    "        self.handle= phandle()\n",
    "        \n",
    "    def turnhandle(self,qq):\n",
    "        if qq>0:\n",
    "            self.ts= self.handle.rightturn(qq)\n",
    "        elif qq<0:\n",
    "            self.ts= self.handle.leftturn(qq)\n",
    "            \n",
    "tom=pcar('tom')\n",
    "tom.turnhandle(10)"
   ]
  },
  {
   "cell_type": "code",
   "execution_count": 160,
   "id": "cbbc1cee",
   "metadata": {},
   "outputs": [
    {
     "name": "stdout",
     "output_type": "stream",
     "text": [
      "동전을 입력하세요: \n"
     ]
    },
    {
     "ename": "ValueError",
     "evalue": "invalid literal for int() with base 10: ''",
     "output_type": "error",
     "traceback": [
      "\u001b[1;31m---------------------------------------------------------------------------\u001b[0m",
      "\u001b[1;31mValueError\u001b[0m                                Traceback (most recent call last)",
      "\u001b[1;32m~\\AppData\\Local\\Temp\\ipykernel_22408\\2891407942.py\u001b[0m in \u001b[0;36m<module>\u001b[1;34m\u001b[0m\n\u001b[0;32m     26\u001b[0m \u001b[1;33m\u001b[0m\u001b[0m\n\u001b[0;32m     27\u001b[0m \u001b[1;33m\u001b[0m\u001b[0m\n\u001b[1;32m---> 28\u001b[1;33m \u001b[0md\u001b[0m\u001b[1;33m=\u001b[0m\u001b[0mMachine\u001b[0m\u001b[1;33m(\u001b[0m\u001b[1;33m)\u001b[0m\u001b[1;33m\u001b[0m\u001b[1;33m\u001b[0m\u001b[0m\n\u001b[0m\u001b[0;32m     29\u001b[0m \u001b[0md\u001b[0m\u001b[1;33m.\u001b[0m\u001b[0mshowData\u001b[0m\u001b[1;33m(\u001b[0m\u001b[1;33m)\u001b[0m\u001b[1;33m\u001b[0m\u001b[1;33m\u001b[0m\u001b[0m\n",
      "\u001b[1;32m~\\AppData\\Local\\Temp\\ipykernel_22408\\2891407942.py\u001b[0m in \u001b[0;36m__init__\u001b[1;34m(self)\u001b[0m\n\u001b[0;32m      3\u001b[0m \u001b[1;33m\u001b[0m\u001b[0m\n\u001b[0;32m      4\u001b[0m     \u001b[1;32mdef\u001b[0m \u001b[0m__init__\u001b[0m\u001b[1;33m(\u001b[0m\u001b[0mself\u001b[0m\u001b[1;33m)\u001b[0m\u001b[1;33m:\u001b[0m\u001b[1;33m\u001b[0m\u001b[1;33m\u001b[0m\u001b[0m\n\u001b[1;32m----> 5\u001b[1;33m         \u001b[0mself\u001b[0m\u001b[1;33m.\u001b[0m\u001b[0mcoinIn\u001b[0m\u001b[1;33m=\u001b[0m \u001b[0mCoinIn\u001b[0m\u001b[1;33m(\u001b[0m\u001b[1;33m)\u001b[0m\u001b[1;33m\u001b[0m\u001b[1;33m\u001b[0m\u001b[0m\n\u001b[0m\u001b[0;32m      6\u001b[0m         \u001b[0mMachine\u001b[0m\u001b[1;33m.\u001b[0m\u001b[0mcupCount\u001b[0m\u001b[1;33m=\u001b[0m\u001b[0mint\u001b[0m\u001b[1;33m(\u001b[0m\u001b[0minput\u001b[0m\u001b[1;33m(\u001b[0m\u001b[1;34m'몇 잔을 원하세요:'\u001b[0m\u001b[1;33m)\u001b[0m\u001b[1;33m)\u001b[0m\u001b[1;33m\u001b[0m\u001b[1;33m\u001b[0m\u001b[0m\n\u001b[0;32m      7\u001b[0m         \u001b[0mself\u001b[0m\u001b[1;33m.\u001b[0m\u001b[0mcoinIn\u001b[0m\u001b[1;33m.\u001b[0m\u001b[0mcalc\u001b[0m\u001b[1;33m(\u001b[0m\u001b[0mMachine\u001b[0m\u001b[1;33m.\u001b[0m\u001b[0mcupCount\u001b[0m\u001b[1;33m)\u001b[0m\u001b[1;33m\u001b[0m\u001b[1;33m\u001b[0m\u001b[0m\n",
      "\u001b[1;32m~\\AppData\\Local\\Temp\\ipykernel_22408\\2891407942.py\u001b[0m in \u001b[0;36m__init__\u001b[1;34m(self)\u001b[0m\n\u001b[0;32m     16\u001b[0m \u001b[1;33m\u001b[0m\u001b[0m\n\u001b[0;32m     17\u001b[0m     \u001b[1;32mdef\u001b[0m \u001b[0m__init__\u001b[0m\u001b[1;33m(\u001b[0m\u001b[0mself\u001b[0m\u001b[1;33m)\u001b[0m\u001b[1;33m:\u001b[0m\u001b[1;33m\u001b[0m\u001b[1;33m\u001b[0m\u001b[0m\n\u001b[1;32m---> 18\u001b[1;33m         \u001b[0mself\u001b[0m\u001b[1;33m.\u001b[0m\u001b[0mcoin\u001b[0m\u001b[1;33m=\u001b[0m\u001b[0mint\u001b[0m\u001b[1;33m(\u001b[0m\u001b[0minput\u001b[0m\u001b[1;33m(\u001b[0m\u001b[1;34m'동전을 입력하세요: '\u001b[0m\u001b[1;33m)\u001b[0m\u001b[1;33m)\u001b[0m\u001b[1;33m\u001b[0m\u001b[1;33m\u001b[0m\u001b[0m\n\u001b[0m\u001b[0;32m     19\u001b[0m         \u001b[1;32mif\u001b[0m \u001b[0mself\u001b[0m\u001b[1;33m.\u001b[0m\u001b[0mcoin\u001b[0m\u001b[1;33m<\u001b[0m\u001b[1;36m200\u001b[0m\u001b[1;33m:\u001b[0m\u001b[1;33m\u001b[0m\u001b[1;33m\u001b[0m\u001b[0m\n\u001b[0;32m     20\u001b[0m             \u001b[0mprint\u001b[0m\u001b[1;33m(\u001b[0m\u001b[1;34m'요금 부족'\u001b[0m\u001b[1;33m)\u001b[0m\u001b[1;33m\u001b[0m\u001b[1;33m\u001b[0m\u001b[0m\n",
      "\u001b[1;31mValueError\u001b[0m: invalid literal for int() with base 10: ''"
     ]
    }
   ],
   "source": [
    "class Machine:\n",
    "    cupCount=1\n",
    "    \n",
    "    def __init__(self):\n",
    "        self.coinIn= CoinIn()\n",
    "        Machine.cupCount=int(input('몇 잔을 원하세요:'))\n",
    "        self.coinIn.calc(Machine.cupCount)\n",
    "        \n",
    "    def showData(self):\n",
    "        if self.coinIn.change>0:\n",
    "            print(f'커피 {Machine.cupCount}잔과 잔돈 {self.coinIn.change}원')\n",
    "\n",
    "class CoinIn:\n",
    "    coin=0\n",
    "    change=0\n",
    "\n",
    "    def __init__(self):\n",
    "        self.coin=int(input('동전을 입력하세요: '))\n",
    "        if self.coin<200:\n",
    "            print('요금 부족')\n",
    "            \n",
    "    def calc(self, cupCount):\n",
    "        self.change= (self.coin - (Machine.cupCount*200))\n",
    "        if (self.coin - (Machine.cupCount*200))<0:\n",
    "            print('요금 부족')\n",
    "        \n",
    "        \n",
    "d=Machine()   \n",
    "d.showData()"
   ]
  },
  {
   "cell_type": "markdown",
   "id": "1956bf50",
   "metadata": {},
   "source": [
    "### super()\n",
    "\n",
    "부모클래스 super <-> 자식클래스 sub\n",
    "\n",
    "자식클래스에서 부모클래스에 접근해야할 때. 부모 객체의 주소를 참조"
   ]
  },
  {
   "cell_type": "code",
   "execution_count": 24,
   "id": "b5657f43",
   "metadata": {},
   "outputs": [],
   "source": [
    "class Person:\n",
    "    say= '사람'\n",
    "    age= 20\n",
    "    \n",
    "    def info(self):\n",
    "        print(f'나이: {self.age}, 하고싶은말: {self.say}')\n",
    "        \n",
    "    def __init__(self):\n",
    "        print('Person Class')\n",
    "        \n",
    "class Employee(Person):\n",
    "    def __init__(self):         #생성자는 상속 안됨\n",
    "        print('Employee Class')\n",
    "        \n",
    "    def info(self):\n",
    "        print(self.say)\n",
    "        print(self.age)\n",
    "        print(super().say)\n",
    "        super().info()\n",
    "    \n",
    "    say= '회사원'"
   ]
  },
  {
   "cell_type": "code",
   "execution_count": 25,
   "id": "a6cca14a",
   "metadata": {},
   "outputs": [
    {
     "name": "stdout",
     "output_type": "stream",
     "text": [
      "Employee Class\n",
      "회사원\n",
      "20\n",
      "사람\n",
      "나이: 20, 하고싶은말: 회사원\n"
     ]
    }
   ],
   "source": [
    "n= Employee()\n",
    "n.info()"
   ]
  },
  {
   "cell_type": "markdown",
   "id": "ed561548",
   "metadata": {},
   "source": [
    "## 고급함수\n",
    "\n",
    "### (1) 변수의 유효(생존) 범위: global, nonlocal\n",
    "전역변수는 꼭 필요할 때만 사용. 지역변수 사용이 더 바람직.\n"
   ]
  },
  {
   "cell_type": "code",
   "execution_count": 42,
   "id": "f68700ee",
   "metadata": {},
   "outputs": [
    {
     "name": "stdout",
     "output_type": "stream",
     "text": [
      "kbs2 2\n",
      "kbs1 2\n",
      "100\n"
     ]
    }
   ],
   "source": [
    "a=100\n",
    "\n",
    "def kbs1():\n",
    "#     global a \n",
    "    a=1\n",
    "    \n",
    "    def kbs2():\n",
    "        nonlocal a      #지역도 아니고 전역도 아닌.. kbs1의 a\n",
    "        a=2\n",
    "        print('kbs2',a)\n",
    "        \n",
    "    kbs2()\n",
    "    print('kbs1',a)\n",
    "\n",
    "kbs1()\n",
    "#kbs2()       #포함된 함수는 단독으로 실행 불가능\n",
    "print(a)"
   ]
  },
  {
   "cell_type": "markdown",
   "id": "6b95d2d7",
   "metadata": {},
   "source": [
    "### (2)클로저(closer)\n",
    "함수 밖에서 임의의 함수 안에 선언된 지역변수를 계속 참조할 수 있게 하는 방법\n",
    "함수 안의 함수를 밖에서 실행시킬 수 있는 방법"
   ]
  },
  {
   "cell_type": "code",
   "execution_count": 58,
   "id": "752ba603",
   "metadata": {},
   "outputs": [
    {
     "name": "stdout",
     "output_type": "stream",
     "text": [
      "7\n",
      "2\n",
      "1\n"
     ]
    }
   ],
   "source": [
    "def out():\n",
    "    count=0\n",
    "    def inn(t):\n",
    "        nonlocal count\n",
    "        count+=1\n",
    "        print(t)\n",
    "#         print(count)\n",
    "        \n",
    "    return inn      #out에 inn의 주소 return\n",
    "    \n",
    "    \n",
    "a=out()    #a에는 inn의 주소 저장돼있음\n",
    "a(7)     #inn(7)과 같은 결과\n",
    "a(2)\n",
    "a(1)"
   ]
  },
  {
   "cell_type": "code",
   "execution_count": 59,
   "id": "7c084151",
   "metadata": {},
   "outputs": [
    {
     "name": "stdout",
     "output_type": "stream",
     "text": [
      "1250.0\n",
      "700.0\n"
     ]
    }
   ],
   "source": [
    "def out(tax):\n",
    "    def inn(su, dan):\n",
    "        rate= (su*dan)*tax\n",
    "        return rate\n",
    "    return inn\n",
    "\n",
    "tax_rate=out(0.05)       #세율이 0.05\n",
    "\n",
    "mouse= tax_rate(5,5000)      #0.05인 세율로 계산\n",
    "print(mouse)\n",
    "\n",
    "usb= tax_rate(7,2000)\n",
    "print(usb)"
   ]
  },
  {
   "cell_type": "markdown",
   "id": "4bd218b4",
   "metadata": {},
   "source": [
    "### (3)람다함수(무명함수, 익명함수, 인라인함수)\n",
    "코드 축약 like 리스트 컴프리헨션 \n",
    "\n",
    "한번만 쓰는 함수\n",
    "\n",
    "리스트를 한줄로 작성 -> [i for i in range(10)]"
   ]
  },
  {
   "cell_type": "code",
   "execution_count": 67,
   "id": "3eecb9a4",
   "metadata": {},
   "outputs": [
    {
     "name": "stdout",
     "output_type": "stream",
     "text": [
      "30\n"
     ]
    },
    {
     "data": {
      "text/plain": [
       "50"
      ]
     },
     "execution_count": 67,
     "metadata": {},
     "output_type": "execute_result"
    }
   ],
   "source": [
    "def hap(x,y):\n",
    "    return x+y\n",
    "\n",
    "\n",
    "result= hap(10,20)\n",
    "print(result)\n",
    "\n",
    "(lambda x,y :x+y)(20,30)"
   ]
  },
  {
   "cell_type": "code",
   "execution_count": 69,
   "id": "4ce8f69c",
   "metadata": {},
   "outputs": [
    {
     "data": {
      "text/plain": [
       "30"
      ]
     },
     "execution_count": 69,
     "metadata": {},
     "output_type": "execute_result"
    }
   ],
   "source": [
    "hap1= (lambda x,y=20: x+y)\n",
    "hap1(10)"
   ]
  },
  {
   "cell_type": "code",
   "execution_count": 71,
   "id": "4bafb511",
   "metadata": {},
   "outputs": [
    {
     "name": "stdout",
     "output_type": "stream",
     "text": [
      "10 (20, 30) {}\n",
      "1 (2, 3, 4, 5) {'m': 6, 'n': 7}\n",
      "10 (20, 30) {}\n",
      "1 (2, 3, 4, 5) {'m': 6, 'n': 7}\n"
     ]
    }
   ],
   "source": [
    "def func_test(a, *b, **c):\n",
    "    print(a,b,c)\n",
    "    \n",
    "func_test(10,20,30)\n",
    "func_test(1,2,3,4,5,m=6,n=7)\n",
    "\n",
    "\n",
    "(lambda a, *b, **c:print(a,b,c))(10,20,30)\n",
    "(lambda a, *b, **c:print(a,b,c))(1,2,3,4,5,m=6,n=7)"
   ]
  },
  {
   "cell_type": "code",
   "execution_count": 73,
   "id": "a03c45b0",
   "metadata": {},
   "outputs": [
    {
     "data": {
      "text/plain": [
       "[1, 4, 3, 16, 5]"
      ]
     },
     "execution_count": 73,
     "metadata": {},
     "output_type": "execute_result"
    }
   ],
   "source": [
    "ex=[1,2,3,4,5]\n",
    "def func_test(x):\n",
    "    if x%2==0:\n",
    "        return x**2\n",
    "    else:\n",
    "        return x\n",
    "\n",
    "list(map(func_test,ex))           # map 잘 이용하기. list로 묶어야 보임\n",
    "[func_test(x) for x in ex]"
   ]
  },
  {
   "cell_type": "code",
   "execution_count": 88,
   "id": "21ff545b",
   "metadata": {},
   "outputs": [
    {
     "data": {
      "text/plain": [
       "[1, 4, 3, 16, 5]"
      ]
     },
     "execution_count": 88,
     "metadata": {},
     "output_type": "execute_result"
    }
   ],
   "source": [
    "ex=[1,2,3,4,5]\n",
    "[(lambda x: x**2 if x%2==0 else x) for i in ex]\n",
    "list(map(lambda x: x**2 if x%2==0 else x,ex))   #삼항연산자, map, lambda 사용"
   ]
  },
  {
   "cell_type": "markdown",
   "id": "ee5c82ee",
   "metadata": {},
   "source": [
    "### (4) 함수 장식자(decorator)\n",
    "\n",
    "함수 감싸기(wrapping)를 해주는 디자인 패턴"
   ]
  },
  {
   "cell_type": "code",
   "execution_count": 106,
   "id": "12a352c2",
   "metadata": {},
   "outputs": [
    {
     "name": "stdout",
     "output_type": "stream",
     "text": [
      "반가워홍길동\n",
      "안녕반가워홍길동\n"
     ]
    }
   ],
   "source": [
    "def hello():\n",
    "    return '홍길동'\n",
    "\n",
    "def make1(fn):\n",
    "    return lambda:\"반가워\"+fn()      #함수를 받을거라고 특정??\n",
    "\n",
    "def make2(fn):\n",
    "    return lambda:\"안녕\"+fn()\n",
    "\n",
    "\n",
    "hi1= make1(hello)    #함수의 주소를 받음\n",
    "print(hi1())\n",
    "\n",
    "hi2=make2(make1(hello))\n",
    "print(hi2())"
   ]
  },
  {
   "cell_type": "code",
   "execution_count": 103,
   "id": "3f22e5d9",
   "metadata": {},
   "outputs": [
    {
     "name": "stdout",
     "output_type": "stream",
     "text": [
      "안녕반가워홍길동\n"
     ]
    }
   ],
   "source": [
    "def make1(fn):\n",
    "    return lambda:\"반가워\"+fn()      #함수를 받을거라고 특정??\n",
    "\n",
    "def make2(fn):\n",
    "    return lambda:\"안녕\"+fn()\n",
    "\n",
    "@make2\n",
    "@make1\n",
    "\n",
    "def hello():\n",
    "    return '홍길동'\n",
    "\n",
    "print(hello())"
   ]
  },
  {
   "cell_type": "code",
   "execution_count": null,
   "id": "5cd764ec",
   "metadata": {},
   "outputs": [],
   "source": []
  }
 ],
 "metadata": {
  "kernelspec": {
   "display_name": "Python 3 (ipykernel)",
   "language": "python",
   "name": "python3"
  },
  "language_info": {
   "codemirror_mode": {
    "name": "ipython",
    "version": 3
   },
   "file_extension": ".py",
   "mimetype": "text/x-python",
   "name": "python",
   "nbconvert_exporter": "python",
   "pygments_lexer": "ipython3",
   "version": "3.9.13"
  }
 },
 "nbformat": 4,
 "nbformat_minor": 5
}
