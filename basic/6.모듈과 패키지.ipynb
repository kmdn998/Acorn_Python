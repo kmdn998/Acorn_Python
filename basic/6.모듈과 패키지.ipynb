{
 "cells": [
  {
   "cell_type": "markdown",
   "id": "d4bc851e",
   "metadata": {},
   "source": [
    "## 1. 모듈(Module)\n",
    "\n",
    "### 1-1. 정의\n",
    "    - 비슷하거나 관련된 일을 하는 함수, 클래스, 상수값들을 모아서 하나의 파일에 저장하고 추후에 재사용하기 위한 목적\n",
    "    - 하나의 .py파일\n",
    "\n",
    "### 1-2. 종류\n",
    "    - 표준 모듈\n",
    "    - 사용자 정의 모듈\n",
    "    - 서드 파티 모듈\n",
    "    \n",
    "### 1-3. 선언 방법\n",
    "    - import 모듈명        -> 모듈명.함수명 으로 접근\n",
    "    - import 모듈명 as 별명\n",
    "    - from 모듈명 import 클래스, 함수, 상수    -> 모듈이름 빼고 쓰기\n",
    "    - from 모듈명 import *         -> 바로 함수명으로 이용가능\n",
    "    - from 모듈명 import 이름 as 별명\n",
    "    \n",
    "### 1-4. 모듈 참조 경로\n",
    "    - 현재 위치(같은 경로)        현재파일과 같은 위치에 있는 모듈\n",
    "    - 기존 path                 환경변수에 등록된 path\n",
    "    - (추천)sys 모듈을이용해서 path경로 추가     (임시)  \n",
    "        - sys.path.append('경로')\n",
    "    - window의 환경변수에 path 추가              (영구)"
   ]
  },
  {
   "cell_type": "code",
   "execution_count": 5,
   "id": "e9361b93",
   "metadata": {},
   "outputs": [
    {
     "name": "stdout",
     "output_type": "stream",
     "text": [
      "['C:\\\\kim\\\\python\\\\basic', 'C:\\\\Users\\\\acorn\\\\anaconda3\\\\python39.zip', 'C:\\\\Users\\\\acorn\\\\anaconda3\\\\DLLs', 'C:\\\\Users\\\\acorn\\\\anaconda3\\\\lib', 'C:\\\\Users\\\\acorn\\\\anaconda3', '', 'C:\\\\Users\\\\acorn\\\\anaconda3\\\\lib\\\\site-packages', 'C:\\\\Users\\\\acorn\\\\anaconda3\\\\lib\\\\site-packages\\\\win32', 'C:\\\\Users\\\\acorn\\\\anaconda3\\\\lib\\\\site-packages\\\\win32\\\\lib', 'C:\\\\Users\\\\acorn\\\\anaconda3\\\\lib\\\\site-packages\\\\Pythonwin', 'C:\\\\Users\\\\acorn\\\\anaconda3\\\\lib\\\\site-packages\\\\IPython\\\\extensions', 'C:\\\\Users\\\\acorn\\\\.ipython', 'C:/kim/python/lib']\n"
     ]
    }
   ],
   "source": [
    "import sys\n",
    "sys.path.append('C:/kim/python/lib')\n",
    "print(sys.path)"
   ]
  },
  {
   "cell_type": "code",
   "execution_count": 3,
   "id": "4b8a5239",
   "metadata": {},
   "outputs": [
    {
     "name": "stdout",
     "output_type": "stream",
     "text": [
      "파이썬 주식회사\n",
      "30\n",
      "200\n"
     ]
    }
   ],
   "source": [
    "import mymodule\n",
    "\n",
    "print(mymodule.company)\n",
    "print(mymodule.sum(10,20))\n",
    "cal= mymodule.Calculator(10,20)\n",
    "print(cal.mul())"
   ]
  },
  {
   "cell_type": "code",
   "execution_count": 8,
   "id": "a1ff07fc",
   "metadata": {},
   "outputs": [
    {
     "name": "stdout",
     "output_type": "stream",
     "text": [
      "파이썬 주식회사\n",
      "200\n"
     ]
    }
   ],
   "source": [
    "from mymodule import company as com, Calculator as cal \n",
    "\n",
    "print(com)\n",
    "calc= cal(10,20)\n",
    "print(calc.mul())"
   ]
  },
  {
   "cell_type": "markdown",
   "id": "7fe5289d",
   "metadata": {},
   "source": [
    "## 2.패키지\n",
    "    - 여러 모듈을 모아 둔 폴더\n",
    "    \n",
    "### 실습 환경\n",
    "    game\n",
    "        sound\n",
    "            echo.py\n",
    "        graphic\n",
    "            screen.py"
   ]
  }
 ],
 "metadata": {
  "kernelspec": {
   "display_name": "Python 3 (ipykernel)",
   "language": "python",
   "name": "python3"
  },
  "language_info": {
   "codemirror_mode": {
    "name": "ipython",
    "version": 3
   },
   "file_extension": ".py",
   "mimetype": "text/x-python",
   "name": "python",
   "nbconvert_exporter": "python",
   "pygments_lexer": "ipython3",
   "version": "3.9.13"
  }
 },
 "nbformat": 4,
 "nbformat_minor": 5
}
