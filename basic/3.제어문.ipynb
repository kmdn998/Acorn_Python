{
 "cells": [
  {
   "cell_type": "markdown",
   "id": "ebe44900",
   "metadata": {},
   "source": [
    "## 1. 입력 기능"
   ]
  },
  {
   "cell_type": "code",
   "execution_count": 1,
   "id": "a77d2a20",
   "metadata": {},
   "outputs": [
    {
     "name": "stdout",
     "output_type": "stream",
     "text": [
      "당신의 이름은?뉴진스\n",
      "안녕하세요 뉴진스님\n"
     ]
    }
   ],
   "source": [
    "name= input('당신의 이름은?')\n",
    "print('안녕하세요 {}님'.format(name))"
   ]
  },
  {
   "cell_type": "code",
   "execution_count": 3,
   "id": "90c65dd2",
   "metadata": {},
   "outputs": [
    {
     "name": "stdout",
     "output_type": "stream",
     "text": [
      "숫자 입력: 1\n",
      "숫자 입력: 2\n",
      "결과= 3\n"
     ]
    }
   ],
   "source": [
    "num1= int(input(\"숫자 입력: \"))\n",
    "num2= int(input(\"숫자 입력: \"))\n",
    "\n",
    "print('결과= {}'.format(num1 + num2))"
   ]
  },
  {
   "cell_type": "markdown",
   "id": "4209a6b8",
   "metadata": {},
   "source": [
    "## 2. 조건문\n",
    "- 형식\n",
    "    \n",
    "    if 조건식:\n",
    "        문장\n",
    "        ...\n",
    "        pass\n",
    "    elif 조건식:\n",
    "        ...\n",
    "    [ else:\n",
    "        ...]\n",
    "        \n",
    "    if 조건식: 문장   <- 한줄인 경우"
   ]
  },
  {
   "cell_type": "code",
   "execution_count": 8,
   "id": "2583ea13",
   "metadata": {},
   "outputs": [
    {
     "name": "stdout",
     "output_type": "stream",
     "text": [
      "숫자 입력: 3\n",
      "홀수\n"
     ]
    }
   ],
   "source": [
    "num= int(input('숫자 입력: '))\n",
    "\n",
    "if(num%2==0): print('짝수') \n",
    "else: print('홀수')"
   ]
  },
  {
   "cell_type": "code",
   "execution_count": 10,
   "id": "f1fd1084",
   "metadata": {
    "scrolled": true
   },
   "outputs": [
    {
     "name": "stdout",
     "output_type": "stream",
     "text": [
      "입력값:w\n",
      "오답\n"
     ]
    }
   ],
   "source": [
    "i= input('입력값:')\n",
    "if i in ['a','b','c','d']: print('정답')\n",
    "else: print('오답')"
   ]
  },
  {
   "cell_type": "code",
   "execution_count": 66,
   "id": "e52548fb",
   "metadata": {},
   "outputs": [
    {
     "name": "stdout",
     "output_type": "stream",
     "text": [
      "연산자: +\n",
      "num1: 3\n",
      "num2: 5\n",
      "결과: 3+5= 8\n"
     ]
    }
   ],
   "source": [
    "op= input('연산자: ')\n",
    "num1= int(input('num1: '))\n",
    "num2= int(input('num2: '))\n",
    "if op=='+': print(f'결과: {num1}{op}{num2}= {num1+num2}')\n",
    "elif op=='-': print('결과: {}{}{}= {}'.format(num1, op, num2, num1 - num2))\n",
    "elif op=='*': print('결과: {}{}{}= {}'.format(num1, op, num2, num1 * num2))\n",
    "elif op=='/': print('결과: {}{}{}= {}'.format(num1, op, num2, num1 / num2))\n",
    "    \n",
    "    \n",
    "# op= input('연산자: ')\n",
    "# num1= int(input('num1: '))\n",
    "# num2= int(input('num2: '))\n",
    "\n",
    "# # 중복되는 코드 줄이기\n",
    "# if op == '+':\n",
    "#     ans= num1+num2\n",
    "# elif op =='-':\n",
    "#     ams= num1-num2\n",
    "# elif op =='*':\n",
    "#     ans= num1*num2\n",
    "# elif op =='/':\n",
    "#     ans= num1/num2\n",
    "    \n",
    "# print('결과: {}{}{}= {}'.format(num1, op, num2, ans))"
   ]
  },
  {
   "cell_type": "markdown",
   "id": "532bb8d0",
   "metadata": {},
   "source": [
    "- 중첩 if문"
   ]
  },
  {
   "cell_type": "code",
   "execution_count": 18,
   "id": "31f059ac",
   "metadata": {},
   "outputs": [
    {
     "name": "stdout",
     "output_type": "stream",
     "text": [
      "b가 최대\n"
     ]
    }
   ],
   "source": [
    "# 최대값 찾기\n",
    "\n",
    "a,b,c= 3,9,5\n",
    "\n",
    "if a>b:\n",
    "    if a>c:\n",
    "        print('a가 최대')\n",
    "    else:\n",
    "        print('c가 최대')\n",
    "else:\n",
    "    if b>c:\n",
    "        print('b가 최대')\n",
    "    else:\n",
    "        print('c가 최대')"
   ]
  },
  {
   "cell_type": "code",
   "execution_count": 19,
   "id": "07fe60c3",
   "metadata": {},
   "outputs": [
    {
     "name": "stdout",
     "output_type": "stream",
     "text": [
      "ID: tiger\n",
      "PW: 1111\n",
      "로그인 성공\n"
     ]
    }
   ],
   "source": [
    "id= input('ID: ')    # id: tiger\n",
    "pw= input('PW: ')    # pw: 1111\n",
    "\n",
    "if id!= 'tiger':\n",
    "    if pw != '1111':\n",
    "        print('id와 pw 틀림')\n",
    "    else:\n",
    "        print('id 틀림')\n",
    "else:\n",
    "    if pw != '1111':\n",
    "        print('pw 틀림')\n",
    "    else: \n",
    "        print('로그인 성공')"
   ]
  },
  {
   "cell_type": "markdown",
   "id": "36032f09",
   "metadata": {},
   "source": [
    "- 삼항 연산자 p.86\n",
    "\n",
    "    < 참일때 결과 > <if 조건문 > < else 거짓일 때 결과 >"
   ]
  },
  {
   "cell_type": "code",
   "execution_count": 155,
   "id": "1f7b27f6",
   "metadata": {},
   "outputs": [
    {
     "name": "stdout",
     "output_type": "stream",
     "text": [
      "\"가위\", \"바위\", \"보\" 중에서 하나를 입력하세요: 가ㅜ이\n",
      "잘못 입력하였습니다\n",
      "\"가위\", \"바위\", \"보\" 중에서 하나를 입력하세요: 가위\n",
      "컴퓨터: 바위\n",
      "나: 가위\n",
      "결과: lose\n",
      "\n",
      "\"가위\", \"바위\", \"보\" 중에서 하나를 입력하세요: 바위\n",
      "컴퓨터: 가위\n",
      "나: 바위\n",
      "결과: win\n",
      "\n",
      "\"가위\", \"바위\", \"보\" 중에서 하나를 입력하세요: 보\n",
      "컴퓨터: 보\n",
      "나: 보\n",
      "결과: same\n",
      "\n",
      "\"가위\", \"바위\", \"보\" 중에서 하나를 입력하세요: 가위\n",
      "컴퓨터: 바위\n",
      "나: 가위\n",
      "결과: lose\n",
      "\n",
      "\"가위\", \"바위\", \"보\" 중에서 하나를 입력하세요: 바보\n",
      "잘못 입력하였습니다\n",
      "\"가위\", \"바위\", \"보\" 중에서 하나를 입력하세요: 보\n",
      "컴퓨터: 가위\n",
      "나: 보\n",
      "결과: lose\n",
      "\n",
      "\"가위\", \"바위\", \"보\" 중에서 하나를 입력하세요: z\n",
      "잘못 입력하였습니다\n",
      "\"가위\", \"바위\", \"보\" 중에서 하나를 입력하세요: x\n",
      "1무 1승 3패\n"
     ]
    }
   ],
   "source": [
    "# 가위 바위 보 게임\n",
    "import random\n",
    "win, lose, same=0,0,0\n",
    "\n",
    "while True:\n",
    "    me= input('\"가위\", \"바위\", \"보\" 중에서 하나를 입력하세요: ')\n",
    "    if me in ['x','q']: \n",
    "        print(f'{same}무 {win}승 {lose}패')\n",
    "        break\n",
    "        \n",
    "    rand= random.randint(0,2)\n",
    "    if rand==0: com= '가위'\n",
    "    elif rand==1: com= '바위'\n",
    "    else: com= '보'\n",
    "\n",
    "    if me not in ['가위', '바위', '보']: print('잘못 입력하였습니다\\n')\n",
    "\n",
    "    else:\n",
    "        if me== '가위':\n",
    "            if com=='가위': result= 'same'\n",
    "            elif com=='바위': result= 'lose'\n",
    "            elif com=='보': result= 'win'\n",
    "        elif me=='바위':\n",
    "            if com=='가위': result= 'win'\n",
    "            elif com=='바위': result= 'same'\n",
    "            elif com=='보': result= 'lose'\n",
    "        elif me=='보':\n",
    "            if com=='가위': result= 'lose'\n",
    "            elif com=='바위': result= 'win'\n",
    "            elif com=='보': result= 'same'        \n",
    "        \n",
    "        if result=='same': same+=1\n",
    "        elif result=='win': win +=1\n",
    "        elif result=='lose': lose+=1\n",
    "\n",
    "        print('컴퓨터:',com)\n",
    "        print('나:',me)\n",
    "        print('결과:',result)\n",
    "        print('')"
   ]
  },
  {
   "cell_type": "markdown",
   "id": "4279f5cd",
   "metadata": {},
   "source": [
    "## 3. 반복문\n",
    "- while\n",
    "- for\n",
    "\n",
    "주의: 무한 반복, 반복 횟수 ==> 초기화, 조건식, 카운팅 주의!!"
   ]
  },
  {
   "cell_type": "markdown",
   "id": "b63177d0",
   "metadata": {},
   "source": [
    "### 1) while\n",
    "        while 조건식:\n",
    "            참인 경우"
   ]
  },
  {
   "cell_type": "code",
   "execution_count": 48,
   "id": "571b4cfb",
   "metadata": {},
   "outputs": [
    {
     "name": "stdout",
     "output_type": "stream",
     "text": [
      "***"
     ]
    }
   ],
   "source": [
    "cnt=0\n",
    "while cnt <3:\n",
    "    print('*',end='')    # end='\\n' 가 defualt\n",
    "    cnt += 1"
   ]
  },
  {
   "cell_type": "code",
   "execution_count": 49,
   "id": "9e5fa58d",
   "metadata": {},
   "outputs": [
    {
     "name": "stdout",
     "output_type": "stream",
     "text": [
      "1024\n"
     ]
    }
   ],
   "source": [
    "cnt=0\n",
    "sum=1\n",
    "\n",
    "while cnt < 10:\n",
    "    sum *= 2\n",
    "    cnt += 1\n",
    "print(sum)"
   ]
  },
  {
   "cell_type": "markdown",
   "id": "4d766b14",
   "metadata": {},
   "source": [
    "## 2) for\n",
    "쓰고자하는 데이터가 있으면 for이 편하다\n",
    "    \n",
    "       for 변수 in 집합자료형:\n",
    "           실행\n",
    "           ..."
   ]
  },
  {
   "cell_type": "code",
   "execution_count": 50,
   "id": "9672b3f8",
   "metadata": {},
   "outputs": [
    {
     "name": "stdout",
     "output_type": "stream",
     "text": [
      "**********"
     ]
    }
   ],
   "source": [
    "for i in range(10):\n",
    "    print('*',end='')\n",
    "    \n",
    "# while문보다 효율 떨어짐"
   ]
  },
  {
   "cell_type": "code",
   "execution_count": 54,
   "id": "4f4f38fa",
   "metadata": {},
   "outputs": [
    {
     "name": "stdout",
     "output_type": "stream",
     "text": [
      "35\n",
      "35\n"
     ]
    }
   ],
   "source": [
    "data= [8,5,6,7,9]\n",
    "sum=0\n",
    "for i in data:\n",
    "    sum+= i\n",
    "print(sum)\n",
    "\n",
    "sum=0\n",
    "cnt=0\n",
    "while cnt<len(data):\n",
    "    sum +=data[cnt]\n",
    "    cnt+=1\n",
    "print(sum)"
   ]
  },
  {
   "cell_type": "code",
   "execution_count": 55,
   "id": "1ae461ad",
   "metadata": {},
   "outputs": [
    {
     "name": "stdout",
     "output_type": "stream",
     "text": [
      "golf\n",
      "good\n",
      "sort\n"
     ]
    }
   ],
   "source": [
    "data= ['banana','bravo','golf','piano','chart','integer','good','sort']\n",
    "\n",
    "for i in data:\n",
    "    if len(i)==4:\n",
    "        print(i)"
   ]
  },
  {
   "cell_type": "code",
   "execution_count": 64,
   "id": "c6c02aba",
   "metadata": {},
   "outputs": [
    {
     "name": "stdout",
     "output_type": "stream",
     "text": [
      "20\n",
      "[15, 8, 5, 6, 10, 20, 7, 9]\n"
     ]
    }
   ],
   "source": [
    "# data.sort()\n",
    "\n",
    "data= [15,8,5,6,10,20,7,9]\n",
    "max=data[0]\n",
    "\n",
    "for i in data:\n",
    "    if i>= max:\n",
    "        max=i\n",
    "\n",
    "print(max)"
   ]
  },
  {
   "cell_type": "code",
   "execution_count": 59,
   "id": "a0fba124",
   "metadata": {},
   "outputs": [
    {
     "name": "stdout",
     "output_type": "stream",
     "text": [
      "1\n",
      "2\n",
      "fizz\n",
      "4\n",
      "buzz\n",
      "fizz\n",
      "7\n",
      "8\n",
      "fizz\n",
      "buzz\n",
      "11\n",
      "fizz\n",
      "13\n",
      "14\n",
      "fizzbuzz\n",
      "16\n",
      "17\n",
      "fizz\n",
      "19\n",
      "buzz\n",
      "fizz\n",
      "22\n",
      "23\n",
      "fizz\n",
      "buzz\n",
      "26\n",
      "fizz\n",
      "28\n",
      "29\n",
      "fizzbuzz\n",
      "31\n",
      "32\n",
      "fizz\n",
      "34\n",
      "buzz\n",
      "fizz\n",
      "37\n",
      "38\n",
      "fizz\n",
      "buzz\n",
      "41\n",
      "fizz\n",
      "43\n",
      "44\n",
      "fizzbuzz\n",
      "46\n",
      "47\n",
      "fizz\n",
      "49\n",
      "buzz\n",
      "fizz\n",
      "52\n",
      "53\n",
      "fizz\n",
      "buzz\n",
      "56\n",
      "fizz\n",
      "58\n",
      "59\n",
      "fizzbuzz\n",
      "61\n",
      "62\n",
      "fizz\n",
      "64\n",
      "buzz\n",
      "fizz\n",
      "67\n",
      "68\n",
      "fizz\n",
      "buzz\n",
      "71\n",
      "fizz\n",
      "73\n",
      "74\n",
      "fizzbuzz\n",
      "76\n",
      "77\n",
      "fizz\n",
      "79\n",
      "buzz\n",
      "fizz\n",
      "82\n",
      "83\n",
      "fizz\n",
      "buzz\n",
      "86\n",
      "fizz\n",
      "88\n",
      "89\n",
      "fizzbuzz\n",
      "91\n",
      "92\n",
      "fizz\n",
      "94\n",
      "buzz\n",
      "fizz\n",
      "97\n",
      "98\n",
      "fizz\n"
     ]
    }
   ],
   "source": [
    "# FizzBuzz\n",
    "# 3의 배수는 fizz\n",
    "# 5의 배수는 buzz\n",
    "# 3의 배수면서 5의 배수는 fizzbuzz\n",
    "\n",
    "for i in range(1,100):\n",
    "    if i%3==0:\n",
    "        if i%5==0:\n",
    "            print('fizzbuzz')\n",
    "        else:\n",
    "            print('fizz')\n",
    "    elif i%5==0:\n",
    "            print('buzz')\n",
    "    else:\n",
    "        print(i)"
   ]
  },
  {
   "cell_type": "markdown",
   "id": "bd9e29ad",
   "metadata": {},
   "source": [
    "### 3) 반복문 강제 종료\n",
    "\n",
    "- break: 완전 종료\n",
    "- continue: 다음으로 넘어가기\n",
    "\n"
   ]
  },
  {
   "cell_type": "code",
   "execution_count": 71,
   "id": "588d8199",
   "metadata": {},
   "outputs": [
    {
     "name": "stdout",
     "output_type": "stream",
     "text": [
      "0\n",
      "1\n",
      "2\n"
     ]
    }
   ],
   "source": [
    "# break: 반복문 완전 벗어남. 1,4,1,4,1,4,1,2,3,break \n",
    "for i in range(5):\n",
    "    if i==3: \n",
    "        break\n",
    "    print(i)"
   ]
  },
  {
   "cell_type": "code",
   "execution_count": 72,
   "id": "2682523a",
   "metadata": {},
   "outputs": [
    {
     "name": "stdout",
     "output_type": "stream",
     "text": [
      "0\n",
      "1\n",
      "2\n",
      "4\n"
     ]
    }
   ],
   "source": [
    "# continue: 다음으로 넘어가기. 1,4,1,4,1,4,1,2,3,1,4\n",
    "for i in range(5):\n",
    "    if i==3: \n",
    "        continue        \n",
    "    print(i)"
   ]
  },
  {
   "cell_type": "markdown",
   "id": "27fb227c",
   "metadata": {},
   "source": [
    "### 4) 반복문의 중첩\n"
   ]
  },
  {
   "cell_type": "code",
   "execution_count": 99,
   "id": "d4425724",
   "metadata": {},
   "outputs": [
    {
     "name": "stdout",
     "output_type": "stream",
     "text": [
      "*\n",
      "**\n",
      "***\n",
      "****\n",
      "*****\n"
     ]
    }
   ],
   "source": [
    "for i in range(1,6):\n",
    "    for j in range(i):\n",
    "        print('*',end='')\n",
    "    print()"
   ]
  },
  {
   "cell_type": "code",
   "execution_count": 157,
   "id": "bb779f83",
   "metadata": {},
   "outputs": [
    {
     "name": "stdout",
     "output_type": "stream",
     "text": [
      "*\n",
      "**\n",
      "***\n",
      "****\n",
      "*****\n"
     ]
    }
   ],
   "source": [
    "for i in range(1,6):\n",
    "    print('*'*i,end='')\n",
    "    print()\n"
   ]
  },
  {
   "cell_type": "code",
   "execution_count": 158,
   "id": "79996a07",
   "metadata": {},
   "outputs": [
    {
     "name": "stdout",
     "output_type": "stream",
     "text": [
      "      \n",
      "     *\n",
      "    ***\n",
      "   *****\n",
      "  *******\n",
      " *********\n",
      "      \n",
      "     *\n",
      "    ***\n",
      "   *****\n",
      "  *******\n",
      " *********\n"
     ]
    }
   ],
   "source": [
    "'''\n",
    "    *\n",
    "   ***\n",
    "  *****\n",
    " *******\n",
    "*********\n",
    "'''\n",
    "\n",
    "for i in range(6):\n",
    "    print(' '*(6-i),end='')\n",
    "    print('*'*(2*i-1),end='')\n",
    "    print()\n",
    "    \n",
    "for i in range(6):\n",
    "    for j in range(6-i):\n",
    "        print(' ',end='')\n",
    "    for j in range(2*i-1):\n",
    "        print('*',end='')\n",
    "    print()"
   ]
  },
  {
   "cell_type": "code",
   "execution_count": 120,
   "id": "b46032de",
   "metadata": {},
   "outputs": [
    {
     "name": "stdout",
     "output_type": "stream",
     "text": [
      "\n",
      " *\n",
      "\n",
      "   *   *   *\n",
      "\n",
      "     *     *     *     *     *\n",
      "\n",
      "       *       *       *       *       *       *       *\n",
      "\n",
      "         *         *         *         *         *         *         *         *         *\n"
     ]
    }
   ],
   "source": [
    "for i in range(10):\n",
    "    if i%2!=0:\n",
    "        for j in range(i):\n",
    "            print(' '*i,end='')\n",
    "            print('*',end='')\n",
    "    print()"
   ]
  },
  {
   "cell_type": "code",
   "execution_count": null,
   "id": "b959917f",
   "metadata": {},
   "outputs": [],
   "source": []
  },
  {
   "cell_type": "code",
   "execution_count": null,
   "id": "5427e902",
   "metadata": {},
   "outputs": [],
   "source": []
  },
  {
   "cell_type": "code",
   "execution_count": null,
   "id": "d1591d2d",
   "metadata": {},
   "outputs": [],
   "source": []
  },
  {
   "cell_type": "code",
   "execution_count": null,
   "id": "8e6eb42e",
   "metadata": {},
   "outputs": [],
   "source": []
  },
  {
   "cell_type": "code",
   "execution_count": null,
   "id": "add56869",
   "metadata": {},
   "outputs": [],
   "source": []
  },
  {
   "cell_type": "code",
   "execution_count": 73,
   "id": "8e75e972",
   "metadata": {},
   "outputs": [
    {
     "name": "stdout",
     "output_type": "stream",
     "text": [
      "연산자: x\n"
     ]
    }
   ],
   "source": [
    "while True:\n",
    "    op= input('연산자: ')\n",
    "    if op=='x': break\n",
    "        \n",
    "    num1= int(input('num1: '))\n",
    "    num2= int(input('num2: '))\n",
    "    if op=='+': print(f'결과: {num1}{op}{num2}= {num1+num2}')\n",
    "    elif op=='-': print('결과: {}{}{}= {}'.format(num1, op, num2, num1 - num2))\n",
    "    elif op=='*': print('결과: {}{}{}= {}'.format(num1, op, num2, num1 * num2))\n",
    "    elif op=='/': print('결과: {}{}{}= {}'.format(num1, op, num2, num1 / num2))\n",
    "    "
   ]
  },
  {
   "cell_type": "code",
   "execution_count": 15,
   "id": "7389218c",
   "metadata": {},
   "outputs": [],
   "source": [
    "#2. 가위 바위 보 게임 x나 q 종료 n승 n패\n",
    "import random\n",
    "def playgame():\n",
    "    win, lose, same=0,0,0\n",
    "    while True:\n",
    "        me= input('\"가위\", \"바위\", \"보\" 중에서 하나를 입력하세요: ')\n",
    "        if me in ['x','q']: \n",
    "            print(f'{same}무 {win}승 {lose}패')\n",
    "            break\n",
    "\n",
    "        rand= random.randint(0,2)\n",
    "        if rand==0: com= '가위'\n",
    "        elif rand==1: com= '바위'\n",
    "        else: com= '보'\n",
    "\n",
    "        if me not in ['가위', '바위', '보']: \n",
    "            print('잘못 입력하였습니다')\n",
    "            continue\n",
    "\n",
    "        elif me == com:\n",
    "            result= 'same' #왜안돼?!!\n",
    "            same +=1\n",
    "        else:\n",
    "            if me== '가위':\n",
    "                if com=='바위': \n",
    "                    result= 'lose'\n",
    "                    lose += 1\n",
    "                elif com=='보': \n",
    "                    result= 'win'\n",
    "                    win +=1\n",
    "            elif me=='바위':\n",
    "                if com=='가위': \n",
    "                    result= 'win'\n",
    "                    win +=1\n",
    "                elif com=='보': \n",
    "                    result= 'lose'\n",
    "                    lose += 1\n",
    "            elif me=='보':\n",
    "                if com=='가위': \n",
    "                    result= 'lose'\n",
    "                    lose += 1\n",
    "                elif com=='바위': \n",
    "                    result= 'win'\n",
    "                    win +=1\n",
    "        print('컴퓨터:',com)\n",
    "        print('나:',me)\n",
    "        print('결과:',result,'\\n')"
   ]
  },
  {
   "cell_type": "code",
   "execution_count": 143,
   "id": "1321f31d",
   "metadata": {},
   "outputs": [
    {
     "name": "stdout",
     "output_type": "stream",
     "text": [
      "숫자1: 1\n",
      "\n",
      "숫자2: 6\n",
      "\n",
      "숫자3: 5\n",
      "\n",
      "숫자4: 3\n",
      "\n",
      "숫자5: 2\n",
      "\n",
      "숫자6: 7\n",
      "\n",
      "숫자7: 0\n",
      "홀수:16, 짝수:8\n"
     ]
    }
   ],
   "source": [
    "#3. 숫자를 입력받아 짝수의 합과 홀수의 합을 출력. 0을 입력하면 종료\n",
    "\n",
    "odd, eve, i=0,0,0\n",
    "\n",
    "while True:\n",
    "    i+= 1\n",
    "    num= int(input(f'숫자{i}: '))\n",
    "    if num== 0:break\n",
    "    elif num%2==0: eve +=num\n",
    "    elif num%2 ==1: odd +=num\n",
    "    print()\n",
    "    \n",
    "print(f'홀수:{odd}, 짝수:{eve}')    \n",
    "    \n"
   ]
  },
  {
   "cell_type": "code",
   "execution_count": 142,
   "id": "6970816d",
   "metadata": {},
   "outputs": [
    {
     "name": "stdout",
     "output_type": "stream",
     "text": [
      "숫자:1\n",
      "higher\n",
      "\n",
      "숫자:9\n",
      "lower\n",
      "\n",
      "숫자:2\n",
      "higher\n",
      "\n",
      "숫자:5\n",
      "정답입니다\n",
      "총 시도 횟수:3\n"
     ]
    }
   ],
   "source": [
    "#4. 숫자맞추기 1~100. 힌트 세분화. 총 시도 횟수\n",
    "import random\n",
    "ans= random.randint(1,10)\n",
    "total=0\n",
    "\n",
    "while True:\n",
    "    num= int(input('숫자:'))\n",
    "    if ans> num: print('higher')\n",
    "    elif ans<num: print('lower')\n",
    "    elif ans==num: \n",
    "        print('정답입니다')\n",
    "        break\n",
    "    total+=1\n",
    "    print()\n",
    "    \n",
    "print(f'총 시도 횟수:{total}')\n",
    "        "
   ]
  },
  {
   "cell_type": "code",
   "execution_count": 146,
   "id": "611d2107",
   "metadata": {},
   "outputs": [
    {
     "name": "stdout",
     "output_type": "stream",
     "text": [
      "숫자를 입력하세요:24\n",
      "숫자를 입력하세요:53\n",
      "숫자를 입력하세요:86\n",
      "숫자를 입력하세요:12\n",
      "숫자를 입력하세요:89\n",
      "최소12, 최대89\n"
     ]
    }
   ],
   "source": [
    "#5. 5개 입력받아 최대, 최소 구하기\n",
    "nlist=[]\n",
    "for i in range(5):\n",
    "    nlist.append(int(input('숫자를 입력하세요:')))\n",
    "\n",
    "max= nlist[0]\n",
    "min= nlist[0]\n",
    "\n",
    "for i in nlist:\n",
    "    if max< i:\n",
    "        max=i\n",
    "for i in nlist:\n",
    "    if min> i:\n",
    "        min=i\n",
    "        \n",
    "print(f'최소: {min}, 최대: {max}')"
   ]
  },
  {
   "cell_type": "code",
   "execution_count": 149,
   "id": "5568f708",
   "metadata": {},
   "outputs": [
    {
     "name": "stdout",
     "output_type": "stream",
     "text": [
      "친구 관리 프로그램\n",
      "==========================\n",
      "1. 친구 리스트 출력\n",
      "2. 친구 추가\n",
      "3. 친구 삭제\n",
      "4. 이름 변경\n",
      "9. 종료\n",
      "메뉴를 선택: 2\n",
      "이름을 선택: 임꺽정\n",
      "------------------\n",
      "1. 친구 리스트 출력\n",
      "2. 친구 추가\n",
      "3. 친구 삭제\n",
      "4. 이름 변경\n",
      "9. 종료\n",
      "메뉴를 선택: 1\n",
      "['임꺽정']\n",
      "------------------\n",
      "1. 친구 리스트 출력\n",
      "2. 친구 추가\n",
      "3. 친구 삭제\n",
      "4. 이름 변경\n",
      "9. 종료\n",
      "메뉴를 선택: 2\n",
      "이름을 선택: 홍길동\n",
      "------------------\n",
      "1. 친구 리스트 출력\n",
      "2. 친구 추가\n",
      "3. 친구 삭제\n",
      "4. 이름 변경\n",
      "9. 종료\n",
      "메뉴를 선택: 4\n",
      "변경할 이름 선택: 홍길동\n",
      "변경하고 싶은 이름 입력: 홍길순\n",
      "------------------\n",
      "1. 친구 리스트 출력\n",
      "2. 친구 추가\n",
      "3. 친구 삭제\n",
      "4. 이름 변경\n",
      "9. 종료\n",
      "메뉴를 선택: 1\n",
      "['임꺽정', '홍길순']\n",
      "------------------\n",
      "1. 친구 리스트 출력\n",
      "2. 친구 추가\n",
      "3. 친구 삭제\n",
      "4. 이름 변경\n",
      "9. 종료\n",
      "메뉴를 선택: 3\n",
      "삭제할 이름 입력: 홍길순\n",
      "------------------\n",
      "1. 친구 리스트 출력\n",
      "2. 친구 추가\n",
      "3. 친구 삭제\n",
      "4. 이름 변경\n",
      "9. 종료\n",
      "메뉴를 선택: 1\n",
      "['임꺽정']\n",
      "------------------\n",
      "1. 친구 리스트 출력\n",
      "2. 친구 추가\n",
      "3. 친구 삭제\n",
      "4. 이름 변경\n",
      "9. 종료\n",
      "메뉴를 선택: 9\n",
      "종료\n"
     ]
    }
   ],
   "source": [
    "#고객관리\n",
    "\n",
    "print('친구 관리 프로그램')\n",
    "print('==========================')\n",
    "nlist=[]\n",
    "\n",
    "while True:\n",
    "    print('1. 친구 리스트 출력')\n",
    "    print('2. 친구 추가')\n",
    "    print('3. 친구 삭제')\n",
    "    print('4. 이름 변경')\n",
    "    print('9. 종료')\n",
    "    num= int(input('메뉴를 선택: '))\n",
    "    \n",
    "    if num==1:\n",
    "        print(nlist)\n",
    "    if num==2:\n",
    "        name= input('이름을 선택: ')\n",
    "        nlist.append(name)\n",
    "    if num==3:\n",
    "        name= input('삭제할 이름 입력: ')\n",
    "        nlist.remove(name)\n",
    "    if num==4:\n",
    "        name= input('변경할 이름 선택: ')\n",
    "        nlist.remove(name)\n",
    "        newname= input('변경하고 싶은 이름 입력: ')\n",
    "        nlist.append(newname)\n",
    "    if num==9:\n",
    "        print('종료')\n",
    "        break\n",
    "    print('------------------')\n",
    "    \n",
    "    \n",
    "    "
   ]
  },
  {
   "cell_type": "code",
   "execution_count": null,
   "id": "35c73054",
   "metadata": {},
   "outputs": [],
   "source": [
    "import random\n",
    "\n",
    "data = ['가위','바위','보']\n",
    "while True: \n",
    "    computer_index = random.randint(0,2)\n",
    "    computer_data = data[computer_index]\n",
    "\n",
    "    user_data = input(\"\\n(\\\"가위\\\",\\\"바위\\\",\\\"보\\\") 중에서 하나를 입력: \")\n",
    "    user_index = data.index(user_data)\n",
    "    result = \"의 패배입니다\"\n",
    "\n",
    "    if computer_data == user_data : result = \"과 비겼습니다\"\n",
    "    else : \n",
    "        if computer_data == '가위' and user_data == '바위' : result = \"의 승리입니다\"\n",
    "        elif computer_data == '바위' and user_data == '보' : result = \"의 승리입니다\"\n",
    "        elif computer_data == '보' and user_data == '가위' :result = \"의 승리입니다\"\n",
    "\n",
    "    print(\"컴퓨터는 \\\"{}\\\"를 선택하였습니다 결과는 당신{}\".format(computer_data, result))"
   ]
  },
  {
   "cell_type": "code",
   "execution_count": 4,
   "id": "0f2c990a",
   "metadata": {},
   "outputs": [
    {
     "name": "stdout",
     "output_type": "stream",
     "text": [
      "\n",
      "    친구 관리 프로그램\n",
      "    ====================\n",
      "\n",
      "    1.친구 리스트 출력\n",
      "    2.친구 추가\n",
      "    3.친구 삭제\n",
      "    4.이름 변경\n",
      "    9.종료\n",
      "    \n",
      "메뉴를 선택: 1\n",
      "\n",
      "    친구 관리 프로그램\n",
      "    ====================\n",
      "\n",
      "    1.친구 리스트 출력\n",
      "    2.친구 추가\n",
      "    3.친구 삭제\n",
      "    4.이름 변경\n",
      "    9.종료\n",
      "    \n",
      "메뉴를 선택: 2\n",
      "\n",
      "    친구 관리 프로그램\n",
      "    ====================\n",
      "\n",
      "    1.친구 리스트 출력\n",
      "    2.친구 추가\n",
      "    3.친구 삭제\n",
      "    4.이름 변경\n",
      "    9.종료\n",
      "    \n",
      "메뉴를 선택: 3\n",
      "\n",
      "    친구 관리 프로그램\n",
      "    ====================\n",
      "\n",
      "    1.친구 리스트 출력\n",
      "    2.친구 추가\n",
      "    3.친구 삭제\n",
      "    4.이름 변경\n",
      "    9.종료\n",
      "    \n",
      "메뉴를 선택: 9\n"
     ]
    }
   ],
   "source": [
    "custom_list=[]\n",
    "\n",
    "while True:\n",
    "    print('''\n",
    "    친구 관리 프로그램\n",
    "    ====================\n",
    "\n",
    "    1.친구 리스트 출력\n",
    "    2.친구 추가\n",
    "    3.친구 삭제\n",
    "    4.이름 변경\n",
    "    9.종료\n",
    "    ''')\n",
    "\n",
    "    no= input('메뉴를 선택: ')\n",
    "\n",
    "    if no=='9':                     #case문으로 처리 가능할듯?\n",
    "        break\n",
    "        \n",
    "    if no=='2':\n",
    "        custom_list.append(input('추가할 이름을 입력: '))\n",
    "        \n",
    "    if no=='1':\n",
    "        print('고객 리스트:', custom_list)\n",
    "        \n",
    "    if no=='3':\n",
    "        custom_list.remove(input('삭제할 이름: '))\n",
    "        \n",
    "    if no=='4':\n",
    "        name= input('변경할 이름 입력: ')\n",
    "        for i in range(len(custom_list)):      #리스트 개수만큼 반복. i= 인덱스\n",
    "            if custom_list[i]== name:\n",
    "                custom_list[i]= input('변경하고 싶은 이름 입력: ')\n",
    "                break\n",
    "            \n",
    "#         i= custom_list.index(input('변경할 이름 입력: '))\n",
    "#         custom_list[i]= input('변경하고 싶은 이름 입력: ')"
   ]
  },
  {
   "cell_type": "code",
   "execution_count": 5,
   "id": "b3637364",
   "metadata": {},
   "outputs": [
    {
     "data": {
      "text/plain": [
       "4"
      ]
     },
     "execution_count": 5,
     "metadata": {},
     "output_type": "execute_result"
    }
   ],
   "source": [
    "a=[1,2,3,4,5]\n",
    "a.index(5)"
   ]
  },
  {
   "cell_type": "markdown",
   "id": "03f73646",
   "metadata": {},
   "source": [
    "### 5. List Comprehension: 리스트 안에 반복문, 조건문\n",
    "\n",
    "\n",
    "[설명](https://velog.io/@mttw2820/List-Comprehension-%EB%AC%B8%EB%B2%95-%EC%A0%95%EB%A6%AC#%EC%A4%91%EC%B2%A9-list-comprehension)"
   ]
  },
  {
   "cell_type": "code",
   "execution_count": 9,
   "id": "50538083",
   "metadata": {},
   "outputs": [
    {
     "data": {
      "text/plain": [
       "[0, 1, 2, 3, 4, 5, 6, 7, 8, 9]"
      ]
     },
     "execution_count": 9,
     "metadata": {},
     "output_type": "execute_result"
    }
   ],
   "source": [
    "# [0~9]\n",
    "\n",
    "result=[]\n",
    "for i in range(10):\n",
    "    result.append(i)\n",
    "    \n",
    "# [append할것 for 반복문]    \n",
    "\n",
    "result= [i for i in range(10)]\n",
    "result"
   ]
  },
  {
   "cell_type": "code",
   "execution_count": 8,
   "id": "333f777b",
   "metadata": {},
   "outputs": [
    {
     "data": {
      "text/plain": [
       "[0, 2, 4, 6, 8]"
      ]
     },
     "execution_count": 8,
     "metadata": {},
     "output_type": "execute_result"
    }
   ],
   "source": [
    "# [짝수만 추가]\n",
    "\n",
    "result=[]\n",
    "for i in range(10):\n",
    "    if i%2==0:\n",
    "        result.append(i)\n",
    "\n",
    "# 삼항연산자\n",
    "\n",
    "result= [i for i in range(10) if i%2==0]\n",
    "result"
   ]
  },
  {
   "cell_type": "code",
   "execution_count": 10,
   "id": "0f161e77",
   "metadata": {},
   "outputs": [],
   "source": [
    "c1= ['a','b','c']\n",
    "c2= ['d','e','a']"
   ]
  },
  {
   "cell_type": "code",
   "execution_count": 14,
   "id": "ee7a2e05",
   "metadata": {},
   "outputs": [
    {
     "name": "stdout",
     "output_type": "stream",
     "text": [
      "['ad', 'ae', 'aa', 'bd', 'be', 'ba', 'cd', 'ce', 'ca']\n"
     ]
    }
   ],
   "source": [
    "c3=[]\n",
    "for i in c1:\n",
    "    for j in c2:\n",
    "        c3.append(i+j)\n",
    "\n",
    "print(c3)"
   ]
  },
  {
   "cell_type": "code",
   "execution_count": 17,
   "id": "51bef3c0",
   "metadata": {},
   "outputs": [
    {
     "data": {
      "text/plain": [
       "['ad', 'ae', 'aa', 'bd', 'be', 'ba', 'cd', 'ce', 'ca']"
      ]
     },
     "execution_count": 17,
     "metadata": {},
     "output_type": "execute_result"
    }
   ],
   "source": [
    "c3=[i+j for i in c1 for j in c2]\n",
    "c3"
   ]
  },
  {
   "cell_type": "code",
   "execution_count": 20,
   "id": "3e6b6dc8",
   "metadata": {},
   "outputs": [
    {
     "name": "stdout",
     "output_type": "stream",
     "text": [
      "['ad', 'ae', 'bd', 'be', 'ba', 'cd', 'ce', 'ca']\n"
     ]
    }
   ],
   "source": [
    "# ['ad', 'ae', 'bd', 'be', 'ba', 'cd', 'ce', 'ca'] 중복 문자 제거\n",
    "c3=[]\n",
    "for i in c1:\n",
    "    for j in c2:\n",
    "        if i!=j:\n",
    "            c3.append(i+j)\n",
    "\n",
    "print(c3)    "
   ]
  },
  {
   "cell_type": "code",
   "execution_count": 21,
   "id": "8c41c6f0",
   "metadata": {},
   "outputs": [
    {
     "data": {
      "text/plain": [
       "['ad', 'ae', 'bd', 'be', 'ba', 'cd', 'ce', 'ca']"
      ]
     },
     "execution_count": 21,
     "metadata": {},
     "output_type": "execute_result"
    }
   ],
   "source": [
    "c3=[i+j for i in c1 for j in c2 if i!=j]\n",
    "c3"
   ]
  },
  {
   "cell_type": "code",
   "execution_count": 46,
   "id": "1251c89c",
   "metadata": {},
   "outputs": [
    {
     "name": "stdout",
     "output_type": "stream",
     "text": [
      "[['ad', 'ae', 'aa'], ['bd', 'be', 'ba'], ['cd', 'ce', 'ca']]\n"
     ]
    }
   ],
   "source": [
    "# [['ad', 'ae', 'aa'], ['bd', 'be', 'ba'], ['cd', 'ce', 'ca']]\n",
    "c4=[]\n",
    "for i in c1:\n",
    "    c3=[]\n",
    "    for j in c2:\n",
    "        c3.append(i+j)\n",
    "    c4.append(c3)\n",
    "    \n",
    "print(c4)"
   ]
  },
  {
   "cell_type": "code",
   "execution_count": 56,
   "id": "822ca070",
   "metadata": {},
   "outputs": [
    {
     "data": {
      "text/plain": [
       "[['ad', 'ae', 'aa'], ['bd', 'be', 'ba'], ['cd', 'ce', 'ca']]"
      ]
     },
     "execution_count": 56,
     "metadata": {},
     "output_type": "execute_result"
    }
   ],
   "source": [
    "# c4=[c3 for i in c1 c3=[i+j for j in c2]]\n",
    "\n",
    "c4=[[i+j for j in c2] for i in c1]\n",
    "c4"
   ]
  },
  {
   "cell_type": "code",
   "execution_count": 74,
   "id": "e439bf6f",
   "metadata": {},
   "outputs": [
    {
     "name": "stdout",
     "output_type": "stream",
     "text": [
      "c5:  [['SOME', 'some', 4], ['WHERE', 'where', 5], ['OVER', 'over', 4], ['THE', 'the', 3], ['RAINBOW', 'rainbow', 7], ['WAY', 'way', 3], ['UP', 'up', 2], ['HIGH', 'high', 4]]\n",
      "[('SOME', 'some', 4), ('WHERE', 'where', 5), ('OVER', 'over', 4), ('THE', 'the', 3), ('RAINBOW', 'rainbow', 7), ('WAY', 'way', 3), ('UP', 'up', 2), ('HIGH', 'high', 4)]\n"
     ]
    }
   ],
   "source": [
    "# 문자열 함수 split(), upper(), lower(), len()\n",
    "words= 'Some Where Over the Rainbow way up high'\n",
    "\n",
    "# '''\n",
    "# ['SOME','some',4]\n",
    "# '''\n",
    "\n",
    "def trans(word):\n",
    "    return [word.upper(),word.lower(),len(word)]\n",
    "    \n",
    "result=[]\n",
    "word_list= words.split()\n",
    "for word in word_list:\n",
    "    result.append(trans(word))\n",
    "   \n",
    "    \n",
    "c6=[(word.upper(), word.lower(), len(word)) for word in word_list]\n",
    "c5=[trans(word) for word in words.split()]   \n",
    "print('c5: ',c5)\n",
    "print(c6)"
   ]
  },
  {
   "cell_type": "code",
   "execution_count": null,
   "id": "5a48f288",
   "metadata": {},
   "outputs": [],
   "source": [
    "print([])"
   ]
  }
 ],
 "metadata": {
  "kernelspec": {
   "display_name": "Python 3 (ipykernel)",
   "language": "python",
   "name": "python3"
  },
  "language_info": {
   "codemirror_mode": {
    "name": "ipython",
    "version": 3
   },
   "file_extension": ".py",
   "mimetype": "text/x-python",
   "name": "python",
   "nbconvert_exporter": "python",
   "pygments_lexer": "ipython3",
   "version": "3.9.13"
  }
 },
 "nbformat": 4,
 "nbformat_minor": 5
}
