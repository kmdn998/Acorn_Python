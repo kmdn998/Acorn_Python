{
 "cells": [
  {
   "cell_type": "markdown",
   "id": "4372692b",
   "metadata": {},
   "source": [
    "int, float, str, bool\n",
    "list, tuple, dict,"
   ]
  },
  {
   "cell_type": "markdown",
   "id": "36cdda35",
   "metadata": {},
   "source": [
    "split\n",
    "map\n",
    "dir"
   ]
  },
  {
   "cell_type": "markdown",
   "id": "ca1e0f5f",
   "metadata": {},
   "source": [
    "packing은 변수의 개수가 대응하는 값의 개수보다 작을 때 하나의 변수에 여러 값을 넣는 것이고, unpacking은 자동으로 변수에 값을 할당하는 것이다. "
   ]
  },
  {
   "cell_type": "markdown",
   "id": "28fb056f",
   "metadata": {},
   "source": [
    "수정 불가능: 튜플"
   ]
  },
  {
   "cell_type": "code",
   "execution_count": 49,
   "id": "6984787e",
   "metadata": {},
   "outputs": [
    {
     "name": "stdout",
     "output_type": "stream",
     "text": [
      "70\n"
     ]
    }
   ],
   "source": [
    "a = {\"A\" : 90, \"B\" : 80}\n",
    "try:\n",
    "    print(a[\"C\"])\n",
    "except KeyError as err:\n",
    "    print(70)"
   ]
  },
  {
   "cell_type": "markdown",
   "id": "b416b18b",
   "metadata": {},
   "source": [
    "readline은 한줄씩 내용을 불러오고 readlines는 전체 내용을 불러오고, read는 한줄씩 str으로 불러온다"
   ]
  },
  {
   "cell_type": "markdown",
   "id": "90b2c442",
   "metadata": {},
   "source": [
    "*는 여러개의 인자를 전달해주고, **는 dict형으로 인자를 전달해준다"
   ]
  },
  {
   "cell_type": "code",
   "execution_count": 4,
   "id": "bc938dbe",
   "metadata": {},
   "outputs": [],
   "source": [
    "def test(*a, **b):\n",
    "    print(a)\n",
    "    print(b)"
   ]
  },
  {
   "cell_type": "code",
   "execution_count": 5,
   "id": "05ea2f2e",
   "metadata": {},
   "outputs": [
    {
     "name": "stdout",
     "output_type": "stream",
     "text": [
      "(1, 2, 3)\n",
      "{}\n"
     ]
    }
   ],
   "source": [
    "test(1,2,3)"
   ]
  },
  {
   "cell_type": "code",
   "execution_count": 6,
   "id": "f86023c7",
   "metadata": {},
   "outputs": [
    {
     "ename": "SyntaxError",
     "evalue": "invalid syntax (432171447.py, line 1)",
     "output_type": "error",
     "traceback": [
      "\u001b[1;36m  File \u001b[1;32m\"C:\\Users\\acorn\\AppData\\Local\\Temp\\ipykernel_7936\\432171447.py\"\u001b[1;36m, line \u001b[1;32m1\u001b[0m\n\u001b[1;33m    test('ho':3)\u001b[0m\n\u001b[1;37m             ^\u001b[0m\n\u001b[1;31mSyntaxError\u001b[0m\u001b[1;31m:\u001b[0m invalid syntax\n"
     ]
    }
   ],
   "source": [
    "test('ho':3)"
   ]
  },
  {
   "cell_type": "code",
   "execution_count": 13,
   "id": "ecfbe5ce",
   "metadata": {},
   "outputs": [
    {
     "name": "stdout",
     "output_type": "stream",
     "text": [
      "(555,)\n",
      "{'name': 'lim'}\n"
     ]
    }
   ],
   "source": [
    "test(555,name='lim')"
   ]
  },
  {
   "cell_type": "code",
   "execution_count": 36,
   "id": "6292fdcf",
   "metadata": {},
   "outputs": [],
   "source": [
    "txt=open('data/filetest4.txt','r')"
   ]
  },
  {
   "cell_type": "code",
   "execution_count": 31,
   "id": "78928976",
   "metadata": {},
   "outputs": [
    {
     "name": "stdout",
     "output_type": "stream",
     "text": [
      "dk\n",
      "\n"
     ]
    }
   ],
   "source": [
    "print(txt.readline())"
   ]
  },
  {
   "cell_type": "code",
   "execution_count": 37,
   "id": "f7206ec2",
   "metadata": {},
   "outputs": [
    {
     "data": {
      "text/plain": [
       "['dk\\n', 'dh\\n', '11\\n']"
      ]
     },
     "execution_count": 37,
     "metadata": {},
     "output_type": "execute_result"
    }
   ],
   "source": [
    "txt.readlines()\n",
    "#     print(i)"
   ]
  },
  {
   "cell_type": "code",
   "execution_count": 33,
   "id": "d03e85de",
   "metadata": {
    "scrolled": true
   },
   "outputs": [
    {
     "data": {
      "text/plain": [
       "''"
      ]
     },
     "execution_count": 33,
     "metadata": {},
     "output_type": "execute_result"
    }
   ],
   "source": [
    "txt.read()"
   ]
  },
  {
   "cell_type": "code",
   "execution_count": 45,
   "id": "8625d814",
   "metadata": {},
   "outputs": [
    {
     "name": "stdout",
     "output_type": "stream",
     "text": [
      "10\n",
      "10\n"
     ]
    }
   ],
   "source": [
    "sss=10\n",
    "\n",
    "print(f'{sss}')\n",
    "print('{}'.format(sss))"
   ]
  },
  {
   "cell_type": "code",
   "execution_count": 50,
   "id": "d9d052be",
   "metadata": {},
   "outputs": [
    {
     "ename": "SyntaxError",
     "evalue": "invalid syntax (3538330947.py, line 1)",
     "output_type": "error",
     "traceback": [
      "\u001b[1;36m  File \u001b[1;32m\"C:\\Users\\acorn\\AppData\\Local\\Temp\\ipykernel_7936\\3538330947.py\"\u001b[1;36m, line \u001b[1;32m1\u001b[0m\n\u001b[1;33m    - 현재 위치(같은 경로)        현재파일과 같은 위치에 있는 모듈\u001b[0m\n\u001b[1;37m         ^\u001b[0m\n\u001b[1;31mSyntaxError\u001b[0m\u001b[1;31m:\u001b[0m invalid syntax\n"
     ]
    }
   ],
   "source": [
    "- 현재 위치(같은 경로)        현재파일과 같은 위치에 있는 모듈\n",
    "    - 기존 path                 환경변수에 등록된 path\n",
    "    - (추천)sys 모듈을이용해서 path경로 추가     (임시)  \n",
    "        - sys.path.append('경로')\n",
    "    - window의 환경변수에 path 추가              (영구)"
   ]
  },
  {
   "cell_type": "code",
   "execution_count": 51,
   "id": "68d98e4f",
   "metadata": {},
   "outputs": [],
   "source": [
    "a= 1,2,3"
   ]
  },
  {
   "cell_type": "code",
   "execution_count": 52,
   "id": "252a5fda",
   "metadata": {},
   "outputs": [
    {
     "data": {
      "text/plain": [
       "(1, 2, 3)"
      ]
     },
     "execution_count": 52,
     "metadata": {},
     "output_type": "execute_result"
    }
   ],
   "source": [
    "a"
   ]
  },
  {
   "cell_type": "code",
   "execution_count": 54,
   "id": "987ee010",
   "metadata": {},
   "outputs": [],
   "source": [
    "b,c,d=a"
   ]
  },
  {
   "cell_type": "code",
   "execution_count": 55,
   "id": "eb3b0f8b",
   "metadata": {},
   "outputs": [
    {
     "data": {
      "text/plain": [
       "1"
      ]
     },
     "execution_count": 55,
     "metadata": {},
     "output_type": "execute_result"
    }
   ],
   "source": [
    "b"
   ]
  },
  {
   "cell_type": "code",
   "execution_count": 59,
   "id": "2e9f95fb",
   "metadata": {},
   "outputs": [
    {
     "data": {
      "text/plain": [
       "['_CHUNK_SIZE',\n",
       " '__class__',\n",
       " '__del__',\n",
       " '__delattr__',\n",
       " '__dict__',\n",
       " '__dir__',\n",
       " '__doc__',\n",
       " '__enter__',\n",
       " '__eq__',\n",
       " '__exit__',\n",
       " '__format__',\n",
       " '__ge__',\n",
       " '__getattribute__',\n",
       " '__gt__',\n",
       " '__hash__',\n",
       " '__init__',\n",
       " '__init_subclass__',\n",
       " '__iter__',\n",
       " '__le__',\n",
       " '__lt__',\n",
       " '__ne__',\n",
       " '__new__',\n",
       " '__next__',\n",
       " '__reduce__',\n",
       " '__reduce_ex__',\n",
       " '__repr__',\n",
       " '__setattr__',\n",
       " '__sizeof__',\n",
       " '__str__',\n",
       " '__subclasshook__',\n",
       " '_checkClosed',\n",
       " '_checkReadable',\n",
       " '_checkSeekable',\n",
       " '_checkWritable',\n",
       " '_finalizing',\n",
       " 'buffer',\n",
       " 'close',\n",
       " 'closed',\n",
       " 'detach',\n",
       " 'encoding',\n",
       " 'errors',\n",
       " 'fileno',\n",
       " 'flush',\n",
       " 'isatty',\n",
       " 'line_buffering',\n",
       " 'mode',\n",
       " 'name',\n",
       " 'newlines',\n",
       " 'read',\n",
       " 'readable',\n",
       " 'readline',\n",
       " 'readlines',\n",
       " 'reconfigure',\n",
       " 'seek',\n",
       " 'seekable',\n",
       " 'tell',\n",
       " 'truncate',\n",
       " 'writable',\n",
       " 'write',\n",
       " 'write_through',\n",
       " 'writelines']"
      ]
     },
     "execution_count": 59,
     "metadata": {},
     "output_type": "execute_result"
    }
   ],
   "source": [
    "dir(txt)"
   ]
  },
  {
   "cell_type": "code",
   "execution_count": 60,
   "id": "e567e8f7",
   "metadata": {},
   "outputs": [
    {
     "data": {
      "text/plain": [
       "<function dir>"
      ]
     },
     "execution_count": 60,
     "metadata": {},
     "output_type": "execute_result"
    }
   ],
   "source": [
    "dir"
   ]
  },
  {
   "cell_type": "code",
   "execution_count": 61,
   "id": "d6f8336e",
   "metadata": {},
   "outputs": [
    {
     "data": {
      "text/plain": [
       "['__add__',\n",
       " '__class__',\n",
       " '__contains__',\n",
       " '__delattr__',\n",
       " '__dir__',\n",
       " '__doc__',\n",
       " '__eq__',\n",
       " '__format__',\n",
       " '__ge__',\n",
       " '__getattribute__',\n",
       " '__getitem__',\n",
       " '__getnewargs__',\n",
       " '__gt__',\n",
       " '__hash__',\n",
       " '__init__',\n",
       " '__init_subclass__',\n",
       " '__iter__',\n",
       " '__le__',\n",
       " '__len__',\n",
       " '__lt__',\n",
       " '__mod__',\n",
       " '__mul__',\n",
       " '__ne__',\n",
       " '__new__',\n",
       " '__reduce__',\n",
       " '__reduce_ex__',\n",
       " '__repr__',\n",
       " '__rmod__',\n",
       " '__rmul__',\n",
       " '__setattr__',\n",
       " '__sizeof__',\n",
       " '__str__',\n",
       " '__subclasshook__',\n",
       " 'capitalize',\n",
       " 'casefold',\n",
       " 'center',\n",
       " 'count',\n",
       " 'encode',\n",
       " 'endswith',\n",
       " 'expandtabs',\n",
       " 'find',\n",
       " 'format',\n",
       " 'format_map',\n",
       " 'index',\n",
       " 'isalnum',\n",
       " 'isalpha',\n",
       " 'isascii',\n",
       " 'isdecimal',\n",
       " 'isdigit',\n",
       " 'isidentifier',\n",
       " 'islower',\n",
       " 'isnumeric',\n",
       " 'isprintable',\n",
       " 'isspace',\n",
       " 'istitle',\n",
       " 'isupper',\n",
       " 'join',\n",
       " 'ljust',\n",
       " 'lower',\n",
       " 'lstrip',\n",
       " 'maketrans',\n",
       " 'partition',\n",
       " 'removeprefix',\n",
       " 'removesuffix',\n",
       " 'replace',\n",
       " 'rfind',\n",
       " 'rindex',\n",
       " 'rjust',\n",
       " 'rpartition',\n",
       " 'rsplit',\n",
       " 'rstrip',\n",
       " 'split',\n",
       " 'splitlines',\n",
       " 'startswith',\n",
       " 'strip',\n",
       " 'swapcase',\n",
       " 'title',\n",
       " 'translate',\n",
       " 'upper',\n",
       " 'zfill']"
      ]
     },
     "execution_count": 61,
     "metadata": {},
     "output_type": "execute_result"
    }
   ],
   "source": [
    "dir('/data')"
   ]
  },
  {
   "cell_type": "code",
   "execution_count": 62,
   "id": "bdcd9f18",
   "metadata": {},
   "outputs": [],
   "source": [
    "sett={1,2,3,4,5,3}"
   ]
  },
  {
   "cell_type": "code",
   "execution_count": 67,
   "id": "4e373f3c",
   "metadata": {},
   "outputs": [
    {
     "data": {
      "text/plain": [
       "5"
      ]
     },
     "execution_count": 67,
     "metadata": {},
     "output_type": "execute_result"
    }
   ],
   "source": [
    "17//3"
   ]
  },
  {
   "cell_type": "code",
   "execution_count": 65,
   "id": "a3a4a781",
   "metadata": {},
   "outputs": [],
   "source": [
    "sett={1,2,3}"
   ]
  },
  {
   "cell_type": "code",
   "execution_count": 72,
   "id": "b8f414d4",
   "metadata": {},
   "outputs": [
    {
     "name": "stdout",
     "output_type": "stream",
     "text": [
      "교환할 돈은 얼마입니까2763\n",
      "결과:\n",
      "    오백원짜리===>5개\n",
      "    백원짜리===>2개\n",
      "    오십원짜리===>1개\n",
      "    십원짜리===>1개\n",
      "    나머지 바꾸지 못한 잔돈===>3\n"
     ]
    }
   ],
   "source": [
    "def change():\n",
    "    c=int(input('교환할 돈은 얼마입니까'))\n",
    "    five00=c//500\n",
    "    one00= (c%500)//100\n",
    "    five0= (c%100)//50\n",
    "    one0=(c%50)//10\n",
    "    tip=c%10\n",
    "    print(f'''결과:\n",
    "    오백원짜리===>{five00}개\n",
    "    백원짜리===>{one00}개\n",
    "    오십원짜리===>{five0}개\n",
    "    십원짜리===>{one0}개\n",
    "    나머지 바꾸지 못한 잔돈===>{tip}''')\n",
    "    \n",
    "change()"
   ]
  },
  {
   "cell_type": "code",
   "execution_count": 73,
   "id": "55da5e8d",
   "metadata": {},
   "outputs": [
    {
     "ename": "KeyboardInterrupt",
     "evalue": "Interrupted by user",
     "output_type": "error",
     "traceback": [
      "\u001b[1;31m---------------------------------------------------------------------------\u001b[0m",
      "\u001b[1;31mKeyboardInterrupt\u001b[0m                         Traceback (most recent call last)",
      "\u001b[1;32m~\\AppData\\Local\\Temp\\ipykernel_7936\\3594486976.py\u001b[0m in \u001b[0;36m<module>\u001b[1;34m\u001b[0m\n\u001b[1;32m----> 1\u001b[1;33m \u001b[0mc\u001b[0m\u001b[1;33m=\u001b[0m\u001b[0mint\u001b[0m\u001b[1;33m(\u001b[0m\u001b[0minput\u001b[0m\u001b[1;33m(\u001b[0m\u001b[1;34m'교환할 돈은 얼마입니까'\u001b[0m\u001b[1;33m)\u001b[0m\u001b[1;33m)\u001b[0m\u001b[1;33m\u001b[0m\u001b[1;33m\u001b[0m\u001b[0m\n\u001b[0m\u001b[0;32m      2\u001b[0m \u001b[0mfive00\u001b[0m\u001b[1;33m=\u001b[0m\u001b[0mc\u001b[0m\u001b[1;33m//\u001b[0m\u001b[1;36m500\u001b[0m\u001b[1;33m\u001b[0m\u001b[1;33m\u001b[0m\u001b[0m\n\u001b[0;32m      3\u001b[0m \u001b[0mone00\u001b[0m\u001b[1;33m=\u001b[0m \u001b[1;33m(\u001b[0m\u001b[0mc\u001b[0m\u001b[1;33m%\u001b[0m\u001b[1;36m500\u001b[0m\u001b[1;33m)\u001b[0m\u001b[1;33m//\u001b[0m\u001b[1;36m100\u001b[0m\u001b[1;33m\u001b[0m\u001b[1;33m\u001b[0m\u001b[0m\n\u001b[0;32m      4\u001b[0m \u001b[0mfive0\u001b[0m\u001b[1;33m=\u001b[0m \u001b[1;33m(\u001b[0m\u001b[0mc\u001b[0m\u001b[1;33m%\u001b[0m\u001b[1;36m100\u001b[0m\u001b[1;33m)\u001b[0m\u001b[1;33m//\u001b[0m\u001b[1;36m50\u001b[0m\u001b[1;33m\u001b[0m\u001b[1;33m\u001b[0m\u001b[0m\n\u001b[0;32m      5\u001b[0m \u001b[0mone0\u001b[0m\u001b[1;33m=\u001b[0m\u001b[1;33m(\u001b[0m\u001b[0mc\u001b[0m\u001b[1;33m%\u001b[0m\u001b[1;36m50\u001b[0m\u001b[1;33m)\u001b[0m\u001b[1;33m//\u001b[0m\u001b[1;36m10\u001b[0m\u001b[1;33m\u001b[0m\u001b[1;33m\u001b[0m\u001b[0m\n",
      "\u001b[1;32m~\\anaconda3\\lib\\site-packages\\ipykernel\\kernelbase.py\u001b[0m in \u001b[0;36mraw_input\u001b[1;34m(self, prompt)\u001b[0m\n\u001b[0;32m   1175\u001b[0m                 \u001b[1;34m\"raw_input was called, but this frontend does not support input requests.\"\u001b[0m\u001b[1;33m\u001b[0m\u001b[1;33m\u001b[0m\u001b[0m\n\u001b[0;32m   1176\u001b[0m             )\n\u001b[1;32m-> 1177\u001b[1;33m         return self._input_request(\n\u001b[0m\u001b[0;32m   1178\u001b[0m             \u001b[0mstr\u001b[0m\u001b[1;33m(\u001b[0m\u001b[0mprompt\u001b[0m\u001b[1;33m)\u001b[0m\u001b[1;33m,\u001b[0m\u001b[1;33m\u001b[0m\u001b[1;33m\u001b[0m\u001b[0m\n\u001b[0;32m   1179\u001b[0m             \u001b[0mself\u001b[0m\u001b[1;33m.\u001b[0m\u001b[0m_parent_ident\u001b[0m\u001b[1;33m[\u001b[0m\u001b[1;34m\"shell\"\u001b[0m\u001b[1;33m]\u001b[0m\u001b[1;33m,\u001b[0m\u001b[1;33m\u001b[0m\u001b[1;33m\u001b[0m\u001b[0m\n",
      "\u001b[1;32m~\\anaconda3\\lib\\site-packages\\ipykernel\\kernelbase.py\u001b[0m in \u001b[0;36m_input_request\u001b[1;34m(self, prompt, ident, parent, password)\u001b[0m\n\u001b[0;32m   1217\u001b[0m             \u001b[1;32mexcept\u001b[0m \u001b[0mKeyboardInterrupt\u001b[0m\u001b[1;33m:\u001b[0m\u001b[1;33m\u001b[0m\u001b[1;33m\u001b[0m\u001b[0m\n\u001b[0;32m   1218\u001b[0m                 \u001b[1;31m# re-raise KeyboardInterrupt, to truncate traceback\u001b[0m\u001b[1;33m\u001b[0m\u001b[1;33m\u001b[0m\u001b[0m\n\u001b[1;32m-> 1219\u001b[1;33m                 \u001b[1;32mraise\u001b[0m \u001b[0mKeyboardInterrupt\u001b[0m\u001b[1;33m(\u001b[0m\u001b[1;34m\"Interrupted by user\"\u001b[0m\u001b[1;33m)\u001b[0m \u001b[1;32mfrom\u001b[0m \u001b[1;32mNone\u001b[0m\u001b[1;33m\u001b[0m\u001b[1;33m\u001b[0m\u001b[0m\n\u001b[0m\u001b[0;32m   1220\u001b[0m             \u001b[1;32mexcept\u001b[0m \u001b[0mException\u001b[0m\u001b[1;33m:\u001b[0m\u001b[1;33m\u001b[0m\u001b[1;33m\u001b[0m\u001b[0m\n\u001b[0;32m   1221\u001b[0m                 \u001b[0mself\u001b[0m\u001b[1;33m.\u001b[0m\u001b[0mlog\u001b[0m\u001b[1;33m.\u001b[0m\u001b[0mwarning\u001b[0m\u001b[1;33m(\u001b[0m\u001b[1;34m\"Invalid Message:\"\u001b[0m\u001b[1;33m,\u001b[0m \u001b[0mexc_info\u001b[0m\u001b[1;33m=\u001b[0m\u001b[1;32mTrue\u001b[0m\u001b[1;33m)\u001b[0m\u001b[1;33m\u001b[0m\u001b[1;33m\u001b[0m\u001b[0m\n",
      "\u001b[1;31mKeyboardInterrupt\u001b[0m: Interrupted by user"
     ]
    }
   ],
   "source": [
    "    c=int(input('교환할 돈은 얼마입니까'))\n",
    "    five00=c//500\n",
    "    one00= (c%500)//100\n",
    "    five0= (c%100)//50\n",
    "    one0=(c%50)//10\n",
    "    tip=c%10\n",
    "    print(f'''결과:\n",
    "    오백원짜리===>{five00}개\n",
    "    백원짜리===>{one00}개\n",
    "    오십원짜리===>{five0}개\n",
    "    십원짜리===>{one0}개\n",
    "    나머지 바꾸지 못한 잔돈===>{tip}''')\n",
    "    "
   ]
  },
  {
   "cell_type": "code",
   "execution_count": 83,
   "id": "3bd7ea53",
   "metadata": {},
   "outputs": [
    {
     "name": "stdout",
     "output_type": "stream",
     "text": [
      "입력qwer\n",
      "qwe 0\n"
     ]
    }
   ],
   "source": [
    "out=''\n",
    "txt= input('입력')\n",
    "for i in range(len(txt)-1):\n",
    "#     print(i)\n",
    "#     print(txt[i])\n",
    "    j=0\n",
    "    out += txt[i]\n",
    "    if txt[i] == txt[i+1]:\n",
    "        j+=1\n",
    "        \n",
    "print(out,j)"
   ]
  },
  {
   "cell_type": "code",
   "execution_count": 252,
   "id": "6be25628",
   "metadata": {},
   "outputs": [
    {
     "name": "stdout",
     "output_type": "stream",
     "text": [
      "입력qwe\n"
     ]
    },
    {
     "data": {
      "text/plain": [
       "'q1w1e1'"
      ]
     },
     "execution_count": 252,
     "metadata": {},
     "output_type": "execute_result"
    }
   ],
   "source": [
    "txt= input('입력')\n",
    "# wlist= [i for i in txt]\n",
    "cnt=1\n",
    "result=txt[0]\n",
    "for i in range(1,len(txt)):\n",
    "#     print(wlist[i])\n",
    "    if txt[i]== txt[i-1]:\n",
    "        cnt+=1\n",
    "    else:\n",
    "        result= result+str(cnt)+txt[i]\n",
    "        cnt=1\n",
    "result+=str(cnt)\n",
    "result"
   ]
  },
  {
   "cell_type": "code",
   "execution_count": 255,
   "id": "aa1a2806",
   "metadata": {},
   "outputs": [
    {
     "name": "stdout",
     "output_type": "stream",
     "text": [
      "입력:aaabbcccccca\n"
     ]
    },
    {
     "data": {
      "text/plain": [
       "'a3b2c6a1'"
      ]
     },
     "execution_count": 255,
     "metadata": {},
     "output_type": "execute_result"
    }
   ],
   "source": [
    "txt= input('입력:')\n",
    "result=txt[0]\n",
    "cnt=1\n",
    "\n",
    "for i in range(1,len(txt)):\n",
    "    if txt[i]==txt[i-1]:\n",
    "        cnt+=1\n",
    "    else:\n",
    "        result= result+str(cnt)+txt[i]\n",
    "        cnt=1\n",
    "        \n",
    "result+=str(cnt)\n",
    "result"
   ]
  },
  {
   "cell_type": "code",
   "execution_count": 91,
   "id": "bd590352",
   "metadata": {},
   "outputs": [
    {
     "name": "stdout",
     "output_type": "stream",
     "text": [
      "\n",
      "    친구관리 프로그램\n",
      "    ====================\n",
      "\n",
      "    1. 친구리스트 출력\n",
      "    2. 친구 추가\n",
      "    3. 친구 삭제\n",
      "    4. 이름 변경\n",
      "    9. 종료\n",
      "    메뉴를 선택:1\n",
      "[]\n",
      "----------------\n",
      "\n",
      "    1. 친구리스트 출력\n",
      "    2. 친구 추가\n",
      "    3. 친구 삭제\n",
      "    4. 이름 변경\n",
      "    9. 종료\n",
      "    메뉴를 선택:2\n",
      "이름을 입력:홍\n",
      "----------------\n",
      "\n",
      "    1. 친구리스트 출력\n",
      "    2. 친구 추가\n",
      "    3. 친구 삭제\n",
      "    4. 이름 변경\n",
      "    9. 종료\n",
      "    메뉴를 선택:2\n",
      "이름을 입력:김\n",
      "----------------\n",
      "\n",
      "    1. 친구리스트 출력\n",
      "    2. 친구 추가\n",
      "    3. 친구 삭제\n",
      "    4. 이름 변경\n",
      "    9. 종료\n",
      "    메뉴를 선택:1\n",
      "['홍', '김']\n",
      "----------------\n",
      "\n",
      "    1. 친구리스트 출력\n",
      "    2. 친구 추가\n",
      "    3. 친구 삭제\n",
      "    4. 이름 변경\n",
      "    9. 종료\n",
      "    메뉴를 선택:4\n",
      "변경할 이름 선택:김\n",
      "변경하고 싶은 이름 입력: 박\n",
      "----------------\n",
      "\n",
      "    1. 친구리스트 출력\n",
      "    2. 친구 추가\n",
      "    3. 친구 삭제\n",
      "    4. 이름 변경\n",
      "    9. 종료\n",
      "    메뉴를 선택:1\n",
      "['홍', '박']\n",
      "----------------\n",
      "\n",
      "    1. 친구리스트 출력\n",
      "    2. 친구 추가\n",
      "    3. 친구 삭제\n",
      "    4. 이름 변경\n",
      "    9. 종료\n",
      "    메뉴를 선택:4\n",
      "변경할 이름 선택:홍\n",
      "변경하고 싶은 이름 입력: 최\n",
      "----------------\n",
      "\n",
      "    1. 친구리스트 출력\n",
      "    2. 친구 추가\n",
      "    3. 친구 삭제\n",
      "    4. 이름 변경\n",
      "    9. 종료\n",
      "    메뉴를 선택:1\n",
      "['최', '박']\n",
      "----------------\n",
      "\n",
      "    1. 친구리스트 출력\n",
      "    2. 친구 추가\n",
      "    3. 친구 삭제\n",
      "    4. 이름 변경\n",
      "    9. 종료\n",
      "    메뉴를 선택:3\n",
      "삭제할 이름을 입력:박\n",
      "----------------\n",
      "\n",
      "    1. 친구리스트 출력\n",
      "    2. 친구 추가\n",
      "    3. 친구 삭제\n",
      "    4. 이름 변경\n",
      "    9. 종료\n",
      "    메뉴를 선택:1\n",
      "['최']\n",
      "----------------\n",
      "\n",
      "    1. 친구리스트 출력\n",
      "    2. 친구 추가\n",
      "    3. 친구 삭제\n",
      "    4. 이름 변경\n",
      "    9. 종료\n",
      "    메뉴를 선택:9\n",
      "종료\n"
     ]
    }
   ],
   "source": [
    "print('''\n",
    "    친구관리 프로그램\n",
    "    ====================''')\n",
    "flist=[]\n",
    "while True: \n",
    "    i= input('''\n",
    "    1. 친구리스트 출력\n",
    "    2. 친구 추가\n",
    "    3. 친구 삭제\n",
    "    4. 이름 변경\n",
    "    9. 종료\n",
    "    메뉴를 선택:''')\n",
    "    if i=='1':\n",
    "        print(flist)\n",
    "    elif i=='2':\n",
    "        name=input('이름을 입력:')\n",
    "        flist.append(name)\n",
    "    elif i=='3':\n",
    "        name= input('삭제할 이름을 입력:')\n",
    "        flist.remove(name)\n",
    "    elif i=='4':\n",
    "        name= input('변경할 이름 선택:')\n",
    "        newname= input('변경하고 싶은 이름 입력: ')\n",
    "        flist[flist.index(name)]= newname\n",
    "    elif i=='9':\n",
    "        print('종료')\n",
    "        break\n",
    "    print('----------------')"
   ]
  },
  {
   "cell_type": "code",
   "execution_count": 94,
   "id": "5038705e",
   "metadata": {},
   "outputs": [
    {
     "name": "stdout",
     "output_type": "stream",
     "text": [
      "여기는 커피 전문점입니다.\n",
      "커피는 아메리카노만 팔아요.\n",
      "가격은 3000원 입니다.\n",
      "오늘 커피 남은 양은 3잔입니다\n",
      "1회 주문시 1잔 씩만 판매합니다\n",
      "====================\n",
      "지불할 금액1000\n",
      "금액이 부족합니다\n",
      "남은 커피의 양은 3잔입니다\n",
      "지불할 금액5000\n",
      "거스름돈은 2000원\n",
      "커피 맛있게 드세요\n",
      "남은 커피의 양은 2잔입니다\n",
      "지불할 금액3000\n",
      "커피 맛있게 드세요\n",
      "남은 커피의 양은 1잔입니다\n",
      "지불할 금액3000\n",
      "커피 맛있게 드세요\n",
      "남은 커피의 양은 0잔입니다\n",
      " 커피가 없어요~~ .장사 끝!!!\n"
     ]
    }
   ],
   "source": [
    "print (\"여기는 커피 전문점입니다.\")\n",
    "print (\"커피는 아메리카노만 팔아요.\")\n",
    "print (\"가격은 3000원 입니다.\")\n",
    "print (\"오늘 커피 남은 양은 3잔입니다\")\n",
    "print (\"1회 주문시 1잔 씩만 판매합니다\")\n",
    "print (\"==\" * 10)\n",
    "cup=3\n",
    "while True:\n",
    "    pay= int(input('지불할 금액'))\n",
    "    if pay<3000:\n",
    "        print('금액이 부족합니다')\n",
    "    else:\n",
    "        if pay-3000>0:\n",
    "            print(f'거스름돈은 {pay-3000}원')\n",
    "        print('커피 맛있게 드세요')\n",
    "        cup -=1\n",
    "    print(f'남은 커피의 양은 {cup}잔입니다')\n",
    "    if cup==0:\n",
    "        print(' 커피가 없어요~~ .장사 끝!!!')\n",
    "        break\n",
    "    \n",
    "   "
   ]
  },
  {
   "cell_type": "code",
   "execution_count": 256,
   "id": "8cadadbd",
   "metadata": {},
   "outputs": [
    {
     "name": "stdout",
     "output_type": "stream",
     "text": [
      "(가위, 바위, 보) 중에서 하나를 선택 :가위\n",
      "컴퓨터: 보, 사용자: 가위\n",
      "사용자가 이겼습니다\n"
     ]
    }
   ],
   "source": [
    "import random as rand\n",
    "com= rand.randint(1,3)\n",
    "\n",
    "if com==1: com= '가위'\n",
    "elif com==2: com='바위'\n",
    "else: com='보'\n",
    "\n",
    "user= input('(가위, 바위, 보) 중에서 하나를 선택 :')\n",
    "print(f'컴퓨터: {com}, 사용자: {user}')\n",
    "if user==com:\n",
    "    print('비겼습니다')\n",
    "if user=='가위':\n",
    "    if com=='바위':\n",
    "        print('사용자가 졌습니다.')\n",
    "    elif com=='보':\n",
    "        print('사용자가 이겼습니다')\n",
    "elif user=='바위':\n",
    "    if com=='보':\n",
    "        print('사용자가 졌습니다.')\n",
    "    elif com=='가위':\n",
    "        print('사용자가 이겼습니다')\n",
    "elif user=='보':\n",
    "    if com=='가위':\n",
    "        print('사용자가 졌습니다.')\n",
    "    elif com=='바위':\n",
    "        print('사용자가 이겼습니다')        "
   ]
  },
  {
   "cell_type": "code",
   "execution_count": 257,
   "id": "46ae0ffe",
   "metadata": {},
   "outputs": [
    {
     "name": "stdout",
     "output_type": "stream",
     "text": [
      "연도를 입력:2020\n",
      "윤년입니다\n"
     ]
    }
   ],
   "source": [
    "year=int(input('연도를 입력:'))\n",
    "if year%4==0:\n",
    "    if year%100==0:\n",
    "        if year%400==0:\n",
    "            print('윤년입니다')\n",
    "        else: print('평년입니다')\n",
    "    else: print('윤년입니다')\n",
    "else: print('평년입니다')"
   ]
  },
  {
   "cell_type": "code",
   "execution_count": 171,
   "id": "c54093b3",
   "metadata": {},
   "outputs": [],
   "source": [
    "def avg_numbers(*num):\n",
    "    sum=0\n",
    "    for i in num:\n",
    "        sum+= i\n",
    "    print(sum/len(num))"
   ]
  },
  {
   "cell_type": "code",
   "execution_count": 173,
   "id": "177436db",
   "metadata": {},
   "outputs": [
    {
     "name": "stdout",
     "output_type": "stream",
     "text": [
      "3.0\n"
     ]
    }
   ],
   "source": [
    "avg_numbers(1,2,3,4,5)"
   ]
  },
  {
   "cell_type": "code",
   "execution_count": 192,
   "id": "9ea8c685",
   "metadata": {},
   "outputs": [],
   "source": [
    "class Employee:\n",
    "    cnt=0\n",
    "    def __init__(self, enum, ename, salary, hobby):\n",
    "        self.enum= enum\n",
    "        self.ename= ename\n",
    "        self.salary= salary\n",
    "        self.hobby=hobby\n",
    "        Employee.cnt +=1\n",
    "    def display(self):\n",
    "        print(f'''\n",
    "        사번:{self.enum}\n",
    "        이름:{self.ename}\n",
    "        급여:{self.salary}\n",
    "        취미:{self.hobby}''')\n",
    "    @staticmethod\n",
    "    def getCount():\n",
    "        return Employee.cnt\n",
    "    def setSalary(self, salary):\n",
    "        self.salary= salary\n",
    "    def appendHobby(self, *hobby):\n",
    "        for i in hobby:\n",
    "            self.hobby.append(i)"
   ]
  },
  {
   "cell_type": "code",
   "execution_count": 193,
   "id": "4bd38cec",
   "metadata": {},
   "outputs": [
    {
     "name": "stdout",
     "output_type": "stream",
     "text": [
      "\n",
      "        사번:1111\n",
      "        이름:홍길동\n",
      "        급여:1000000\n",
      "        취미:['여행', '낚시', '운동']\n"
     ]
    },
    {
     "data": {
      "text/plain": [
       "1"
      ]
     },
     "execution_count": 193,
     "metadata": {},
     "output_type": "execute_result"
    }
   ],
   "source": [
    "e1 = Employee(1111, \"홍길동\", 1000000, [\"여행\", \"낚시\", \"운동\"])\n",
    "e1.display()\n",
    "e1.getCount()"
   ]
  },
  {
   "cell_type": "code",
   "execution_count": 194,
   "id": "35aef3ae",
   "metadata": {},
   "outputs": [
    {
     "name": "stdout",
     "output_type": "stream",
     "text": [
      "인원수 :  3\n",
      "\n",
      "        사번:1113\n",
      "        이름:신돌석\n",
      "        급여:2000000\n",
      "        취미:['독서', '피아노', '드론']\n"
     ]
    }
   ],
   "source": [
    "e2 = Employee(1112, \"임꺽정\", 1200000, [\"자전거\", \"볼링\"])\n",
    "e3 = Employee(1113, \"신돌석\", 1400000, [\"독서\"])\n",
    "\n",
    "total = Employee.getCount()\n",
    "print(\"인원수 : \", total)\n",
    "\n",
    "# 데이터 수정\n",
    "e3.setSalary(2000000)\n",
    "e3.appendHobby(\"피아노\", \"드론\")\n",
    "e3.display()\n"
   ]
  },
  {
   "cell_type": "code",
   "execution_count": null,
   "id": "c0112acb",
   "metadata": {},
   "outputs": [],
   "source": []
  }
 ],
 "metadata": {
  "kernelspec": {
   "display_name": "Python 3 (ipykernel)",
   "language": "python",
   "name": "python3"
  },
  "language_info": {
   "codemirror_mode": {
    "name": "ipython",
    "version": 3
   },
   "file_extension": ".py",
   "mimetype": "text/x-python",
   "name": "python",
   "nbconvert_exporter": "python",
   "pygments_lexer": "ipython3",
   "version": "3.9.13"
  }
 },
 "nbformat": 4,
 "nbformat_minor": 5
}
