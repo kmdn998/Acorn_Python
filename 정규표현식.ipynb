{
 "cells": [
  {
   "cell_type": "code",
   "execution_count": 1,
   "id": "926f343d",
   "metadata": {},
   "outputs": [],
   "source": [
    "import re"
   ]
  },
  {
   "cell_type": "code",
   "execution_count": 2,
   "id": "64dd9f37",
   "metadata": {},
   "outputs": [],
   "source": [
    "data = \"\"\"\n",
    "<a href=\"abc1.html\">abc1</a>\n",
    "<a href=\"abc2.html\">abc2</a>\n",
    "<a href=\"abc3.html\">abc3</a>\n",
    "<a href=\"xyz.html\">xyz</a>\n",
    "<a href=\"pic.jpg\">pic</a>\n",
    "\"\"\""
   ]
  },
  {
   "cell_type": "code",
   "execution_count": 3,
   "id": "077c63c6",
   "metadata": {},
   "outputs": [
    {
     "data": {
      "text/plain": [
       "['abc1.html', 'abc2.html', 'abc3.html', 'xyz.html', 'pic.jpg']"
      ]
     },
     "execution_count": 3,
     "metadata": {},
     "output_type": "execute_result"
    }
   ],
   "source": [
    "re.findall('href=\"(.+)\"', data) # href=\" 와 \" 사이에 있는 문자 추출"
   ]
  },
  {
   "cell_type": "code",
   "execution_count": null,
   "id": "95300016",
   "metadata": {},
   "outputs": [],
   "source": []
  }
 ],
 "metadata": {
  "kernelspec": {
   "display_name": "Python 3 (ipykernel)",
   "language": "python",
   "name": "python3"
  },
  "language_info": {
   "codemirror_mode": {
    "name": "ipython",
    "version": 3
   },
   "file_extension": ".py",
   "mimetype": "text/x-python",
   "name": "python",
   "nbconvert_exporter": "python",
   "pygments_lexer": "ipython3",
   "version": "3.9.13"
  }
 },
 "nbformat": 4,
 "nbformat_minor": 5
}
