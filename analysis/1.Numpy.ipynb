{
 "cells": [
  {
   "cell_type": "markdown",
   "id": "37239ade",
   "metadata": {},
   "source": [
    "Numpy를 사용한 코드가 순수 파이썬으로 작성한 코드보다 열배에서 백 배 이상 빠르고 메모리도 더 적게 사용하는 것을 확인할 수 있다."
   ]
  },
  {
   "cell_type": "code",
   "execution_count": 3,
   "id": "9b76aad8",
   "metadata": {},
   "outputs": [
    {
     "name": "stdout",
     "output_type": "stream",
     "text": [
      "[1, 2, 3]\n",
      "[5, 2, 3]\n",
      "[5, 2, 3]\n",
      "[6 2 3]\n"
     ]
    }
   ],
   "source": [
    "import numpy as np\n",
    "a=[1,2,3] #리스트\n",
    "b=np.array(a) # 배열\n",
    "c=a\n",
    "d=b\n",
    "b[0]=5\n",
    "print(a)\n",
    "c[0]=5\n",
    "print(a)\n",
    "d[0]=6\n",
    "print(a)\n",
    "print(b)"
   ]
  },
  {
   "cell_type": "code",
   "execution_count": 236,
   "id": "bdf648b1",
   "metadata": {},
   "outputs": [],
   "source": [
    "import numpy as np\n",
    "dir(np)"
   ]
  },
  {
   "cell_type": "markdown",
   "id": "ef38e9b1",
   "metadata": {},
   "source": [
    "## 1. 1차원 배열"
   ]
  },
  {
   "cell_type": "code",
   "execution_count": 237,
   "id": "f4937a24",
   "metadata": {},
   "outputs": [
    {
     "name": "stdout",
     "output_type": "stream",
     "text": [
      "[1, 2, 3, 'a', 'b']\n",
      "<class 'list'>\n"
     ]
    }
   ],
   "source": [
    "#파이썬의리스트\n",
    "#다양한 자료형 가능\n",
    "a= [1,2,3,'a','b']\n",
    "print(a)\n",
    "print(type(a))"
   ]
  },
  {
   "cell_type": "code",
   "execution_count": 238,
   "id": "f26e6209",
   "metadata": {},
   "outputs": [
    {
     "name": "stdout",
     "output_type": "stream",
     "text": [
      "['1' '2' '3' 'a' 'b']\n",
      "<class 'numpy.ndarray'>\n",
      "(5,)\n",
      "1\n",
      "<U11\n"
     ]
    }
   ],
   "source": [
    "#배열\n",
    "a= np.array([1,2,3,'a','b'])\n",
    "print(a)\n",
    "#동일한 자료형만 가능해서 모두 문자형으로 바뀜\n",
    "print(type(a))  #n-dimension array\n",
    "print(a.shape)  #구조\n",
    "print(a.ndim)   #차원\n",
    "print(a.dtype)  #자료형"
   ]
  },
  {
   "cell_type": "code",
   "execution_count": 239,
   "id": "84c83598",
   "metadata": {},
   "outputs": [
    {
     "name": "stdout",
     "output_type": "stream",
     "text": [
      "[1. 2. 3. 4. 5.]\n",
      "float64\n"
     ]
    }
   ],
   "source": [
    "a= np.array([1,2,3,'4','5'],dtype=float) # 전체 데이터를 실수형으로\n",
    "print(a)\n",
    "print(a.dtype)"
   ]
  },
  {
   "cell_type": "markdown",
   "id": "5515ad61",
   "metadata": {},
   "source": [
    "### (1) 벡터화 연산\n",
    "    벡터: 1차원 배열\n",
    "    행렬(metrix): 2차원 배열\n",
    "    \n",
    "    리스트의 연산자는 진짜 연산(계산)이 아님\n",
    "    \n",
    "    "
   ]
  },
  {
   "cell_type": "code",
   "execution_count": 240,
   "id": "18c50d9c",
   "metadata": {},
   "outputs": [
    {
     "name": "stdout",
     "output_type": "stream",
     "text": [
      "[1, 2, 3, 4, 5, 1, 2, 3, 4, 5]\n",
      "[ 2  4  6  8 10]\n",
      "[-4 -3 -2 -1  0]\n"
     ]
    }
   ],
   "source": [
    "a=[1,2,3,4,5]\n",
    "b= np.array(a)\n",
    "print(a*2)\n",
    "print(b*2)\n",
    "print(b-5)"
   ]
  },
  {
   "cell_type": "markdown",
   "id": "151ef7c0",
   "metadata": {},
   "source": [
    "### (2) 인덱스 접근\n",
    "    변수가 메모리에 연속적으로 존재"
   ]
  },
  {
   "cell_type": "code",
   "execution_count": 241,
   "id": "7d87d7e1",
   "metadata": {},
   "outputs": [
    {
     "name": "stdout",
     "output_type": "stream",
     "text": [
      "1 2\n"
     ]
    }
   ],
   "source": [
    "print(b[0],b[1])"
   ]
  },
  {
   "cell_type": "markdown",
   "id": "81061a14",
   "metadata": {},
   "source": [
    "## 2. 2차원 배열"
   ]
  },
  {
   "cell_type": "code",
   "execution_count": 242,
   "id": "d41b33e5",
   "metadata": {},
   "outputs": [
    {
     "name": "stdout",
     "output_type": "stream",
     "text": [
      "[[1 2 3]\n",
      " [4 5 6]]\n",
      "(2, 3)\n",
      "2\n",
      "int32\n"
     ]
    }
   ],
   "source": [
    "a=np.array([[1,2,3],[4,5,6]])\n",
    "\n",
    "print(a)\n",
    "print(a.shape)  #2행 3열\n",
    "print(a.ndim)   #2차원\n",
    "print(a.dtype)"
   ]
  },
  {
   "cell_type": "markdown",
   "id": "7d9fbc29",
   "metadata": {},
   "source": [
    "### 인덱스 접근"
   ]
  },
  {
   "cell_type": "code",
   "execution_count": 243,
   "id": "bde97f90",
   "metadata": {},
   "outputs": [
    {
     "name": "stdout",
     "output_type": "stream",
     "text": [
      "[[1 2 3]\n",
      " [4 5 6]]\n",
      "[1 2 3]\n",
      "2\n",
      "1\n",
      "2\n",
      "3\n"
     ]
    }
   ],
   "source": [
    "print(a)\n",
    "print(a[0])\n",
    "print(a[0][1])     # 중첩리스트도 가능\n",
    "print(a[0,0]) # [행,열], 이건 리스트에서 안됨\n",
    "\n",
    "print(len(a))\n",
    "print(len(a[0]))"
   ]
  },
  {
   "cell_type": "markdown",
   "id": "cec1ae1b",
   "metadata": {},
   "source": [
    "## 3. 3차원 배열"
   ]
  },
  {
   "cell_type": "code",
   "execution_count": 244,
   "id": "6146ead6",
   "metadata": {},
   "outputs": [
    {
     "name": "stdout",
     "output_type": "stream",
     "text": [
      "[[[1 2 3 4]\n",
      "  [5 6 7 8]]\n",
      "\n",
      " [[2 3 4 5]\n",
      "  [6 7 8 9]]]\n",
      "(2, 2, 4)\n",
      "3\n",
      "2\n",
      "2\n",
      "4\n"
     ]
    }
   ],
   "source": [
    "a= np.array([[[1,2,3,4],[5,6,7,8]],[[2,3,4,5],[6,7,8,9]]])\n",
    "print(a)\n",
    "print(a.shape)   #2면 2줄 4개\n",
    "print(a.ndim)    #3차원\n",
    "\n",
    "print(len(a))\n",
    "print(len(a[0]))\n",
    "print(len(a[0][0]))"
   ]
  },
  {
   "cell_type": "markdown",
   "id": "b02663a9",
   "metadata": {},
   "source": [
    "## 4.집계함수"
   ]
  },
  {
   "cell_type": "code",
   "execution_count": 245,
   "id": "f0811969",
   "metadata": {},
   "outputs": [
    {
     "name": "stdout",
     "output_type": "stream",
     "text": [
      "[0.06566367 0.04350119 0.39515076 0.66842705 0.19802711 0.87626645\n",
      " 0.4323891  0.61964146]\n",
      "[0.29042674 0.61525457 0.95365996 0.44801472 0.20704984 0.42536729\n",
      " 0.44457426 0.50761749]\n"
     ]
    }
   ],
   "source": [
    "x=np.random.rand(8)\n",
    "print(x)\n",
    "\n",
    "y=np.random.rand(8)\n",
    "print(y)"
   ]
  },
  {
   "cell_type": "code",
   "execution_count": 246,
   "id": "9f71baff",
   "metadata": {},
   "outputs": [
    {
     "data": {
      "text/plain": [
       "array([0.29042674, 0.61525457, 0.95365996, 0.66842705, 0.20704984,\n",
       "       0.87626645, 0.44457426, 0.61964146])"
      ]
     },
     "execution_count": 246,
     "metadata": {},
     "output_type": "execute_result"
    }
   ],
   "source": [
    "np.maximum(x,y)  #같은 위치의 x,y값을 비교해서 큰값"
   ]
  },
  {
   "cell_type": "code",
   "execution_count": 247,
   "id": "28c1ca03",
   "metadata": {},
   "outputs": [
    {
     "name": "stdout",
     "output_type": "stream",
     "text": [
      "[[0.52573325 0.04242919 0.16441909 0.45022718]\n",
      " [0.70797117 0.77758791 0.777103   0.50277875]\n",
      " [0.95674759 0.33187371 0.48145816 0.748374  ]\n",
      " [0.85783952 0.41446006 0.84868451 0.44457094]\n",
      " [0.71574708 0.00844836 0.02520142 0.94045049]]\n"
     ]
    }
   ],
   "source": [
    "#      ?np.random.rand로 도움말 보기\n",
    "arr= np.random.rand(5,4)  #5행 4열로 난수 생성\n",
    "print(arr)"
   ]
  },
  {
   "cell_type": "code",
   "execution_count": 248,
   "id": "7c04396c",
   "metadata": {},
   "outputs": [
    {
     "name": "stdout",
     "output_type": "stream",
     "text": [
      "10.722105400586981\n",
      "[3.76403862 1.57479923 2.29686619 3.08640137]\n",
      "[1.18280871 2.76544083 2.51845347 2.56555503 1.68984737]\n"
     ]
    }
   ],
   "source": [
    "print(arr.sum()) #전체 합계\n",
    "print(arr.sum(axis=0))  # 열의 합\n",
    "print(arr.sum(axis=1))  # 행의 합"
   ]
  },
  {
   "cell_type": "markdown",
   "id": "71479217",
   "metadata": {},
   "source": [
    "## 5. 배열의 인덱싱"
   ]
  },
  {
   "cell_type": "code",
   "execution_count": 249,
   "id": "67cad396",
   "metadata": {},
   "outputs": [
    {
     "name": "stdout",
     "output_type": "stream",
     "text": [
      "4\n"
     ]
    }
   ],
   "source": [
    "arr= np.array([0,1,2,3,4])\n",
    "print(arr[-1]) #역순 접근 가능"
   ]
  },
  {
   "cell_type": "code",
   "execution_count": 1,
   "id": "50f7e0e5",
   "metadata": {},
   "outputs": [
    {
     "name": "stdout",
     "output_type": "stream",
     "text": [
      "[0 2 4 6 8]\n",
      "[0 2 4 6 8]\n",
      "[0 3 6 9]\n",
      "[1 5 9]\n",
      "[9]\n"
     ]
    }
   ],
   "source": [
    "import numpy as np\n",
    "arr= np.array([i for i in range(10)])\n",
    "\n",
    "idx= np.array([True, False,True,False,True, False,True, False,True, False])\n",
    "print(arr[idx])       #배열에서 인덱스를 조건문으로 접근가능\n",
    "print(arr[arr%2==0])    # fancy indexing\n",
    "print(arr[arr%3==0])\n",
    "print(arr[arr%4==1])\n",
    "print(arr[(arr%3==0)&(arr%4==1)])    # 논리연산자 and  비트연산자 &"
   ]
  },
  {
   "cell_type": "code",
   "execution_count": 3,
   "id": "9ebcbe33",
   "metadata": {},
   "outputs": [
    {
     "ename": "ValueError",
     "evalue": "The truth value of an array with more than one element is ambiguous. Use a.any() or a.all()",
     "output_type": "error",
     "traceback": [
      "\u001b[1;31m---------------------------------------------------------------------------\u001b[0m",
      "\u001b[1;31mValueError\u001b[0m                                Traceback (most recent call last)",
      "\u001b[1;32m~\\AppData\\Local\\Temp\\ipykernel_12852\\581680686.py\u001b[0m in \u001b[0;36m<module>\u001b[1;34m\u001b[0m\n\u001b[1;32m----> 1\u001b[1;33m \u001b[0marr\u001b[0m\u001b[1;33m<\u001b[0m\u001b[1;36m10\u001b[0m \u001b[1;32mand\u001b[0m \u001b[0marr\u001b[0m\u001b[1;33m>\u001b[0m\u001b[1;36m2\u001b[0m   \u001b[1;31m#논리 연산자는 여러개를 동시에 계산 못함.\u001b[0m\u001b[1;33m\u001b[0m\u001b[1;33m\u001b[0m\u001b[0m\n\u001b[0m",
      "\u001b[1;31mValueError\u001b[0m: The truth value of an array with more than one element is ambiguous. Use a.any() or a.all()"
     ]
    }
   ],
   "source": [
    "#(arr<10) and (arr>2)   # 논리연산자는 여러개를 동시에 계산 못함. \n",
    "# 비트연산자는 이진수로 바꿔서 계산"
   ]
  },
  {
   "cell_type": "markdown",
   "id": "6a129cb9",
   "metadata": {},
   "source": [
    "## 6.배열의 슬라이싱"
   ]
  },
  {
   "cell_type": "code",
   "execution_count": 296,
   "id": "b4984fbb",
   "metadata": {},
   "outputs": [
    {
     "name": "stdout",
     "output_type": "stream",
     "text": [
      "[[ 0  1  2  3]\n",
      " [ 4  5  6  7]\n",
      " [ 8  9  0 11]]\n",
      "[0 1]\n",
      "[[4 5]\n",
      " [8 9]]\n",
      "[0 1 2 3]\n",
      "[[ 8  9  0 11]\n",
      " [ 4  5  6  7]\n",
      " [ 0  1  2  3]]\n",
      "[[ 1  2  3]\n",
      " [ 5  6  7]\n",
      " [ 9  0 11]]\n"
     ]
    }
   ],
   "source": [
    "arr=np.array([[0,1,2,3],[4,5,6,7],[8,9,0,11]])\n",
    "print(arr)\n",
    "print(arr[0, 0:2])   #[인덱스, 슬라이싱]\n",
    "print(arr[1:3, 0:2])\n",
    "print(arr[0, :])\n",
    "print(arr[[2,1,0],:])    # 2,1,0 인덱스 순서로\n",
    "print(arr[:,[1,2,3]])  #[슬라이싱, 인덱스]"
   ]
  },
  {
   "cell_type": "markdown",
   "id": "46161e41",
   "metadata": {},
   "source": [
    "## 7. numpy 자료형\n",
    "    b: boolean\n",
    "    i: 정수형 32bit= 4byte\n",
    "    u: 부호 없는 정수형. 0,양수\n",
    "    f: 부동 소수점\n",
    "    c: 복소수\n",
    "    O: 객체\n",
    "    S: 바이트 문자열(ASCII) 1바이트(영어)\n",
    "    U: 유니코드 문자열      2바이트(한글)"
   ]
  },
  {
   "cell_type": "code",
   "execution_count": 252,
   "id": "82873278",
   "metadata": {},
   "outputs": [
    {
     "name": "stdout",
     "output_type": "stream",
     "text": [
      "float32\n"
     ]
    }
   ],
   "source": [
    "arr=np.array([1,2,3], dtype='f')\n",
    "# arr=np.array([1,2,3], dtype=np.float16)\n",
    "print(arr.dtype)\n"
   ]
  },
  {
   "cell_type": "code",
   "execution_count": 253,
   "id": "98f74ba7",
   "metadata": {},
   "outputs": [
    {
     "name": "stdout",
     "output_type": "stream",
     "text": [
      "b'13'\n"
     ]
    }
   ],
   "source": [
    "arr=np.array([1,2,3], dtype='S')\n",
    "print(arr[0]+arr[2]) # 문자로 바꼈음"
   ]
  },
  {
   "cell_type": "markdown",
   "id": "ac6754f2",
   "metadata": {},
   "source": [
    "## 8. 배열 생성"
   ]
  },
  {
   "cell_type": "code",
   "execution_count": 254,
   "id": "2d50d03a",
   "metadata": {},
   "outputs": [
    {
     "name": "stdout",
     "output_type": "stream",
     "text": [
      "[0. 0. 0. 0. 0.]\n",
      "[0 0 0 0]\n",
      "['abc' 'cvdd' '' '2345' '']\n",
      "[[0. 0. 0.]\n",
      " [0. 0. 0.]]\n"
     ]
    }
   ],
   "source": [
    "print(np.zeros(5))\n",
    "print(np.zeros(4,dtype='i8')) #64비트 정수\n",
    "arr=np.zeros(5,dtype='U4') #유니코드로 4글자\n",
    "arr[0]='abc'\n",
    "arr[1]='cvddse'\n",
    "arr[3]=2345667\n",
    "print(arr)\n",
    "print(np.zeros((2,3)))"
   ]
  },
  {
   "cell_type": "code",
   "execution_count": 255,
   "id": "428ea9ec",
   "metadata": {},
   "outputs": [
    {
     "name": "stdout",
     "output_type": "stream",
     "text": [
      "[[[1. 1. 1. 1.]\n",
      "  [1. 1. 1. 1.]\n",
      "  [1. 1. 1. 1.]]\n",
      "\n",
      " [[1. 1. 1. 1.]\n",
      "  [1. 1. 1. 1.]\n",
      "  [1. 1. 1. 1.]]]\n",
      "[[0. 0. 0. 0. 0.]\n",
      " [0. 0. 0. 0. 0.]]\n",
      "[[1. 1. 1. 1. 1.]\n",
      " [1. 1. 1. 1. 1.]]\n",
      "[[6.36598737e-314 6.36598737e-314 6.36598737e-314]\n",
      " [1.27319747e-313 1.48539705e-313 6.36598738e-314]\n",
      " [1.48539705e-313 1.27319747e-313 1.06099790e-313]\n",
      " [9.88131292e-324 4.24399159e-314 2.12199580e-314]]\n",
      "[0 1 2 3 4 5 6 7 8 9]\n",
      "[  0.  25.  50.  75. 100.]\n"
     ]
    }
   ],
   "source": [
    "arr=np.ones((2,3,4))      #단위행렬\n",
    "print(arr)\n",
    "\n",
    "arr=np.zeros((2,5))\n",
    "print(arr)\n",
    "print(np.ones_like(arr))  #0으로 구성된 행렬을 모두 1로 바꿈\n",
    "\n",
    "arr= np.empty((4,3))   # 초기화되지않은. 원래 메모리에 있던 값\n",
    "print(arr)\n",
    "\n",
    "arr= np.arange(10)   #range를 array로\n",
    "print(arr)\n",
    "\n",
    "arr= np.linspace(0, 100, 5)   #0부터 100까지 5개로 나눠서\n",
    "print(arr)"
   ]
  },
  {
   "cell_type": "markdown",
   "id": "9ea7f4b0",
   "metadata": {},
   "source": [
    "## 9. 전치 연산(Transpose)\n"
   ]
  },
  {
   "cell_type": "code",
   "execution_count": 256,
   "id": "e812c063",
   "metadata": {},
   "outputs": [
    {
     "name": "stdout",
     "output_type": "stream",
     "text": [
      "[[1 2 3]\n",
      " [4 5 6]]\n",
      "[[1 4]\n",
      " [2 5]\n",
      " [3 6]]\n"
     ]
    }
   ],
   "source": [
    "arr= np.array([[1,2,3],[4,5,6]])\n",
    "print(arr)\n",
    "print(arr.T)"
   ]
  },
  {
   "cell_type": "markdown",
   "id": "36b91ff5",
   "metadata": {},
   "source": [
    "## 10. 배열의 크기 변경\n",
    "배열의 연산은 크기가 같을 때만 사용 가능\n",
    "- reshape()\n",
    "- flatten()   #고차원-> 1차원\n",
    "- ravel()"
   ]
  },
  {
   "cell_type": "code",
   "execution_count": 257,
   "id": "0d6226e3",
   "metadata": {},
   "outputs": [
    {
     "name": "stdout",
     "output_type": "stream",
     "text": [
      "(12,)\n",
      "1\n"
     ]
    }
   ],
   "source": [
    "arr= np.arange(12)\n",
    "print(arr.shape)\n",
    "print(arr.ndim)"
   ]
  },
  {
   "cell_type": "code",
   "execution_count": 258,
   "id": "b4e31d81",
   "metadata": {
    "scrolled": false
   },
   "outputs": [
    {
     "name": "stdout",
     "output_type": "stream",
     "text": [
      "[[ 0  1  2  3]\n",
      " [ 4  5  6  7]\n",
      " [ 8  9 10 11]]\n",
      "(3, 4)\n",
      "[[ 0  1  2  3]\n",
      " [ 4  5  6  7]\n",
      " [ 8  9 10 11]]\n",
      "[[ 0  1  2  3]\n",
      " [ 4  5  6  7]\n",
      " [ 8  9 10 11]]\n",
      "[[[ 0  1  2]\n",
      "  [ 3  4  5]]\n",
      "\n",
      " [[ 6  7  8]\n",
      "  [ 9 10 11]]]\n",
      "(2, 2, 3)\n"
     ]
    }
   ],
   "source": [
    "arr1= arr.reshape(3,4)  #1차원을 3행 4열로\n",
    "print(arr1)\n",
    "print(arr1.shape)\n",
    "\n",
    "arr2= arr.reshape(3,-1)  # 3행에 열은 자동 계산\n",
    "print(arr2)\n",
    "\n",
    "arr3= arr.reshape(-1,4)  # 4열에 행 자동 계산\n",
    "print(arr3)\n",
    "\n",
    "arr4= arr.reshape(2,2,3)  # 3차원으로 2면 2행 3열. -1로 자동계산가능\n",
    "print(arr4)\n",
    "print(arr4.shape)"
   ]
  },
  {
   "cell_type": "code",
   "execution_count": 259,
   "id": "b25766ff",
   "metadata": {},
   "outputs": [
    {
     "name": "stdout",
     "output_type": "stream",
     "text": [
      "[ 0  1  2  3  4  5  6  7  8  9 10 11]\n",
      "[ 0  1  2  3  4  5  6  7  8  9 10 11]\n",
      "[ 0  1  2  3  4  5  6  7  8  9 10 11]\n"
     ]
    }
   ],
   "source": [
    "print(arr4.reshape(12))  #다시 1차원으로\n",
    "print(arr4.flatten())    #계산 필요 없이 바로 1차원으로\n",
    "print(arr4.ravel())"
   ]
  },
  {
   "cell_type": "markdown",
   "id": "55327c2e",
   "metadata": {},
   "source": [
    "## 11. 배열의 연결(병합) 덧셈 아님\n",
    "방향에따라 크기(개수), 차원이 같아야 가능하다\n",
    "- hstack(), vstack()\n",
    "- concatenate()\n",
    "- dstack(), stack()\n",
    "- tile(): 자기복제"
   ]
  },
  {
   "cell_type": "markdown",
   "id": "1e18139e",
   "metadata": {},
   "source": [
    "### (1) hstack(), vstack()"
   ]
  },
  {
   "cell_type": "code",
   "execution_count": 260,
   "id": "d4cae6ac",
   "metadata": {},
   "outputs": [
    {
     "name": "stdout",
     "output_type": "stream",
     "text": [
      "[3 0 4 6]\n",
      "[1 1 1 1]\n",
      "[[3 0 4 6]\n",
      " [1 1 1 1]]\n",
      "[3 0 4 6 1 1 1 1]\n"
     ]
    }
   ],
   "source": [
    "#1차원 배열\n",
    "\n",
    "a= np.random.randint(0, 10, (4,))    #0부터 10중에서 4개\n",
    "print(a)\n",
    "\n",
    "b= np.ones(4, dtype='i')\n",
    "print(b)\n",
    "\n",
    "print(np.vstack([a,b]))  # 수직으로 병합. 2차원으로 증가되는 효과\n",
    "print(np.hstack([a,b]))  # 수평으로 병합. 그대로 1차원"
   ]
  },
  {
   "cell_type": "code",
   "execution_count": 261,
   "id": "3d8d518a",
   "metadata": {},
   "outputs": [
    {
     "name": "stdout",
     "output_type": "stream",
     "text": [
      "[[2 7]\n",
      " [9 3]]\n",
      "[[1 1]\n",
      " [9 9]]\n",
      "[[2 7]\n",
      " [9 3]\n",
      " [1 1]\n",
      " [9 9]]\n",
      "[[2 7 1 1]\n",
      " [9 3 9 9]]\n"
     ]
    }
   ],
   "source": [
    "#2차원 배열. 차원 그대로 유지\n",
    "\n",
    "a= np.random.randint(0, 10, (2,2))\n",
    "b= np.random.randint(0, 10, (2,2))\n",
    "print(a)\n",
    "print(b)\n",
    "print(np.vstack([a,b])) \n",
    "print(np.hstack([a,b]))"
   ]
  },
  {
   "cell_type": "markdown",
   "id": "cb6ad644",
   "metadata": {},
   "source": [
    "### (2) concatenate()\n",
    "단순 합치기"
   ]
  },
  {
   "cell_type": "code",
   "execution_count": 262,
   "id": "c5b0312b",
   "metadata": {},
   "outputs": [
    {
     "name": "stdout",
     "output_type": "stream",
     "text": [
      "[0 8 0 8]\n",
      "[1 1 1 1]\n",
      "[0 8 0 8 1 1 1 1]\n",
      "============\n",
      "[[5 3 5 8]]\n",
      "[[3 6 1 6]]\n",
      "[[5 3 5 8]\n",
      " [3 6 1 6]]\n",
      "[[5 3 5 8 3 6 1 6]]\n",
      "============\n",
      "[[1 2 1 2]\n",
      " [6 6 1 3]\n",
      " [3 2 3 2]]\n",
      "[[3 3]\n",
      " [0 5]\n",
      " [1 2]]\n",
      "[[1 2 1 2 3 3]\n",
      " [6 6 1 3 0 5]\n",
      " [3 2 3 2 1 2]]\n"
     ]
    }
   ],
   "source": [
    "# 1차원 배열\n",
    "\n",
    "a= np.random.randint(0, 10, (4,))    #0부터 10중에서 4개\n",
    "print(a)\n",
    "\n",
    "b= np.ones(4, dtype='i')\n",
    "print(b)\n",
    "\n",
    "print(np.concatenate([a,b]))    # hstack()과 비슷\n",
    "print('============')\n",
    "\n",
    "#2차원 배열. 차원 그대로 유지\n",
    "\n",
    "a= np.random.randint(0, 10, (1,4))\n",
    "b= np.random.randint(0, 10, (1,4))\n",
    "print(a)\n",
    "print(b)\n",
    "print(np.concatenate([a,b], axis=0))  # 수직으로(1축)\n",
    "print(np.concatenate([a,b], axis=1))  # axis 축. default=0 수평으로.\n",
    "# print(np.hstack([a,b]))\n",
    "print('============')\n",
    "\n",
    "a= np.random.randint(0, 10, (3,4))\n",
    "b= np.random.randint(0, 10, (3,2))\n",
    "print(a)\n",
    "print(b)\n",
    "# print(np.concatenate([a,b], axis=0))  # 사이즈가 맞아야함\n",
    "print(np.concatenate([a,b], axis=1))  # axis 축. default=0 수평으로.\n",
    "# print(np.hstack([a,b]))"
   ]
  },
  {
   "cell_type": "code",
   "execution_count": 263,
   "id": "e58333c2",
   "metadata": {},
   "outputs": [
    {
     "name": "stdout",
     "output_type": "stream",
     "text": [
      "[[[1 6 2]\n",
      "  [1 3 6]]\n",
      "\n",
      " [[3 9 0]\n",
      "  [4 2 7]]\n",
      "\n",
      " [[5 5 3]\n",
      "  [9 1 8]]\n",
      "\n",
      " [[1 4 6]\n",
      "  [2 6 7]]]\n",
      "[[[5 0 1]\n",
      "  [5 6 9]]\n",
      "\n",
      " [[8 8 2]\n",
      "  [6 0 6]]\n",
      "\n",
      " [[0 4 3]\n",
      "  [3 7 0]]\n",
      "\n",
      " [[9 2 2]\n",
      "  [3 5 6]]\n",
      "\n",
      " [[0 6 0]\n",
      "  [3 7 3]]]\n",
      "============\n",
      "(9, 2, 3)\n"
     ]
    }
   ],
   "source": [
    "a= np.random.randint(0,10,(4,2,3))\n",
    "b= np.random.randint(0,10,(5,2,3))\n",
    "print(a)  \n",
    "print(b)\n",
    "print('============')\n",
    "\n",
    "c=np.concatenate([a,b], axis=0)     # shape을 기준으로 서로 다른 위치일때 axis 가능. axis=-1은 마지막 차원..? 차원축소...?\n",
    "# print(c)\n",
    "print(c.shape)   # (9,2,3)"
   ]
  },
  {
   "cell_type": "markdown",
   "id": "dc1c0c1d",
   "metadata": {},
   "source": [
    "### (3) stack(), dstack()\n",
    "    행과 열을 뽑아서 합친다?\n",
    "    값을 더하는건 아님\n",
    "~합친 결과는 항상 3차원~\n",
    "\n",
    "    dstack은 열을 합침. 3차원\n",
    "\n",
    "\n",
    "np.ones((shape),dtype)"
   ]
  },
  {
   "cell_type": "code",
   "execution_count": 264,
   "id": "d2dacbde",
   "metadata": {},
   "outputs": [
    {
     "name": "stdout",
     "output_type": "stream",
     "text": [
      "[[1. 1. 1. 1.]\n",
      " [1. 1. 1. 1.]\n",
      " [1. 1. 1. 1.]] \n",
      " [[0. 0. 0. 0.]\n",
      " [0. 0. 0. 0.]\n",
      " [0. 0. 0. 0.]]\n",
      "============\n",
      "(2, 3, 4)\n",
      "[[[1. 1. 1. 1.]\n",
      "  [1. 1. 1. 1.]\n",
      "  [1. 1. 1. 1.]]\n",
      "\n",
      " [[0. 0. 0. 0.]\n",
      "  [0. 0. 0. 0.]\n",
      "  [0. 0. 0. 0.]]]\n",
      "============\n",
      "(3, 2, 4)\n",
      "[[[1. 1. 1. 1.]\n",
      "  [0. 0. 0. 0.]]\n",
      "\n",
      " [[1. 1. 1. 1.]\n",
      "  [0. 0. 0. 0.]]\n",
      "\n",
      " [[1. 1. 1. 1.]\n",
      "  [0. 0. 0. 0.]]]\n",
      "============\n",
      "(3, 4, 2)\n",
      "[[[1. 0.]\n",
      "  [1. 0.]\n",
      "  [1. 0.]\n",
      "  [1. 0.]]\n",
      "\n",
      " [[1. 0.]\n",
      "  [1. 0.]\n",
      "  [1. 0.]\n",
      "  [1. 0.]]\n",
      "\n",
      " [[1. 0.]\n",
      "  [1. 0.]\n",
      "  [1. 0.]\n",
      "  [1. 0.]]]\n",
      "============\n",
      "(3, 4, 2)\n",
      "[[[1. 0.]\n",
      "  [1. 0.]\n",
      "  [1. 0.]\n",
      "  [1. 0.]]\n",
      "\n",
      " [[1. 0.]\n",
      "  [1. 0.]\n",
      "  [1. 0.]\n",
      "  [1. 0.]]\n",
      "\n",
      " [[1. 0.]\n",
      "  [1. 0.]\n",
      "  [1. 0.]\n",
      "  [1. 0.]]]\n"
     ]
    }
   ],
   "source": [
    "a1= np.ones((3,4))    \n",
    "a2= np.zeros((3,4))\n",
    "print(a1,'\\n', a2)\n",
    "print('============')\n",
    "\n",
    "a3= np.stack([a1,a2])  # 차원 증가\n",
    "print(a3.shape)        # (2,3,4)\n",
    "print(a3)\n",
    "print('============')\n",
    "\n",
    "a3= np.stack([a1,a2], axis=1)  # 행끼리 합침\n",
    "print(a3.shape)                # (3,2,4)\n",
    "print(a3)\n",
    "print('============')\n",
    "\n",
    "a3= np.stack([a1,a2], axis=2)  # 열끼리 합침 = dstack\n",
    "print(a3.shape)                # (3,4,2)\n",
    "print(a3)\n",
    "print('============')\n",
    "\n",
    "a3= np.dstack([a1,a2])\n",
    "print(a3.shape)\n",
    "print(a3)"
   ]
  },
  {
   "cell_type": "code",
   "execution_count": 265,
   "id": "8bdfa2b3",
   "metadata": {},
   "outputs": [
    {
     "name": "stdout",
     "output_type": "stream",
     "text": [
      "[[[1 4]\n",
      "  [2 5]\n",
      "  [3 6]]]\n",
      "(1, 3, 2)\n"
     ]
    }
   ],
   "source": [
    "a1= np.array([1,2,3])\n",
    "a2= np.array([4,5,6])\n",
    "a3= np.dstack([a1,a2])     # 열끼리 묶음\n",
    "print(a3)\n",
    "print(a3.shape)"
   ]
  },
  {
   "cell_type": "code",
   "execution_count": 266,
   "id": "056bfa10",
   "metadata": {},
   "outputs": [
    {
     "name": "stdout",
     "output_type": "stream",
     "text": [
      "(100, 200, 9)\n"
     ]
    }
   ],
   "source": [
    "a= np.random.randint(1,10,(100,200,3))\n",
    "b= np.random.randint(1,10,(100,200,3))\n",
    "c= np.random.randint(1,10,(100,200,3))\n",
    "d= np.dstack([a,b,c])\n",
    "print(d.shape)"
   ]
  },
  {
   "cell_type": "code",
   "execution_count": 267,
   "id": "61de99f3",
   "metadata": {},
   "outputs": [
    {
     "name": "stdout",
     "output_type": "stream",
     "text": [
      "(100, 3, 200, 3)\n"
     ]
    }
   ],
   "source": [
    "e= np.stack([a,b,c],axis=1)\n",
    "print(e.shape)  # 면이 증가"
   ]
  },
  {
   "cell_type": "markdown",
   "id": "6ffd9b04",
   "metadata": {},
   "source": [
    "### (4) tile()\n",
    "- ?np.tile\n",
    "- np.tile(A,resp)"
   ]
  },
  {
   "cell_type": "code",
   "execution_count": 268,
   "id": "e2b22d41",
   "metadata": {},
   "outputs": [
    {
     "name": "stdout",
     "output_type": "stream",
     "text": [
      "1\n",
      "[0 1]\n",
      "[[0 1]\n",
      " [2 3]]\n"
     ]
    }
   ],
   "source": [
    "a=1\n",
    "b= np.array([0,1])\n",
    "c= np.array([[0,1],[2,3]])\n",
    "print(a)\n",
    "print(b)\n",
    "print(c)"
   ]
  },
  {
   "cell_type": "code",
   "execution_count": 269,
   "id": "af098818",
   "metadata": {},
   "outputs": [
    {
     "name": "stdout",
     "output_type": "stream",
     "text": [
      "[1 1 1]\n",
      "[0 1 0 1 0 1]\n",
      "[[0 1 0 1 0 1]\n",
      " [2 3 2 3 2 3]]\n"
     ]
    }
   ],
   "source": [
    "# resp가 상수일경우. 자기복제. 차원이 늘어나진 않음 .x3열\n",
    "\n",
    "print(np.tile(a,3))\n",
    "print(np.tile(b,3))\n",
    "print(np.tile(c,3))"
   ]
  },
  {
   "cell_type": "code",
   "execution_count": 270,
   "id": "86794b5e",
   "metadata": {},
   "outputs": [
    {
     "name": "stdout",
     "output_type": "stream",
     "text": [
      "[[1 1 1]\n",
      " [1 1 1]]\n",
      "[[0 1 0 1 0 1]\n",
      " [0 1 0 1 0 1]]\n",
      "[[0 1 0 1 0 1]\n",
      " [2 3 2 3 2 3]\n",
      " [0 1 0 1 0 1]\n",
      " [2 3 2 3 2 3]]\n"
     ]
    }
   ],
   "source": [
    "# resp가 튜플일경우. 차원 지정. x3열 x2행\n",
    "\n",
    "print(np.tile(a,{2,3}))\n",
    "print(np.tile(b,{2,3}))\n",
    "print(np.tile(c,{2,3}))"
   ]
  },
  {
   "cell_type": "markdown",
   "id": "55fe58f0",
   "metadata": {},
   "source": [
    "## 12. Broadcasting\n",
    "    차원이 달라도 계산됨\n",
    "    길이가 1이거나 축의 기준이 같아야한다\n",
    "    "
   ]
  },
  {
   "cell_type": "code",
   "execution_count": 271,
   "id": "7bb822e0",
   "metadata": {},
   "outputs": [
    {
     "name": "stdout",
     "output_type": "stream",
     "text": [
      "[2 3 4]\n"
     ]
    }
   ],
   "source": [
    "a=np.array([1,2,3])\n",
    "b=np.array([1])\n",
    "\n",
    "print(a+b)"
   ]
  },
  {
   "cell_type": "code",
   "execution_count": 22,
   "id": "64e935f5",
   "metadata": {},
   "outputs": [
    {
     "name": "stdout",
     "output_type": "stream",
     "text": [
      "[1 2 3]\n",
      "[1 2 3]\n",
      "[[1 2 3]]\n"
     ]
    },
    {
     "data": {
      "text/plain": [
       "(1, 3)"
      ]
     },
     "execution_count": 22,
     "metadata": {},
     "output_type": "execute_result"
    }
   ],
   "source": [
    "import numpy as np\n",
    "y= np.arange(1,4)\n",
    "print(y)\n",
    "print(y.T)       # Transpose는 1차원에서는 안된다.\n",
    "x= y[np.newaxis,:]  #축을 추가해서 차원변경?   \n",
    "print(x)\n",
    "x.shape"
   ]
  },
  {
   "cell_type": "code",
   "execution_count": 4,
   "id": "10880de5",
   "metadata": {},
   "outputs": [
    {
     "name": "stdout",
     "output_type": "stream",
     "text": [
      "[[0 1 2]\n",
      " [1 2 3]\n",
      " [2 3 4]\n",
      " [3 4 5]\n",
      " [4 5 6]]\n",
      "[0 1 2 3 4]\n",
      "[[0]\n",
      " [1]\n",
      " [2]\n",
      " [3]\n",
      " [4]]\n",
      "[[0]\n",
      " [1]\n",
      " [2]\n",
      " [3]\n",
      " [4]]\n",
      "[[ 0  1  2]\n",
      " [ 2  3  4]\n",
      " [ 4  5  6]\n",
      " [ 6  7  8]\n",
      " [ 8  9 10]]\n"
     ]
    }
   ],
   "source": [
    "x= np.vstack([range(8)[i:i+3] for i in range(5)])    #range(8)에서 슬라이싱\n",
    "print(x)\n",
    "y= np.arange(5)\n",
    "print(y.T)\n",
    "y= np.arange(5)[:, np.newaxis]  #축을 추가해서 차원변경?   Transpose는 1차원에서는 안된다.\n",
    "print(y)\n",
    "\n",
    "z= y.reshape(5,1)\n",
    "print(z)\n",
    "\n",
    "print(x+y)\n",
    "# y=5는 연산 가능"
   ]
  },
  {
   "cell_type": "code",
   "execution_count": 273,
   "id": "4cb688f8",
   "metadata": {},
   "outputs": [
    {
     "data": {
      "text/plain": [
       "[range(0, 3), range(1, 4), range(2, 5), range(3, 6), range(4, 7)]"
      ]
     },
     "execution_count": 273,
     "metadata": {},
     "output_type": "execute_result"
    }
   ],
   "source": [
    "[range(10)[i:i+3] for i in range(5)]"
   ]
  },
  {
   "cell_type": "markdown",
   "id": "6f8cbb68",
   "metadata": {},
   "source": [
    "## 13. 차원축소(dimension reduction) 연산\n",
    "\n",
    "    최대값/최소값: max(),min(),argmax(), argmin()  -> 값의 위치\n",
    "    대표값: mean, sum, median, std, var\n",
    "    논리값: all, any"
   ]
  },
  {
   "cell_type": "code",
   "execution_count": 274,
   "id": "f6eba8f7",
   "metadata": {},
   "outputs": [
    {
     "name": "stdout",
     "output_type": "stream",
     "text": [
      "9\n",
      "1\n",
      "0\n"
     ]
    }
   ],
   "source": [
    "x= np.array([2,9,6,8,4])\n",
    "print(np.max(x))\n",
    "print(np.argmax(x))\n",
    "print(np.argmin(x))"
   ]
  },
  {
   "cell_type": "markdown",
   "id": "94533bad",
   "metadata": {},
   "source": [
    "## 14.기술 통계\n",
    "    sum(), mean()\n",
    "    max(), min()\n",
    "    var(), std()\n",
    "    len()\n",
    "    median(): 중앙값, 중간값\n",
    "    percentile(): 사분위수\n",
    "    ..."
   ]
  },
  {
   "cell_type": "code",
   "execution_count": 275,
   "id": "bcff4b56",
   "metadata": {},
   "outputs": [
    {
     "name": "stdout",
     "output_type": "stream",
     "text": [
      "[-9.45337951e-01  6.48389763e-01  2.12956670e-03 -1.24322585e-01\n",
      " -4.45892406e-01  2.20775058e+00  9.80132816e-01  3.49966777e-02\n",
      " -2.74022851e-01 -4.44406975e-01 -1.81888544e+00  4.93222501e-01\n",
      "  1.13909616e+00 -1.24756657e+00  5.79261354e-01 -9.42684042e-01\n",
      "  2.37004687e+00  1.71900471e-01  1.27842902e+00 -1.29500701e+00]\n"
     ]
    },
    {
     "data": {
      "text/plain": [
       "DescribeResult(nobs=20, minmax=(-1.8188854442891071, 2.3700468749338737), mean=0.11836149703659178, variance=1.26024561296712, skewness=0.3292718814638921, kurtosis=-0.46441815101957573)"
      ]
     },
     "execution_count": 275,
     "metadata": {},
     "output_type": "execute_result"
    }
   ],
   "source": [
    "import scipy.stats\n",
    "\n",
    "x= np.random.randn(20)\n",
    "print(x)\n",
    "\n",
    "scipy.stats.describe(x)"
   ]
  },
  {
   "cell_type": "markdown",
   "id": "ccf2551f",
   "metadata": {},
   "source": [
    "## 15. 정렬\n",
    "    원본 수정되지 않음"
   ]
  },
  {
   "cell_type": "code",
   "execution_count": 276,
   "id": "ac4e58b2",
   "metadata": {},
   "outputs": [
    {
     "name": "stdout",
     "output_type": "stream",
     "text": [
      "[[ 4  6 17 25]\n",
      " [ 4 12 28 35]\n",
      " [ 2  7 14 22]]\n",
      "[[ 4  7  6  2]\n",
      " [22 25 12  4]\n",
      " [28 35 14 17]]\n"
     ]
    }
   ],
   "source": [
    "arr= np.array([[4,25,6,17],[28,35,12,4],[22,7,14,2,]])\n",
    "print(np.sort(arr))     #행별로 정렬 axis=0\n",
    "print(np.sort(arr, axis=0)) # 열별로 정렬"
   ]
  },
  {
   "cell_type": "code",
   "execution_count": 277,
   "id": "0f8a2933",
   "metadata": {},
   "outputs": [
    {
     "name": "stdout",
     "output_type": "stream",
     "text": [
      "[[ 4  6 17 25]\n",
      " [ 4 12 28 35]\n",
      " [ 2  7 14 22]]\n"
     ]
    }
   ],
   "source": [
    "arr.sort()   #원본이 수정됨\n",
    "print(arr)"
   ]
  },
  {
   "cell_type": "code",
   "execution_count": 278,
   "id": "7b00723e",
   "metadata": {},
   "outputs": [
    {
     "name": "stdout",
     "output_type": "stream",
     "text": [
      "[2 0 1 3]\n",
      "[19 38 48 63]\n"
     ]
    }
   ],
   "source": [
    "#argsort()\n",
    "arr= np.array([38,48,19,63])\n",
    "idx= np.argsort(arr)  # 순서대로 인덱스생성\n",
    "print(idx)\n",
    "print(arr[idx])"
   ]
  },
  {
   "cell_type": "code",
   "execution_count": 279,
   "id": "ffd270a6",
   "metadata": {},
   "outputs": [
    {
     "name": "stdout",
     "output_type": "stream",
     "text": [
      "[63 48 38 19]\n",
      "[63 48 38 19]\n"
     ]
    }
   ],
   "source": [
    "# 내림차순. 슬라이싱 이용 간격-1\n",
    "\n",
    "print(np.sort(arr)[::-1])\n",
    "print(arr[np.argsort(-arr)])"
   ]
  },
  {
   "cell_type": "code",
   "execution_count": 280,
   "id": "c93d561f",
   "metadata": {},
   "outputs": [
    {
     "name": "stdout",
     "output_type": "stream",
     "text": [
      "[0 1 2 3 4 5 6 7 8 9]\n",
      "[9 8 7 6 5 4 3 2 1 0]\n"
     ]
    }
   ],
   "source": [
    "# 슬라이싱: 배열[시작위치:끝위치+1: 간격]\n",
    "ex= np.arange(10)\n",
    "print(ex[:])\n",
    "print(ex[::-1])"
   ]
  },
  {
   "cell_type": "markdown",
   "id": "b9576d1d",
   "metadata": {},
   "source": [
    "## 16. 난수\n",
    "    rand(): 0~1 사이의 균일분포. 확률이 동일\n",
    "    randn(): 정규분포\n",
    "    randint(): 균일분포에서 정수"
   ]
  },
  {
   "cell_type": "code",
   "execution_count": 281,
   "id": "85ab8187",
   "metadata": {},
   "outputs": [
    {
     "name": "stdout",
     "output_type": "stream",
     "text": [
      "[[0.0474068  0.0303776  0.27614696 0.95238884]\n",
      " [0.64191592 0.12410821 0.81293146 0.42005312]\n",
      " [0.57098367 0.29468024 0.56058369 0.99394561]]\n",
      "7\n",
      "[[14 12 16]\n",
      " [19 17 13]]\n"
     ]
    }
   ],
   "source": [
    "print(np.random.rand(3,4))   #3행 4열\n",
    "print(np.random.randint(10)) #0~9 중 하나\n",
    "print(np.random.randint(11,20, size=(2,3)))"
   ]
  },
  {
   "cell_type": "markdown",
   "id": "c11e067a",
   "metadata": {},
   "source": [
    "### (1) 재현성(난수 고정)"
   ]
  },
  {
   "cell_type": "code",
   "execution_count": 282,
   "id": "5662078b",
   "metadata": {},
   "outputs": [
    {
     "data": {
      "text/plain": [
       "array([0.4359949 , 0.02592623])"
      ]
     },
     "execution_count": 282,
     "metadata": {},
     "output_type": "execute_result"
    }
   ],
   "source": [
    "np.random.seed(2) # seed를 5로 고정\n",
    "np.random.rand(2)"
   ]
  },
  {
   "cell_type": "markdown",
   "id": "0f4e0dd9",
   "metadata": {},
   "source": [
    "### (2) 데이터의 순서 바꾸기"
   ]
  },
  {
   "cell_type": "code",
   "execution_count": 283,
   "id": "7fc5009e",
   "metadata": {},
   "outputs": [
    {
     "name": "stdout",
     "output_type": "stream",
     "text": [
      "[0 1 2 3 4 5 6 7 8 9]\n",
      "[9 5 4 7 1 8 0 3 2 6]\n"
     ]
    }
   ],
   "source": [
    "x= np.arange(10)\n",
    "print(x)\n",
    "np.random.shuffle(x)\n",
    "print(x)"
   ]
  },
  {
   "cell_type": "markdown",
   "id": "a71874b7",
   "metadata": {},
   "source": [
    "### (3) 샘플링: 복원(default), 비복원"
   ]
  },
  {
   "cell_type": "code",
   "execution_count": 284,
   "id": "b9648db7",
   "metadata": {},
   "outputs": [
    {
     "name": "stdout",
     "output_type": "stream",
     "text": [
      "[2 4 4 4 3]\n"
     ]
    }
   ],
   "source": [
    "print(np.random.choice(5,5)) #0부터 4까지 5개. 복원추출"
   ]
  },
  {
   "cell_type": "code",
   "execution_count": 285,
   "id": "575a5257",
   "metadata": {},
   "outputs": [
    {
     "name": "stdout",
     "output_type": "stream",
     "text": [
      "[1 0 5 3 2]\n"
     ]
    }
   ],
   "source": [
    "print(np.random.choice(7,5, replace=False)) #비복원추출"
   ]
  },
  {
   "cell_type": "code",
   "execution_count": 286,
   "id": "66cb1744",
   "metadata": {},
   "outputs": [
    {
     "name": "stdout",
     "output_type": "stream",
     "text": [
      "[3 3 2 3 2 2 2 2 3 3]\n"
     ]
    }
   ],
   "source": [
    "print(np.random.choice(5,10,p=[0.1,0,0.3,0.6,0])) #확률 조정\n"
   ]
  },
  {
   "cell_type": "markdown",
   "id": "e2ff8aea",
   "metadata": {},
   "source": [
    "## 17.정수형 데이터 카운팅\n",
    "    unique()\n",
    "    bincount()"
   ]
  },
  {
   "cell_type": "markdown",
   "id": "44f6b64d",
   "metadata": {},
   "source": [
    "### (1) unique()\n",
    "    중복 제거"
   ]
  },
  {
   "cell_type": "code",
   "execution_count": 287,
   "id": "6b3d4997",
   "metadata": {},
   "outputs": [],
   "source": [
    "arr= np.array(['a','b','c','a','c'])"
   ]
  },
  {
   "cell_type": "code",
   "execution_count": 288,
   "id": "33cc05fd",
   "metadata": {},
   "outputs": [
    {
     "name": "stdout",
     "output_type": "stream",
     "text": [
      "5\n",
      "['a' 'b' 'c']\n",
      "['a' 'b' 'c']\n",
      "[2 1 2]\n"
     ]
    }
   ],
   "source": [
    "print(len(arr))\n",
    "print(np.unique(arr))\n",
    "idx, cnt= np.unique(arr, return_counts=True)\n",
    "print(idx)\n",
    "print(cnt)"
   ]
  },
  {
   "cell_type": "markdown",
   "id": "244be93a",
   "metadata": {},
   "source": [
    "### (2) bincount()\n",
    "    발생하지 않은 사건에 대해서도 카운팅"
   ]
  },
  {
   "cell_type": "code",
   "execution_count": 290,
   "id": "85db3084",
   "metadata": {},
   "outputs": [
    {
     "name": "stdout",
     "output_type": "stream",
     "text": [
      "(array([1, 2, 3, 4]), array([2, 3, 1, 1], dtype=int64))\n",
      "[0 2 3 1 1 0]\n"
     ]
    }
   ],
   "source": [
    "arr= np.array([1,1,2,2,2,3,4])\n",
    "print(np.unique(arr, return_counts=True)) #발생하지 않은건 카운트X\n",
    "print(np.bincount(arr, minlength=6))"
   ]
  },
  {
   "cell_type": "markdown",
   "id": "a982e250",
   "metadata": {},
   "source": [
    "## 18. 실습 541p."
   ]
  }
 ],
 "metadata": {
  "kernelspec": {
   "display_name": "Python 3 (ipykernel)",
   "language": "python",
   "name": "python3"
  },
  "language_info": {
   "codemirror_mode": {
    "name": "ipython",
    "version": 3
   },
   "file_extension": ".py",
   "mimetype": "text/x-python",
   "name": "python",
   "nbconvert_exporter": "python",
   "pygments_lexer": "ipython3",
   "version": "3.9.13"
  }
 },
 "nbformat": 4,
 "nbformat_minor": 5
}
