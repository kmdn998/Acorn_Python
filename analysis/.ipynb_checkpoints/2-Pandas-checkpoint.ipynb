{
 "cells": [
  {
   "cell_type": "markdown",
   "id": "9578efbb",
   "metadata": {},
   "source": [
    "## 1. Pandas에서 제공하는 대표적인 자료구조\n",
    "    - Sefies\n",
    "        값 + index\n",
    "    - DataFrame\n",
    "        여러개의 Series를 묶어놓은 형태(테이블)\n",
    "        전처리\n",
    "        인덱싱 주의!!\n",
    "        \n",
    "        \n",
    "        인덱스 -> 행 별로"
   ]
  },
  {
   "cell_type": "code",
   "execution_count": 1,
   "id": "0e70e390",
   "metadata": {},
   "outputs": [],
   "source": [
    "import numpy as np\n",
    "import pandas as pd"
   ]
  },
  {
   "cell_type": "markdown",
   "id": "17a04763",
   "metadata": {},
   "source": [
    "## 2. Series\n",
    "- 기본적으로 배열 형태(dtype)\n",
    "- 인덱스 포함되어있음. enumerate의 기능\n",
    "- __dict형과 유사__"
   ]
  },
  {
   "cell_type": "code",
   "execution_count": 85,
   "id": "eaff9139",
   "metadata": {},
   "outputs": [
    {
     "name": "stdout",
     "output_type": "stream",
     "text": [
      "0    9904312\n",
      "1    3448737\n",
      "2    2890451\n",
      "3    2466052\n",
      "dtype: int64\n",
      "<class 'pandas.core.series.Series'>\n"
     ]
    }
   ],
   "source": [
    "s= pd.Series([9904312, 3448737, 2890451, 2466052])\n",
    "print(s)\n",
    "print(type(s))"
   ]
  },
  {
   "cell_type": "code",
   "execution_count": 86,
   "id": "e369bdab",
   "metadata": {},
   "outputs": [
    {
     "name": "stdout",
     "output_type": "stream",
     "text": [
      "(0, 9904312)\n",
      "(1, 3448737)\n",
      "(2, 2890451)\n",
      "(3, 2466052)\n"
     ]
    }
   ],
   "source": [
    "for i in enumerate([9904312, 3448737, 2890451, 2466052]):\n",
    "    print(i)"
   ]
  },
  {
   "cell_type": "markdown",
   "id": "5a88c02f",
   "metadata": {},
   "source": [
    "### (1) 인덱스 활용\n",
    "    인덱스를 자유롭게 지정 가능\n",
    "    인덱스(index)와 값(values)을 별도로 가져올 수 있다.\n",
    "    Series 전체에 이름 지정 가능\n",
    "    인덱스는 1개의 인자만 받으므로 여러개 쓸 경우 리스트로 묶어줘야함"
   ]
  },
  {
   "cell_type": "code",
   "execution_count": 87,
   "id": "172e218c",
   "metadata": {},
   "outputs": [
    {
     "name": "stdout",
     "output_type": "stream",
     "text": [
      "서울    9904312\n",
      "부산    3448737\n",
      "인천    2890451\n",
      "대구    2466052\n",
      "dtype: int64\n"
     ]
    }
   ],
   "source": [
    "# 인덱스를 자유롭게 지정 가능\n",
    "s= pd.Series([9904312, 3448737, 2890451, 2466052], index=['서울','부산','인천','대구'])\n",
    "print(s)"
   ]
  },
  {
   "cell_type": "code",
   "execution_count": 88,
   "id": "2d6f0bc1",
   "metadata": {},
   "outputs": [
    {
     "name": "stdout",
     "output_type": "stream",
     "text": [
      "[9904312 3448737 2890451 2466052] <class 'numpy.ndarray'>\n",
      "Index(['서울', '부산', '인천', '대구'], dtype='object')\n"
     ]
    }
   ],
   "source": [
    "# 인덱스와 값을 별도로 가져올 수 있다.\n",
    "print(s.values, type(s.values))\n",
    "print(s.index)"
   ]
  },
  {
   "cell_type": "code",
   "execution_count": 89,
   "id": "eed453fb",
   "metadata": {},
   "outputs": [
    {
     "name": "stdout",
     "output_type": "stream",
     "text": [
      "서울    9904312\n",
      "부산    3448737\n",
      "인천    2890451\n",
      "대구    2466052\n",
      "Name: 인구, dtype: int64\n"
     ]
    }
   ],
   "source": [
    "# Series 전체에 이름 지정 가능\n",
    "s.name= '인구'\n",
    "print(s)"
   ]
  },
  {
   "cell_type": "markdown",
   "id": "a9051b5d",
   "metadata": {},
   "source": [
    "### (2) 벡터화 연산\n",
    "    배열이기 때문에 가능"
   ]
  },
  {
   "cell_type": "code",
   "execution_count": 90,
   "id": "a88ce067",
   "metadata": {},
   "outputs": [
    {
     "data": {
      "text/plain": [
       "서울    99.04312\n",
       "부산    34.48737\n",
       "인천    28.90451\n",
       "대구    24.66052\n",
       "Name: 인구, dtype: float64"
      ]
     },
     "execution_count": 90,
     "metadata": {},
     "output_type": "execute_result"
    }
   ],
   "source": [
    "# 숫자 데이터 자동 계산\n",
    "s/ 100000"
   ]
  },
  {
   "cell_type": "markdown",
   "id": "252b84bd",
   "metadata": {},
   "source": [
    "### (3) Indexing\n",
    "    인덱스로 여러 데이터 접근 가능\n",
    "    조건문, 반복문 기능"
   ]
  },
  {
   "cell_type": "code",
   "execution_count": 91,
   "id": "b647acf0",
   "metadata": {},
   "outputs": [
    {
     "name": "stdout",
     "output_type": "stream",
     "text": [
      "9904312\n",
      "9904312\n",
      "부산    3448737\n",
      "인천    2890451\n",
      "Name: 인구, dtype: int64\n",
      "부산    3448737\n",
      "인천    2890451\n",
      "Name: 인구, dtype: int64\n",
      "부산    3448737\n",
      "인천    2890451\n",
      "Name: 인구, dtype: int64\n"
     ]
    }
   ],
   "source": [
    "print(s[0])\n",
    "print(s['서울'])\n",
    "print(s[[1,2]]) # 인덱스는 1개의 인자만 받으므로 여러개 쓸 경우 리스트로 묶어줘야함\n",
    "print(s[1:3])\n",
    "print(s[['부산','인천']])"
   ]
  },
  {
   "cell_type": "code",
   "execution_count": 92,
   "id": "aa60f9fa",
   "metadata": {},
   "outputs": [
    {
     "name": "stdout",
     "output_type": "stream",
     "text": [
      "부산    3448737\n",
      "인천    2890451\n",
      "Name: 인구, dtype: int64\n"
     ]
    }
   ],
   "source": [
    "print(s[(s>250e4) & (s<500e4)])"
   ]
  },
  {
   "cell_type": "code",
   "execution_count": 93,
   "id": "794929b9",
   "metadata": {},
   "outputs": [
    {
     "name": "stdout",
     "output_type": "stream",
     "text": [
      "3448737 , 9904312\n"
     ]
    }
   ],
   "source": [
    "# 인덱스를 .으로 접근가능  문자열표시X\n",
    "print(s.부산,',',s.서울)"
   ]
  },
  {
   "cell_type": "markdown",
   "id": "5a5db5cb",
   "metadata": {},
   "source": [
    "### (4) Series와 dict"
   ]
  },
  {
   "cell_type": "code",
   "execution_count": 94,
   "id": "9706b8f8",
   "metadata": {},
   "outputs": [
    {
     "name": "stdout",
     "output_type": "stream",
     "text": [
      "True\n",
      "False\n"
     ]
    }
   ],
   "source": [
    "print('서울' in s)\n",
    "print('제주' in s)"
   ]
  },
  {
   "cell_type": "code",
   "execution_count": 95,
   "id": "7e66b69d",
   "metadata": {},
   "outputs": [
    {
     "name": "stdout",
     "output_type": "stream",
     "text": [
      "[('서울', 9904312), ('부산', 3448737), ('인천', 2890451), ('대구', 2466052)]\n",
      "Index(['서울', '부산', '인천', '대구'], dtype='object')\n",
      "Index(['서울', '부산', '인천', '대구'], dtype='object')\n",
      "[9904312 3448737 2890451 2466052]\n"
     ]
    },
    {
     "data": {
      "text/plain": [
       "서울    9963148\n",
       "부산    3348737\n",
       "인천    2262035\n",
       "대전    2140158\n",
       "dtype: int64"
      ]
     },
     "execution_count": 95,
     "metadata": {},
     "output_type": "execute_result"
    }
   ],
   "source": [
    "print(list(s.items()))\n",
    "print(s.keys())\n",
    "print(s.index)\n",
    "print(s.values)\n",
    "\n",
    "#dict형식으로 series 생성. index이름까지 한번에 생성 가능\n",
    "s2= pd.Series({'서울':9963148,'부산':3348737 , '인천':2262035, '대전':2140158})\n",
    "s2"
   ]
  },
  {
   "cell_type": "markdown",
   "id": "ff830bf9",
   "metadata": {},
   "source": [
    "### (5) 기타 연산\n",
    "    인덱스 기반 연산"
   ]
  },
  {
   "cell_type": "code",
   "execution_count": 96,
   "id": "7f3f6392",
   "metadata": {},
   "outputs": [
    {
     "name": "stdout",
     "output_type": "stream",
     "text": [
      "서울    9904312\n",
      "부산    3448737\n",
      "인천    2890451\n",
      "대구    2466052\n",
      "Name: 인구, dtype: int64\n",
      "서울    9963148\n",
      "부산    3348737\n",
      "인천    2262035\n",
      "대전    2140158\n",
      "dtype: int64\n",
      "[-58836 100000 628416 325894]\n",
      "대구         NaN\n",
      "대전         NaN\n",
      "부산    100000.0\n",
      "서울    -58836.0\n",
      "인천    628416.0\n",
      "dtype: float64\n"
     ]
    }
   ],
   "source": [
    "#### 인덱스 기반 연산\n",
    "\n",
    "print(s)\n",
    "print(s2)\n",
    "\n",
    "result= s.values- s2.values  # 같은 위치의 값끼리 계산\n",
    "print(result)\n",
    "\n",
    "result= s-s2   # 같은 인덱스끼리 계산\n",
    "print(result)\n",
    "\n"
   ]
  },
  {
   "cell_type": "code",
   "execution_count": 97,
   "id": "dd6792fd",
   "metadata": {},
   "outputs": [
    {
     "name": "stdout",
     "output_type": "stream",
     "text": [
      "부산    100000.0\n",
      "서울    -58836.0\n",
      "인천    628416.0\n",
      "dtype: float64\n",
      "대구    False\n",
      "대전    False\n",
      "부산     True\n",
      "서울     True\n",
      "인천     True\n",
      "dtype: bool\n",
      "부산    100000.0\n",
      "서울    -58836.0\n",
      "인천    628416.0\n",
      "dtype: float64\n"
     ]
    }
   ],
   "source": [
    "# 결측치 제거\n",
    "\n",
    "print(result.dropna()) # 원본 수정 X. 복사본\n",
    "print(result.notnull())  # boolean\n",
    "print(result[result.notnull()])  "
   ]
  },
  {
   "cell_type": "code",
   "execution_count": 98,
   "id": "85b875f2",
   "metadata": {},
   "outputs": [
    {
     "name": "stdout",
     "output_type": "stream",
     "text": [
      "대구          NaN\n",
      "대전          NaN\n",
      "부산    -2.899612\n",
      "서울     0.594044\n",
      "인천   -21.741105\n",
      "dtype: float64\n"
     ]
    }
   ],
   "source": [
    "# s와 s2의 데이터를 이용해서 인구증가율\n",
    "# (끝연도-시작연도)/시작연도*100\n",
    "result2= (s2-s)/s*100\n",
    "print(result2)"
   ]
  },
  {
   "cell_type": "code",
   "execution_count": 113,
   "id": "38b6b72e",
   "metadata": {},
   "outputs": [
    {
     "data": {
      "text/plain": [
       "부산    14.000000\n",
       "서울     0.594044\n",
       "인천   -21.741105\n",
       "대구    14.000000\n",
       "dtype: float64"
      ]
     },
     "execution_count": 113,
     "metadata": {},
     "output_type": "execute_result"
    }
   ],
   "source": [
    "# 데이터를 수정, 삭제, 갱신\n",
    "\n",
    "# 수정\n",
    "result2['부산']=14\n",
    "\n",
    "# 갱신\n",
    "result2['대전']=14\n",
    "\n",
    "# 삭제\n",
    "del result2['서울']\n",
    "\n",
    "result2\n"
   ]
  },
  {
   "cell_type": "markdown",
   "id": "464f078e",
   "metadata": {},
   "source": [
    "## 3. DataFrame\n",
    "    ?pd.DataFrame\n",
    "    DataFrame(data, index, columns, ...)\n",
    "    컬럼의 순서(위치) 바꾸기\n",
    "    인덱스 변경\n",
    "    컬럼과 인덱스에 이름 지정\n",
    "    전치 가능\n",
    "    열 인덱싱\n",
    "    열 먼저 인덱싱\n",
    "    열 인덱스에는 슬라이싱 안됨\n",
    "    열 인덱스에 숫자로 접근 안됨\n",
    "    열 인덱스에 열 이름으로만 접근 가능\n",
    "    행 인덱스는 슬라이싱으로만 접근\n",
    "    행 열 모두 접근할때는 행 슬라이싱 아니여도됨"
   ]
  },
  {
   "cell_type": "code",
   "execution_count": 100,
   "id": "5897afd4",
   "metadata": {},
   "outputs": [
    {
     "name": "stdout",
     "output_type": "stream",
     "text": [
      "<class 'pandas.core.frame.DataFrame'>\n"
     ]
    }
   ],
   "source": [
    "data = {\n",
    "    \"2015\": [9904312, 3448737, 2890451, 2466052],\n",
    "    \"2010\": [9631482, 3393191, 2632035, 2431774],\n",
    "    \"2005\": [9762546, 3512547, 2517680, 2456016],\n",
    "    \"2000\": [9853972, 3655437, 2466338, 2473990],\n",
    "    \"지역\": [\"수도권\", \"경상권\", \"수도권\", \"경상권\"],\n",
    "    \"2010-2015 증가율\": [0.0283, 0.0163, 0.0982, 0.0141]\n",
    "}\n",
    "df= pd.DataFrame(data)\n",
    "print(type(df))"
   ]
  },
  {
   "cell_type": "code",
   "execution_count": 101,
   "id": "a9613748",
   "metadata": {},
   "outputs": [
    {
     "data": {
      "text/html": [
       "<div>\n",
       "<style scoped>\n",
       "    .dataframe tbody tr th:only-of-type {\n",
       "        vertical-align: middle;\n",
       "    }\n",
       "\n",
       "    .dataframe tbody tr th {\n",
       "        vertical-align: top;\n",
       "    }\n",
       "\n",
       "    .dataframe thead th {\n",
       "        text-align: right;\n",
       "    }\n",
       "</style>\n",
       "<table border=\"1\" class=\"dataframe\">\n",
       "  <thead>\n",
       "    <tr style=\"text-align: right;\">\n",
       "      <th></th>\n",
       "      <th>2015</th>\n",
       "      <th>2010</th>\n",
       "      <th>2005</th>\n",
       "      <th>2000</th>\n",
       "      <th>지역</th>\n",
       "      <th>2010-2015 증가율</th>\n",
       "    </tr>\n",
       "  </thead>\n",
       "  <tbody>\n",
       "    <tr>\n",
       "      <th>0</th>\n",
       "      <td>9904312</td>\n",
       "      <td>9631482</td>\n",
       "      <td>9762546</td>\n",
       "      <td>9853972</td>\n",
       "      <td>수도권</td>\n",
       "      <td>0.0283</td>\n",
       "    </tr>\n",
       "    <tr>\n",
       "      <th>1</th>\n",
       "      <td>3448737</td>\n",
       "      <td>3393191</td>\n",
       "      <td>3512547</td>\n",
       "      <td>3655437</td>\n",
       "      <td>경상권</td>\n",
       "      <td>0.0163</td>\n",
       "    </tr>\n",
       "    <tr>\n",
       "      <th>2</th>\n",
       "      <td>2890451</td>\n",
       "      <td>2632035</td>\n",
       "      <td>2517680</td>\n",
       "      <td>2466338</td>\n",
       "      <td>수도권</td>\n",
       "      <td>0.0982</td>\n",
       "    </tr>\n",
       "    <tr>\n",
       "      <th>3</th>\n",
       "      <td>2466052</td>\n",
       "      <td>2431774</td>\n",
       "      <td>2456016</td>\n",
       "      <td>2473990</td>\n",
       "      <td>경상권</td>\n",
       "      <td>0.0141</td>\n",
       "    </tr>\n",
       "  </tbody>\n",
       "</table>\n",
       "</div>"
      ],
      "text/plain": [
       "      2015     2010     2005     2000   지역  2010-2015 증가율\n",
       "0  9904312  9631482  9762546  9853972  수도권         0.0283\n",
       "1  3448737  3393191  3512547  3655437  경상권         0.0163\n",
       "2  2890451  2632035  2517680  2466338  수도권         0.0982\n",
       "3  2466052  2431774  2456016  2473990  경상권         0.0141"
      ]
     },
     "execution_count": 101,
     "metadata": {},
     "output_type": "execute_result"
    }
   ],
   "source": [
    "df"
   ]
  },
  {
   "cell_type": "markdown",
   "id": "c8c610a5",
   "metadata": {},
   "source": [
    "### (1) 컬럼의 순서(위치) 바꾸기"
   ]
  },
  {
   "cell_type": "code",
   "execution_count": 102,
   "id": "3d5cbe20",
   "metadata": {},
   "outputs": [
    {
     "name": "stdout",
     "output_type": "stream",
     "text": [
      "Index(['2015', '2010', '2005', '2000', '지역', '2010-2015 증가율'], dtype='object')\n"
     ]
    },
    {
     "data": {
      "text/html": [
       "<div>\n",
       "<style scoped>\n",
       "    .dataframe tbody tr th:only-of-type {\n",
       "        vertical-align: middle;\n",
       "    }\n",
       "\n",
       "    .dataframe tbody tr th {\n",
       "        vertical-align: top;\n",
       "    }\n",
       "\n",
       "    .dataframe thead th {\n",
       "        text-align: right;\n",
       "    }\n",
       "</style>\n",
       "<table border=\"1\" class=\"dataframe\">\n",
       "  <thead>\n",
       "    <tr style=\"text-align: right;\">\n",
       "      <th></th>\n",
       "      <th>지역</th>\n",
       "      <th>2015</th>\n",
       "      <th>2010</th>\n",
       "      <th>2005</th>\n",
       "      <th>2000</th>\n",
       "      <th>2010-2015 증가율</th>\n",
       "    </tr>\n",
       "  </thead>\n",
       "  <tbody>\n",
       "    <tr>\n",
       "      <th>0</th>\n",
       "      <td>수도권</td>\n",
       "      <td>9904312</td>\n",
       "      <td>9631482</td>\n",
       "      <td>9762546</td>\n",
       "      <td>9853972</td>\n",
       "      <td>0.0283</td>\n",
       "    </tr>\n",
       "    <tr>\n",
       "      <th>1</th>\n",
       "      <td>경상권</td>\n",
       "      <td>3448737</td>\n",
       "      <td>3393191</td>\n",
       "      <td>3512547</td>\n",
       "      <td>3655437</td>\n",
       "      <td>0.0163</td>\n",
       "    </tr>\n",
       "    <tr>\n",
       "      <th>2</th>\n",
       "      <td>수도권</td>\n",
       "      <td>2890451</td>\n",
       "      <td>2632035</td>\n",
       "      <td>2517680</td>\n",
       "      <td>2466338</td>\n",
       "      <td>0.0982</td>\n",
       "    </tr>\n",
       "    <tr>\n",
       "      <th>3</th>\n",
       "      <td>경상권</td>\n",
       "      <td>2466052</td>\n",
       "      <td>2431774</td>\n",
       "      <td>2456016</td>\n",
       "      <td>2473990</td>\n",
       "      <td>0.0141</td>\n",
       "    </tr>\n",
       "  </tbody>\n",
       "</table>\n",
       "</div>"
      ],
      "text/plain": [
       "    지역     2015     2010     2005     2000  2010-2015 증가율\n",
       "0  수도권  9904312  9631482  9762546  9853972         0.0283\n",
       "1  경상권  3448737  3393191  3512547  3655437         0.0163\n",
       "2  수도권  2890451  2632035  2517680  2466338         0.0982\n",
       "3  경상권  2466052  2431774  2456016  2473990         0.0141"
      ]
     },
     "execution_count": 102,
     "metadata": {},
     "output_type": "execute_result"
    }
   ],
   "source": [
    "print(df.columns)\n",
    "cols=['지역','2015', '2010', '2005', '2000', '2010-2015 증가율']\n",
    "df= pd.DataFrame(data,columns=cols)\n",
    "df"
   ]
  },
  {
   "cell_type": "markdown",
   "id": "4f321dcc",
   "metadata": {},
   "source": [
    "### (2) 인덱스 변경"
   ]
  },
  {
   "cell_type": "code",
   "execution_count": 103,
   "id": "3f504acb",
   "metadata": {},
   "outputs": [
    {
     "name": "stdout",
     "output_type": "stream",
     "text": [
      "RangeIndex(start=0, stop=4, step=1)\n"
     ]
    },
    {
     "data": {
      "text/html": [
       "<div>\n",
       "<style scoped>\n",
       "    .dataframe tbody tr th:only-of-type {\n",
       "        vertical-align: middle;\n",
       "    }\n",
       "\n",
       "    .dataframe tbody tr th {\n",
       "        vertical-align: top;\n",
       "    }\n",
       "\n",
       "    .dataframe thead th {\n",
       "        text-align: right;\n",
       "    }\n",
       "</style>\n",
       "<table border=\"1\" class=\"dataframe\">\n",
       "  <thead>\n",
       "    <tr style=\"text-align: right;\">\n",
       "      <th></th>\n",
       "      <th>지역</th>\n",
       "      <th>2015</th>\n",
       "      <th>2010</th>\n",
       "      <th>2005</th>\n",
       "      <th>2000</th>\n",
       "      <th>2010-2015 증가율</th>\n",
       "    </tr>\n",
       "  </thead>\n",
       "  <tbody>\n",
       "    <tr>\n",
       "      <th>서울</th>\n",
       "      <td>수도권</td>\n",
       "      <td>9904312</td>\n",
       "      <td>9631482</td>\n",
       "      <td>9762546</td>\n",
       "      <td>9853972</td>\n",
       "      <td>0.0283</td>\n",
       "    </tr>\n",
       "    <tr>\n",
       "      <th>부산</th>\n",
       "      <td>경상권</td>\n",
       "      <td>3448737</td>\n",
       "      <td>3393191</td>\n",
       "      <td>3512547</td>\n",
       "      <td>3655437</td>\n",
       "      <td>0.0163</td>\n",
       "    </tr>\n",
       "    <tr>\n",
       "      <th>인천</th>\n",
       "      <td>수도권</td>\n",
       "      <td>2890451</td>\n",
       "      <td>2632035</td>\n",
       "      <td>2517680</td>\n",
       "      <td>2466338</td>\n",
       "      <td>0.0982</td>\n",
       "    </tr>\n",
       "    <tr>\n",
       "      <th>대구</th>\n",
       "      <td>경상권</td>\n",
       "      <td>2466052</td>\n",
       "      <td>2431774</td>\n",
       "      <td>2456016</td>\n",
       "      <td>2473990</td>\n",
       "      <td>0.0141</td>\n",
       "    </tr>\n",
       "  </tbody>\n",
       "</table>\n",
       "</div>"
      ],
      "text/plain": [
       "     지역     2015     2010     2005     2000  2010-2015 증가율\n",
       "서울  수도권  9904312  9631482  9762546  9853972         0.0283\n",
       "부산  경상권  3448737  3393191  3512547  3655437         0.0163\n",
       "인천  수도권  2890451  2632035  2517680  2466338         0.0982\n",
       "대구  경상권  2466052  2431774  2456016  2473990         0.0141"
      ]
     },
     "execution_count": 103,
     "metadata": {},
     "output_type": "execute_result"
    }
   ],
   "source": [
    "print(df.index) \n",
    "idx= ['서울','부산','인천','대구']\n",
    "df= pd.DataFrame(data, columns=cols, index=idx)\n",
    "df"
   ]
  },
  {
   "cell_type": "code",
   "execution_count": 104,
   "id": "1182c043",
   "metadata": {},
   "outputs": [
    {
     "data": {
      "text/html": [
       "<div>\n",
       "<style scoped>\n",
       "    .dataframe tbody tr th:only-of-type {\n",
       "        vertical-align: middle;\n",
       "    }\n",
       "\n",
       "    .dataframe tbody tr th {\n",
       "        vertical-align: top;\n",
       "    }\n",
       "\n",
       "    .dataframe thead th {\n",
       "        text-align: right;\n",
       "    }\n",
       "</style>\n",
       "<table border=\"1\" class=\"dataframe\">\n",
       "  <thead>\n",
       "    <tr style=\"text-align: right;\">\n",
       "      <th>특성</th>\n",
       "      <th>지역</th>\n",
       "      <th>2015</th>\n",
       "      <th>2010</th>\n",
       "      <th>2005</th>\n",
       "      <th>2000</th>\n",
       "      <th>2010-2015 증가율</th>\n",
       "    </tr>\n",
       "    <tr>\n",
       "      <th>도시</th>\n",
       "      <th></th>\n",
       "      <th></th>\n",
       "      <th></th>\n",
       "      <th></th>\n",
       "      <th></th>\n",
       "      <th></th>\n",
       "    </tr>\n",
       "  </thead>\n",
       "  <tbody>\n",
       "    <tr>\n",
       "      <th>서울</th>\n",
       "      <td>수도권</td>\n",
       "      <td>9904312</td>\n",
       "      <td>9631482</td>\n",
       "      <td>9762546</td>\n",
       "      <td>9853972</td>\n",
       "      <td>0.0283</td>\n",
       "    </tr>\n",
       "    <tr>\n",
       "      <th>부산</th>\n",
       "      <td>경상권</td>\n",
       "      <td>3448737</td>\n",
       "      <td>3393191</td>\n",
       "      <td>3512547</td>\n",
       "      <td>3655437</td>\n",
       "      <td>0.0163</td>\n",
       "    </tr>\n",
       "    <tr>\n",
       "      <th>인천</th>\n",
       "      <td>수도권</td>\n",
       "      <td>2890451</td>\n",
       "      <td>2632035</td>\n",
       "      <td>2517680</td>\n",
       "      <td>2466338</td>\n",
       "      <td>0.0982</td>\n",
       "    </tr>\n",
       "    <tr>\n",
       "      <th>대구</th>\n",
       "      <td>경상권</td>\n",
       "      <td>2466052</td>\n",
       "      <td>2431774</td>\n",
       "      <td>2456016</td>\n",
       "      <td>2473990</td>\n",
       "      <td>0.0141</td>\n",
       "    </tr>\n",
       "  </tbody>\n",
       "</table>\n",
       "</div>"
      ],
      "text/plain": [
       "특성   지역     2015     2010     2005     2000  2010-2015 증가율\n",
       "도시                                                        \n",
       "서울  수도권  9904312  9631482  9762546  9853972         0.0283\n",
       "부산  경상권  3448737  3393191  3512547  3655437         0.0163\n",
       "인천  수도권  2890451  2632035  2517680  2466338         0.0982\n",
       "대구  경상권  2466052  2431774  2456016  2473990         0.0141"
      ]
     },
     "execution_count": 104,
     "metadata": {},
     "output_type": "execute_result"
    }
   ],
   "source": [
    "# 컬럼과 인덱스에 이름 지정\n",
    "\n",
    "df.index.name= '도시'\n",
    "df.columns.name= '특성'\n",
    "df"
   ]
  },
  {
   "cell_type": "code",
   "execution_count": 105,
   "id": "25bbba45",
   "metadata": {},
   "outputs": [
    {
     "data": {
      "text/html": [
       "<div>\n",
       "<style scoped>\n",
       "    .dataframe tbody tr th:only-of-type {\n",
       "        vertical-align: middle;\n",
       "    }\n",
       "\n",
       "    .dataframe tbody tr th {\n",
       "        vertical-align: top;\n",
       "    }\n",
       "\n",
       "    .dataframe thead th {\n",
       "        text-align: right;\n",
       "    }\n",
       "</style>\n",
       "<table border=\"1\" class=\"dataframe\">\n",
       "  <thead>\n",
       "    <tr style=\"text-align: right;\">\n",
       "      <th>도시</th>\n",
       "      <th>서울</th>\n",
       "      <th>부산</th>\n",
       "      <th>인천</th>\n",
       "      <th>대구</th>\n",
       "    </tr>\n",
       "    <tr>\n",
       "      <th>특성</th>\n",
       "      <th></th>\n",
       "      <th></th>\n",
       "      <th></th>\n",
       "      <th></th>\n",
       "    </tr>\n",
       "  </thead>\n",
       "  <tbody>\n",
       "    <tr>\n",
       "      <th>지역</th>\n",
       "      <td>수도권</td>\n",
       "      <td>경상권</td>\n",
       "      <td>수도권</td>\n",
       "      <td>경상권</td>\n",
       "    </tr>\n",
       "    <tr>\n",
       "      <th>2015</th>\n",
       "      <td>9904312</td>\n",
       "      <td>3448737</td>\n",
       "      <td>2890451</td>\n",
       "      <td>2466052</td>\n",
       "    </tr>\n",
       "    <tr>\n",
       "      <th>2010</th>\n",
       "      <td>9631482</td>\n",
       "      <td>3393191</td>\n",
       "      <td>2632035</td>\n",
       "      <td>2431774</td>\n",
       "    </tr>\n",
       "    <tr>\n",
       "      <th>2005</th>\n",
       "      <td>9762546</td>\n",
       "      <td>3512547</td>\n",
       "      <td>2517680</td>\n",
       "      <td>2456016</td>\n",
       "    </tr>\n",
       "    <tr>\n",
       "      <th>2000</th>\n",
       "      <td>9853972</td>\n",
       "      <td>3655437</td>\n",
       "      <td>2466338</td>\n",
       "      <td>2473990</td>\n",
       "    </tr>\n",
       "    <tr>\n",
       "      <th>2010-2015 증가율</th>\n",
       "      <td>0.0283</td>\n",
       "      <td>0.0163</td>\n",
       "      <td>0.0982</td>\n",
       "      <td>0.0141</td>\n",
       "    </tr>\n",
       "  </tbody>\n",
       "</table>\n",
       "</div>"
      ],
      "text/plain": [
       "도시                  서울       부산       인천       대구\n",
       "특성                                               \n",
       "지역                 수도권      경상권      수도권      경상권\n",
       "2015           9904312  3448737  2890451  2466052\n",
       "2010           9631482  3393191  2632035  2431774\n",
       "2005           9762546  3512547  2517680  2456016\n",
       "2000           9853972  3655437  2466338  2473990\n",
       "2010-2015 증가율   0.0283   0.0163   0.0982   0.0141"
      ]
     },
     "execution_count": 105,
     "metadata": {},
     "output_type": "execute_result"
    }
   ],
   "source": [
    "# 전치 가능\n",
    "\n",
    "df.T"
   ]
  },
  {
   "cell_type": "markdown",
   "id": "4df268dc",
   "metadata": {},
   "source": [
    "### (3) Indexing\n",
    "    df[0] DataFrame에서 열 인덱스는 숫자로 접근 안됨\n",
    "    df['2015':'2010'] # 열 인덱스 슬라이싱 안됨\n",
    "    행 인덱스는 반드시 :으로 슬라이싱"
   ]
  },
  {
   "cell_type": "markdown",
   "id": "cec29c04",
   "metadata": {},
   "source": [
    "#### 1) 열 인덱싱"
   ]
  },
  {
   "cell_type": "code",
   "execution_count": 106,
   "id": "be621b0b",
   "metadata": {
    "scrolled": true
   },
   "outputs": [
    {
     "data": {
      "text/html": [
       "<div>\n",
       "<style scoped>\n",
       "    .dataframe tbody tr th:only-of-type {\n",
       "        vertical-align: middle;\n",
       "    }\n",
       "\n",
       "    .dataframe tbody tr th {\n",
       "        vertical-align: top;\n",
       "    }\n",
       "\n",
       "    .dataframe thead th {\n",
       "        text-align: right;\n",
       "    }\n",
       "</style>\n",
       "<table border=\"1\" class=\"dataframe\">\n",
       "  <thead>\n",
       "    <tr style=\"text-align: right;\">\n",
       "      <th>특성</th>\n",
       "      <th>지역</th>\n",
       "      <th>2015</th>\n",
       "      <th>2010</th>\n",
       "      <th>2005</th>\n",
       "      <th>2000</th>\n",
       "      <th>2010-2015 증가율</th>\n",
       "    </tr>\n",
       "    <tr>\n",
       "      <th>도시</th>\n",
       "      <th></th>\n",
       "      <th></th>\n",
       "      <th></th>\n",
       "      <th></th>\n",
       "      <th></th>\n",
       "      <th></th>\n",
       "    </tr>\n",
       "  </thead>\n",
       "  <tbody>\n",
       "    <tr>\n",
       "      <th>서울</th>\n",
       "      <td>수도권</td>\n",
       "      <td>9904312</td>\n",
       "      <td>9631482</td>\n",
       "      <td>9762546</td>\n",
       "      <td>9853972</td>\n",
       "      <td>0.0283</td>\n",
       "    </tr>\n",
       "    <tr>\n",
       "      <th>부산</th>\n",
       "      <td>경상권</td>\n",
       "      <td>3448737</td>\n",
       "      <td>3393191</td>\n",
       "      <td>3512547</td>\n",
       "      <td>3655437</td>\n",
       "      <td>0.0163</td>\n",
       "    </tr>\n",
       "    <tr>\n",
       "      <th>인천</th>\n",
       "      <td>수도권</td>\n",
       "      <td>2890451</td>\n",
       "      <td>2632035</td>\n",
       "      <td>2517680</td>\n",
       "      <td>2466338</td>\n",
       "      <td>0.0982</td>\n",
       "    </tr>\n",
       "    <tr>\n",
       "      <th>대구</th>\n",
       "      <td>경상권</td>\n",
       "      <td>2466052</td>\n",
       "      <td>2431774</td>\n",
       "      <td>2456016</td>\n",
       "      <td>2473990</td>\n",
       "      <td>0.0141</td>\n",
       "    </tr>\n",
       "  </tbody>\n",
       "</table>\n",
       "</div>"
      ],
      "text/plain": [
       "특성   지역     2015     2010     2005     2000  2010-2015 증가율\n",
       "도시                                                        \n",
       "서울  수도권  9904312  9631482  9762546  9853972         0.0283\n",
       "부산  경상권  3448737  3393191  3512547  3655437         0.0163\n",
       "인천  수도권  2890451  2632035  2517680  2466338         0.0982\n",
       "대구  경상권  2466052  2431774  2456016  2473990         0.0141"
      ]
     },
     "execution_count": 106,
     "metadata": {},
     "output_type": "execute_result"
    }
   ],
   "source": [
    "# data\n",
    "df"
   ]
  },
  {
   "cell_type": "code",
   "execution_count": 107,
   "id": "dcac85ca",
   "metadata": {
    "scrolled": true
   },
   "outputs": [
    {
     "name": "stdout",
     "output_type": "stream",
     "text": [
      "도시\n",
      "서울    수도권\n",
      "부산    경상권\n",
      "인천    수도권\n",
      "대구    경상권\n",
      "Name: 지역, dtype: object \n",
      "\n",
      "<class 'pandas.core.series.Series'> \n",
      "\n",
      "특성   지역\n",
      "도시     \n",
      "서울  수도권\n",
      "부산  경상권\n",
      "인천  수도권\n",
      "대구  경상권 \n",
      "\n",
      "특성     2015     2010\n",
      "도시                  \n",
      "서울  9904312  9631482\n",
      "부산  3448737  3393191\n",
      "인천  2890451  2632035\n",
      "대구  2466052  2431774 \n",
      "\n"
     ]
    }
   ],
   "source": [
    "print(df['지역'],'\\n')  # Series type\n",
    "print(type(df['지역']),'\\n')\n",
    "print(df[['지역']],'\\n')    # Series를 DataFrame 형식으로\n",
    "print(df[['2015','2010']],'\\n')\n",
    "\n",
    "# df[0] DataFrame에서 열 인덱스는 숫자로 접근 안됨\n",
    "# df['2015':'2010'] # 열 인덱스 슬라이싱 안됨"
   ]
  },
  {
   "cell_type": "markdown",
   "id": "068d34a6",
   "metadata": {},
   "source": [
    "#### 2) 행 인덱싱\n",
    "    하나여도 반드시 :으로 슬라이싱"
   ]
  },
  {
   "cell_type": "code",
   "execution_count": 108,
   "id": "41f7604c",
   "metadata": {},
   "outputs": [
    {
     "name": "stdout",
     "output_type": "stream",
     "text": [
      "특성   지역     2015     2010     2005     2000  2010-2015 증가율\n",
      "도시                                                        \n",
      "서울  수도권  9904312  9631482  9762546  9853972         0.0283\n",
      "부산  경상권  3448737  3393191  3512547  3655437         0.0163\n",
      "인천  수도권  2890451  2632035  2517680  2466338         0.0982 \n",
      "\n",
      "특성   지역     2015     2010     2005     2000  2010-2015 증가율\n",
      "도시                                                        \n",
      "서울  수도권  9904312  9631482  9762546  9853972         0.0283\n",
      "부산  경상권  3448737  3393191  3512547  3655437         0.0163\n",
      "인천  수도권  2890451  2632035  2517680  2466338         0.0982\n",
      "대구  경상권  2466052  2431774  2456016  2473990         0.0141 \n",
      "\n",
      "특성   지역     2015     2010     2005     2000  2010-2015 증가율\n",
      "도시                                                        \n",
      "서울  수도권  9904312  9631482  9762546  9853972         0.0283\n",
      "부산  경상권  3448737  3393191  3512547  3655437         0.0163 \n",
      "\n"
     ]
    }
   ],
   "source": [
    "print(df[0:3],'\\n')\n",
    "print(df[:],'\\n')\n",
    "print(df['서울':'부산'],'\\n')"
   ]
  },
  {
   "cell_type": "markdown",
   "id": "b35b2c69",
   "metadata": {},
   "source": [
    "#### 3) 행과 열을 동시에 접근\n",
    "    행과 열을 따로 접근. [행,열]로 접근 불가능\n",
    "    행이 아니라 열 우선\n",
    "    동시에 접근할때는 행 슬라이싱 안해도 됨\n",
    "    열은 슬라이싱 안됨\n",
    "    행 숫자로 접근 가능\n",
    "    열 숫자로 접근 불가능"
   ]
  },
  {
   "cell_type": "code",
   "execution_count": 109,
   "id": "3ef8b0c3",
   "metadata": {},
   "outputs": [
    {
     "name": "stdout",
     "output_type": "stream",
     "text": [
      "특성   지역     2015     2010     2005     2000  2010-2015 증가율\n",
      "도시                                                        \n",
      "서울  수도권  9904312  9631482  9762546  9853972         0.0283\n",
      "부산  경상권  3448737  3393191  3512547  3655437         0.0163\n",
      "인천  수도권  2890451  2632035  2517680  2466338         0.0982\n",
      "대구  경상권  2466052  2431774  2456016  2473990         0.0141\n",
      "9904312 \n",
      "\n",
      "9904312 \n",
      "\n",
      "도시\n",
      "서울    9904312\n",
      "Name: 2015, dtype: int64 \n",
      "\n",
      "도시\n",
      "서울    9904312\n",
      "Name: 2015, dtype: int64\n"
     ]
    }
   ],
   "source": [
    "print(df)\n",
    "print(df['2015']['서울'],'\\n')\n",
    "print(df['2015'][0],'\\n')\n",
    "print(df['2015'][:'서울'],'\\n')\n",
    "print(df['2015'][:1])\n",
    "# print(df['2015','서울'])"
   ]
  },
  {
   "cell_type": "markdown",
   "id": "19781dee",
   "metadata": {},
   "source": [
    "#### 4) 열 데이터 수정, 추가, 삭제"
   ]
  },
  {
   "cell_type": "code",
   "execution_count": 115,
   "id": "19d53200",
   "metadata": {},
   "outputs": [
    {
     "name": "stdout",
     "output_type": "stream",
     "text": [
      "특성   지역     2015     2010     2005     2000  2010-2015 증가율  2005-2010 증가율\n",
      "도시                                                                       \n",
      "서울  수도권  9904312  9631482  9762546  9853972           2.83      -1.342519\n",
      "부산  경상권  3448737  3393191  3512547  3655437           1.63      -3.397990\n",
      "인천  수도권  2890451  2632035  2517680  2466338           9.82       4.542078\n",
      "대구  경상권  2466052  2431774  2456016  2473990           1.41      -0.987046 \n",
      "\n",
      "특성   지역     2015     2010     2005     2000  2010-2015 증가율  2005-2010 증가율\n",
      "도시                                                                       \n",
      "서울  수도권  9904312  9631482  9762546  9853972          283.0      -1.342519\n",
      "부산  경상권  3448737  3393191  3512547  3655437          163.0      -3.397990\n",
      "인천  수도권  2890451  2632035  2517680  2466338          982.0       4.542078\n",
      "대구  경상권  2466052  2431774  2456016  2473990          141.0      -0.987046 \n",
      "\n",
      "특성   지역     2015     2010     2005     2000  2010-2015 증가율  2005-2010 증가율\n",
      "도시                                                                       \n",
      "서울  수도권  9904312  9631482  9762546  9853972          283.0      -1.342519\n",
      "부산  경상권  3448737  3393191  3512547  3655437          163.0      -3.397990\n",
      "인천  수도권  2890451  2632035  2517680  2466338          982.0       4.542078\n",
      "대구  경상권  2466052  2431774  2456016  2473990          141.0      -0.987046 \n",
      "\n",
      "특성   지역     2015     2010     2005     2000  2010-2015 증가율\n",
      "도시                                                        \n",
      "서울  수도권  9904312  9631482  9762546  9853972          283.0\n",
      "부산  경상권  3448737  3393191  3512547  3655437          163.0\n",
      "인천  수도권  2890451  2632035  2517680  2466338          982.0\n",
      "대구  경상권  2466052  2431774  2456016  2473990          141.0\n"
     ]
    }
   ],
   "source": [
    "print(df,'\\n')\n",
    "\n",
    "# 수정\n",
    "df['2010-2015 증가율']= df['2010-2015 증가율']*100\n",
    "print(df,'\\n')\n",
    "\n",
    "# 추가. 새로운 컬럼, 파생변수 생성\n",
    "df['2005-2010 증가율']= ((df['2010']-df['2005'])/df['2005']*100)\n",
    "print(df,'\\n')\n",
    "\n",
    "# 삭제\n",
    "\n",
    "del df['2005-2010 증가율']\n",
    "print(df)"
   ]
  },
  {
   "cell_type": "code",
   "execution_count": 3,
   "id": "2ea23fc4",
   "metadata": {},
   "outputs": [
    {
     "data": {
      "text/html": [
       "<div>\n",
       "<style scoped>\n",
       "    .dataframe tbody tr th:only-of-type {\n",
       "        vertical-align: middle;\n",
       "    }\n",
       "\n",
       "    .dataframe tbody tr th {\n",
       "        vertical-align: top;\n",
       "    }\n",
       "\n",
       "    .dataframe thead th {\n",
       "        text-align: right;\n",
       "    }\n",
       "</style>\n",
       "<table border=\"1\" class=\"dataframe\">\n",
       "  <thead>\n",
       "    <tr style=\"text-align: right;\">\n",
       "      <th></th>\n",
       "      <th>국어</th>\n",
       "      <th>영어</th>\n",
       "      <th>수학</th>\n",
       "    </tr>\n",
       "  </thead>\n",
       "  <tbody>\n",
       "    <tr>\n",
       "      <th>춘향</th>\n",
       "      <td>80</td>\n",
       "      <td>90</td>\n",
       "      <td>90</td>\n",
       "    </tr>\n",
       "    <tr>\n",
       "      <th>몽룡</th>\n",
       "      <td>90</td>\n",
       "      <td>70</td>\n",
       "      <td>60</td>\n",
       "    </tr>\n",
       "    <tr>\n",
       "      <th>향단</th>\n",
       "      <td>70</td>\n",
       "      <td>60</td>\n",
       "      <td>80</td>\n",
       "    </tr>\n",
       "    <tr>\n",
       "      <th>방자</th>\n",
       "      <td>30</td>\n",
       "      <td>40</td>\n",
       "      <td>70</td>\n",
       "    </tr>\n",
       "  </tbody>\n",
       "</table>\n",
       "</div>"
      ],
      "text/plain": [
       "    국어  영어  수학\n",
       "춘향  80  90  90\n",
       "몽룡  90  70  60\n",
       "향단  70  60  80\n",
       "방자  30  40  70"
      ]
     },
     "execution_count": 3,
     "metadata": {},
     "output_type": "execute_result"
    }
   ],
   "source": [
    "#1. 인덱스를 춘향, 몽룡, 향단. 방자로 구성된 df를 작성\n",
    "data = {\n",
    "    \"국어\":[80, 90, 70, 30],\n",
    "    \"영어\":[90, 70, 60, 40],\n",
    "    \"수학\":[90, 60, 80, 70]\n",
    "}\n",
    "\n",
    "df= pd.DataFrame(data,index=['춘향','몽룡','향단','방자'])\n",
    "df"
   ]
  },
  {
   "cell_type": "code",
   "execution_count": 227,
   "id": "664316a3",
   "metadata": {},
   "outputs": [
    {
     "data": {
      "text/plain": [
       "춘향    90\n",
       "몽룡    60\n",
       "향단    80\n",
       "방자    70\n",
       "Name: 수학, dtype: int64"
      ]
     },
     "execution_count": 227,
     "metadata": {},
     "output_type": "execute_result"
    }
   ],
   "source": [
    "#2. 모든 학생의 수학점수 조회\n",
    "# 열만 접근해도 자동으로 모든 행 선택됨\n",
    "df['수학']"
   ]
  },
  {
   "cell_type": "code",
   "execution_count": 228,
   "id": "3291a44f",
   "metadata": {},
   "outputs": [
    {
     "data": {
      "text/html": [
       "<div>\n",
       "<style scoped>\n",
       "    .dataframe tbody tr th:only-of-type {\n",
       "        vertical-align: middle;\n",
       "    }\n",
       "\n",
       "    .dataframe tbody tr th {\n",
       "        vertical-align: top;\n",
       "    }\n",
       "\n",
       "    .dataframe thead th {\n",
       "        text-align: right;\n",
       "    }\n",
       "</style>\n",
       "<table border=\"1\" class=\"dataframe\">\n",
       "  <thead>\n",
       "    <tr style=\"text-align: right;\">\n",
       "      <th></th>\n",
       "      <th>국어</th>\n",
       "      <th>영어</th>\n",
       "    </tr>\n",
       "  </thead>\n",
       "  <tbody>\n",
       "    <tr>\n",
       "      <th>춘향</th>\n",
       "      <td>80</td>\n",
       "      <td>90</td>\n",
       "    </tr>\n",
       "    <tr>\n",
       "      <th>몽룡</th>\n",
       "      <td>90</td>\n",
       "      <td>70</td>\n",
       "    </tr>\n",
       "    <tr>\n",
       "      <th>향단</th>\n",
       "      <td>70</td>\n",
       "      <td>60</td>\n",
       "    </tr>\n",
       "    <tr>\n",
       "      <th>방자</th>\n",
       "      <td>30</td>\n",
       "      <td>40</td>\n",
       "    </tr>\n",
       "  </tbody>\n",
       "</table>\n",
       "</div>"
      ],
      "text/plain": [
       "    국어  영어\n",
       "춘향  80  90\n",
       "몽룡  90  70\n",
       "향단  70  60\n",
       "방자  30  40"
      ]
     },
     "execution_count": 228,
     "metadata": {},
     "output_type": "execute_result"
    }
   ],
   "source": [
    "#3 모든 학생의 국어와 영어 점수를 조회\n",
    "# 열은 슬라이싱으로 접근  부라\n",
    "df[['국어','영어']]"
   ]
  },
  {
   "cell_type": "code",
   "execution_count": 11,
   "id": "efbb2374",
   "metadata": {},
   "outputs": [],
   "source": [
    "?pd.DataFrame.mean"
   ]
  },
  {
   "cell_type": "code",
   "execution_count": 5,
   "id": "67324883",
   "metadata": {},
   "outputs": [
    {
     "data": {
      "text/html": [
       "<div>\n",
       "<style scoped>\n",
       "    .dataframe tbody tr th:only-of-type {\n",
       "        vertical-align: middle;\n",
       "    }\n",
       "\n",
       "    .dataframe tbody tr th {\n",
       "        vertical-align: top;\n",
       "    }\n",
       "\n",
       "    .dataframe thead th {\n",
       "        text-align: right;\n",
       "    }\n",
       "</style>\n",
       "<table border=\"1\" class=\"dataframe\">\n",
       "  <thead>\n",
       "    <tr style=\"text-align: right;\">\n",
       "      <th></th>\n",
       "      <th>국어</th>\n",
       "      <th>영어</th>\n",
       "      <th>수학</th>\n",
       "      <th>과목평균</th>\n",
       "      <th>과목평균2</th>\n",
       "    </tr>\n",
       "  </thead>\n",
       "  <tbody>\n",
       "    <tr>\n",
       "      <th>춘향</th>\n",
       "      <td>80</td>\n",
       "      <td>90</td>\n",
       "      <td>90</td>\n",
       "      <td>86.666667</td>\n",
       "      <td>86.67</td>\n",
       "    </tr>\n",
       "    <tr>\n",
       "      <th>몽룡</th>\n",
       "      <td>90</td>\n",
       "      <td>70</td>\n",
       "      <td>60</td>\n",
       "      <td>73.333333</td>\n",
       "      <td>73.33</td>\n",
       "    </tr>\n",
       "    <tr>\n",
       "      <th>향단</th>\n",
       "      <td>70</td>\n",
       "      <td>60</td>\n",
       "      <td>80</td>\n",
       "      <td>70.000000</td>\n",
       "      <td>70.00</td>\n",
       "    </tr>\n",
       "    <tr>\n",
       "      <th>방자</th>\n",
       "      <td>30</td>\n",
       "      <td>40</td>\n",
       "      <td>70</td>\n",
       "      <td>46.666667</td>\n",
       "      <td>46.67</td>\n",
       "    </tr>\n",
       "  </tbody>\n",
       "</table>\n",
       "</div>"
      ],
      "text/plain": [
       "    국어  영어  수학       과목평균  과목평균2\n",
       "춘향  80  90  90  86.666667  86.67\n",
       "몽룡  90  70  60  73.333333  73.33\n",
       "향단  70  60  80  70.000000  70.00\n",
       "방자  30  40  70  46.666667  46.67"
      ]
     },
     "execution_count": 5,
     "metadata": {},
     "output_type": "execute_result"
    }
   ],
   "source": [
    "# 파생변수 추가\n",
    "#4 모든 학생의 각 과목평균점수를 새로운 열 과목평균으로 추가하시오\n",
    "df['과목평균']=(df['국어']+df['영어']+df['수학'])/3\n",
    "df['과목평균2']= df[:].mean(axis=1).round(2)  #행을 기준으로 모든 행 평균\n",
    "df"
   ]
  },
  {
   "cell_type": "code",
   "execution_count": 9,
   "id": "3e44d732",
   "metadata": {},
   "outputs": [
    {
     "name": "stderr",
     "output_type": "stream",
     "text": [
      "C:\\Users\\acorn\\AppData\\Local\\Temp\\ipykernel_26064\\3783957499.py:4: SettingWithCopyWarning: \n",
      "A value is trying to be set on a copy of a slice from a DataFrame\n",
      "\n",
      "See the caveats in the documentation: https://pandas.pydata.org/pandas-docs/stable/user_guide/indexing.html#returning-a-view-versus-a-copy\n",
      "  df['영어']['방자']=80\n",
      "C:\\Users\\acorn\\AppData\\Local\\Temp\\ipykernel_26064\\3783957499.py:5: SettingWithCopyWarning: \n",
      "A value is trying to be set on a copy of a slice from a DataFrame\n",
      "\n",
      "See the caveats in the documentation: https://pandas.pydata.org/pandas-docs/stable/user_guide/indexing.html#returning-a-view-versus-a-copy\n",
      "  df['과목평균']['방자']= (df['국어']['방자']+ df['수학']['방자']+df['영어']['방자'])/3\n",
      "C:\\Users\\acorn\\AppData\\Local\\Temp\\ipykernel_26064\\3783957499.py:6: SettingWithCopyWarning: \n",
      "A value is trying to be set on a copy of a slice from a DataFrame\n",
      "\n",
      "See the caveats in the documentation: https://pandas.pydata.org/pandas-docs/stable/user_guide/indexing.html#returning-a-view-versus-a-copy\n",
      "  df['과목평균2']['방자']= df[['국어','영어','수학']]['방자':'방자'].mean(axis=1).round(2)\n"
     ]
    },
    {
     "data": {
      "text/html": [
       "<div>\n",
       "<style scoped>\n",
       "    .dataframe tbody tr th:only-of-type {\n",
       "        vertical-align: middle;\n",
       "    }\n",
       "\n",
       "    .dataframe tbody tr th {\n",
       "        vertical-align: top;\n",
       "    }\n",
       "\n",
       "    .dataframe thead th {\n",
       "        text-align: right;\n",
       "    }\n",
       "</style>\n",
       "<table border=\"1\" class=\"dataframe\">\n",
       "  <thead>\n",
       "    <tr style=\"text-align: right;\">\n",
       "      <th></th>\n",
       "      <th>국어</th>\n",
       "      <th>영어</th>\n",
       "      <th>수학</th>\n",
       "      <th>과목평균</th>\n",
       "      <th>과목평균2</th>\n",
       "    </tr>\n",
       "  </thead>\n",
       "  <tbody>\n",
       "    <tr>\n",
       "      <th>춘향</th>\n",
       "      <td>80</td>\n",
       "      <td>90</td>\n",
       "      <td>90</td>\n",
       "      <td>86.666667</td>\n",
       "      <td>86.67</td>\n",
       "    </tr>\n",
       "    <tr>\n",
       "      <th>몽룡</th>\n",
       "      <td>90</td>\n",
       "      <td>70</td>\n",
       "      <td>60</td>\n",
       "      <td>73.333333</td>\n",
       "      <td>73.33</td>\n",
       "    </tr>\n",
       "    <tr>\n",
       "      <th>향단</th>\n",
       "      <td>70</td>\n",
       "      <td>60</td>\n",
       "      <td>80</td>\n",
       "      <td>70.000000</td>\n",
       "      <td>70.00</td>\n",
       "    </tr>\n",
       "    <tr>\n",
       "      <th>방자</th>\n",
       "      <td>30</td>\n",
       "      <td>80</td>\n",
       "      <td>70</td>\n",
       "      <td>60.000000</td>\n",
       "      <td>60.00</td>\n",
       "    </tr>\n",
       "  </tbody>\n",
       "</table>\n",
       "</div>"
      ],
      "text/plain": [
       "    국어  영어  수학       과목평균  과목평균2\n",
       "춘향  80  90  90  86.666667  86.67\n",
       "몽룡  90  70  60  73.333333  73.33\n",
       "향단  70  60  80  70.000000  70.00\n",
       "방자  30  80  70  60.000000  60.00"
      ]
     },
     "execution_count": 9,
     "metadata": {},
     "output_type": "execute_result"
    }
   ],
   "source": [
    "# 열 먼저 접근\n",
    "# 열 여러개에 접근할때는 행 슬라이싱 해야함\n",
    "#5 방자의 영어점수를 80으로 수정하고 평균점수도 다시 수정하시오\n",
    "df['영어']['방자']=80\n",
    "df['과목평균']['방자']= (df['국어']['방자']+ df['수학']['방자']+df['영어']['방자'])/3\n",
    "df['과목평균2']['방자']= df[['국어','영어','수학']]['방자':'방자'].mean(axis=1).round(2)\n",
    "df"
   ]
  },
  {
   "cell_type": "code",
   "execution_count": 10,
   "id": "658832d6",
   "metadata": {},
   "outputs": [
    {
     "name": "stdout",
     "output_type": "stream",
     "text": [
      "    국어  영어  수학       과목평균  과목평균2\n",
      "춘향  80  90  90  86.666667  86.67\n",
      "<class 'pandas.core.frame.DataFrame'>\n",
      "    국어  영어  수학       과목평균  과목평균2\n",
      "춘향  80  90  90  86.666667  86.67\n"
     ]
    }
   ],
   "source": [
    "# 열은 이름으로만 접근가능. 행 접근은 숫자로도 가능\n",
    "# 춘향의 점수를 데이터 프레임 형식으로 출력 (그냥 출력)\n",
    "print(df['춘향':'춘향'])\n",
    "\n",
    "print(type(df.T[['춘향']]))\n",
    "print(df[\"춘향\":\"춘향\"])"
   ]
  },
  {
   "cell_type": "code",
   "execution_count": 232,
   "id": "76412b58",
   "metadata": {},
   "outputs": [
    {
     "data": {
      "text/plain": [
       "pandas.core.series.Series"
      ]
     },
     "execution_count": 232,
     "metadata": {},
     "output_type": "execute_result"
    }
   ],
   "source": [
    "# 행으로 뽑으면 datarframe, 열로 뽑으면 Series\n",
    "# 향단의 점수를 Series로 출력\n",
    "type(df.T['향단'])"
   ]
  },
  {
   "cell_type": "markdown",
   "id": "905c8c37",
   "metadata": {},
   "source": [
    "### (5) 파일 입출력\n",
    "    바로 데이터프레임 형식으로\n",
    "    - read_csv()\n",
    "    - to_csv()\n",
    "    - read_table(): csv가 아닌건 table로"
   ]
  },
  {
   "cell_type": "code",
   "execution_count": 135,
   "id": "14f2fbb8",
   "metadata": {
    "scrolled": true
   },
   "outputs": [
    {
     "name": "stdout",
     "output_type": "stream",
     "text": [
      "Writing data/sample.csv\n"
     ]
    }
   ],
   "source": [
    "%%writefile data/sample1.csv          # 매직 명령어 파일 생성: %%writefile 파일명   . 반드시 주석없이 첫줄에서 실행\n",
    "\n",
    "c1,c2,c3\n",
    "1, 1.11, one\n",
    "2, 2.22, two\n",
    "3, 3.33, three"
   ]
  },
  {
   "cell_type": "code",
   "execution_count": 137,
   "id": "84e68543",
   "metadata": {},
   "outputs": [
    {
     "data": {
      "text/html": [
       "<div>\n",
       "<style scoped>\n",
       "    .dataframe tbody tr th:only-of-type {\n",
       "        vertical-align: middle;\n",
       "    }\n",
       "\n",
       "    .dataframe tbody tr th {\n",
       "        vertical-align: top;\n",
       "    }\n",
       "\n",
       "    .dataframe thead th {\n",
       "        text-align: right;\n",
       "    }\n",
       "</style>\n",
       "<table border=\"1\" class=\"dataframe\">\n",
       "  <thead>\n",
       "    <tr style=\"text-align: right;\">\n",
       "      <th></th>\n",
       "      <th>c1</th>\n",
       "      <th>c2</th>\n",
       "      <th>c3</th>\n",
       "    </tr>\n",
       "  </thead>\n",
       "  <tbody>\n",
       "    <tr>\n",
       "      <th>0</th>\n",
       "      <td>1</td>\n",
       "      <td>1.11</td>\n",
       "      <td>one</td>\n",
       "    </tr>\n",
       "    <tr>\n",
       "      <th>1</th>\n",
       "      <td>2</td>\n",
       "      <td>2.22</td>\n",
       "      <td>two</td>\n",
       "    </tr>\n",
       "    <tr>\n",
       "      <th>2</th>\n",
       "      <td>3</td>\n",
       "      <td>3.33</td>\n",
       "      <td>three</td>\n",
       "    </tr>\n",
       "  </tbody>\n",
       "</table>\n",
       "</div>"
      ],
      "text/plain": [
       "   c1    c2      c3\n",
       "0   1  1.11     one\n",
       "1   2  2.22     two\n",
       "2   3  3.33   three"
      ]
     },
     "execution_count": 137,
     "metadata": {},
     "output_type": "execute_result"
    }
   ],
   "source": [
    "sample1= pd.read_csv('data/sample1.csv')   # 바로 df 형식\n",
    "sample1"
   ]
  },
  {
   "cell_type": "code",
   "execution_count": 139,
   "id": "f2fc5e82",
   "metadata": {},
   "outputs": [
    {
     "name": "stdout",
     "output_type": "stream",
     "text": [
      "Overwriting data/sample2.csv\n"
     ]
    }
   ],
   "source": [
    "%%writefile data/sample2.csv  \n",
    "\n",
    "1, 1.11, one\n",
    "2, 2.22, two\n",
    "3, 3.33, three"
   ]
  },
  {
   "cell_type": "code",
   "execution_count": 141,
   "id": "7fadaf21",
   "metadata": {},
   "outputs": [
    {
     "data": {
      "text/html": [
       "<div>\n",
       "<style scoped>\n",
       "    .dataframe tbody tr th:only-of-type {\n",
       "        vertical-align: middle;\n",
       "    }\n",
       "\n",
       "    .dataframe tbody tr th {\n",
       "        vertical-align: top;\n",
       "    }\n",
       "\n",
       "    .dataframe thead th {\n",
       "        text-align: right;\n",
       "    }\n",
       "</style>\n",
       "<table border=\"1\" class=\"dataframe\">\n",
       "  <thead>\n",
       "    <tr style=\"text-align: right;\">\n",
       "      <th></th>\n",
       "      <th>c1</th>\n",
       "      <th>c2</th>\n",
       "      <th>c3</th>\n",
       "    </tr>\n",
       "  </thead>\n",
       "  <tbody>\n",
       "    <tr>\n",
       "      <th>0</th>\n",
       "      <td>1</td>\n",
       "      <td>1.11</td>\n",
       "      <td>one</td>\n",
       "    </tr>\n",
       "    <tr>\n",
       "      <th>1</th>\n",
       "      <td>2</td>\n",
       "      <td>2.22</td>\n",
       "      <td>two</td>\n",
       "    </tr>\n",
       "    <tr>\n",
       "      <th>2</th>\n",
       "      <td>3</td>\n",
       "      <td>3.33</td>\n",
       "      <td>three</td>\n",
       "    </tr>\n",
       "  </tbody>\n",
       "</table>\n",
       "</div>"
      ],
      "text/plain": [
       "   c1    c2      c3\n",
       "0   1  1.11     one\n",
       "1   2  2.22     two\n",
       "2   3  3.33   three"
      ]
     },
     "execution_count": 141,
     "metadata": {},
     "output_type": "execute_result"
    }
   ],
   "source": [
    "sample2= pd.read_csv('data/sample2.csv', names=['c1','c2','c3'])   # 컬럼 이름 바로 할당\n",
    "sample2"
   ]
  },
  {
   "cell_type": "code",
   "execution_count": 144,
   "id": "2af23835",
   "metadata": {},
   "outputs": [
    {
     "data": {
      "text/html": [
       "<div>\n",
       "<style scoped>\n",
       "    .dataframe tbody tr th:only-of-type {\n",
       "        vertical-align: middle;\n",
       "    }\n",
       "\n",
       "    .dataframe tbody tr th {\n",
       "        vertical-align: top;\n",
       "    }\n",
       "\n",
       "    .dataframe thead th {\n",
       "        text-align: right;\n",
       "    }\n",
       "</style>\n",
       "<table border=\"1\" class=\"dataframe\">\n",
       "  <thead>\n",
       "    <tr style=\"text-align: right;\">\n",
       "      <th></th>\n",
       "      <th>c2</th>\n",
       "      <th>c3</th>\n",
       "    </tr>\n",
       "    <tr>\n",
       "      <th>c1</th>\n",
       "      <th></th>\n",
       "      <th></th>\n",
       "    </tr>\n",
       "  </thead>\n",
       "  <tbody>\n",
       "    <tr>\n",
       "      <th>1</th>\n",
       "      <td>1.11</td>\n",
       "      <td>one</td>\n",
       "    </tr>\n",
       "    <tr>\n",
       "      <th>2</th>\n",
       "      <td>2.22</td>\n",
       "      <td>two</td>\n",
       "    </tr>\n",
       "    <tr>\n",
       "      <th>3</th>\n",
       "      <td>3.33</td>\n",
       "      <td>three</td>\n",
       "    </tr>\n",
       "  </tbody>\n",
       "</table>\n",
       "</div>"
      ],
      "text/plain": [
       "      c2      c3\n",
       "c1              \n",
       "1   1.11     one\n",
       "2   2.22     two\n",
       "3   3.33   three"
      ]
     },
     "execution_count": 144,
     "metadata": {},
     "output_type": "execute_result"
    }
   ],
   "source": [
    "# 특정한 열을 인덱스로 지정\n",
    "sample3= pd.read_csv('data/sample1.csv', index_col='c1')\n",
    "sample3"
   ]
  },
  {
   "cell_type": "code",
   "execution_count": 162,
   "id": "03099ec8",
   "metadata": {},
   "outputs": [
    {
     "name": "stdout",
     "output_type": "stream",
     "text": [
      "Overwriting data/sample3.txt\n"
     ]
    }
   ],
   "source": [
    "%%writefile data/sample3.txt  \n",
    "c1     c2      c3      c4\n",
    "1  1.11  1111  111\n",
    "2  2.22  2222  222\n",
    "3  3.33  3333  333"
   ]
  },
  {
   "cell_type": "code",
   "execution_count": 163,
   "id": "fd0b0587",
   "metadata": {},
   "outputs": [
    {
     "data": {
      "text/html": [
       "<div>\n",
       "<style scoped>\n",
       "    .dataframe tbody tr th:only-of-type {\n",
       "        vertical-align: middle;\n",
       "    }\n",
       "\n",
       "    .dataframe tbody tr th {\n",
       "        vertical-align: top;\n",
       "    }\n",
       "\n",
       "    .dataframe thead th {\n",
       "        text-align: right;\n",
       "    }\n",
       "</style>\n",
       "<table border=\"1\" class=\"dataframe\">\n",
       "  <thead>\n",
       "    <tr style=\"text-align: right;\">\n",
       "      <th></th>\n",
       "      <th>c1</th>\n",
       "      <th>c2</th>\n",
       "      <th>c3</th>\n",
       "      <th>c4</th>\n",
       "    </tr>\n",
       "  </thead>\n",
       "  <tbody>\n",
       "    <tr>\n",
       "      <th>0</th>\n",
       "      <td>1</td>\n",
       "      <td>1.11</td>\n",
       "      <td>1111</td>\n",
       "      <td>111</td>\n",
       "    </tr>\n",
       "    <tr>\n",
       "      <th>1</th>\n",
       "      <td>2</td>\n",
       "      <td>2.22</td>\n",
       "      <td>2222</td>\n",
       "      <td>222</td>\n",
       "    </tr>\n",
       "    <tr>\n",
       "      <th>2</th>\n",
       "      <td>3</td>\n",
       "      <td>3.33</td>\n",
       "      <td>3333</td>\n",
       "      <td>333</td>\n",
       "    </tr>\n",
       "  </tbody>\n",
       "</table>\n",
       "</div>"
      ],
      "text/plain": [
       "   c1    c2    c3   c4\n",
       "0   1  1.11  1111  111\n",
       "1   2  2.22  2222  222\n",
       "2   3  3.33  3333  333"
      ]
     },
     "execution_count": 163,
     "metadata": {},
     "output_type": "execute_result"
    }
   ],
   "source": [
    "sample3= pd.read_table('data/sample3.txt', sep='\\s+')\n",
    "sample3"
   ]
  },
  {
   "cell_type": "code",
   "execution_count": 157,
   "id": "38e5dcfe",
   "metadata": {},
   "outputs": [],
   "source": [
    "?pd.read_table"
   ]
  },
  {
   "cell_type": "code",
   "execution_count": 199,
   "id": "5388e5b4",
   "metadata": {},
   "outputs": [
    {
     "name": "stdout",
     "output_type": "stream",
     "text": [
      "Overwriting data/sample4.txt\n"
     ]
    }
   ],
   "source": [
    "%%writefile data/sample4.txt\n",
    "파일제목: sample4.txt\n",
    "데이터포맷: 어쩌구저쩌구\n",
    "컬럼 설명: ~~~\n",
    "c1,c2,c3\n",
    "1, 1.11, one\n",
    "2, 2.22, two\n",
    "3, 3.33, three"
   ]
  },
  {
   "cell_type": "code",
   "execution_count": 202,
   "id": "c2c37adb",
   "metadata": {},
   "outputs": [
    {
     "data": {
      "text/html": [
       "<div>\n",
       "<style scoped>\n",
       "    .dataframe tbody tr th:only-of-type {\n",
       "        vertical-align: middle;\n",
       "    }\n",
       "\n",
       "    .dataframe tbody tr th {\n",
       "        vertical-align: top;\n",
       "    }\n",
       "\n",
       "    .dataframe thead th {\n",
       "        text-align: right;\n",
       "    }\n",
       "</style>\n",
       "<table border=\"1\" class=\"dataframe\">\n",
       "  <thead>\n",
       "    <tr style=\"text-align: right;\">\n",
       "      <th></th>\n",
       "      <th>c1</th>\n",
       "      <th>c2</th>\n",
       "      <th>c3</th>\n",
       "    </tr>\n",
       "  </thead>\n",
       "  <tbody>\n",
       "    <tr>\n",
       "      <th>0</th>\n",
       "      <td>1</td>\n",
       "      <td>1.11</td>\n",
       "      <td>one</td>\n",
       "    </tr>\n",
       "    <tr>\n",
       "      <th>1</th>\n",
       "      <td>2</td>\n",
       "      <td>2.22</td>\n",
       "      <td>two</td>\n",
       "    </tr>\n",
       "    <tr>\n",
       "      <th>2</th>\n",
       "      <td>3</td>\n",
       "      <td>3.33</td>\n",
       "      <td>three</td>\n",
       "    </tr>\n",
       "  </tbody>\n",
       "</table>\n",
       "</div>"
      ],
      "text/plain": [
       "   c1    c2      c3\n",
       "0   1  1.11     one\n",
       "1   2  2.22     two\n",
       "2   3  3.33   three"
      ]
     },
     "execution_count": 202,
     "metadata": {},
     "output_type": "execute_result"
    }
   ],
   "source": [
    "# sample4= pd.read_table('data/sample4.txt', sep=',', skiprows=[0,1,2])\n",
    "sample4= pd.read_table('data/sample4.txt', sep=',', skiprows=3)\n",
    "sample4"
   ]
  },
  {
   "cell_type": "code",
   "execution_count": 207,
   "id": "a7e6dece",
   "metadata": {},
   "outputs": [
    {
     "name": "stdout",
     "output_type": "stream",
     "text": [
      "Overwriting data/sample5.csv\n"
     ]
    }
   ],
   "source": [
    "%%writefile data/sample5.csv\n",
    "c1,c2,c3\n",
    "1, 1.11, \n",
    "2, , two\n",
    "0, 3.33, three"
   ]
  },
  {
   "cell_type": "code",
   "execution_count": 208,
   "id": "70780f94",
   "metadata": {},
   "outputs": [
    {
     "data": {
      "text/html": [
       "<div>\n",
       "<style scoped>\n",
       "    .dataframe tbody tr th:only-of-type {\n",
       "        vertical-align: middle;\n",
       "    }\n",
       "\n",
       "    .dataframe tbody tr th {\n",
       "        vertical-align: top;\n",
       "    }\n",
       "\n",
       "    .dataframe thead th {\n",
       "        text-align: right;\n",
       "    }\n",
       "</style>\n",
       "<table border=\"1\" class=\"dataframe\">\n",
       "  <thead>\n",
       "    <tr style=\"text-align: right;\">\n",
       "      <th></th>\n",
       "      <th>c1</th>\n",
       "      <th>c2</th>\n",
       "      <th>c3</th>\n",
       "    </tr>\n",
       "  </thead>\n",
       "  <tbody>\n",
       "    <tr>\n",
       "      <th>0</th>\n",
       "      <td>1.0</td>\n",
       "      <td>1.11</td>\n",
       "      <td>NaN</td>\n",
       "    </tr>\n",
       "    <tr>\n",
       "      <th>1</th>\n",
       "      <td>2.0</td>\n",
       "      <td>NaN</td>\n",
       "      <td>two</td>\n",
       "    </tr>\n",
       "    <tr>\n",
       "      <th>2</th>\n",
       "      <td>NaN</td>\n",
       "      <td>3.33</td>\n",
       "      <td>three</td>\n",
       "    </tr>\n",
       "  </tbody>\n",
       "</table>\n",
       "</div>"
      ],
      "text/plain": [
       "    c1    c2      c3\n",
       "0  1.0  1.11     NaN\n",
       "1  2.0   NaN     two\n",
       "2  NaN  3.33   three"
      ]
     },
     "execution_count": 208,
     "metadata": {},
     "output_type": "execute_result"
    }
   ],
   "source": [
    "sample5= pd.read_csv('data/sample5.csv', na_values=[' ',0])\n",
    "sample5"
   ]
  },
  {
   "cell_type": "code",
   "execution_count": 209,
   "id": "a5e41776",
   "metadata": {},
   "outputs": [
    {
     "data": {
      "text/html": [
       "<div>\n",
       "<style scoped>\n",
       "    .dataframe tbody tr th:only-of-type {\n",
       "        vertical-align: middle;\n",
       "    }\n",
       "\n",
       "    .dataframe tbody tr th {\n",
       "        vertical-align: top;\n",
       "    }\n",
       "\n",
       "    .dataframe thead th {\n",
       "        text-align: right;\n",
       "    }\n",
       "</style>\n",
       "<table border=\"1\" class=\"dataframe\">\n",
       "  <thead>\n",
       "    <tr style=\"text-align: right;\">\n",
       "      <th></th>\n",
       "      <th>국어</th>\n",
       "      <th>영어</th>\n",
       "      <th>수학</th>\n",
       "      <th>과목평균</th>\n",
       "    </tr>\n",
       "  </thead>\n",
       "  <tbody>\n",
       "    <tr>\n",
       "      <th>춘향</th>\n",
       "      <td>80</td>\n",
       "      <td>90</td>\n",
       "      <td>90</td>\n",
       "      <td>86.666667</td>\n",
       "    </tr>\n",
       "    <tr>\n",
       "      <th>몽룡</th>\n",
       "      <td>90</td>\n",
       "      <td>70</td>\n",
       "      <td>60</td>\n",
       "      <td>73.333333</td>\n",
       "    </tr>\n",
       "    <tr>\n",
       "      <th>향단</th>\n",
       "      <td>70</td>\n",
       "      <td>60</td>\n",
       "      <td>80</td>\n",
       "      <td>70.000000</td>\n",
       "    </tr>\n",
       "    <tr>\n",
       "      <th>방자</th>\n",
       "      <td>30</td>\n",
       "      <td>80</td>\n",
       "      <td>70</td>\n",
       "      <td>60.000000</td>\n",
       "    </tr>\n",
       "  </tbody>\n",
       "</table>\n",
       "</div>"
      ],
      "text/plain": [
       "    국어  영어  수학       과목평균\n",
       "춘향  80  90  90  86.666667\n",
       "몽룡  90  70  60  73.333333\n",
       "향단  70  60  80  70.000000\n",
       "방자  30  80  70  60.000000"
      ]
     },
     "execution_count": 209,
     "metadata": {},
     "output_type": "execute_result"
    }
   ],
   "source": [
    "df"
   ]
  },
  {
   "cell_type": "code",
   "execution_count": 213,
   "id": "7254c075",
   "metadata": {},
   "outputs": [],
   "source": [
    "### csv로 저장\n",
    "df.to_csv('data/sample6.csv')    # csv 파일이므로 sep없어도 ,로 구분  \n",
    "df.to_csv('data/sample7.txt', sep='|')   # csv이외의 파일에 지정 구분자로\n",
    "df.to_csv('data/sample8.csv', index=False, header=False)   # 인덱스, 컬럼 제목 빼고 저장"
   ]
  },
  {
   "cell_type": "code",
   "execution_count": 214,
   "id": "05889a49",
   "metadata": {},
   "outputs": [],
   "source": [
    "# 결측치 파일을 텍스트파일 형식에 맞게\n",
    "sample5.to_csv('data/sample9.csv', na_rep='없음')"
   ]
  },
  {
   "cell_type": "markdown",
   "id": "3ddd5f00",
   "metadata": {},
   "source": [
    "## (6) Indexer\n",
    "    인덱스를 도와주는 기능\n",
    "    - loc: 라벨값(이름) 기반의 2차원 인덱싱을 지원하는 인덱서\n",
    "    - iloc: 순서를 나타내는 정수 기반의 인덱서\n",
    "    - at : 한개의 값만 가져올 수 있음. 속도 빠르다\n",
    "    - iat\n",
    "    - ix: 안쓰는 추세"
   ]
  },
  {
   "cell_type": "markdown",
   "id": "70402c14",
   "metadata": {},
   "source": [
    "#### 1) loc\n",
    "    라벨값(이름 기반\n",
    "    행 우선 방식\n",
    "    Series로 출력\n",
    "    행과 열을 묶어서 접근 가능  [ 행, 열 ]\n",
    "    슬라이싱 제약 없음"
   ]
  },
  {
   "cell_type": "code",
   "execution_count": 12,
   "id": "b6b85296",
   "metadata": {},
   "outputs": [
    {
     "data": {
      "text/html": [
       "<div>\n",
       "<style scoped>\n",
       "    .dataframe tbody tr th:only-of-type {\n",
       "        vertical-align: middle;\n",
       "    }\n",
       "\n",
       "    .dataframe tbody tr th {\n",
       "        vertical-align: top;\n",
       "    }\n",
       "\n",
       "    .dataframe thead th {\n",
       "        text-align: right;\n",
       "    }\n",
       "</style>\n",
       "<table border=\"1\" class=\"dataframe\">\n",
       "  <thead>\n",
       "    <tr style=\"text-align: right;\">\n",
       "      <th></th>\n",
       "      <th>A</th>\n",
       "      <th>B</th>\n",
       "      <th>C</th>\n",
       "      <th>D</th>\n",
       "    </tr>\n",
       "  </thead>\n",
       "  <tbody>\n",
       "    <tr>\n",
       "      <th>a</th>\n",
       "      <td>10</td>\n",
       "      <td>11</td>\n",
       "      <td>12</td>\n",
       "      <td>13</td>\n",
       "    </tr>\n",
       "    <tr>\n",
       "      <th>b</th>\n",
       "      <td>14</td>\n",
       "      <td>15</td>\n",
       "      <td>16</td>\n",
       "      <td>17</td>\n",
       "    </tr>\n",
       "    <tr>\n",
       "      <th>c</th>\n",
       "      <td>18</td>\n",
       "      <td>19</td>\n",
       "      <td>20</td>\n",
       "      <td>21</td>\n",
       "    </tr>\n",
       "  </tbody>\n",
       "</table>\n",
       "</div>"
      ],
      "text/plain": [
       "    A   B   C   D\n",
       "a  10  11  12  13\n",
       "b  14  15  16  17\n",
       "c  18  19  20  21"
      ]
     },
     "execution_count": 12,
     "metadata": {},
     "output_type": "execute_result"
    }
   ],
   "source": [
    "df= pd.DataFrame(np.arange(10,22).reshape(3,4), index=['a','b','c'], columns=['A','B','C','D'])\n",
    "df  # new_axis"
   ]
  },
  {
   "cell_type": "code",
   "execution_count": 13,
   "id": "d6b8d2d6",
   "metadata": {},
   "outputs": [
    {
     "name": "stdout",
     "output_type": "stream",
     "text": [
      "    A   B   C   D\n",
      "a  10  11  12  13\n",
      "    A   B   C   D\n",
      "a  10  11  12  13\n",
      "-------------\n",
      "A    10\n",
      "B    11\n",
      "C    12\n",
      "D    13\n",
      "Name: a, dtype: int32\n"
     ]
    }
   ],
   "source": [
    "# 첫번째 행 추출. 원래는 슬라이싱 필수\n",
    "print(df[:1])\n",
    "print(df[:'a'])\n",
    "print('-------------')\n",
    "\n",
    "print(df.loc['a'])"
   ]
  },
  {
   "cell_type": "code",
   "execution_count": 20,
   "id": "bf211d81",
   "metadata": {},
   "outputs": [
    {
     "name": "stdout",
     "output_type": "stream",
     "text": [
      "a    10\n",
      "b    14\n",
      "c    18\n",
      "Name: A, dtype: int32\n",
      "a    10\n",
      "b    14\n",
      "c    18\n",
      "Name: A, dtype: int32\n",
      "------------\n",
      "    A   B   C   D\n",
      "c  18  19  20  21\n",
      "    A   B   C   D\n",
      "c  18  19  20  21\n",
      "    A   B   C   D\n",
      "c  18  19  20  21\n"
     ]
    }
   ],
   "source": [
    "# 기본 인덱서는 행,열 인덱스를 따로 써야함. loc는 ,로 같이 접근\n",
    "\n",
    "# 첫번째 열이 15보다 큰 행을 추출\n",
    "print(df['A'])\n",
    "print(df.loc[:,'A'])\n",
    "print('------------')\n",
    "\n",
    "# 열로 먼저 접근할때는 기본 인덱서가 편함\n",
    "print(df.loc[df.loc[:,'A']> 15])\n",
    "print(df[df['A']>15])\n",
    "print(df[df.A>15])"
   ]
  },
  {
   "cell_type": "code",
   "execution_count": 25,
   "id": "539e2201",
   "metadata": {},
   "outputs": [
    {
     "name": "stdout",
     "output_type": "stream",
     "text": [
      "15\n",
      "15\n",
      "15\n"
     ]
    }
   ],
   "source": [
    "# 행과 열을 모두 사용\n",
    "# b행 B열 추출\n",
    "\n",
    "print(df['B']['b'])\n",
    "print(df.loc['b','B'])\n",
    "print(df.loc['b']['B'])"
   ]
  },
  {
   "cell_type": "code",
   "execution_count": 31,
   "id": "d3c7b49d",
   "metadata": {},
   "outputs": [
    {
     "name": "stdout",
     "output_type": "stream",
     "text": [
      "    B   C   D\n",
      "b  15  16  17\n",
      "c  19  20  21\n",
      "    B   C\n",
      "a  11  12\n",
      "c  19  20\n"
     ]
    }
   ],
   "source": [
    "# 슬라이싱 제약 없음\n",
    "print(df.loc['b':,'B':])\n",
    "print(df.loc[['a','c'],['B','C']])\n",
    "# print(df.loc['a','c']['B','C'])    이건 안됨"
   ]
  },
  {
   "cell_type": "code",
   "execution_count": 33,
   "id": "7d6d9e5c",
   "metadata": {},
   "outputs": [],
   "source": [
    "# 반드시 레이블(이름)로만 접근\n",
    "# print(df.loc[1:])    에러\n",
    "# print(df.loc[[0,1],[1,2]])    에러"
   ]
  },
  {
   "cell_type": "markdown",
   "id": "e478ecab",
   "metadata": {},
   "source": [
    "### 2) iloc\n",
    "    loc를 숫자 인덱스로 접근"
   ]
  },
  {
   "cell_type": "code",
   "execution_count": 35,
   "id": "97b6f826",
   "metadata": {},
   "outputs": [
    {
     "name": "stdout",
     "output_type": "stream",
     "text": [
      "    A   B   C   D\n",
      "b  14  15  16  17\n",
      "c  18  19  20  21\n",
      "    B   C\n",
      "a  11  12\n",
      "b  15  16\n"
     ]
    }
   ],
   "source": [
    "print(df.iloc[1:])  \n",
    "print(df.iloc[[0,1],[1,2]])"
   ]
  },
  {
   "cell_type": "markdown",
   "id": "d09d131b",
   "metadata": {},
   "source": [
    "### 3) at, iat\n",
    "    하나만 뽑아올 수 있음\n",
    "    속도 빠르다"
   ]
  },
  {
   "cell_type": "code",
   "execution_count": null,
   "id": "d98c5a85",
   "metadata": {},
   "outputs": [],
   "source": [
    "# %timeit 시간측정"
   ]
  },
  {
   "cell_type": "code",
   "execution_count": 36,
   "id": "b4eb9e2e",
   "metadata": {},
   "outputs": [
    {
     "name": "stdout",
     "output_type": "stream",
     "text": [
      "6.19 µs ± 40.5 ns per loop (mean ± std. dev. of 7 runs, 100000 loops each)\n",
      "3.21 µs ± 17.1 ns per loop (mean ± std. dev. of 7 runs, 100000 loops each)\n"
     ]
    }
   ],
   "source": [
    "%timeit df.loc['a','A']\n",
    "%timeit df.at['a','A']"
   ]
  },
  {
   "cell_type": "markdown",
   "id": "54cc5ac9",
   "metadata": {},
   "source": [
    "##  4. Data Manipulation\n",
    "    (DML: INSERT UPDATE DELETE)"
   ]
  },
  {
   "cell_type": "markdown",
   "id": "2e1e0c8d",
   "metadata": {},
   "source": [
    "### (1) 데이터 카운팅"
   ]
  },
  {
   "cell_type": "markdown",
   "id": "c408f07c",
   "metadata": {},
   "source": [
    "#### 1) Series에서 카운팅\n",
    "    결측치는 제외하고 카운팅"
   ]
  },
  {
   "cell_type": "code",
   "execution_count": 40,
   "id": "e0d0a601",
   "metadata": {},
   "outputs": [
    {
     "name": "stdout",
     "output_type": "stream",
     "text": [
      "10\n",
      "9\n"
     ]
    }
   ],
   "source": [
    "s= pd.Series(range(10))\n",
    "print(s.count())\n",
    "s[3]= np.nan\n",
    "print(s.count())"
   ]
  },
  {
   "cell_type": "markdown",
   "id": "dac024b8",
   "metadata": {},
   "source": [
    "#### 2) DataFrame에서 카운팅\n",
    "    count()\n",
    "    열별로 카운팅"
   ]
  },
  {
   "cell_type": "markdown",
   "id": "6012c308",
   "metadata": {},
   "source": [
    "?np.random.randint(low, hige=None, size=None, ...)\n",
    "- low: 생성할 정수의 최소값. 이 값은 범위에 포함됩니다.\n",
    "- high: 생성할 정수의 최대값. 이 값은 범위에 포함되지 않습니다. high가 지정되지 않으면 low 값이 최대값이 됩니다.\n",
    "- size: 생성할 난수의 개수를 지정하는 정수 또는 튜플. 예를 들어, (3, 2)와 같은 튜플을 지정하면 3행 2열의 배열을 생성합니다."
   ]
  },
  {
   "cell_type": "code",
   "execution_count": 49,
   "id": "d1da4036",
   "metadata": {},
   "outputs": [
    {
     "name": "stdout",
     "output_type": "stream",
     "text": [
      "   0  1  2  3\n",
      "0  0  0  3  2\n",
      "1  3  0  2  1\n",
      "2  3  2  4  4\n",
      "0    3\n",
      "1    3\n",
      "2    3\n",
      "3    3\n",
      "dtype: int64\n"
     ]
    },
    {
     "data": {
      "text/plain": [
       "0    3\n",
       "1    3\n",
       "2    3\n",
       "3    2\n",
       "dtype: int64"
      ]
     },
     "execution_count": 49,
     "metadata": {},
     "output_type": "execute_result"
    }
   ],
   "source": [
    "np.random.seed(2)\n",
    "df= pd.DataFrame(np.random.randint(5, size=(3,4)))\n",
    "print(df)\n",
    "print(df.count())  # 열별로 카우팅\n",
    "\n",
    "df.iloc[2,3]= np.nan\n",
    "df.count()"
   ]
  },
  {
   "cell_type": "markdown",
   "id": "bece8067",
   "metadata": {},
   "source": [
    "#### 3) 카테고리별로 카운팅\n",
    "    value_counts()\n",
    "    Series에서만 사용가능    -> DataFrame도 사용 가능??\n",
    "    DataFrame에서 쓰려면 열 뽑아서 Series로 만들어서 사용\n",
    "    return Series"
   ]
  },
  {
   "cell_type": "code",
   "execution_count": 65,
   "id": "c5bf25cc",
   "metadata": {
    "scrolled": true
   },
   "outputs": [
    {
     "name": "stdout",
     "output_type": "stream",
     "text": [
      "1    22\n",
      "0    18\n",
      "4    17\n",
      "5    16\n",
      "3    14\n",
      "2    13\n",
      "dtype: int64\n",
      "3    2\n",
      "0    1\n",
      "Name: 0, dtype: int64\n"
     ]
    }
   ],
   "source": [
    "np.random.seed(1)\n",
    "s= pd.Series(np.random.randint(6, size=100))\n",
    "s\n",
    "print(s.value_counts()) # 카테고리별 개수\n",
    "print(df[0].value_counts())"
   ]
  },
  {
   "cell_type": "markdown",
   "id": "6def5ca3",
   "metadata": {},
   "source": [
    "### (2) 정렬\n",
    "- sort_values(ascending=False: 내림차순)   default는 True(오름차순)\n",
    "- sort_index()\n",
    "- 결측치는 정렬의 대상이 되지 않는다.\n",
    "\n",
    "열을 기준으로 정렬: sort_values()\n",
    "원래 정렬은 복사본. 원본 수정하고 싶으면 inplace"
   ]
  },
  {
   "cell_type": "markdown",
   "id": "0e821923",
   "metadata": {},
   "source": [
    "#### 1) Series 정렬"
   ]
  },
  {
   "cell_type": "code",
   "execution_count": 69,
   "id": "4ccf4c2d",
   "metadata": {},
   "outputs": [
    {
     "name": "stdout",
     "output_type": "stream",
     "text": [
      "1    22\n",
      "0    18\n",
      "4    17\n",
      "5    16\n",
      "3    14\n",
      "2    13\n",
      "dtype: int64\n",
      "0    18\n",
      "1    22\n",
      "2    13\n",
      "3    14\n",
      "4    17\n",
      "5    16\n",
      "dtype: int64\n",
      "57    0\n",
      "38    0\n",
      "39    0\n",
      "85    0\n",
      "28    0\n",
      "     ..\n",
      "71    5\n",
      "40    5\n",
      "46    5\n",
      "11    5\n",
      "0     5\n",
      "Length: 100, dtype: int32\n"
     ]
    }
   ],
   "source": [
    "np.random.seed(1)\n",
    "s= pd.Series(np.random.randint(6, size=100))\n",
    "print(s.value_counts())   # 많은 순서로 정렬됨\n",
    "print(s.value_counts().sort_index()) # 인덱스로 정렬됨\n",
    "print(s.sort_values())    # 값으로 정렬됨 "
   ]
  },
  {
   "cell_type": "markdown",
   "id": "64f7c17c",
   "metadata": {},
   "source": [
    "#### 2) DataFrame 정렬"
   ]
  },
  {
   "cell_type": "code",
   "execution_count": 74,
   "id": "40c20c95",
   "metadata": {},
   "outputs": [
    {
     "name": "stdout",
     "output_type": "stream",
     "text": [
      "     0    1    2    3\n",
      "0  0.0  0.0  3.0  2.0\n",
      "1  3.0  0.0  2.0  1.0\n",
      "2  3.0  2.0  4.0  4.0\n",
      "3  4.0  3.0  4.0  2.0\n",
      "-------------------------------\n"
     ]
    },
    {
     "data": {
      "text/html": [
       "<div>\n",
       "<style scoped>\n",
       "    .dataframe tbody tr th:only-of-type {\n",
       "        vertical-align: middle;\n",
       "    }\n",
       "\n",
       "    .dataframe tbody tr th {\n",
       "        vertical-align: top;\n",
       "    }\n",
       "\n",
       "    .dataframe thead th {\n",
       "        text-align: right;\n",
       "    }\n",
       "</style>\n",
       "<table border=\"1\" class=\"dataframe\">\n",
       "  <thead>\n",
       "    <tr style=\"text-align: right;\">\n",
       "      <th></th>\n",
       "      <th>0</th>\n",
       "      <th>1</th>\n",
       "      <th>2</th>\n",
       "      <th>3</th>\n",
       "    </tr>\n",
       "  </thead>\n",
       "  <tbody>\n",
       "    <tr>\n",
       "      <th>1</th>\n",
       "      <td>3.0</td>\n",
       "      <td>0.0</td>\n",
       "      <td>2.0</td>\n",
       "      <td>1.0</td>\n",
       "    </tr>\n",
       "    <tr>\n",
       "      <th>0</th>\n",
       "      <td>0.0</td>\n",
       "      <td>0.0</td>\n",
       "      <td>3.0</td>\n",
       "      <td>2.0</td>\n",
       "    </tr>\n",
       "    <tr>\n",
       "      <th>2</th>\n",
       "      <td>3.0</td>\n",
       "      <td>2.0</td>\n",
       "      <td>4.0</td>\n",
       "      <td>4.0</td>\n",
       "    </tr>\n",
       "    <tr>\n",
       "      <th>3</th>\n",
       "      <td>4.0</td>\n",
       "      <td>3.0</td>\n",
       "      <td>4.0</td>\n",
       "      <td>2.0</td>\n",
       "    </tr>\n",
       "  </tbody>\n",
       "</table>\n",
       "</div>"
      ],
      "text/plain": [
       "     0    1    2    3\n",
       "1  3.0  0.0  2.0  1.0\n",
       "0  0.0  0.0  3.0  2.0\n",
       "2  3.0  2.0  4.0  4.0\n",
       "3  4.0  3.0  4.0  2.0"
      ]
     },
     "execution_count": 74,
     "metadata": {},
     "output_type": "execute_result"
    }
   ],
   "source": [
    "np.random.seed(2)\n",
    "df= pd.DataFrame(np.random.randint(5, size=(4,4)), dtype=float)\n",
    "print(df)\n",
    "print('-------------------------------')\n",
    "df.sort_values(by=2)   #2번 열을 기준으로 전체 정렬\n",
    "# df[2].sort_values()    #2번 열만 정렬\n",
    "df.sort_values(by=[1,2])   # 1번열로 1차정렬하고 2번열로 2차정렬 "
   ]
  },
  {
   "cell_type": "code",
   "execution_count": 82,
   "id": "232d55ca",
   "metadata": {},
   "outputs": [
    {
     "name": "stdout",
     "output_type": "stream",
     "text": [
      "   seq  name  age\n",
      "0    1  park   30\n",
      "1    3   lee   20\n",
      "2    2  choi   40\n",
      "---------------------------\n"
     ]
    },
    {
     "data": {
      "text/html": [
       "<div>\n",
       "<style scoped>\n",
       "    .dataframe tbody tr th:only-of-type {\n",
       "        vertical-align: middle;\n",
       "    }\n",
       "\n",
       "    .dataframe tbody tr th {\n",
       "        vertical-align: top;\n",
       "    }\n",
       "\n",
       "    .dataframe thead th {\n",
       "        text-align: right;\n",
       "    }\n",
       "</style>\n",
       "<table border=\"1\" class=\"dataframe\">\n",
       "  <thead>\n",
       "    <tr style=\"text-align: right;\">\n",
       "      <th></th>\n",
       "      <th>seq</th>\n",
       "      <th>name</th>\n",
       "      <th>age</th>\n",
       "    </tr>\n",
       "  </thead>\n",
       "  <tbody>\n",
       "    <tr>\n",
       "      <th>1</th>\n",
       "      <td>3</td>\n",
       "      <td>lee</td>\n",
       "      <td>20</td>\n",
       "    </tr>\n",
       "    <tr>\n",
       "      <th>2</th>\n",
       "      <td>2</td>\n",
       "      <td>choi</td>\n",
       "      <td>40</td>\n",
       "    </tr>\n",
       "    <tr>\n",
       "      <th>0</th>\n",
       "      <td>1</td>\n",
       "      <td>park</td>\n",
       "      <td>30</td>\n",
       "    </tr>\n",
       "  </tbody>\n",
       "</table>\n",
       "</div>"
      ],
      "text/plain": [
       "   seq  name  age\n",
       "1    3   lee   20\n",
       "2    2  choi   40\n",
       "0    1  park   30"
      ]
     },
     "execution_count": 82,
     "metadata": {},
     "output_type": "execute_result"
    }
   ],
   "source": [
    "df1= pd.DataFrame({'seq':[1,3,2], 'name':['park','lee','choi'],'age':[30,20,40]})\n",
    "print(df1)\n",
    "print('---------------------------')\n",
    "\n",
    "# seq를 기준으로 내림차순 정렬 \n",
    "# 열 이름이 제시되어있으면 sort_values()\n",
    "df1.sort_values('seq', ascending=False)\n",
    "\n",
    "# index를 기준으로 정렬\n",
    "df1.sort_index()         # axis=0: 행을 정렬\n",
    "df1.sort_index(axis=1)    # 열 이름으로 열 정렬\n",
    "\n",
    "# inplace\n",
    "# 원래 정렬된 결과는 복사본\n",
    "df1.sort_values(by=['seq','name'], axis=0, ascending=False, inplace= True)\n",
    "df1"
   ]
  },
  {
   "cell_type": "markdown",
   "id": "3ae437e2",
   "metadata": {},
   "source": [
    "### (3) 행, 열의 집합 연산"
   ]
  },
  {
   "cell_type": "code",
   "execution_count": 89,
   "id": "9281c243",
   "metadata": {},
   "outputs": [
    {
     "name": "stdout",
     "output_type": "stream",
     "text": [
      "   0  1  2  3  4  5  6  7\n",
      "0  8  8  6  2  8  7  2  1\n",
      "1  5  4  4  5  7  3  6  4\n",
      "2  3  7  6  1  3  5  8  4\n",
      "3  6  3  9  2  0  4  2  4\n",
      "-------------------------------\n"
     ]
    },
    {
     "data": {
      "text/html": [
       "<div>\n",
       "<style scoped>\n",
       "    .dataframe tbody tr th:only-of-type {\n",
       "        vertical-align: middle;\n",
       "    }\n",
       "\n",
       "    .dataframe tbody tr th {\n",
       "        vertical-align: top;\n",
       "    }\n",
       "\n",
       "    .dataframe thead th {\n",
       "        text-align: right;\n",
       "    }\n",
       "</style>\n",
       "<table border=\"1\" class=\"dataframe\">\n",
       "  <thead>\n",
       "    <tr style=\"text-align: right;\">\n",
       "      <th></th>\n",
       "      <th>0</th>\n",
       "      <th>1</th>\n",
       "      <th>2</th>\n",
       "      <th>3</th>\n",
       "      <th>4</th>\n",
       "      <th>5</th>\n",
       "      <th>6</th>\n",
       "      <th>7</th>\n",
       "      <th>RowSum</th>\n",
       "    </tr>\n",
       "  </thead>\n",
       "  <tbody>\n",
       "    <tr>\n",
       "      <th>0</th>\n",
       "      <td>8.0</td>\n",
       "      <td>8.0</td>\n",
       "      <td>6.0</td>\n",
       "      <td>2.0</td>\n",
       "      <td>8.0</td>\n",
       "      <td>7.0</td>\n",
       "      <td>2.0</td>\n",
       "      <td>1.0</td>\n",
       "      <td>42.0</td>\n",
       "    </tr>\n",
       "    <tr>\n",
       "      <th>1</th>\n",
       "      <td>5.0</td>\n",
       "      <td>4.0</td>\n",
       "      <td>4.0</td>\n",
       "      <td>5.0</td>\n",
       "      <td>7.0</td>\n",
       "      <td>3.0</td>\n",
       "      <td>6.0</td>\n",
       "      <td>4.0</td>\n",
       "      <td>38.0</td>\n",
       "    </tr>\n",
       "    <tr>\n",
       "      <th>2</th>\n",
       "      <td>3.0</td>\n",
       "      <td>7.0</td>\n",
       "      <td>6.0</td>\n",
       "      <td>1.0</td>\n",
       "      <td>3.0</td>\n",
       "      <td>5.0</td>\n",
       "      <td>8.0</td>\n",
       "      <td>4.0</td>\n",
       "      <td>37.0</td>\n",
       "    </tr>\n",
       "    <tr>\n",
       "      <th>3</th>\n",
       "      <td>6.0</td>\n",
       "      <td>3.0</td>\n",
       "      <td>9.0</td>\n",
       "      <td>2.0</td>\n",
       "      <td>0.0</td>\n",
       "      <td>4.0</td>\n",
       "      <td>2.0</td>\n",
       "      <td>4.0</td>\n",
       "      <td>30.0</td>\n",
       "    </tr>\n",
       "    <tr>\n",
       "      <th>합계</th>\n",
       "      <td>22.0</td>\n",
       "      <td>22.0</td>\n",
       "      <td>25.0</td>\n",
       "      <td>10.0</td>\n",
       "      <td>18.0</td>\n",
       "      <td>19.0</td>\n",
       "      <td>18.0</td>\n",
       "      <td>13.0</td>\n",
       "      <td>147.0</td>\n",
       "    </tr>\n",
       "  </tbody>\n",
       "</table>\n",
       "</div>"
      ],
      "text/plain": [
       "       0     1     2     3     4     5     6     7  RowSum\n",
       "0    8.0   8.0   6.0   2.0   8.0   7.0   2.0   1.0    42.0\n",
       "1    5.0   4.0   4.0   5.0   7.0   3.0   6.0   4.0    38.0\n",
       "2    3.0   7.0   6.0   1.0   3.0   5.0   8.0   4.0    37.0\n",
       "3    6.0   3.0   9.0   2.0   0.0   4.0   2.0   4.0    30.0\n",
       "합계  22.0  22.0  25.0  10.0  18.0  19.0  18.0  13.0   147.0"
      ]
     },
     "execution_count": 89,
     "metadata": {},
     "output_type": "execute_result"
    }
   ],
   "source": [
    "np.random.seed(2)\n",
    "df= pd.DataFrame(np.random.randint(10, size=(4,8)))\n",
    "print(df)\n",
    "print('-------------------------------')\n",
    "\n",
    "df.sum()    # 열 별로 합계\n",
    "df.sum(axis=1)   # 행 별로 합계\n",
    "\n",
    "# 열 별 합계를 행 추가\n",
    "df.loc['합계',:]= df.sum()\n",
    "\n",
    "# 행 별 합계를 열 추가\n",
    "df['RowSum']= df.sum(axis=1)\n",
    "df"
   ]
  },
  {
   "cell_type": "markdown",
   "id": "6d03ad57",
   "metadata": {},
   "source": [
    "### (4) apply(함수, 기준축)\n",
    "    map과 비슷. 데이터의 개수만큼 함수 적용\n",
    "    행이나 열 단위로 더 복잡한 처리를 하고자 할 때 사용\n",
    "    인수로 행 또는 열을 받는 함수를 apply()의 인수로 넣으면 각 열(또는 행)을 반복하여 그 함수에 적용"
   ]
  },
  {
   "cell_type": "code",
   "execution_count": 90,
   "id": "521602c3",
   "metadata": {},
   "outputs": [
    {
     "data": {
      "text/html": [
       "<div>\n",
       "<style scoped>\n",
       "    .dataframe tbody tr th:only-of-type {\n",
       "        vertical-align: middle;\n",
       "    }\n",
       "\n",
       "    .dataframe tbody tr th {\n",
       "        vertical-align: top;\n",
       "    }\n",
       "\n",
       "    .dataframe thead th {\n",
       "        text-align: right;\n",
       "    }\n",
       "</style>\n",
       "<table border=\"1\" class=\"dataframe\">\n",
       "  <thead>\n",
       "    <tr style=\"text-align: right;\">\n",
       "      <th></th>\n",
       "      <th>A</th>\n",
       "      <th>B</th>\n",
       "      <th>C</th>\n",
       "    </tr>\n",
       "  </thead>\n",
       "  <tbody>\n",
       "    <tr>\n",
       "      <th>0</th>\n",
       "      <td>1</td>\n",
       "      <td>2</td>\n",
       "      <td>1</td>\n",
       "    </tr>\n",
       "    <tr>\n",
       "      <th>1</th>\n",
       "      <td>3</td>\n",
       "      <td>3</td>\n",
       "      <td>5</td>\n",
       "    </tr>\n",
       "    <tr>\n",
       "      <th>2</th>\n",
       "      <td>4</td>\n",
       "      <td>1</td>\n",
       "      <td>2</td>\n",
       "    </tr>\n",
       "    <tr>\n",
       "      <th>3</th>\n",
       "      <td>3</td>\n",
       "      <td>2</td>\n",
       "      <td>4</td>\n",
       "    </tr>\n",
       "    <tr>\n",
       "      <th>4</th>\n",
       "      <td>4</td>\n",
       "      <td>3</td>\n",
       "      <td>4</td>\n",
       "    </tr>\n",
       "  </tbody>\n",
       "</table>\n",
       "</div>"
      ],
      "text/plain": [
       "   A  B  C\n",
       "0  1  2  1\n",
       "1  3  3  5\n",
       "2  4  1  2\n",
       "3  3  2  4\n",
       "4  4  3  4"
      ]
     },
     "execution_count": 90,
     "metadata": {},
     "output_type": "execute_result"
    }
   ],
   "source": [
    "df= pd.DataFrame({'A':[1,3,4,3,4], 'B':[2,3,1,2,3], 'C':[1,5,2,4,4]})\n",
    "df"
   ]
  },
  {
   "cell_type": "code",
   "execution_count": 101,
   "id": "753ee2ec",
   "metadata": {},
   "outputs": [],
   "source": [
    "?pd.DataFrame.apply"
   ]
  },
  {
   "cell_type": "code",
   "execution_count": 104,
   "id": "7071f4b2",
   "metadata": {},
   "outputs": [
    {
     "name": "stdout",
     "output_type": "stream",
     "text": [
      "3\n",
      "3\n"
     ]
    },
    {
     "data": {
      "text/plain": [
       "0    1\n",
       "1    2\n",
       "2    3\n",
       "3    2\n",
       "4    1\n",
       "dtype: int64"
      ]
     },
     "execution_count": 104,
     "metadata": {},
     "output_type": "execute_result"
    }
   ],
   "source": [
    "# 각 행,열 별로 최대값과 최소값의 차이\n",
    "def diff(x):\n",
    "    return x.max()-x.min()\n",
    "\n",
    "print(diff(df['A']))\n",
    "print(diff(df.loc[2,:]))\n",
    "\n",
    "df.apply(diff, axis=0)   # df.apply(함수, 기준축)  axis=0: 열 axis=1: 행\n",
    "df.apply(diff, axis=1)\n",
    "\n",
    "# 람다함수 이용\n",
    "df.apply(lambda x: x.max()-x.min(), axis=0)\n",
    "df.apply(lambda x: x.max()-x.min(), axis=1)"
   ]
  },
  {
   "cell_type": "code",
   "execution_count": 113,
   "id": "2c4659d2",
   "metadata": {},
   "outputs": [
    {
     "name": "stdout",
     "output_type": "stream",
     "text": [
      "3    2\n",
      "4    2\n",
      "1    1\n",
      "Name: A, dtype: int64\n"
     ]
    },
    {
     "data": {
      "text/html": [
       "<div>\n",
       "<style scoped>\n",
       "    .dataframe tbody tr th:only-of-type {\n",
       "        vertical-align: middle;\n",
       "    }\n",
       "\n",
       "    .dataframe tbody tr th {\n",
       "        vertical-align: top;\n",
       "    }\n",
       "\n",
       "    .dataframe thead th {\n",
       "        text-align: right;\n",
       "    }\n",
       "</style>\n",
       "<table border=\"1\" class=\"dataframe\">\n",
       "  <thead>\n",
       "    <tr style=\"text-align: right;\">\n",
       "      <th></th>\n",
       "      <th>A</th>\n",
       "      <th>B</th>\n",
       "      <th>C</th>\n",
       "    </tr>\n",
       "  </thead>\n",
       "  <tbody>\n",
       "    <tr>\n",
       "      <th>1</th>\n",
       "      <td>1.0</td>\n",
       "      <td>1.0</td>\n",
       "      <td>1.0</td>\n",
       "    </tr>\n",
       "    <tr>\n",
       "      <th>2</th>\n",
       "      <td>0.0</td>\n",
       "      <td>2.0</td>\n",
       "      <td>1.0</td>\n",
       "    </tr>\n",
       "    <tr>\n",
       "      <th>3</th>\n",
       "      <td>2.0</td>\n",
       "      <td>2.0</td>\n",
       "      <td>0.0</td>\n",
       "    </tr>\n",
       "    <tr>\n",
       "      <th>4</th>\n",
       "      <td>2.0</td>\n",
       "      <td>0.0</td>\n",
       "      <td>2.0</td>\n",
       "    </tr>\n",
       "    <tr>\n",
       "      <th>5</th>\n",
       "      <td>0.0</td>\n",
       "      <td>0.0</td>\n",
       "      <td>1.0</td>\n",
       "    </tr>\n",
       "  </tbody>\n",
       "</table>\n",
       "</div>"
      ],
      "text/plain": [
       "     A    B    C\n",
       "1  1.0  1.0  1.0\n",
       "2  0.0  2.0  1.0\n",
       "3  2.0  2.0  0.0\n",
       "4  2.0  0.0  2.0\n",
       "5  0.0  0.0  1.0"
      ]
     },
     "execution_count": 113,
     "metadata": {},
     "output_type": "execute_result"
    }
   ],
   "source": [
    "# 각 열에 대해 어떤 값이 얼마나 사용되었는지 조회\n",
    "\n",
    "print(df['A'].value_counts())\n",
    "\n",
    "df.apply(pd.Series.value_counts, axis=0)\n",
    "df.apply(pd.Series.value_counts, axis=0).fillna(0)      # NaN 결측치를 0으로 채움\n",
    "# df.apply(df.value_counts, axis=0)\n",
    "# DataFrame에서 value_counts() 메서드는 열의 고유한 값의 수를 반환하며, \n",
    "# Series에서 value_counts() 메서드는 해당 시리즈 객체의 고유한 값의 수를 반환합니다."
   ]
  },
  {
   "cell_type": "markdown",
   "id": "9b85bc2f",
   "metadata": {},
   "source": [
    "### (5) 실수값을 카테고리값으로 변경 <Insight 도출>\n",
    "- 양적 데이터(숫자) -> 질적 데이터(숫자X, 문자)\n",
    "- cut(데이터, 기준)\n",
    "- qcut()"
   ]
  },
  {
   "cell_type": "markdown",
   "id": "93172727",
   "metadata": {},
   "source": [
    "#### 1) cut"
   ]
  },
  {
   "cell_type": "code",
   "execution_count": 116,
   "id": "c54543ae",
   "metadata": {},
   "outputs": [
    {
     "data": {
      "text/plain": [
       "[NaN, '미성년자', '미성년자', '청년', '청년', ..., '노년', '청년', '장년', '중년', NaN]\n",
       "Length: 12\n",
       "Categories (5, object): ['미성년자' < '청년' < '중년' < '장년' < '노년']"
      ]
     },
     "execution_count": 116,
     "metadata": {},
     "output_type": "execute_result"
    }
   ],
   "source": [
    "# 1~15, 16~25, 26~35, 36~60, 61~99\n",
    "ages= [0,2,10,21,23,37,31,61,20,41,32,100]\n",
    "\n",
    "cat= pd.cut(x=ages,bins=[1,15,25,35,60,99], labels=['미성년자','청년','중년','장년','노년'])\n",
    "cat"
   ]
  },
  {
   "cell_type": "code",
   "execution_count": 117,
   "id": "35139f08",
   "metadata": {},
   "outputs": [
    {
     "name": "stdout",
     "output_type": "stream",
     "text": [
      "<class 'pandas.core.arrays.categorical.Categorical'>\n",
      "Index(['미성년자', '청년', '중년', '장년', '노년'], dtype='object')\n",
      "[-1  0  0  1  1  3  2  4  1  3  2 -1]\n"
     ]
    }
   ],
   "source": [
    "print(type(cat))\n",
    "print(cat.categories)\n",
    "print(cat.codes)      #카테고리를 숫자로"
   ]
  },
  {
   "cell_type": "markdown",
   "id": "ad978666",
   "metadata": {},
   "source": [
    "#### 2) qcut()\n",
    "    같은 개수끼리 모이도록 범위 설정\n",
    "    카테고리별로 같은 개수"
   ]
  },
  {
   "cell_type": "code",
   "execution_count": 121,
   "id": "b705924f",
   "metadata": {},
   "outputs": [
    {
     "data": {
      "text/plain": [
       "q1    25\n",
       "q2    25\n",
       "q3    25\n",
       "q4    25\n",
       "dtype: int64"
      ]
     },
     "execution_count": 121,
     "metadata": {},
     "output_type": "execute_result"
    }
   ],
   "source": [
    "data= np.random.randn(100)\n",
    "cat1= pd.qcut(data, 4,labels=['q1','q2','q3','q4'])\n",
    "pd.value_counts(cat1)"
   ]
  },
  {
   "cell_type": "markdown",
   "id": "18ad26d5",
   "metadata": {},
   "source": [
    "## 5. Index Manipulation"
   ]
  },
  {
   "cell_type": "markdown",
   "id": "38f2801e",
   "metadata": {},
   "source": [
    "### (1) set_index(열), reset_index()"
   ]
  },
  {
   "cell_type": "code",
   "execution_count": 160,
   "id": "5f9d958a",
   "metadata": {},
   "outputs": [
    {
     "data": {
      "text/plain": [
       "array([[0.6818203 , 0.3595079 , 0.43703195, 0.6976312 , 0.06022547],\n",
       "       [0.66676672, 0.67063787, 0.21038256, 0.1289263 , 0.31542835],\n",
       "       [0.36371077, 0.57019677, 0.43860151, 0.98837384, 0.10204481]])"
      ]
     },
     "execution_count": 160,
     "metadata": {},
     "output_type": "execute_result"
    }
   ],
   "source": [
    "df1= pd.DataFrame([list('ABCDE'),np.random.rand(3,5)])\n",
    "df1\n",
    "list('ABCDE')\n",
    "np.random.rand(3,5)"
   ]
  },
  {
   "cell_type": "code",
   "execution_count": 135,
   "id": "280a2fa0",
   "metadata": {},
   "outputs": [
    {
     "data": {
      "text/html": [
       "<div>\n",
       "<style scoped>\n",
       "    .dataframe tbody tr th:only-of-type {\n",
       "        vertical-align: middle;\n",
       "    }\n",
       "\n",
       "    .dataframe tbody tr th {\n",
       "        vertical-align: top;\n",
       "    }\n",
       "\n",
       "    .dataframe thead th {\n",
       "        text-align: right;\n",
       "    }\n",
       "</style>\n",
       "<table border=\"1\" class=\"dataframe\">\n",
       "  <thead>\n",
       "    <tr style=\"text-align: right;\">\n",
       "      <th></th>\n",
       "      <th>c1</th>\n",
       "      <th>c2</th>\n",
       "      <th>c3</th>\n",
       "      <th>c4</th>\n",
       "    </tr>\n",
       "  </thead>\n",
       "  <tbody>\n",
       "    <tr>\n",
       "      <th>0</th>\n",
       "      <td>A</td>\n",
       "      <td>0.5488135039273248</td>\n",
       "      <td>0.6458941130666561</td>\n",
       "      <td>0.7917250380826646</td>\n",
       "    </tr>\n",
       "    <tr>\n",
       "      <th>1</th>\n",
       "      <td>B</td>\n",
       "      <td>0.7151893663724195</td>\n",
       "      <td>0.4375872112626925</td>\n",
       "      <td>0.5288949197529045</td>\n",
       "    </tr>\n",
       "    <tr>\n",
       "      <th>2</th>\n",
       "      <td>C</td>\n",
       "      <td>0.6027633760716439</td>\n",
       "      <td>0.8917730007820798</td>\n",
       "      <td>0.5680445610939323</td>\n",
       "    </tr>\n",
       "    <tr>\n",
       "      <th>3</th>\n",
       "      <td>D</td>\n",
       "      <td>0.5448831829968969</td>\n",
       "      <td>0.9636627605010293</td>\n",
       "      <td>0.925596638292661</td>\n",
       "    </tr>\n",
       "    <tr>\n",
       "      <th>4</th>\n",
       "      <td>E</td>\n",
       "      <td>0.4236547993389047</td>\n",
       "      <td>0.3834415188257777</td>\n",
       "      <td>0.07103605819788694</td>\n",
       "    </tr>\n",
       "  </tbody>\n",
       "</table>\n",
       "</div>"
      ],
      "text/plain": [
       "  c1                  c2                  c3                   c4\n",
       "0  A  0.5488135039273248  0.6458941130666561   0.7917250380826646\n",
       "1  B  0.7151893663724195  0.4375872112626925   0.5288949197529045\n",
       "2  C  0.6027633760716439  0.8917730007820798   0.5680445610939323\n",
       "3  D  0.5448831829968969  0.9636627605010293    0.925596638292661\n",
       "4  E  0.4236547993389047  0.3834415188257777  0.07103605819788694"
      ]
     },
     "execution_count": 135,
     "metadata": {},
     "output_type": "execute_result"
    }
   ],
   "source": [
    "np.random.seed(0)\n",
    "\n",
    "df1= pd.DataFrame(np.vstack([list('ABCDE'), np.random.rand(3,5)]).T, columns=['c1','c2','c3','c4'])\n",
    "df1\n",
    "df2= df1.set_index('c1') # 새로운 인덱스를 지정하면 기존 인덱스는 사라짐\n",
    "df2.reset_index()   # 원래 데이터로 초기화. drop=True: 기존 인덱스를 아예 삭제"
   ]
  },
  {
   "cell_type": "markdown",
   "id": "478a3f8e",
   "metadata": {},
   "source": [
    "### (2) 다중 인덱스, 멀티 인덱스"
   ]
  },
  {
   "cell_type": "code",
   "execution_count": 3,
   "id": "b05de847",
   "metadata": {
    "scrolled": false
   },
   "outputs": [
    {
     "data": {
      "text/html": [
       "<div>\n",
       "<style scoped>\n",
       "    .dataframe tbody tr th:only-of-type {\n",
       "        vertical-align: middle;\n",
       "    }\n",
       "\n",
       "    .dataframe tbody tr th {\n",
       "        vertical-align: top;\n",
       "    }\n",
       "\n",
       "    .dataframe thead tr th {\n",
       "        text-align: left;\n",
       "    }\n",
       "</style>\n",
       "<table border=\"1\" class=\"dataframe\">\n",
       "  <thead>\n",
       "    <tr>\n",
       "      <th>cidx1</th>\n",
       "      <th colspan=\"2\" halign=\"left\">a</th>\n",
       "      <th colspan=\"2\" halign=\"left\">b</th>\n",
       "    </tr>\n",
       "    <tr>\n",
       "      <th>cidx2</th>\n",
       "      <th>c1</th>\n",
       "      <th>c2</th>\n",
       "      <th>c3</th>\n",
       "      <th>c4</th>\n",
       "    </tr>\n",
       "  </thead>\n",
       "  <tbody>\n",
       "    <tr>\n",
       "      <th>0</th>\n",
       "      <td>A</td>\n",
       "      <td>1.0</td>\n",
       "      <td>1.0</td>\n",
       "      <td>1.0</td>\n",
       "    </tr>\n",
       "    <tr>\n",
       "      <th>1</th>\n",
       "      <td>B</td>\n",
       "      <td>1.0</td>\n",
       "      <td>0.0</td>\n",
       "      <td>1.0</td>\n",
       "    </tr>\n",
       "    <tr>\n",
       "      <th>2</th>\n",
       "      <td>C</td>\n",
       "      <td>1.0</td>\n",
       "      <td>1.0</td>\n",
       "      <td>1.0</td>\n",
       "    </tr>\n",
       "    <tr>\n",
       "      <th>3</th>\n",
       "      <td>D</td>\n",
       "      <td>1.0</td>\n",
       "      <td>1.0</td>\n",
       "      <td>1.0</td>\n",
       "    </tr>\n",
       "    <tr>\n",
       "      <th>4</th>\n",
       "      <td>E</td>\n",
       "      <td>0.0</td>\n",
       "      <td>0.0</td>\n",
       "      <td>0.0</td>\n",
       "    </tr>\n",
       "  </tbody>\n",
       "</table>\n",
       "</div>"
      ],
      "text/plain": [
       "cidx1  a         b     \n",
       "cidx2 c1   c2   c3   c4\n",
       "0      A  1.0  1.0  1.0\n",
       "1      B  1.0  0.0  1.0\n",
       "2      C  1.0  1.0  1.0\n",
       "3      D  1.0  1.0  1.0\n",
       "4      E  0.0  0.0  0.0"
      ]
     },
     "execution_count": 3,
     "metadata": {},
     "output_type": "execute_result"
    }
   ],
   "source": [
    "# 다중 컬럼\n",
    "import numpy as np\n",
    "import pandas as pd\n",
    "np.random.seed(0)\n",
    "df1= pd.DataFrame(np.vstack([list('ABCDE'), np.round(np.random.rand(3,5))]).T, \n",
    "                  columns=[['a','a','b','b'],['c1','c2','c3','c4']])\n",
    "df1.columns.names=['cidx1','cidx2']\n",
    "df1"
   ]
  },
  {
   "cell_type": "code",
   "execution_count": 155,
   "id": "edf9be98",
   "metadata": {},
   "outputs": [
    {
     "data": {
      "text/plain": [
       "0    1.0\n",
       "1    0.0\n",
       "2    1.0\n",
       "3    1.0\n",
       "4    0.0\n",
       "Name: (b, c3), dtype: object"
      ]
     },
     "execution_count": 155,
     "metadata": {},
     "output_type": "execute_result"
    }
   ],
   "source": [
    "df1[('a','c2')]    # 다중컬럼에 접근할때는 튜플로 묶어서\n",
    "df1[('b','c3')][0:3]\n",
    "\n",
    "df1.loc[:,('a','c2')]\n",
    "df1.loc[0:3, ('b','c3')]\n",
    "\n",
    "#iloc는 가장 아래의 컬럼에만 인덱스 부여\n",
    "df1.iloc[:,2]"
   ]
  },
  {
   "cell_type": "code",
   "execution_count": 4,
   "id": "0015cc92",
   "metadata": {},
   "outputs": [
    {
     "data": {
      "text/html": [
       "<div>\n",
       "<style scoped>\n",
       "    .dataframe tbody tr th:only-of-type {\n",
       "        vertical-align: middle;\n",
       "    }\n",
       "\n",
       "    .dataframe tbody tr th {\n",
       "        vertical-align: top;\n",
       "    }\n",
       "\n",
       "    .dataframe thead tr th {\n",
       "        text-align: left;\n",
       "    }\n",
       "\n",
       "    .dataframe thead tr:last-of-type th {\n",
       "        text-align: right;\n",
       "    }\n",
       "</style>\n",
       "<table border=\"1\" class=\"dataframe\">\n",
       "  <thead>\n",
       "    <tr>\n",
       "      <th></th>\n",
       "      <th>cidx1</th>\n",
       "      <th colspan=\"2\" halign=\"left\">a</th>\n",
       "      <th colspan=\"2\" halign=\"left\">b</th>\n",
       "    </tr>\n",
       "    <tr>\n",
       "      <th></th>\n",
       "      <th>cidx2</th>\n",
       "      <th>c</th>\n",
       "      <th>d</th>\n",
       "      <th>c</th>\n",
       "      <th>d</th>\n",
       "    </tr>\n",
       "    <tr>\n",
       "      <th>ridx1</th>\n",
       "      <th>ridx2</th>\n",
       "      <th></th>\n",
       "      <th></th>\n",
       "      <th></th>\n",
       "      <th></th>\n",
       "    </tr>\n",
       "  </thead>\n",
       "  <tbody>\n",
       "    <tr>\n",
       "      <th rowspan=\"3\" valign=\"top\">m</th>\n",
       "      <th>1</th>\n",
       "      <td>0.55</td>\n",
       "      <td>0.72</td>\n",
       "      <td>0.60</td>\n",
       "      <td>0.54</td>\n",
       "    </tr>\n",
       "    <tr>\n",
       "      <th>2</th>\n",
       "      <td>0.42</td>\n",
       "      <td>0.65</td>\n",
       "      <td>0.44</td>\n",
       "      <td>0.89</td>\n",
       "    </tr>\n",
       "    <tr>\n",
       "      <th>3</th>\n",
       "      <td>0.96</td>\n",
       "      <td>0.38</td>\n",
       "      <td>0.79</td>\n",
       "      <td>0.53</td>\n",
       "    </tr>\n",
       "    <tr>\n",
       "      <th rowspan=\"3\" valign=\"top\">f</th>\n",
       "      <th>1</th>\n",
       "      <td>0.57</td>\n",
       "      <td>0.93</td>\n",
       "      <td>0.07</td>\n",
       "      <td>0.09</td>\n",
       "    </tr>\n",
       "    <tr>\n",
       "      <th>2</th>\n",
       "      <td>0.02</td>\n",
       "      <td>0.83</td>\n",
       "      <td>0.78</td>\n",
       "      <td>0.87</td>\n",
       "    </tr>\n",
       "    <tr>\n",
       "      <th>3</th>\n",
       "      <td>0.98</td>\n",
       "      <td>0.80</td>\n",
       "      <td>0.46</td>\n",
       "      <td>0.78</td>\n",
       "    </tr>\n",
       "  </tbody>\n",
       "</table>\n",
       "</div>"
      ],
      "text/plain": [
       "cidx1           a           b      \n",
       "cidx2           c     d     c     d\n",
       "ridx1 ridx2                        \n",
       "m     1      0.55  0.72  0.60  0.54\n",
       "      2      0.42  0.65  0.44  0.89\n",
       "      3      0.96  0.38  0.79  0.53\n",
       "f     1      0.57  0.93  0.07  0.09\n",
       "      2      0.02  0.83  0.78  0.87\n",
       "      3      0.98  0.80  0.46  0.78"
      ]
     },
     "execution_count": 4,
     "metadata": {},
     "output_type": "execute_result"
    }
   ],
   "source": [
    "# 다중 컬럼과 다중 인덱스를 갖는 테이블\n",
    "np.random.seed(0)\n",
    "df2= pd.DataFrame(np.random.rand(6,4).round(2), columns=[['a','a','b','b'],['c','d','c','d']], \n",
    "                  index=[['m','m','m','f','f','f'],['1','2','3','1','2','3']])\n",
    "df2.columns.names=['cidx1','cidx2']\n",
    "df2.index.names=['ridx1','ridx2']\n",
    "df2"
   ]
  },
  {
   "cell_type": "code",
   "execution_count": 245,
   "id": "c368fc08",
   "metadata": {},
   "outputs": [
    {
     "name": "stdout",
     "output_type": "stream",
     "text": [
      "------------\n"
     ]
    },
    {
     "data": {
      "text/html": [
       "<div>\n",
       "<style scoped>\n",
       "    .dataframe tbody tr th:only-of-type {\n",
       "        vertical-align: middle;\n",
       "    }\n",
       "\n",
       "    .dataframe tbody tr th {\n",
       "        vertical-align: top;\n",
       "    }\n",
       "\n",
       "    .dataframe thead th {\n",
       "        text-align: right;\n",
       "    }\n",
       "</style>\n",
       "<table border=\"1\" class=\"dataframe\">\n",
       "  <thead>\n",
       "    <tr style=\"text-align: right;\">\n",
       "      <th>cidx2</th>\n",
       "      <th>c</th>\n",
       "      <th>d</th>\n",
       "    </tr>\n",
       "    <tr>\n",
       "      <th>ridx2</th>\n",
       "      <th></th>\n",
       "      <th></th>\n",
       "    </tr>\n",
       "  </thead>\n",
       "  <tbody>\n",
       "    <tr>\n",
       "      <th>1</th>\n",
       "      <td>0.55</td>\n",
       "      <td>0.72</td>\n",
       "    </tr>\n",
       "    <tr>\n",
       "      <th>2</th>\n",
       "      <td>0.42</td>\n",
       "      <td>0.65</td>\n",
       "    </tr>\n",
       "    <tr>\n",
       "      <th>3</th>\n",
       "      <td>0.96</td>\n",
       "      <td>0.38</td>\n",
       "    </tr>\n",
       "  </tbody>\n",
       "</table>\n",
       "</div>"
      ],
      "text/plain": [
       "cidx2     c     d\n",
       "ridx2            \n",
       "1      0.55  0.72\n",
       "2      0.42  0.65\n",
       "3      0.96  0.38"
      ]
     },
     "execution_count": 245,
     "metadata": {},
     "output_type": "execute_result"
    }
   ],
   "source": [
    "# 첫번째 행 첫번째 열\n",
    "df2[('a','c')][('m','1')]\n",
    "df2.loc[('m','1'),('a','c')]\n",
    "df2.iloc[0,0]\n",
    "print('------------')\n",
    "df2.loc['m']['a']['c'][0]    # m행의 a열의 c열의 0번째.  행 열로 접근하면 결국 그냥 dataframe으로 바뀜. 다시 열부터 접근"
   ]
  },
  {
   "cell_type": "code",
   "execution_count": 246,
   "id": "773c9a5b",
   "metadata": {},
   "outputs": [
    {
     "name": "stdout",
     "output_type": "stream",
     "text": [
      "cidx1           a           b      \n",
      "cidx2           c     d     c     d\n",
      "ridx1 ridx2                        \n",
      "m     1      0.55  0.72  0.60  0.54\n",
      "      2      0.42  0.65  0.44  0.89\n",
      "      3      0.96  0.38  0.79  0.53\n",
      "f     1      0.57  0.93  0.07  0.09\n",
      "      2      0.02  0.83  0.78  0.87\n",
      "      3      0.98  0.80  0.46  0.78\n"
     ]
    },
    {
     "data": {
      "text/html": [
       "<div>\n",
       "<style scoped>\n",
       "    .dataframe tbody tr th:only-of-type {\n",
       "        vertical-align: middle;\n",
       "    }\n",
       "\n",
       "    .dataframe tbody tr th {\n",
       "        vertical-align: top;\n",
       "    }\n",
       "\n",
       "    .dataframe thead tr th {\n",
       "        text-align: left;\n",
       "    }\n",
       "\n",
       "    .dataframe thead tr:last-of-type th {\n",
       "        text-align: right;\n",
       "    }\n",
       "</style>\n",
       "<table border=\"1\" class=\"dataframe\">\n",
       "  <thead>\n",
       "    <tr>\n",
       "      <th>cidx1</th>\n",
       "      <th colspan=\"4\" halign=\"left\">a</th>\n",
       "      <th colspan=\"4\" halign=\"left\">b</th>\n",
       "    </tr>\n",
       "    <tr>\n",
       "      <th>cidx2</th>\n",
       "      <th colspan=\"2\" halign=\"left\">c</th>\n",
       "      <th colspan=\"2\" halign=\"left\">d</th>\n",
       "      <th colspan=\"2\" halign=\"left\">c</th>\n",
       "      <th colspan=\"2\" halign=\"left\">d</th>\n",
       "    </tr>\n",
       "    <tr>\n",
       "      <th>ridx1</th>\n",
       "      <th>f</th>\n",
       "      <th>m</th>\n",
       "      <th>f</th>\n",
       "      <th>m</th>\n",
       "      <th>f</th>\n",
       "      <th>m</th>\n",
       "      <th>f</th>\n",
       "      <th>m</th>\n",
       "    </tr>\n",
       "    <tr>\n",
       "      <th>ridx2</th>\n",
       "      <th></th>\n",
       "      <th></th>\n",
       "      <th></th>\n",
       "      <th></th>\n",
       "      <th></th>\n",
       "      <th></th>\n",
       "      <th></th>\n",
       "      <th></th>\n",
       "    </tr>\n",
       "  </thead>\n",
       "  <tbody>\n",
       "    <tr>\n",
       "      <th>1</th>\n",
       "      <td>0.57</td>\n",
       "      <td>0.55</td>\n",
       "      <td>0.93</td>\n",
       "      <td>0.72</td>\n",
       "      <td>0.07</td>\n",
       "      <td>0.60</td>\n",
       "      <td>0.09</td>\n",
       "      <td>0.54</td>\n",
       "    </tr>\n",
       "    <tr>\n",
       "      <th>2</th>\n",
       "      <td>0.02</td>\n",
       "      <td>0.42</td>\n",
       "      <td>0.83</td>\n",
       "      <td>0.65</td>\n",
       "      <td>0.78</td>\n",
       "      <td>0.44</td>\n",
       "      <td>0.87</td>\n",
       "      <td>0.89</td>\n",
       "    </tr>\n",
       "    <tr>\n",
       "      <th>3</th>\n",
       "      <td>0.98</td>\n",
       "      <td>0.96</td>\n",
       "      <td>0.80</td>\n",
       "      <td>0.38</td>\n",
       "      <td>0.46</td>\n",
       "      <td>0.79</td>\n",
       "      <td>0.78</td>\n",
       "      <td>0.53</td>\n",
       "    </tr>\n",
       "  </tbody>\n",
       "</table>\n",
       "</div>"
      ],
      "text/plain": [
       "cidx1     a                       b                  \n",
       "cidx2     c           d           c           d      \n",
       "ridx1     f     m     f     m     f     m     f     m\n",
       "ridx2                                                \n",
       "1      0.57  0.55  0.93  0.72  0.07  0.60  0.09  0.54\n",
       "2      0.02  0.42  0.83  0.65  0.78  0.44  0.87  0.89\n",
       "3      0.98  0.96  0.80  0.38  0.46  0.79  0.78  0.53"
      ]
     },
     "execution_count": 246,
     "metadata": {},
     "output_type": "execute_result"
    }
   ],
   "source": [
    "# 행 인덱스 이름과 열 인덱스 이름을 바꿀 때\n",
    "# stack(): 열을 행으로\n",
    "# unstack(): 행을 열로\n",
    "\n",
    "print(df2)\n",
    "df2.stack('cidx1')\n",
    "df2.unstack('ridx1')"
   ]
  },
  {
   "cell_type": "code",
   "execution_count": 301,
   "id": "4675cfeb",
   "metadata": {
    "scrolled": true
   },
   "outputs": [
    {
     "name": "stdout",
     "output_type": "stream",
     "text": [
      "cidx1           a           b      \n",
      "cidx2           c     d     c     d\n",
      "ridx1 ridx2                        \n",
      "m     1      0.59  0.02  0.83  0.00\n",
      "      2      0.68  0.27  0.74  0.96\n",
      "      3      0.25  0.58  0.59  0.57\n",
      "f     1      0.22  0.95  0.45  0.85\n",
      "      2      0.70  0.30  0.81  0.40\n",
      "      3      0.88  0.58  0.88  0.69\n"
     ]
    },
    {
     "data": {
      "text/plain": [
       "cidx1  cidx2\n",
       "a      c        0.59\n",
       "       d        0.02\n",
       "b      c        0.83\n",
       "       d        0.00\n",
       "Name: (m, 1), dtype: float64"
      ]
     },
     "execution_count": 301,
     "metadata": {},
     "output_type": "execute_result"
    }
   ],
   "source": [
    "print(df2)\n",
    "# 첫번째 열 0.55 ~0.02\n",
    "# df2[('a','c')][0:5]\n",
    "df2.iloc[:5,0]\n",
    "\n",
    "# 첫번째 행의 모든 컬럼\n",
    "df2.loc[('m', '1'),:]\n",
    "\n",
    "# 행에 all 인덱스 추가하여 열의 합을 출력\n",
    "df3= df2.copy()     # 주소를 넘기는 거기 때문에 같이 수정된다.\n",
    "\n",
    "# df3.loc['ALL']= df3.sum(axis=0)     테이블이 이중인덱스기때문에 이중인덱스로 넣어야 다시 테이블에 접근가능\n",
    "df3.loc[('ALL','ALL'),:]= df3.sum(axis=0)\n",
    "df3\n",
    "#3.32 2.7 4.3 3.47"
   ]
  },
  {
   "cell_type": "code",
   "execution_count": 299,
   "id": "369b5524",
   "metadata": {},
   "outputs": [
    {
     "name": "stdout",
     "output_type": "stream",
     "text": [
      "cidx1           a           b      \n",
      "cidx2           c     d     c     d\n",
      "ridx1 ridx2                        \n",
      "m     1      0.59  0.02  0.83  0.00\n",
      "      2      0.68  0.27  0.74  0.96\n",
      "      3      0.25  0.58  0.59  0.57\n",
      "f     1      0.22  0.95  0.45  0.85\n",
      "      2      0.70  0.30  0.81  0.40\n",
      "      3      0.88  0.58  0.88  0.69\n",
      "ALL   ALL    3.32  2.70  4.30  3.47\n",
      "cidx1           a           b      \n",
      "cidx2           c     d     c     d\n",
      "ridx1 ridx2                        \n",
      "m     1      0.59  0.02  0.83  0.00\n",
      "      2      0.68  0.27  0.74  0.96\n",
      "      3      0.25  0.58  0.59  0.57\n",
      "f     1      0.22  0.95  0.45  0.85\n",
      "      2      0.70  0.30  0.81  0.40\n",
      "      3      0.88  0.58  0.88  0.69\n"
     ]
    }
   ],
   "source": [
    "# 행에 all 인덱스 추가하여 열의 합을 출력\n",
    "df3= df2.copy()     # 주소를 넘기는 거기 때문에 같이 수정된다.\n",
    "# df3.loc['ALL']= df3.sum(axis=0)\n",
    "df3.loc[('ALL','ALL'),:]= df3.sum(axis=0)\n",
    "print(df3)\n",
    "print(df2)\n",
    "#3.32 2.7 4.3 3.47"
   ]
  },
  {
   "cell_type": "markdown",
   "id": "71bec3ea",
   "metadata": {},
   "source": [
    "#### 인덱스 레벨(순서) 교환: swaplevel(i, j, axis=0)"
   ]
  },
  {
   "cell_type": "code",
   "execution_count": 6,
   "id": "003bd588",
   "metadata": {},
   "outputs": [
    {
     "data": {
      "text/html": [
       "<div>\n",
       "<style scoped>\n",
       "    .dataframe tbody tr th:only-of-type {\n",
       "        vertical-align: middle;\n",
       "    }\n",
       "\n",
       "    .dataframe tbody tr th {\n",
       "        vertical-align: top;\n",
       "    }\n",
       "\n",
       "    .dataframe thead tr th {\n",
       "        text-align: left;\n",
       "    }\n",
       "\n",
       "    .dataframe thead tr:last-of-type th {\n",
       "        text-align: right;\n",
       "    }\n",
       "</style>\n",
       "<table border=\"1\" class=\"dataframe\">\n",
       "  <thead>\n",
       "    <tr>\n",
       "      <th></th>\n",
       "      <th>cidx1</th>\n",
       "      <th colspan=\"2\" halign=\"left\">a</th>\n",
       "      <th colspan=\"2\" halign=\"left\">b</th>\n",
       "    </tr>\n",
       "    <tr>\n",
       "      <th></th>\n",
       "      <th>cidx2</th>\n",
       "      <th>c</th>\n",
       "      <th>d</th>\n",
       "      <th>c</th>\n",
       "      <th>d</th>\n",
       "    </tr>\n",
       "    <tr>\n",
       "      <th>ridx2</th>\n",
       "      <th>ridx1</th>\n",
       "      <th></th>\n",
       "      <th></th>\n",
       "      <th></th>\n",
       "      <th></th>\n",
       "    </tr>\n",
       "  </thead>\n",
       "  <tbody>\n",
       "    <tr>\n",
       "      <th>1</th>\n",
       "      <th>m</th>\n",
       "      <td>0.55</td>\n",
       "      <td>0.72</td>\n",
       "      <td>0.60</td>\n",
       "      <td>0.54</td>\n",
       "    </tr>\n",
       "    <tr>\n",
       "      <th>2</th>\n",
       "      <th>m</th>\n",
       "      <td>0.42</td>\n",
       "      <td>0.65</td>\n",
       "      <td>0.44</td>\n",
       "      <td>0.89</td>\n",
       "    </tr>\n",
       "    <tr>\n",
       "      <th>3</th>\n",
       "      <th>m</th>\n",
       "      <td>0.96</td>\n",
       "      <td>0.38</td>\n",
       "      <td>0.79</td>\n",
       "      <td>0.53</td>\n",
       "    </tr>\n",
       "    <tr>\n",
       "      <th>1</th>\n",
       "      <th>f</th>\n",
       "      <td>0.57</td>\n",
       "      <td>0.93</td>\n",
       "      <td>0.07</td>\n",
       "      <td>0.09</td>\n",
       "    </tr>\n",
       "    <tr>\n",
       "      <th>2</th>\n",
       "      <th>f</th>\n",
       "      <td>0.02</td>\n",
       "      <td>0.83</td>\n",
       "      <td>0.78</td>\n",
       "      <td>0.87</td>\n",
       "    </tr>\n",
       "    <tr>\n",
       "      <th>3</th>\n",
       "      <th>f</th>\n",
       "      <td>0.98</td>\n",
       "      <td>0.80</td>\n",
       "      <td>0.46</td>\n",
       "      <td>0.78</td>\n",
       "    </tr>\n",
       "  </tbody>\n",
       "</table>\n",
       "</div>"
      ],
      "text/plain": [
       "cidx1           a           b      \n",
       "cidx2           c     d     c     d\n",
       "ridx2 ridx1                        \n",
       "1     m      0.55  0.72  0.60  0.54\n",
       "2     m      0.42  0.65  0.44  0.89\n",
       "3     m      0.96  0.38  0.79  0.53\n",
       "1     f      0.57  0.93  0.07  0.09\n",
       "2     f      0.02  0.83  0.78  0.87\n",
       "3     f      0.98  0.80  0.46  0.78"
      ]
     },
     "execution_count": 6,
     "metadata": {},
     "output_type": "execute_result"
    }
   ],
   "source": [
    "df2.swaplevel('ridx1','ridx2')   # 열 방향"
   ]
  },
  {
   "cell_type": "code",
   "execution_count": 8,
   "id": "f15963cd",
   "metadata": {},
   "outputs": [
    {
     "data": {
      "text/html": [
       "<div>\n",
       "<style scoped>\n",
       "    .dataframe tbody tr th:only-of-type {\n",
       "        vertical-align: middle;\n",
       "    }\n",
       "\n",
       "    .dataframe tbody tr th {\n",
       "        vertical-align: top;\n",
       "    }\n",
       "\n",
       "    .dataframe thead tr th {\n",
       "        text-align: left;\n",
       "    }\n",
       "\n",
       "    .dataframe thead tr:last-of-type th {\n",
       "        text-align: right;\n",
       "    }\n",
       "</style>\n",
       "<table border=\"1\" class=\"dataframe\">\n",
       "  <thead>\n",
       "    <tr>\n",
       "      <th></th>\n",
       "      <th>cidx2</th>\n",
       "      <th>c</th>\n",
       "      <th>d</th>\n",
       "      <th>c</th>\n",
       "      <th>d</th>\n",
       "    </tr>\n",
       "    <tr>\n",
       "      <th></th>\n",
       "      <th>cidx1</th>\n",
       "      <th>a</th>\n",
       "      <th>a</th>\n",
       "      <th>b</th>\n",
       "      <th>b</th>\n",
       "    </tr>\n",
       "    <tr>\n",
       "      <th>ridx1</th>\n",
       "      <th>ridx2</th>\n",
       "      <th></th>\n",
       "      <th></th>\n",
       "      <th></th>\n",
       "      <th></th>\n",
       "    </tr>\n",
       "  </thead>\n",
       "  <tbody>\n",
       "    <tr>\n",
       "      <th rowspan=\"3\" valign=\"top\">m</th>\n",
       "      <th>1</th>\n",
       "      <td>0.55</td>\n",
       "      <td>0.72</td>\n",
       "      <td>0.60</td>\n",
       "      <td>0.54</td>\n",
       "    </tr>\n",
       "    <tr>\n",
       "      <th>2</th>\n",
       "      <td>0.42</td>\n",
       "      <td>0.65</td>\n",
       "      <td>0.44</td>\n",
       "      <td>0.89</td>\n",
       "    </tr>\n",
       "    <tr>\n",
       "      <th>3</th>\n",
       "      <td>0.96</td>\n",
       "      <td>0.38</td>\n",
       "      <td>0.79</td>\n",
       "      <td>0.53</td>\n",
       "    </tr>\n",
       "    <tr>\n",
       "      <th rowspan=\"3\" valign=\"top\">f</th>\n",
       "      <th>1</th>\n",
       "      <td>0.57</td>\n",
       "      <td>0.93</td>\n",
       "      <td>0.07</td>\n",
       "      <td>0.09</td>\n",
       "    </tr>\n",
       "    <tr>\n",
       "      <th>2</th>\n",
       "      <td>0.02</td>\n",
       "      <td>0.83</td>\n",
       "      <td>0.78</td>\n",
       "      <td>0.87</td>\n",
       "    </tr>\n",
       "    <tr>\n",
       "      <th>3</th>\n",
       "      <td>0.98</td>\n",
       "      <td>0.80</td>\n",
       "      <td>0.46</td>\n",
       "      <td>0.78</td>\n",
       "    </tr>\n",
       "  </tbody>\n",
       "</table>\n",
       "</div>"
      ],
      "text/plain": [
       "cidx2           c     d     c     d\n",
       "cidx1           a     a     b     b\n",
       "ridx1 ridx2                        \n",
       "m     1      0.55  0.72  0.60  0.54\n",
       "      2      0.42  0.65  0.44  0.89\n",
       "      3      0.96  0.38  0.79  0.53\n",
       "f     1      0.57  0.93  0.07  0.09\n",
       "      2      0.02  0.83  0.78  0.87\n",
       "      3      0.98  0.80  0.46  0.78"
      ]
     },
     "execution_count": 8,
     "metadata": {},
     "output_type": "execute_result"
    }
   ],
   "source": [
    "df2.swaplevel('cidx1','cidx2',axis=1)"
   ]
  },
  {
   "cell_type": "markdown",
   "id": "bcaa979d",
   "metadata": {},
   "source": [
    "#### 정렬: sort_index(level)\n",
    "    axis= 0: index 정렬\n",
    "    axis= 1: columns 정렬"
   ]
  },
  {
   "cell_type": "code",
   "execution_count": 13,
   "id": "3ee25e15",
   "metadata": {},
   "outputs": [
    {
     "name": "stdout",
     "output_type": "stream",
     "text": [
      "cidx1           a           b      \n",
      "cidx2           c     d     c     d\n",
      "ridx1 ridx2                        \n",
      "m     1      0.55  0.72  0.60  0.54\n",
      "      2      0.42  0.65  0.44  0.89\n",
      "      3      0.96  0.38  0.79  0.53\n",
      "f     1      0.57  0.93  0.07  0.09\n",
      "      2      0.02  0.83  0.78  0.87\n",
      "      3      0.98  0.80  0.46  0.78\n",
      "-----------------\n",
      "cidx1           a           b      \n",
      "cidx2           c     d     c     d\n",
      "ridx1 ridx2                        \n",
      "f     1      0.57  0.93  0.07  0.09\n",
      "      2      0.02  0.83  0.78  0.87\n",
      "      3      0.98  0.80  0.46  0.78\n",
      "m     1      0.55  0.72  0.60  0.54\n",
      "      2      0.42  0.65  0.44  0.89\n",
      "      3      0.96  0.38  0.79  0.53\n",
      "-----------------\n",
      "cidx1           a           b      \n",
      "cidx2           c     d     c     d\n",
      "ridx1 ridx2                        \n",
      "f     1      0.57  0.93  0.07  0.09\n",
      "m     1      0.55  0.72  0.60  0.54\n",
      "f     2      0.02  0.83  0.78  0.87\n",
      "m     2      0.42  0.65  0.44  0.89\n",
      "f     3      0.98  0.80  0.46  0.78\n",
      "m     3      0.96  0.38  0.79  0.53\n",
      "-----------------\n",
      "cidx1           a           b      \n",
      "cidx2           c     d     c     d\n",
      "ridx1 ridx2                        \n",
      "m     1      0.55  0.72  0.60  0.54\n",
      "      2      0.42  0.65  0.44  0.89\n",
      "      3      0.96  0.38  0.79  0.53\n",
      "f     1      0.57  0.93  0.07  0.09\n",
      "      2      0.02  0.83  0.78  0.87\n",
      "      3      0.98  0.80  0.46  0.78\n",
      "-----------------\n",
      "cidx1           a     b     a     b\n",
      "cidx2           c     c     d     d\n",
      "ridx1 ridx2                        \n",
      "m     1      0.55  0.60  0.72  0.54\n",
      "      2      0.42  0.44  0.65  0.89\n",
      "      3      0.96  0.79  0.38  0.53\n",
      "f     1      0.57  0.07  0.93  0.09\n",
      "      2      0.02  0.78  0.83  0.87\n",
      "      3      0.98  0.46  0.80  0.78\n"
     ]
    }
   ],
   "source": [
    "print(df2)\n",
    "print('-----------------')\n",
    "print(df2.sort_index(level=0, axis=0))   # ridx1 정렬\n",
    "print('-----------------')\n",
    "print(df2.sort_index(level=1, axis=0))   # ridx2 정렬\n",
    "print('-----------------')\n",
    "print(df2.sort_index(level=0, axis=1))   # cidx1 정렬\n",
    "print('-----------------')\n",
    "print(df2.sort_index(level=1, axis=1))   # cidx2 정렬"
   ]
  },
  {
   "cell_type": "code",
   "execution_count": 14,
   "id": "5f67b78e",
   "metadata": {},
   "outputs": [],
   "source": [
    "? pd.DataFrame.sort_index"
   ]
  },
  {
   "cell_type": "markdown",
   "id": "26e7421a",
   "metadata": {},
   "source": [
    "## 3. 연습문제"
   ]
  },
  {
   "cell_type": "code",
   "execution_count": 337,
   "id": "9daa0ffc",
   "metadata": {
    "scrolled": true
   },
   "outputs": [
    {
     "data": {
      "text/html": [
       "<div>\n",
       "<style scoped>\n",
       "    .dataframe tbody tr th:only-of-type {\n",
       "        vertical-align: middle;\n",
       "    }\n",
       "\n",
       "    .dataframe tbody tr th {\n",
       "        vertical-align: top;\n",
       "    }\n",
       "\n",
       "    .dataframe thead th {\n",
       "        text-align: right;\n",
       "    }\n",
       "</style>\n",
       "<table border=\"1\" class=\"dataframe\">\n",
       "  <thead>\n",
       "    <tr style=\"text-align: right;\">\n",
       "      <th></th>\n",
       "      <th>반</th>\n",
       "      <th>번호</th>\n",
       "      <th>국어</th>\n",
       "      <th>영어</th>\n",
       "      <th>수학</th>\n",
       "    </tr>\n",
       "  </thead>\n",
       "  <tbody>\n",
       "    <tr>\n",
       "      <th>0</th>\n",
       "      <td>A</td>\n",
       "      <td>1</td>\n",
       "      <td>79</td>\n",
       "      <td>55</td>\n",
       "      <td>57</td>\n",
       "    </tr>\n",
       "    <tr>\n",
       "      <th>1</th>\n",
       "      <td>A</td>\n",
       "      <td>2</td>\n",
       "      <td>67</td>\n",
       "      <td>77</td>\n",
       "      <td>45</td>\n",
       "    </tr>\n",
       "    <tr>\n",
       "      <th>2</th>\n",
       "      <td>B</td>\n",
       "      <td>1</td>\n",
       "      <td>88</td>\n",
       "      <td>44</td>\n",
       "      <td>76</td>\n",
       "    </tr>\n",
       "    <tr>\n",
       "      <th>3</th>\n",
       "      <td>A</td>\n",
       "      <td>3</td>\n",
       "      <td>68</td>\n",
       "      <td>67</td>\n",
       "      <td>68</td>\n",
       "    </tr>\n",
       "    <tr>\n",
       "      <th>4</th>\n",
       "      <td>B</td>\n",
       "      <td>2</td>\n",
       "      <td>92</td>\n",
       "      <td>86</td>\n",
       "      <td>89</td>\n",
       "    </tr>\n",
       "    <tr>\n",
       "      <th>5</th>\n",
       "      <td>B</td>\n",
       "      <td>3</td>\n",
       "      <td>54</td>\n",
       "      <td>45</td>\n",
       "      <td>67</td>\n",
       "    </tr>\n",
       "    <tr>\n",
       "      <th>6</th>\n",
       "      <td>B</td>\n",
       "      <td>4</td>\n",
       "      <td>67</td>\n",
       "      <td>78</td>\n",
       "      <td>99</td>\n",
       "    </tr>\n",
       "    <tr>\n",
       "      <th>7</th>\n",
       "      <td>A</td>\n",
       "      <td>4</td>\n",
       "      <td>88</td>\n",
       "      <td>58</td>\n",
       "      <td>78</td>\n",
       "    </tr>\n",
       "    <tr>\n",
       "      <th>8</th>\n",
       "      <td>B</td>\n",
       "      <td>5</td>\n",
       "      <td>97</td>\n",
       "      <td>90</td>\n",
       "      <td>89</td>\n",
       "    </tr>\n",
       "    <tr>\n",
       "      <th>9</th>\n",
       "      <td>A</td>\n",
       "      <td>5</td>\n",
       "      <td>85</td>\n",
       "      <td>67</td>\n",
       "      <td>90</td>\n",
       "    </tr>\n",
       "  </tbody>\n",
       "</table>\n",
       "</div>"
      ],
      "text/plain": [
       "   반  번호  국어  영어  수학\n",
       "0  A   1  79  55  57\n",
       "1  A   2  67  77  45\n",
       "2  B   1  88  44  76\n",
       "3  A   3  68  67  68\n",
       "4  B   2  92  86  89\n",
       "5  B   3  54  45  67\n",
       "6  B   4  67  78  99\n",
       "7  A   4  88  58  78\n",
       "8  B   5  97  90  89\n",
       "9  A   5  85  67  90"
      ]
     },
     "execution_count": 337,
     "metadata": {},
     "output_type": "execute_result"
    }
   ],
   "source": [
    "df_score1 = pd.DataFrame({\n",
    "    \"반\":[\"A\", \"A\", \"B\", \"A\", \"B\", \"B\", \"B\", \"A\", \"B\", \"A\"],\n",
    "    \"번호\" : [1, 2, 1, 3, 2, 3, 4, 4, 5, 5],\n",
    "    \"국어\" : [79, 67, 88, 68, 92, 54, 67, 88, 97, 85],\n",
    "    \"영어\" : [55, 77, 44, 67, 86, 45, 78, 58, 90, 67],\n",
    "    \"수학\" : [57, 45, 76, 68, 89, 67, 99, 78, 89, 90]\n",
    "})\n",
    "df_score1"
   ]
  },
  {
   "cell_type": "code",
   "execution_count": 338,
   "id": "df17831d",
   "metadata": {},
   "outputs": [
    {
     "data": {
      "text/plain": [
       "79"
      ]
     },
     "execution_count": 338,
     "metadata": {},
     "output_type": "execute_result"
    }
   ],
   "source": [
    "# df_score1['번호']= df_score1['번호'].astype(str)\n",
    "df_score2= df_score1.set_index(['반','번호']).sort_index()\n",
    "df_score2.iloc[0,0]"
   ]
  },
  {
   "cell_type": "code",
   "execution_count": 339,
   "id": "6b93edbc",
   "metadata": {
    "scrolled": true
   },
   "outputs": [
    {
     "data": {
      "text/html": [
       "<div>\n",
       "<style scoped>\n",
       "    .dataframe tbody tr th:only-of-type {\n",
       "        vertical-align: middle;\n",
       "    }\n",
       "\n",
       "    .dataframe tbody tr th {\n",
       "        vertical-align: top;\n",
       "    }\n",
       "\n",
       "    .dataframe thead th {\n",
       "        text-align: right;\n",
       "    }\n",
       "</style>\n",
       "<table border=\"1\" class=\"dataframe\">\n",
       "  <thead>\n",
       "    <tr style=\"text-align: right;\">\n",
       "      <th></th>\n",
       "      <th></th>\n",
       "      <th>국어</th>\n",
       "      <th>영어</th>\n",
       "      <th>수학</th>\n",
       "      <th>평균</th>\n",
       "    </tr>\n",
       "    <tr>\n",
       "      <th>반</th>\n",
       "      <th>번호</th>\n",
       "      <th></th>\n",
       "      <th></th>\n",
       "      <th></th>\n",
       "      <th></th>\n",
       "    </tr>\n",
       "  </thead>\n",
       "  <tbody>\n",
       "    <tr>\n",
       "      <th rowspan=\"5\" valign=\"top\">A</th>\n",
       "      <th>1</th>\n",
       "      <td>79</td>\n",
       "      <td>55</td>\n",
       "      <td>57</td>\n",
       "      <td>63.666667</td>\n",
       "    </tr>\n",
       "    <tr>\n",
       "      <th>2</th>\n",
       "      <td>67</td>\n",
       "      <td>77</td>\n",
       "      <td>45</td>\n",
       "      <td>63.000000</td>\n",
       "    </tr>\n",
       "    <tr>\n",
       "      <th>3</th>\n",
       "      <td>68</td>\n",
       "      <td>67</td>\n",
       "      <td>68</td>\n",
       "      <td>67.666667</td>\n",
       "    </tr>\n",
       "    <tr>\n",
       "      <th>4</th>\n",
       "      <td>88</td>\n",
       "      <td>58</td>\n",
       "      <td>78</td>\n",
       "      <td>74.666667</td>\n",
       "    </tr>\n",
       "    <tr>\n",
       "      <th>5</th>\n",
       "      <td>85</td>\n",
       "      <td>67</td>\n",
       "      <td>90</td>\n",
       "      <td>80.666667</td>\n",
       "    </tr>\n",
       "    <tr>\n",
       "      <th rowspan=\"5\" valign=\"top\">B</th>\n",
       "      <th>1</th>\n",
       "      <td>88</td>\n",
       "      <td>44</td>\n",
       "      <td>76</td>\n",
       "      <td>69.333333</td>\n",
       "    </tr>\n",
       "    <tr>\n",
       "      <th>2</th>\n",
       "      <td>92</td>\n",
       "      <td>86</td>\n",
       "      <td>89</td>\n",
       "      <td>89.000000</td>\n",
       "    </tr>\n",
       "    <tr>\n",
       "      <th>3</th>\n",
       "      <td>54</td>\n",
       "      <td>45</td>\n",
       "      <td>67</td>\n",
       "      <td>55.333333</td>\n",
       "    </tr>\n",
       "    <tr>\n",
       "      <th>4</th>\n",
       "      <td>67</td>\n",
       "      <td>78</td>\n",
       "      <td>99</td>\n",
       "      <td>81.333333</td>\n",
       "    </tr>\n",
       "    <tr>\n",
       "      <th>5</th>\n",
       "      <td>97</td>\n",
       "      <td>90</td>\n",
       "      <td>89</td>\n",
       "      <td>92.000000</td>\n",
       "    </tr>\n",
       "  </tbody>\n",
       "</table>\n",
       "</div>"
      ],
      "text/plain": [
       "      국어  영어  수학         평균\n",
       "반 번호                       \n",
       "A 1   79  55  57  63.666667\n",
       "  2   67  77  45  63.000000\n",
       "  3   68  67  68  67.666667\n",
       "  4   88  58  78  74.666667\n",
       "  5   85  67  90  80.666667\n",
       "B 1   88  44  76  69.333333\n",
       "  2   92  86  89  89.000000\n",
       "  3   54  45  67  55.333333\n",
       "  4   67  78  99  81.333333\n",
       "  5   97  90  89  92.000000"
      ]
     },
     "execution_count": 339,
     "metadata": {},
     "output_type": "execute_result"
    }
   ],
   "source": [
    "# 1차 행 인덱스로 '반'을 2차 행 인덱스로 '번호'\n",
    "df_score2= df_score1.set_index(['반','번호']).sort_index()\n",
    "# 학생의 평균을 나타내는 열을 오른쪽에 추가\n",
    "df_score2['평균']= df_score2.mean(axis=1)\n",
    "df_score2"
   ]
  },
  {
   "cell_type": "code",
   "execution_count": 340,
   "id": "f3dddaf0",
   "metadata": {},
   "outputs": [
    {
     "data": {
      "text/html": [
       "<div>\n",
       "<style scoped>\n",
       "    .dataframe tbody tr th:only-of-type {\n",
       "        vertical-align: middle;\n",
       "    }\n",
       "\n",
       "    .dataframe tbody tr th {\n",
       "        vertical-align: top;\n",
       "    }\n",
       "\n",
       "    .dataframe thead tr th {\n",
       "        text-align: left;\n",
       "    }\n",
       "\n",
       "    .dataframe thead tr:last-of-type th {\n",
       "        text-align: right;\n",
       "    }\n",
       "</style>\n",
       "<table border=\"1\" class=\"dataframe\">\n",
       "  <thead>\n",
       "    <tr>\n",
       "      <th></th>\n",
       "      <th colspan=\"2\" halign=\"left\">국어</th>\n",
       "      <th colspan=\"2\" halign=\"left\">영어</th>\n",
       "      <th colspan=\"2\" halign=\"left\">수학</th>\n",
       "      <th colspan=\"2\" halign=\"left\">평균</th>\n",
       "    </tr>\n",
       "    <tr>\n",
       "      <th>반</th>\n",
       "      <th>A</th>\n",
       "      <th>B</th>\n",
       "      <th>A</th>\n",
       "      <th>B</th>\n",
       "      <th>A</th>\n",
       "      <th>B</th>\n",
       "      <th>A</th>\n",
       "      <th>B</th>\n",
       "    </tr>\n",
       "    <tr>\n",
       "      <th>번호</th>\n",
       "      <th></th>\n",
       "      <th></th>\n",
       "      <th></th>\n",
       "      <th></th>\n",
       "      <th></th>\n",
       "      <th></th>\n",
       "      <th></th>\n",
       "      <th></th>\n",
       "    </tr>\n",
       "  </thead>\n",
       "  <tbody>\n",
       "    <tr>\n",
       "      <th>1</th>\n",
       "      <td>79.0</td>\n",
       "      <td>88.0</td>\n",
       "      <td>55.0</td>\n",
       "      <td>44.0</td>\n",
       "      <td>57.0</td>\n",
       "      <td>76.0</td>\n",
       "      <td>63.666667</td>\n",
       "      <td>69.333333</td>\n",
       "    </tr>\n",
       "    <tr>\n",
       "      <th>2</th>\n",
       "      <td>67.0</td>\n",
       "      <td>92.0</td>\n",
       "      <td>77.0</td>\n",
       "      <td>86.0</td>\n",
       "      <td>45.0</td>\n",
       "      <td>89.0</td>\n",
       "      <td>63.000000</td>\n",
       "      <td>89.000000</td>\n",
       "    </tr>\n",
       "    <tr>\n",
       "      <th>3</th>\n",
       "      <td>68.0</td>\n",
       "      <td>54.0</td>\n",
       "      <td>67.0</td>\n",
       "      <td>45.0</td>\n",
       "      <td>68.0</td>\n",
       "      <td>67.0</td>\n",
       "      <td>67.666667</td>\n",
       "      <td>55.333333</td>\n",
       "    </tr>\n",
       "    <tr>\n",
       "      <th>4</th>\n",
       "      <td>88.0</td>\n",
       "      <td>67.0</td>\n",
       "      <td>58.0</td>\n",
       "      <td>78.0</td>\n",
       "      <td>78.0</td>\n",
       "      <td>99.0</td>\n",
       "      <td>74.666667</td>\n",
       "      <td>81.333333</td>\n",
       "    </tr>\n",
       "    <tr>\n",
       "      <th>5</th>\n",
       "      <td>85.0</td>\n",
       "      <td>97.0</td>\n",
       "      <td>67.0</td>\n",
       "      <td>90.0</td>\n",
       "      <td>90.0</td>\n",
       "      <td>89.0</td>\n",
       "      <td>80.666667</td>\n",
       "      <td>92.000000</td>\n",
       "    </tr>\n",
       "    <tr>\n",
       "      <th>평균</th>\n",
       "      <td>77.4</td>\n",
       "      <td>79.6</td>\n",
       "      <td>64.8</td>\n",
       "      <td>68.6</td>\n",
       "      <td>67.6</td>\n",
       "      <td>84.0</td>\n",
       "      <td>69.933333</td>\n",
       "      <td>77.400000</td>\n",
       "    </tr>\n",
       "  </tbody>\n",
       "</table>\n",
       "</div>"
      ],
      "text/plain": [
       "      국어          영어          수학               평균           \n",
       "반      A     B     A     B     A     B          A          B\n",
       "번호                                                          \n",
       "1   79.0  88.0  55.0  44.0  57.0  76.0  63.666667  69.333333\n",
       "2   67.0  92.0  77.0  86.0  45.0  89.0  63.000000  89.000000\n",
       "3   68.0  54.0  67.0  45.0  68.0  67.0  67.666667  55.333333\n",
       "4   88.0  67.0  58.0  78.0  78.0  99.0  74.666667  81.333333\n",
       "5   85.0  97.0  67.0  90.0  90.0  89.0  80.666667  92.000000\n",
       "평균  77.4  79.6  64.8  68.6  67.6  84.0  69.933333  77.400000"
      ]
     },
     "execution_count": 340,
     "metadata": {},
     "output_type": "execute_result"
    }
   ],
   "source": [
    "# 행 인덱스로 '번호'를, 1차 열 인덱스로 '국어','영어','수학', 2차 열 인덱스로 반\n",
    "df_score3= df_score2.unstack('반')\n",
    "df_score3\n",
    "# 각 반별 각 과목의 평균을 나타내는 행을 아래에 추가\n",
    "df_score3.loc['평균']= df_score3.mean(axis=0)\n",
    "df_score3"
   ]
  },
  {
   "cell_type": "code",
   "execution_count": 341,
   "id": "798052d2",
   "metadata": {},
   "outputs": [],
   "source": [
    "?pd.DataFrame.stack"
   ]
  },
  {
   "cell_type": "markdown",
   "id": "c54ac0ff",
   "metadata": {},
   "source": [
    "## 4. 데이터 프레임의 합성(병합)\n",
    "    merge(): join()과 비슷\n",
    "        두 데이터 프레임의 공통 열 또는 인덱스를 기준으로 두 개의 테이블을 합친다. \n",
    "        이때 기준이 되는 열, 행의 데이터를 key라고 한다.\n",
    "    concat()\n",
    "        기준열을 사용하지 않고 단순히 데이터를 연결\n",
    "        \n",
    "    join()은 인덱스가 키인 경우에 사용 가능"
   ]
  },
  {
   "cell_type": "markdown",
   "id": "dbe5222c",
   "metadata": {},
   "source": [
    "### (1) merge() \n",
    "    pd.merge(\n",
    "    left: 'DataFrame | Series',\n",
    "    right: 'DataFrame | Series',\n",
    "    how = 'inner','right','outer',...\n",
    "    on: 'IndexLabel | None'    # 키로 쓸 컬럼\n",
    "    left_on: 'IndexLabel | None' = None,\n",
    "    right_on: 'IndexLabel | None' = None,\n",
    "        ...)\n",
    "        \n",
    "    디폴트는 inner join\n",
    "    컬럼 이름이 같은 걸 키로 자동 설정\n",
    "    \n",
    "    같은 이름이 여러개인 경우 직접 설정 on\n",
    "    공통된 이름이 없으면 left_on, right_on 설정\n",
    "    필드와 이중 인덱스가 키인 경우:\n",
    "    pd.merge(df1, df2, left_on=['도시','연도'], right_index= True)   # 오른쪽 테이블은 인덱스를 키로 사용한다\n",
    "    키가 둘 다 인덱스인 경우:\n",
    "    pd.merge(df1, df2, left_index=True, right_index=True, how='outer')"
   ]
  },
  {
   "cell_type": "code",
   "execution_count": 27,
   "id": "dd57c848",
   "metadata": {},
   "outputs": [],
   "source": [
    "?pd.merge"
   ]
  },
  {
   "cell_type": "code",
   "execution_count": 21,
   "id": "aa220d9e",
   "metadata": {},
   "outputs": [
    {
     "name": "stdout",
     "output_type": "stream",
     "text": [
      "   고객번호   이름\n",
      "0  1001   둘리\n",
      "1  1002  도우너\n",
      "2  1003   또치\n",
      "3  1004   길동\n",
      "4  1005   희동\n",
      "5  1006  마이콜\n",
      "6  1007   영희\n",
      "=================================================================\n",
      "   고객번호      금액\n",
      "0  1001   10000\n",
      "1  1001   20000\n",
      "2  1005   15000\n",
      "3  1006    5000\n",
      "4  1008  100000\n",
      "5  1001   30000\n"
     ]
    }
   ],
   "source": [
    "# df1: df2 = 1: 다 관계\n",
    "df1 = pd.DataFrame({\n",
    "    \"고객번호\":[1001, 1002, 1003, 1004, 1005, 1006, 1007],\n",
    "    \"이름\":[\"둘리\", \"도우너\", \"또치\", \"길동\", \"희동\", \"마이콜\", \"영희\"]\n",
    "})\n",
    "print(df1)\n",
    "print(\"=================================================================\")\n",
    "df2 = pd.DataFrame({\n",
    "    \"고객번호\":[1001, 1001, 1005, 1006, 1008, 1001],\n",
    "    \"금액\":[10000, 20000, 15000, 5000, 100000, 30000]\n",
    "})\n",
    "print(df2)"
   ]
  },
  {
   "cell_type": "code",
   "execution_count": 22,
   "id": "53d2d791",
   "metadata": {},
   "outputs": [
    {
     "name": "stdout",
     "output_type": "stream",
     "text": [
      "   고객번호   이름     금액\n",
      "0  1001   둘리  10000\n",
      "1  1001   둘리  20000\n",
      "2  1001   둘리  30000\n",
      "3  1005   희동  15000\n",
      "4  1006  마이콜   5000\n"
     ]
    },
    {
     "data": {
      "text/html": [
       "<div>\n",
       "<style scoped>\n",
       "    .dataframe tbody tr th:only-of-type {\n",
       "        vertical-align: middle;\n",
       "    }\n",
       "\n",
       "    .dataframe tbody tr th {\n",
       "        vertical-align: top;\n",
       "    }\n",
       "\n",
       "    .dataframe thead th {\n",
       "        text-align: right;\n",
       "    }\n",
       "</style>\n",
       "<table border=\"1\" class=\"dataframe\">\n",
       "  <thead>\n",
       "    <tr style=\"text-align: right;\">\n",
       "      <th></th>\n",
       "      <th>고객번호</th>\n",
       "      <th>이름</th>\n",
       "      <th>금액</th>\n",
       "    </tr>\n",
       "  </thead>\n",
       "  <tbody>\n",
       "    <tr>\n",
       "      <th>0</th>\n",
       "      <td>1001</td>\n",
       "      <td>둘리</td>\n",
       "      <td>10000.0</td>\n",
       "    </tr>\n",
       "    <tr>\n",
       "      <th>1</th>\n",
       "      <td>1001</td>\n",
       "      <td>둘리</td>\n",
       "      <td>20000.0</td>\n",
       "    </tr>\n",
       "    <tr>\n",
       "      <th>2</th>\n",
       "      <td>1001</td>\n",
       "      <td>둘리</td>\n",
       "      <td>30000.0</td>\n",
       "    </tr>\n",
       "    <tr>\n",
       "      <th>3</th>\n",
       "      <td>1002</td>\n",
       "      <td>도우너</td>\n",
       "      <td>NaN</td>\n",
       "    </tr>\n",
       "    <tr>\n",
       "      <th>4</th>\n",
       "      <td>1003</td>\n",
       "      <td>또치</td>\n",
       "      <td>NaN</td>\n",
       "    </tr>\n",
       "    <tr>\n",
       "      <th>5</th>\n",
       "      <td>1004</td>\n",
       "      <td>길동</td>\n",
       "      <td>NaN</td>\n",
       "    </tr>\n",
       "    <tr>\n",
       "      <th>6</th>\n",
       "      <td>1005</td>\n",
       "      <td>희동</td>\n",
       "      <td>15000.0</td>\n",
       "    </tr>\n",
       "    <tr>\n",
       "      <th>7</th>\n",
       "      <td>1006</td>\n",
       "      <td>마이콜</td>\n",
       "      <td>5000.0</td>\n",
       "    </tr>\n",
       "    <tr>\n",
       "      <th>8</th>\n",
       "      <td>1007</td>\n",
       "      <td>영희</td>\n",
       "      <td>NaN</td>\n",
       "    </tr>\n",
       "    <tr>\n",
       "      <th>9</th>\n",
       "      <td>1008</td>\n",
       "      <td>NaN</td>\n",
       "      <td>100000.0</td>\n",
       "    </tr>\n",
       "  </tbody>\n",
       "</table>\n",
       "</div>"
      ],
      "text/plain": [
       "   고객번호   이름        금액\n",
       "0  1001   둘리   10000.0\n",
       "1  1001   둘리   20000.0\n",
       "2  1001   둘리   30000.0\n",
       "3  1002  도우너       NaN\n",
       "4  1003   또치       NaN\n",
       "5  1004   길동       NaN\n",
       "6  1005   희동   15000.0\n",
       "7  1006  마이콜    5000.0\n",
       "8  1007   영희       NaN\n",
       "9  1008  NaN  100000.0"
      ]
     },
     "execution_count": 22,
     "metadata": {},
     "output_type": "execute_result"
    }
   ],
   "source": [
    "print(pd.merge(df1, df2))             # inner join\n",
    "pd.merge(df1, df2, how='left') # left outer join\n",
    "pd.merge(df1, df2, how='right')# right outer join\n",
    "pd.merge(df1, df2, how='outer') # full outer join"
   ]
  },
  {
   "cell_type": "code",
   "execution_count": 26,
   "id": "e3b54cd7",
   "metadata": {},
   "outputs": [
    {
     "name": "stdout",
     "output_type": "stream",
     "text": [
      "  고객명          날짜     데이터\n",
      "0  춘향  2019-01-01   20000\n",
      "1  춘향  2019-01-02   30000\n",
      "2  몽룡  2019-01-03  100000\n",
      "------------------------------\n",
      "  고객명 데이터\n",
      "0  춘향  여자\n",
      "1  몽룡  남자\n"
     ]
    }
   ],
   "source": [
    "# 키가 여러개인 경우\n",
    "df1 = pd.DataFrame({\n",
    "    \"고객명\":[\"춘향\", \"춘향\", \"몽룡\"],\n",
    "    \"날짜\":[\"2019-01-01\", \"2019-01-02\", \"2019-01-03\"], \n",
    "    \"데이터\":[\"20000\", \"30000\", \"100000\"]\n",
    "})\n",
    "\n",
    "df2 = pd.DataFrame({\n",
    "    \"고객명\":[\"춘향\", \"몽룡\"],\n",
    "    \"데이터\":[\"여자\", \"남자\"]\n",
    "})\n",
    "\n",
    "print(df1)\n",
    "print(\"------------------------------\")\n",
    "print(df2)"
   ]
  },
  {
   "cell_type": "code",
   "execution_count": 24,
   "id": "90e42553",
   "metadata": {},
   "outputs": [
    {
     "data": {
      "text/html": [
       "<div>\n",
       "<style scoped>\n",
       "    .dataframe tbody tr th:only-of-type {\n",
       "        vertical-align: middle;\n",
       "    }\n",
       "\n",
       "    .dataframe tbody tr th {\n",
       "        vertical-align: top;\n",
       "    }\n",
       "\n",
       "    .dataframe thead th {\n",
       "        text-align: right;\n",
       "    }\n",
       "</style>\n",
       "<table border=\"1\" class=\"dataframe\">\n",
       "  <thead>\n",
       "    <tr style=\"text-align: right;\">\n",
       "      <th></th>\n",
       "      <th>고객명</th>\n",
       "      <th>날짜</th>\n",
       "      <th>데이터_x</th>\n",
       "      <th>데이터_y</th>\n",
       "    </tr>\n",
       "  </thead>\n",
       "  <tbody>\n",
       "    <tr>\n",
       "      <th>0</th>\n",
       "      <td>춘향</td>\n",
       "      <td>2019-01-01</td>\n",
       "      <td>20000</td>\n",
       "      <td>여자</td>\n",
       "    </tr>\n",
       "    <tr>\n",
       "      <th>1</th>\n",
       "      <td>춘향</td>\n",
       "      <td>2019-01-02</td>\n",
       "      <td>30000</td>\n",
       "      <td>여자</td>\n",
       "    </tr>\n",
       "    <tr>\n",
       "      <th>2</th>\n",
       "      <td>몽룡</td>\n",
       "      <td>2019-01-03</td>\n",
       "      <td>100000</td>\n",
       "      <td>남자</td>\n",
       "    </tr>\n",
       "  </tbody>\n",
       "</table>\n",
       "</div>"
      ],
      "text/plain": [
       "  고객명          날짜   데이터_x 데이터_y\n",
       "0  춘향  2019-01-01   20000    여자\n",
       "1  춘향  2019-01-02   30000    여자\n",
       "2  몽룡  2019-01-03  100000    남자"
      ]
     },
     "execution_count": 24,
     "metadata": {},
     "output_type": "execute_result"
    }
   ],
   "source": [
    "pd.merge(df1, df2, on='고객명')"
   ]
  },
  {
   "cell_type": "code",
   "execution_count": 29,
   "id": "29555fa2",
   "metadata": {
    "scrolled": true
   },
   "outputs": [
    {
     "name": "stdout",
     "output_type": "stream",
     "text": [
      "   이름  성적\n",
      "0  영희   1\n",
      "1  철수   2\n",
      "2  철수   3\n",
      "------------------------------\n",
      "   성명  점수\n",
      "0  영희   4\n",
      "1  영희   5\n",
      "2  철수   6\n"
     ]
    },
    {
     "data": {
      "text/html": [
       "<div>\n",
       "<style scoped>\n",
       "    .dataframe tbody tr th:only-of-type {\n",
       "        vertical-align: middle;\n",
       "    }\n",
       "\n",
       "    .dataframe tbody tr th {\n",
       "        vertical-align: top;\n",
       "    }\n",
       "\n",
       "    .dataframe thead th {\n",
       "        text-align: right;\n",
       "    }\n",
       "</style>\n",
       "<table border=\"1\" class=\"dataframe\">\n",
       "  <thead>\n",
       "    <tr style=\"text-align: right;\">\n",
       "      <th></th>\n",
       "      <th>이름</th>\n",
       "      <th>성적</th>\n",
       "      <th>성명</th>\n",
       "      <th>점수</th>\n",
       "    </tr>\n",
       "  </thead>\n",
       "  <tbody>\n",
       "    <tr>\n",
       "      <th>0</th>\n",
       "      <td>영희</td>\n",
       "      <td>1</td>\n",
       "      <td>영희</td>\n",
       "      <td>4</td>\n",
       "    </tr>\n",
       "    <tr>\n",
       "      <th>1</th>\n",
       "      <td>영희</td>\n",
       "      <td>1</td>\n",
       "      <td>영희</td>\n",
       "      <td>5</td>\n",
       "    </tr>\n",
       "    <tr>\n",
       "      <th>2</th>\n",
       "      <td>철수</td>\n",
       "      <td>2</td>\n",
       "      <td>철수</td>\n",
       "      <td>6</td>\n",
       "    </tr>\n",
       "    <tr>\n",
       "      <th>3</th>\n",
       "      <td>철수</td>\n",
       "      <td>3</td>\n",
       "      <td>철수</td>\n",
       "      <td>6</td>\n",
       "    </tr>\n",
       "  </tbody>\n",
       "</table>\n",
       "</div>"
      ],
      "text/plain": [
       "   이름  성적  성명  점수\n",
       "0  영희   1  영희   4\n",
       "1  영희   1  영희   5\n",
       "2  철수   2  철수   6\n",
       "3  철수   3  철수   6"
      ]
     },
     "execution_count": 29,
     "metadata": {},
     "output_type": "execute_result"
    }
   ],
   "source": [
    "# 공통된 key가 없는 경우\n",
    "df1 = pd.DataFrame({\n",
    "    \"이름\":[\"영희\", \"철수\", \"철수\"],\n",
    "    \"성적\":[1, 2, 3]\n",
    "})\n",
    "\n",
    "df2 = pd.DataFrame({\n",
    "    \"성명\":[\"영희\", \"영희\", \"철수\"],\n",
    "    \"점수\":[4, 5, 6]\n",
    "})\n",
    "\n",
    "print(df1)\n",
    "print(\"------------------------------\")\n",
    "print(df2)\n",
    "pd.merge(df1, df2, left_on='이름', right_on='성명')"
   ]
  },
  {
   "cell_type": "code",
   "execution_count": 31,
   "id": "5cc71ab1",
   "metadata": {},
   "outputs": [
    {
     "name": "stdout",
     "output_type": "stream",
     "text": [
      "   도시    연도       인구\n",
      "0  서울  2000  9853972\n",
      "1  서울  2005  9762546\n",
      "2  서울  2010  9631482\n",
      "3  부산  2000  3655437\n",
      "4  부산  2005  3512547\n",
      "------------------------------\n",
      "         데이터1  데이터2\n",
      "부산 2000     0     1\n",
      "   2005     2     3\n",
      "서울 2000     4     5\n",
      "   2005     6     7\n",
      "   2010     8     9\n",
      "   2015    10    11\n",
      "------------------------------\n"
     ]
    },
    {
     "data": {
      "text/html": [
       "<div>\n",
       "<style scoped>\n",
       "    .dataframe tbody tr th:only-of-type {\n",
       "        vertical-align: middle;\n",
       "    }\n",
       "\n",
       "    .dataframe tbody tr th {\n",
       "        vertical-align: top;\n",
       "    }\n",
       "\n",
       "    .dataframe thead th {\n",
       "        text-align: right;\n",
       "    }\n",
       "</style>\n",
       "<table border=\"1\" class=\"dataframe\">\n",
       "  <thead>\n",
       "    <tr style=\"text-align: right;\">\n",
       "      <th></th>\n",
       "      <th>도시</th>\n",
       "      <th>연도</th>\n",
       "      <th>인구</th>\n",
       "      <th>데이터1</th>\n",
       "      <th>데이터2</th>\n",
       "    </tr>\n",
       "  </thead>\n",
       "  <tbody>\n",
       "    <tr>\n",
       "      <th>0</th>\n",
       "      <td>서울</td>\n",
       "      <td>2000</td>\n",
       "      <td>9853972</td>\n",
       "      <td>4</td>\n",
       "      <td>5</td>\n",
       "    </tr>\n",
       "    <tr>\n",
       "      <th>1</th>\n",
       "      <td>서울</td>\n",
       "      <td>2005</td>\n",
       "      <td>9762546</td>\n",
       "      <td>6</td>\n",
       "      <td>7</td>\n",
       "    </tr>\n",
       "    <tr>\n",
       "      <th>2</th>\n",
       "      <td>서울</td>\n",
       "      <td>2010</td>\n",
       "      <td>9631482</td>\n",
       "      <td>8</td>\n",
       "      <td>9</td>\n",
       "    </tr>\n",
       "    <tr>\n",
       "      <th>3</th>\n",
       "      <td>부산</td>\n",
       "      <td>2000</td>\n",
       "      <td>3655437</td>\n",
       "      <td>0</td>\n",
       "      <td>1</td>\n",
       "    </tr>\n",
       "    <tr>\n",
       "      <th>4</th>\n",
       "      <td>부산</td>\n",
       "      <td>2005</td>\n",
       "      <td>3512547</td>\n",
       "      <td>2</td>\n",
       "      <td>3</td>\n",
       "    </tr>\n",
       "  </tbody>\n",
       "</table>\n",
       "</div>"
      ],
      "text/plain": [
       "   도시    연도       인구  데이터1  데이터2\n",
       "0  서울  2000  9853972     4     5\n",
       "1  서울  2005  9762546     6     7\n",
       "2  서울  2010  9631482     8     9\n",
       "3  부산  2000  3655437     0     1\n",
       "4  부산  2005  3512547     2     3"
      ]
     },
     "execution_count": 31,
     "metadata": {},
     "output_type": "execute_result"
    }
   ],
   "source": [
    "# 필드와 이중 인덱스\n",
    "# 인덱스를 기준 열로 사용하는 경우(한쪽은 컬럼, 한쪽은 인덱스)\n",
    "df1 = pd.DataFrame({\n",
    "    '도시': ['서울', '서울', '서울', '부산', '부산'],\n",
    "    '연도': [2000, 2005, 2010, 2000, 2005],\n",
    "    '인구': [9853972, 9762546, 9631482, 3655437, 3512547]})\n",
    "print(df1)\n",
    "print(\"------------------------------\")\n",
    "\n",
    "\n",
    "df2 = pd.DataFrame(\n",
    "    np.arange(12).reshape((6, 2)),\n",
    "    index=[['부산', '부산', '서울', '서울', '서울', '서울'],\n",
    "           [2000, 2005, 2000, 2005, 2010, 2015]],\n",
    "    columns=['데이터1', '데이터2'])\n",
    "print(df2)\n",
    "print(\"------------------------------\")\n",
    "df2\n",
    "\n",
    "pd.merge(df1, df2, left_on=['도시','연도'], right_index= True)   # 오른쪽 테이블은 인덱스를 키로 사용한다"
   ]
  },
  {
   "cell_type": "code",
   "execution_count": 36,
   "id": "996a3124",
   "metadata": {},
   "outputs": [
    {
     "name": "stdout",
     "output_type": "stream",
     "text": [
      "    서울   부산\n",
      "a  1.0  2.0\n",
      "c  3.0  4.0\n",
      "e  5.0  6.0\n",
      "------------------------------\n",
      "     대구    광주\n",
      "b   7.0   8.0\n",
      "c   9.0  10.0\n",
      "d  11.0  12.0\n",
      "e  13.0  14.0\n",
      "========================================\n"
     ]
    },
    {
     "data": {
      "text/html": [
       "<div>\n",
       "<style scoped>\n",
       "    .dataframe tbody tr th:only-of-type {\n",
       "        vertical-align: middle;\n",
       "    }\n",
       "\n",
       "    .dataframe tbody tr th {\n",
       "        vertical-align: top;\n",
       "    }\n",
       "\n",
       "    .dataframe thead th {\n",
       "        text-align: right;\n",
       "    }\n",
       "</style>\n",
       "<table border=\"1\" class=\"dataframe\">\n",
       "  <thead>\n",
       "    <tr style=\"text-align: right;\">\n",
       "      <th></th>\n",
       "      <th>서울</th>\n",
       "      <th>부산</th>\n",
       "      <th>대구</th>\n",
       "      <th>광주</th>\n",
       "    </tr>\n",
       "  </thead>\n",
       "  <tbody>\n",
       "    <tr>\n",
       "      <th>c</th>\n",
       "      <td>3.0</td>\n",
       "      <td>4.0</td>\n",
       "      <td>9.0</td>\n",
       "      <td>10.0</td>\n",
       "    </tr>\n",
       "    <tr>\n",
       "      <th>e</th>\n",
       "      <td>5.0</td>\n",
       "      <td>6.0</td>\n",
       "      <td>13.0</td>\n",
       "      <td>14.0</td>\n",
       "    </tr>\n",
       "  </tbody>\n",
       "</table>\n",
       "</div>"
      ],
      "text/plain": [
       "    서울   부산    대구    광주\n",
       "c  3.0  4.0   9.0  10.0\n",
       "e  5.0  6.0  13.0  14.0"
      ]
     },
     "execution_count": 36,
     "metadata": {},
     "output_type": "execute_result"
    }
   ],
   "source": [
    "# 공통된 키가 둘 다 인덱스 인 경우\n",
    "df1 = pd.DataFrame(\n",
    "    [[1., 2.], [3., 4.], [5., 6.]],\n",
    "    index=['a', 'c', 'e'],\n",
    "    columns=['서울', '부산'])\n",
    "print(df1)\n",
    "print(\"------------------------------\")\n",
    "\n",
    "\n",
    "df2 = pd.DataFrame(\n",
    "    [[7., 8.], [9., 10.], [11., 12.], [13, 14]],\n",
    "    index=['b', 'c', 'd', 'e'],\n",
    "    columns=['대구', '광주'])\n",
    "print(df2)\n",
    "print(\"========================================\")\n",
    "pd.merge(df1, df2, left_index=True, right_index=True, how='outer')\n",
    "df1.join(df2, how='inner') # defualt는 left outer join. 키가 둘 다 인덱스인 경우 사용 가능"
   ]
  },
  {
   "cell_type": "markdown",
   "id": "57895fe8",
   "metadata": {},
   "source": [
    "### (2) concat()\n",
    "    단순 병합\n",
    "    iterable로 한번에 묶어서 테이블 전달"
   ]
  },
  {
   "cell_type": "markdown",
   "id": "1dc0822a",
   "metadata": {},
   "source": [
    "#### 1) Series에서 사용"
   ]
  },
  {
   "cell_type": "code",
   "execution_count": 41,
   "id": "d0b4cd0c",
   "metadata": {},
   "outputs": [
    {
     "name": "stdout",
     "output_type": "stream",
     "text": [
      "a    0\n",
      "b    1\n",
      "dtype: int64\n",
      "a    0\n",
      "b    3\n",
      "c    4\n",
      "dtype: int64\n"
     ]
    },
    {
     "data": {
      "text/plain": [
       "a    0\n",
       "b    1\n",
       "a    0\n",
       "b    3\n",
       "c    4\n",
       "dtype: int64"
      ]
     },
     "execution_count": 41,
     "metadata": {},
     "output_type": "execute_result"
    }
   ],
   "source": [
    "s1= pd.Series([0,1], index=['a','b'])\n",
    "s2= pd.Series([2,3,4], index=['a','b','c'])\n",
    "print(s1)\n",
    "print(s2)\n",
    "\n",
    "pd.concat([s1,s2])"
   ]
  },
  {
   "cell_type": "markdown",
   "id": "87254dcd",
   "metadata": {},
   "source": [
    "#### 2) DataFrame에서 사용\n",
    "    axis=0: 열 방향 병합\n",
    "    axis=1: 행 방향 병합"
   ]
  },
  {
   "cell_type": "code",
   "execution_count": 48,
   "id": "57f55f2e",
   "metadata": {},
   "outputs": [
    {
     "name": "stdout",
     "output_type": "stream",
     "text": [
      "   d1  d2\n",
      "a   0   1\n",
      "b   2   3\n",
      "c   4   5\n",
      "   d3  d3\n",
      "a   0   1\n",
      "c   2   3\n"
     ]
    },
    {
     "data": {
      "text/html": [
       "<div>\n",
       "<style scoped>\n",
       "    .dataframe tbody tr th:only-of-type {\n",
       "        vertical-align: middle;\n",
       "    }\n",
       "\n",
       "    .dataframe tbody tr th {\n",
       "        vertical-align: top;\n",
       "    }\n",
       "\n",
       "    .dataframe thead th {\n",
       "        text-align: right;\n",
       "    }\n",
       "</style>\n",
       "<table border=\"1\" class=\"dataframe\">\n",
       "  <thead>\n",
       "    <tr style=\"text-align: right;\">\n",
       "      <th></th>\n",
       "      <th>d1</th>\n",
       "      <th>d2</th>\n",
       "      <th>d3</th>\n",
       "      <th>d3</th>\n",
       "    </tr>\n",
       "  </thead>\n",
       "  <tbody>\n",
       "    <tr>\n",
       "      <th>a</th>\n",
       "      <td>0</td>\n",
       "      <td>1</td>\n",
       "      <td>0.0</td>\n",
       "      <td>1.0</td>\n",
       "    </tr>\n",
       "    <tr>\n",
       "      <th>b</th>\n",
       "      <td>2</td>\n",
       "      <td>3</td>\n",
       "      <td>NaN</td>\n",
       "      <td>NaN</td>\n",
       "    </tr>\n",
       "    <tr>\n",
       "      <th>c</th>\n",
       "      <td>4</td>\n",
       "      <td>5</td>\n",
       "      <td>2.0</td>\n",
       "      <td>3.0</td>\n",
       "    </tr>\n",
       "  </tbody>\n",
       "</table>\n",
       "</div>"
      ],
      "text/plain": [
       "   d1  d2   d3   d3\n",
       "a   0   1  0.0  1.0\n",
       "b   2   3  NaN  NaN\n",
       "c   4   5  2.0  3.0"
      ]
     },
     "execution_count": 48,
     "metadata": {},
     "output_type": "execute_result"
    }
   ],
   "source": [
    "np.random.seed(1)\n",
    "df1= pd.DataFrame(np.arange(6).reshape(3,2), index=['a','b','c'], columns=['d1','d2'])\n",
    "print(df1)\n",
    "df2= pd.DataFrame(np.arange(4).reshape(2,2), index=['a','c'], columns=['d3','d3'])\n",
    "print(df2)\n",
    "pd.concat([df1,df2], axis=1)  #axis=0은 열 방향 병합이라 행 개수 안맞음"
   ]
  },
  {
   "cell_type": "markdown",
   "id": "85405134",
   "metadata": {},
   "source": [
    "## 5. 그룹분석\n",
    "    pivot()   간단\n",
    "        pd.DataFrame.pivot(self, index=None, columns=None, values=None) -> 'DataFrame'\n",
    "        \n",
    "    groupby() 집계함수와 함께 사용\n",
    "        pd.DataFrame.groupby(self, by=None, axis: 'Axis' = 0, level: 'Level | None' = None, as_index: 'bool' = True,\n",
    "                                sort: 'bool' = True, group_keys: 'bool' = True, squeeze: 'bool | lib.NoDefault' = <no_default>,\n",
    "                                observed: 'bool' = False, dropna: 'bool' = True,) -> 'DataFrameGroupBy'\n",
    "    pivot_table()\n",
    "        pd.DataFrame.pivot_table( self, values=None, index=None, columns=None, aggfunc='mean', fill_value=None, margins=False,\n",
    "                                    dropna=True, margins_name='All',observed=False, sort=True,) -> 'DataFrame'"
   ]
  },
  {
   "cell_type": "markdown",
   "id": "f564fcab",
   "metadata": {},
   "source": [
    "### (1) pivot()\n",
    "    그룹별로 묶는 기준이 인덱스\n",
    "    데이터를 구분하는 기준은 컬럼"
   ]
  },
  {
   "cell_type": "code",
   "execution_count": 78,
   "id": "1dae6ba0",
   "metadata": {},
   "outputs": [
    {
     "data": {
      "text/html": [
       "<div>\n",
       "<style scoped>\n",
       "    .dataframe tbody tr th:only-of-type {\n",
       "        vertical-align: middle;\n",
       "    }\n",
       "\n",
       "    .dataframe tbody tr th {\n",
       "        vertical-align: top;\n",
       "    }\n",
       "\n",
       "    .dataframe thead th {\n",
       "        text-align: right;\n",
       "    }\n",
       "</style>\n",
       "<table border=\"1\" class=\"dataframe\">\n",
       "  <thead>\n",
       "    <tr style=\"text-align: right;\">\n",
       "      <th></th>\n",
       "      <th>도시</th>\n",
       "      <th>연도</th>\n",
       "      <th>인구</th>\n",
       "      <th>지역</th>\n",
       "    </tr>\n",
       "  </thead>\n",
       "  <tbody>\n",
       "    <tr>\n",
       "      <th>0</th>\n",
       "      <td>서울</td>\n",
       "      <td>2015</td>\n",
       "      <td>9904312</td>\n",
       "      <td>수도권</td>\n",
       "    </tr>\n",
       "    <tr>\n",
       "      <th>1</th>\n",
       "      <td>서울</td>\n",
       "      <td>2010</td>\n",
       "      <td>9631482</td>\n",
       "      <td>수도권</td>\n",
       "    </tr>\n",
       "    <tr>\n",
       "      <th>2</th>\n",
       "      <td>서울</td>\n",
       "      <td>2005</td>\n",
       "      <td>9762546</td>\n",
       "      <td>수도권</td>\n",
       "    </tr>\n",
       "    <tr>\n",
       "      <th>3</th>\n",
       "      <td>부산</td>\n",
       "      <td>2015</td>\n",
       "      <td>3448737</td>\n",
       "      <td>경상권</td>\n",
       "    </tr>\n",
       "    <tr>\n",
       "      <th>4</th>\n",
       "      <td>부산</td>\n",
       "      <td>2010</td>\n",
       "      <td>3393191</td>\n",
       "      <td>경상권</td>\n",
       "    </tr>\n",
       "    <tr>\n",
       "      <th>5</th>\n",
       "      <td>부산</td>\n",
       "      <td>2005</td>\n",
       "      <td>3512547</td>\n",
       "      <td>경상권</td>\n",
       "    </tr>\n",
       "    <tr>\n",
       "      <th>6</th>\n",
       "      <td>인천</td>\n",
       "      <td>2015</td>\n",
       "      <td>2890451</td>\n",
       "      <td>수도권</td>\n",
       "    </tr>\n",
       "    <tr>\n",
       "      <th>7</th>\n",
       "      <td>인천</td>\n",
       "      <td>2010</td>\n",
       "      <td>263203</td>\n",
       "      <td>수도권</td>\n",
       "    </tr>\n",
       "  </tbody>\n",
       "</table>\n",
       "</div>"
      ],
      "text/plain": [
       "   도시    연도       인구   지역\n",
       "0  서울  2015  9904312  수도권\n",
       "1  서울  2010  9631482  수도권\n",
       "2  서울  2005  9762546  수도권\n",
       "3  부산  2015  3448737  경상권\n",
       "4  부산  2010  3393191  경상권\n",
       "5  부산  2005  3512547  경상권\n",
       "6  인천  2015  2890451  수도권\n",
       "7  인천  2010   263203  수도권"
      ]
     },
     "execution_count": 78,
     "metadata": {},
     "output_type": "execute_result"
    }
   ],
   "source": [
    "data = {\n",
    "    \"도시\": [\"서울\", \"서울\", \"서울\", \"부산\", \"부산\", \"부산\", \"인천\", \"인천\"],\n",
    "    \"연도\": [\"2015\", \"2010\", \"2005\", \"2015\", \"2010\", \"2005\", \"2015\", \"2010\"],\n",
    "    \"인구\": [9904312, 9631482, 9762546, 3448737, 3393191, 3512547, 2890451, 263203],\n",
    "    \"지역\": [\"수도권\", \"수도권\", \"수도권\", \"경상권\", \"경상권\", \"경상권\", \"수도권\", \"수도권\"]\n",
    "}\n",
    "\n",
    "df = pd.DataFrame(data)\n",
    "df"
   ]
  },
  {
   "cell_type": "code",
   "execution_count": 124,
   "id": "90e3def4",
   "metadata": {},
   "outputs": [
    {
     "data": {
      "text/html": [
       "<div>\n",
       "<style scoped>\n",
       "    .dataframe tbody tr th:only-of-type {\n",
       "        vertical-align: middle;\n",
       "    }\n",
       "\n",
       "    .dataframe tbody tr th {\n",
       "        vertical-align: top;\n",
       "    }\n",
       "\n",
       "    .dataframe thead th {\n",
       "        text-align: right;\n",
       "    }\n",
       "</style>\n",
       "<table border=\"1\" class=\"dataframe\">\n",
       "  <thead>\n",
       "    <tr style=\"text-align: right;\">\n",
       "      <th>연도</th>\n",
       "      <th>2005</th>\n",
       "      <th>2010</th>\n",
       "      <th>2015</th>\n",
       "    </tr>\n",
       "    <tr>\n",
       "      <th>도시</th>\n",
       "      <th></th>\n",
       "      <th></th>\n",
       "      <th></th>\n",
       "    </tr>\n",
       "  </thead>\n",
       "  <tbody>\n",
       "    <tr>\n",
       "      <th>부산</th>\n",
       "      <td>3512547.0</td>\n",
       "      <td>3393191.0</td>\n",
       "      <td>3448737.0</td>\n",
       "    </tr>\n",
       "    <tr>\n",
       "      <th>서울</th>\n",
       "      <td>9762546.0</td>\n",
       "      <td>9631482.0</td>\n",
       "      <td>9904312.0</td>\n",
       "    </tr>\n",
       "    <tr>\n",
       "      <th>인천</th>\n",
       "      <td>NaN</td>\n",
       "      <td>263203.0</td>\n",
       "      <td>2890451.0</td>\n",
       "    </tr>\n",
       "  </tbody>\n",
       "</table>\n",
       "</div>"
      ],
      "text/plain": [
       "연도       2005       2010       2015\n",
       "도시                                 \n",
       "부산  3512547.0  3393191.0  3448737.0\n",
       "서울  9762546.0  9631482.0  9904312.0\n",
       "인천        NaN   263203.0  2890451.0"
      ]
     },
     "execution_count": 124,
     "metadata": {},
     "output_type": "execute_result"
    }
   ],
   "source": [
    "# 각 도시에서 연도별 인구 수\n",
    "df.pivot(index='도시', columns='연도', values='인구')\n",
    "#df.pivot('지역','연도','인구')  # 지역 별 합계 계산 불가"
   ]
  },
  {
   "cell_type": "code",
   "execution_count": 88,
   "id": "a7569281",
   "metadata": {},
   "outputs": [
    {
     "data": {
      "text/html": [
       "<div>\n",
       "<style scoped>\n",
       "    .dataframe tbody tr th:only-of-type {\n",
       "        vertical-align: middle;\n",
       "    }\n",
       "\n",
       "    .dataframe tbody tr th {\n",
       "        vertical-align: top;\n",
       "    }\n",
       "\n",
       "    .dataframe thead tr th {\n",
       "        text-align: left;\n",
       "    }\n",
       "\n",
       "    .dataframe thead tr:last-of-type th {\n",
       "        text-align: right;\n",
       "    }\n",
       "</style>\n",
       "<table border=\"1\" class=\"dataframe\">\n",
       "  <thead>\n",
       "    <tr>\n",
       "      <th></th>\n",
       "      <th colspan=\"3\" halign=\"left\">인구</th>\n",
       "    </tr>\n",
       "    <tr>\n",
       "      <th>연도</th>\n",
       "      <th>2005</th>\n",
       "      <th>2010</th>\n",
       "      <th>2015</th>\n",
       "    </tr>\n",
       "    <tr>\n",
       "      <th>도시</th>\n",
       "      <th></th>\n",
       "      <th></th>\n",
       "      <th></th>\n",
       "    </tr>\n",
       "  </thead>\n",
       "  <tbody>\n",
       "    <tr>\n",
       "      <th>부산</th>\n",
       "      <td>3512547.0</td>\n",
       "      <td>3393191.0</td>\n",
       "      <td>3448737.0</td>\n",
       "    </tr>\n",
       "    <tr>\n",
       "      <th>서울</th>\n",
       "      <td>9762546.0</td>\n",
       "      <td>9631482.0</td>\n",
       "      <td>9904312.0</td>\n",
       "    </tr>\n",
       "    <tr>\n",
       "      <th>인천</th>\n",
       "      <td>NaN</td>\n",
       "      <td>263203.0</td>\n",
       "      <td>2890451.0</td>\n",
       "    </tr>\n",
       "  </tbody>\n",
       "</table>\n",
       "</div>"
      ],
      "text/plain": [
       "           인구                      \n",
       "연도       2005       2010       2015\n",
       "도시                                 \n",
       "부산  3512547.0  3393191.0  3448737.0\n",
       "서울  9762546.0  9631482.0  9904312.0\n",
       "인천        NaN   263203.0  2890451.0"
      ]
     },
     "execution_count": 88,
     "metadata": {},
     "output_type": "execute_result"
    }
   ],
   "source": [
    "df1= df.set_index(['도시','연도'])[['인구']]\n",
    "df1.unstack('연도')"
   ]
  },
  {
   "cell_type": "markdown",
   "id": "45843615",
   "metadata": {},
   "source": [
    "### (2) groupby()\n",
    "    그룹으로 묶은 후 반드시 집계함수와 함께 사용: \n",
    "        size(), count(), \n",
    "        mean(), median(), min(), max(), \n",
    "        sum(), product(), std(), var(), quantile()\n",
    "        first(), last()\n",
    "        agg(), aggregate(), apply(), transform()\n",
    "        describe()\n",
    "        ..."
   ]
  },
  {
   "cell_type": "code",
   "execution_count": 92,
   "id": "9eea8a89",
   "metadata": {},
   "outputs": [
    {
     "data": {
      "text/html": [
       "<div>\n",
       "<style scoped>\n",
       "    .dataframe tbody tr th:only-of-type {\n",
       "        vertical-align: middle;\n",
       "    }\n",
       "\n",
       "    .dataframe tbody tr th {\n",
       "        vertical-align: top;\n",
       "    }\n",
       "\n",
       "    .dataframe thead th {\n",
       "        text-align: right;\n",
       "    }\n",
       "</style>\n",
       "<table border=\"1\" class=\"dataframe\">\n",
       "  <thead>\n",
       "    <tr style=\"text-align: right;\">\n",
       "      <th></th>\n",
       "      <th>key1</th>\n",
       "      <th>key2</th>\n",
       "      <th>data1</th>\n",
       "      <th>data2</th>\n",
       "    </tr>\n",
       "  </thead>\n",
       "  <tbody>\n",
       "    <tr>\n",
       "      <th>0</th>\n",
       "      <td>A</td>\n",
       "      <td>one</td>\n",
       "      <td>1</td>\n",
       "      <td>10</td>\n",
       "    </tr>\n",
       "    <tr>\n",
       "      <th>1</th>\n",
       "      <td>A</td>\n",
       "      <td>two</td>\n",
       "      <td>2</td>\n",
       "      <td>20</td>\n",
       "    </tr>\n",
       "    <tr>\n",
       "      <th>2</th>\n",
       "      <td>B</td>\n",
       "      <td>one</td>\n",
       "      <td>3</td>\n",
       "      <td>30</td>\n",
       "    </tr>\n",
       "    <tr>\n",
       "      <th>3</th>\n",
       "      <td>B</td>\n",
       "      <td>two</td>\n",
       "      <td>4</td>\n",
       "      <td>40</td>\n",
       "    </tr>\n",
       "    <tr>\n",
       "      <th>4</th>\n",
       "      <td>A</td>\n",
       "      <td>one</td>\n",
       "      <td>5</td>\n",
       "      <td>50</td>\n",
       "    </tr>\n",
       "  </tbody>\n",
       "</table>\n",
       "</div>"
      ],
      "text/plain": [
       "  key1 key2  data1  data2\n",
       "0    A  one      1     10\n",
       "1    A  two      2     20\n",
       "2    B  one      3     30\n",
       "3    B  two      4     40\n",
       "4    A  one      5     50"
      ]
     },
     "execution_count": 92,
     "metadata": {},
     "output_type": "execute_result"
    }
   ],
   "source": [
    "df2 = pd.DataFrame({\n",
    "    \"key1\":[\"A\", \"A\", \"B\", \"B\", \"A\"],\n",
    "    \"key2\":[\"one\", \"two\", \"one\", \"two\", \"one\"],\n",
    "    \"data1\":[1, 2, 3, 4, 5],\n",
    "    \"data2\":[10, 20, 30, 40, 50]\n",
    "})\n",
    "df2"
   ]
  },
  {
   "cell_type": "code",
   "execution_count": 98,
   "id": "30baef8c",
   "metadata": {},
   "outputs": [
    {
     "name": "stdout",
     "output_type": "stream",
     "text": [
      "      data1  data2\n",
      "key1              \n",
      "A         8     80\n",
      "B         7     70\n",
      "-------------------\n",
      "      data1  data2\n",
      "key1              \n",
      "A         8     80\n",
      "B         7     70\n",
      "-------------------\n",
      "key1\n",
      "A    8\n",
      "B    7\n",
      "Name: data1, dtype: int64\n"
     ]
    }
   ],
   "source": [
    "# 다양한 접근표현\n",
    "print(df2.groupby(by='key1').sum())   # 합계를 낼 수 있는게 아니면 자동 생략\n",
    "print('-------------------')\n",
    "print(df2[['data1','data2']].groupby(df2.key1).sum())\n",
    "print('-------------------')\n",
    "print(df2.groupby(by='key1')['data1'].sum())"
   ]
  },
  {
   "cell_type": "code",
   "execution_count": 103,
   "id": "4fc43a40",
   "metadata": {},
   "outputs": [
    {
     "data": {
      "text/html": [
       "<div>\n",
       "<style scoped>\n",
       "    .dataframe tbody tr th:only-of-type {\n",
       "        vertical-align: middle;\n",
       "    }\n",
       "\n",
       "    .dataframe tbody tr th {\n",
       "        vertical-align: top;\n",
       "    }\n",
       "\n",
       "    .dataframe thead th {\n",
       "        text-align: right;\n",
       "    }\n",
       "</style>\n",
       "<table border=\"1\" class=\"dataframe\">\n",
       "  <thead>\n",
       "    <tr style=\"text-align: right;\">\n",
       "      <th>key2</th>\n",
       "      <th>one</th>\n",
       "      <th>two</th>\n",
       "    </tr>\n",
       "    <tr>\n",
       "      <th>key1</th>\n",
       "      <th></th>\n",
       "      <th></th>\n",
       "    </tr>\n",
       "  </thead>\n",
       "  <tbody>\n",
       "    <tr>\n",
       "      <th>A</th>\n",
       "      <td>6</td>\n",
       "      <td>2</td>\n",
       "    </tr>\n",
       "    <tr>\n",
       "      <th>B</th>\n",
       "      <td>3</td>\n",
       "      <td>4</td>\n",
       "    </tr>\n",
       "  </tbody>\n",
       "</table>\n",
       "</div>"
      ],
      "text/plain": [
       "key2  one  two\n",
       "key1          \n",
       "A       6    2\n",
       "B       3    4"
      ]
     },
     "execution_count": 103,
     "metadata": {},
     "output_type": "execute_result"
    }
   ],
   "source": [
    "# 복합키\n",
    "df2.groupby(['key1','key2']).sum()\n",
    "df2.data1.groupby([df2.key1,df2.key2]).sum()\n",
    "df2.data1.groupby([df2.key1,df2.key2]).sum().unstack()  #unstack 인자 생략하면 가장 안쪽의 인덱스를 컬럼으로"
   ]
  },
  {
   "cell_type": "code",
   "execution_count": 110,
   "id": "c5195818",
   "metadata": {},
   "outputs": [
    {
     "data": {
      "text/html": [
       "<div>\n",
       "<style scoped>\n",
       "    .dataframe tbody tr th:only-of-type {\n",
       "        vertical-align: middle;\n",
       "    }\n",
       "\n",
       "    .dataframe tbody tr th {\n",
       "        vertical-align: top;\n",
       "    }\n",
       "\n",
       "    .dataframe thead tr th {\n",
       "        text-align: left;\n",
       "    }\n",
       "\n",
       "    .dataframe thead tr:last-of-type th {\n",
       "        text-align: right;\n",
       "    }\n",
       "</style>\n",
       "<table border=\"1\" class=\"dataframe\">\n",
       "  <thead>\n",
       "    <tr>\n",
       "      <th></th>\n",
       "      <th colspan=\"3\" halign=\"left\">인구</th>\n",
       "    </tr>\n",
       "    <tr>\n",
       "      <th>연도</th>\n",
       "      <th>2005</th>\n",
       "      <th>2010</th>\n",
       "      <th>2015</th>\n",
       "    </tr>\n",
       "    <tr>\n",
       "      <th>도시</th>\n",
       "      <th></th>\n",
       "      <th></th>\n",
       "      <th></th>\n",
       "    </tr>\n",
       "  </thead>\n",
       "  <tbody>\n",
       "    <tr>\n",
       "      <th>부산</th>\n",
       "      <td>3512547.0</td>\n",
       "      <td>3393191.0</td>\n",
       "      <td>3448737.0</td>\n",
       "    </tr>\n",
       "    <tr>\n",
       "      <th>서울</th>\n",
       "      <td>9762546.0</td>\n",
       "      <td>9631482.0</td>\n",
       "      <td>9904312.0</td>\n",
       "    </tr>\n",
       "    <tr>\n",
       "      <th>인천</th>\n",
       "      <td>NaN</td>\n",
       "      <td>263203.0</td>\n",
       "      <td>2890451.0</td>\n",
       "    </tr>\n",
       "  </tbody>\n",
       "</table>\n",
       "</div>"
      ],
      "text/plain": [
       "           인구                      \n",
       "연도       2005       2010       2015\n",
       "도시                                 \n",
       "부산  3512547.0  3393191.0  3448737.0\n",
       "서울  9762546.0  9631482.0  9904312.0\n",
       "인천        NaN   263203.0  2890451.0"
      ]
     },
     "execution_count": 110,
     "metadata": {},
     "output_type": "execute_result"
    }
   ],
   "source": [
    "# 각 도시에서 연도별 인구수\n",
    "df\n",
    "df.인구.groupby([df['도시'],df['연도']]).sum().unstack('연도')\n",
    "df.groupby(['도시','연도']).sum().unstack()\n",
    "df.pivot('도시','연도','인구')"
   ]
  },
  {
   "cell_type": "code",
   "execution_count": 125,
   "id": "39281c53",
   "metadata": {},
   "outputs": [
    {
     "data": {
      "text/html": [
       "<div>\n",
       "<style scoped>\n",
       "    .dataframe tbody tr th:only-of-type {\n",
       "        vertical-align: middle;\n",
       "    }\n",
       "\n",
       "    .dataframe tbody tr th {\n",
       "        vertical-align: top;\n",
       "    }\n",
       "\n",
       "    .dataframe thead tr th {\n",
       "        text-align: left;\n",
       "    }\n",
       "\n",
       "    .dataframe thead tr:last-of-type th {\n",
       "        text-align: right;\n",
       "    }\n",
       "</style>\n",
       "<table border=\"1\" class=\"dataframe\">\n",
       "  <thead>\n",
       "    <tr>\n",
       "      <th></th>\n",
       "      <th colspan=\"3\" halign=\"left\">인구</th>\n",
       "    </tr>\n",
       "    <tr>\n",
       "      <th>연도</th>\n",
       "      <th>2005</th>\n",
       "      <th>2010</th>\n",
       "      <th>2015</th>\n",
       "    </tr>\n",
       "    <tr>\n",
       "      <th>지역</th>\n",
       "      <th></th>\n",
       "      <th></th>\n",
       "      <th></th>\n",
       "    </tr>\n",
       "  </thead>\n",
       "  <tbody>\n",
       "    <tr>\n",
       "      <th>경상권</th>\n",
       "      <td>3512547</td>\n",
       "      <td>3393191</td>\n",
       "      <td>3448737</td>\n",
       "    </tr>\n",
       "    <tr>\n",
       "      <th>수도권</th>\n",
       "      <td>9762546</td>\n",
       "      <td>9894685</td>\n",
       "      <td>12794763</td>\n",
       "    </tr>\n",
       "  </tbody>\n",
       "</table>\n",
       "</div>"
      ],
      "text/plain": [
       "          인구                   \n",
       "연도      2005     2010      2015\n",
       "지역                             \n",
       "경상권  3512547  3393191   3448737\n",
       "수도권  9762546  9894685  12794763"
      ]
     },
     "execution_count": 125,
     "metadata": {},
     "output_type": "execute_result"
    }
   ],
   "source": [
    "# 컬럼은 연도 인덱스 지역\n",
    "\n",
    "df.groupby(['지역','연도']).sum().unstack('연도')\n",
    "# df.pivot('지역','연도','인구') # pivot은 합계 계산 불가"
   ]
  },
  {
   "cell_type": "markdown",
   "id": "e0c748a1",
   "metadata": {},
   "source": [
    "#### agg(), apply(), transform()\n",
    "    세 함수를 구분하기 어렵다\n",
    "    \n",
    "    df.apply(함수): 데이터프레임의 각 열(column)이나 시리즈의 각 요소에 대해 적용할 함수를 지정하여, \n",
    "            해당 함수의 반환값을 새로운 데이터프레임이나 시리즈로 만들 수 있습니다.\n",
    "            \n",
    "    df.agg(): 동시에 여러가시 함수를 적용하고 싶을 때\n",
    "        iris.groupby('species').agg([np.sum, np.mean, np.std, ...])\n",
    "        \n",
    "    df.transform(): 모든 데이터에 대해 함수 적용\n",
    "        그룹화된 데이터를 원래의 데이터프레임 또는 시리즈의 크기와 동일한 형태로 변환합니다."
   ]
  },
  {
   "cell_type": "code",
   "execution_count": 126,
   "id": "beef9a06",
   "metadata": {},
   "outputs": [
    {
     "data": {
      "text/html": [
       "<div>\n",
       "<style scoped>\n",
       "    .dataframe tbody tr th:only-of-type {\n",
       "        vertical-align: middle;\n",
       "    }\n",
       "\n",
       "    .dataframe tbody tr th {\n",
       "        vertical-align: top;\n",
       "    }\n",
       "\n",
       "    .dataframe thead th {\n",
       "        text-align: right;\n",
       "    }\n",
       "</style>\n",
       "<table border=\"1\" class=\"dataframe\">\n",
       "  <thead>\n",
       "    <tr style=\"text-align: right;\">\n",
       "      <th></th>\n",
       "      <th>sepal_length</th>\n",
       "      <th>sepal_width</th>\n",
       "      <th>petal_length</th>\n",
       "      <th>petal_width</th>\n",
       "      <th>species</th>\n",
       "    </tr>\n",
       "  </thead>\n",
       "  <tbody>\n",
       "    <tr>\n",
       "      <th>0</th>\n",
       "      <td>5.1</td>\n",
       "      <td>3.5</td>\n",
       "      <td>1.4</td>\n",
       "      <td>0.2</td>\n",
       "      <td>setosa</td>\n",
       "    </tr>\n",
       "    <tr>\n",
       "      <th>1</th>\n",
       "      <td>4.9</td>\n",
       "      <td>3.0</td>\n",
       "      <td>1.4</td>\n",
       "      <td>0.2</td>\n",
       "      <td>setosa</td>\n",
       "    </tr>\n",
       "    <tr>\n",
       "      <th>2</th>\n",
       "      <td>4.7</td>\n",
       "      <td>3.2</td>\n",
       "      <td>1.3</td>\n",
       "      <td>0.2</td>\n",
       "      <td>setosa</td>\n",
       "    </tr>\n",
       "    <tr>\n",
       "      <th>3</th>\n",
       "      <td>4.6</td>\n",
       "      <td>3.1</td>\n",
       "      <td>1.5</td>\n",
       "      <td>0.2</td>\n",
       "      <td>setosa</td>\n",
       "    </tr>\n",
       "    <tr>\n",
       "      <th>4</th>\n",
       "      <td>5.0</td>\n",
       "      <td>3.6</td>\n",
       "      <td>1.4</td>\n",
       "      <td>0.2</td>\n",
       "      <td>setosa</td>\n",
       "    </tr>\n",
       "    <tr>\n",
       "      <th>...</th>\n",
       "      <td>...</td>\n",
       "      <td>...</td>\n",
       "      <td>...</td>\n",
       "      <td>...</td>\n",
       "      <td>...</td>\n",
       "    </tr>\n",
       "    <tr>\n",
       "      <th>145</th>\n",
       "      <td>6.7</td>\n",
       "      <td>3.0</td>\n",
       "      <td>5.2</td>\n",
       "      <td>2.3</td>\n",
       "      <td>virginica</td>\n",
       "    </tr>\n",
       "    <tr>\n",
       "      <th>146</th>\n",
       "      <td>6.3</td>\n",
       "      <td>2.5</td>\n",
       "      <td>5.0</td>\n",
       "      <td>1.9</td>\n",
       "      <td>virginica</td>\n",
       "    </tr>\n",
       "    <tr>\n",
       "      <th>147</th>\n",
       "      <td>6.5</td>\n",
       "      <td>3.0</td>\n",
       "      <td>5.2</td>\n",
       "      <td>2.0</td>\n",
       "      <td>virginica</td>\n",
       "    </tr>\n",
       "    <tr>\n",
       "      <th>148</th>\n",
       "      <td>6.2</td>\n",
       "      <td>3.4</td>\n",
       "      <td>5.4</td>\n",
       "      <td>2.3</td>\n",
       "      <td>virginica</td>\n",
       "    </tr>\n",
       "    <tr>\n",
       "      <th>149</th>\n",
       "      <td>5.9</td>\n",
       "      <td>3.0</td>\n",
       "      <td>5.1</td>\n",
       "      <td>1.8</td>\n",
       "      <td>virginica</td>\n",
       "    </tr>\n",
       "  </tbody>\n",
       "</table>\n",
       "<p>150 rows × 5 columns</p>\n",
       "</div>"
      ],
      "text/plain": [
       "     sepal_length  sepal_width  petal_length  petal_width    species\n",
       "0             5.1          3.5           1.4          0.2     setosa\n",
       "1             4.9          3.0           1.4          0.2     setosa\n",
       "2             4.7          3.2           1.3          0.2     setosa\n",
       "3             4.6          3.1           1.5          0.2     setosa\n",
       "4             5.0          3.6           1.4          0.2     setosa\n",
       "..            ...          ...           ...          ...        ...\n",
       "145           6.7          3.0           5.2          2.3  virginica\n",
       "146           6.3          2.5           5.0          1.9  virginica\n",
       "147           6.5          3.0           5.2          2.0  virginica\n",
       "148           6.2          3.4           5.4          2.3  virginica\n",
       "149           5.9          3.0           5.1          1.8  virginica\n",
       "\n",
       "[150 rows x 5 columns]"
      ]
     },
     "execution_count": 126,
     "metadata": {},
     "output_type": "execute_result"
    }
   ],
   "source": [
    "import seaborn as sns\n",
    "\n",
    "iris= sns.load_dataset('iris')\n",
    "iris"
   ]
  },
  {
   "cell_type": "code",
   "execution_count": 138,
   "id": "b91171fd",
   "metadata": {},
   "outputs": [
    {
     "name": "stdout",
     "output_type": "stream",
     "text": [
      "            sepal_length  sepal_width  petal_length  petal_width\n",
      "species                                                         \n",
      "setosa          1.348837     1.913043      1.900000     6.000000\n",
      "versicolor      1.428571     1.700000      1.700000     1.800000\n",
      "virginica       1.612245     1.727273      1.533333     1.785714\n",
      "-------------------------\n",
      "            sepal_length  sepal_width  petal_length  petal_width\n",
      "species                                                         \n",
      "setosa          1.348837     1.913043      1.900000     6.000000\n",
      "versicolor      1.428571     1.700000      1.700000     1.800000\n",
      "virginica       1.612245     1.727273      1.533333     1.785714\n",
      "-------------------------\n",
      "     sepal_length  sepal_width  petal_length  petal_width\n",
      "0        1.348837     1.913043      1.900000     6.000000\n",
      "1        1.348837     1.913043      1.900000     6.000000\n",
      "2        1.348837     1.913043      1.900000     6.000000\n",
      "3        1.348837     1.913043      1.900000     6.000000\n",
      "4        1.348837     1.913043      1.900000     6.000000\n",
      "..            ...          ...           ...          ...\n",
      "145      1.612245     1.727273      1.533333     1.785714\n",
      "146      1.612245     1.727273      1.533333     1.785714\n",
      "147      1.612245     1.727273      1.533333     1.785714\n",
      "148      1.612245     1.727273      1.533333     1.785714\n",
      "149      1.612245     1.727273      1.533333     1.785714\n",
      "\n",
      "[150 rows x 4 columns]\n"
     ]
    }
   ],
   "source": [
    "# 각 붓꽃별로 가장 큰 값과 가장 작은 값의 비율\n",
    "print(iris.groupby('species').apply(lambda x: x.max()/x.min()))\n",
    "print('-------------------------')\n",
    "print(iris.groupby('species').agg(lambda x: x.max()/x.min()))\n",
    "print('-------------------------')\n",
    "print(iris.groupby('species').transform(lambda x: x.max()/x.min())) #transform만 결과 다름"
   ]
  },
  {
   "cell_type": "code",
   "execution_count": 139,
   "id": "ae6d927c",
   "metadata": {},
   "outputs": [
    {
     "name": "stdout",
     "output_type": "stream",
     "text": [
      "species\n",
      "setosa        1\n",
      "versicolor    1\n",
      "virginica     1\n",
      "dtype: int64\n",
      "--------------------------------\n",
      "            sepal_length  sepal_width  petal_length  petal_width\n",
      "species                                                         \n",
      "setosa                 1            1             1            1\n",
      "versicolor             1            1             1            1\n",
      "virginica              1            1             1            1\n",
      "--------------------------------\n",
      "     sepal_length  sepal_width  petal_length  petal_width\n",
      "0               1            1             1            1\n",
      "1               1            1             1            1\n",
      "2               1            1             1            1\n",
      "3               1            1             1            1\n",
      "4               1            1             1            1\n",
      "..            ...          ...           ...          ...\n",
      "145             1            1             1            1\n",
      "146             1            1             1            1\n",
      "147             1            1             1            1\n",
      "148             1            1             1            1\n",
      "149             1            1             1            1\n",
      "\n",
      "[150 rows x 4 columns]\n"
     ]
    }
   ],
   "source": [
    "def test(x):\n",
    "    return 1\n",
    "\n",
    "print(iris.groupby('species').apply(test))\n",
    "print('--------------------------------')\n",
    "print(iris.groupby('species').agg(test))   # 모든 컬럼을 항상 동반\n",
    "print('--------------------------------')\n",
    "print(iris.groupby('species').transform(test))   # groupby와 관계없이 모든 데이터에 적용"
   ]
  },
  {
   "cell_type": "code",
   "execution_count": 140,
   "id": "a986bbcb",
   "metadata": {},
   "outputs": [
    {
     "data": {
      "text/html": [
       "<div>\n",
       "<style scoped>\n",
       "    .dataframe tbody tr th:only-of-type {\n",
       "        vertical-align: middle;\n",
       "    }\n",
       "\n",
       "    .dataframe tbody tr th {\n",
       "        vertical-align: top;\n",
       "    }\n",
       "\n",
       "    .dataframe thead tr th {\n",
       "        text-align: left;\n",
       "    }\n",
       "\n",
       "    .dataframe thead tr:last-of-type th {\n",
       "        text-align: right;\n",
       "    }\n",
       "</style>\n",
       "<table border=\"1\" class=\"dataframe\">\n",
       "  <thead>\n",
       "    <tr>\n",
       "      <th></th>\n",
       "      <th colspan=\"3\" halign=\"left\">sepal_length</th>\n",
       "      <th colspan=\"3\" halign=\"left\">sepal_width</th>\n",
       "      <th colspan=\"3\" halign=\"left\">petal_length</th>\n",
       "      <th colspan=\"3\" halign=\"left\">petal_width</th>\n",
       "    </tr>\n",
       "    <tr>\n",
       "      <th></th>\n",
       "      <th>sum</th>\n",
       "      <th>mean</th>\n",
       "      <th>std</th>\n",
       "      <th>sum</th>\n",
       "      <th>mean</th>\n",
       "      <th>std</th>\n",
       "      <th>sum</th>\n",
       "      <th>mean</th>\n",
       "      <th>std</th>\n",
       "      <th>sum</th>\n",
       "      <th>mean</th>\n",
       "      <th>std</th>\n",
       "    </tr>\n",
       "    <tr>\n",
       "      <th>species</th>\n",
       "      <th></th>\n",
       "      <th></th>\n",
       "      <th></th>\n",
       "      <th></th>\n",
       "      <th></th>\n",
       "      <th></th>\n",
       "      <th></th>\n",
       "      <th></th>\n",
       "      <th></th>\n",
       "      <th></th>\n",
       "      <th></th>\n",
       "      <th></th>\n",
       "    </tr>\n",
       "  </thead>\n",
       "  <tbody>\n",
       "    <tr>\n",
       "      <th>setosa</th>\n",
       "      <td>250.3</td>\n",
       "      <td>5.006</td>\n",
       "      <td>0.352490</td>\n",
       "      <td>171.4</td>\n",
       "      <td>3.428</td>\n",
       "      <td>0.379064</td>\n",
       "      <td>73.1</td>\n",
       "      <td>1.462</td>\n",
       "      <td>0.173664</td>\n",
       "      <td>12.3</td>\n",
       "      <td>0.246</td>\n",
       "      <td>0.105386</td>\n",
       "    </tr>\n",
       "    <tr>\n",
       "      <th>versicolor</th>\n",
       "      <td>296.8</td>\n",
       "      <td>5.936</td>\n",
       "      <td>0.516171</td>\n",
       "      <td>138.5</td>\n",
       "      <td>2.770</td>\n",
       "      <td>0.313798</td>\n",
       "      <td>213.0</td>\n",
       "      <td>4.260</td>\n",
       "      <td>0.469911</td>\n",
       "      <td>66.3</td>\n",
       "      <td>1.326</td>\n",
       "      <td>0.197753</td>\n",
       "    </tr>\n",
       "    <tr>\n",
       "      <th>virginica</th>\n",
       "      <td>329.4</td>\n",
       "      <td>6.588</td>\n",
       "      <td>0.635880</td>\n",
       "      <td>148.7</td>\n",
       "      <td>2.974</td>\n",
       "      <td>0.322497</td>\n",
       "      <td>277.6</td>\n",
       "      <td>5.552</td>\n",
       "      <td>0.551895</td>\n",
       "      <td>101.3</td>\n",
       "      <td>2.026</td>\n",
       "      <td>0.274650</td>\n",
       "    </tr>\n",
       "  </tbody>\n",
       "</table>\n",
       "</div>"
      ],
      "text/plain": [
       "           sepal_length                  sepal_width                   \\\n",
       "                    sum   mean       std         sum   mean       std   \n",
       "species                                                                 \n",
       "setosa            250.3  5.006  0.352490       171.4  3.428  0.379064   \n",
       "versicolor        296.8  5.936  0.516171       138.5  2.770  0.313798   \n",
       "virginica         329.4  6.588  0.635880       148.7  2.974  0.322497   \n",
       "\n",
       "           petal_length                  petal_width                   \n",
       "                    sum   mean       std         sum   mean       std  \n",
       "species                                                                \n",
       "setosa             73.1  1.462  0.173664        12.3  0.246  0.105386  \n",
       "versicolor        213.0  4.260  0.469911        66.3  1.326  0.197753  \n",
       "virginica         277.6  5.552  0.551895       101.3  2.026  0.274650  "
      ]
     },
     "execution_count": 140,
     "metadata": {},
     "output_type": "execute_result"
    }
   ],
   "source": [
    "iris.groupby('species').agg([np.sum, np.mean, np.std])"
   ]
  },
  {
   "cell_type": "markdown",
   "id": "50fe496a",
   "metadata": {},
   "source": [
    "### (3) groupby 실습"
   ]
  },
  {
   "cell_type": "code",
   "execution_count": 219,
   "id": "876f4d48",
   "metadata": {},
   "outputs": [
    {
     "data": {
      "text/plain": [
       "species\n",
       "setosa        1.50\n",
       "versicolor    4.35\n",
       "virginica     5.55\n",
       "Name: petal_length, dtype: float64"
      ]
     },
     "execution_count": 219,
     "metadata": {},
     "output_type": "execute_result"
    }
   ],
   "source": [
    "?pd.DataFrame.pivot\n",
    "iris.groupby('species')['petal_length'].quantile()"
   ]
  },
  {
   "cell_type": "code",
   "execution_count": 213,
   "id": "cedec994",
   "metadata": {},
   "outputs": [
    {
     "data": {
      "text/html": [
       "<div>\n",
       "<style scoped>\n",
       "    .dataframe tbody tr th:only-of-type {\n",
       "        vertical-align: middle;\n",
       "    }\n",
       "\n",
       "    .dataframe tbody tr th {\n",
       "        vertical-align: top;\n",
       "    }\n",
       "\n",
       "    .dataframe thead tr th {\n",
       "        text-align: left;\n",
       "    }\n",
       "\n",
       "    .dataframe thead tr:last-of-type th {\n",
       "        text-align: right;\n",
       "    }\n",
       "</style>\n",
       "<table border=\"1\" class=\"dataframe\">\n",
       "  <thead>\n",
       "    <tr>\n",
       "      <th></th>\n",
       "      <th colspan=\"8\" halign=\"left\">petal_length</th>\n",
       "    </tr>\n",
       "    <tr>\n",
       "      <th></th>\n",
       "      <th>count</th>\n",
       "      <th>mean</th>\n",
       "      <th>std</th>\n",
       "      <th>min</th>\n",
       "      <th>25%</th>\n",
       "      <th>50%</th>\n",
       "      <th>75%</th>\n",
       "      <th>max</th>\n",
       "    </tr>\n",
       "    <tr>\n",
       "      <th>species</th>\n",
       "      <th></th>\n",
       "      <th></th>\n",
       "      <th></th>\n",
       "      <th></th>\n",
       "      <th></th>\n",
       "      <th></th>\n",
       "      <th></th>\n",
       "      <th></th>\n",
       "    </tr>\n",
       "  </thead>\n",
       "  <tbody>\n",
       "    <tr>\n",
       "      <th>setosa</th>\n",
       "      <td>50.0</td>\n",
       "      <td>1.462</td>\n",
       "      <td>0.173664</td>\n",
       "      <td>1.0</td>\n",
       "      <td>1.4</td>\n",
       "      <td>1.50</td>\n",
       "      <td>1.575</td>\n",
       "      <td>1.9</td>\n",
       "    </tr>\n",
       "    <tr>\n",
       "      <th>versicolor</th>\n",
       "      <td>50.0</td>\n",
       "      <td>4.260</td>\n",
       "      <td>0.469911</td>\n",
       "      <td>3.0</td>\n",
       "      <td>4.0</td>\n",
       "      <td>4.35</td>\n",
       "      <td>4.600</td>\n",
       "      <td>5.1</td>\n",
       "    </tr>\n",
       "    <tr>\n",
       "      <th>virginica</th>\n",
       "      <td>50.0</td>\n",
       "      <td>5.552</td>\n",
       "      <td>0.551895</td>\n",
       "      <td>4.5</td>\n",
       "      <td>5.1</td>\n",
       "      <td>5.55</td>\n",
       "      <td>5.875</td>\n",
       "      <td>6.9</td>\n",
       "    </tr>\n",
       "  </tbody>\n",
       "</table>\n",
       "</div>"
      ],
      "text/plain": [
       "           petal_length                                             \n",
       "                  count   mean       std  min  25%   50%    75%  max\n",
       "species                                                             \n",
       "setosa             50.0  1.462  0.173664  1.0  1.4  1.50  1.575  1.9\n",
       "versicolor         50.0  4.260  0.469911  3.0  4.0  4.35  4.600  5.1\n",
       "virginica          50.0  5.552  0.551895  4.5  5.1  5.55  5.875  6.9"
      ]
     },
     "execution_count": 213,
     "metadata": {},
     "output_type": "execute_result"
    }
   ],
   "source": [
    "iris.groupby('species')[['petal_length']].describe()"
   ]
  },
  {
   "cell_type": "code",
   "execution_count": 2,
   "id": "ee79bb00",
   "metadata": {},
   "outputs": [
    {
     "data": {
      "text/plain": [
       "0      대\n",
       "1      대\n",
       "2      대\n",
       "3      대\n",
       "4      대\n",
       "      ..\n",
       "145    소\n",
       "146    소\n",
       "147    소\n",
       "148    소\n",
       "149    소\n",
       "Name: petal_length, Length: 150, dtype: category\n",
       "Categories (3, object): ['대' < '중' < '소']"
      ]
     },
     "execution_count": 2,
     "metadata": {},
     "output_type": "execute_result"
    }
   ],
   "source": [
    "import seaborn as sns\n",
    "\n",
    "iris= sns.load_dataset('iris')\n",
    "iris\n",
    "\n",
    "# iris 품종별 petal_length의 값을 대, 중, 소로 구분\n",
    "pd.qcut(iris['petal_length'], 3,labels=['대','중','소'])"
   ]
  },
  {
   "cell_type": "code",
   "execution_count": 17,
   "id": "7d5ccabb",
   "metadata": {},
   "outputs": [
    {
     "data": {
      "text/html": [
       "<div>\n",
       "<style scoped>\n",
       "    .dataframe tbody tr th:only-of-type {\n",
       "        vertical-align: middle;\n",
       "    }\n",
       "\n",
       "    .dataframe tbody tr th {\n",
       "        vertical-align: top;\n",
       "    }\n",
       "\n",
       "    .dataframe thead th {\n",
       "        text-align: right;\n",
       "    }\n",
       "</style>\n",
       "<table border=\"1\" class=\"dataframe\">\n",
       "  <thead>\n",
       "    <tr style=\"text-align: right;\">\n",
       "      <th></th>\n",
       "      <th>sepal_length</th>\n",
       "      <th>sepal_width</th>\n",
       "      <th>petal_length</th>\n",
       "      <th>petal_width</th>\n",
       "      <th>species</th>\n",
       "      <th>petal_length_qcut</th>\n",
       "    </tr>\n",
       "  </thead>\n",
       "  <tbody>\n",
       "    <tr>\n",
       "      <th>0</th>\n",
       "      <td>5.1</td>\n",
       "      <td>3.5</td>\n",
       "      <td>1.4</td>\n",
       "      <td>0.2</td>\n",
       "      <td>setosa</td>\n",
       "      <td>소</td>\n",
       "    </tr>\n",
       "    <tr>\n",
       "      <th>1</th>\n",
       "      <td>4.9</td>\n",
       "      <td>3.0</td>\n",
       "      <td>1.4</td>\n",
       "      <td>0.2</td>\n",
       "      <td>setosa</td>\n",
       "      <td>소</td>\n",
       "    </tr>\n",
       "    <tr>\n",
       "      <th>2</th>\n",
       "      <td>4.7</td>\n",
       "      <td>3.2</td>\n",
       "      <td>1.3</td>\n",
       "      <td>0.2</td>\n",
       "      <td>setosa</td>\n",
       "      <td>소</td>\n",
       "    </tr>\n",
       "    <tr>\n",
       "      <th>3</th>\n",
       "      <td>4.6</td>\n",
       "      <td>3.1</td>\n",
       "      <td>1.5</td>\n",
       "      <td>0.2</td>\n",
       "      <td>setosa</td>\n",
       "      <td>중</td>\n",
       "    </tr>\n",
       "    <tr>\n",
       "      <th>4</th>\n",
       "      <td>5.0</td>\n",
       "      <td>3.6</td>\n",
       "      <td>1.4</td>\n",
       "      <td>0.2</td>\n",
       "      <td>setosa</td>\n",
       "      <td>소</td>\n",
       "    </tr>\n",
       "    <tr>\n",
       "      <th>...</th>\n",
       "      <td>...</td>\n",
       "      <td>...</td>\n",
       "      <td>...</td>\n",
       "      <td>...</td>\n",
       "      <td>...</td>\n",
       "      <td>...</td>\n",
       "    </tr>\n",
       "    <tr>\n",
       "      <th>145</th>\n",
       "      <td>6.7</td>\n",
       "      <td>3.0</td>\n",
       "      <td>5.2</td>\n",
       "      <td>2.3</td>\n",
       "      <td>virginica</td>\n",
       "      <td>소</td>\n",
       "    </tr>\n",
       "    <tr>\n",
       "      <th>146</th>\n",
       "      <td>6.3</td>\n",
       "      <td>2.5</td>\n",
       "      <td>5.0</td>\n",
       "      <td>1.9</td>\n",
       "      <td>virginica</td>\n",
       "      <td>소</td>\n",
       "    </tr>\n",
       "    <tr>\n",
       "      <th>147</th>\n",
       "      <td>6.5</td>\n",
       "      <td>3.0</td>\n",
       "      <td>5.2</td>\n",
       "      <td>2.0</td>\n",
       "      <td>virginica</td>\n",
       "      <td>소</td>\n",
       "    </tr>\n",
       "    <tr>\n",
       "      <th>148</th>\n",
       "      <td>6.2</td>\n",
       "      <td>3.4</td>\n",
       "      <td>5.4</td>\n",
       "      <td>2.3</td>\n",
       "      <td>virginica</td>\n",
       "      <td>중</td>\n",
       "    </tr>\n",
       "    <tr>\n",
       "      <th>149</th>\n",
       "      <td>5.9</td>\n",
       "      <td>3.0</td>\n",
       "      <td>5.1</td>\n",
       "      <td>1.8</td>\n",
       "      <td>virginica</td>\n",
       "      <td>소</td>\n",
       "    </tr>\n",
       "  </tbody>\n",
       "</table>\n",
       "<p>150 rows × 6 columns</p>\n",
       "</div>"
      ],
      "text/plain": [
       "     sepal_length  sepal_width  petal_length  petal_width    species  \\\n",
       "0             5.1          3.5           1.4          0.2     setosa   \n",
       "1             4.9          3.0           1.4          0.2     setosa   \n",
       "2             4.7          3.2           1.3          0.2     setosa   \n",
       "3             4.6          3.1           1.5          0.2     setosa   \n",
       "4             5.0          3.6           1.4          0.2     setosa   \n",
       "..            ...          ...           ...          ...        ...   \n",
       "145           6.7          3.0           5.2          2.3  virginica   \n",
       "146           6.3          2.5           5.0          1.9  virginica   \n",
       "147           6.5          3.0           5.2          2.0  virginica   \n",
       "148           6.2          3.4           5.4          2.3  virginica   \n",
       "149           5.9          3.0           5.1          1.8  virginica   \n",
       "\n",
       "    petal_length_qcut  \n",
       "0                   소  \n",
       "1                   소  \n",
       "2                   소  \n",
       "3                   중  \n",
       "4                   소  \n",
       "..                ...  \n",
       "145                 소  \n",
       "146                 소  \n",
       "147                 소  \n",
       "148                 중  \n",
       "149                 소  \n",
       "\n",
       "[150 rows x 6 columns]"
      ]
     },
     "execution_count": 17,
     "metadata": {},
     "output_type": "execute_result"
    }
   ],
   "source": [
    "# iris 품종별 petal_length의 값을 대, 중, 소로 구분\n",
    "iris.groupby('species')['petal_length'].describe()\n",
    "\n",
    "def size(x):\n",
    "    return pd.qcut(x, 3,labels=['소','중','대'])\n",
    "\n",
    "iris.groupby('species')['petal_length'].agg(size)\n",
    "# iris.groupby('species')[['petal_length']].transform(size)\n",
    "iris['petal_length_qcut']= iris.groupby('species')['petal_length'].apply(size)\n",
    "iris"
   ]
  },
  {
   "cell_type": "code",
   "execution_count": 242,
   "id": "71dcab38",
   "metadata": {},
   "outputs": [
    {
     "name": "stdout",
     "output_type": "stream",
     "text": [
      "Object `pd.DataFrame.groupby.agg` not found.\n"
     ]
    }
   ],
   "source": [
    "?pd.DataFrame.groupby.agg"
   ]
  },
  {
   "cell_type": "code",
   "execution_count": 194,
   "id": "4917d084",
   "metadata": {},
   "outputs": [
    {
     "data": {
      "text/html": [
       "<div>\n",
       "<style scoped>\n",
       "    .dataframe tbody tr th:only-of-type {\n",
       "        vertical-align: middle;\n",
       "    }\n",
       "\n",
       "    .dataframe tbody tr th {\n",
       "        vertical-align: top;\n",
       "    }\n",
       "\n",
       "    .dataframe thead th {\n",
       "        text-align: right;\n",
       "    }\n",
       "</style>\n",
       "<table border=\"1\" class=\"dataframe\">\n",
       "  <thead>\n",
       "    <tr style=\"text-align: right;\">\n",
       "      <th></th>\n",
       "      <th>city</th>\n",
       "      <th>fruits</th>\n",
       "      <th>price</th>\n",
       "      <th>quantity</th>\n",
       "    </tr>\n",
       "  </thead>\n",
       "  <tbody>\n",
       "    <tr>\n",
       "      <th>0</th>\n",
       "      <td>부산</td>\n",
       "      <td>apple</td>\n",
       "      <td>100</td>\n",
       "      <td>1</td>\n",
       "    </tr>\n",
       "    <tr>\n",
       "      <th>1</th>\n",
       "      <td>부산</td>\n",
       "      <td>orange</td>\n",
       "      <td>200</td>\n",
       "      <td>2</td>\n",
       "    </tr>\n",
       "    <tr>\n",
       "      <th>2</th>\n",
       "      <td>부산</td>\n",
       "      <td>banana</td>\n",
       "      <td>250</td>\n",
       "      <td>3</td>\n",
       "    </tr>\n",
       "    <tr>\n",
       "      <th>3</th>\n",
       "      <td>부산</td>\n",
       "      <td>banana</td>\n",
       "      <td>300</td>\n",
       "      <td>4</td>\n",
       "    </tr>\n",
       "    <tr>\n",
       "      <th>4</th>\n",
       "      <td>서울</td>\n",
       "      <td>apple</td>\n",
       "      <td>150</td>\n",
       "      <td>5</td>\n",
       "    </tr>\n",
       "    <tr>\n",
       "      <th>5</th>\n",
       "      <td>서울</td>\n",
       "      <td>apple</td>\n",
       "      <td>200</td>\n",
       "      <td>6</td>\n",
       "    </tr>\n",
       "    <tr>\n",
       "      <th>6</th>\n",
       "      <td>서울</td>\n",
       "      <td>banana</td>\n",
       "      <td>400</td>\n",
       "      <td>7</td>\n",
       "    </tr>\n",
       "  </tbody>\n",
       "</table>\n",
       "</div>"
      ],
      "text/plain": [
       "  city  fruits  price  quantity\n",
       "0   부산   apple    100         1\n",
       "1   부산  orange    200         2\n",
       "2   부산  banana    250         3\n",
       "3   부산  banana    300         4\n",
       "4   서울   apple    150         5\n",
       "5   서울   apple    200         6\n",
       "6   서울  banana    400         7"
      ]
     },
     "execution_count": 194,
     "metadata": {},
     "output_type": "execute_result"
    }
   ],
   "source": [
    "df = pd.DataFrame({\n",
    "    'city': ['부산', '부산', '부산', '부산', '서울', '서울', '서울'],\n",
    "    'fruits': ['apple', 'orange', 'banana', 'banana', 'apple', 'apple', 'banana'],\n",
    "    'price': [100, 200, 250, 300, 150, 200, 400],\n",
    "    'quantity': [1, 2, 3, 4, 5, 6, 7]\n",
    "})\n",
    "df"
   ]
  },
  {
   "cell_type": "code",
   "execution_count": 199,
   "id": "ae1e4bcf",
   "metadata": {},
   "outputs": [
    {
     "data": {
      "text/html": [
       "<div>\n",
       "<style scoped>\n",
       "    .dataframe tbody tr th:only-of-type {\n",
       "        vertical-align: middle;\n",
       "    }\n",
       "\n",
       "    .dataframe tbody tr th {\n",
       "        vertical-align: top;\n",
       "    }\n",
       "\n",
       "    .dataframe thead th {\n",
       "        text-align: right;\n",
       "    }\n",
       "</style>\n",
       "<table border=\"1\" class=\"dataframe\">\n",
       "  <thead>\n",
       "    <tr style=\"text-align: right;\">\n",
       "      <th></th>\n",
       "      <th>price</th>\n",
       "      <th>quantity</th>\n",
       "    </tr>\n",
       "    <tr>\n",
       "      <th>city</th>\n",
       "      <th></th>\n",
       "      <th></th>\n",
       "    </tr>\n",
       "  </thead>\n",
       "  <tbody>\n",
       "    <tr>\n",
       "      <th>부산</th>\n",
       "      <td>212.5</td>\n",
       "      <td>2.5</td>\n",
       "    </tr>\n",
       "    <tr>\n",
       "      <th>서울</th>\n",
       "      <td>250.0</td>\n",
       "      <td>6.0</td>\n",
       "    </tr>\n",
       "  </tbody>\n",
       "</table>\n",
       "</div>"
      ],
      "text/plain": [
       "      price  quantity\n",
       "city                 \n",
       "부산    212.5       2.5\n",
       "서울    250.0       6.0"
      ]
     },
     "execution_count": 199,
     "metadata": {},
     "output_type": "execute_result"
    }
   ],
   "source": [
    "# 도시별 과일 가격 평균과 수량 평균\n",
    "df.groupby('city').apply('mean')"
   ]
  },
  {
   "cell_type": "code",
   "execution_count": 202,
   "id": "3ac2304e",
   "metadata": {},
   "outputs": [
    {
     "data": {
      "text/html": [
       "<div>\n",
       "<style scoped>\n",
       "    .dataframe tbody tr th:only-of-type {\n",
       "        vertical-align: middle;\n",
       "    }\n",
       "\n",
       "    .dataframe tbody tr th {\n",
       "        vertical-align: top;\n",
       "    }\n",
       "\n",
       "    .dataframe thead th {\n",
       "        text-align: right;\n",
       "    }\n",
       "</style>\n",
       "<table border=\"1\" class=\"dataframe\">\n",
       "  <thead>\n",
       "    <tr style=\"text-align: right;\">\n",
       "      <th></th>\n",
       "      <th></th>\n",
       "      <th>price</th>\n",
       "      <th>quantity</th>\n",
       "    </tr>\n",
       "    <tr>\n",
       "      <th>city</th>\n",
       "      <th>fruits</th>\n",
       "      <th></th>\n",
       "      <th></th>\n",
       "    </tr>\n",
       "  </thead>\n",
       "  <tbody>\n",
       "    <tr>\n",
       "      <th rowspan=\"3\" valign=\"top\">부산</th>\n",
       "      <th>apple</th>\n",
       "      <td>100.0</td>\n",
       "      <td>1.0</td>\n",
       "    </tr>\n",
       "    <tr>\n",
       "      <th>banana</th>\n",
       "      <td>275.0</td>\n",
       "      <td>3.5</td>\n",
       "    </tr>\n",
       "    <tr>\n",
       "      <th>orange</th>\n",
       "      <td>200.0</td>\n",
       "      <td>2.0</td>\n",
       "    </tr>\n",
       "    <tr>\n",
       "      <th rowspan=\"2\" valign=\"top\">서울</th>\n",
       "      <th>apple</th>\n",
       "      <td>175.0</td>\n",
       "      <td>5.5</td>\n",
       "    </tr>\n",
       "    <tr>\n",
       "      <th>banana</th>\n",
       "      <td>400.0</td>\n",
       "      <td>7.0</td>\n",
       "    </tr>\n",
       "  </tbody>\n",
       "</table>\n",
       "</div>"
      ],
      "text/plain": [
       "             price  quantity\n",
       "city fruits                 \n",
       "부산   apple   100.0       1.0\n",
       "     banana  275.0       3.5\n",
       "     orange  200.0       2.0\n",
       "서울   apple   175.0       5.5\n",
       "     banana  400.0       7.0"
      ]
     },
     "execution_count": 202,
     "metadata": {},
     "output_type": "execute_result"
    }
   ],
   "source": [
    "# 도시별, 과일별 가격 평균과 수량 평균\n",
    "df.groupby(['city','fruits']).mean()"
   ]
  },
  {
   "cell_type": "code",
   "execution_count": null,
   "id": "019143fd",
   "metadata": {},
   "outputs": [],
   "source": [
    "# 위의 문제에서 도시별, 과일별을 인덱스로 처리되지 않게 조회. 인덱스 취소. groupby 함수 사용법 찾아보기"
   ]
  },
  {
   "cell_type": "code",
   "execution_count": 205,
   "id": "d4bb4436",
   "metadata": {
    "scrolled": true
   },
   "outputs": [
    {
     "data": {
      "text/html": [
       "<div>\n",
       "<style scoped>\n",
       "    .dataframe tbody tr th:only-of-type {\n",
       "        vertical-align: middle;\n",
       "    }\n",
       "\n",
       "    .dataframe tbody tr th {\n",
       "        vertical-align: top;\n",
       "    }\n",
       "\n",
       "    .dataframe thead th {\n",
       "        text-align: right;\n",
       "    }\n",
       "</style>\n",
       "<table border=\"1\" class=\"dataframe\">\n",
       "  <thead>\n",
       "    <tr style=\"text-align: right;\">\n",
       "      <th></th>\n",
       "      <th>city</th>\n",
       "      <th>fruits</th>\n",
       "      <th>price</th>\n",
       "      <th>quantity</th>\n",
       "    </tr>\n",
       "  </thead>\n",
       "  <tbody>\n",
       "    <tr>\n",
       "      <th>0</th>\n",
       "      <td>부산</td>\n",
       "      <td>apple</td>\n",
       "      <td>100.0</td>\n",
       "      <td>1.0</td>\n",
       "    </tr>\n",
       "    <tr>\n",
       "      <th>1</th>\n",
       "      <td>부산</td>\n",
       "      <td>banana</td>\n",
       "      <td>275.0</td>\n",
       "      <td>3.5</td>\n",
       "    </tr>\n",
       "    <tr>\n",
       "      <th>2</th>\n",
       "      <td>부산</td>\n",
       "      <td>orange</td>\n",
       "      <td>200.0</td>\n",
       "      <td>2.0</td>\n",
       "    </tr>\n",
       "    <tr>\n",
       "      <th>3</th>\n",
       "      <td>서울</td>\n",
       "      <td>apple</td>\n",
       "      <td>175.0</td>\n",
       "      <td>5.5</td>\n",
       "    </tr>\n",
       "    <tr>\n",
       "      <th>4</th>\n",
       "      <td>서울</td>\n",
       "      <td>banana</td>\n",
       "      <td>400.0</td>\n",
       "      <td>7.0</td>\n",
       "    </tr>\n",
       "  </tbody>\n",
       "</table>\n",
       "</div>"
      ],
      "text/plain": [
       "  city  fruits  price  quantity\n",
       "0   부산   apple  100.0       1.0\n",
       "1   부산  banana  275.0       3.5\n",
       "2   부산  orange  200.0       2.0\n",
       "3   서울   apple  175.0       5.5\n",
       "4   서울  banana  400.0       7.0"
      ]
     },
     "execution_count": 205,
     "metadata": {},
     "output_type": "execute_result"
    }
   ],
   "source": [
    "?pd.DataFrame.groupby\n",
    "df.groupby(['city','fruits'],as_index=False).mean()"
   ]
  },
  {
   "cell_type": "markdown",
   "id": "76e9b9f5",
   "metadata": {},
   "source": [
    "### (4) pivot_table()\n",
    "    pivot() + groupby()\n",
    "    pd.pivot_table(values=None, index=None, columns=None, aggfunc: 'AggFuncType' = 'mean', \n",
    "                    margins: 'bool' = False, margins_name: 'str' = 'All', fill_value=None,\n",
    "                    dropna: 'bool' = True, observed: 'bool' = False, sort: 'bool' = True,) -> 'DataFrame'\n",
    "                    \n",
    "    groupby는 가독성 좋음\n",
    "    pivot_table은 편리하지만 중간 과정 알 수 없다"
   ]
  },
  {
   "cell_type": "code",
   "execution_count": 146,
   "id": "e93dac4b",
   "metadata": {},
   "outputs": [
    {
     "data": {
      "text/html": [
       "<div>\n",
       "<style scoped>\n",
       "    .dataframe tbody tr th:only-of-type {\n",
       "        vertical-align: middle;\n",
       "    }\n",
       "\n",
       "    .dataframe tbody tr th {\n",
       "        vertical-align: top;\n",
       "    }\n",
       "\n",
       "    .dataframe thead th {\n",
       "        text-align: right;\n",
       "    }\n",
       "</style>\n",
       "<table border=\"1\" class=\"dataframe\">\n",
       "  <thead>\n",
       "    <tr style=\"text-align: right;\">\n",
       "      <th></th>\n",
       "      <th>도시</th>\n",
       "      <th>연도</th>\n",
       "      <th>인구</th>\n",
       "      <th>지역</th>\n",
       "    </tr>\n",
       "  </thead>\n",
       "  <tbody>\n",
       "    <tr>\n",
       "      <th>0</th>\n",
       "      <td>서울</td>\n",
       "      <td>2015</td>\n",
       "      <td>9904312</td>\n",
       "      <td>수도권</td>\n",
       "    </tr>\n",
       "    <tr>\n",
       "      <th>1</th>\n",
       "      <td>서울</td>\n",
       "      <td>2010</td>\n",
       "      <td>9631482</td>\n",
       "      <td>수도권</td>\n",
       "    </tr>\n",
       "    <tr>\n",
       "      <th>2</th>\n",
       "      <td>서울</td>\n",
       "      <td>2005</td>\n",
       "      <td>9762546</td>\n",
       "      <td>수도권</td>\n",
       "    </tr>\n",
       "    <tr>\n",
       "      <th>3</th>\n",
       "      <td>부산</td>\n",
       "      <td>2015</td>\n",
       "      <td>3448737</td>\n",
       "      <td>경상권</td>\n",
       "    </tr>\n",
       "    <tr>\n",
       "      <th>4</th>\n",
       "      <td>부산</td>\n",
       "      <td>2010</td>\n",
       "      <td>3393191</td>\n",
       "      <td>경상권</td>\n",
       "    </tr>\n",
       "    <tr>\n",
       "      <th>5</th>\n",
       "      <td>부산</td>\n",
       "      <td>2005</td>\n",
       "      <td>3512547</td>\n",
       "      <td>경상권</td>\n",
       "    </tr>\n",
       "    <tr>\n",
       "      <th>6</th>\n",
       "      <td>인천</td>\n",
       "      <td>2015</td>\n",
       "      <td>2890451</td>\n",
       "      <td>수도권</td>\n",
       "    </tr>\n",
       "    <tr>\n",
       "      <th>7</th>\n",
       "      <td>인천</td>\n",
       "      <td>2010</td>\n",
       "      <td>263203</td>\n",
       "      <td>수도권</td>\n",
       "    </tr>\n",
       "  </tbody>\n",
       "</table>\n",
       "</div>"
      ],
      "text/plain": [
       "   도시    연도       인구   지역\n",
       "0  서울  2015  9904312  수도권\n",
       "1  서울  2010  9631482  수도권\n",
       "2  서울  2005  9762546  수도권\n",
       "3  부산  2015  3448737  경상권\n",
       "4  부산  2010  3393191  경상권\n",
       "5  부산  2005  3512547  경상권\n",
       "6  인천  2015  2890451  수도권\n",
       "7  인천  2010   263203  수도권"
      ]
     },
     "execution_count": 146,
     "metadata": {},
     "output_type": "execute_result"
    }
   ],
   "source": [
    "data = {\n",
    "    \"도시\": [\"서울\", \"서울\", \"서울\", \"부산\", \"부산\", \"부산\", \"인천\", \"인천\"],\n",
    "    \"연도\": [\"2015\", \"2010\", \"2005\", \"2015\", \"2010\", \"2005\", \"2015\", \"2010\"],\n",
    "    \"인구\": [9904312, 9631482, 9762546, 3448737, 3393191, 3512547, 2890451, 263203],\n",
    "    \"지역\": [\"수도권\", \"수도권\", \"수도권\", \"경상권\", \"경상권\", \"경상권\", \"수도권\", \"수도권\"]\n",
    "}\n",
    "df = pd.DataFrame(data)\n",
    "df"
   ]
  },
  {
   "cell_type": "code",
   "execution_count": 170,
   "id": "15b434ca",
   "metadata": {},
   "outputs": [
    {
     "data": {
      "text/html": [
       "<div>\n",
       "<style scoped>\n",
       "    .dataframe tbody tr th:only-of-type {\n",
       "        vertical-align: middle;\n",
       "    }\n",
       "\n",
       "    .dataframe tbody tr th {\n",
       "        vertical-align: top;\n",
       "    }\n",
       "\n",
       "    .dataframe thead th {\n",
       "        text-align: right;\n",
       "    }\n",
       "</style>\n",
       "<table border=\"1\" class=\"dataframe\">\n",
       "  <thead>\n",
       "    <tr style=\"text-align: right;\">\n",
       "      <th>연도</th>\n",
       "      <th>2005</th>\n",
       "      <th>2010</th>\n",
       "      <th>2015</th>\n",
       "      <th>평균</th>\n",
       "    </tr>\n",
       "    <tr>\n",
       "      <th>도시</th>\n",
       "      <th></th>\n",
       "      <th></th>\n",
       "      <th></th>\n",
       "      <th></th>\n",
       "    </tr>\n",
       "  </thead>\n",
       "  <tbody>\n",
       "    <tr>\n",
       "      <th>부산</th>\n",
       "      <td>3512547.0</td>\n",
       "      <td>3393191</td>\n",
       "      <td>3448737</td>\n",
       "      <td>3.451492e+06</td>\n",
       "    </tr>\n",
       "    <tr>\n",
       "      <th>서울</th>\n",
       "      <td>9762546.0</td>\n",
       "      <td>9631482</td>\n",
       "      <td>9904312</td>\n",
       "      <td>9.766113e+06</td>\n",
       "    </tr>\n",
       "    <tr>\n",
       "      <th>인천</th>\n",
       "      <td>0.0</td>\n",
       "      <td>263203</td>\n",
       "      <td>2890451</td>\n",
       "      <td>1.576827e+06</td>\n",
       "    </tr>\n",
       "    <tr>\n",
       "      <th>평균</th>\n",
       "      <td>6637546.5</td>\n",
       "      <td>4429292</td>\n",
       "      <td>5414500</td>\n",
       "      <td>5.350809e+06</td>\n",
       "    </tr>\n",
       "  </tbody>\n",
       "</table>\n",
       "</div>"
      ],
      "text/plain": [
       "연도       2005     2010     2015            평균\n",
       "도시                                           \n",
       "부산  3512547.0  3393191  3448737  3.451492e+06\n",
       "서울  9762546.0  9631482  9904312  9.766113e+06\n",
       "인천        0.0   263203  2890451  1.576827e+06\n",
       "평균  6637546.5  4429292  5414500  5.350809e+06"
      ]
     },
     "execution_count": 170,
     "metadata": {},
     "output_type": "execute_result"
    }
   ],
   "source": [
    "# 각 도시의 연도별 인구수\n",
    "df.pivot_table('인구','도시','연도', \n",
    "               aggfunc='mean', margins=True, margins_name='평균', fill_value=0)    \n",
    "            # margins= True: 행별, 열별 함수 계산.  fill_value: 결측치 채우기"
   ]
  },
  {
   "cell_type": "code",
   "execution_count": 163,
   "id": "8108f834",
   "metadata": {},
   "outputs": [
    {
     "data": {
      "text/html": [
       "<div>\n",
       "<style scoped>\n",
       "    .dataframe tbody tr th:only-of-type {\n",
       "        vertical-align: middle;\n",
       "    }\n",
       "\n",
       "    .dataframe tbody tr th {\n",
       "        vertical-align: top;\n",
       "    }\n",
       "\n",
       "    .dataframe thead th {\n",
       "        text-align: right;\n",
       "    }\n",
       "</style>\n",
       "<table border=\"1\" class=\"dataframe\">\n",
       "  <thead>\n",
       "    <tr style=\"text-align: right;\">\n",
       "      <th></th>\n",
       "      <th></th>\n",
       "      <th>인구</th>\n",
       "    </tr>\n",
       "    <tr>\n",
       "      <th>연도</th>\n",
       "      <th>도시</th>\n",
       "      <th></th>\n",
       "    </tr>\n",
       "  </thead>\n",
       "  <tbody>\n",
       "    <tr>\n",
       "      <th rowspan=\"2\" valign=\"top\">2005</th>\n",
       "      <th>부산</th>\n",
       "      <td>3512547</td>\n",
       "    </tr>\n",
       "    <tr>\n",
       "      <th>서울</th>\n",
       "      <td>9762546</td>\n",
       "    </tr>\n",
       "    <tr>\n",
       "      <th rowspan=\"3\" valign=\"top\">2010</th>\n",
       "      <th>부산</th>\n",
       "      <td>3393191</td>\n",
       "    </tr>\n",
       "    <tr>\n",
       "      <th>서울</th>\n",
       "      <td>9631482</td>\n",
       "    </tr>\n",
       "    <tr>\n",
       "      <th>인천</th>\n",
       "      <td>263203</td>\n",
       "    </tr>\n",
       "    <tr>\n",
       "      <th rowspan=\"3\" valign=\"top\">2015</th>\n",
       "      <th>부산</th>\n",
       "      <td>3448737</td>\n",
       "    </tr>\n",
       "    <tr>\n",
       "      <th>서울</th>\n",
       "      <td>9904312</td>\n",
       "    </tr>\n",
       "    <tr>\n",
       "      <th>인천</th>\n",
       "      <td>2890451</td>\n",
       "    </tr>\n",
       "  </tbody>\n",
       "</table>\n",
       "</div>"
      ],
      "text/plain": [
       "              인구\n",
       "연도   도시         \n",
       "2005 부산  3512547\n",
       "     서울  9762546\n",
       "2010 부산  3393191\n",
       "     서울  9631482\n",
       "     인천   263203\n",
       "2015 부산  3448737\n",
       "     서울  9904312\n",
       "     인천  2890451"
      ]
     },
     "execution_count": 163,
     "metadata": {},
     "output_type": "execute_result"
    }
   ],
   "source": [
    "# 연도별 도시별 평균 인구 수\n",
    "# df.pivot(index=['연도','도시'], columns='인구', values='인구')\n",
    "df.groupby(['연도','도시'])[['인구']].mean()\n",
    "df.pivot_table(values='인구',index=['연도','도시'], aggfunc='mean')"
   ]
  },
  {
   "cell_type": "markdown",
   "id": "fc5346de",
   "metadata": {},
   "source": [
    "## 6. Pandas 실습\n",
    "    데이터 수집 -> 전처리 -> 분석 -> 시각화"
   ]
  },
  {
   "cell_type": "markdown",
   "id": "fb569718",
   "metadata": {},
   "source": [
    "### (1) Data Definition"
   ]
  },
  {
   "cell_type": "code",
   "execution_count": 177,
   "id": "5bcea7f7",
   "metadata": {},
   "outputs": [
    {
     "name": "stdout",
     "output_type": "stream",
     "text": [
      "   total_bill   tip     sex smoker  day    time  size\n",
      "0       16.99  1.01  Female     No  Sun  Dinner     2\n",
      "1       10.34  1.66    Male     No  Sun  Dinner     3\n",
      "2       21.01  3.50    Male     No  Sun  Dinner     3\n",
      "3       23.68  3.31    Male     No  Sun  Dinner     2\n",
      "4       24.59  3.61  Female     No  Sun  Dinner     4\n",
      "5       25.29  4.71    Male     No  Sun  Dinner     4\n",
      "6        8.77  2.00    Male     No  Sun  Dinner     2\n",
      "7       26.88  3.12    Male     No  Sun  Dinner     4\n",
      "8       15.04  1.96    Male     No  Sun  Dinner     2\n",
      "9       14.78  3.23    Male     No  Sun  Dinner     2\n",
      "----------------\n",
      "       total_bill         tip        size\n",
      "count  244.000000  244.000000  244.000000\n",
      "mean    19.785943    2.998279    2.569672\n",
      "std      8.902412    1.383638    0.951100\n",
      "min      3.070000    1.000000    1.000000\n",
      "25%     13.347500    2.000000    2.000000\n",
      "50%     17.795000    2.900000    2.000000\n",
      "75%     24.127500    3.562500    3.000000\n",
      "max     50.810000   10.000000    6.000000\n",
      "----------------\n",
      "<class 'pandas.core.frame.DataFrame'>\n",
      "RangeIndex: 244 entries, 0 to 243\n",
      "Data columns (total 7 columns):\n",
      " #   Column      Non-Null Count  Dtype   \n",
      "---  ------      --------------  -----   \n",
      " 0   total_bill  244 non-null    float64 \n",
      " 1   tip         244 non-null    float64 \n",
      " 2   sex         244 non-null    category\n",
      " 3   smoker      244 non-null    category\n",
      " 4   day         244 non-null    category\n",
      " 5   time        244 non-null    category\n",
      " 6   size        244 non-null    int64   \n",
      "dtypes: category(4), float64(2), int64(1)\n",
      "memory usage: 7.4 KB\n",
      "None\n"
     ]
    }
   ],
   "source": [
    "import seaborn as sns\n",
    "tips= sns.load_dataset('tips')\n",
    "print(tips.head(10))\n",
    "print('----------------')\n",
    "print(tips.describe())\n",
    "print('----------------')\n",
    "print(tips.info())"
   ]
  },
  {
   "cell_type": "markdown",
   "id": "e9d1f59f",
   "metadata": {},
   "source": [
    "### (2) EDA(탐색적 데이터 분석)\n",
    "#### 1) 파생 변수 추가\n",
    "- 식사대금과 팁의 비율을 나타내는 tip_pct라는 변수 추가\n",
    "- 팁의 비율: tip/total_bill"
   ]
  },
  {
   "cell_type": "code",
   "execution_count": 18,
   "id": "2719b3b2",
   "metadata": {},
   "outputs": [
    {
     "data": {
      "text/html": [
       "<div>\n",
       "<style scoped>\n",
       "    .dataframe tbody tr th:only-of-type {\n",
       "        vertical-align: middle;\n",
       "    }\n",
       "\n",
       "    .dataframe tbody tr th {\n",
       "        vertical-align: top;\n",
       "    }\n",
       "\n",
       "    .dataframe thead th {\n",
       "        text-align: right;\n",
       "    }\n",
       "</style>\n",
       "<table border=\"1\" class=\"dataframe\">\n",
       "  <thead>\n",
       "    <tr style=\"text-align: right;\">\n",
       "      <th></th>\n",
       "      <th>total_bill</th>\n",
       "      <th>tip</th>\n",
       "      <th>sex</th>\n",
       "      <th>smoker</th>\n",
       "      <th>day</th>\n",
       "      <th>time</th>\n",
       "      <th>size</th>\n",
       "      <th>tip_pct</th>\n",
       "    </tr>\n",
       "  </thead>\n",
       "  <tbody>\n",
       "    <tr>\n",
       "      <th>0</th>\n",
       "      <td>16.99</td>\n",
       "      <td>1.01</td>\n",
       "      <td>Female</td>\n",
       "      <td>No</td>\n",
       "      <td>Sun</td>\n",
       "      <td>Dinner</td>\n",
       "      <td>2</td>\n",
       "      <td>0.059447</td>\n",
       "    </tr>\n",
       "    <tr>\n",
       "      <th>1</th>\n",
       "      <td>10.34</td>\n",
       "      <td>1.66</td>\n",
       "      <td>Male</td>\n",
       "      <td>No</td>\n",
       "      <td>Sun</td>\n",
       "      <td>Dinner</td>\n",
       "      <td>3</td>\n",
       "      <td>0.160542</td>\n",
       "    </tr>\n",
       "    <tr>\n",
       "      <th>2</th>\n",
       "      <td>21.01</td>\n",
       "      <td>3.50</td>\n",
       "      <td>Male</td>\n",
       "      <td>No</td>\n",
       "      <td>Sun</td>\n",
       "      <td>Dinner</td>\n",
       "      <td>3</td>\n",
       "      <td>0.166587</td>\n",
       "    </tr>\n",
       "    <tr>\n",
       "      <th>3</th>\n",
       "      <td>23.68</td>\n",
       "      <td>3.31</td>\n",
       "      <td>Male</td>\n",
       "      <td>No</td>\n",
       "      <td>Sun</td>\n",
       "      <td>Dinner</td>\n",
       "      <td>2</td>\n",
       "      <td>0.139780</td>\n",
       "    </tr>\n",
       "    <tr>\n",
       "      <th>4</th>\n",
       "      <td>24.59</td>\n",
       "      <td>3.61</td>\n",
       "      <td>Female</td>\n",
       "      <td>No</td>\n",
       "      <td>Sun</td>\n",
       "      <td>Dinner</td>\n",
       "      <td>4</td>\n",
       "      <td>0.146808</td>\n",
       "    </tr>\n",
       "    <tr>\n",
       "      <th>...</th>\n",
       "      <td>...</td>\n",
       "      <td>...</td>\n",
       "      <td>...</td>\n",
       "      <td>...</td>\n",
       "      <td>...</td>\n",
       "      <td>...</td>\n",
       "      <td>...</td>\n",
       "      <td>...</td>\n",
       "    </tr>\n",
       "    <tr>\n",
       "      <th>239</th>\n",
       "      <td>29.03</td>\n",
       "      <td>5.92</td>\n",
       "      <td>Male</td>\n",
       "      <td>No</td>\n",
       "      <td>Sat</td>\n",
       "      <td>Dinner</td>\n",
       "      <td>3</td>\n",
       "      <td>0.203927</td>\n",
       "    </tr>\n",
       "    <tr>\n",
       "      <th>240</th>\n",
       "      <td>27.18</td>\n",
       "      <td>2.00</td>\n",
       "      <td>Female</td>\n",
       "      <td>Yes</td>\n",
       "      <td>Sat</td>\n",
       "      <td>Dinner</td>\n",
       "      <td>2</td>\n",
       "      <td>0.073584</td>\n",
       "    </tr>\n",
       "    <tr>\n",
       "      <th>241</th>\n",
       "      <td>22.67</td>\n",
       "      <td>2.00</td>\n",
       "      <td>Male</td>\n",
       "      <td>Yes</td>\n",
       "      <td>Sat</td>\n",
       "      <td>Dinner</td>\n",
       "      <td>2</td>\n",
       "      <td>0.088222</td>\n",
       "    </tr>\n",
       "    <tr>\n",
       "      <th>242</th>\n",
       "      <td>17.82</td>\n",
       "      <td>1.75</td>\n",
       "      <td>Male</td>\n",
       "      <td>No</td>\n",
       "      <td>Sat</td>\n",
       "      <td>Dinner</td>\n",
       "      <td>2</td>\n",
       "      <td>0.098204</td>\n",
       "    </tr>\n",
       "    <tr>\n",
       "      <th>243</th>\n",
       "      <td>18.78</td>\n",
       "      <td>3.00</td>\n",
       "      <td>Female</td>\n",
       "      <td>No</td>\n",
       "      <td>Thur</td>\n",
       "      <td>Dinner</td>\n",
       "      <td>2</td>\n",
       "      <td>0.159744</td>\n",
       "    </tr>\n",
       "  </tbody>\n",
       "</table>\n",
       "<p>244 rows × 8 columns</p>\n",
       "</div>"
      ],
      "text/plain": [
       "     total_bill   tip     sex smoker   day    time  size   tip_pct\n",
       "0         16.99  1.01  Female     No   Sun  Dinner     2  0.059447\n",
       "1         10.34  1.66    Male     No   Sun  Dinner     3  0.160542\n",
       "2         21.01  3.50    Male     No   Sun  Dinner     3  0.166587\n",
       "3         23.68  3.31    Male     No   Sun  Dinner     2  0.139780\n",
       "4         24.59  3.61  Female     No   Sun  Dinner     4  0.146808\n",
       "..          ...   ...     ...    ...   ...     ...   ...       ...\n",
       "239       29.03  5.92    Male     No   Sat  Dinner     3  0.203927\n",
       "240       27.18  2.00  Female    Yes   Sat  Dinner     2  0.073584\n",
       "241       22.67  2.00    Male    Yes   Sat  Dinner     2  0.088222\n",
       "242       17.82  1.75    Male     No   Sat  Dinner     2  0.098204\n",
       "243       18.78  3.00  Female     No  Thur  Dinner     2  0.159744\n",
       "\n",
       "[244 rows x 8 columns]"
      ]
     },
     "execution_count": 18,
     "metadata": {},
     "output_type": "execute_result"
    }
   ],
   "source": [
    "import seaborn as sns\n",
    "tips= sns.load_dataset('tips')\n",
    "\n",
    "tips['tip_pct']= tips['tip']/tips['total_bill']\n",
    "tips"
   ]
  },
  {
   "cell_type": "markdown",
   "id": "4574b37b",
   "metadata": {},
   "source": [
    "#### 2) 성별로 인원 수 파악"
   ]
  },
  {
   "cell_type": "code",
   "execution_count": 327,
   "id": "d8cb5bf7",
   "metadata": {},
   "outputs": [
    {
     "data": {
      "text/html": [
       "<div>\n",
       "<style scoped>\n",
       "    .dataframe tbody tr th:only-of-type {\n",
       "        vertical-align: middle;\n",
       "    }\n",
       "\n",
       "    .dataframe tbody tr th {\n",
       "        vertical-align: top;\n",
       "    }\n",
       "\n",
       "    .dataframe thead th {\n",
       "        text-align: right;\n",
       "    }\n",
       "</style>\n",
       "<table border=\"1\" class=\"dataframe\">\n",
       "  <thead>\n",
       "    <tr style=\"text-align: right;\">\n",
       "      <th></th>\n",
       "      <th>size</th>\n",
       "    </tr>\n",
       "    <tr>\n",
       "      <th>sex</th>\n",
       "      <th></th>\n",
       "    </tr>\n",
       "  </thead>\n",
       "  <tbody>\n",
       "    <tr>\n",
       "      <th>Male</th>\n",
       "      <td>413</td>\n",
       "    </tr>\n",
       "    <tr>\n",
       "      <th>Female</th>\n",
       "      <td>214</td>\n",
       "    </tr>\n",
       "  </tbody>\n",
       "</table>\n",
       "</div>"
      ],
      "text/plain": [
       "        size\n",
       "sex         \n",
       "Male     413\n",
       "Female   214"
      ]
     },
     "execution_count": 327,
     "metadata": {},
     "output_type": "execute_result"
    }
   ],
   "source": [
    "tips.groupby('sex')[['size']].sum()"
   ]
  },
  {
   "cell_type": "code",
   "execution_count": 28,
   "id": "e8ad69ff",
   "metadata": {},
   "outputs": [
    {
     "data": {
      "text/plain": [
       "sex\n",
       "Male      157\n",
       "Female     87\n",
       "dtype: int64"
      ]
     },
     "execution_count": 28,
     "metadata": {},
     "output_type": "execute_result"
    }
   ],
   "source": [
    "tips.value_counts(\"sex\")\n",
    "tips.groupby(\"sex\").count()\n",
    "tips.groupby('sex').size()"
   ]
  },
  {
   "cell_type": "markdown",
   "id": "110d56a6",
   "metadata": {},
   "source": [
    "#### 3) 성별, 흡연 유무별로 인원 수 파악"
   ]
  },
  {
   "cell_type": "code",
   "execution_count": 39,
   "id": "359d3b39",
   "metadata": {},
   "outputs": [
    {
     "data": {
      "text/plain": [
       "sex     smoker\n",
       "Male    Yes       60\n",
       "        No        97\n",
       "Female  Yes       33\n",
       "        No        54\n",
       "dtype: int64"
      ]
     },
     "execution_count": 39,
     "metadata": {},
     "output_type": "execute_result"
    }
   ],
   "source": [
    "tips.groupby(['sex','smoker']).count()\n",
    "tips.groupby(['sex','smoker']).size()\n",
    "# tips.pivot_table('size','smoker','sex',aggfunc='sum')"
   ]
  },
  {
   "cell_type": "code",
   "execution_count": 40,
   "id": "f632b597",
   "metadata": {},
   "outputs": [],
   "source": [
    "?pd.DataFrame.groupby"
   ]
  },
  {
   "cell_type": "code",
   "execution_count": 36,
   "id": "b70796a2",
   "metadata": {},
   "outputs": [
    {
     "data": {
      "text/html": [
       "<div>\n",
       "<style scoped>\n",
       "    .dataframe tbody tr th:only-of-type {\n",
       "        vertical-align: middle;\n",
       "    }\n",
       "\n",
       "    .dataframe tbody tr th {\n",
       "        vertical-align: top;\n",
       "    }\n",
       "\n",
       "    .dataframe thead th {\n",
       "        text-align: right;\n",
       "    }\n",
       "</style>\n",
       "<table border=\"1\" class=\"dataframe\">\n",
       "  <thead>\n",
       "    <tr style=\"text-align: right;\">\n",
       "      <th>smoker</th>\n",
       "      <th>Yes</th>\n",
       "      <th>No</th>\n",
       "    </tr>\n",
       "    <tr>\n",
       "      <th>sex</th>\n",
       "      <th></th>\n",
       "      <th></th>\n",
       "    </tr>\n",
       "  </thead>\n",
       "  <tbody>\n",
       "    <tr>\n",
       "      <th>Male</th>\n",
       "      <td>60</td>\n",
       "      <td>97</td>\n",
       "    </tr>\n",
       "    <tr>\n",
       "      <th>Female</th>\n",
       "      <td>33</td>\n",
       "      <td>54</td>\n",
       "    </tr>\n",
       "  </tbody>\n",
       "</table>\n",
       "</div>"
      ],
      "text/plain": [
       "smoker  Yes  No\n",
       "sex            \n",
       "Male     60  97\n",
       "Female   33  54"
      ]
     },
     "execution_count": 36,
     "metadata": {},
     "output_type": "execute_result"
    }
   ],
   "source": [
    "# tips.pivot_table('size','smoker','sex',aggfunc='sum')\n",
    "tips.groupby(['sex','smoker']).count()\n",
    "tips.groupby(['sex','smoker']).size()\n",
    "tips.pivot_table(index='sex',columns='smoker',aggfunc='size')"
   ]
  },
  {
   "cell_type": "markdown",
   "id": "c70b0287",
   "metadata": {},
   "source": [
    "#### 4) 위의 두 정보를 하나의 테이블로 tip_pct를 조회\n",
    "pivot_table() 사용\n",
    "\n",
    "    smoker   yes    no\n",
    "    sex\n",
    "    male     ...    ...\n",
    "    female   ...    ..."
   ]
  },
  {
   "cell_type": "code",
   "execution_count": 38,
   "id": "bf76dca3",
   "metadata": {},
   "outputs": [
    {
     "data": {
      "text/html": [
       "<div>\n",
       "<style scoped>\n",
       "    .dataframe tbody tr th:only-of-type {\n",
       "        vertical-align: middle;\n",
       "    }\n",
       "\n",
       "    .dataframe tbody tr th {\n",
       "        vertical-align: top;\n",
       "    }\n",
       "\n",
       "    .dataframe thead th {\n",
       "        text-align: right;\n",
       "    }\n",
       "</style>\n",
       "<table border=\"1\" class=\"dataframe\">\n",
       "  <thead>\n",
       "    <tr style=\"text-align: right;\">\n",
       "      <th>smoker</th>\n",
       "      <th>Yes</th>\n",
       "      <th>No</th>\n",
       "    </tr>\n",
       "    <tr>\n",
       "      <th>sex</th>\n",
       "      <th></th>\n",
       "      <th></th>\n",
       "    </tr>\n",
       "  </thead>\n",
       "  <tbody>\n",
       "    <tr>\n",
       "      <th>Male</th>\n",
       "      <td>0.152771</td>\n",
       "      <td>0.160669</td>\n",
       "    </tr>\n",
       "    <tr>\n",
       "      <th>Female</th>\n",
       "      <td>0.182150</td>\n",
       "      <td>0.156921</td>\n",
       "    </tr>\n",
       "  </tbody>\n",
       "</table>\n",
       "</div>"
      ],
      "text/plain": [
       "smoker       Yes        No\n",
       "sex                       \n",
       "Male    0.152771  0.160669\n",
       "Female  0.182150  0.156921"
      ]
     },
     "execution_count": 38,
     "metadata": {},
     "output_type": "execute_result"
    }
   ],
   "source": [
    "tips.pivot_table('tip_pct','sex','smoker')"
   ]
  },
  {
   "cell_type": "markdown",
   "id": "45ae01ae",
   "metadata": {},
   "source": [
    "#### 5) 흡연 유무별에 따른 팁 비율을 조회\n",
    "groupby() 사용"
   ]
  },
  {
   "cell_type": "code",
   "execution_count": 42,
   "id": "a4ced2c1",
   "metadata": {},
   "outputs": [
    {
     "data": {
      "text/html": [
       "<div>\n",
       "<style scoped>\n",
       "    .dataframe tbody tr th:only-of-type {\n",
       "        vertical-align: middle;\n",
       "    }\n",
       "\n",
       "    .dataframe tbody tr th {\n",
       "        vertical-align: top;\n",
       "    }\n",
       "\n",
       "    .dataframe thead tr th {\n",
       "        text-align: left;\n",
       "    }\n",
       "\n",
       "    .dataframe thead tr:last-of-type th {\n",
       "        text-align: right;\n",
       "    }\n",
       "</style>\n",
       "<table border=\"1\" class=\"dataframe\">\n",
       "  <thead>\n",
       "    <tr>\n",
       "      <th></th>\n",
       "      <th colspan=\"8\" halign=\"left\">tip_pct</th>\n",
       "    </tr>\n",
       "    <tr>\n",
       "      <th></th>\n",
       "      <th>count</th>\n",
       "      <th>mean</th>\n",
       "      <th>std</th>\n",
       "      <th>min</th>\n",
       "      <th>25%</th>\n",
       "      <th>50%</th>\n",
       "      <th>75%</th>\n",
       "      <th>max</th>\n",
       "    </tr>\n",
       "    <tr>\n",
       "      <th>smoker</th>\n",
       "      <th></th>\n",
       "      <th></th>\n",
       "      <th></th>\n",
       "      <th></th>\n",
       "      <th></th>\n",
       "      <th></th>\n",
       "      <th></th>\n",
       "      <th></th>\n",
       "    </tr>\n",
       "  </thead>\n",
       "  <tbody>\n",
       "    <tr>\n",
       "      <th>Yes</th>\n",
       "      <td>93.0</td>\n",
       "      <td>0.163196</td>\n",
       "      <td>0.085119</td>\n",
       "      <td>0.035638</td>\n",
       "      <td>0.106771</td>\n",
       "      <td>0.153846</td>\n",
       "      <td>0.195059</td>\n",
       "      <td>0.710345</td>\n",
       "    </tr>\n",
       "    <tr>\n",
       "      <th>No</th>\n",
       "      <td>151.0</td>\n",
       "      <td>0.159328</td>\n",
       "      <td>0.039910</td>\n",
       "      <td>0.056797</td>\n",
       "      <td>0.136906</td>\n",
       "      <td>0.155625</td>\n",
       "      <td>0.185014</td>\n",
       "      <td>0.291990</td>\n",
       "    </tr>\n",
       "  </tbody>\n",
       "</table>\n",
       "</div>"
      ],
      "text/plain": [
       "       tip_pct                                                              \\\n",
       "         count      mean       std       min       25%       50%       75%   \n",
       "smoker                                                                       \n",
       "Yes       93.0  0.163196  0.085119  0.035638  0.106771  0.153846  0.195059   \n",
       "No       151.0  0.159328  0.039910  0.056797  0.136906  0.155625  0.185014   \n",
       "\n",
       "                  \n",
       "             max  \n",
       "smoker            \n",
       "Yes     0.710345  \n",
       "No      0.291990  "
      ]
     },
     "execution_count": 42,
     "metadata": {},
     "output_type": "execute_result"
    }
   ],
   "source": [
    "tips.groupby('smoker')['tip_pct'].mean()\n",
    "tips.groupby('smoker')[['tip_pct']].describe()"
   ]
  },
  {
   "cell_type": "markdown",
   "id": "fc0445d4",
   "metadata": {},
   "source": [
    "#### 6) 팁의 비율이 요일과 점심/저녁 여부, 인원수에 어떤 영향을 받는지 조회\n",
    "어떤 요인이 가장 크게 작용하는지"
   ]
  },
  {
   "cell_type": "code",
   "execution_count": 52,
   "id": "9c2e9c68",
   "metadata": {},
   "outputs": [],
   "source": [
    "?pd.DataFrame.pivot_table\n",
    "?pd.DataFrame.groupby"
   ]
  },
  {
   "cell_type": "code",
   "execution_count": 51,
   "id": "2ad55179",
   "metadata": {
    "scrolled": false
   },
   "outputs": [
    {
     "name": "stdout",
     "output_type": "stream",
     "text": [
      "                   tip_pct\n",
      "day  time   size          \n",
      "Thur Lunch  1     0.181728\n",
      "            2     0.164024\n",
      "            3     0.144599\n",
      "            4     0.145515\n",
      "            5     0.121389\n",
      "            6     0.173706\n",
      "     Dinner 2     0.159744\n",
      "Fri  Lunch  1     0.223776\n",
      "            2     0.181969\n",
      "            3     0.187735\n",
      "     Dinner 2     0.162659\n",
      "            4     0.117750\n",
      "Sat  Dinner 1     0.231832\n",
      "            2     0.155289\n",
      "            3     0.151439\n",
      "            4     0.138289\n",
      "            5     0.106572\n",
      "Sun  Dinner 2     0.180870\n",
      "            3     0.152662\n",
      "            4     0.153168\n",
      "            5     0.159839\n",
      "            6     0.103799\n"
     ]
    },
    {
     "data": {
      "text/html": [
       "<div>\n",
       "<style scoped>\n",
       "    .dataframe tbody tr th:only-of-type {\n",
       "        vertical-align: middle;\n",
       "    }\n",
       "\n",
       "    .dataframe tbody tr th {\n",
       "        vertical-align: top;\n",
       "    }\n",
       "\n",
       "    .dataframe thead th {\n",
       "        text-align: right;\n",
       "    }\n",
       "</style>\n",
       "<table border=\"1\" class=\"dataframe\">\n",
       "  <thead>\n",
       "    <tr style=\"text-align: right;\">\n",
       "      <th></th>\n",
       "      <th></th>\n",
       "      <th></th>\n",
       "      <th>tip_pct</th>\n",
       "    </tr>\n",
       "    <tr>\n",
       "      <th>day</th>\n",
       "      <th>time</th>\n",
       "      <th>size</th>\n",
       "      <th></th>\n",
       "    </tr>\n",
       "  </thead>\n",
       "  <tbody>\n",
       "    <tr>\n",
       "      <th rowspan=\"7\" valign=\"top\">Thur</th>\n",
       "      <th rowspan=\"6\" valign=\"top\">Lunch</th>\n",
       "      <th>1</th>\n",
       "      <td>0.181728</td>\n",
       "    </tr>\n",
       "    <tr>\n",
       "      <th>2</th>\n",
       "      <td>0.164024</td>\n",
       "    </tr>\n",
       "    <tr>\n",
       "      <th>3</th>\n",
       "      <td>0.144599</td>\n",
       "    </tr>\n",
       "    <tr>\n",
       "      <th>4</th>\n",
       "      <td>0.145515</td>\n",
       "    </tr>\n",
       "    <tr>\n",
       "      <th>5</th>\n",
       "      <td>0.121389</td>\n",
       "    </tr>\n",
       "    <tr>\n",
       "      <th>6</th>\n",
       "      <td>0.173706</td>\n",
       "    </tr>\n",
       "    <tr>\n",
       "      <th>Dinner</th>\n",
       "      <th>2</th>\n",
       "      <td>0.159744</td>\n",
       "    </tr>\n",
       "    <tr>\n",
       "      <th rowspan=\"5\" valign=\"top\">Fri</th>\n",
       "      <th rowspan=\"3\" valign=\"top\">Lunch</th>\n",
       "      <th>1</th>\n",
       "      <td>0.223776</td>\n",
       "    </tr>\n",
       "    <tr>\n",
       "      <th>2</th>\n",
       "      <td>0.181969</td>\n",
       "    </tr>\n",
       "    <tr>\n",
       "      <th>3</th>\n",
       "      <td>0.187735</td>\n",
       "    </tr>\n",
       "    <tr>\n",
       "      <th rowspan=\"2\" valign=\"top\">Dinner</th>\n",
       "      <th>2</th>\n",
       "      <td>0.162659</td>\n",
       "    </tr>\n",
       "    <tr>\n",
       "      <th>4</th>\n",
       "      <td>0.117750</td>\n",
       "    </tr>\n",
       "    <tr>\n",
       "      <th rowspan=\"5\" valign=\"top\">Sat</th>\n",
       "      <th rowspan=\"5\" valign=\"top\">Dinner</th>\n",
       "      <th>1</th>\n",
       "      <td>0.231832</td>\n",
       "    </tr>\n",
       "    <tr>\n",
       "      <th>2</th>\n",
       "      <td>0.155289</td>\n",
       "    </tr>\n",
       "    <tr>\n",
       "      <th>3</th>\n",
       "      <td>0.151439</td>\n",
       "    </tr>\n",
       "    <tr>\n",
       "      <th>4</th>\n",
       "      <td>0.138289</td>\n",
       "    </tr>\n",
       "    <tr>\n",
       "      <th>5</th>\n",
       "      <td>0.106572</td>\n",
       "    </tr>\n",
       "    <tr>\n",
       "      <th rowspan=\"5\" valign=\"top\">Sun</th>\n",
       "      <th rowspan=\"5\" valign=\"top\">Dinner</th>\n",
       "      <th>2</th>\n",
       "      <td>0.180870</td>\n",
       "    </tr>\n",
       "    <tr>\n",
       "      <th>3</th>\n",
       "      <td>0.152662</td>\n",
       "    </tr>\n",
       "    <tr>\n",
       "      <th>4</th>\n",
       "      <td>0.153168</td>\n",
       "    </tr>\n",
       "    <tr>\n",
       "      <th>5</th>\n",
       "      <td>0.159839</td>\n",
       "    </tr>\n",
       "    <tr>\n",
       "      <th>6</th>\n",
       "      <td>0.103799</td>\n",
       "    </tr>\n",
       "  </tbody>\n",
       "</table>\n",
       "</div>"
      ],
      "text/plain": [
       "                   tip_pct\n",
       "day  time   size          \n",
       "Thur Lunch  1     0.181728\n",
       "            2     0.164024\n",
       "            3     0.144599\n",
       "            4     0.145515\n",
       "            5     0.121389\n",
       "            6     0.173706\n",
       "     Dinner 2     0.159744\n",
       "Fri  Lunch  1     0.223776\n",
       "            2     0.181969\n",
       "            3     0.187735\n",
       "     Dinner 2     0.162659\n",
       "            4     0.117750\n",
       "Sat  Dinner 1     0.231832\n",
       "            2     0.155289\n",
       "            3     0.151439\n",
       "            4     0.138289\n",
       "            5     0.106572\n",
       "Sun  Dinner 2     0.180870\n",
       "            3     0.152662\n",
       "            4     0.153168\n",
       "            5     0.159839\n",
       "            6     0.103799"
      ]
     },
     "execution_count": 51,
     "metadata": {},
     "output_type": "execute_result"
    }
   ],
   "source": [
    "tips.pivot_table('tip_pct','day')\n",
    "tips.pivot_table('tip_pct','time')\n",
    "tips.pivot_table('tip_pct','size')\n",
    "print(tips.pivot_table('tip_pct',['day','time','size']))\n",
    "tips.groupby(['day','time','size'])[['tip_pct']].mean().dropna()    # 결측치 제거"
   ]
  },
  {
   "cell_type": "code",
   "execution_count": 57,
   "id": "09b9fd75",
   "metadata": {},
   "outputs": [
    {
     "data": {
      "text/html": [
       "<div>\n",
       "<style scoped>\n",
       "    .dataframe tbody tr th:only-of-type {\n",
       "        vertical-align: middle;\n",
       "    }\n",
       "\n",
       "    .dataframe tbody tr th {\n",
       "        vertical-align: top;\n",
       "    }\n",
       "\n",
       "    .dataframe thead th {\n",
       "        text-align: right;\n",
       "    }\n",
       "</style>\n",
       "<table border=\"1\" class=\"dataframe\">\n",
       "  <thead>\n",
       "    <tr style=\"text-align: right;\">\n",
       "      <th></th>\n",
       "      <th></th>\n",
       "      <th></th>\n",
       "      <th>tip_pct</th>\n",
       "    </tr>\n",
       "    <tr>\n",
       "      <th>day</th>\n",
       "      <th>time</th>\n",
       "      <th>size</th>\n",
       "      <th></th>\n",
       "    </tr>\n",
       "  </thead>\n",
       "  <tbody>\n",
       "    <tr>\n",
       "      <th rowspan=\"7\" valign=\"top\">Thur</th>\n",
       "      <th rowspan=\"6\" valign=\"top\">Lunch</th>\n",
       "      <th>1</th>\n",
       "      <td>0.181728</td>\n",
       "    </tr>\n",
       "    <tr>\n",
       "      <th>2</th>\n",
       "      <td>0.164024</td>\n",
       "    </tr>\n",
       "    <tr>\n",
       "      <th>3</th>\n",
       "      <td>0.144599</td>\n",
       "    </tr>\n",
       "    <tr>\n",
       "      <th>4</th>\n",
       "      <td>0.145515</td>\n",
       "    </tr>\n",
       "    <tr>\n",
       "      <th>5</th>\n",
       "      <td>0.121389</td>\n",
       "    </tr>\n",
       "    <tr>\n",
       "      <th>6</th>\n",
       "      <td>0.173706</td>\n",
       "    </tr>\n",
       "    <tr>\n",
       "      <th>Dinner</th>\n",
       "      <th>2</th>\n",
       "      <td>0.159744</td>\n",
       "    </tr>\n",
       "    <tr>\n",
       "      <th rowspan=\"5\" valign=\"top\">Fri</th>\n",
       "      <th rowspan=\"3\" valign=\"top\">Lunch</th>\n",
       "      <th>1</th>\n",
       "      <td>0.223776</td>\n",
       "    </tr>\n",
       "    <tr>\n",
       "      <th>2</th>\n",
       "      <td>0.181969</td>\n",
       "    </tr>\n",
       "    <tr>\n",
       "      <th>3</th>\n",
       "      <td>0.187735</td>\n",
       "    </tr>\n",
       "    <tr>\n",
       "      <th rowspan=\"2\" valign=\"top\">Dinner</th>\n",
       "      <th>2</th>\n",
       "      <td>0.162659</td>\n",
       "    </tr>\n",
       "    <tr>\n",
       "      <th>4</th>\n",
       "      <td>0.117750</td>\n",
       "    </tr>\n",
       "    <tr>\n",
       "      <th rowspan=\"5\" valign=\"top\">Sat</th>\n",
       "      <th rowspan=\"5\" valign=\"top\">Dinner</th>\n",
       "      <th>1</th>\n",
       "      <td>0.231832</td>\n",
       "    </tr>\n",
       "    <tr>\n",
       "      <th>2</th>\n",
       "      <td>0.155289</td>\n",
       "    </tr>\n",
       "    <tr>\n",
       "      <th>3</th>\n",
       "      <td>0.151439</td>\n",
       "    </tr>\n",
       "    <tr>\n",
       "      <th>4</th>\n",
       "      <td>0.138289</td>\n",
       "    </tr>\n",
       "    <tr>\n",
       "      <th>5</th>\n",
       "      <td>0.106572</td>\n",
       "    </tr>\n",
       "    <tr>\n",
       "      <th rowspan=\"5\" valign=\"top\">Sun</th>\n",
       "      <th rowspan=\"5\" valign=\"top\">Dinner</th>\n",
       "      <th>2</th>\n",
       "      <td>0.180870</td>\n",
       "    </tr>\n",
       "    <tr>\n",
       "      <th>3</th>\n",
       "      <td>0.152662</td>\n",
       "    </tr>\n",
       "    <tr>\n",
       "      <th>4</th>\n",
       "      <td>0.153168</td>\n",
       "    </tr>\n",
       "    <tr>\n",
       "      <th>5</th>\n",
       "      <td>0.159839</td>\n",
       "    </tr>\n",
       "    <tr>\n",
       "      <th>6</th>\n",
       "      <td>0.103799</td>\n",
       "    </tr>\n",
       "  </tbody>\n",
       "</table>\n",
       "</div>"
      ],
      "text/plain": [
       "                   tip_pct\n",
       "day  time   size          \n",
       "Thur Lunch  1     0.181728\n",
       "            2     0.164024\n",
       "            3     0.144599\n",
       "            4     0.145515\n",
       "            5     0.121389\n",
       "            6     0.173706\n",
       "     Dinner 2     0.159744\n",
       "Fri  Lunch  1     0.223776\n",
       "            2     0.181969\n",
       "            3     0.187735\n",
       "     Dinner 2     0.162659\n",
       "            4     0.117750\n",
       "Sat  Dinner 1     0.231832\n",
       "            2     0.155289\n",
       "            3     0.151439\n",
       "            4     0.138289\n",
       "            5     0.106572\n",
       "Sun  Dinner 2     0.180870\n",
       "            3     0.152662\n",
       "            4     0.153168\n",
       "            5     0.159839\n",
       "            6     0.103799"
      ]
     },
     "execution_count": 57,
     "metadata": {},
     "output_type": "execute_result"
    }
   ],
   "source": [
    "tip_mean= tips.groupby(['day','time','size'])[['tip_pct']].mean()\n",
    "tip_mean[tip_mean.tip_pct.notnull()]\n",
    "# tips.groupby(['day','time','size'])[['tip_pct']].mean().notnull()"
   ]
  },
  {
   "cell_type": "code",
   "execution_count": 342,
   "id": "a477983d",
   "metadata": {
    "scrolled": true
   },
   "outputs": [
    {
     "data": {
      "text/html": [
       "<div>\n",
       "<style scoped>\n",
       "    .dataframe tbody tr th:only-of-type {\n",
       "        vertical-align: middle;\n",
       "    }\n",
       "\n",
       "    .dataframe tbody tr th {\n",
       "        vertical-align: top;\n",
       "    }\n",
       "\n",
       "    .dataframe thead th {\n",
       "        text-align: right;\n",
       "    }\n",
       "</style>\n",
       "<table border=\"1\" class=\"dataframe\">\n",
       "  <thead>\n",
       "    <tr style=\"text-align: right;\">\n",
       "      <th>time</th>\n",
       "      <th>Lunch</th>\n",
       "      <th>Dinner</th>\n",
       "    </tr>\n",
       "    <tr>\n",
       "      <th>day</th>\n",
       "      <th></th>\n",
       "      <th></th>\n",
       "    </tr>\n",
       "  </thead>\n",
       "  <tbody>\n",
       "    <tr>\n",
       "      <th>Thur</th>\n",
       "      <td>0.161301</td>\n",
       "      <td>0.159744</td>\n",
       "    </tr>\n",
       "    <tr>\n",
       "      <th>Fri</th>\n",
       "      <td>0.188765</td>\n",
       "      <td>0.158916</td>\n",
       "    </tr>\n",
       "    <tr>\n",
       "      <th>Sat</th>\n",
       "      <td>NaN</td>\n",
       "      <td>0.153152</td>\n",
       "    </tr>\n",
       "    <tr>\n",
       "      <th>Sun</th>\n",
       "      <td>NaN</td>\n",
       "      <td>0.166897</td>\n",
       "    </tr>\n",
       "  </tbody>\n",
       "</table>\n",
       "</div>"
      ],
      "text/plain": [
       "time     Lunch    Dinner\n",
       "day                     \n",
       "Thur  0.161301  0.159744\n",
       "Fri   0.188765  0.158916\n",
       "Sat        NaN  0.153152\n",
       "Sun        NaN  0.166897"
      ]
     },
     "execution_count": 342,
     "metadata": {},
     "output_type": "execute_result"
    }
   ],
   "source": [
    "tips.pivot_table('tip_pct','day','time')"
   ]
  },
  {
   "cell_type": "code",
   "execution_count": 340,
   "id": "951f7095",
   "metadata": {},
   "outputs": [
    {
     "data": {
      "text/html": [
       "<div>\n",
       "<style scoped>\n",
       "    .dataframe tbody tr th:only-of-type {\n",
       "        vertical-align: middle;\n",
       "    }\n",
       "\n",
       "    .dataframe tbody tr th {\n",
       "        vertical-align: top;\n",
       "    }\n",
       "\n",
       "    .dataframe thead th {\n",
       "        text-align: right;\n",
       "    }\n",
       "</style>\n",
       "<table border=\"1\" class=\"dataframe\">\n",
       "  <thead>\n",
       "    <tr style=\"text-align: right;\">\n",
       "      <th>size</th>\n",
       "      <th>1</th>\n",
       "      <th>2</th>\n",
       "      <th>3</th>\n",
       "      <th>4</th>\n",
       "      <th>5</th>\n",
       "      <th>6</th>\n",
       "      <th>All</th>\n",
       "    </tr>\n",
       "    <tr>\n",
       "      <th>day</th>\n",
       "      <th></th>\n",
       "      <th></th>\n",
       "      <th></th>\n",
       "      <th></th>\n",
       "      <th></th>\n",
       "      <th></th>\n",
       "      <th></th>\n",
       "    </tr>\n",
       "  </thead>\n",
       "  <tbody>\n",
       "    <tr>\n",
       "      <th>Thur</th>\n",
       "      <td>0.181728</td>\n",
       "      <td>0.163935</td>\n",
       "      <td>0.144599</td>\n",
       "      <td>0.145515</td>\n",
       "      <td>0.121389</td>\n",
       "      <td>0.173706</td>\n",
       "      <td>0.161276</td>\n",
       "    </tr>\n",
       "    <tr>\n",
       "      <th>Fri</th>\n",
       "      <td>0.223776</td>\n",
       "      <td>0.168693</td>\n",
       "      <td>0.187735</td>\n",
       "      <td>0.117750</td>\n",
       "      <td>NaN</td>\n",
       "      <td>NaN</td>\n",
       "      <td>0.169913</td>\n",
       "    </tr>\n",
       "    <tr>\n",
       "      <th>Sat</th>\n",
       "      <td>0.231832</td>\n",
       "      <td>0.155289</td>\n",
       "      <td>0.151439</td>\n",
       "      <td>0.138289</td>\n",
       "      <td>0.106572</td>\n",
       "      <td>NaN</td>\n",
       "      <td>0.153152</td>\n",
       "    </tr>\n",
       "    <tr>\n",
       "      <th>Sun</th>\n",
       "      <td>NaN</td>\n",
       "      <td>0.180870</td>\n",
       "      <td>0.152662</td>\n",
       "      <td>0.153168</td>\n",
       "      <td>0.159839</td>\n",
       "      <td>0.103799</td>\n",
       "      <td>0.166897</td>\n",
       "    </tr>\n",
       "    <tr>\n",
       "      <th>All</th>\n",
       "      <td>0.217292</td>\n",
       "      <td>0.165719</td>\n",
       "      <td>0.152157</td>\n",
       "      <td>0.145949</td>\n",
       "      <td>0.141495</td>\n",
       "      <td>0.156229</td>\n",
       "      <td>0.160803</td>\n",
       "    </tr>\n",
       "  </tbody>\n",
       "</table>\n",
       "</div>"
      ],
      "text/plain": [
       "size         1         2         3         4         5         6       All\n",
       "day                                                                       \n",
       "Thur  0.181728  0.163935  0.144599  0.145515  0.121389  0.173706  0.161276\n",
       "Fri   0.223776  0.168693  0.187735  0.117750       NaN       NaN  0.169913\n",
       "Sat   0.231832  0.155289  0.151439  0.138289  0.106572       NaN  0.153152\n",
       "Sun        NaN  0.180870  0.152662  0.153168  0.159839  0.103799  0.166897\n",
       "All   0.217292  0.165719  0.152157  0.145949  0.141495  0.156229  0.160803"
      ]
     },
     "execution_count": 340,
     "metadata": {},
     "output_type": "execute_result"
    }
   ],
   "source": [
    "tips.pivot_table('tip_pct','day','size',margins=True)"
   ]
  },
  {
   "cell_type": "code",
   "execution_count": 302,
   "id": "477ab390",
   "metadata": {},
   "outputs": [
    {
     "data": {
      "text/html": [
       "<div>\n",
       "<style scoped>\n",
       "    .dataframe tbody tr th:only-of-type {\n",
       "        vertical-align: middle;\n",
       "    }\n",
       "\n",
       "    .dataframe tbody tr th {\n",
       "        vertical-align: top;\n",
       "    }\n",
       "\n",
       "    .dataframe thead th {\n",
       "        text-align: right;\n",
       "    }\n",
       "</style>\n",
       "<table border=\"1\" class=\"dataframe\">\n",
       "  <thead>\n",
       "    <tr style=\"text-align: right;\">\n",
       "      <th>size</th>\n",
       "      <th>1</th>\n",
       "      <th>2</th>\n",
       "      <th>3</th>\n",
       "      <th>4</th>\n",
       "      <th>5</th>\n",
       "      <th>6</th>\n",
       "      <th>All</th>\n",
       "    </tr>\n",
       "    <tr>\n",
       "      <th>time</th>\n",
       "      <th></th>\n",
       "      <th></th>\n",
       "      <th></th>\n",
       "      <th></th>\n",
       "      <th></th>\n",
       "      <th></th>\n",
       "      <th></th>\n",
       "    </tr>\n",
       "  </thead>\n",
       "  <tbody>\n",
       "    <tr>\n",
       "      <th>Lunch</th>\n",
       "      <td>0.202752</td>\n",
       "      <td>0.165750</td>\n",
       "      <td>0.153226</td>\n",
       "      <td>0.145515</td>\n",
       "      <td>0.121389</td>\n",
       "      <td>0.173706</td>\n",
       "      <td>0.164128</td>\n",
       "    </tr>\n",
       "    <tr>\n",
       "      <th>Dinner</th>\n",
       "      <td>0.231832</td>\n",
       "      <td>0.165704</td>\n",
       "      <td>0.151995</td>\n",
       "      <td>0.146017</td>\n",
       "      <td>0.146522</td>\n",
       "      <td>0.103799</td>\n",
       "      <td>0.159518</td>\n",
       "    </tr>\n",
       "    <tr>\n",
       "      <th>All</th>\n",
       "      <td>0.217292</td>\n",
       "      <td>0.165719</td>\n",
       "      <td>0.152157</td>\n",
       "      <td>0.145949</td>\n",
       "      <td>0.141495</td>\n",
       "      <td>0.156229</td>\n",
       "      <td>0.160803</td>\n",
       "    </tr>\n",
       "  </tbody>\n",
       "</table>\n",
       "</div>"
      ],
      "text/plain": [
       "size           1         2         3         4         5         6       All\n",
       "time                                                                        \n",
       "Lunch   0.202752  0.165750  0.153226  0.145515  0.121389  0.173706  0.164128\n",
       "Dinner  0.231832  0.165704  0.151995  0.146017  0.146522  0.103799  0.159518\n",
       "All     0.217292  0.165719  0.152157  0.145949  0.141495  0.156229  0.160803"
      ]
     },
     "execution_count": 302,
     "metadata": {},
     "output_type": "execute_result"
    }
   ],
   "source": [
    "tips.pivot_table('tip_pct','time','size', margins=True)"
   ]
  },
  {
   "cell_type": "code",
   "execution_count": 343,
   "id": "8ac2862f",
   "metadata": {
    "scrolled": false
   },
   "outputs": [
    {
     "data": {
      "text/html": [
       "<div>\n",
       "<style scoped>\n",
       "    .dataframe tbody tr th:only-of-type {\n",
       "        vertical-align: middle;\n",
       "    }\n",
       "\n",
       "    .dataframe tbody tr th {\n",
       "        vertical-align: top;\n",
       "    }\n",
       "\n",
       "    .dataframe thead th {\n",
       "        text-align: right;\n",
       "    }\n",
       "</style>\n",
       "<table border=\"1\" class=\"dataframe\">\n",
       "  <thead>\n",
       "    <tr style=\"text-align: right;\">\n",
       "      <th></th>\n",
       "      <th>size</th>\n",
       "      <th>1</th>\n",
       "      <th>2</th>\n",
       "      <th>3</th>\n",
       "      <th>4</th>\n",
       "      <th>5</th>\n",
       "      <th>6</th>\n",
       "      <th>All</th>\n",
       "    </tr>\n",
       "    <tr>\n",
       "      <th>day</th>\n",
       "      <th>time</th>\n",
       "      <th></th>\n",
       "      <th></th>\n",
       "      <th></th>\n",
       "      <th></th>\n",
       "      <th></th>\n",
       "      <th></th>\n",
       "      <th></th>\n",
       "    </tr>\n",
       "  </thead>\n",
       "  <tbody>\n",
       "    <tr>\n",
       "      <th rowspan=\"2\" valign=\"top\">Thur</th>\n",
       "      <th>Lunch</th>\n",
       "      <td>0.181728</td>\n",
       "      <td>0.164024</td>\n",
       "      <td>0.144599</td>\n",
       "      <td>0.145515</td>\n",
       "      <td>0.121389</td>\n",
       "      <td>0.173706</td>\n",
       "      <td>0.161301</td>\n",
       "    </tr>\n",
       "    <tr>\n",
       "      <th>Dinner</th>\n",
       "      <td>NaN</td>\n",
       "      <td>0.159744</td>\n",
       "      <td>NaN</td>\n",
       "      <td>NaN</td>\n",
       "      <td>NaN</td>\n",
       "      <td>NaN</td>\n",
       "      <td>0.159744</td>\n",
       "    </tr>\n",
       "    <tr>\n",
       "      <th rowspan=\"2\" valign=\"top\">Fri</th>\n",
       "      <th>Lunch</th>\n",
       "      <td>0.223776</td>\n",
       "      <td>0.181969</td>\n",
       "      <td>0.187735</td>\n",
       "      <td>NaN</td>\n",
       "      <td>NaN</td>\n",
       "      <td>NaN</td>\n",
       "      <td>0.188765</td>\n",
       "    </tr>\n",
       "    <tr>\n",
       "      <th>Dinner</th>\n",
       "      <td>NaN</td>\n",
       "      <td>0.162659</td>\n",
       "      <td>NaN</td>\n",
       "      <td>0.117750</td>\n",
       "      <td>NaN</td>\n",
       "      <td>NaN</td>\n",
       "      <td>0.158916</td>\n",
       "    </tr>\n",
       "    <tr>\n",
       "      <th>Sat</th>\n",
       "      <th>Dinner</th>\n",
       "      <td>0.231832</td>\n",
       "      <td>0.155289</td>\n",
       "      <td>0.151439</td>\n",
       "      <td>0.138289</td>\n",
       "      <td>0.106572</td>\n",
       "      <td>NaN</td>\n",
       "      <td>0.153152</td>\n",
       "    </tr>\n",
       "    <tr>\n",
       "      <th>Sun</th>\n",
       "      <th>Dinner</th>\n",
       "      <td>NaN</td>\n",
       "      <td>0.180870</td>\n",
       "      <td>0.152662</td>\n",
       "      <td>0.153168</td>\n",
       "      <td>0.159839</td>\n",
       "      <td>0.103799</td>\n",
       "      <td>0.166897</td>\n",
       "    </tr>\n",
       "    <tr>\n",
       "      <th>All</th>\n",
       "      <th></th>\n",
       "      <td>0.217292</td>\n",
       "      <td>0.165719</td>\n",
       "      <td>0.152157</td>\n",
       "      <td>0.145949</td>\n",
       "      <td>0.141495</td>\n",
       "      <td>0.156229</td>\n",
       "      <td>0.160803</td>\n",
       "    </tr>\n",
       "  </tbody>\n",
       "</table>\n",
       "</div>"
      ],
      "text/plain": [
       "size                1         2         3         4         5         6  \\\n",
       "day  time                                                                 \n",
       "Thur Lunch   0.181728  0.164024  0.144599  0.145515  0.121389  0.173706   \n",
       "     Dinner       NaN  0.159744       NaN       NaN       NaN       NaN   \n",
       "Fri  Lunch   0.223776  0.181969  0.187735       NaN       NaN       NaN   \n",
       "     Dinner       NaN  0.162659       NaN  0.117750       NaN       NaN   \n",
       "Sat  Dinner  0.231832  0.155289  0.151439  0.138289  0.106572       NaN   \n",
       "Sun  Dinner       NaN  0.180870  0.152662  0.153168  0.159839  0.103799   \n",
       "All          0.217292  0.165719  0.152157  0.145949  0.141495  0.156229   \n",
       "\n",
       "size              All  \n",
       "day  time              \n",
       "Thur Lunch   0.161301  \n",
       "     Dinner  0.159744  \n",
       "Fri  Lunch   0.188765  \n",
       "     Dinner  0.158916  \n",
       "Sat  Dinner  0.153152  \n",
       "Sun  Dinner  0.166897  \n",
       "All          0.160803  "
      ]
     },
     "execution_count": 343,
     "metadata": {},
     "output_type": "execute_result"
    }
   ],
   "source": [
    "tips.pivot_table('tip_pct',['day','time'],'size', margins=True)"
   ]
  },
  {
   "cell_type": "code",
   "execution_count": 344,
   "id": "85cfcfa7",
   "metadata": {
    "scrolled": true
   },
   "outputs": [
    {
     "data": {
      "text/html": [
       "<div>\n",
       "<style scoped>\n",
       "    .dataframe tbody tr th:only-of-type {\n",
       "        vertical-align: middle;\n",
       "    }\n",
       "\n",
       "    .dataframe tbody tr th {\n",
       "        vertical-align: top;\n",
       "    }\n",
       "\n",
       "    .dataframe thead th {\n",
       "        text-align: right;\n",
       "    }\n",
       "</style>\n",
       "<table border=\"1\" class=\"dataframe\">\n",
       "  <thead>\n",
       "    <tr style=\"text-align: right;\">\n",
       "      <th></th>\n",
       "      <th>size</th>\n",
       "      <th>1</th>\n",
       "      <th>2</th>\n",
       "      <th>3</th>\n",
       "      <th>4</th>\n",
       "      <th>5</th>\n",
       "      <th>6</th>\n",
       "      <th>All</th>\n",
       "    </tr>\n",
       "    <tr>\n",
       "      <th>day</th>\n",
       "      <th>time</th>\n",
       "      <th></th>\n",
       "      <th></th>\n",
       "      <th></th>\n",
       "      <th></th>\n",
       "      <th></th>\n",
       "      <th></th>\n",
       "      <th></th>\n",
       "    </tr>\n",
       "  </thead>\n",
       "  <tbody>\n",
       "    <tr>\n",
       "      <th rowspan=\"2\" valign=\"top\">Thur</th>\n",
       "      <th>Lunch</th>\n",
       "      <td>1.8300</td>\n",
       "      <td>2.430638</td>\n",
       "      <td>2.692500</td>\n",
       "      <td>4.218000</td>\n",
       "      <td>5.000000</td>\n",
       "      <td>5.300</td>\n",
       "      <td>2.767705</td>\n",
       "    </tr>\n",
       "    <tr>\n",
       "      <th>Dinner</th>\n",
       "      <td>NaN</td>\n",
       "      <td>3.000000</td>\n",
       "      <td>NaN</td>\n",
       "      <td>NaN</td>\n",
       "      <td>NaN</td>\n",
       "      <td>NaN</td>\n",
       "      <td>3.000000</td>\n",
       "    </tr>\n",
       "    <tr>\n",
       "      <th rowspan=\"2\" valign=\"top\">Fri</th>\n",
       "      <th>Lunch</th>\n",
       "      <td>1.9200</td>\n",
       "      <td>2.352000</td>\n",
       "      <td>3.000000</td>\n",
       "      <td>NaN</td>\n",
       "      <td>NaN</td>\n",
       "      <td>NaN</td>\n",
       "      <td>2.382857</td>\n",
       "    </tr>\n",
       "    <tr>\n",
       "      <th>Dinner</th>\n",
       "      <td>NaN</td>\n",
       "      <td>2.777273</td>\n",
       "      <td>NaN</td>\n",
       "      <td>4.730000</td>\n",
       "      <td>NaN</td>\n",
       "      <td>NaN</td>\n",
       "      <td>2.940000</td>\n",
       "    </tr>\n",
       "    <tr>\n",
       "      <th>Sat</th>\n",
       "      <th>Dinner</th>\n",
       "      <td>1.0000</td>\n",
       "      <td>2.517547</td>\n",
       "      <td>3.797778</td>\n",
       "      <td>4.123846</td>\n",
       "      <td>3.000000</td>\n",
       "      <td>NaN</td>\n",
       "      <td>2.993103</td>\n",
       "    </tr>\n",
       "    <tr>\n",
       "      <th>Sun</th>\n",
       "      <th>Dinner</th>\n",
       "      <td>NaN</td>\n",
       "      <td>2.816923</td>\n",
       "      <td>3.120667</td>\n",
       "      <td>4.087778</td>\n",
       "      <td>4.046667</td>\n",
       "      <td>5.000</td>\n",
       "      <td>3.255132</td>\n",
       "    </tr>\n",
       "    <tr>\n",
       "      <th>All</th>\n",
       "      <th></th>\n",
       "      <td>1.4375</td>\n",
       "      <td>2.582308</td>\n",
       "      <td>3.393158</td>\n",
       "      <td>4.135405</td>\n",
       "      <td>4.028000</td>\n",
       "      <td>5.225</td>\n",
       "      <td>2.998279</td>\n",
       "    </tr>\n",
       "  </tbody>\n",
       "</table>\n",
       "</div>"
      ],
      "text/plain": [
       "size              1         2         3         4         5      6       All\n",
       "day  time                                                                   \n",
       "Thur Lunch   1.8300  2.430638  2.692500  4.218000  5.000000  5.300  2.767705\n",
       "     Dinner     NaN  3.000000       NaN       NaN       NaN    NaN  3.000000\n",
       "Fri  Lunch   1.9200  2.352000  3.000000       NaN       NaN    NaN  2.382857\n",
       "     Dinner     NaN  2.777273       NaN  4.730000       NaN    NaN  2.940000\n",
       "Sat  Dinner  1.0000  2.517547  3.797778  4.123846  3.000000    NaN  2.993103\n",
       "Sun  Dinner     NaN  2.816923  3.120667  4.087778  4.046667  5.000  3.255132\n",
       "All          1.4375  2.582308  3.393158  4.135405  4.028000  5.225  2.998279"
      ]
     },
     "execution_count": 344,
     "metadata": {},
     "output_type": "execute_result"
    }
   ],
   "source": [
    "tips.pivot_table('tip',['day','time'],'size', margins=True)"
   ]
  },
  {
   "cell_type": "code",
   "execution_count": 305,
   "id": "6ebf1044",
   "metadata": {
    "scrolled": true
   },
   "outputs": [
    {
     "data": {
      "text/html": [
       "<div>\n",
       "<style scoped>\n",
       "    .dataframe tbody tr th:only-of-type {\n",
       "        vertical-align: middle;\n",
       "    }\n",
       "\n",
       "    .dataframe tbody tr th {\n",
       "        vertical-align: top;\n",
       "    }\n",
       "\n",
       "    .dataframe thead th {\n",
       "        text-align: right;\n",
       "    }\n",
       "</style>\n",
       "<table border=\"1\" class=\"dataframe\">\n",
       "  <thead>\n",
       "    <tr style=\"text-align: right;\">\n",
       "      <th></th>\n",
       "      <th>size</th>\n",
       "      <th>1</th>\n",
       "      <th>2</th>\n",
       "      <th>3</th>\n",
       "      <th>4</th>\n",
       "      <th>5</th>\n",
       "      <th>6</th>\n",
       "    </tr>\n",
       "    <tr>\n",
       "      <th>day</th>\n",
       "      <th>time</th>\n",
       "      <th></th>\n",
       "      <th></th>\n",
       "      <th></th>\n",
       "      <th></th>\n",
       "      <th></th>\n",
       "      <th></th>\n",
       "    </tr>\n",
       "  </thead>\n",
       "  <tbody>\n",
       "    <tr>\n",
       "      <th rowspan=\"2\" valign=\"top\">Thur</th>\n",
       "      <th>Lunch</th>\n",
       "      <td>0.181728</td>\n",
       "      <td>0.164024</td>\n",
       "      <td>0.144599</td>\n",
       "      <td>0.145515</td>\n",
       "      <td>0.121389</td>\n",
       "      <td>0.173706</td>\n",
       "    </tr>\n",
       "    <tr>\n",
       "      <th>Dinner</th>\n",
       "      <td>NaN</td>\n",
       "      <td>0.159744</td>\n",
       "      <td>NaN</td>\n",
       "      <td>NaN</td>\n",
       "      <td>NaN</td>\n",
       "      <td>NaN</td>\n",
       "    </tr>\n",
       "    <tr>\n",
       "      <th rowspan=\"2\" valign=\"top\">Fri</th>\n",
       "      <th>Lunch</th>\n",
       "      <td>0.223776</td>\n",
       "      <td>0.181969</td>\n",
       "      <td>0.187735</td>\n",
       "      <td>NaN</td>\n",
       "      <td>NaN</td>\n",
       "      <td>NaN</td>\n",
       "    </tr>\n",
       "    <tr>\n",
       "      <th>Dinner</th>\n",
       "      <td>NaN</td>\n",
       "      <td>0.162659</td>\n",
       "      <td>NaN</td>\n",
       "      <td>0.117750</td>\n",
       "      <td>NaN</td>\n",
       "      <td>NaN</td>\n",
       "    </tr>\n",
       "    <tr>\n",
       "      <th>Sat</th>\n",
       "      <th>Dinner</th>\n",
       "      <td>0.231832</td>\n",
       "      <td>0.155289</td>\n",
       "      <td>0.151439</td>\n",
       "      <td>0.138289</td>\n",
       "      <td>0.106572</td>\n",
       "      <td>NaN</td>\n",
       "    </tr>\n",
       "    <tr>\n",
       "      <th>Sun</th>\n",
       "      <th>Dinner</th>\n",
       "      <td>NaN</td>\n",
       "      <td>0.180870</td>\n",
       "      <td>0.152662</td>\n",
       "      <td>0.153168</td>\n",
       "      <td>0.159839</td>\n",
       "      <td>0.103799</td>\n",
       "    </tr>\n",
       "  </tbody>\n",
       "</table>\n",
       "</div>"
      ],
      "text/plain": [
       "size                1         2         3         4         5         6\n",
       "day  time                                                              \n",
       "Thur Lunch   0.181728  0.164024  0.144599  0.145515  0.121389  0.173706\n",
       "     Dinner       NaN  0.159744       NaN       NaN       NaN       NaN\n",
       "Fri  Lunch   0.223776  0.181969  0.187735       NaN       NaN       NaN\n",
       "     Dinner       NaN  0.162659       NaN  0.117750       NaN       NaN\n",
       "Sat  Dinner  0.231832  0.155289  0.151439  0.138289  0.106572       NaN\n",
       "Sun  Dinner       NaN  0.180870  0.152662  0.153168  0.159839  0.103799"
      ]
     },
     "execution_count": 305,
     "metadata": {},
     "output_type": "execute_result"
    }
   ],
   "source": [
    "tips.pivot_table('tip_pct',['day','time'],'size',margins=True)\n",
    "# tips.pivot_table('tip_pct',['day','size'],'time')\n",
    "# tips.pivot_table('tip_pct',['time','size'],'day')"
   ]
  },
  {
   "cell_type": "markdown",
   "id": "0b11b3ea",
   "metadata": {},
   "source": [
    "#### 7) 성별, 흡연 유무별로 가장 많은 팁과 가장 적은 팁의 차이 조회"
   ]
  },
  {
   "cell_type": "code",
   "execution_count": 345,
   "id": "a2808874",
   "metadata": {},
   "outputs": [
    {
     "data": {
      "text/html": [
       "<div>\n",
       "<style scoped>\n",
       "    .dataframe tbody tr th:only-of-type {\n",
       "        vertical-align: middle;\n",
       "    }\n",
       "\n",
       "    .dataframe tbody tr th {\n",
       "        vertical-align: top;\n",
       "    }\n",
       "\n",
       "    .dataframe thead tr th {\n",
       "        text-align: left;\n",
       "    }\n",
       "\n",
       "    .dataframe thead tr:last-of-type th {\n",
       "        text-align: right;\n",
       "    }\n",
       "</style>\n",
       "<table border=\"1\" class=\"dataframe\">\n",
       "  <thead>\n",
       "    <tr>\n",
       "      <th></th>\n",
       "      <th colspan=\"2\" halign=\"left\">&lt;lambda&gt;</th>\n",
       "    </tr>\n",
       "    <tr>\n",
       "      <th>smoker</th>\n",
       "      <th>Yes</th>\n",
       "      <th>No</th>\n",
       "    </tr>\n",
       "    <tr>\n",
       "      <th>sex</th>\n",
       "      <th></th>\n",
       "      <th></th>\n",
       "    </tr>\n",
       "  </thead>\n",
       "  <tbody>\n",
       "    <tr>\n",
       "      <th>Male</th>\n",
       "      <td>9.0</td>\n",
       "      <td>7.75</td>\n",
       "    </tr>\n",
       "    <tr>\n",
       "      <th>Female</th>\n",
       "      <td>5.5</td>\n",
       "      <td>4.20</td>\n",
       "    </tr>\n",
       "  </tbody>\n",
       "</table>\n",
       "</div>"
      ],
      "text/plain": [
       "       <lambda>      \n",
       "smoker      Yes    No\n",
       "sex                  \n",
       "Male        9.0  7.75\n",
       "Female      5.5  4.20"
      ]
     },
     "execution_count": 345,
     "metadata": {},
     "output_type": "execute_result"
    }
   ],
   "source": [
    "# tips.pivot_table('tip','sex','smoker',aggfunc=[np.min, np.max])\n",
    "tips.pivot_table('tip','sex','smoker',aggfunc=[lambda x: x.max()-x.min()])"
   ]
  },
  {
   "cell_type": "code",
   "execution_count": 346,
   "id": "cc9b6ce3",
   "metadata": {},
   "outputs": [
    {
     "data": {
      "text/html": [
       "<div>\n",
       "<style scoped>\n",
       "    .dataframe tbody tr th:only-of-type {\n",
       "        vertical-align: middle;\n",
       "    }\n",
       "\n",
       "    .dataframe tbody tr th {\n",
       "        vertical-align: top;\n",
       "    }\n",
       "\n",
       "    .dataframe thead th {\n",
       "        text-align: right;\n",
       "    }\n",
       "</style>\n",
       "<table border=\"1\" class=\"dataframe\">\n",
       "  <thead>\n",
       "    <tr style=\"text-align: right;\">\n",
       "      <th></th>\n",
       "      <th>total_bill</th>\n",
       "      <th>tip</th>\n",
       "      <th>sex</th>\n",
       "      <th>smoker</th>\n",
       "      <th>day</th>\n",
       "      <th>time</th>\n",
       "      <th>size</th>\n",
       "      <th>tip_pct</th>\n",
       "    </tr>\n",
       "  </thead>\n",
       "  <tbody>\n",
       "    <tr>\n",
       "      <th>0</th>\n",
       "      <td>16.99</td>\n",
       "      <td>1.01</td>\n",
       "      <td>Female</td>\n",
       "      <td>No</td>\n",
       "      <td>Sun</td>\n",
       "      <td>Dinner</td>\n",
       "      <td>2</td>\n",
       "      <td>0.059447</td>\n",
       "    </tr>\n",
       "    <tr>\n",
       "      <th>1</th>\n",
       "      <td>10.34</td>\n",
       "      <td>1.66</td>\n",
       "      <td>Male</td>\n",
       "      <td>No</td>\n",
       "      <td>Sun</td>\n",
       "      <td>Dinner</td>\n",
       "      <td>3</td>\n",
       "      <td>0.160542</td>\n",
       "    </tr>\n",
       "    <tr>\n",
       "      <th>2</th>\n",
       "      <td>21.01</td>\n",
       "      <td>3.50</td>\n",
       "      <td>Male</td>\n",
       "      <td>No</td>\n",
       "      <td>Sun</td>\n",
       "      <td>Dinner</td>\n",
       "      <td>3</td>\n",
       "      <td>0.166587</td>\n",
       "    </tr>\n",
       "    <tr>\n",
       "      <th>3</th>\n",
       "      <td>23.68</td>\n",
       "      <td>3.31</td>\n",
       "      <td>Male</td>\n",
       "      <td>No</td>\n",
       "      <td>Sun</td>\n",
       "      <td>Dinner</td>\n",
       "      <td>2</td>\n",
       "      <td>0.139780</td>\n",
       "    </tr>\n",
       "    <tr>\n",
       "      <th>4</th>\n",
       "      <td>24.59</td>\n",
       "      <td>3.61</td>\n",
       "      <td>Female</td>\n",
       "      <td>No</td>\n",
       "      <td>Sun</td>\n",
       "      <td>Dinner</td>\n",
       "      <td>4</td>\n",
       "      <td>0.146808</td>\n",
       "    </tr>\n",
       "    <tr>\n",
       "      <th>...</th>\n",
       "      <td>...</td>\n",
       "      <td>...</td>\n",
       "      <td>...</td>\n",
       "      <td>...</td>\n",
       "      <td>...</td>\n",
       "      <td>...</td>\n",
       "      <td>...</td>\n",
       "      <td>...</td>\n",
       "    </tr>\n",
       "    <tr>\n",
       "      <th>239</th>\n",
       "      <td>29.03</td>\n",
       "      <td>5.92</td>\n",
       "      <td>Male</td>\n",
       "      <td>No</td>\n",
       "      <td>Sat</td>\n",
       "      <td>Dinner</td>\n",
       "      <td>3</td>\n",
       "      <td>0.203927</td>\n",
       "    </tr>\n",
       "    <tr>\n",
       "      <th>240</th>\n",
       "      <td>27.18</td>\n",
       "      <td>2.00</td>\n",
       "      <td>Female</td>\n",
       "      <td>Yes</td>\n",
       "      <td>Sat</td>\n",
       "      <td>Dinner</td>\n",
       "      <td>2</td>\n",
       "      <td>0.073584</td>\n",
       "    </tr>\n",
       "    <tr>\n",
       "      <th>241</th>\n",
       "      <td>22.67</td>\n",
       "      <td>2.00</td>\n",
       "      <td>Male</td>\n",
       "      <td>Yes</td>\n",
       "      <td>Sat</td>\n",
       "      <td>Dinner</td>\n",
       "      <td>2</td>\n",
       "      <td>0.088222</td>\n",
       "    </tr>\n",
       "    <tr>\n",
       "      <th>242</th>\n",
       "      <td>17.82</td>\n",
       "      <td>1.75</td>\n",
       "      <td>Male</td>\n",
       "      <td>No</td>\n",
       "      <td>Sat</td>\n",
       "      <td>Dinner</td>\n",
       "      <td>2</td>\n",
       "      <td>0.098204</td>\n",
       "    </tr>\n",
       "    <tr>\n",
       "      <th>243</th>\n",
       "      <td>18.78</td>\n",
       "      <td>3.00</td>\n",
       "      <td>Female</td>\n",
       "      <td>No</td>\n",
       "      <td>Thur</td>\n",
       "      <td>Dinner</td>\n",
       "      <td>2</td>\n",
       "      <td>0.159744</td>\n",
       "    </tr>\n",
       "  </tbody>\n",
       "</table>\n",
       "<p>244 rows × 8 columns</p>\n",
       "</div>"
      ],
      "text/plain": [
       "     total_bill   tip     sex smoker   day    time  size   tip_pct\n",
       "0         16.99  1.01  Female     No   Sun  Dinner     2  0.059447\n",
       "1         10.34  1.66    Male     No   Sun  Dinner     3  0.160542\n",
       "2         21.01  3.50    Male     No   Sun  Dinner     3  0.166587\n",
       "3         23.68  3.31    Male     No   Sun  Dinner     2  0.139780\n",
       "4         24.59  3.61  Female     No   Sun  Dinner     4  0.146808\n",
       "..          ...   ...     ...    ...   ...     ...   ...       ...\n",
       "239       29.03  5.92    Male     No   Sat  Dinner     3  0.203927\n",
       "240       27.18  2.00  Female    Yes   Sat  Dinner     2  0.073584\n",
       "241       22.67  2.00    Male    Yes   Sat  Dinner     2  0.088222\n",
       "242       17.82  1.75    Male     No   Sat  Dinner     2  0.098204\n",
       "243       18.78  3.00  Female     No  Thur  Dinner     2  0.159744\n",
       "\n",
       "[244 rows x 8 columns]"
      ]
     },
     "execution_count": 346,
     "metadata": {},
     "output_type": "execute_result"
    }
   ],
   "source": [
    "tips"
   ]
  },
  {
   "cell_type": "markdown",
   "id": "f83180bb",
   "metadata": {},
   "source": [
    "## 7. 시계열 데이터\n",
    "- DateTimeIndex 자료형\n",
    "    - pd.to_datetime(): 문자열을 날짜 타입으로 변환\n",
    "    - pd.date_range(): 특정 범위의 날짜 인덱스를 생성"
   ]
  },
  {
   "cell_type": "code",
   "execution_count": 91,
   "id": "195fbca0",
   "metadata": {},
   "outputs": [
    {
     "data": {
      "text/plain": [
       "'\\nfreq\\n    S : 초\\n    T : 분\\n    H : 시간\\n    D : 일\\n    B : 주말이 아닌 평일\\n    W : 주(일요일)\\n    W-MON : 주(월요일)\\n    M : 각 달의 마지막 날\\n    MS : 각 달의 첫날\\n    BM : 주말이 아닌 평일중에서 각 달의 마지막 날\\n    BMS : 주말이 아닌 평일중에서 각 달의 첫날\\n    WOM-2THU : 각 달의 두번째 목요일\\n    Q-JAN : 각 분기의 첫 달의 마지막 날\\n    Q-DEC : 각 분기의 마지막 달의 마지막 날\\n'"
      ]
     },
     "execution_count": 91,
     "metadata": {},
     "output_type": "execute_result"
    }
   ],
   "source": [
    "\"\"\"\n",
    "freq\n",
    "    S : 초\n",
    "    T : 분\n",
    "    H : 시간\n",
    "    D : 일\n",
    "    B : 주말이 아닌 평일\n",
    "    W : 주(일요일)\n",
    "    W-MON : 주(월요일)\n",
    "    M : 각 달의 마지막 날\n",
    "    MS : 각 달의 첫날\n",
    "    BM : 주말이 아닌 평일중에서 각 달의 마지막 날\n",
    "    BMS : 주말이 아닌 평일중에서 각 달의 첫날\n",
    "    WOM-2THU : 각 달의 두번째 목요일\n",
    "    Q-JAN : 각 분기의 첫 달의 마지막 날\n",
    "    Q-DEC : 각 분기의 마지막 달의 마지막 날\n",
    "\"\"\""
   ]
  },
  {
   "cell_type": "markdown",
   "id": "11a374f2",
   "metadata": {},
   "source": [
    "### (1) 날짜 타입 변환"
   ]
  },
  {
   "cell_type": "code",
   "execution_count": 93,
   "id": "07d258b3",
   "metadata": {},
   "outputs": [
    {
     "data": {
      "text/plain": [
       "2023-01-01    1.624345\n",
       "2023-05-05   -0.611756\n",
       "2023-08-12   -0.528172\n",
       "2023-12-24   -1.072969\n",
       "dtype: float64"
      ]
     },
     "execution_count": 93,
     "metadata": {},
     "output_type": "execute_result"
    }
   ],
   "source": [
    "# 날짜를 인덱스로 활용\n",
    "date_str=['2023, 1, 1','2023, 5, 5','2023, 8, 12','2023, 12, 24']\n",
    "\n",
    "idx= pd.to_datetime(date_str)   # 인덱스로 활용 가능\n",
    "\n",
    "np.random.seed(1)\n",
    "pd.Series(np.random.randn(4), index=idx)"
   ]
  },
  {
   "cell_type": "markdown",
   "id": "457269fa",
   "metadata": {},
   "source": [
    "### (2) 날짜 데이터 생성"
   ]
  },
  {
   "cell_type": "code",
   "execution_count": 94,
   "id": "be69c9a3",
   "metadata": {},
   "outputs": [
    {
     "data": {
      "text/plain": [
       "DatetimeIndex(['2023-01-01', '2023-01-08', '2023-01-15', '2023-01-22',\n",
       "               '2023-01-29'],\n",
       "              dtype='datetime64[ns]', freq='W-SUN')"
      ]
     },
     "execution_count": 94,
     "metadata": {},
     "output_type": "execute_result"
    }
   ],
   "source": [
    "# 날짜 데이터 생성\n",
    "\n",
    "pd.date_range('2023-1-1','2023-5-5')  # 1월 1일부터 5월 5일까지 날짜 생성\n",
    "pd.date_range('2023-1-1', periods=30) # 30일간의 날짜 생성\n",
    "pd.date_range('2023-1-1','2023-1-31', freq='W') # 1/1 ~1/31 중 일요일"
   ]
  },
  {
   "cell_type": "markdown",
   "id": "ff81e1b6",
   "metadata": {},
   "source": [
    "### (3) shift 연산\n",
    "    자리를 이동해서 연산"
   ]
  },
  {
   "cell_type": "code",
   "execution_count": 97,
   "id": "e755fac1",
   "metadata": {},
   "outputs": [
    {
     "data": {
      "text/plain": [
       "2023-01-31    1.764052\n",
       "2023-02-28    0.400157\n",
       "2023-03-31    0.978738\n",
       "2023-04-30    2.240893\n",
       "Freq: M, dtype: float64"
      ]
     },
     "execution_count": 97,
     "metadata": {},
     "output_type": "execute_result"
    }
   ],
   "source": [
    "np.random.seed(0)\n",
    "\n",
    "ts= pd.Series(np.random.randn(4),index=pd.date_range('2023-1-1',periods=4, freq='M')) # 각 달의 마지막 날\n",
    "ts"
   ]
  },
  {
   "cell_type": "code",
   "execution_count": 104,
   "id": "a4bd2d1b",
   "metadata": {},
   "outputs": [
    {
     "name": "stdout",
     "output_type": "stream",
     "text": [
      "2023-01-31         NaN\n",
      "2023-02-28    1.764052\n",
      "2023-03-31    0.400157\n",
      "2023-04-30    0.978738\n",
      "Freq: M, dtype: float64\n",
      "2023-01-31    0.400157\n",
      "2023-02-28    0.978738\n",
      "2023-03-31    2.240893\n",
      "2023-04-30         NaN\n",
      "Freq: M, dtype: float64\n",
      "2023-02-01    1.764052\n",
      "2023-03-01    0.400157\n",
      "2023-04-01    0.978738\n",
      "2023-05-01    2.240893\n",
      "dtype: float64\n"
     ]
    }
   ],
   "source": [
    "print(ts.shift(1) )\n",
    "print(ts.shift(-1))\n",
    "print(ts.shift(1, freq='D') )# 날짜 인덱스가 이동. 값이랑 인덱스 이동 방향 다름 주의. freq 변경하면 원래 달에서 변경된 기준으로"
   ]
  },
  {
   "cell_type": "markdown",
   "id": "3bce5b33",
   "metadata": {},
   "source": [
    "### (4) resampling\n",
    "- 시간 간격을 다시 재조정\n",
    "- 방법\n",
    "    - 다운 샘플링: 시간 구간이 커지면 데이터 양이 감소\n",
    "    - 업 샘플링: 시간 구간이 작아지면서 데이터 양이 증가"
   ]
  },
  {
   "cell_type": "markdown",
   "id": "2bcf03b0",
   "metadata": {},
   "source": [
    "#### 1) 다운 샘플링\n",
    "    데이터가 그룹으로 묶이기 때문에 집계 연산을 해서 대표값을 구해야한다"
   ]
  },
  {
   "cell_type": "code",
   "execution_count": 105,
   "id": "5678240f",
   "metadata": {},
   "outputs": [
    {
     "data": {
      "text/plain": [
       "2023-04-01    0.356366\n",
       "2023-04-02    0.706573\n",
       "2023-04-03    0.010500\n",
       "2023-04-04    1.785870\n",
       "2023-04-05    0.126912\n",
       "2023-04-06    0.401989\n",
       "2023-04-07    1.883151\n",
       "2023-04-08   -1.347759\n",
       "2023-04-09   -1.270485\n",
       "2023-04-10    0.969397\n",
       "Freq: D, dtype: float64"
      ]
     },
     "execution_count": 105,
     "metadata": {},
     "output_type": "execute_result"
    }
   ],
   "source": [
    "ts= pd.Series(np.random.randn(100),index=pd.date_range('2023-1-1',periods=100, freq='D')) \n",
    "ts.tail(10)"
   ]
  },
  {
   "cell_type": "code",
   "execution_count": 107,
   "id": "7ec6b855",
   "metadata": {},
   "outputs": [
    {
     "data": {
      "text/plain": [
       "2023-01-01    1.867558\n",
       "2023-01-08    0.246736\n",
       "2023-01-15    0.466034\n",
       "2023-01-22   -0.259401\n",
       "2023-01-29    0.358005\n",
       "2023-02-05   -0.061331\n",
       "2023-02-12   -0.632084\n",
       "2023-02-19   -0.464164\n",
       "2023-02-26   -0.128626\n",
       "2023-03-05   -0.612965\n",
       "2023-03-12    0.044234\n",
       "2023-03-19   -0.379167\n",
       "2023-03-26    0.320237\n",
       "2023-04-02    0.588796\n",
       "2023-04-09    0.227168\n",
       "2023-04-16    0.969397\n",
       "Freq: W-SUN, dtype: float64"
      ]
     },
     "execution_count": 107,
     "metadata": {},
     "output_type": "execute_result"
    }
   ],
   "source": [
    "ts.resample('W').mean()"
   ]
  },
  {
   "cell_type": "code",
   "execution_count": 108,
   "id": "e8d87bd1",
   "metadata": {},
   "outputs": [
    {
     "data": {
      "text/plain": [
       "2023-01-31    0.168338\n",
       "2023-02-28   -0.280265\n",
       "2023-03-31   -0.005235\n",
       "2023-04-30    0.362251\n",
       "Freq: M, dtype: float64"
      ]
     },
     "execution_count": 108,
     "metadata": {},
     "output_type": "execute_result"
    }
   ],
   "source": [
    "ts.resample('M').mean()"
   ]
  },
  {
   "cell_type": "code",
   "execution_count": 113,
   "id": "0c3624e2",
   "metadata": {},
   "outputs": [
    {
     "data": {
      "text/plain": [
       "2023-01-01 00:00:00   -1.527945\n",
       "2023-01-01 00:10:00   -1.379783\n",
       "2023-01-01 00:20:00   -1.956511\n",
       "2023-01-01 00:30:00   -4.299598\n",
       "2023-01-01 00:40:00   -3.888358\n",
       "2023-01-01 00:50:00    2.673232\n",
       "Freq: 10T, dtype: float64"
      ]
     },
     "execution_count": 113,
     "metadata": {},
     "output_type": "execute_result"
    }
   ],
   "source": [
    "ts= pd.Series(np.random.randn(60),index=pd.date_range('2023-1-1',periods=60, freq='T')) \n",
    "ts\n",
    "ts.resample('10T').sum()"
   ]
  },
  {
   "cell_type": "markdown",
   "id": "b31ee8dd",
   "metadata": {},
   "source": [
    "#### 2) 업 샘플링\n",
    "    forward filling: 앞의 데이터를 그대로 사용\n",
    "    backward filling: 뒤의 데이터를 당겨서 사용"
   ]
  },
  {
   "cell_type": "code",
   "execution_count": 118,
   "id": "b292f3bf",
   "metadata": {},
   "outputs": [
    {
     "data": {
      "text/plain": [
       "2023-01-01 00:00:00   -0.440923\n",
       "2023-01-01 00:00:30   -0.280355\n",
       "2023-01-01 00:01:00   -0.280355\n",
       "2023-01-01 00:01:30   -0.364694\n",
       "2023-01-01 00:02:00   -0.364694\n",
       "2023-01-01 00:02:30    0.156704\n",
       "2023-01-01 00:03:00    0.156704\n",
       "2023-01-01 00:03:30    0.578521\n",
       "2023-01-01 00:04:00    0.578521\n",
       "2023-01-01 00:04:30    0.349654\n",
       "Freq: 30S, dtype: float64"
      ]
     },
     "execution_count": 118,
     "metadata": {},
     "output_type": "execute_result"
    }
   ],
   "source": [
    "ts.head()\n",
    "ts.resample('30s').ffill().head(10)\n",
    "ts.resample('30s').bfill().head(10)"
   ]
  },
  {
   "cell_type": "code",
   "execution_count": null,
   "id": "f7650e63",
   "metadata": {},
   "outputs": [],
   "source": []
  },
  {
   "cell_type": "code",
   "execution_count": null,
   "id": "1e8f9052",
   "metadata": {},
   "outputs": [],
   "source": []
  },
  {
   "cell_type": "code",
   "execution_count": null,
   "id": "19be688d",
   "metadata": {},
   "outputs": [],
   "source": []
  }
 ],
 "metadata": {
  "kernelspec": {
   "display_name": "Python 3 (ipykernel)",
   "language": "python",
   "name": "python3"
  },
  "language_info": {
   "codemirror_mode": {
    "name": "ipython",
    "version": 3
   },
   "file_extension": ".py",
   "mimetype": "text/x-python",
   "name": "python",
   "nbconvert_exporter": "python",
   "pygments_lexer": "ipython3",
   "version": "3.9.13"
  }
 },
 "nbformat": 4,
 "nbformat_minor": 5
}
